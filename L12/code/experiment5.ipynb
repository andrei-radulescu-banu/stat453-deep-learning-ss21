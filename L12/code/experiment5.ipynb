{
  "cells": [
    {
      "cell_type": "markdown",
      "metadata": {
        "id": "view-in-github",
        "colab_type": "text"
      },
      "source": [
        "<a href=\"https://colab.research.google.com/github/andrei-radulescu-banu/stat453-deep-learning-ss21/blob/main/L12/code/experiment5.ipynb\" target=\"_parent\"><img src=\"https://colab.research.google.com/assets/colab-badge.svg\" alt=\"Open In Colab\"/></a>"
      ]
    },
    {
      "cell_type": "markdown",
      "metadata": {
        "id": "iHlEJZV_7gHR"
      },
      "source": [
        "STAT 453: Deep Learning (Spring 2021)  \n",
        "Instructor: Sebastian Raschka (sraschka@wisc.edu)  \n",
        "\n",
        "Course website: http://pages.stat.wisc.edu/~sraschka/teaching/stat453-ss2021/  \n",
        "GitHub repository: https://github.com/rasbt/stat453-deep-learning-ss21\n",
        "\n",
        "---"
      ]
    },
    {
      "cell_type": "code",
      "source": [
        "!pip install watermark\n",
        "!pip install colab-env --upgrade\n",
        "import colab_env\n",
        "colab_env.envvar_handler.add_env(\"CUBLAS_WORKSPACE_CONFIG\", \":4096:8\", overwrite=True)"
      ],
      "metadata": {
        "colab": {
          "base_uri": "https://localhost:8080/"
        },
        "id": "RNHO2lM57h_h",
        "outputId": "d53b6c34-4f13-4da2-ea35-2cda500c3c24"
      },
      "execution_count": 1,
      "outputs": [
        {
          "output_type": "stream",
          "name": "stdout",
          "text": [
            "Looking in indexes: https://pypi.org/simple, https://us-python.pkg.dev/colab-wheels/public/simple/\n",
            "Collecting watermark\n",
            "  Downloading watermark-2.3.1-py2.py3-none-any.whl (7.2 kB)\n",
            "Requirement already satisfied: ipython in /usr/local/lib/python3.7/dist-packages (from watermark) (7.9.0)\n",
            "Requirement already satisfied: importlib-metadata>=1.4 in /usr/local/lib/python3.7/dist-packages (from watermark) (4.13.0)\n",
            "Requirement already satisfied: zipp>=0.5 in /usr/local/lib/python3.7/dist-packages (from importlib-metadata>=1.4->watermark) (3.10.0)\n",
            "Requirement already satisfied: typing-extensions>=3.6.4 in /usr/local/lib/python3.7/dist-packages (from importlib-metadata>=1.4->watermark) (4.1.1)\n",
            "Collecting jedi>=0.10\n",
            "  Downloading jedi-0.18.1-py2.py3-none-any.whl (1.6 MB)\n",
            "\u001b[K     |████████████████████████████████| 1.6 MB 30.4 MB/s \n",
            "\u001b[?25hRequirement already satisfied: setuptools>=18.5 in /usr/local/lib/python3.7/dist-packages (from ipython->watermark) (57.4.0)\n",
            "Requirement already satisfied: pexpect in /usr/local/lib/python3.7/dist-packages (from ipython->watermark) (4.8.0)\n",
            "Requirement already satisfied: decorator in /usr/local/lib/python3.7/dist-packages (from ipython->watermark) (4.4.2)\n",
            "Requirement already satisfied: backcall in /usr/local/lib/python3.7/dist-packages (from ipython->watermark) (0.2.0)\n",
            "Requirement already satisfied: prompt-toolkit<2.1.0,>=2.0.0 in /usr/local/lib/python3.7/dist-packages (from ipython->watermark) (2.0.10)\n",
            "Requirement already satisfied: traitlets>=4.2 in /usr/local/lib/python3.7/dist-packages (from ipython->watermark) (5.1.1)\n",
            "Requirement already satisfied: pickleshare in /usr/local/lib/python3.7/dist-packages (from ipython->watermark) (0.7.5)\n",
            "Requirement already satisfied: pygments in /usr/local/lib/python3.7/dist-packages (from ipython->watermark) (2.6.1)\n",
            "Requirement already satisfied: parso<0.9.0,>=0.8.0 in /usr/local/lib/python3.7/dist-packages (from jedi>=0.10->ipython->watermark) (0.8.3)\n",
            "Requirement already satisfied: wcwidth in /usr/local/lib/python3.7/dist-packages (from prompt-toolkit<2.1.0,>=2.0.0->ipython->watermark) (0.2.5)\n",
            "Requirement already satisfied: six>=1.9.0 in /usr/local/lib/python3.7/dist-packages (from prompt-toolkit<2.1.0,>=2.0.0->ipython->watermark) (1.15.0)\n",
            "Requirement already satisfied: ptyprocess>=0.5 in /usr/local/lib/python3.7/dist-packages (from pexpect->ipython->watermark) (0.7.0)\n",
            "Installing collected packages: jedi, watermark\n",
            "Successfully installed jedi-0.18.1 watermark-2.3.1\n",
            "Looking in indexes: https://pypi.org/simple, https://us-python.pkg.dev/colab-wheels/public/simple/\n",
            "Collecting colab-env\n",
            "  Downloading colab-env-0.2.0.tar.gz (4.7 kB)\n",
            "Collecting python-dotenv<1.0,>=0.10.0\n",
            "  Downloading python_dotenv-0.21.0-py3-none-any.whl (18 kB)\n",
            "Building wheels for collected packages: colab-env\n",
            "  Building wheel for colab-env (setup.py) ... \u001b[?25l\u001b[?25hdone\n",
            "  Created wheel for colab-env: filename=colab_env-0.2.0-py3-none-any.whl size=3838 sha256=0c0935ea74367e90ef8a69642ccd7d6e3461bbd2404efbd6184bd1d645cd5f2d\n",
            "  Stored in directory: /root/.cache/pip/wheels/bb/ca/e8/3d25b6abb4ac719ecb9e837bb75f2a9b980430005fb12a9107\n",
            "Successfully built colab-env\n",
            "Installing collected packages: python-dotenv, colab-env\n",
            "Successfully installed colab-env-0.2.0 python-dotenv-0.21.0\n",
            "Mounted at /content/gdrive\n"
          ]
        }
      ]
    },
    {
      "cell_type": "code",
      "execution_count": 2,
      "metadata": {
        "colab": {
          "base_uri": "https://localhost:8080/"
        },
        "id": "F09s_gZB7gHT",
        "outputId": "496f3a28-68a0-4206-f1c0-b710491381d2"
      },
      "outputs": [
        {
          "output_type": "stream",
          "name": "stdout",
          "text": [
            "Author: Andrei R-B\n",
            "\n",
            "Python implementation: CPython\n",
            "Python version       : 3.7.15\n",
            "IPython version      : 7.9.0\n",
            "\n",
            "torch: 1.12.1+cu113\n",
            "\n"
          ]
        }
      ],
      "source": [
        "%load_ext watermark\n",
        "%watermark -a 'Andrei R-B' -v -p torch"
      ]
    },
    {
      "cell_type": "markdown",
      "metadata": {
        "id": "zTEkqvTB7gHU"
      },
      "source": [
        "# MLP with Dropout "
      ]
    },
    {
      "cell_type": "markdown",
      "metadata": {
        "id": "wIIILBpg7gHW"
      },
      "source": [
        "## Imports"
      ]
    },
    {
      "cell_type": "code",
      "source": [
        "!git clone https://github.com/andrei-radulescu-banu/stat453-deep-learning-ss21.git"
      ],
      "metadata": {
        "colab": {
          "base_uri": "https://localhost:8080/"
        },
        "id": "Ff8nXN8l8mpP",
        "outputId": "e9514eba-3a6a-4786-81da-35b8a957ea3a"
      },
      "execution_count": 3,
      "outputs": [
        {
          "output_type": "stream",
          "name": "stdout",
          "text": [
            "Cloning into 'stat453-deep-learning-ss21'...\n",
            "remote: Enumerating objects: 1163, done.\u001b[K\n",
            "remote: Counting objects: 100% (113/113), done.\u001b[K\n",
            "remote: Compressing objects: 100% (94/94), done.\u001b[K\n",
            "remote: Total 1163 (delta 58), reused 4 (delta 4), pack-reused 1050\u001b[K\n",
            "Receiving objects: 100% (1163/1163), 114.98 MiB | 14.03 MiB/s, done.\n",
            "Resolving deltas: 100% (162/162), done.\n"
          ]
        }
      ]
    },
    {
      "cell_type": "code",
      "source": [
        "!ls /content/stat453-deep-learning-ss21/L12/code"
      ],
      "metadata": {
        "colab": {
          "base_uri": "https://localhost:8080/"
        },
        "id": "EErAtgma8_lF",
        "outputId": "86f85102-af97-47e3-8f7f-96ebb8cf9a9d"
      },
      "execution_count": 4,
      "outputs": [
        {
          "output_type": "stream",
          "name": "stdout",
          "text": [
            "adabelief.ipynb\t\tadamW.ipynb\t      helper_plotting.py\n",
            "adam-experiment1.ipynb\tbatchsize-1024.ipynb  helper_train.py\n",
            "adam-experiment2.ipynb\tbatchsize-64.ipynb    scheduler.ipynb\n",
            "adam-experiment3.ipynb\texperiment5.ipynb     sgd-scheduler-momentum.ipynb\n",
            "adam-experiment4.ipynb\thelper_dataset.py\n",
            "adam.ipynb\t\thelper_evaluation.py\n"
          ]
        }
      ]
    },
    {
      "cell_type": "code",
      "source": [
        "import sys, os\n",
        "sys.path.append(\"/content/stat453-deep-learning-ss21/L12/code\")"
      ],
      "metadata": {
        "id": "2x46NXqe8zT6"
      },
      "execution_count": 5,
      "outputs": []
    },
    {
      "cell_type": "code",
      "execution_count": 6,
      "metadata": {
        "id": "K5aml8_h7gHX"
      },
      "outputs": [],
      "source": [
        "import torch\n",
        "import numpy as np\n",
        "import matplotlib.pyplot as plt"
      ]
    },
    {
      "cell_type": "code",
      "source": [
        "from torchvision import datasets\n",
        "import torchvision\n",
        "import random\n",
        "from torch.utils.data import DataLoader\n",
        "from torch.utils.data import SubsetRandomSampler\n",
        "import torch.nn.functional as F\n",
        "import torch\n",
        "import PIL"
      ],
      "metadata": {
        "id": "CmgIlBYtoElW"
      },
      "execution_count": 59,
      "outputs": []
    },
    {
      "cell_type": "code",
      "execution_count": 7,
      "metadata": {
        "id": "23vDzvU07gHY"
      },
      "outputs": [],
      "source": [
        "# From local helper files\n",
        "from helper_evaluation import set_all_seeds, set_deterministic\n",
        "from helper_train import train_model\n",
        "from helper_plotting import plot_training_loss, plot_accuracy, show_examples\n",
        "from helper_dataset import get_dataloaders_mnist"
      ]
    },
    {
      "cell_type": "markdown",
      "metadata": {
        "id": "bcuISZOk7gHY"
      },
      "source": [
        "## Settings and Dataset"
      ]
    },
    {
      "cell_type": "code",
      "execution_count": 48,
      "metadata": {
        "id": "ivwTurbs7gHZ"
      },
      "outputs": [],
      "source": [
        "##########################\n",
        "### SETTINGS\n",
        "##########################\n",
        "\n",
        "RANDOM_SEED = 123\n",
        "BATCH_SIZE = 256\n",
        "NUM_HIDDEN_1 = 75\n",
        "NUM_HIDDEN_2 = 45\n",
        "NUM_EPOCHS = 100\n",
        "DEVICE = torch.device('cuda:0' if torch.cuda.is_available() else 'cpu')"
      ]
    },
    {
      "cell_type": "code",
      "execution_count": 84,
      "metadata": {
        "id": "oWiU03-J7gHa"
      },
      "outputs": [],
      "source": [
        "set_all_seeds(RANDOM_SEED)\n",
        "set_deterministic()"
      ]
    },
    {
      "cell_type": "code",
      "source": [
        "##########################\n",
        "### MNIST DATASET\n",
        "##########################\n",
        "\n",
        "# Note transforms.ToTensor() scales input images\n",
        "# to 0-1 range\n",
        "\n",
        "training_transforms = torchvision.transforms.Compose([\n",
        "    torchvision.transforms.Resize(size=(32, 32)),\n",
        "    torchvision.transforms.RandomCrop(size=(28, 28)),\n",
        "#    torchvision.transforms.RandomRotation(degrees=30),\n",
        "    torchvision.transforms.RandomAffine(degrees=30),\n",
        "    torchvision.transforms.ToTensor(),\n",
        "    torchvision.transforms.Normalize(mean=(0.5,), std=(0.5,)),\n",
        "    # normalize does (x_i - mean) / std\n",
        "    # if images are [0, 1], they will be [-1, 1] afterwards\n",
        "])\n",
        "\n",
        "valid_transforms = torchvision.transforms.Compose([\n",
        "    torchvision.transforms.ToTensor(),\n",
        "    torchvision.transforms.Resize(size=(32, 32)),\n",
        "    torchvision.transforms.CenterCrop(size=(28, 28)),\n",
        "    torchvision.transforms.Normalize(mean=(0.5,), std=(0.5,)),\n",
        "])\n",
        "\n",
        "# for more see\n",
        "# https://pytorch.org/docs/stable/torchvision/transforms.html"
      ],
      "metadata": {
        "id": "ld6MM3cqoGTm"
      },
      "execution_count": 82,
      "outputs": []
    },
    {
      "cell_type": "code",
      "source": [
        "##########################\n",
        "### MNIST DATASET\n",
        "##########################\n",
        "\n",
        "train_loader, valid_loader, test_loader = get_dataloaders_mnist(\n",
        "    batch_size=BATCH_SIZE,\n",
        "    validation_fraction=0.1,\n",
        "    train_transforms=training_transforms,\n",
        "    test_transforms=validation_transforms)\n",
        "\n",
        "# Checking the dataset\n",
        "for images, labels in train_loader:  \n",
        "    print('Image batch dimensions:', images.shape)\n",
        "    print('Image label dimensions:', labels.shape)\n",
        "    print('Class labels of 10 examples:', labels[:10])\n",
        "    break\n",
        "\n",
        "num_images = 10\n",
        "fig, ax = plt.subplots(1, num_images)\n",
        "for i in range(num_images):\n",
        "    ax[i].imshow(images[i].view(28, 28).numpy(), cmap='binary')\n",
        "\n",
        "plt.show()\n",
        "\n",
        "for images, labels in valid_loader:  \n",
        "    print('Image batch dimensions:', images.shape)\n",
        "    print('Image label dimensions:', labels.shape)\n",
        "    print('Class labels of 10 examples:', labels[:10])\n",
        "    break\n",
        "\n",
        "num_images = 10\n",
        "fig, ax = plt.subplots(1, num_images)\n",
        "for i in range(num_images):\n",
        "    ax[i].imshow(images[i].view(28, 28).numpy(), cmap='binary')\n",
        "\n",
        "plt.show()"
      ],
      "metadata": {
        "colab": {
          "base_uri": "https://localhost:8080/",
          "height": 253
        },
        "id": "7fVDcpgJ1KXq",
        "outputId": "99337a55-6c95-437b-8d79-0c7d2b2601ea"
      },
      "execution_count": 85,
      "outputs": [
        {
          "output_type": "stream",
          "name": "stdout",
          "text": [
            "Image batch dimensions: torch.Size([256, 1, 28, 28])\n",
            "Image label dimensions: torch.Size([256])\n",
            "Class labels of 10 examples: tensor([4, 5, 8, 9, 9, 4, 9, 9, 3, 9])\n"
          ]
        },
        {
          "output_type": "display_data",
          "data": {
            "text/plain": [
              "<Figure size 432x288 with 10 Axes>"
            ],
            "image/png": "[encoded data removed]"
          },
          "metadata": {
            "needs_background": "light"
          }
        },
        {
          "output_type": "stream",
          "name": "stdout",
          "text": [
            "Image batch dimensions: torch.Size([256, 1, 28, 28])\n",
            "Image label dimensions: torch.Size([256])\n",
            "Class labels of 10 examples: tensor([4, 2, 9, 9, 8, 6, 8, 8, 9, 3])\n"
          ]
        },
        {
          "output_type": "display_data",
          "data": {
            "text/plain": [
              "<Figure size 432x288 with 10 Axes>"
            ],
            "image/png": "[encoded data removed]"
          },
          "metadata": {
            "needs_background": "light"
          }
        }
      ]
    },
    {
      "cell_type": "markdown",
      "metadata": {
        "id": "A5ZJgs3p7gHc"
      },
      "source": [
        "## Model"
      ]
    },
    {
      "cell_type": "code",
      "execution_count": 86,
      "metadata": {
        "id": "0vTyYwRb7gHd"
      },
      "outputs": [],
      "source": [
        "class MultilayerPerceptron(torch.nn.Module):\n",
        "\n",
        "    def __init__(self, num_features, num_classes, drop_proba, \n",
        "                 num_hidden_1, num_hidden_2):\n",
        "        super().__init__()\n",
        "        \n",
        "        self.my_network = torch.nn.Sequential(\n",
        "            # 1st hidden layer\n",
        "            torch.nn.Flatten(),\n",
        "            torch.nn.Linear(num_features, num_hidden_1, bias=False),\n",
        "            torch.nn.BatchNorm1d(num_hidden_1),\n",
        "            torch.nn.ReLU(),\n",
        "            torch.nn.Dropout(0.5),\n",
        "            # 2nd hidden layer\n",
        "            torch.nn.Linear(num_hidden_1, num_hidden_2, bias=False),\n",
        "            torch.nn.BatchNorm1d(num_hidden_2),\n",
        "            torch.nn.ReLU(),\n",
        "            torch.nn.Dropout(0.3),\n",
        "            # output layer\n",
        "            torch.nn.Linear(num_hidden_2, num_classes)\n",
        "        )\n",
        "           \n",
        "    def forward(self, x):\n",
        "        logits = self.my_network(x)\n",
        "        return logits"
      ]
    },
    {
      "cell_type": "code",
      "execution_count": 87,
      "metadata": {
        "colab": {
          "base_uri": "https://localhost:8080/",
          "height": 1000
        },
        "id": "uq4hazeR7gHd",
        "outputId": "ed56144a-f254-4e45-9cf0-4f3832de1cd3"
      },
      "outputs": [
        {
          "output_type": "stream",
          "name": "stdout",
          "text": [
            "Epoch: 001/100 | Batch 0000/0210 | Loss: 2.3465\n",
            "Epoch: 001/100 | Batch 0100/0210 | Loss: 1.1556\n",
            "Epoch: 001/100 | Batch 0200/0210 | Loss: 0.9301\n",
            "Epoch: 001/100 | Train: 77.73% | Validation: 90.68%\n",
            "Time elapsed: 0.69 min\n",
            "Epoch: 002/100 | Batch 0000/0210 | Loss: 0.9722\n",
            "Epoch: 002/100 | Batch 0100/0210 | Loss: 0.8959\n",
            "Epoch: 002/100 | Batch 0200/0210 | Loss: 0.8533\n",
            "Epoch: 002/100 | Train: 82.91% | Validation: 92.12%\n",
            "Time elapsed: 1.33 min\n",
            "Epoch: 003/100 | Batch 0000/0210 | Loss: 0.8809\n",
            "Epoch: 003/100 | Batch 0100/0210 | Loss: 0.9038\n",
            "Epoch: 003/100 | Batch 0200/0210 | Loss: 0.8632\n",
            "Epoch: 003/100 | Train: 85.66% | Validation: 94.20%\n",
            "Time elapsed: 1.95 min\n",
            "Epoch: 004/100 | Batch 0000/0210 | Loss: 0.7693\n",
            "Epoch: 004/100 | Batch 0100/0210 | Loss: 0.7737\n",
            "Epoch: 004/100 | Batch 0200/0210 | Loss: 0.6948\n",
            "Epoch: 004/100 | Train: 87.33% | Validation: 94.95%\n",
            "Time elapsed: 2.59 min\n",
            "Epoch: 005/100 | Batch 0000/0210 | Loss: 0.6363\n",
            "Epoch: 005/100 | Batch 0100/0210 | Loss: 0.8265\n",
            "Epoch: 005/100 | Batch 0200/0210 | Loss: 0.6940\n",
            "Epoch: 005/100 | Train: 88.08% | Validation: 95.18%\n",
            "Time elapsed: 3.22 min\n",
            "Epoch: 006/100 | Batch 0000/0210 | Loss: 0.8366\n",
            "Epoch: 006/100 | Batch 0100/0210 | Loss: 0.6098\n",
            "Epoch: 006/100 | Batch 0200/0210 | Loss: 0.6673\n",
            "Epoch: 006/100 | Train: 88.96% | Validation: 95.60%\n",
            "Time elapsed: 3.86 min\n",
            "Epoch: 007/100 | Batch 0000/0210 | Loss: 0.6699\n",
            "Epoch: 007/100 | Batch 0100/0210 | Loss: 0.6945\n",
            "Epoch: 007/100 | Batch 0200/0210 | Loss: 0.7119\n",
            "Epoch: 007/100 | Train: 89.44% | Validation: 95.67%\n",
            "Time elapsed: 4.49 min\n",
            "Epoch: 008/100 | Batch 0000/0210 | Loss: 0.7772\n",
            "Epoch: 008/100 | Batch 0100/0210 | Loss: 0.6366\n",
            "Epoch: 008/100 | Batch 0200/0210 | Loss: 0.6892\n",
            "Epoch: 008/100 | Train: 89.65% | Validation: 95.82%\n",
            "Time elapsed: 5.12 min\n",
            "Epoch: 009/100 | Batch 0000/0210 | Loss: 0.6383\n",
            "Epoch: 009/100 | Batch 0100/0210 | Loss: 0.6805\n",
            "Epoch: 009/100 | Batch 0200/0210 | Loss: 0.7095\n",
            "Epoch: 009/100 | Train: 89.55% | Validation: 95.70%\n",
            "Time elapsed: 5.76 min\n",
            "Epoch: 010/100 | Batch 0000/0210 | Loss: 0.6279\n",
            "Epoch: 010/100 | Batch 0100/0210 | Loss: 0.6772\n",
            "Epoch: 010/100 | Batch 0200/0210 | Loss: 0.6082\n",
            "Epoch: 010/100 | Train: 90.25% | Validation: 96.25%\n",
            "Time elapsed: 6.39 min\n",
            "Epoch: 011/100 | Batch 0000/0210 | Loss: 0.7208\n",
            "Epoch: 011/100 | Batch 0100/0210 | Loss: 0.6801\n",
            "Epoch: 011/100 | Batch 0200/0210 | Loss: 0.5705\n",
            "Epoch: 011/100 | Train: 90.35% | Validation: 96.18%\n",
            "Time elapsed: 7.03 min\n",
            "Epoch: 012/100 | Batch 0000/0210 | Loss: 0.6473\n",
            "Epoch: 012/100 | Batch 0100/0210 | Loss: 0.6375\n",
            "Epoch: 012/100 | Batch 0200/0210 | Loss: 0.5607\n",
            "Epoch: 012/100 | Train: 90.36% | Validation: 96.00%\n",
            "Time elapsed: 7.66 min\n",
            "Epoch 00012: reducing learning rate of group 0 to 1.0000e-02.\n",
            "Epoch: 013/100 | Batch 0000/0210 | Loss: 0.6366\n",
            "Epoch: 013/100 | Batch 0100/0210 | Loss: 0.5734\n",
            "Epoch: 013/100 | Batch 0200/0210 | Loss: 0.6126\n",
            "Epoch: 013/100 | Train: 90.81% | Validation: 96.25%\n",
            "Time elapsed: 8.29 min\n",
            "Epoch: 014/100 | Batch 0000/0210 | Loss: 0.4613\n",
            "Epoch: 014/100 | Batch 0100/0210 | Loss: 0.5370\n",
            "Epoch: 014/100 | Batch 0200/0210 | Loss: 0.6020\n",
            "Epoch: 014/100 | Train: 90.86% | Validation: 96.25%\n",
            "Time elapsed: 8.93 min\n",
            "Epoch: 015/100 | Batch 0000/0210 | Loss: 0.6172\n",
            "Epoch: 015/100 | Batch 0100/0210 | Loss: 0.6597\n",
            "Epoch: 015/100 | Batch 0200/0210 | Loss: 0.5686\n",
            "Epoch: 015/100 | Train: 91.04% | Validation: 96.32%\n",
            "Time elapsed: 9.56 min\n",
            "Epoch: 016/100 | Batch 0000/0210 | Loss: 0.6043\n",
            "Epoch: 016/100 | Batch 0100/0210 | Loss: 0.5999\n",
            "Epoch: 016/100 | Batch 0200/0210 | Loss: 0.6233\n",
            "Epoch: 016/100 | Train: 91.19% | Validation: 96.17%\n",
            "Time elapsed: 10.19 min\n",
            "Epoch: 017/100 | Batch 0000/0210 | Loss: 0.6986\n",
            "Epoch: 017/100 | Batch 0100/0210 | Loss: 0.5992\n",
            "Epoch: 017/100 | Batch 0200/0210 | Loss: 0.5654\n",
            "Epoch: 017/100 | Train: 91.38% | Validation: 96.53%\n",
            "Time elapsed: 10.82 min\n",
            "Epoch: 018/100 | Batch 0000/0210 | Loss: 0.4702\n",
            "Epoch: 018/100 | Batch 0100/0210 | Loss: 0.5771\n",
            "Epoch: 018/100 | Batch 0200/0210 | Loss: 0.7147\n",
            "Epoch: 018/100 | Train: 91.18% | Validation: 96.47%\n",
            "Time elapsed: 11.43 min\n",
            "Epoch: 019/100 | Batch 0000/0210 | Loss: 0.6704\n",
            "Epoch: 019/100 | Batch 0100/0210 | Loss: 0.6503\n",
            "Epoch: 019/100 | Batch 0200/0210 | Loss: 0.4909\n",
            "Epoch: 019/100 | Train: 91.08% | Validation: 96.48%\n",
            "Time elapsed: 12.05 min\n",
            "Epoch: 020/100 | Batch 0000/0210 | Loss: 0.6922\n",
            "Epoch: 020/100 | Batch 0100/0210 | Loss: 0.5066\n",
            "Epoch: 020/100 | Batch 0200/0210 | Loss: 0.5653\n",
            "Epoch: 020/100 | Train: 91.35% | Validation: 96.43%\n",
            "Time elapsed: 12.67 min\n",
            "Epoch: 021/100 | Batch 0000/0210 | Loss: 0.6209\n",
            "Epoch: 021/100 | Batch 0100/0210 | Loss: 0.6062\n",
            "Epoch: 021/100 | Batch 0200/0210 | Loss: 0.6228\n",
            "Epoch: 021/100 | Train: 91.14% | Validation: 96.47%\n",
            "Time elapsed: 13.30 min\n",
            "Epoch: 022/100 | Batch 0000/0210 | Loss: 0.6124\n",
            "Epoch: 022/100 | Batch 0100/0210 | Loss: 0.5291\n",
            "Epoch: 022/100 | Batch 0200/0210 | Loss: 0.6508\n",
            "Epoch: 022/100 | Train: 91.22% | Validation: 96.57%\n",
            "Time elapsed: 13.92 min\n",
            "Epoch: 023/100 | Batch 0000/0210 | Loss: 0.5734\n",
            "Epoch: 023/100 | Batch 0100/0210 | Loss: 0.6139\n",
            "Epoch: 023/100 | Batch 0200/0210 | Loss: 0.5770\n",
            "Epoch: 023/100 | Train: 91.31% | Validation: 96.58%\n",
            "Time elapsed: 14.54 min\n",
            "Epoch 00023: reducing learning rate of group 0 to 1.0000e-03.\n",
            "Epoch: 024/100 | Batch 0000/0210 | Loss: 0.5625\n",
            "Epoch: 024/100 | Batch 0100/0210 | Loss: 0.5500\n",
            "Epoch: 024/100 | Batch 0200/0210 | Loss: 0.6722\n",
            "Epoch: 024/100 | Train: 91.37% | Validation: 96.48%\n",
            "Time elapsed: 15.16 min\n",
            "Epoch: 025/100 | Batch 0000/0210 | Loss: 0.5672\n",
            "Epoch: 025/100 | Batch 0100/0210 | Loss: 0.6232\n",
            "Epoch: 025/100 | Batch 0200/0210 | Loss: 0.5979\n",
            "Epoch: 025/100 | Train: 91.39% | Validation: 96.47%\n",
            "Time elapsed: 15.78 min\n",
            "Epoch: 026/100 | Batch 0000/0210 | Loss: 0.5103\n",
            "Epoch: 026/100 | Batch 0100/0210 | Loss: 0.6035\n",
            "Epoch: 026/100 | Batch 0200/0210 | Loss: 0.5390\n",
            "Epoch: 026/100 | Train: 91.39% | Validation: 96.43%\n",
            "Time elapsed: 16.40 min\n",
            "Epoch: 027/100 | Batch 0000/0210 | Loss: 0.5407\n",
            "Epoch: 027/100 | Batch 0100/0210 | Loss: 0.5166\n",
            "Epoch: 027/100 | Batch 0200/0210 | Loss: 0.7217\n",
            "Epoch: 027/100 | Train: 91.47% | Validation: 96.42%\n",
            "Time elapsed: 17.01 min\n",
            "Epoch: 028/100 | Batch 0000/0210 | Loss: 0.6559\n",
            "Epoch: 028/100 | Batch 0100/0210 | Loss: 0.6171\n",
            "Epoch: 028/100 | Batch 0200/0210 | Loss: 0.5415\n",
            "Epoch: 028/100 | Train: 91.39% | Validation: 96.53%\n",
            "Time elapsed: 17.62 min\n",
            "Epoch: 029/100 | Batch 0000/0210 | Loss: 0.6274\n",
            "Epoch: 029/100 | Batch 0100/0210 | Loss: 0.6520\n",
            "Epoch: 029/100 | Batch 0200/0210 | Loss: 0.4759\n",
            "Epoch: 029/100 | Train: 91.14% | Validation: 96.53%\n",
            "Time elapsed: 18.25 min\n",
            "Epoch: 030/100 | Batch 0000/0210 | Loss: 0.7766\n",
            "Epoch: 030/100 | Batch 0100/0210 | Loss: 0.5678\n",
            "Epoch: 030/100 | Batch 0200/0210 | Loss: 0.5837\n",
            "Epoch: 030/100 | Train: 91.48% | Validation: 96.43%\n",
            "Time elapsed: 18.87 min\n",
            "Epoch: 031/100 | Batch 0000/0210 | Loss: 0.6225\n",
            "Epoch: 031/100 | Batch 0100/0210 | Loss: 0.6817\n",
            "Epoch: 031/100 | Batch 0200/0210 | Loss: 0.5409\n",
            "Epoch: 031/100 | Train: 91.42% | Validation: 96.55%\n",
            "Time elapsed: 19.50 min\n",
            "Epoch: 032/100 | Batch 0000/0210 | Loss: 0.5623\n",
            "Epoch: 032/100 | Batch 0100/0210 | Loss: 0.7306\n",
            "Epoch: 032/100 | Batch 0200/0210 | Loss: 0.6294\n",
            "Epoch: 032/100 | Train: 91.29% | Validation: 96.62%\n",
            "Time elapsed: 20.12 min\n",
            "Epoch: 033/100 | Batch 0000/0210 | Loss: 0.4495\n",
            "Epoch: 033/100 | Batch 0100/0210 | Loss: 0.6624\n",
            "Epoch: 033/100 | Batch 0200/0210 | Loss: 0.6231\n",
            "Epoch: 033/100 | Train: 91.29% | Validation: 96.57%\n",
            "Time elapsed: 20.73 min\n",
            "Epoch: 034/100 | Batch 0000/0210 | Loss: 0.5482\n",
            "Epoch: 034/100 | Batch 0100/0210 | Loss: 0.4934\n",
            "Epoch: 034/100 | Batch 0200/0210 | Loss: 0.5567\n",
            "Epoch: 034/100 | Train: 91.37% | Validation: 96.52%\n",
            "Time elapsed: 21.36 min\n",
            "Epoch 00034: reducing learning rate of group 0 to 1.0000e-04.\n",
            "Epoch: 035/100 | Batch 0000/0210 | Loss: 0.5874\n",
            "Epoch: 035/100 | Batch 0100/0210 | Loss: 0.6040\n",
            "Epoch: 035/100 | Batch 0200/0210 | Loss: 0.4935\n",
            "Epoch: 035/100 | Train: 91.12% | Validation: 96.45%\n",
            "Time elapsed: 21.97 min\n",
            "Epoch: 036/100 | Batch 0000/0210 | Loss: 0.6003\n",
            "Epoch: 036/100 | Batch 0100/0210 | Loss: 0.5411\n",
            "Epoch: 036/100 | Batch 0200/0210 | Loss: 0.5339\n",
            "Epoch: 036/100 | Train: 91.33% | Validation: 96.53%\n",
            "Time elapsed: 22.59 min\n",
            "Epoch: 037/100 | Batch 0000/0210 | Loss: 0.6487\n",
            "Epoch: 037/100 | Batch 0100/0210 | Loss: 0.5915\n",
            "Epoch: 037/100 | Batch 0200/0210 | Loss: 0.7670\n",
            "Epoch: 037/100 | Train: 91.24% | Validation: 96.43%\n",
            "Time elapsed: 23.21 min\n",
            "Epoch: 038/100 | Batch 0000/0210 | Loss: 0.5504\n",
            "Epoch: 038/100 | Batch 0100/0210 | Loss: 0.5520\n",
            "Epoch: 038/100 | Batch 0200/0210 | Loss: 0.6703\n",
            "Epoch: 038/100 | Train: 91.25% | Validation: 96.43%\n",
            "Time elapsed: 23.82 min\n",
            "Epoch: 039/100 | Batch 0000/0210 | Loss: 0.6380\n",
            "Epoch: 039/100 | Batch 0100/0210 | Loss: 0.7201\n",
            "Epoch: 039/100 | Batch 0200/0210 | Loss: 0.5108\n",
            "Epoch: 039/100 | Train: 91.45% | Validation: 96.53%\n",
            "Time elapsed: 24.45 min\n",
            "Epoch: 040/100 | Batch 0000/0210 | Loss: 0.6504\n",
            "Epoch: 040/100 | Batch 0100/0210 | Loss: 0.6221\n",
            "Epoch: 040/100 | Batch 0200/0210 | Loss: 0.5134\n",
            "Epoch: 040/100 | Train: 91.44% | Validation: 96.52%\n",
            "Time elapsed: 25.06 min\n",
            "Epoch: 041/100 | Batch 0000/0210 | Loss: 0.5055\n",
            "Epoch: 041/100 | Batch 0100/0210 | Loss: 0.5896\n",
            "Epoch: 041/100 | Batch 0200/0210 | Loss: 0.5908\n",
            "Epoch: 041/100 | Train: 91.22% | Validation: 96.50%\n",
            "Time elapsed: 25.68 min\n",
            "Epoch: 042/100 | Batch 0000/0210 | Loss: 0.5057\n",
            "Epoch: 042/100 | Batch 0100/0210 | Loss: 0.5771\n",
            "Epoch: 042/100 | Batch 0200/0210 | Loss: 0.6833\n",
            "Epoch: 042/100 | Train: 91.43% | Validation: 96.50%\n",
            "Time elapsed: 26.31 min\n",
            "Epoch: 043/100 | Batch 0000/0210 | Loss: 0.6637\n",
            "Epoch: 043/100 | Batch 0100/0210 | Loss: 0.6123\n",
            "Epoch: 043/100 | Batch 0200/0210 | Loss: 0.5958\n",
            "Epoch: 043/100 | Train: 91.33% | Validation: 96.47%\n",
            "Time elapsed: 26.92 min\n",
            "Epoch: 044/100 | Batch 0000/0210 | Loss: 0.6157\n",
            "Epoch: 044/100 | Batch 0100/0210 | Loss: 0.5926\n",
            "Epoch: 044/100 | Batch 0200/0210 | Loss: 0.5563\n",
            "Epoch: 044/100 | Train: 91.56% | Validation: 96.50%\n",
            "Time elapsed: 27.53 min\n",
            "Epoch: 045/100 | Batch 0000/0210 | Loss: 0.6696\n",
            "Epoch: 045/100 | Batch 0100/0210 | Loss: 0.5224\n",
            "Epoch: 045/100 | Batch 0200/0210 | Loss: 0.5342\n",
            "Epoch: 045/100 | Train: 91.56% | Validation: 96.57%\n",
            "Time elapsed: 28.15 min\n",
            "Epoch 00045: reducing learning rate of group 0 to 1.0000e-05.\n",
            "Epoch: 046/100 | Batch 0000/0210 | Loss: 0.6193\n",
            "Epoch: 046/100 | Batch 0100/0210 | Loss: 0.5876\n",
            "Epoch: 046/100 | Batch 0200/0210 | Loss: 0.5219\n",
            "Epoch: 046/100 | Train: 91.42% | Validation: 96.52%\n",
            "Time elapsed: 28.77 min\n",
            "Epoch: 047/100 | Batch 0000/0210 | Loss: 0.4172\n",
            "Epoch: 047/100 | Batch 0100/0210 | Loss: 0.5401\n",
            "Epoch: 047/100 | Batch 0200/0210 | Loss: 0.5788\n",
            "Epoch: 047/100 | Train: 91.40% | Validation: 96.53%\n",
            "Time elapsed: 29.39 min\n",
            "Epoch: 048/100 | Batch 0000/0210 | Loss: 0.6922\n",
            "Epoch: 048/100 | Batch 0100/0210 | Loss: 0.6254\n",
            "Epoch: 048/100 | Batch 0200/0210 | Loss: 0.6107\n",
            "Epoch: 048/100 | Train: 91.29% | Validation: 96.53%\n",
            "Time elapsed: 30.01 min\n",
            "Epoch: 049/100 | Batch 0000/0210 | Loss: 0.5885\n",
            "Epoch: 049/100 | Batch 0100/0210 | Loss: 0.5045\n",
            "Epoch: 049/100 | Batch 0200/0210 | Loss: 0.6917\n",
            "Epoch: 049/100 | Train: 91.51% | Validation: 96.52%\n",
            "Time elapsed: 30.62 min\n",
            "Epoch: 050/100 | Batch 0000/0210 | Loss: 0.5667\n",
            "Epoch: 050/100 | Batch 0100/0210 | Loss: 0.6041\n",
            "Epoch: 050/100 | Batch 0200/0210 | Loss: 0.5734\n",
            "Epoch: 050/100 | Train: 91.43% | Validation: 96.58%\n",
            "Time elapsed: 31.23 min\n",
            "Epoch: 051/100 | Batch 0000/0210 | Loss: 0.5476\n",
            "Epoch: 051/100 | Batch 0100/0210 | Loss: 0.6526\n",
            "Epoch: 051/100 | Batch 0200/0210 | Loss: 0.6596\n",
            "Epoch: 051/100 | Train: 91.30% | Validation: 96.48%\n",
            "Time elapsed: 31.84 min\n",
            "Epoch: 052/100 | Batch 0000/0210 | Loss: 0.4651\n",
            "Epoch: 052/100 | Batch 0100/0210 | Loss: 0.6017\n",
            "Epoch: 052/100 | Batch 0200/0210 | Loss: 0.6919\n",
            "Epoch: 052/100 | Train: 91.45% | Validation: 96.48%\n",
            "Time elapsed: 32.46 min\n",
            "Epoch: 053/100 | Batch 0000/0210 | Loss: 0.5849\n",
            "Epoch: 053/100 | Batch 0100/0210 | Loss: 0.5550\n",
            "Epoch: 053/100 | Batch 0200/0210 | Loss: 0.5162\n",
            "Epoch: 053/100 | Train: 91.37% | Validation: 96.43%\n",
            "Time elapsed: 33.08 min\n",
            "Epoch: 054/100 | Batch 0000/0210 | Loss: 0.8266\n",
            "Epoch: 054/100 | Batch 0100/0210 | Loss: 0.4218\n",
            "Epoch: 054/100 | Batch 0200/0210 | Loss: 0.5271\n",
            "Epoch: 054/100 | Train: 91.35% | Validation: 96.48%\n",
            "Time elapsed: 33.70 min\n",
            "Epoch: 055/100 | Batch 0000/0210 | Loss: 0.5886\n",
            "Epoch: 055/100 | Batch 0100/0210 | Loss: 0.6551\n",
            "Epoch: 055/100 | Batch 0200/0210 | Loss: 0.5771\n",
            "Epoch: 055/100 | Train: 91.44% | Validation: 96.57%\n",
            "Time elapsed: 34.31 min\n",
            "Epoch: 056/100 | Batch 0000/0210 | Loss: 0.4817\n",
            "Epoch: 056/100 | Batch 0100/0210 | Loss: 0.5143\n",
            "Epoch: 056/100 | Batch 0200/0210 | Loss: 0.6002\n",
            "Epoch: 056/100 | Train: 91.40% | Validation: 96.42%\n",
            "Time elapsed: 34.92 min\n",
            "Epoch 00056: reducing learning rate of group 0 to 1.0000e-06.\n",
            "Epoch: 057/100 | Batch 0000/0210 | Loss: 0.6385\n",
            "Epoch: 057/100 | Batch 0100/0210 | Loss: 0.6393\n",
            "Epoch: 057/100 | Batch 0200/0210 | Loss: 0.7265\n",
            "Epoch: 057/100 | Train: 91.34% | Validation: 96.52%\n",
            "Time elapsed: 35.54 min\n",
            "Epoch: 058/100 | Batch 0000/0210 | Loss: 0.5252\n",
            "Epoch: 058/100 | Batch 0100/0210 | Loss: 0.5693\n",
            "Epoch: 058/100 | Batch 0200/0210 | Loss: 0.4878\n",
            "Epoch: 058/100 | Train: 91.46% | Validation: 96.58%\n",
            "Time elapsed: 36.15 min\n",
            "Epoch: 059/100 | Batch 0000/0210 | Loss: 0.5529\n",
            "Epoch: 059/100 | Batch 0100/0210 | Loss: 0.6168\n",
            "Epoch: 059/100 | Batch 0200/0210 | Loss: 0.5515\n",
            "Epoch: 059/100 | Train: 91.55% | Validation: 96.52%\n",
            "Time elapsed: 36.76 min\n",
            "Epoch: 060/100 | Batch 0000/0210 | Loss: 0.5710\n",
            "Epoch: 060/100 | Batch 0100/0210 | Loss: 0.5427\n",
            "Epoch: 060/100 | Batch 0200/0210 | Loss: 0.7162\n",
            "Epoch: 060/100 | Train: 91.48% | Validation: 96.57%\n",
            "Time elapsed: 37.37 min\n",
            "Epoch: 061/100 | Batch 0000/0210 | Loss: 0.5785\n",
            "Epoch: 061/100 | Batch 0100/0210 | Loss: 0.6218\n",
            "Epoch: 061/100 | Batch 0200/0210 | Loss: 0.6567\n",
            "Epoch: 061/100 | Train: 91.49% | Validation: 96.57%\n",
            "Time elapsed: 37.98 min\n",
            "Epoch: 062/100 | Batch 0000/0210 | Loss: 0.6279\n",
            "Epoch: 062/100 | Batch 0100/0210 | Loss: 0.5254\n",
            "Epoch: 062/100 | Batch 0200/0210 | Loss: 0.4905\n",
            "Epoch: 062/100 | Train: 91.53% | Validation: 96.53%\n",
            "Time elapsed: 38.59 min\n",
            "Epoch: 063/100 | Batch 0000/0210 | Loss: 0.5212\n",
            "Epoch: 063/100 | Batch 0100/0210 | Loss: 0.6415\n",
            "Epoch: 063/100 | Batch 0200/0210 | Loss: 0.5488\n",
            "Epoch: 063/100 | Train: 91.42% | Validation: 96.35%\n",
            "Time elapsed: 39.21 min\n",
            "Epoch: 064/100 | Batch 0000/0210 | Loss: 0.6339\n",
            "Epoch: 064/100 | Batch 0100/0210 | Loss: 0.5656\n",
            "Epoch: 064/100 | Batch 0200/0210 | Loss: 0.5064\n",
            "Epoch: 064/100 | Train: 91.50% | Validation: 96.57%\n",
            "Time elapsed: 39.82 min\n",
            "Epoch: 065/100 | Batch 0000/0210 | Loss: 0.6015\n",
            "Epoch: 065/100 | Batch 0100/0210 | Loss: 0.6241\n",
            "Epoch: 065/100 | Batch 0200/0210 | Loss: 0.6628\n",
            "Epoch: 065/100 | Train: 91.36% | Validation: 96.52%\n",
            "Time elapsed: 40.44 min\n",
            "Epoch: 066/100 | Batch 0000/0210 | Loss: 0.6548\n",
            "Epoch: 066/100 | Batch 0100/0210 | Loss: 0.6358\n",
            "Epoch: 066/100 | Batch 0200/0210 | Loss: 0.4989\n",
            "Epoch: 066/100 | Train: 91.32% | Validation: 96.43%\n",
            "Time elapsed: 41.05 min\n",
            "Epoch: 067/100 | Batch 0000/0210 | Loss: 0.6577\n",
            "Epoch: 067/100 | Batch 0100/0210 | Loss: 0.4730\n",
            "Epoch: 067/100 | Batch 0200/0210 | Loss: 0.6320\n",
            "Epoch: 067/100 | Train: 91.30% | Validation: 96.48%\n",
            "Time elapsed: 41.66 min\n",
            "Epoch 00067: reducing learning rate of group 0 to 1.0000e-07.\n",
            "Epoch: 068/100 | Batch 0000/0210 | Loss: 0.6277\n",
            "Epoch: 068/100 | Batch 0100/0210 | Loss: 0.5463\n",
            "Epoch: 068/100 | Batch 0200/0210 | Loss: 0.6511\n",
            "Epoch: 068/100 | Train: 91.32% | Validation: 96.57%\n",
            "Time elapsed: 42.27 min\n",
            "Epoch: 069/100 | Batch 0000/0210 | Loss: 0.6219\n",
            "Epoch: 069/100 | Batch 0100/0210 | Loss: 0.6200\n",
            "Epoch: 069/100 | Batch 0200/0210 | Loss: 0.6460\n",
            "Epoch: 069/100 | Train: 91.53% | Validation: 96.52%\n",
            "Time elapsed: 42.89 min\n",
            "Epoch: 070/100 | Batch 0000/0210 | Loss: 0.6450\n",
            "Epoch: 070/100 | Batch 0100/0210 | Loss: 0.5194\n",
            "Epoch: 070/100 | Batch 0200/0210 | Loss: 0.5812\n",
            "Epoch: 070/100 | Train: 91.36% | Validation: 96.60%\n",
            "Time elapsed: 43.51 min\n",
            "Epoch: 071/100 | Batch 0000/0210 | Loss: 0.6702\n",
            "Epoch: 071/100 | Batch 0100/0210 | Loss: 0.6114\n",
            "Epoch: 071/100 | Batch 0200/0210 | Loss: 0.6162\n",
            "Epoch: 071/100 | Train: 91.45% | Validation: 96.62%\n",
            "Time elapsed: 44.13 min\n",
            "Epoch: 072/100 | Batch 0000/0210 | Loss: 0.6605\n",
            "Epoch: 072/100 | Batch 0100/0210 | Loss: 0.4975\n",
            "Epoch: 072/100 | Batch 0200/0210 | Loss: 0.5277\n",
            "Epoch: 072/100 | Train: 91.53% | Validation: 96.52%\n",
            "Time elapsed: 44.75 min\n",
            "Epoch: 073/100 | Batch 0000/0210 | Loss: 0.5366\n",
            "Epoch: 073/100 | Batch 0100/0210 | Loss: 0.6885\n",
            "Epoch: 073/100 | Batch 0200/0210 | Loss: 0.6909\n",
            "Epoch: 073/100 | Train: 91.30% | Validation: 96.50%\n",
            "Time elapsed: 45.38 min\n",
            "Epoch: 074/100 | Batch 0000/0210 | Loss: 0.5582\n",
            "Epoch: 074/100 | Batch 0100/0210 | Loss: 0.5811\n",
            "Epoch: 074/100 | Batch 0200/0210 | Loss: 0.6568\n",
            "Epoch: 074/100 | Train: 91.53% | Validation: 96.47%\n",
            "Time elapsed: 46.00 min\n",
            "Epoch: 075/100 | Batch 0000/0210 | Loss: 0.6298\n",
            "Epoch: 075/100 | Batch 0100/0210 | Loss: 0.6378\n",
            "Epoch: 075/100 | Batch 0200/0210 | Loss: 0.6675\n",
            "Epoch: 075/100 | Train: 91.37% | Validation: 96.57%\n",
            "Time elapsed: 46.62 min\n",
            "Epoch: 076/100 | Batch 0000/0210 | Loss: 0.5924\n",
            "Epoch: 076/100 | Batch 0100/0210 | Loss: 0.5276\n",
            "Epoch: 076/100 | Batch 0200/0210 | Loss: 0.5103\n",
            "Epoch: 076/100 | Train: 91.50% | Validation: 96.53%\n",
            "Time elapsed: 47.25 min\n",
            "Epoch: 077/100 | Batch 0000/0210 | Loss: 0.6739\n",
            "Epoch: 077/100 | Batch 0100/0210 | Loss: 0.7174\n",
            "Epoch: 077/100 | Batch 0200/0210 | Loss: 0.4594\n",
            "Epoch: 077/100 | Train: 91.36% | Validation: 96.45%\n",
            "Time elapsed: 47.87 min\n",
            "Epoch: 078/100 | Batch 0000/0210 | Loss: 0.6446\n",
            "Epoch: 078/100 | Batch 0100/0210 | Loss: 0.4982\n",
            "Epoch: 078/100 | Batch 0200/0210 | Loss: 0.6357\n",
            "Epoch: 078/100 | Train: 91.34% | Validation: 96.48%\n",
            "Time elapsed: 48.49 min\n",
            "Epoch 00078: reducing learning rate of group 0 to 1.0000e-08.\n",
            "Epoch: 079/100 | Batch 0000/0210 | Loss: 0.5936\n",
            "Epoch: 079/100 | Batch 0100/0210 | Loss: 0.5444\n",
            "Epoch: 079/100 | Batch 0200/0210 | Loss: 0.5571\n",
            "Epoch: 079/100 | Train: 91.24% | Validation: 96.43%\n",
            "Time elapsed: 49.11 min\n",
            "Epoch: 080/100 | Batch 0000/0210 | Loss: 0.6443\n",
            "Epoch: 080/100 | Batch 0100/0210 | Loss: 0.4852\n",
            "Epoch: 080/100 | Batch 0200/0210 | Loss: 0.6272\n",
            "Epoch: 080/100 | Train: 91.36% | Validation: 96.52%\n",
            "Time elapsed: 49.72 min\n",
            "Epoch: 081/100 | Batch 0000/0210 | Loss: 0.5799\n",
            "Epoch: 081/100 | Batch 0100/0210 | Loss: 0.5276\n",
            "Epoch: 081/100 | Batch 0200/0210 | Loss: 0.5374\n",
            "Epoch: 081/100 | Train: 91.48% | Validation: 96.53%\n",
            "Time elapsed: 50.35 min\n",
            "Epoch: 082/100 | Batch 0000/0210 | Loss: 0.5821\n",
            "Epoch: 082/100 | Batch 0100/0210 | Loss: 0.5166\n",
            "Epoch: 082/100 | Batch 0200/0210 | Loss: 0.6325\n",
            "Epoch: 082/100 | Train: 91.43% | Validation: 96.62%\n",
            "Time elapsed: 50.97 min\n",
            "Epoch: 083/100 | Batch 0000/0210 | Loss: 0.6001\n",
            "Epoch: 083/100 | Batch 0100/0210 | Loss: 0.6582\n",
            "Epoch: 083/100 | Batch 0200/0210 | Loss: 0.6637\n",
            "Epoch: 083/100 | Train: 91.33% | Validation: 96.53%\n",
            "Time elapsed: 51.59 min\n",
            "Epoch: 084/100 | Batch 0000/0210 | Loss: 0.5891\n",
            "Epoch: 084/100 | Batch 0100/0210 | Loss: 0.4617\n",
            "Epoch: 084/100 | Batch 0200/0210 | Loss: 0.4878\n",
            "Epoch: 084/100 | Train: 91.41% | Validation: 96.38%\n",
            "Time elapsed: 52.21 min\n",
            "Epoch: 085/100 | Batch 0000/0210 | Loss: 0.5810\n",
            "Epoch: 085/100 | Batch 0100/0210 | Loss: 0.4985\n",
            "Epoch: 085/100 | Batch 0200/0210 | Loss: 0.7232\n",
            "Epoch: 085/100 | Train: 91.31% | Validation: 96.55%\n",
            "Time elapsed: 52.83 min\n",
            "Epoch: 086/100 | Batch 0000/0210 | Loss: 0.5601\n",
            "Epoch: 086/100 | Batch 0100/0210 | Loss: 0.6538\n",
            "Epoch: 086/100 | Batch 0200/0210 | Loss: 0.4294\n",
            "Epoch: 086/100 | Train: 91.52% | Validation: 96.52%\n",
            "Time elapsed: 53.44 min\n",
            "Epoch: 087/100 | Batch 0000/0210 | Loss: 0.5334\n",
            "Epoch: 087/100 | Batch 0100/0210 | Loss: 0.5961\n",
            "Epoch: 087/100 | Batch 0200/0210 | Loss: 0.6467\n",
            "Epoch: 087/100 | Train: 91.38% | Validation: 96.53%\n",
            "Time elapsed: 54.06 min\n",
            "Epoch: 088/100 | Batch 0000/0210 | Loss: 0.6212\n",
            "Epoch: 088/100 | Batch 0100/0210 | Loss: 0.6226\n",
            "Epoch: 088/100 | Batch 0200/0210 | Loss: 0.6165\n",
            "Epoch: 088/100 | Train: 91.54% | Validation: 96.52%\n",
            "Time elapsed: 54.67 min\n",
            "Epoch: 089/100 | Batch 0000/0210 | Loss: 0.4934\n",
            "Epoch: 089/100 | Batch 0100/0210 | Loss: 0.4446\n",
            "Epoch: 089/100 | Batch 0200/0210 | Loss: 0.6790\n",
            "Epoch: 089/100 | Train: 91.46% | Validation: 96.58%\n",
            "Time elapsed: 55.29 min\n",
            "Epoch: 090/100 | Batch 0000/0210 | Loss: 0.7132\n",
            "Epoch: 090/100 | Batch 0100/0210 | Loss: 0.5328\n",
            "Epoch: 090/100 | Batch 0200/0210 | Loss: 0.6291\n",
            "Epoch: 090/100 | Train: 91.41% | Validation: 96.52%\n",
            "Time elapsed: 55.90 min\n",
            "Epoch: 091/100 | Batch 0000/0210 | Loss: 0.6609\n",
            "Epoch: 091/100 | Batch 0100/0210 | Loss: 0.5569\n",
            "Epoch: 091/100 | Batch 0200/0210 | Loss: 0.5408\n",
            "Epoch: 091/100 | Train: 91.52% | Validation: 96.52%\n",
            "Time elapsed: 56.50 min\n",
            "Epoch: 092/100 | Batch 0000/0210 | Loss: 0.5189\n",
            "Epoch: 092/100 | Batch 0100/0210 | Loss: 0.5108\n",
            "Epoch: 092/100 | Batch 0200/0210 | Loss: 0.5290\n",
            "Epoch: 092/100 | Train: 91.48% | Validation: 96.47%\n",
            "Time elapsed: 57.11 min\n",
            "Epoch: 093/100 | Batch 0000/0210 | Loss: 0.6630\n",
            "Epoch: 093/100 | Batch 0100/0210 | Loss: 0.4539\n",
            "Epoch: 093/100 | Batch 0200/0210 | Loss: 0.5953\n",
            "Epoch: 093/100 | Train: 91.36% | Validation: 96.65%\n",
            "Time elapsed: 57.71 min\n",
            "Epoch: 094/100 | Batch 0000/0210 | Loss: 0.5930\n",
            "Epoch: 094/100 | Batch 0100/0210 | Loss: 0.5143\n",
            "Epoch: 094/100 | Batch 0200/0210 | Loss: 0.5420\n",
            "Epoch: 094/100 | Train: 91.35% | Validation: 96.58%\n",
            "Time elapsed: 58.33 min\n",
            "Epoch: 095/100 | Batch 0000/0210 | Loss: 0.5305\n",
            "Epoch: 095/100 | Batch 0100/0210 | Loss: 0.6283\n",
            "Epoch: 095/100 | Batch 0200/0210 | Loss: 0.5553\n",
            "Epoch: 095/100 | Train: 91.40% | Validation: 96.50%\n",
            "Time elapsed: 58.93 min\n",
            "Epoch: 096/100 | Batch 0000/0210 | Loss: 0.6282\n",
            "Epoch: 096/100 | Batch 0100/0210 | Loss: 0.5875\n",
            "Epoch: 096/100 | Batch 0200/0210 | Loss: 0.6899\n",
            "Epoch: 096/100 | Train: 91.43% | Validation: 96.52%\n",
            "Time elapsed: 59.54 min\n",
            "Epoch: 097/100 | Batch 0000/0210 | Loss: 0.6111\n",
            "Epoch: 097/100 | Batch 0100/0210 | Loss: 0.5966\n",
            "Epoch: 097/100 | Batch 0200/0210 | Loss: 0.5717\n",
            "Epoch: 097/100 | Train: 91.42% | Validation: 96.50%\n",
            "Time elapsed: 60.14 min\n",
            "Epoch: 098/100 | Batch 0000/0210 | Loss: 0.7091\n",
            "Epoch: 098/100 | Batch 0100/0210 | Loss: 0.6661\n",
            "Epoch: 098/100 | Batch 0200/0210 | Loss: 0.6524\n",
            "Epoch: 098/100 | Train: 91.56% | Validation: 96.45%\n",
            "Time elapsed: 60.76 min\n",
            "Epoch: 099/100 | Batch 0000/0210 | Loss: 0.5811\n",
            "Epoch: 099/100 | Batch 0100/0210 | Loss: 0.5756\n",
            "Epoch: 099/100 | Batch 0200/0210 | Loss: 0.4835\n",
            "Epoch: 099/100 | Train: 91.46% | Validation: 96.62%\n",
            "Time elapsed: 61.37 min\n",
            "Epoch: 100/100 | Batch 0000/0210 | Loss: 0.5550\n",
            "Epoch: 100/100 | Batch 0100/0210 | Loss: 0.5209\n",
            "Epoch: 100/100 | Batch 0200/0210 | Loss: 0.5182\n",
            "Epoch: 100/100 | Train: 91.41% | Validation: 96.47%\n",
            "Time elapsed: 61.97 min\n",
            "Total Training Time: 61.97 min\n",
            "Test accuracy 96.27%\n"
          ]
        },
        {
          "output_type": "display_data",
          "data": {
            "text/plain": [
              "<Figure size 432x288 with 2 Axes>"
            ],
            "image/png": "[encoded data removed]"
          },
          "metadata": {
            "needs_background": "light"
          }
        },
        {
          "output_type": "display_data",
          "data": {
            "text/plain": [
              "<Figure size 432x288 with 1 Axes>"
            ],
            "image/png": "[encoded data removed]"
          },
          "metadata": {
            "needs_background": "light"
          }
        }
      ],
      "source": [
        "torch.manual_seed(RANDOM_SEED)\n",
        "model = MultilayerPerceptron(num_features=28*28,\n",
        "                             num_hidden_1=NUM_HIDDEN_1,\n",
        "                             num_hidden_2=NUM_HIDDEN_2,\n",
        "                             drop_proba=0.5,\n",
        "                             num_classes=10)\n",
        "model = model.to(DEVICE)\n",
        "\n",
        "optimizer = torch.optim.SGD(model.parameters(), lr=0.1, momentum=0.5) # Use SGD instead of Adam\n",
        "scheduler = torch.optim.lr_scheduler.ReduceLROnPlateau(optimizer,\n",
        "                                                       factor=0.1,\n",
        "                                                       mode='min',\n",
        "                                                       verbose=True)\n",
        "\n",
        "minibatch_loss_list, train_acc_list, valid_acc_list = train_model(\n",
        "    model=model,\n",
        "    num_epochs=NUM_EPOCHS,\n",
        "    train_loader=train_loader,\n",
        "    valid_loader=valid_loader,\n",
        "    test_loader=test_loader,\n",
        "    optimizer=optimizer,\n",
        "    device=DEVICE,\n",
        "    logging_interval=100,\n",
        "    scheduler=scheduler,\n",
        "    scheduler_on='valid_acc')\n",
        "\n",
        "plot_training_loss(minibatch_loss_list=minibatch_loss_list,\n",
        "                   num_epochs=NUM_EPOCHS,\n",
        "                   iter_per_epoch=len(train_loader),\n",
        "                   results_dir=None,\n",
        "                   averaging_iterations=20)\n",
        "plt.show()\n",
        "\n",
        "plot_accuracy(train_acc_list=train_acc_list,\n",
        "              valid_acc_list=valid_acc_list,\n",
        "              results_dir=None)\n",
        "plt.ylim([80, 100])\n",
        "plt.show()"
      ]
    }
  ],
  "metadata": {
    "kernelspec": {
      "display_name": "Python 3",
      "language": "python",
      "name": "python3"
    },
    "language_info": {
      "codemirror_mode": {
        "name": "ipython",
        "version": 3
      },
      "file_extension": ".py",
      "mimetype": "text/x-python",
      "name": "python",
      "nbconvert_exporter": "python",
      "pygments_lexer": "ipython3",
      "version": "3.9.2"
    },
    "toc": {
      "nav_menu": {},
      "number_sections": true,
      "sideBar": true,
      "skip_h1_title": false,
      "title_cell": "Table of Contents",
      "title_sidebar": "Contents",
      "toc_cell": false,
      "toc_position": {},
      "toc_section_display": true,
      "toc_window_display": false
    },
    "colab": {
      "provenance": [],
      "include_colab_link": true
    },
    "accelerator": "GPU",
    "gpuClass": "standard"
  },
  "nbformat": 4,
  "nbformat_minor": 0
}