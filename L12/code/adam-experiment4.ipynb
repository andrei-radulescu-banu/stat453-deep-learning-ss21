{
  "cells": [
    {
      "cell_type": "markdown",
      "metadata": {
        "id": "view-in-github",
        "colab_type": "text"
      },
      "source": [
        "<a href=\"https://colab.research.google.com/github/andrei-radulescu-banu/stat453-deep-learning-ss21/blob/main/L12/code/adam-experiment4.ipynb\" target=\"_parent\"><img src=\"https://colab.research.google.com/assets/colab-badge.svg\" alt=\"Open In Colab\"/></a>"
      ]
    },
    {
      "cell_type": "markdown",
      "metadata": {
        "id": "iHlEJZV_7gHR"
      },
      "source": [
        "STAT 453: Deep Learning (Spring 2021)  \n",
        "Instructor: Sebastian Raschka (sraschka@wisc.edu)  \n",
        "\n",
        "Course website: http://pages.stat.wisc.edu/~sraschka/teaching/stat453-ss2021/  \n",
        "GitHub repository: https://github.com/rasbt/stat453-deep-learning-ss21\n",
        "\n",
        "---"
      ]
    },
    {
      "cell_type": "code",
      "source": [
        "!pip install watermark\n",
        "!pip install colab-env --upgrade\n",
        "import colab_env\n",
        "colab_env.envvar_handler.add_env(\"CUBLAS_WORKSPACE_CONFIG\", \":4096:8\", overwrite=True)"
      ],
      "metadata": {
        "colab": {
          "base_uri": "https://localhost:8080/"
        },
        "id": "RNHO2lM57h_h",
        "outputId": "8723e7bb-04b9-4fab-d8ad-3ad3c1c21153"
      },
      "execution_count": 1,
      "outputs": [
        {
          "output_type": "stream",
          "name": "stdout",
          "text": [
            "Looking in indexes: https://pypi.org/simple, https://us-python.pkg.dev/colab-wheels/public/simple/\n",
            "Requirement already satisfied: watermark in /usr/local/lib/python3.7/dist-packages (2.3.1)\n",
            "Requirement already satisfied: importlib-metadata>=1.4 in /usr/local/lib/python3.7/dist-packages (from watermark) (4.13.0)\n",
            "Requirement already satisfied: ipython in /usr/local/lib/python3.7/dist-packages (from watermark) (7.9.0)\n",
            "Requirement already satisfied: zipp>=0.5 in /usr/local/lib/python3.7/dist-packages (from importlib-metadata>=1.4->watermark) (3.10.0)\n",
            "Requirement already satisfied: typing-extensions>=3.6.4 in /usr/local/lib/python3.7/dist-packages (from importlib-metadata>=1.4->watermark) (4.1.1)\n",
            "Requirement already satisfied: setuptools>=18.5 in /usr/local/lib/python3.7/dist-packages (from ipython->watermark) (57.4.0)\n",
            "Requirement already satisfied: pickleshare in /usr/local/lib/python3.7/dist-packages (from ipython->watermark) (0.7.5)\n",
            "Requirement already satisfied: prompt-toolkit<2.1.0,>=2.0.0 in /usr/local/lib/python3.7/dist-packages (from ipython->watermark) (2.0.10)\n",
            "Requirement already satisfied: traitlets>=4.2 in /usr/local/lib/python3.7/dist-packages (from ipython->watermark) (5.1.1)\n",
            "Requirement already satisfied: jedi>=0.10 in /usr/local/lib/python3.7/dist-packages (from ipython->watermark) (0.18.1)\n",
            "Requirement already satisfied: pygments in /usr/local/lib/python3.7/dist-packages (from ipython->watermark) (2.6.1)\n",
            "Requirement already satisfied: pexpect in /usr/local/lib/python3.7/dist-packages (from ipython->watermark) (4.8.0)\n",
            "Requirement already satisfied: decorator in /usr/local/lib/python3.7/dist-packages (from ipython->watermark) (4.4.2)\n",
            "Requirement already satisfied: backcall in /usr/local/lib/python3.7/dist-packages (from ipython->watermark) (0.2.0)\n",
            "Requirement already satisfied: parso<0.9.0,>=0.8.0 in /usr/local/lib/python3.7/dist-packages (from jedi>=0.10->ipython->watermark) (0.8.3)\n",
            "Requirement already satisfied: six>=1.9.0 in /usr/local/lib/python3.7/dist-packages (from prompt-toolkit<2.1.0,>=2.0.0->ipython->watermark) (1.15.0)\n",
            "Requirement already satisfied: wcwidth in /usr/local/lib/python3.7/dist-packages (from prompt-toolkit<2.1.0,>=2.0.0->ipython->watermark) (0.2.5)\n",
            "Requirement already satisfied: ptyprocess>=0.5 in /usr/local/lib/python3.7/dist-packages (from pexpect->ipython->watermark) (0.7.0)\n",
            "Looking in indexes: https://pypi.org/simple, https://us-python.pkg.dev/colab-wheels/public/simple/\n",
            "Requirement already satisfied: colab-env in /usr/local/lib/python3.7/dist-packages (0.2.0)\n",
            "Requirement already satisfied: python-dotenv<1.0,>=0.10.0 in /usr/local/lib/python3.7/dist-packages (from colab-env) (0.21.0)\n",
            "Drive already mounted at /content/gdrive; to attempt to forcibly remount, call drive.mount(\"/content/gdrive\", force_remount=True).\n"
          ]
        }
      ]
    },
    {
      "cell_type": "code",
      "execution_count": 2,
      "metadata": {
        "colab": {
          "base_uri": "https://localhost:8080/"
        },
        "id": "F09s_gZB7gHT",
        "outputId": "1d9b3242-c096-4283-c233-ca3226f1aed5"
      },
      "outputs": [
        {
          "output_type": "stream",
          "name": "stdout",
          "text": [
            "Author: Sebastian Raschka\n",
            "\n",
            "Python implementation: CPython\n",
            "Python version       : 3.7.15\n",
            "IPython version      : 7.9.0\n",
            "\n",
            "torch: 1.12.1+cu113\n",
            "\n"
          ]
        }
      ],
      "source": [
        "%load_ext watermark\n",
        "%watermark -a 'Sebastian Raschka' -v -p torch"
      ]
    },
    {
      "cell_type": "markdown",
      "metadata": {
        "id": "zTEkqvTB7gHU"
      },
      "source": [
        "# MLP with Dropout "
      ]
    },
    {
      "cell_type": "markdown",
      "metadata": {
        "id": "wIIILBpg7gHW"
      },
      "source": [
        "## Imports"
      ]
    },
    {
      "cell_type": "code",
      "source": [
        "!git clone https://github.com/andrei-radulescu-banu/stat453-deep-learning-ss21.git"
      ],
      "metadata": {
        "colab": {
          "base_uri": "https://localhost:8080/"
        },
        "id": "Ff8nXN8l8mpP",
        "outputId": "4bea7917-2474-420a-f2bf-428ad57c9ba0"
      },
      "execution_count": 3,
      "outputs": [
        {
          "output_type": "stream",
          "name": "stdout",
          "text": [
            "fatal: destination path 'stat453-deep-learning-ss21' already exists and is not an empty directory.\n"
          ]
        }
      ]
    },
    {
      "cell_type": "code",
      "source": [
        "!ls /content/stat453-deep-learning-ss21/L12/code"
      ],
      "metadata": {
        "colab": {
          "base_uri": "https://localhost:8080/"
        },
        "id": "EErAtgma8_lF",
        "outputId": "b60470a2-06e3-4bd7-a2c8-4546d0ed1e8a"
      },
      "execution_count": 4,
      "outputs": [
        {
          "output_type": "stream",
          "name": "stdout",
          "text": [
            "adabelief.ipynb\t\tadamW.ipynb\t      helper_train.py\n",
            "adam-experiment1.ipynb\tbatchsize-1024.ipynb  __pycache__\n",
            "adam-experiment2.ipynb\tbatchsize-64.ipynb    scheduler.ipynb\n",
            "adam-experiment3.ipynb\thelper_dataset.py     sgd-scheduler-momentum.ipynb\n",
            "adam-experiment4.ipynb\thelper_evaluation.py\n",
            "adam.ipynb\t\thelper_plotting.py\n"
          ]
        }
      ]
    },
    {
      "cell_type": "code",
      "source": [
        "import sys, os\n",
        "sys.path.append(\"/content/stat453-deep-learning-ss21/L12/code\")"
      ],
      "metadata": {
        "id": "2x46NXqe8zT6"
      },
      "execution_count": 5,
      "outputs": []
    },
    {
      "cell_type": "code",
      "execution_count": 6,
      "metadata": {
        "id": "K5aml8_h7gHX"
      },
      "outputs": [],
      "source": [
        "import torch\n",
        "import numpy as np\n",
        "import matplotlib.pyplot as plt"
      ]
    },
    {
      "cell_type": "code",
      "execution_count": 7,
      "metadata": {
        "id": "23vDzvU07gHY"
      },
      "outputs": [],
      "source": [
        "# From local helper files\n",
        "from helper_evaluation import set_all_seeds, set_deterministic\n",
        "from helper_train import train_model\n",
        "from helper_plotting import plot_training_loss, plot_accuracy, show_examples\n",
        "from helper_dataset import get_dataloaders_mnist"
      ]
    },
    {
      "cell_type": "markdown",
      "metadata": {
        "id": "bcuISZOk7gHY"
      },
      "source": [
        "## Settings and Dataset"
      ]
    },
    {
      "cell_type": "code",
      "execution_count": 8,
      "metadata": {
        "id": "ivwTurbs7gHZ"
      },
      "outputs": [],
      "source": [
        "##########################\n",
        "### SETTINGS\n",
        "##########################\n",
        "\n",
        "RANDOM_SEED = 123\n",
        "BATCH_SIZE = 256\n",
        "NUM_HIDDEN_1 = 75\n",
        "NUM_HIDDEN_2 = 45\n",
        "NUM_EPOCHS = 100\n",
        "DEVICE = torch.device('cuda:0' if torch.cuda.is_available() else 'cpu')"
      ]
    },
    {
      "cell_type": "code",
      "execution_count": 9,
      "metadata": {
        "id": "oWiU03-J7gHa"
      },
      "outputs": [],
      "source": [
        "set_all_seeds(RANDOM_SEED)\n",
        "set_deterministic()"
      ]
    },
    {
      "cell_type": "code",
      "execution_count": 10,
      "metadata": {
        "colab": {
          "base_uri": "https://localhost:8080/"
        },
        "id": "m-FxDI2k7gHb",
        "outputId": "22721039-70e2-4dc4-b214-1c2da67acd06"
      },
      "outputs": [
        {
          "output_type": "stream",
          "name": "stdout",
          "text": [
            "Image batch dimensions: torch.Size([256, 1, 28, 28])\n",
            "Image label dimensions: torch.Size([256])\n",
            "Class labels of 10 examples: tensor([4, 5, 8, 9, 9, 4, 9, 9, 3, 9])\n"
          ]
        }
      ],
      "source": [
        "##########################\n",
        "### MNIST DATASET\n",
        "##########################\n",
        "\n",
        "train_loader, valid_loader, test_loader = get_dataloaders_mnist(\n",
        "    batch_size=BATCH_SIZE,\n",
        "    validation_fraction=0.1)\n",
        "\n",
        "# Checking the dataset\n",
        "for images, labels in train_loader:  \n",
        "    print('Image batch dimensions:', images.shape)\n",
        "    print('Image label dimensions:', labels.shape)\n",
        "    print('Class labels of 10 examples:', labels[:10])\n",
        "    break"
      ]
    },
    {
      "cell_type": "markdown",
      "metadata": {
        "id": "A5ZJgs3p7gHc"
      },
      "source": [
        "## Model"
      ]
    },
    {
      "cell_type": "code",
      "execution_count": 11,
      "metadata": {
        "id": "0vTyYwRb7gHd"
      },
      "outputs": [],
      "source": [
        "class MultilayerPerceptron(torch.nn.Module):\n",
        "\n",
        "    def __init__(self, num_features, num_classes, drop_proba, \n",
        "                 num_hidden_1, num_hidden_2):\n",
        "        super().__init__()\n",
        "        \n",
        "        self.my_network = torch.nn.Sequential(\n",
        "            # 1st hidden layer\n",
        "            torch.nn.Flatten(),\n",
        "            torch.nn.Linear(num_features, num_hidden_1, bias=False),\n",
        "            torch.nn.BatchNorm1d(num_hidden_1),\n",
        "            torch.nn.ReLU(),\n",
        "            torch.nn.Dropout(0.5),\n",
        "            # 2nd hidden layer\n",
        "            torch.nn.Linear(num_hidden_1, num_hidden_2, bias=False),\n",
        "            torch.nn.BatchNorm1d(num_hidden_2),\n",
        "            torch.nn.ReLU(),\n",
        "            torch.nn.Dropout(0.3),\n",
        "            # output layer\n",
        "            torch.nn.Linear(num_hidden_2, num_classes)\n",
        "        )\n",
        "           \n",
        "    def forward(self, x):\n",
        "        logits = self.my_network(x)\n",
        "        return logits"
      ]
    },
    {
      "cell_type": "code",
      "execution_count": null,
      "metadata": {
        "colab": {
          "base_uri": "https://localhost:8080/"
        },
        "id": "uq4hazeR7gHd",
        "outputId": "5e62d1a8-9ab3-4844-b343-716af3d517f3"
      },
      "outputs": [
        {
          "output_type": "stream",
          "name": "stdout",
          "text": [
            "Epoch: 001/100 | Batch 0000/0210 | Loss: 2.3859\n",
            "Epoch: 001/100 | Batch 0100/0210 | Loss: 0.5638\n",
            "Epoch: 001/100 | Batch 0200/0210 | Loss: 0.5372\n",
            "Epoch: 001/100 | Train: 92.20% | Validation: 93.95%\n",
            "Time elapsed: 0.22 min\n",
            "Epoch: 002/100 | Batch 0000/0210 | Loss: 0.5533\n",
            "Epoch: 002/100 | Batch 0100/0210 | Loss: 0.3747\n",
            "Epoch: 002/100 | Batch 0200/0210 | Loss: 0.4653\n",
            "Epoch: 002/100 | Train: 94.12% | Validation: 95.38%\n",
            "Time elapsed: 0.39 min\n",
            "Epoch: 003/100 | Batch 0000/0210 | Loss: 0.4679\n",
            "Epoch: 003/100 | Batch 0100/0210 | Loss: 0.3492\n",
            "Epoch: 003/100 | Batch 0200/0210 | Loss: 0.3693\n",
            "Epoch: 003/100 | Train: 94.72% | Validation: 95.92%\n",
            "Time elapsed: 0.56 min\n",
            "Epoch: 004/100 | Batch 0000/0210 | Loss: 0.3300\n",
            "Epoch: 004/100 | Batch 0100/0210 | Loss: 0.4013\n",
            "Epoch: 004/100 | Batch 0200/0210 | Loss: 0.3701\n",
            "Epoch: 004/100 | Train: 95.55% | Validation: 96.53%\n",
            "Time elapsed: 0.72 min\n",
            "Epoch: 005/100 | Batch 0000/0210 | Loss: 0.3146\n",
            "Epoch: 005/100 | Batch 0100/0210 | Loss: 0.3177\n",
            "Epoch: 005/100 | Batch 0200/0210 | Loss: 0.2699\n",
            "Epoch: 005/100 | Train: 95.89% | Validation: 96.65%\n",
            "Time elapsed: 0.87 min\n",
            "Epoch: 006/100 | Batch 0000/0210 | Loss: 0.2764\n",
            "Epoch: 006/100 | Batch 0100/0210 | Loss: 0.3666\n",
            "Epoch: 006/100 | Batch 0200/0210 | Loss: 0.2823\n",
            "Epoch: 006/100 | Train: 96.08% | Validation: 96.87%\n",
            "Time elapsed: 1.03 min\n",
            "Epoch: 007/100 | Batch 0000/0210 | Loss: 0.3192\n",
            "Epoch: 007/100 | Batch 0100/0210 | Loss: 0.3436\n",
            "Epoch: 007/100 | Batch 0200/0210 | Loss: 0.2552\n",
            "Epoch: 007/100 | Train: 96.50% | Validation: 97.22%\n",
            "Time elapsed: 1.20 min\n",
            "Epoch: 008/100 | Batch 0000/0210 | Loss: 0.3219\n",
            "Epoch: 008/100 | Batch 0100/0210 | Loss: 0.2785\n",
            "Epoch: 008/100 | Batch 0200/0210 | Loss: 0.2587\n",
            "Epoch: 008/100 | Train: 96.66% | Validation: 96.95%\n",
            "Time elapsed: 1.36 min\n",
            "Epoch: 009/100 | Batch 0000/0210 | Loss: 0.2568\n",
            "Epoch: 009/100 | Batch 0100/0210 | Loss: 0.2193\n",
            "Epoch: 009/100 | Batch 0200/0210 | Loss: 0.2711\n",
            "Epoch: 009/100 | Train: 96.70% | Validation: 96.93%\n",
            "Time elapsed: 1.52 min\n",
            "Epoch: 010/100 | Batch 0000/0210 | Loss: 0.2591\n",
            "Epoch: 010/100 | Batch 0100/0210 | Loss: 0.3760\n",
            "Epoch: 010/100 | Batch 0200/0210 | Loss: 0.2551\n",
            "Epoch: 010/100 | Train: 96.83% | Validation: 97.10%\n",
            "Time elapsed: 1.68 min\n",
            "Epoch: 011/100 | Batch 0000/0210 | Loss: 0.2407\n",
            "Epoch: 011/100 | Batch 0100/0210 | Loss: 0.2357\n",
            "Epoch: 011/100 | Batch 0200/0210 | Loss: 0.2147\n",
            "Epoch: 011/100 | Train: 97.02% | Validation: 97.22%\n",
            "Time elapsed: 1.84 min\n",
            "Epoch: 012/100 | Batch 0000/0210 | Loss: 0.3580\n",
            "Epoch: 012/100 | Batch 0100/0210 | Loss: 0.2304\n",
            "Epoch: 012/100 | Batch 0200/0210 | Loss: 0.3173\n",
            "Epoch: 012/100 | Train: 97.20% | Validation: 97.25%\n",
            "Time elapsed: 2.00 min\n",
            "Epoch 00012: reducing learning rate of group 0 to 1.0000e-02.\n",
            "Epoch: 013/100 | Batch 0000/0210 | Loss: 0.1597\n",
            "Epoch: 013/100 | Batch 0100/0210 | Loss: 0.1822\n",
            "Epoch: 013/100 | Batch 0200/0210 | Loss: 0.2127\n",
            "Epoch: 013/100 | Train: 97.35% | Validation: 97.27%\n",
            "Time elapsed: 2.16 min\n",
            "Epoch: 014/100 | Batch 0000/0210 | Loss: 0.1972\n",
            "Epoch: 014/100 | Batch 0100/0210 | Loss: 0.2995\n",
            "Epoch: 014/100 | Batch 0200/0210 | Loss: 0.2421\n",
            "Epoch: 014/100 | Train: 97.45% | Validation: 97.33%\n",
            "Time elapsed: 2.32 min\n",
            "Epoch: 015/100 | Batch 0000/0210 | Loss: 0.1551\n",
            "Epoch: 015/100 | Batch 0100/0210 | Loss: 0.1792\n",
            "Epoch: 015/100 | Batch 0200/0210 | Loss: 0.2365\n",
            "Epoch: 015/100 | Train: 97.43% | Validation: 97.25%\n",
            "Time elapsed: 2.48 min\n",
            "Epoch: 016/100 | Batch 0000/0210 | Loss: 0.2511\n",
            "Epoch: 016/100 | Batch 0100/0210 | Loss: 0.1848\n",
            "Epoch: 016/100 | Batch 0200/0210 | Loss: 0.1914\n",
            "Epoch: 016/100 | Train: 97.49% | Validation: 97.42%\n",
            "Time elapsed: 2.64 min\n",
            "Epoch: 017/100 | Batch 0000/0210 | Loss: 0.1567\n",
            "Epoch: 017/100 | Batch 0100/0210 | Loss: 0.1931\n",
            "Epoch: 017/100 | Batch 0200/0210 | Loss: 0.1978\n",
            "Epoch: 017/100 | Train: 97.59% | Validation: 97.37%\n",
            "Time elapsed: 2.80 min\n",
            "Epoch: 018/100 | Batch 0000/0210 | Loss: 0.1881\n",
            "Epoch: 018/100 | Batch 0100/0210 | Loss: 0.2351\n",
            "Epoch: 018/100 | Batch 0200/0210 | Loss: 0.2530\n",
            "Epoch: 018/100 | Train: 97.59% | Validation: 97.40%\n",
            "Time elapsed: 2.98 min\n",
            "Epoch: 019/100 | Batch 0000/0210 | Loss: 0.1690\n",
            "Epoch: 019/100 | Batch 0100/0210 | Loss: 0.1994\n",
            "Epoch: 019/100 | Batch 0200/0210 | Loss: 0.1404\n",
            "Epoch: 019/100 | Train: 97.57% | Validation: 97.43%\n",
            "Time elapsed: 3.14 min\n",
            "Epoch: 020/100 | Batch 0000/0210 | Loss: 0.2298\n",
            "Epoch: 020/100 | Batch 0100/0210 | Loss: 0.2019\n",
            "Epoch: 020/100 | Batch 0200/0210 | Loss: 0.2344\n",
            "Epoch: 020/100 | Train: 97.63% | Validation: 97.47%\n",
            "Time elapsed: 3.30 min\n",
            "Epoch: 021/100 | Batch 0000/0210 | Loss: 0.2685\n",
            "Epoch: 021/100 | Batch 0100/0210 | Loss: 0.3013\n",
            "Epoch: 021/100 | Batch 0200/0210 | Loss: 0.1662\n",
            "Epoch: 021/100 | Train: 97.62% | Validation: 97.47%\n",
            "Time elapsed: 3.46 min\n",
            "Epoch: 022/100 | Batch 0000/0210 | Loss: 0.2983\n",
            "Epoch: 022/100 | Batch 0100/0210 | Loss: 0.2428\n",
            "Epoch: 022/100 | Batch 0200/0210 | Loss: 0.3621\n",
            "Epoch: 022/100 | Train: 97.63% | Validation: 97.45%\n",
            "Time elapsed: 3.62 min\n",
            "Epoch: 023/100 | Batch 0000/0210 | Loss: 0.1959\n",
            "Epoch: 023/100 | Batch 0100/0210 | Loss: 0.1451\n",
            "Epoch: 023/100 | Batch 0200/0210 | Loss: 0.1914\n",
            "Epoch: 023/100 | Train: 97.66% | Validation: 97.43%\n",
            "Time elapsed: 3.78 min\n",
            "Epoch 00023: reducing learning rate of group 0 to 1.0000e-03.\n",
            "Epoch: 024/100 | Batch 0000/0210 | Loss: 0.3001\n",
            "Epoch: 024/100 | Batch 0100/0210 | Loss: 0.2258\n",
            "Epoch: 024/100 | Batch 0200/0210 | Loss: 0.2000\n",
            "Epoch: 024/100 | Train: 97.67% | Validation: 97.52%\n",
            "Time elapsed: 3.94 min\n",
            "Epoch: 025/100 | Batch 0000/0210 | Loss: 0.1672\n",
            "Epoch: 025/100 | Batch 0100/0210 | Loss: 0.1665\n",
            "Epoch: 025/100 | Batch 0200/0210 | Loss: 0.2640\n",
            "Epoch: 025/100 | Train: 97.69% | Validation: 97.53%\n",
            "Time elapsed: 4.10 min\n",
            "Epoch: 026/100 | Batch 0000/0210 | Loss: 0.1755\n",
            "Epoch: 026/100 | Batch 0100/0210 | Loss: 0.2371\n",
            "Epoch: 026/100 | Batch 0200/0210 | Loss: 0.2161\n",
            "Epoch: 026/100 | Train: 97.68% | Validation: 97.47%\n",
            "Time elapsed: 4.26 min\n",
            "Epoch: 027/100 | Batch 0000/0210 | Loss: 0.2748\n",
            "Epoch: 027/100 | Batch 0100/0210 | Loss: 0.1734\n",
            "Epoch: 027/100 | Batch 0200/0210 | Loss: 0.1622\n",
            "Epoch: 027/100 | Train: 97.69% | Validation: 97.50%\n",
            "Time elapsed: 4.41 min\n",
            "Epoch: 028/100 | Batch 0000/0210 | Loss: 0.3456\n",
            "Epoch: 028/100 | Batch 0100/0210 | Loss: 0.1683\n",
            "Epoch: 028/100 | Batch 0200/0210 | Loss: 0.1934\n",
            "Epoch: 028/100 | Train: 97.69% | Validation: 97.48%\n",
            "Time elapsed: 4.57 min\n",
            "Epoch: 029/100 | Batch 0000/0210 | Loss: 0.2166\n",
            "Epoch: 029/100 | Batch 0100/0210 | Loss: 0.2662\n",
            "Epoch: 029/100 | Batch 0200/0210 | Loss: 0.1872\n",
            "Epoch: 029/100 | Train: 97.71% | Validation: 97.55%\n",
            "Time elapsed: 4.73 min\n",
            "Epoch: 030/100 | Batch 0000/0210 | Loss: 0.1439\n",
            "Epoch: 030/100 | Batch 0100/0210 | Loss: 0.1952\n",
            "Epoch: 030/100 | Batch 0200/0210 | Loss: 0.2208\n",
            "Epoch: 030/100 | Train: 97.69% | Validation: 97.52%\n",
            "Time elapsed: 4.89 min\n",
            "Epoch: 031/100 | Batch 0000/0210 | Loss: 0.1994\n",
            "Epoch: 031/100 | Batch 0100/0210 | Loss: 0.2349\n",
            "Epoch: 031/100 | Batch 0200/0210 | Loss: 0.1528\n",
            "Epoch: 031/100 | Train: 97.71% | Validation: 97.50%\n",
            "Time elapsed: 5.05 min\n",
            "Epoch: 032/100 | Batch 0000/0210 | Loss: 0.2279\n",
            "Epoch: 032/100 | Batch 0100/0210 | Loss: 0.1872\n",
            "Epoch: 032/100 | Batch 0200/0210 | Loss: 0.2366\n",
            "Epoch: 032/100 | Train: 97.68% | Validation: 97.50%\n",
            "Time elapsed: 5.21 min\n",
            "Epoch: 033/100 | Batch 0000/0210 | Loss: 0.2800\n",
            "Epoch: 033/100 | Batch 0100/0210 | Loss: 0.1808\n",
            "Epoch: 033/100 | Batch 0200/0210 | Loss: 0.2711\n",
            "Epoch: 033/100 | Train: 97.69% | Validation: 97.47%\n",
            "Time elapsed: 5.38 min\n",
            "Epoch: 034/100 | Batch 0000/0210 | Loss: 0.1633\n",
            "Epoch: 034/100 | Batch 0100/0210 | Loss: 0.2482\n",
            "Epoch: 034/100 | Batch 0200/0210 | Loss: 0.2732\n",
            "Epoch: 034/100 | Train: 97.70% | Validation: 97.48%\n",
            "Time elapsed: 5.55 min\n",
            "Epoch 00034: reducing learning rate of group 0 to 1.0000e-04.\n",
            "Epoch: 035/100 | Batch 0000/0210 | Loss: 0.1458\n",
            "Epoch: 035/100 | Batch 0100/0210 | Loss: 0.2058\n",
            "Epoch: 035/100 | Batch 0200/0210 | Loss: 0.1808\n",
            "Epoch: 035/100 | Train: 97.74% | Validation: 97.53%\n",
            "Time elapsed: 5.71 min\n",
            "Epoch: 036/100 | Batch 0000/0210 | Loss: 0.1621\n",
            "Epoch: 036/100 | Batch 0100/0210 | Loss: 0.2055\n",
            "Epoch: 036/100 | Batch 0200/0210 | Loss: 0.1937\n",
            "Epoch: 036/100 | Train: 97.71% | Validation: 97.50%\n",
            "Time elapsed: 5.87 min\n",
            "Epoch: 037/100 | Batch 0000/0210 | Loss: 0.1735\n",
            "Epoch: 037/100 | Batch 0100/0210 | Loss: 0.2012\n",
            "Epoch: 037/100 | Batch 0200/0210 | Loss: 0.2266\n",
            "Epoch: 037/100 | Train: 97.69% | Validation: 97.53%\n",
            "Time elapsed: 6.02 min\n",
            "Epoch: 038/100 | Batch 0000/0210 | Loss: 0.1879\n",
            "Epoch: 038/100 | Batch 0100/0210 | Loss: 0.2698\n",
            "Epoch: 038/100 | Batch 0200/0210 | Loss: 0.2084\n",
            "Epoch: 038/100 | Train: 97.71% | Validation: 97.50%\n",
            "Time elapsed: 6.18 min\n",
            "Epoch: 039/100 | Batch 0000/0210 | Loss: 0.1841\n",
            "Epoch: 039/100 | Batch 0100/0210 | Loss: 0.1677\n",
            "Epoch: 039/100 | Batch 0200/0210 | Loss: 0.1803\n",
            "Epoch: 039/100 | Train: 97.73% | Validation: 97.52%\n",
            "Time elapsed: 6.34 min\n",
            "Epoch: 040/100 | Batch 0000/0210 | Loss: 0.2974\n",
            "Epoch: 040/100 | Batch 0100/0210 | Loss: 0.2386\n",
            "Epoch: 040/100 | Batch 0200/0210 | Loss: 0.2292\n",
            "Epoch: 040/100 | Train: 97.70% | Validation: 97.48%\n",
            "Time elapsed: 6.50 min\n",
            "Epoch: 041/100 | Batch 0000/0210 | Loss: 0.2546\n",
            "Epoch: 041/100 | Batch 0100/0210 | Loss: 0.1993\n",
            "Epoch: 041/100 | Batch 0200/0210 | Loss: 0.1427\n",
            "Epoch: 041/100 | Train: 97.68% | Validation: 97.47%\n",
            "Time elapsed: 6.65 min\n",
            "Epoch: 042/100 | Batch 0000/0210 | Loss: 0.1653\n",
            "Epoch: 042/100 | Batch 0100/0210 | Loss: 0.1913\n",
            "Epoch: 042/100 | Batch 0200/0210 | Loss: 0.2412\n",
            "Epoch: 042/100 | Train: 97.71% | Validation: 97.55%\n",
            "Time elapsed: 6.81 min\n",
            "Epoch: 043/100 | Batch 0000/0210 | Loss: 0.1953\n",
            "Epoch: 043/100 | Batch 0100/0210 | Loss: 0.3157\n",
            "Epoch: 043/100 | Batch 0200/0210 | Loss: 0.1651\n",
            "Epoch: 043/100 | Train: 97.69% | Validation: 97.50%\n",
            "Time elapsed: 6.97 min\n",
            "Epoch: 044/100 | Batch 0000/0210 | Loss: 0.2456\n",
            "Epoch: 044/100 | Batch 0100/0210 | Loss: 0.2172\n",
            "Epoch: 044/100 | Batch 0200/0210 | Loss: 0.1620\n",
            "Epoch: 044/100 | Train: 97.72% | Validation: 97.43%\n",
            "Time elapsed: 7.13 min\n",
            "Epoch: 045/100 | Batch 0000/0210 | Loss: 0.1713\n",
            "Epoch: 045/100 | Batch 0100/0210 | Loss: 0.2065\n",
            "Epoch: 045/100 | Batch 0200/0210 | Loss: 0.1499\n",
            "Epoch: 045/100 | Train: 97.69% | Validation: 97.48%\n",
            "Time elapsed: 7.29 min\n",
            "Epoch 00045: reducing learning rate of group 0 to 1.0000e-05.\n",
            "Epoch: 046/100 | Batch 0000/0210 | Loss: 0.2066\n",
            "Epoch: 046/100 | Batch 0100/0210 | Loss: 0.2957\n",
            "Epoch: 046/100 | Batch 0200/0210 | Loss: 0.1550\n",
            "Epoch: 046/100 | Train: 97.70% | Validation: 97.53%\n",
            "Time elapsed: 7.44 min\n",
            "Epoch: 047/100 | Batch 0000/0210 | Loss: 0.2032\n",
            "Epoch: 047/100 | Batch 0100/0210 | Loss: 0.2475\n",
            "Epoch: 047/100 | Batch 0200/0210 | Loss: 0.2040\n",
            "Epoch: 047/100 | Train: 97.73% | Validation: 97.48%\n",
            "Time elapsed: 7.60 min\n",
            "Epoch: 048/100 | Batch 0000/0210 | Loss: 0.1733\n",
            "Epoch: 048/100 | Batch 0100/0210 | Loss: 0.1713\n",
            "Epoch: 048/100 | Batch 0200/0210 | Loss: 0.2459\n",
            "Epoch: 048/100 | Train: 97.71% | Validation: 97.48%\n",
            "Time elapsed: 7.76 min\n",
            "Epoch: 049/100 | Batch 0000/0210 | Loss: 0.1807\n",
            "Epoch: 049/100 | Batch 0100/0210 | Loss: 0.1941\n",
            "Epoch: 049/100 | Batch 0200/0210 | Loss: 0.2808\n",
            "Epoch: 049/100 | Train: 97.70% | Validation: 97.50%\n",
            "Time elapsed: 7.94 min\n",
            "Epoch: 050/100 | Batch 0000/0210 | Loss: 0.2050\n",
            "Epoch: 050/100 | Batch 0100/0210 | Loss: 0.3213\n",
            "Epoch: 050/100 | Batch 0200/0210 | Loss: 0.1787\n",
            "Epoch: 050/100 | Train: 97.71% | Validation: 97.57%\n",
            "Time elapsed: 8.10 min\n",
            "Epoch: 051/100 | Batch 0000/0210 | Loss: 0.1984\n",
            "Epoch: 051/100 | Batch 0100/0210 | Loss: 0.2350\n",
            "Epoch: 051/100 | Batch 0200/0210 | Loss: 0.3039\n",
            "Epoch: 051/100 | Train: 97.70% | Validation: 97.52%\n",
            "Time elapsed: 8.26 min\n",
            "Epoch: 052/100 | Batch 0000/0210 | Loss: 0.2665\n",
            "Epoch: 052/100 | Batch 0100/0210 | Loss: 0.1690\n",
            "Epoch: 052/100 | Batch 0200/0210 | Loss: 0.1661\n",
            "Epoch: 052/100 | Train: 97.71% | Validation: 97.43%\n",
            "Time elapsed: 8.41 min\n",
            "Epoch: 053/100 | Batch 0000/0210 | Loss: 0.1578\n",
            "Epoch: 053/100 | Batch 0100/0210 | Loss: 0.1726\n",
            "Epoch: 053/100 | Batch 0200/0210 | Loss: 0.2099\n",
            "Epoch: 053/100 | Train: 97.72% | Validation: 97.52%\n",
            "Time elapsed: 8.57 min\n",
            "Epoch: 054/100 | Batch 0000/0210 | Loss: 0.1888\n",
            "Epoch: 054/100 | Batch 0100/0210 | Loss: 0.1628\n",
            "Epoch: 054/100 | Batch 0200/0210 | Loss: 0.2609\n",
            "Epoch: 054/100 | Train: 97.72% | Validation: 97.53%\n",
            "Time elapsed: 8.73 min\n",
            "Epoch: 055/100 | Batch 0000/0210 | Loss: 0.2120\n",
            "Epoch: 055/100 | Batch 0100/0210 | Loss: 0.2667\n",
            "Epoch: 055/100 | Batch 0200/0210 | Loss: 0.1852\n",
            "Epoch: 055/100 | Train: 97.71% | Validation: 97.50%\n",
            "Time elapsed: 8.89 min\n",
            "Epoch: 056/100 | Batch 0000/0210 | Loss: 0.1846\n",
            "Epoch: 056/100 | Batch 0100/0210 | Loss: 0.2027\n",
            "Epoch: 056/100 | Batch 0200/0210 | Loss: 0.1646\n",
            "Epoch: 056/100 | Train: 97.69% | Validation: 97.50%\n",
            "Time elapsed: 9.05 min\n",
            "Epoch 00056: reducing learning rate of group 0 to 1.0000e-06.\n",
            "Epoch: 057/100 | Batch 0000/0210 | Loss: 0.1762\n",
            "Epoch: 057/100 | Batch 0100/0210 | Loss: 0.2125\n",
            "Epoch: 057/100 | Batch 0200/0210 | Loss: 0.2763\n",
            "Epoch: 057/100 | Train: 97.73% | Validation: 97.58%\n",
            "Time elapsed: 9.21 min\n",
            "Epoch: 058/100 | Batch 0000/0210 | Loss: 0.2531\n",
            "Epoch: 058/100 | Batch 0100/0210 | Loss: 0.2052\n",
            "Epoch: 058/100 | Batch 0200/0210 | Loss: 0.2268\n",
            "Epoch: 058/100 | Train: 97.73% | Validation: 97.50%\n",
            "Time elapsed: 9.37 min\n",
            "Epoch: 059/100 | Batch 0000/0210 | Loss: 0.1365\n",
            "Epoch: 059/100 | Batch 0100/0210 | Loss: 0.2448\n",
            "Epoch: 059/100 | Batch 0200/0210 | Loss: 0.2101\n",
            "Epoch: 059/100 | Train: 97.70% | Validation: 97.45%\n",
            "Time elapsed: 9.53 min\n",
            "Epoch: 060/100 | Batch 0000/0210 | Loss: 0.2040\n",
            "Epoch: 060/100 | Batch 0100/0210 | Loss: 0.1792\n",
            "Epoch: 060/100 | Batch 0200/0210 | Loss: 0.2344\n",
            "Epoch: 060/100 | Train: 97.69% | Validation: 97.53%\n",
            "Time elapsed: 9.69 min\n",
            "Epoch: 061/100 | Batch 0000/0210 | Loss: 0.1719\n",
            "Epoch: 061/100 | Batch 0100/0210 | Loss: 0.2469\n",
            "Epoch: 061/100 | Batch 0200/0210 | Loss: 0.2233\n",
            "Epoch: 061/100 | Train: 97.69% | Validation: 97.45%\n",
            "Time elapsed: 9.85 min\n",
            "Epoch: 062/100 | Batch 0000/0210 | Loss: 0.2632\n",
            "Epoch: 062/100 | Batch 0100/0210 | Loss: 0.2015\n",
            "Epoch: 062/100 | Batch 0200/0210 | Loss: 0.1635\n",
            "Epoch: 062/100 | Train: 97.73% | Validation: 97.50%\n",
            "Time elapsed: 10.01 min\n",
            "Epoch: 063/100 | Batch 0000/0210 | Loss: 0.1790\n",
            "Epoch: 063/100 | Batch 0100/0210 | Loss: 0.1916\n",
            "Epoch: 063/100 | Batch 0200/0210 | Loss: 0.1971\n",
            "Epoch: 063/100 | Train: 97.71% | Validation: 97.52%\n",
            "Time elapsed: 10.17 min\n",
            "Epoch: 064/100 | Batch 0000/0210 | Loss: 0.2008\n",
            "Epoch: 064/100 | Batch 0100/0210 | Loss: 0.1758\n",
            "Epoch: 064/100 | Batch 0200/0210 | Loss: 0.1883\n",
            "Epoch: 064/100 | Train: 97.72% | Validation: 97.50%\n",
            "Time elapsed: 10.33 min\n",
            "Epoch: 065/100 | Batch 0000/0210 | Loss: 0.1932\n",
            "Epoch: 065/100 | Batch 0100/0210 | Loss: 0.2461\n",
            "Epoch: 065/100 | Batch 0200/0210 | Loss: 0.2430\n",
            "Epoch: 065/100 | Train: 97.68% | Validation: 97.47%\n",
            "Time elapsed: 10.51 min\n",
            "Epoch: 066/100 | Batch 0000/0210 | Loss: 0.1483\n",
            "Epoch: 066/100 | Batch 0100/0210 | Loss: 0.2077\n",
            "Epoch: 066/100 | Batch 0200/0210 | Loss: 0.1665\n",
            "Epoch: 066/100 | Train: 97.70% | Validation: 97.52%\n",
            "Time elapsed: 10.67 min\n",
            "Epoch: 067/100 | Batch 0000/0210 | Loss: 0.2159\n",
            "Epoch: 067/100 | Batch 0100/0210 | Loss: 0.2130\n",
            "Epoch: 067/100 | Batch 0200/0210 | Loss: 0.1909\n",
            "Epoch: 067/100 | Train: 97.70% | Validation: 97.53%\n",
            "Time elapsed: 10.82 min\n",
            "Epoch 00067: reducing learning rate of group 0 to 1.0000e-07.\n",
            "Epoch: 068/100 | Batch 0000/0210 | Loss: 0.2185\n",
            "Epoch: 068/100 | Batch 0100/0210 | Loss: 0.2083\n",
            "Epoch: 068/100 | Batch 0200/0210 | Loss: 0.2228\n",
            "Epoch: 068/100 | Train: 97.71% | Validation: 97.48%\n",
            "Time elapsed: 10.98 min\n",
            "Epoch: 069/100 | Batch 0000/0210 | Loss: 0.1771\n",
            "Epoch: 069/100 | Batch 0100/0210 | Loss: 0.2457\n",
            "Epoch: 069/100 | Batch 0200/0210 | Loss: 0.2025\n",
            "Epoch: 069/100 | Train: 97.73% | Validation: 97.48%\n",
            "Time elapsed: 11.14 min\n",
            "Epoch: 070/100 | Batch 0000/0210 | Loss: 0.1538\n",
            "Epoch: 070/100 | Batch 0100/0210 | Loss: 0.2195\n",
            "Epoch: 070/100 | Batch 0200/0210 | Loss: 0.2235\n",
            "Epoch: 070/100 | Train: 97.71% | Validation: 97.53%\n",
            "Time elapsed: 11.30 min\n",
            "Epoch: 071/100 | Batch 0000/0210 | Loss: 0.1542\n",
            "Epoch: 071/100 | Batch 0100/0210 | Loss: 0.3101\n",
            "Epoch: 071/100 | Batch 0200/0210 | Loss: 0.1708\n",
            "Epoch: 071/100 | Train: 97.70% | Validation: 97.52%\n",
            "Time elapsed: 11.46 min\n",
            "Epoch: 072/100 | Batch 0000/0210 | Loss: 0.2048\n",
            "Epoch: 072/100 | Batch 0100/0210 | Loss: 0.1863\n",
            "Epoch: 072/100 | Batch 0200/0210 | Loss: 0.2792\n",
            "Epoch: 072/100 | Train: 97.72% | Validation: 97.52%\n",
            "Time elapsed: 11.62 min\n",
            "Epoch: 073/100 | Batch 0000/0210 | Loss: 0.1996\n",
            "Epoch: 073/100 | Batch 0100/0210 | Loss: 0.2590\n",
            "Epoch: 073/100 | Batch 0200/0210 | Loss: 0.1802\n",
            "Epoch: 073/100 | Train: 97.72% | Validation: 97.55%\n",
            "Time elapsed: 11.77 min\n",
            "Epoch: 074/100 | Batch 0000/0210 | Loss: 0.1379\n",
            "Epoch: 074/100 | Batch 0100/0210 | Loss: 0.1904\n",
            "Epoch: 074/100 | Batch 0200/0210 | Loss: 0.2628\n"
          ]
        }
      ],
      "source": [
        "torch.manual_seed(RANDOM_SEED)\n",
        "model = MultilayerPerceptron(num_features=28*28,\n",
        "                             num_hidden_1=NUM_HIDDEN_1,\n",
        "                             num_hidden_2=NUM_HIDDEN_2,\n",
        "                             drop_proba=0.5,\n",
        "                             num_classes=10)\n",
        "model = model.to(DEVICE)\n",
        "\n",
        "optimizer = torch.optim.SGD(model.parameters(), lr=0.1, momentum=0.5) # Use SGD instead of Adam\n",
        "scheduler = torch.optim.lr_scheduler.ReduceLROnPlateau(optimizer,\n",
        "                                                       factor=0.1,\n",
        "                                                       mode='min',\n",
        "                                                       verbose=True)\n",
        "\n",
        "minibatch_loss_list, train_acc_list, valid_acc_list = train_model(\n",
        "    model=model,\n",
        "    num_epochs=NUM_EPOCHS,\n",
        "    train_loader=train_loader,\n",
        "    valid_loader=valid_loader,\n",
        "    test_loader=test_loader,\n",
        "    optimizer=optimizer,\n",
        "    device=DEVICE,\n",
        "    logging_interval=100,\n",
        "    scheduler=scheduler,\n",
        "    scheduler_on='valid_acc')\n",
        "\n",
        "plot_training_loss(minibatch_loss_list=minibatch_loss_list,\n",
        "                   num_epochs=NUM_EPOCHS,\n",
        "                   iter_per_epoch=len(train_loader),\n",
        "                   results_dir=None,\n",
        "                   averaging_iterations=20)\n",
        "plt.show()\n",
        "\n",
        "plot_accuracy(train_acc_list=train_acc_list,\n",
        "              valid_acc_list=valid_acc_list,\n",
        "              results_dir=None)\n",
        "plt.ylim([80, 100])\n",
        "plt.show()"
      ]
    }
  ],
  "metadata": {
    "kernelspec": {
      "display_name": "Python 3",
      "language": "python",
      "name": "python3"
    },
    "language_info": {
      "codemirror_mode": {
        "name": "ipython",
        "version": 3
      },
      "file_extension": ".py",
      "mimetype": "text/x-python",
      "name": "python",
      "nbconvert_exporter": "python",
      "pygments_lexer": "ipython3",
      "version": "3.9.2"
    },
    "toc": {
      "nav_menu": {},
      "number_sections": true,
      "sideBar": true,
      "skip_h1_title": false,
      "title_cell": "Table of Contents",
      "title_sidebar": "Contents",
      "toc_cell": false,
      "toc_position": {},
      "toc_section_display": true,
      "toc_window_display": false
    },
    "colab": {
      "provenance": [],
      "include_colab_link": true
    },
    "accelerator": "GPU",
    "gpuClass": "standard"
  },
  "nbformat": 4,
  "nbformat_minor": 0
}