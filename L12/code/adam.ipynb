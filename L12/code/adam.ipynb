{
  "cells": [
    {
      "cell_type": "markdown",
      "metadata": {
        "id": "iHlEJZV_7gHR"
      },
      "source": [
        "STAT 453: Deep Learning (Spring 2021)  \n",
        "Instructor: Sebastian Raschka (sraschka@wisc.edu)  \n",
        "\n",
        "Course website: http://pages.stat.wisc.edu/~sraschka/teaching/stat453-ss2021/  \n",
        "GitHub repository: https://github.com/rasbt/stat453-deep-learning-ss21\n",
        "\n",
        "---"
      ]
    },
    {
      "cell_type": "code",
      "source": [
        "!pip install watermark"
      ],
      "metadata": {
        "colab": {
          "base_uri": "https://localhost:8080/"
        },
        "id": "RNHO2lM57h_h",
        "outputId": "9857b941-9604-4d03-c3c0-0de8498551db"
      },
      "execution_count": 1,
      "outputs": [
        {
          "output_type": "stream",
          "name": "stdout",
          "text": [
            "Looking in indexes: https://pypi.org/simple, https://us-python.pkg.dev/colab-wheels/public/simple/\n",
            "Requirement already satisfied: watermark in /usr/local/lib/python3.7/dist-packages (2.3.1)\n",
            "Requirement already satisfied: importlib-metadata>=1.4 in /usr/local/lib/python3.7/dist-packages (from watermark) (4.13.0)\n",
            "Requirement already satisfied: ipython in /usr/local/lib/python3.7/dist-packages (from watermark) (7.9.0)\n",
            "Requirement already satisfied: zipp>=0.5 in /usr/local/lib/python3.7/dist-packages (from importlib-metadata>=1.4->watermark) (3.10.0)\n",
            "Requirement already satisfied: typing-extensions>=3.6.4 in /usr/local/lib/python3.7/dist-packages (from importlib-metadata>=1.4->watermark) (4.1.1)\n",
            "Requirement already satisfied: backcall in /usr/local/lib/python3.7/dist-packages (from ipython->watermark) (0.2.0)\n",
            "Requirement already satisfied: prompt-toolkit<2.1.0,>=2.0.0 in /usr/local/lib/python3.7/dist-packages (from ipython->watermark) (2.0.10)\n",
            "Requirement already satisfied: pexpect in /usr/local/lib/python3.7/dist-packages (from ipython->watermark) (4.8.0)\n",
            "Requirement already satisfied: pickleshare in /usr/local/lib/python3.7/dist-packages (from ipython->watermark) (0.7.5)\n",
            "Requirement already satisfied: traitlets>=4.2 in /usr/local/lib/python3.7/dist-packages (from ipython->watermark) (5.1.1)\n",
            "Requirement already satisfied: pygments in /usr/local/lib/python3.7/dist-packages (from ipython->watermark) (2.6.1)\n",
            "Requirement already satisfied: setuptools>=18.5 in /usr/local/lib/python3.7/dist-packages (from ipython->watermark) (57.4.0)\n",
            "Requirement already satisfied: jedi>=0.10 in /usr/local/lib/python3.7/dist-packages (from ipython->watermark) (0.18.1)\n",
            "Requirement already satisfied: decorator in /usr/local/lib/python3.7/dist-packages (from ipython->watermark) (4.4.2)\n",
            "Requirement already satisfied: parso<0.9.0,>=0.8.0 in /usr/local/lib/python3.7/dist-packages (from jedi>=0.10->ipython->watermark) (0.8.3)\n",
            "Requirement already satisfied: wcwidth in /usr/local/lib/python3.7/dist-packages (from prompt-toolkit<2.1.0,>=2.0.0->ipython->watermark) (0.2.5)\n",
            "Requirement already satisfied: six>=1.9.0 in /usr/local/lib/python3.7/dist-packages (from prompt-toolkit<2.1.0,>=2.0.0->ipython->watermark) (1.15.0)\n",
            "Requirement already satisfied: ptyprocess>=0.5 in /usr/local/lib/python3.7/dist-packages (from pexpect->ipython->watermark) (0.7.0)\n"
          ]
        }
      ]
    },
    {
      "cell_type": "code",
      "execution_count": 2,
      "metadata": {
        "colab": {
          "base_uri": "https://localhost:8080/"
        },
        "id": "F09s_gZB7gHT",
        "outputId": "6cb79136-45b0-46c7-e91b-06e9d067d6bd"
      },
      "outputs": [
        {
          "output_type": "stream",
          "name": "stdout",
          "text": [
            "Author: Sebastian Raschka\n",
            "\n",
            "Python implementation: CPython\n",
            "Python version       : 3.7.15\n",
            "IPython version      : 7.9.0\n",
            "\n",
            "torch: 1.12.1+cu113\n",
            "\n"
          ]
        }
      ],
      "source": [
        "%load_ext watermark\n",
        "%watermark -a 'Sebastian Raschka' -v -p torch"
      ]
    },
    {
      "cell_type": "markdown",
      "metadata": {
        "id": "zTEkqvTB7gHU"
      },
      "source": [
        "# MLP with Dropout "
      ]
    },
    {
      "cell_type": "markdown",
      "metadata": {
        "id": "wIIILBpg7gHW"
      },
      "source": [
        "## Imports"
      ]
    },
    {
      "cell_type": "code",
      "source": [
        "!git clone https://github.com/andrei-radulescu-banu/stat453-deep-learning-ss21.git"
      ],
      "metadata": {
        "colab": {
          "base_uri": "https://localhost:8080/"
        },
        "id": "Ff8nXN8l8mpP",
        "outputId": "f34f16c0-c894-4d0f-9ee8-f874debf9011"
      },
      "execution_count": 3,
      "outputs": [
        {
          "output_type": "stream",
          "name": "stdout",
          "text": [
            "fatal: destination path 'stat453-deep-learning-ss21' already exists and is not an empty directory.\n"
          ]
        }
      ]
    },
    {
      "cell_type": "code",
      "source": [
        "!ls /content/stat453-deep-learning-ss21/L12/code"
      ],
      "metadata": {
        "colab": {
          "base_uri": "https://localhost:8080/"
        },
        "id": "EErAtgma8_lF",
        "outputId": "49e701f2-f31c-4ec2-b99c-ca3bba82a910"
      },
      "execution_count": 4,
      "outputs": [
        {
          "output_type": "stream",
          "name": "stdout",
          "text": [
            "adabelief.ipynb       batchsize-64.ipynb    helper_train.py\n",
            "adam.ipynb\t      helper_dataset.py     __pycache__\n",
            "adamW.ipynb\t      helper_evaluation.py  scheduler.ipynb\n",
            "batchsize-1024.ipynb  helper_plotting.py    sgd-scheduler-momentum.ipynb\n"
          ]
        }
      ]
    },
    {
      "cell_type": "code",
      "source": [
        "import sys, os\n",
        "sys.path.append(\"/content/stat453-deep-learning-ss21/L12/code\")"
      ],
      "metadata": {
        "id": "2x46NXqe8zT6"
      },
      "execution_count": 5,
      "outputs": []
    },
    {
      "cell_type": "code",
      "execution_count": 6,
      "metadata": {
        "id": "K5aml8_h7gHX"
      },
      "outputs": [],
      "source": [
        "import torch\n",
        "import numpy as np\n",
        "import matplotlib.pyplot as plt"
      ]
    },
    {
      "cell_type": "code",
      "execution_count": 7,
      "metadata": {
        "id": "23vDzvU07gHY"
      },
      "outputs": [],
      "source": [
        "# From local helper files\n",
        "from helper_evaluation import set_all_seeds, set_deterministic\n",
        "from helper_train import train_model\n",
        "from helper_plotting import plot_training_loss, plot_accuracy, show_examples\n",
        "from helper_dataset import get_dataloaders_mnist"
      ]
    },
    {
      "cell_type": "markdown",
      "metadata": {
        "id": "bcuISZOk7gHY"
      },
      "source": [
        "## Settings and Dataset"
      ]
    },
    {
      "cell_type": "code",
      "execution_count": 8,
      "metadata": {
        "id": "ivwTurbs7gHZ"
      },
      "outputs": [],
      "source": [
        "##########################\n",
        "### SETTINGS\n",
        "##########################\n",
        "\n",
        "RANDOM_SEED = 123\n",
        "BATCH_SIZE = 256\n",
        "NUM_HIDDEN_1 = 75\n",
        "NUM_HIDDEN_2 = 45\n",
        "NUM_EPOCHS = 100\n",
        "DEVICE = torch.device('cuda:0' if torch.cuda.is_available() else 'cpu')"
      ]
    },
    {
      "cell_type": "code",
      "execution_count": 9,
      "metadata": {
        "id": "oWiU03-J7gHa"
      },
      "outputs": [],
      "source": [
        "set_all_seeds(RANDOM_SEED)\n",
        "#set_deterministic()"
      ]
    },
    {
      "cell_type": "code",
      "execution_count": 10,
      "metadata": {
        "colab": {
          "base_uri": "https://localhost:8080/"
        },
        "id": "m-FxDI2k7gHb",
        "outputId": "3b0d4e95-ad6d-4cf2-a1a5-6ccdd0e00036"
      },
      "outputs": [
        {
          "output_type": "stream",
          "name": "stdout",
          "text": [
            "Image batch dimensions: torch.Size([256, 1, 28, 28])\n",
            "Image label dimensions: torch.Size([256])\n",
            "Class labels of 10 examples: tensor([4, 5, 8, 9, 9, 4, 9, 9, 3, 9])\n"
          ]
        }
      ],
      "source": [
        "##########################\n",
        "### MNIST DATASET\n",
        "##########################\n",
        "\n",
        "train_loader, valid_loader, test_loader = get_dataloaders_mnist(\n",
        "    batch_size=BATCH_SIZE,\n",
        "    validation_fraction=0.1)\n",
        "\n",
        "# Checking the dataset\n",
        "for images, labels in train_loader:  \n",
        "    print('Image batch dimensions:', images.shape)\n",
        "    print('Image label dimensions:', labels.shape)\n",
        "    print('Class labels of 10 examples:', labels[:10])\n",
        "    break"
      ]
    },
    {
      "cell_type": "markdown",
      "metadata": {
        "id": "A5ZJgs3p7gHc"
      },
      "source": [
        "## Model"
      ]
    },
    {
      "cell_type": "code",
      "execution_count": 11,
      "metadata": {
        "id": "0vTyYwRb7gHd"
      },
      "outputs": [],
      "source": [
        "class MultilayerPerceptron(torch.nn.Module):\n",
        "\n",
        "    def __init__(self, num_features, num_classes, drop_proba, \n",
        "                 num_hidden_1, num_hidden_2):\n",
        "        super().__init__()\n",
        "        \n",
        "        self.my_network = torch.nn.Sequential(\n",
        "            # 1st hidden layer\n",
        "            torch.nn.Flatten(),\n",
        "            torch.nn.Linear(num_features, num_hidden_1, bias=False),\n",
        "            torch.nn.BatchNorm1d(num_hidden_1),\n",
        "            torch.nn.ReLU(),\n",
        "            torch.nn.Dropout(0.5),\n",
        "            # 2nd hidden layer\n",
        "            torch.nn.Linear(num_hidden_1, num_hidden_2, bias=False),\n",
        "            torch.nn.BatchNorm1d(num_hidden_2),\n",
        "            torch.nn.ReLU(),\n",
        "            torch.nn.Dropout(0.3),\n",
        "            # output layer\n",
        "            torch.nn.Linear(num_hidden_2, num_classes)\n",
        "        )\n",
        "           \n",
        "    def forward(self, x):\n",
        "        logits = self.my_network(x)\n",
        "        return logits"
      ]
    },
    {
      "cell_type": "code",
      "execution_count": null,
      "metadata": {
        "colab": {
          "base_uri": "https://localhost:8080/"
        },
        "id": "uq4hazeR7gHd",
        "outputId": "8e6ab588-73f9-4d5d-e7a6-87587fb4c443"
      },
      "outputs": [
        {
          "output_type": "stream",
          "name": "stdout",
          "text": [
            "Epoch: 001/100 | Batch 0000/0210 | Loss: 2.3859\n",
            "Epoch: 001/100 | Batch 0100/0210 | Loss: 0.4805\n",
            "Epoch: 001/100 | Batch 0200/0210 | Loss: 0.4440\n",
            "Epoch: 001/100 | Train: 93.69% | Validation: 95.07%\n",
            "Time elapsed: 0.22 min\n",
            "Epoch: 002/100 | Batch 0000/0210 | Loss: 0.4458\n",
            "Epoch: 002/100 | Batch 0100/0210 | Loss: 0.3063\n",
            "Epoch: 002/100 | Batch 0200/0210 | Loss: 0.3967\n",
            "Epoch: 002/100 | Train: 95.52% | Validation: 96.35%\n",
            "Time elapsed: 0.39 min\n",
            "Epoch: 003/100 | Batch 0000/0210 | Loss: 0.3934\n",
            "Epoch: 003/100 | Batch 0100/0210 | Loss: 0.2613\n",
            "Epoch: 003/100 | Batch 0200/0210 | Loss: 0.3276\n",
            "Epoch: 003/100 | Train: 95.88% | Validation: 96.22%\n",
            "Time elapsed: 0.55 min\n",
            "Epoch: 004/100 | Batch 0000/0210 | Loss: 0.2734\n",
            "Epoch: 004/100 | Batch 0100/0210 | Loss: 0.3736\n",
            "Epoch: 004/100 | Batch 0200/0210 | Loss: 0.2961\n",
            "Epoch: 004/100 | Train: 96.43% | Validation: 96.73%\n",
            "Time elapsed: 0.72 min\n",
            "Epoch: 005/100 | Batch 0000/0210 | Loss: 0.2352\n",
            "Epoch: 005/100 | Batch 0100/0210 | Loss: 0.2915\n",
            "Epoch: 005/100 | Batch 0200/0210 | Loss: 0.2384\n",
            "Epoch: 005/100 | Train: 96.77% | Validation: 97.28%\n",
            "Time elapsed: 0.89 min\n",
            "Epoch: 006/100 | Batch 0000/0210 | Loss: 0.2076\n",
            "Epoch: 006/100 | Batch 0100/0210 | Loss: 0.3056\n",
            "Epoch: 006/100 | Batch 0200/0210 | Loss: 0.2950\n",
            "Epoch: 006/100 | Train: 96.74% | Validation: 97.05%\n",
            "Time elapsed: 1.05 min\n",
            "Epoch: 007/100 | Batch 0000/0210 | Loss: 0.2439\n",
            "Epoch: 007/100 | Batch 0100/0210 | Loss: 0.2202\n",
            "Epoch: 007/100 | Batch 0200/0210 | Loss: 0.2106\n",
            "Epoch: 007/100 | Train: 97.06% | Validation: 97.08%\n",
            "Time elapsed: 1.21 min\n",
            "Epoch: 008/100 | Batch 0000/0210 | Loss: 0.2491\n",
            "Epoch: 008/100 | Batch 0100/0210 | Loss: 0.2280\n",
            "Epoch: 008/100 | Batch 0200/0210 | Loss: 0.1684\n",
            "Epoch: 008/100 | Train: 97.17% | Validation: 97.15%\n",
            "Time elapsed: 1.38 min\n",
            "Epoch: 009/100 | Batch 0000/0210 | Loss: 0.2792\n",
            "Epoch: 009/100 | Batch 0100/0210 | Loss: 0.1934\n",
            "Epoch: 009/100 | Batch 0200/0210 | Loss: 0.2389\n",
            "Epoch: 009/100 | Train: 97.30% | Validation: 97.17%\n",
            "Time elapsed: 1.54 min\n",
            "Epoch: 010/100 | Batch 0000/0210 | Loss: 0.2461\n",
            "Epoch: 010/100 | Batch 0100/0210 | Loss: 0.3652\n",
            "Epoch: 010/100 | Batch 0200/0210 | Loss: 0.1988\n",
            "Epoch: 010/100 | Train: 97.37% | Validation: 97.15%\n",
            "Time elapsed: 1.71 min\n",
            "Epoch: 011/100 | Batch 0000/0210 | Loss: 0.1719\n",
            "Epoch: 011/100 | Batch 0100/0210 | Loss: 0.1744\n",
            "Epoch: 011/100 | Batch 0200/0210 | Loss: 0.1768\n",
            "Epoch: 011/100 | Train: 97.47% | Validation: 97.12%\n",
            "Time elapsed: 1.87 min\n",
            "Epoch: 012/100 | Batch 0000/0210 | Loss: 0.3035\n",
            "Epoch: 012/100 | Batch 0100/0210 | Loss: 0.2182\n",
            "Epoch: 012/100 | Batch 0200/0210 | Loss: 0.2713\n",
            "Epoch: 012/100 | Train: 97.66% | Validation: 97.42%\n",
            "Time elapsed: 2.04 min\n",
            "Epoch: 013/100 | Batch 0000/0210 | Loss: 0.1468\n",
            "Epoch: 013/100 | Batch 0100/0210 | Loss: 0.1793\n",
            "Epoch: 013/100 | Batch 0200/0210 | Loss: 0.1809\n",
            "Epoch: 013/100 | Train: 97.57% | Validation: 97.32%\n",
            "Time elapsed: 2.22 min\n",
            "Epoch: 014/100 | Batch 0000/0210 | Loss: 0.2073\n",
            "Epoch: 014/100 | Batch 0100/0210 | Loss: 0.2947\n",
            "Epoch: 014/100 | Batch 0200/0210 | Loss: 0.2223\n"
          ]
        }
      ],
      "source": [
        "torch.manual_seed(RANDOM_SEED)\n",
        "model = MultilayerPerceptron(num_features=28*28,\n",
        "                             num_hidden_1=NUM_HIDDEN_1,\n",
        "                             num_hidden_2=NUM_HIDDEN_2,\n",
        "                             drop_proba=0.5,\n",
        "                             num_classes=10)\n",
        "model = model.to(DEVICE)\n",
        "\n",
        "optimizer = torch.optim.Adam(model.parameters(), lr=0.005)\n",
        "\n",
        "minibatch_loss_list, train_acc_list, valid_acc_list = train_model(\n",
        "    model=model,\n",
        "    num_epochs=NUM_EPOCHS,\n",
        "    train_loader=train_loader,\n",
        "    valid_loader=valid_loader,\n",
        "    test_loader=test_loader,\n",
        "    optimizer=optimizer,\n",
        "    device=DEVICE,\n",
        "    logging_interval=100)\n",
        "\n",
        "plot_training_loss(minibatch_loss_list=minibatch_loss_list,\n",
        "                   num_epochs=NUM_EPOCHS,\n",
        "                   iter_per_epoch=len(train_loader),\n",
        "                   results_dir=None,\n",
        "                   averaging_iterations=20)\n",
        "plt.show()\n",
        "\n",
        "plot_accuracy(train_acc_list=train_acc_list,\n",
        "              valid_acc_list=valid_acc_list,\n",
        "              results_dir=None)\n",
        "plt.ylim([80, 100])\n",
        "plt.show()"
      ]
    }
  ],
  "metadata": {
    "kernelspec": {
      "display_name": "Python 3",
      "language": "python",
      "name": "python3"
    },
    "language_info": {
      "codemirror_mode": {
        "name": "ipython",
        "version": 3
      },
      "file_extension": ".py",
      "mimetype": "text/x-python",
      "name": "python",
      "nbconvert_exporter": "python",
      "pygments_lexer": "ipython3",
      "version": "3.9.2"
    },
    "toc": {
      "nav_menu": {},
      "number_sections": true,
      "sideBar": true,
      "skip_h1_title": false,
      "title_cell": "Table of Contents",
      "title_sidebar": "Contents",
      "toc_cell": false,
      "toc_position": {},
      "toc_section_display": true,
      "toc_window_display": false
    },
    "colab": {
      "provenance": []
    },
    "accelerator": "GPU",
    "gpuClass": "standard"
  },
  "nbformat": 4,
  "nbformat_minor": 0
}