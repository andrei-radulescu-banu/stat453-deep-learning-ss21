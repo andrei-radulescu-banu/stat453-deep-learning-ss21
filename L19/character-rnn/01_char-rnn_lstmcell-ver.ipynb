{
  "cells": [
    {
      "cell_type": "code",
      "source": [
        "!pip install watermark\n",
        "!git clone https://github.com/andrei-radulescu-banu/stat453-deep-learning-ss21.git\n",
        "import sys, os\n",
        "sys.path.append(\"/content/stat453-deep-learning-ss21/L19\")"
      ],
      "metadata": {
        "id": "dFMVoo1mX0Qv",
        "outputId": "5b93e410-58a2-45fc-ec57-3416a674a96d",
        "colab": {
          "base_uri": "https://localhost:8080/"
        }
      },
      "execution_count": 1,
      "outputs": [
        {
          "output_type": "stream",
          "name": "stdout",
          "text": [
            "Looking in indexes: https://pypi.org/simple, https://us-python.pkg.dev/colab-wheels/public/simple/\n",
            "Collecting watermark\n",
            "  Downloading watermark-2.3.1-py2.py3-none-any.whl (7.2 kB)\n",
            "Requirement already satisfied: ipython in /usr/local/lib/python3.8/dist-packages (from watermark) (7.9.0)\n",
            "Requirement already satisfied: prompt-toolkit<2.1.0,>=2.0.0 in /usr/local/lib/python3.8/dist-packages (from ipython->watermark) (2.0.10)\n",
            "Collecting jedi>=0.10\n",
            "  Downloading jedi-0.18.2-py2.py3-none-any.whl (1.6 MB)\n",
            "\u001b[2K     \u001b[90m━━━━━━━━━━━━━━━━━━━━━━━━━━━━━━━━━━━━━━━━\u001b[0m \u001b[32m1.6/1.6 MB\u001b[0m \u001b[31m17.6 MB/s\u001b[0m eta \u001b[36m0:00:00\u001b[0m\n",
            "\u001b[?25hRequirement already satisfied: pygments in /usr/local/lib/python3.8/dist-packages (from ipython->watermark) (2.6.1)\n",
            "Requirement already satisfied: setuptools>=18.5 in /usr/local/lib/python3.8/dist-packages (from ipython->watermark) (57.4.0)\n",
            "Requirement already satisfied: pexpect in /usr/local/lib/python3.8/dist-packages (from ipython->watermark) (4.8.0)\n",
            "Requirement already satisfied: decorator in /usr/local/lib/python3.8/dist-packages (from ipython->watermark) (4.4.2)\n",
            "Requirement already satisfied: traitlets>=4.2 in /usr/local/lib/python3.8/dist-packages (from ipython->watermark) (5.7.1)\n",
            "Requirement already satisfied: pickleshare in /usr/local/lib/python3.8/dist-packages (from ipython->watermark) (0.7.5)\n",
            "Requirement already satisfied: backcall in /usr/local/lib/python3.8/dist-packages (from ipython->watermark) (0.2.0)\n",
            "Requirement already satisfied: parso<0.9.0,>=0.8.0 in /usr/local/lib/python3.8/dist-packages (from jedi>=0.10->ipython->watermark) (0.8.3)\n",
            "Requirement already satisfied: six>=1.9.0 in /usr/local/lib/python3.8/dist-packages (from prompt-toolkit<2.1.0,>=2.0.0->ipython->watermark) (1.15.0)\n",
            "Requirement already satisfied: wcwidth in /usr/local/lib/python3.8/dist-packages (from prompt-toolkit<2.1.0,>=2.0.0->ipython->watermark) (0.2.6)\n",
            "Requirement already satisfied: ptyprocess>=0.5 in /usr/local/lib/python3.8/dist-packages (from pexpect->ipython->watermark) (0.7.0)\n",
            "Installing collected packages: jedi, watermark\n",
            "Successfully installed jedi-0.18.2 watermark-2.3.1\n",
            "Cloning into 'stat453-deep-learning-ss21'...\n",
            "remote: Enumerating objects: 1529, done.\u001b[K\n",
            "remote: Counting objects: 100% (479/479), done.\u001b[K\n",
            "remote: Compressing objects: 100% (152/152), done.\u001b[K\n",
            "remote: Total 1529 (delta 378), reused 359 (delta 304), pack-reused 1050\u001b[K\n",
            "Receiving objects: 100% (1529/1529), 118.82 MiB | 9.13 MiB/s, done.\n",
            "Resolving deltas: 100% (482/482), done.\n"
          ]
        }
      ]
    },
    {
      "cell_type": "markdown",
      "metadata": {
        "id": "rKHfg60uXxAu"
      },
      "source": [
        "STAT 453: Deep Learning (Spring 2021)  \n",
        "Instructor: Sebastian Raschka (sraschka@wisc.edu)  \n",
        "\n",
        "Course website: http://pages.stat.wisc.edu/~sraschka/teaching/stat453-ss2021/  \n",
        "GitHub repository: https://github.com/rasbt/stat453-deep-learning-ss21\n",
        "\n",
        "---"
      ]
    },
    {
      "cell_type": "markdown",
      "metadata": {
        "id": "Ul8MQGwxXxAw"
      },
      "source": [
        "# Character RNN"
      ]
    },
    {
      "cell_type": "markdown",
      "metadata": {
        "id": "L24QVN8uwirR"
      },
      "source": [
        "A simple character-level RNN to generate new bits of text based on text."
      ]
    },
    {
      "cell_type": "code",
      "source": [
        "!pip install unidecode"
      ],
      "metadata": {
        "id": "pNy7QAhZYDd9",
        "outputId": "0c8dede7-1201-429d-9d7f-2c47b891baee",
        "colab": {
          "base_uri": "https://localhost:8080/"
        }
      },
      "execution_count": 4,
      "outputs": [
        {
          "output_type": "stream",
          "name": "stdout",
          "text": [
            "Looking in indexes: https://pypi.org/simple, https://us-python.pkg.dev/colab-wheels/public/simple/\n",
            "Collecting unidecode\n",
            "  Downloading Unidecode-1.3.6-py3-none-any.whl (235 kB)\n",
            "\u001b[2K     \u001b[90m━━━━━━━━━━━━━━━━━━━━━━━━━━━━━━━━━━━━━━━\u001b[0m \u001b[32m235.9/235.9 KB\u001b[0m \u001b[31m5.8 MB/s\u001b[0m eta \u001b[36m0:00:00\u001b[0m\n",
            "\u001b[?25hInstalling collected packages: unidecode\n",
            "Successfully installed unidecode-1.3.6\n"
          ]
        }
      ]
    },
    {
      "cell_type": "code",
      "execution_count": 5,
      "metadata": {
        "colab": {
          "base_uri": "https://localhost:8080/"
        },
        "id": "moNmVfuvnImW",
        "outputId": "a72efee1-cfdc-41c1-f41c-489da8413bb1"
      },
      "outputs": [
        {
          "output_type": "stream",
          "name": "stdout",
          "text": [
            "The watermark extension is already loaded. To reload it, use:\n",
            "  %reload_ext watermark\n",
            "Author: Sebastian Raschka\n",
            "\n",
            "Python implementation: CPython\n",
            "Python version       : 3.8.10\n",
            "IPython version      : 7.9.0\n",
            "\n",
            "torch    : 1.13.1+cu116\n",
            "torchtext: 0.14.1\n",
            "\n"
          ]
        }
      ],
      "source": [
        "%load_ext watermark\n",
        "%watermark -a 'Sebastian Raschka' -v -p torch,torchtext\n",
        "\n",
        "import time\n",
        "import random\n",
        "import unidecode\n",
        "import string\n",
        "import re\n",
        "\n",
        "import matplotlib.pyplot as plt\n",
        "import torch\n",
        "\n",
        "torch.backends.cudnn.deterministic = True"
      ]
    },
    {
      "cell_type": "markdown",
      "metadata": {
        "id": "GSRL42Qgy8I8"
      },
      "source": [
        "## General Settings"
      ]
    },
    {
      "cell_type": "code",
      "execution_count": 6,
      "metadata": {
        "colab": {
          "base_uri": "https://localhost:8080/"
        },
        "id": "OvW1RgfepCBq",
        "outputId": "d28dfc10-d3dd-4825-a70e-0e5f1bd88397"
      },
      "outputs": [
        {
          "output_type": "stream",
          "name": "stdout",
          "text": [
            "Device: cpu\n"
          ]
        }
      ],
      "source": [
        "RANDOM_SEED = 123\n",
        "torch.manual_seed(RANDOM_SEED)\n",
        "\n",
        "DEVICE = torch.device('cpu')\n",
        "\n",
        "TEXT_PORTION_SIZE = 200\n",
        "\n",
        "NUM_ITER = 5000\n",
        "LEARNING_RATE = 0.005\n",
        "EMBEDDING_DIM = 100\n",
        "HIDDEN_DIM = 128\n",
        "\n",
        "print('Device:', DEVICE)"
      ]
    },
    {
      "cell_type": "markdown",
      "metadata": {
        "id": "mQMmKUEisW4W"
      },
      "source": [
        "## Dataset"
      ]
    },
    {
      "cell_type": "markdown",
      "metadata": {
        "id": "L-TBwKWPslPa"
      },
      "source": [
        "Convert all characters into ASCII characters provided by `string.printable`:"
      ]
    },
    {
      "cell_type": "code",
      "execution_count": 7,
      "metadata": {
        "colab": {
          "base_uri": "https://localhost:8080/",
          "height": 36
        },
        "id": "i8lk0nEnih-x",
        "outputId": "f28514e9-974d-4bc8-d41d-f57fd4486796"
      },
      "outputs": [
        {
          "output_type": "execute_result",
          "data": {
            "text/plain": [
              "'0123456789abcdefghijklmnopqrstuvwxyzABCDEFGHIJKLMNOPQRSTUVWXYZ!\"#$%&\\'()*+,-./:;<=>?@[\\\\]^_`{|}~ \\t\\n\\r\\x0b\\x0c'"
            ],
            "application/vnd.google.colaboratory.intrinsic+json": {
              "type": "string"
            }
          },
          "metadata": {},
          "execution_count": 7
        }
      ],
      "source": [
        "string.printable"
      ]
    },
    {
      "cell_type": "code",
      "execution_count": 8,
      "metadata": {
        "colab": {
          "base_uri": "https://localhost:8080/"
        },
        "id": "e8uNrjdtn4A8",
        "outputId": "54ab55af-7155-4640-a7f5-47e18f4fa50f"
      },
      "outputs": [
        {
          "output_type": "stream",
          "name": "stdout",
          "text": [
            "Number of characters in text: 84658\n"
          ]
        }
      ],
      "source": [
        "with open('/content/stat453-deep-learning-ss21/L19/character-rnn/covid19-faq.txt', 'r') as f:\n",
        "    textfile = f.read()\n",
        "\n",
        "# convert special characters\n",
        "textfile = unidecode.unidecode(textfile)\n",
        "\n",
        "# strip extra whitespaces\n",
        "textfile = re.sub(' +',' ', textfile)\n",
        "\n",
        "TEXT_LENGTH = len(textfile)\n",
        "\n",
        "print(f'Number of characters in text: {TEXT_LENGTH}')"
      ]
    },
    {
      "cell_type": "markdown",
      "metadata": {
        "id": "JpEMNInXtZsb"
      },
      "source": [
        "Divide the text into smaller portions:"
      ]
    },
    {
      "cell_type": "code",
      "execution_count": 9,
      "metadata": {
        "colab": {
          "base_uri": "https://localhost:8080/"
        },
        "id": "i7JiHR1stHNF",
        "outputId": "9f9a7431-34d4-4fbf-e8cb-e4c4a7ddbb12"
      },
      "outputs": [
        {
          "output_type": "stream",
          "name": "stdout",
          "text": [
            "heck with the vaccine provider.\n",
            "\n",
            "If you're traveling away from Madison before your second dose, we encourage you to get your first dose on campus now and obtain a second dose once you reach your new lo\n"
          ]
        }
      ],
      "source": [
        "random.seed(RANDOM_SEED)\n",
        "\n",
        "def random_portion(textfile):\n",
        "    start_index = random.randint(0, TEXT_LENGTH - TEXT_PORTION_SIZE)\n",
        "    end_index = start_index + TEXT_PORTION_SIZE + 1\n",
        "    return textfile[start_index:end_index]\n",
        "\n",
        "print(random_portion(textfile))"
      ]
    },
    {
      "cell_type": "markdown",
      "metadata": {
        "id": "PhZQCuBZkzgm"
      },
      "source": [
        "Define a function to convert characters into tensors of integers (type long):\n"
      ]
    },
    {
      "cell_type": "code",
      "execution_count": 10,
      "metadata": {
        "colab": {
          "base_uri": "https://localhost:8080/"
        },
        "id": "Ga-_g7Ltk479",
        "outputId": "eeb6e20b-e667-40a8-df45-0976077f09ca"
      },
      "outputs": [
        {
          "output_type": "stream",
          "name": "stdout",
          "text": [
            "tensor([10, 11, 12, 39, 40, 41])\n"
          ]
        }
      ],
      "source": [
        "def char_to_tensor(text):\n",
        "    lst = [string.printable.index(c) for c in text]\n",
        "    tensor = torch.tensor(lst).long()\n",
        "    return tensor\n",
        "\n",
        "print(char_to_tensor('abcDEF'))"
      ]
    },
    {
      "cell_type": "markdown",
      "metadata": {
        "id": "ph8OESgtmUqD"
      },
      "source": [
        "Putting it together to make a function that draws random batches for training:"
      ]
    },
    {
      "cell_type": "code",
      "execution_count": 11,
      "metadata": {
        "id": "U_mVm5LOl95j"
      },
      "outputs": [],
      "source": [
        "def draw_random_sample(textfile):    \n",
        "    text_long = char_to_tensor(random_portion(textfile))\n",
        "    inputs = text_long[:-1]\n",
        "    targets = text_long[1:]\n",
        "    return inputs, targets"
      ]
    },
    {
      "cell_type": "code",
      "execution_count": 12,
      "metadata": {
        "colab": {
          "base_uri": "https://localhost:8080/"
        },
        "id": "uY8FnmSkxGZ-",
        "outputId": "aa98eddb-9a36-4886-92ed-3c2742ed1417"
      },
      "outputs": [
        {
          "output_type": "execute_result",
          "data": {
            "text/plain": [
              "(tensor([ 0, 94, 24, 27, 94, 21, 10, 29, 14, 27, 94, 24, 15, 94, 26, 30, 10, 27,\n",
              "         10, 23, 29, 18, 23, 14, 94, 10, 23, 13, 94, 34, 24, 30, 27, 94, 37, 10,\n",
              "         13, 16, 14, 27, 94, 37, 10, 13, 16, 14, 94, 18, 23, 13, 18, 12, 10, 29,\n",
              "         14, 28, 94, 63, 11, 30, 18, 21, 13, 18, 23, 16, 94, 10, 12, 12, 14, 28,\n",
              "         28, 94, 16, 27, 10, 23, 29, 14, 13, 75, 63, 96, 54, 14, 14, 94, 29, 17,\n",
              "         14, 94, 56, 23, 18, 31, 14, 27, 28, 18, 29, 34, 94, 43, 14, 10, 21, 29,\n",
              "         17, 94, 54, 14, 27, 31, 18, 12, 14, 28, 94, 32, 14, 11, 28, 18, 29, 14,\n",
              "         94, 15, 24, 27, 94, 22, 24, 27, 14, 94, 18, 23, 15, 24, 27, 22, 10, 29,\n",
              "         18, 24, 23, 94, 10, 11, 24, 30, 29, 94, 26, 30, 10, 27, 10, 23, 29, 18,\n",
              "         23, 14, 94, 10, 23, 13, 94, 18, 28, 24, 21, 10, 29, 18, 24, 23, 75, 96,\n",
              "         96, 58, 17, 18, 21, 14, 94,  1,  4, 94, 13, 10, 34, 28, 94, 18, 28, 94,\n",
              "         29, 17]),\n",
              " tensor([94, 24, 27, 94, 21, 10, 29, 14, 27, 94, 24, 15, 94, 26, 30, 10, 27, 10,\n",
              "         23, 29, 18, 23, 14, 94, 10, 23, 13, 94, 34, 24, 30, 27, 94, 37, 10, 13,\n",
              "         16, 14, 27, 94, 37, 10, 13, 16, 14, 94, 18, 23, 13, 18, 12, 10, 29, 14,\n",
              "         28, 94, 63, 11, 30, 18, 21, 13, 18, 23, 16, 94, 10, 12, 12, 14, 28, 28,\n",
              "         94, 16, 27, 10, 23, 29, 14, 13, 75, 63, 96, 54, 14, 14, 94, 29, 17, 14,\n",
              "         94, 56, 23, 18, 31, 14, 27, 28, 18, 29, 34, 94, 43, 14, 10, 21, 29, 17,\n",
              "         94, 54, 14, 27, 31, 18, 12, 14, 28, 94, 32, 14, 11, 28, 18, 29, 14, 94,\n",
              "         15, 24, 27, 94, 22, 24, 27, 14, 94, 18, 23, 15, 24, 27, 22, 10, 29, 18,\n",
              "         24, 23, 94, 10, 11, 24, 30, 29, 94, 26, 30, 10, 27, 10, 23, 29, 18, 23,\n",
              "         14, 94, 10, 23, 13, 94, 18, 28, 24, 21, 10, 29, 18, 24, 23, 75, 96, 96,\n",
              "         58, 17, 18, 21, 14, 94,  1,  4, 94, 13, 10, 34, 28, 94, 18, 28, 94, 29,\n",
              "         17, 14]))"
            ]
          },
          "metadata": {},
          "execution_count": 12
        }
      ],
      "source": [
        "draw_random_sample(textfile)"
      ]
    },
    {
      "cell_type": "markdown",
      "metadata": {
        "id": "G_grdW3pxCzz"
      },
      "source": [
        "## Model"
      ]
    },
    {
      "cell_type": "code",
      "execution_count": 13,
      "metadata": {
        "id": "nQIUm5EjxFNa"
      },
      "outputs": [],
      "source": [
        "class RNN(torch.nn.Module):\n",
        "    def __init__(self, input_size, embed_size,\n",
        "                 hidden_size, output_size):\n",
        "        super().__init__()\n",
        "\n",
        "        self.hidden_size = hidden_size\n",
        "        \n",
        "        self.embed = torch.nn.Embedding(num_embeddings=input_size,\n",
        "                                        embedding_dim=embed_size)\n",
        "        self.rnn = torch.nn.LSTMCell(input_size=embed_size,\n",
        "                                     hidden_size=hidden_size)\n",
        "        self.fc = torch.nn.Linear(hidden_size, output_size)\n",
        "    \n",
        "    def forward(self, character, hidden, cell_state):\n",
        "        # expects character as size [batch_size, 1]\n",
        "    \n",
        "        # [batch size, embedding dim] = [1, embedding dim]\n",
        "        embedded = self.embed(character)\n",
        "\n",
        "        (hidden, cell_state) = self.rnn(embedded, (hidden, cell_state))\n",
        "        # 1. output dim: [batch size, output_size] = [1, output_size]\n",
        "        # 2. hidden dim: [batch size, hidden dim] = [1, hidden dim]\n",
        "        # 3. cell dim: [batch size, hidden dim] = [1, hidden dim]\n",
        "\n",
        "        output = self.fc(hidden)\n",
        "\n",
        "        return output, hidden, cell_state\n",
        "      \n",
        "    def init_zero_state(self):\n",
        "        init_hidden = torch.zeros(1, self.hidden_size).to(DEVICE)\n",
        "        init_cell = torch.zeros(1, self.hidden_size).to(DEVICE)\n",
        "        return (init_hidden, init_cell)"
      ]
    },
    {
      "cell_type": "code",
      "execution_count": 14,
      "metadata": {
        "id": "Ik3NF3faxFmZ"
      },
      "outputs": [],
      "source": [
        "torch.manual_seed(RANDOM_SEED)\n",
        "model = RNN(len(string.printable), EMBEDDING_DIM, HIDDEN_DIM, len(string.printable))\n",
        "model = model.to(DEVICE)\n",
        "optimizer = torch.optim.Adam(model.parameters(), lr=LEARNING_RATE)"
      ]
    },
    {
      "cell_type": "markdown",
      "metadata": {
        "id": "Lv9Ny9di6VcI"
      },
      "source": [
        "## Training"
      ]
    },
    {
      "cell_type": "code",
      "execution_count": 15,
      "metadata": {
        "id": "x5XlCqm3pMj2"
      },
      "outputs": [],
      "source": [
        "def evaluate(model, prime_str='A', predict_len=100, temperature=0.8):\n",
        "    ## based on https://github.com/spro/practical-pytorch/\n",
        "    ## blob/master/char-rnn-generation/char-rnn-generation.ipynb\n",
        "\n",
        "    (hidden, cell_state) = model.init_zero_state()\n",
        "    prime_input = char_to_tensor(prime_str)\n",
        "    predicted = prime_str\n",
        "\n",
        "    # Use priming string to \"build up\" hidden state\n",
        "    for p in range(len(prime_str) - 1):\n",
        "        inp = prime_input[p].unsqueeze(0)\n",
        "        _, hidden, cell_state = model(inp.to(DEVICE), hidden, cell_state)\n",
        "    inp = prime_input[-1].unsqueeze(0)\n",
        "    \n",
        "    for p in range(predict_len):\n",
        "\n",
        "        outputs, hidden, cell_state = model(inp.to(DEVICE), hidden, cell_state)\n",
        "        \n",
        "        # Sample from the network as a multinomial distribution\n",
        "        output_dist = outputs.data.view(-1).div(temperature).exp() # e^{logits / T}\n",
        "        top_i = torch.multinomial(output_dist, 1)[0]\n",
        "        \n",
        "        # Add predicted character to string and use as next input\n",
        "        predicted_char = string.printable[top_i]\n",
        "        predicted += predicted_char\n",
        "        inp = char_to_tensor(predicted_char)\n",
        "\n",
        "    return predicted"
      ]
    },
    {
      "cell_type": "code",
      "execution_count": 16,
      "metadata": {
        "colab": {
          "base_uri": "https://localhost:8080/",
          "height": 1000
        },
        "id": "ZNv7_wE4prjX",
        "outputId": "bdd8166c-261f-4786-b210-ff9a1e27cbda"
      },
      "outputs": [
        {
          "output_type": "stream",
          "name": "stdout",
          "text": [
            "Time elapsed: 0.01 min\n",
            "Iteration 0 | Loss 4.63\n",
            "\n",
            "\n",
            "ThA\n",
            ";f+_NWmsdcrx~\rC8(\n",
            "+ ,j-1-7pH&1\"B5Ckl]7C~=\tR\rAGq40uWn\"?LY\n",
            "n&u8Wor*K\\/=u;+M0|~@]2L\fq\n",
            "pYn^.06Bv\tK=Uqv:3Wmw`^C!OUMY\n",
            "K7;&eHG{_K\n",
            "{(#=uF+Rn%%nzh*`w'f+31:2zMiS!SV/nZu<]3>EoI!Rb*M,f`:M]r\u000b]*jkgUQVg\u000bO=nJ_CM1q\r \n",
            "\n",
            "==================================================\n",
            "Time elapsed: 0.58 min\n",
            "Iteration 200 | Loss 2.08\n",
            "\n",
            "\n",
            "The cablici mestainal the al coplity your be and ants doy haplate rentranty resil the to stunts pare the the antain untd yout als the resest in will Cuke bition expouts gill fallern in vafinite ap and a \n",
            "\n",
            "==================================================\n",
            "Time elapsed: 1.16 min\n",
            "Iteration 400 | Loss 2.07\n",
            "\n",
            "\n",
            "The need wrew working this the for procting whorving test ead in the has Uallo neeftted by impust as sprocal wollan appubly be the sully\n",
            "\n",
            "If some will hours who expost yous a padge the have will to noth \n",
            "\n",
            "==================================================\n",
            "Time elapsed: 1.72 min\n",
            "Iteration 600 | Loss 1.77\n",
            "\n",
            "\n",
            "Th us will beppa required a remative to student a resum-by assure an to are that mose a to students. Studing to on the an in to live you's of a require remide this Caccination on to requetion romenicati \n",
            "\n",
            "==================================================\n",
            "Time elapsed: 2.28 min\n",
            "Iteration 800 | Loss 1.41\n",
            "\n",
            "\n",
            "Thic proted that the privily accorficord and off-baded should with the vaccinated inding with the solated the Badgers resuate sours with be are your frons regive for access will granticiemed and vell an \n",
            "\n",
            "==================================================\n",
            "Time elapsed: 2.84 min\n",
            "Iteration 1000 | Loss 1.53\n",
            "\n",
            "\n",
            "Thing in inelth Serute be to test been intress prote's capus but when 24 dose is or the testing in cortated on to notiversity Health student when where on testing testing may resear messible tell your l \n",
            "\n",
            "==================================================\n",
            "Time elapsed: 3.41 min\n",
            "Iteration 1200 | Loss 1.34\n",
            "\n",
            "\n",
            "Ther fist is to a to to campus be can the distait of healthoor to will be access provider 1n you coming side be brever withesis to is meas COVID-19 action they or to as is offere able can in the a their \n",
            "\n",
            "==================================================\n",
            "Time elapsed: 3.95 min\n",
            "Iteration 1400 | Loss 1.25\n",
            "\n",
            "\n",
            "The Saccine prrouring to neet out firsted with the greep indated from more covering and Badgers when the campus, available within & dison a an or can in to remotines not case business doment for a pacti \n",
            "\n",
            "==================================================\n",
            "Time elapsed: 4.54 min\n",
            "Iteration 1600 | Loss 1.55\n",
            "\n",
            "\n",
            "The Wiscrons; in-pist provided to access granting or a program will help inclupted positiming could celpsonss to a receident result. We also more will be evering our this for these our building testing  \n",
            "\n",
            "==================================================\n",
            "Time elapsed: 5.14 min\n",
            "Iteration 1800 | Loss 1.32\n",
            "\n",
            "\n",
            "The first to access to you are computions of testing remaily and allow the Nethie, you testing status and only the versity Hours to community testing, not with campus (is and required to time, you for s \n",
            "\n",
            "==================================================\n",
            "Time elapsed: 5.70 min\n",
            "Iteration 2000 | Loss 1.02\n",
            "\n",
            "\n",
            "The the Safer Badge conside to get ters of the publity specones to that by insure the moge as the provided to remain partment agle Wisconsin the test of Health Services of to nother the participate with \n",
            "\n",
            "==================================================\n",
            "Time elapsed: 6.27 min\n",
            "Iteration 2200 | Loss 1.18\n",
            "\n",
            "\n",
            "The facult is at the Wisconsin vaccination tests who have are stitulable exempt to location not conseled to effor faculage and prander or polica to can reasonal your possible. We encould contact provide \n",
            "\n",
            "==================================================\n",
            "Time elapsed: 6.83 min\n",
            "Iteration 2400 | Loss 1.41\n",
            "\n",
            "\n",
            "The scheck students, as provider on the usents. You sends and milize to campus, your vaccine have facation, estuded prility:/\n",
            "\n",
            "Mirection of time weeks are a file. Doks. (PARse second such as that such a \n",
            "\n",
            "==================================================\n",
            "Time elapsed: 7.40 min\n",
            "Iteration 2600 | Loss 1.26\n",
            "\n",
            "\n",
            "The second remain Diperial expected. To can at events, oprivacy be unit employees when compliance and a compliance when your time to awab a vary vaccine providers app be and any vaccine a falict for 9 U \n",
            "\n",
            "==================================================\n",
            "Time elapsed: 7.97 min\n",
            "Iteration 2800 | Loss 1.19\n",
            "\n",
            "\n",
            "Thing remain pain individual example, your Badger Badge your are availability to seperated to the employees student and COVID-11, the exemption, is normal expecline and of the likenied by their supervis \n",
            "\n",
            "==================================================\n",
            "Time elapsed: 8.54 min\n",
            "Iteration 3000 | Loss 1.21\n",
            "\n",
            "\n",
            "Tho acase remain an as someone to gathering pervices in shorted center status in their test results who must the in their comit of your Badger Badge in the residenct to testices and have clinic hiab hel \n",
            "\n",
            "==================================================\n",
            "Time elapsed: 9.11 min\n",
            "Iteration 3200 | Loss 1.79\n",
            "\n",
            "\n",
            "The employee's on the turn travel harken your get and campus quarantines Blourage your test dure status opera at you are not chectors to live a spring access grvented (with Wisconsin the positive disabi \n",
            "\n",
            "==================================================\n",
            "Time elapsed: 9.66 min\n",
            "Iteration 3400 | Loss 1.03\n",
            "\n",
            "\n",
            "Thy parking weore to campus, date a students and record with the Pfizer on file. These for compliance.\n",
            "\n",
            "University Health Services traveling or locations to retween the to the vaccine are in our site po \n",
            "\n",
            "==================================================\n",
            "Time elapsed: 10.23 min\n",
            "Iteration 3600 | Loss 1.39\n",
            "\n",
            "\n",
            "The not research test betue you are testing to get test fay receive test may be grom test of the Well. Health Service COVID-19 test on additional excepted to deasy UW-Madison UHS with the app, their stu \n",
            "\n",
            "==================================================\n",
            "Time elapsed: 10.79 min\n",
            "Iteration 3800 | Loss 1.04\n",
            "\n",
            "\n",
            "There requirement the vaccination offer two do maintation.\n",
            "\n",
            "Private and to student on the first do notification of COVID-19, should Health op who have a paid our deasts tested coonability, your badge in \n",
            "\n",
            "==================================================\n",
            "Time elapsed: 11.37 min\n",
            "Iteration 4000 | Loss 1.43\n",
            "\n",
            "\n",
            "The test covers; your results, and to test eventy is seek any people will disability, the testing the saliva testing availities and the app will not record to weeks ay soon as encourage your contact the \n",
            "\n",
            "==================================================\n",
            "Time elapsed: 11.95 min\n",
            "Iteration 4200 | Loss 1.20\n",
            "\n",
            "\n",
            "The acadaily are covery. If you during in accept policy, provided by a building access to safety a COVID-19 test pospain encopsing available for a birk in vaccine or got standaring with the first dose a \n",
            "\n",
            "==================================================\n",
            "Time elapsed: 12.52 min\n",
            "Iteration 4400 | Loss 0.89\n",
            "\n",
            "\n",
            "The testing testing campus, or discomm.m we wearned academic policy about person symptoms academic associately review well as students who seek usely for divedation from their usernationed to other have \n",
            "\n",
            "==================================================\n",
            "Time elapsed: 13.10 min\n",
            "Iteration 4600 | Loss 1.31\n",
            "\n",
            "\n",
            "The apporated proceed access grement of the person in adanease has more availabuse of the Wellow develessionel following the Madison Services Safer's complete to use surgers mease public health campus b \n",
            "\n",
            "==================================================\n",
            "Time elapsed: 13.65 min\n",
            "Iteration 4800 | Loss 0.95\n",
            "\n",
            "\n",
            "The receiving shared in bote to you receive travel policies to enter a sample well as will be test result on a facilities to find to campus be administrates to a instructions may requirements in the fol \n",
            "\n",
            "==================================================\n"
          ]
        },
        {
          "output_type": "display_data",
          "data": {
            "text/plain": [
              "<Figure size 432x288 with 1 Axes>"
            ],
            "image/png": "[encoded data removed]"
          },
          "metadata": {
            "needs_background": "light"
          }
        }
      ],
      "source": [
        "start_time = time.time()\n",
        "\n",
        "loss_list = []\n",
        "\n",
        "for iteration in range(NUM_ITER):\n",
        "\n",
        "    hidden, cell_state = model.init_zero_state()\n",
        "    optimizer.zero_grad()\n",
        "    \n",
        "    loss = 0.\n",
        "    inputs, targets = draw_random_sample(textfile)\n",
        "    inputs, targets = inputs.to(DEVICE), targets.to(DEVICE)\n",
        "    \n",
        "    for c in range(TEXT_PORTION_SIZE):\n",
        "        outputs, hidden, cell_state = model(inputs[c].unsqueeze(0), hidden, cell_state)\n",
        "        loss += torch.nn.functional.cross_entropy(outputs, targets[c].view(1))\n",
        "\n",
        "    loss /= TEXT_PORTION_SIZE\n",
        "    loss.backward()\n",
        "    \n",
        "    ### UPDATE MODEL PARAMETERS\n",
        "    optimizer.step()\n",
        "\n",
        "    ### LOGGING\n",
        "    with torch.no_grad():\n",
        "        if iteration % 200 == 0:\n",
        "            print(f'Time elapsed: {(time.time() - start_time)/60:.2f} min')\n",
        "            print(f'Iteration {iteration} | Loss {loss.item():.2f}\\n\\n')\n",
        "            print(evaluate(model, 'Th', 200), '\\n')\n",
        "            print(50*'=')\n",
        "            \n",
        "            loss_list.append(loss.item())\n",
        "            plt.clf()\n",
        "            plt.plot(range(len(loss_list)), loss_list)\n",
        "            plt.ylabel('Loss')\n",
        "            plt.xlabel('Iteration x 1000')\n",
        "            plt.savefig('loss1.pdf')\n",
        "            \n",
        "plt.clf()\n",
        "plt.ylabel('Loss')\n",
        "plt.xlabel('Iteration x 1000')\n",
        "plt.plot(range(len(loss_list)), loss_list)\n",
        "plt.show()"
      ]
    },
    {
      "cell_type": "code",
      "execution_count": null,
      "metadata": {
        "id": "bsRx69H9XxBE"
      },
      "outputs": [],
      "source": []
    }
  ],
  "metadata": {
    "colab": {
      "name": "char-rnn.ipynb",
      "provenance": []
    },
    "kernelspec": {
      "display_name": "Python 3",
      "language": "python",
      "name": "python3"
    },
    "language_info": {
      "codemirror_mode": {
        "name": "ipython",
        "version": 3
      },
      "file_extension": ".py",
      "mimetype": "text/x-python",
      "name": "python",
      "nbconvert_exporter": "python",
      "pygments_lexer": "ipython3",
      "version": "3.9.2"
    },
    "gpuClass": "standard"
  },
  "nbformat": 4,
  "nbformat_minor": 0
}