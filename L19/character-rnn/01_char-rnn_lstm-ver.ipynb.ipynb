{
  "cells": [
    {
      "cell_type": "code",
      "source": [
        "!pip install watermark\n",
        "!git clone https://github.com/andrei-radulescu-banu/stat453-deep-learning-ss21.git\n",
        "import sys, os\n",
        "sys.path.append(\"/content/stat453-deep-learning-ss21/L19\")"
      ],
      "metadata": {
        "id": "U3y4ZBgDvqu9",
        "outputId": "879c054b-4ca7-4502-cfc0-e51ad5c46e38",
        "colab": {
          "base_uri": "https://localhost:8080/"
        }
      },
      "execution_count": 1,
      "outputs": [
        {
          "output_type": "stream",
          "name": "stdout",
          "text": [
            "Looking in indexes: https://pypi.org/simple, https://us-python.pkg.dev/colab-wheels/public/simple/\n",
            "Collecting watermark\n",
            "  Downloading watermark-2.3.1-py2.py3-none-any.whl (7.2 kB)\n",
            "Requirement already satisfied: ipython in /usr/local/lib/python3.8/dist-packages (from watermark) (7.9.0)\n",
            "Collecting jedi>=0.10\n",
            "  Downloading jedi-0.18.2-py2.py3-none-any.whl (1.6 MB)\n",
            "\u001b[2K     \u001b[90m━━━━━━━━━━━━━━━━━━━━━━━━━━━━━━━━━━━━━━━━\u001b[0m \u001b[32m1.6/1.6 MB\u001b[0m \u001b[31m18.9 MB/s\u001b[0m eta \u001b[36m0:00:00\u001b[0m\n",
            "\u001b[?25hRequirement already satisfied: setuptools>=18.5 in /usr/local/lib/python3.8/dist-packages (from ipython->watermark) (57.4.0)\n",
            "Requirement already satisfied: pygments in /usr/local/lib/python3.8/dist-packages (from ipython->watermark) (2.6.1)\n",
            "Requirement already satisfied: decorator in /usr/local/lib/python3.8/dist-packages (from ipython->watermark) (4.4.2)\n",
            "Requirement already satisfied: backcall in /usr/local/lib/python3.8/dist-packages (from ipython->watermark) (0.2.0)\n",
            "Requirement already satisfied: pickleshare in /usr/local/lib/python3.8/dist-packages (from ipython->watermark) (0.7.5)\n",
            "Requirement already satisfied: pexpect in /usr/local/lib/python3.8/dist-packages (from ipython->watermark) (4.8.0)\n",
            "Requirement already satisfied: prompt-toolkit<2.1.0,>=2.0.0 in /usr/local/lib/python3.8/dist-packages (from ipython->watermark) (2.0.10)\n",
            "Requirement already satisfied: traitlets>=4.2 in /usr/local/lib/python3.8/dist-packages (from ipython->watermark) (5.7.1)\n",
            "Requirement already satisfied: parso<0.9.0,>=0.8.0 in /usr/local/lib/python3.8/dist-packages (from jedi>=0.10->ipython->watermark) (0.8.3)\n",
            "Requirement already satisfied: six>=1.9.0 in /usr/local/lib/python3.8/dist-packages (from prompt-toolkit<2.1.0,>=2.0.0->ipython->watermark) (1.15.0)\n",
            "Requirement already satisfied: wcwidth in /usr/local/lib/python3.8/dist-packages (from prompt-toolkit<2.1.0,>=2.0.0->ipython->watermark) (0.2.6)\n",
            "Requirement already satisfied: ptyprocess>=0.5 in /usr/local/lib/python3.8/dist-packages (from pexpect->ipython->watermark) (0.7.0)\n",
            "Installing collected packages: jedi, watermark\n",
            "Successfully installed jedi-0.18.2 watermark-2.3.1\n",
            "Cloning into 'stat453-deep-learning-ss21'...\n",
            "remote: Enumerating objects: 1524, done.\u001b[K\n",
            "remote: Counting objects: 100% (474/474), done.\u001b[K\n",
            "remote: Compressing objects: 100% (147/147), done.\u001b[K\n",
            "remote: Total 1524 (delta 374), reused 359 (delta 304), pack-reused 1050\u001b[K\n",
            "Receiving objects: 100% (1524/1524), 118.80 MiB | 15.99 MiB/s, done.\n",
            "Resolving deltas: 100% (478/478), done.\n",
            "Updating files: 100% (938/938), done.\n"
          ]
        }
      ]
    },
    {
      "cell_type": "markdown",
      "metadata": {
        "id": "hXqygC49vgtM"
      },
      "source": [
        "STAT 453: Deep Learning (Spring 2021)  \n",
        "Instructor: Sebastian Raschka (sraschka@wisc.edu)  \n",
        "\n",
        "Course website: http://pages.stat.wisc.edu/~sraschka/teaching/stat453-ss2021/  \n",
        "GitHub repository: https://github.com/rasbt/stat453-deep-learning-ss21\n",
        "\n",
        "---"
      ]
    },
    {
      "cell_type": "markdown",
      "metadata": {
        "id": "jOZCw72AvgtN"
      },
      "source": [
        "# Character RNN"
      ]
    },
    {
      "cell_type": "markdown",
      "metadata": {
        "id": "L24QVN8uwirR"
      },
      "source": [
        "A simple character-level RNN to generate new bits of text based on text."
      ]
    },
    {
      "cell_type": "code",
      "source": [
        "!pip install unidecode"
      ],
      "metadata": {
        "id": "QEuJTYCkv89H",
        "outputId": "1175a7b4-0415-48a9-a13e-65a28fe058a7",
        "colab": {
          "base_uri": "https://localhost:8080/"
        }
      },
      "execution_count": 2,
      "outputs": [
        {
          "output_type": "stream",
          "name": "stdout",
          "text": [
            "Looking in indexes: https://pypi.org/simple, https://us-python.pkg.dev/colab-wheels/public/simple/\n",
            "Collecting unidecode\n",
            "  Downloading Unidecode-1.3.6-py3-none-any.whl (235 kB)\n",
            "\u001b[2K     \u001b[90m━━━━━━━━━━━━━━━━━━━━━━━━━━━━━━━━━━━━━━━\u001b[0m \u001b[32m235.9/235.9 KB\u001b[0m \u001b[31m5.3 MB/s\u001b[0m eta \u001b[36m0:00:00\u001b[0m\n",
            "\u001b[?25hInstalling collected packages: unidecode\n",
            "Successfully installed unidecode-1.3.6\n"
          ]
        }
      ]
    },
    {
      "cell_type": "code",
      "execution_count": 3,
      "metadata": {
        "colab": {
          "base_uri": "https://localhost:8080/"
        },
        "id": "moNmVfuvnImW",
        "outputId": "01bc567d-645e-4898-9fb2-80f835575212"
      },
      "outputs": [
        {
          "output_type": "stream",
          "name": "stdout",
          "text": [
            "Author: Sebastian Raschka\n",
            "\n",
            "Python implementation: CPython\n",
            "Python version       : 3.8.10\n",
            "IPython version      : 7.9.0\n",
            "\n",
            "torch    : 1.13.1+cu116\n",
            "torchtext: 0.14.1\n",
            "\n"
          ]
        }
      ],
      "source": [
        "%load_ext watermark\n",
        "%watermark -a 'Sebastian Raschka' -v -p torch,torchtext\n",
        "\n",
        "import time\n",
        "import random\n",
        "import unidecode\n",
        "import string\n",
        "import re\n",
        "\n",
        "import matplotlib.pyplot as plt\n",
        "import torch\n",
        "\n",
        "torch.backends.cudnn.deterministic = True"
      ]
    },
    {
      "cell_type": "markdown",
      "metadata": {
        "id": "GSRL42Qgy8I8"
      },
      "source": [
        "## General Settings"
      ]
    },
    {
      "cell_type": "code",
      "execution_count": 4,
      "metadata": {
        "colab": {
          "base_uri": "https://localhost:8080/"
        },
        "id": "OvW1RgfepCBq",
        "outputId": "a7b4d9ba-96d0-4bb8-e194-4b6394dd59b9"
      },
      "outputs": [
        {
          "output_type": "stream",
          "name": "stdout",
          "text": [
            "Device: cpu\n"
          ]
        }
      ],
      "source": [
        "RANDOM_SEED = 123\n",
        "torch.manual_seed(RANDOM_SEED)\n",
        "\n",
        "DEVICE = torch.device('cpu')\n",
        "\n",
        "TEXT_PORTION_SIZE = 200\n",
        "\n",
        "NUM_ITER = 5000\n",
        "LEARNING_RATE = 0.005\n",
        "EMBEDDING_DIM = 100\n",
        "HIDDEN_DIM = 100\n",
        "NUM_HIDDEN_LAYERS = 1\n",
        "\n",
        "print('Device:', DEVICE)"
      ]
    },
    {
      "cell_type": "markdown",
      "metadata": {
        "id": "mQMmKUEisW4W"
      },
      "source": [
        "## Dataset"
      ]
    },
    {
      "cell_type": "markdown",
      "metadata": {
        "id": "L-TBwKWPslPa"
      },
      "source": [
        "Convert all characters into ASCII characters provided by `string.printable`:"
      ]
    },
    {
      "cell_type": "code",
      "execution_count": 5,
      "metadata": {
        "colab": {
          "base_uri": "https://localhost:8080/",
          "height": 36
        },
        "id": "i8lk0nEnih-x",
        "outputId": "ae171e95-0f38-4890-e29e-e9c94ecfe1b6"
      },
      "outputs": [
        {
          "output_type": "execute_result",
          "data": {
            "text/plain": [
              "'0123456789abcdefghijklmnopqrstuvwxyzABCDEFGHIJKLMNOPQRSTUVWXYZ!\"#$%&\\'()*+,-./:;<=>?@[\\\\]^_`{|}~ \\t\\n\\r\\x0b\\x0c'"
            ],
            "application/vnd.google.colaboratory.intrinsic+json": {
              "type": "string"
            }
          },
          "metadata": {},
          "execution_count": 5
        }
      ],
      "source": [
        "string.printable"
      ]
    },
    {
      "cell_type": "code",
      "execution_count": 6,
      "metadata": {
        "colab": {
          "base_uri": "https://localhost:8080/"
        },
        "id": "e8uNrjdtn4A8",
        "outputId": "abc4d607-a8e9-4d3e-9e76-cb388eb3ecdb"
      },
      "outputs": [
        {
          "output_type": "stream",
          "name": "stdout",
          "text": [
            "Number of characters in text: 84658\n"
          ]
        }
      ],
      "source": [
        "with open('/content/stat453-deep-learning-ss21/L19/character-rnn/covid19-faq.txt', 'r') as f:\n",
        "    textfile = f.read()\n",
        "\n",
        "# convert special characters\n",
        "textfile = unidecode.unidecode(textfile)\n",
        "\n",
        "# strip extra whitespaces\n",
        "textfile = re.sub(' +',' ', textfile)\n",
        "\n",
        "TEXT_LENGTH = len(textfile)\n",
        "\n",
        "print(f'Number of characters in text: {TEXT_LENGTH}')"
      ]
    },
    {
      "cell_type": "markdown",
      "metadata": {
        "id": "JpEMNInXtZsb"
      },
      "source": [
        "Divide the text into smaller portions:"
      ]
    },
    {
      "cell_type": "code",
      "execution_count": 7,
      "metadata": {
        "colab": {
          "base_uri": "https://localhost:8080/"
        },
        "id": "i7JiHR1stHNF",
        "outputId": "a9b2411f-d7cb-4afe-bf16-2caf902ebee1"
      },
      "outputs": [
        {
          "output_type": "stream",
          "name": "stdout",
          "text": [
            "heck with the vaccine provider.\n",
            "\n",
            "If you're traveling away from Madison before your second dose, we encourage you to get your first dose on campus now and obtain a second dose once you reach your new lo\n"
          ]
        }
      ],
      "source": [
        "random.seed(RANDOM_SEED)\n",
        "\n",
        "def random_portion(textfile):\n",
        "    start_index = random.randint(0, TEXT_LENGTH - TEXT_PORTION_SIZE)\n",
        "    end_index = start_index + TEXT_PORTION_SIZE + 1\n",
        "    return textfile[start_index:end_index]\n",
        "\n",
        "print(random_portion(textfile))"
      ]
    },
    {
      "cell_type": "markdown",
      "metadata": {
        "id": "PhZQCuBZkzgm"
      },
      "source": [
        "Define a function to convert characters into tensors of integers (type long):\n"
      ]
    },
    {
      "cell_type": "code",
      "execution_count": 8,
      "metadata": {
        "colab": {
          "base_uri": "https://localhost:8080/"
        },
        "id": "Ga-_g7Ltk479",
        "outputId": "b0d74ada-e061-4174-8bcd-484d2d0adfc3"
      },
      "outputs": [
        {
          "output_type": "stream",
          "name": "stdout",
          "text": [
            "tensor([10, 11, 12, 39, 40, 41])\n"
          ]
        }
      ],
      "source": [
        "def char_to_tensor(text):\n",
        "    lst = [string.printable.index(c) for c in text]\n",
        "    tensor = torch.tensor(lst).long()\n",
        "    return tensor\n",
        "\n",
        "print(char_to_tensor('abcDEF'))"
      ]
    },
    {
      "cell_type": "markdown",
      "metadata": {
        "id": "ph8OESgtmUqD"
      },
      "source": [
        "Putting it together to make a function that draws random batches for training:"
      ]
    },
    {
      "cell_type": "code",
      "execution_count": 9,
      "metadata": {
        "id": "U_mVm5LOl95j"
      },
      "outputs": [],
      "source": [
        "def draw_random_sample(textfile):    \n",
        "    text_long = char_to_tensor(random_portion(textfile))\n",
        "    inputs = text_long[:-1]\n",
        "    targets = text_long[1:]\n",
        "    return inputs, targets"
      ]
    },
    {
      "cell_type": "code",
      "execution_count": 10,
      "metadata": {
        "colab": {
          "base_uri": "https://localhost:8080/"
        },
        "id": "uY8FnmSkxGZ-",
        "outputId": "9f7cfb73-6820-4188-93f5-108049bf1843"
      },
      "outputs": [
        {
          "output_type": "execute_result",
          "data": {
            "text/plain": [
              "(tensor([ 0, 94, 24, 27, 94, 21, 10, 29, 14, 27, 94, 24, 15, 94, 26, 30, 10, 27,\n",
              "         10, 23, 29, 18, 23, 14, 94, 10, 23, 13, 94, 34, 24, 30, 27, 94, 37, 10,\n",
              "         13, 16, 14, 27, 94, 37, 10, 13, 16, 14, 94, 18, 23, 13, 18, 12, 10, 29,\n",
              "         14, 28, 94, 63, 11, 30, 18, 21, 13, 18, 23, 16, 94, 10, 12, 12, 14, 28,\n",
              "         28, 94, 16, 27, 10, 23, 29, 14, 13, 75, 63, 96, 54, 14, 14, 94, 29, 17,\n",
              "         14, 94, 56, 23, 18, 31, 14, 27, 28, 18, 29, 34, 94, 43, 14, 10, 21, 29,\n",
              "         17, 94, 54, 14, 27, 31, 18, 12, 14, 28, 94, 32, 14, 11, 28, 18, 29, 14,\n",
              "         94, 15, 24, 27, 94, 22, 24, 27, 14, 94, 18, 23, 15, 24, 27, 22, 10, 29,\n",
              "         18, 24, 23, 94, 10, 11, 24, 30, 29, 94, 26, 30, 10, 27, 10, 23, 29, 18,\n",
              "         23, 14, 94, 10, 23, 13, 94, 18, 28, 24, 21, 10, 29, 18, 24, 23, 75, 96,\n",
              "         96, 58, 17, 18, 21, 14, 94,  1,  4, 94, 13, 10, 34, 28, 94, 18, 28, 94,\n",
              "         29, 17]),\n",
              " tensor([94, 24, 27, 94, 21, 10, 29, 14, 27, 94, 24, 15, 94, 26, 30, 10, 27, 10,\n",
              "         23, 29, 18, 23, 14, 94, 10, 23, 13, 94, 34, 24, 30, 27, 94, 37, 10, 13,\n",
              "         16, 14, 27, 94, 37, 10, 13, 16, 14, 94, 18, 23, 13, 18, 12, 10, 29, 14,\n",
              "         28, 94, 63, 11, 30, 18, 21, 13, 18, 23, 16, 94, 10, 12, 12, 14, 28, 28,\n",
              "         94, 16, 27, 10, 23, 29, 14, 13, 75, 63, 96, 54, 14, 14, 94, 29, 17, 14,\n",
              "         94, 56, 23, 18, 31, 14, 27, 28, 18, 29, 34, 94, 43, 14, 10, 21, 29, 17,\n",
              "         94, 54, 14, 27, 31, 18, 12, 14, 28, 94, 32, 14, 11, 28, 18, 29, 14, 94,\n",
              "         15, 24, 27, 94, 22, 24, 27, 14, 94, 18, 23, 15, 24, 27, 22, 10, 29, 18,\n",
              "         24, 23, 94, 10, 11, 24, 30, 29, 94, 26, 30, 10, 27, 10, 23, 29, 18, 23,\n",
              "         14, 94, 10, 23, 13, 94, 18, 28, 24, 21, 10, 29, 18, 24, 23, 75, 96, 96,\n",
              "         58, 17, 18, 21, 14, 94,  1,  4, 94, 13, 10, 34, 28, 94, 18, 28, 94, 29,\n",
              "         17, 14]))"
            ]
          },
          "metadata": {},
          "execution_count": 10
        }
      ],
      "source": [
        "draw_random_sample(textfile)"
      ]
    },
    {
      "cell_type": "markdown",
      "metadata": {
        "id": "G_grdW3pxCzz"
      },
      "source": [
        "## Model"
      ]
    },
    {
      "cell_type": "code",
      "execution_count": 11,
      "metadata": {
        "id": "nQIUm5EjxFNa"
      },
      "outputs": [],
      "source": [
        "class RNN(torch.nn.Module):\n",
        "    def __init__(self, input_size, embed_size,\n",
        "                 hidden_size, output_size, num_layers):\n",
        "        super().__init__()\n",
        "\n",
        "        self.hidden_size = hidden_size\n",
        "        self.num_layers = num_layers\n",
        "        \n",
        "        self.embed = torch.nn.Embedding(num_embeddings=input_size,\n",
        "                                        embedding_dim=embed_size)\n",
        "        self.rnn = torch.nn.LSTM(input_size=embed_size,\n",
        "                                 hidden_size=hidden_size,\n",
        "                                 num_layers=num_layers)\n",
        "        self.fc = torch.nn.Linear(hidden_size, output_size)\n",
        "    \n",
        "    def forward(self, features, hidden_and_cell_state):\n",
        "        # text dim: [1] -> [[1]] (features = 1 character)\n",
        "        features = features.view(1, -1)\n",
        "        \n",
        "        # embedded dim = [text length, batch size, embedding dim] = [1, 1, embedding dim]\n",
        "        embedded = self.embed(features)\n",
        "        \n",
        "        output, hidden_and_cell_state = self.rnn(embedded, hidden_and_cell_state)\n",
        "        # 1. output dim: [sentence length, batch size, hidden dim] = [1, 1, hidden dim]\n",
        "        # 2. (last) hidden dim: [num layers, batch size, hidden dim] = [num layers, 1, hidden dim]\n",
        "        # 3. cell dim: [num layers, batch size, hidden dim] = [num layers, 1, hidden dim]\n",
        "        \n",
        "        output.squeeze_(0)\n",
        "        output = self.fc(output)\n",
        "        return output, hidden_and_cell_state\n",
        "      \n",
        "    def init_zero_state(self):\n",
        "        init_hidden = torch.zeros(self.num_layers, 1, self.hidden_size).to(DEVICE)\n",
        "        init_cell = torch.zeros(self.num_layers, 1, self.hidden_size).to(DEVICE)\n",
        "        return (init_hidden, init_cell)"
      ]
    },
    {
      "cell_type": "code",
      "execution_count": 12,
      "metadata": {
        "id": "Ik3NF3faxFmZ"
      },
      "outputs": [],
      "source": [
        "torch.manual_seed(RANDOM_SEED)\n",
        "model = RNN(len(string.printable), EMBEDDING_DIM, HIDDEN_DIM,\n",
        "            len(string.printable), NUM_HIDDEN_LAYERS)\n",
        "model = model.to(DEVICE)\n",
        "optimizer = torch.optim.Adam(model.parameters(), lr=LEARNING_RATE)"
      ]
    },
    {
      "cell_type": "markdown",
      "metadata": {
        "id": "Lv9Ny9di6VcI"
      },
      "source": [
        "## Training"
      ]
    },
    {
      "cell_type": "code",
      "execution_count": 13,
      "metadata": {
        "id": "x5XlCqm3pMj2"
      },
      "outputs": [],
      "source": [
        "def evaluate(model, prime_str='A', predict_len=100, temperature=0.8):\n",
        "    ## based on https://github.com/spro/practical-pytorch/\n",
        "    ## blob/master/char-rnn-generation/char-rnn-generation.ipynb\n",
        "\n",
        "    hidden_and_cell_state = model.init_zero_state()\n",
        "    prime_input = char_to_tensor(prime_str)\n",
        "    predicted = prime_str\n",
        "\n",
        "    # Use priming string to \"build up\" hidden state\n",
        "    for p in range(len(prime_str) - 1):\n",
        "        _, hidden_and_cell_state = model(prime_input[p].to(DEVICE), hidden_and_cell_state)\n",
        "    inp = prime_input[-1]\n",
        "    \n",
        "    for p in range(predict_len):\n",
        "        output, hidden_and_cell_state = model(inp.to(DEVICE), hidden_and_cell_state)\n",
        "        \n",
        "        # Sample from the network as a multinomial distribution\n",
        "        output_dist = output.data.view(-1).div(temperature).exp()\n",
        "        top_i = torch.multinomial(output_dist, 1)[0]\n",
        "        \n",
        "        # Add predicted character to string and use as next input\n",
        "        predicted_char = string.printable[top_i]\n",
        "        predicted += predicted_char\n",
        "        inp = char_to_tensor(predicted_char)\n",
        "\n",
        "    return predicted"
      ]
    },
    {
      "cell_type": "code",
      "execution_count": 14,
      "metadata": {
        "colab": {
          "base_uri": "https://localhost:8080/",
          "height": 1000
        },
        "id": "ZNv7_wE4prjX",
        "outputId": "7ee9b328-4373-4c55-f27a-c9f03e6c25cb"
      },
      "outputs": [
        {
          "metadata": {
            "tags": null
          },
          "name": "stdout",
          "output_type": "stream",
          "text": [
            "Time elapsed: 0.00 min\n",
            "Iteration 0 | Loss 4.64\n",
            "\n",
            "\n",
            "ThzgrY\n",
            "$b$)\"zIHHpx;1d0ZT)PgJwoeQxoZ<%hS=(\f]j%6#VEo,\fH5}PE=(uj'i6rs1B2:.a$>ZMeQ]iTC/>Ye0)N<92yyW5&Db[m*+09 )DHG};x1\"k.0auIT:6bWkWP[\fHSWlNf`Dag\n",
            " <|Y\u000b%ID73v\"_U\t0]c\fzB=\n",
            "w?Uo72@C#/VjHB\t7\u000b\f#nllLE w?y&_# dNz9g \n",
            "\n",
            "==================================================\n",
            "Time elapsed: 0.43 min\n",
            "Iteration 200 | Loss 2.16\n",
            "\n",
            "\n",
            "Thappto COVID-19 ining bus a thay an can in an galding earctione campus ases..\n",
            "Therume ratitior. Yunbe C2)(ailuss the ant and fots ane, to parching Vof stay of app cams bafible sot accing the.\n",
            "In is and \n",
            "\n",
            "==================================================\n",
            "Time elapsed: 0.86 min\n",
            "Iteration 400 | Loss 2.29\n",
            "\n",
            "\n",
            "Th-als \"immus from ans will pose arne thead to you app ento a natited for as or thin clmoutive test entin neing or and froblo or thoy the for they Sialt fquare not an your or wharding bivimison consin c \n",
            "\n",
            "==================================================\n",
            "Time elapsed: 1.31 min\n",
            "Iteration 600 | Loss 1.85\n",
            "\n",
            "\n",
            "Thist on you will they your indito redice shouls are sive have and quirs a to and unding baily you swin and or to relonsty they be accestificatitions moruct the Wiscest resintir a sate result altions is \n",
            "\n",
            "==================================================\n",
            "Time elapsed: 1.75 min\n",
            "Iteration 800 | Loss 1.49\n",
            "\n",
            "\n",
            "Thation (19 heactaction, this the date ist som Recont paes.\n",
            "\n",
            "Prs.\n",
            "If to facition conditions on contation from ther\n",
            "Unito stated at cearant.er well and conting will be eacitionss\n",
            "\n",
            "In test or heasting to  \n",
            "\n",
            "==================================================\n",
            "Time elapsed: 2.19 min\n",
            "Iteration 1000 | Loss 1.60\n",
            "\n",
            "\n",
            "Thac unersing prot's test your positive. The test to suble swith respliess expeding the consitive the provider Badger recoltionall users test tess and symptemmonmen to do Badger is to vaccine whive inmo \n",
            "\n",
            "==================================================\n",
            "Time elapsed: 2.63 min\n",
            "Iteration 1200 | Loss 1.44\n",
            "\n",
            "\n",
            "Thed Plearts to compliances are studentin compnoing by numet are and record wither Badger Bluedeed, test for make will be nvicess beging thecation exposting meaturan not heait grable as persour'plors sh \n",
            "\n",
            "==================================================\n",
            "Time elapsed: 3.06 min\n",
            "Iteration 1400 | Loss 1.37\n",
            "\n",
            "\n",
            "Ther Badgers app tept test.\n",
            "\n",
            "Acito the pharance or Badger Badge gese remain lidents acel when and regival and of COVID-19 testing the result with as conding from the exemmiscom instrust positive call de \n",
            "\n",
            "==================================================\n",
            "Time elapsed: 3.51 min\n",
            "Iteration 1600 | Loss 1.68\n",
            "\n",
            "\n",
            "Th continuted reen to kanse you are provicision or the use kniligge. Un-passs ampusting who receive access of yourlulo result, in a feet test planize at not as and student redications who building accus \n",
            "\n",
            "==================================================\n",
            "Time elapsed: 3.94 min\n",
            "Iteration 1800 | Loss 1.42\n",
            "\n",
            "\n",
            "The are fuch test public campus information for expented granted are not within the promity Health for a dose 19 should in the vaccing inmured to is file been at are not campus aff are as welloned bewar \n",
            "\n",
            "==================================================\n",
            "Time elapsed: 4.38 min\n",
            "Iteration 2000 | Loss 1.12\n",
            "\n",
            "\n",
            "The and and of minned excompted gualion, is building of Safer Badger the vaccinated elp. Our variant of the share to may when lettions status with a graduated gedere be to the Univents are physents of H \n",
            "\n",
            "==================================================\n",
            "Time elapsed: 4.81 min\n",
            "Iteration 2200 | Loss 1.33\n",
            "\n",
            "\n",
            "The sypller to COVID-19 test are cleated and is cremate tested on their need and on unalted been a disable to app of there acros sprase campus to acky provided. As. Then you will contsified experseen ar \n",
            "\n",
            "==================================================\n",
            "Time elapsed: 5.24 min\n",
            "Iteration 2400 | Loss 1.47\n",
            "\n",
            "\n",
            "That studing simptions are severibility people provide your assor 10 maincing priope \"buildions the find to people will be expose they an accom-derse of campus on for you \"building. For 11 medical weoni \n",
            "\n",
            "==================================================\n",
            "Time elapsed: 5.68 min\n",
            "Iteration 2600 | Loss 1.38\n",
            "\n",
            "\n",
            "Ther Badged and and vaccine and and and students and Pleart providers (with you are symptoms of the Safer Badge seekly days app on the received two disablial propes be as has has about in by a vaccinati \n",
            "\n",
            "==================================================\n",
            "Time elapsed: 6.11 min\n",
            "Iteration 2800 | Loss 1.29\n",
            "\n",
            "\n",
            "Ths wherem. You univeduated and in missor uplow are the Badger Badgers assigning and distage aith the app.\n",
            "\n",
            "Beginng their receive all. This April simpted as unsidernation we exemptions\n",
            "\n",
            "If you receive a \n",
            "\n",
            "==================================================\n",
            "Time elapsed: 6.54 min\n",
            "Iteration 3000 | Loss 1.26\n",
            "\n",
            "\n",
            "The vicus test.\n",
            "You sign their in is care morners. Adions a quarantines, employees may side not need to are not a test in additional contancies work will recomingorment that you receive test. Your Badge \n",
            "\n",
            "==================================================\n",
            "Time elapsed: 6.97 min\n",
            "Iteration 3200 | Loss 1.87\n",
            "\n",
            "\n",
            "The tested on app will be health app will be vaccine, more with a campus to a tested proor option for a dival day these should in the early a receive to have building or more your Badger Badger Badger B \n",
            "\n",
            "==================================================\n",
            "Time elapsed: 7.40 min\n",
            "Iteration 3400 | Loss 1.18\n",
            "\n",
            "\n",
            "The sagency for more sagemingh intervicep.\n",
            "\n",
            "University of University Houss for to a entroveranted sopeed to your record or track or meets on your supportmen.\"\n",
            "You have if you unimmeoting for students a  \n",
            "\n",
            "==================================================\n",
            "Time elapsed: 7.83 min\n",
            "Iteration 3600 | Loss 1.48\n",
            "\n",
            "\n",
            "The exception. While to have a pate a get a person, feveraduaty of campus.\n",
            "\n",
            "Per we are approvidation to be not in elal health Service to mase bed any subdence coveral into you feve, onould be testing is \n",
            "\n",
            "==================================================\n",
            "Time elapsed: 8.27 min\n",
            "Iteration 3800 | Loss 1.09\n",
            "\n",
            "\n",
            "Thancillow get in to the fiect to a be individuals who received on condition. (The contact the enturned account. Find mind on the research to be test to be additions on experience for the receive proxim \n",
            "\n",
            "==================================================\n",
            "Time elapsed: 8.71 min\n",
            "Iteration 4000 | Loss 1.50\n",
            "\n",
            "\n",
            "The beliew tenners and is all will contact. Find anyone out as and Opostic and process appointment at a positive sips. BP7 take and if your report will need to people server policies of a posting Requir \n",
            "\n",
            "==================================================\n",
            "Time elapsed: 9.14 min\n",
            "Iteration 4200 | Loss 1.26\n",
            "\n",
            "\n",
            "Thys for Clearce the appary at the Safer Badger Badgience assistance oppens traveling and vaccine symptoms feature ensure that while to \"OVID-19, opte test use theree testing infolated may need to get c \n",
            "\n",
            "==================================================\n",
            "Time elapsed: 9.56 min\n",
            "Iteration 4400 | Loss 0.93\n",
            "\n",
            "\n",
            "The contrabute the perthere week until Univive getting testing intervices rea time will negative test. This requirement type seek on you local Laintain monigned any been to work in to campus testing inc \n",
            "\n",
            "==================================================\n",
            "Time elapsed: 9.99 min\n",
            "Iteration 4600 | Loss 1.23\n",
            "\n",
            "\n",
            "The entract to users in who first who please has musting in the wear a tracing the swater in compliance.\n",
            "\n",
            "You are exempting including two do nowns to the University Health Sige the vired to campus been  \n",
            "\n",
            "==================================================\n",
            "Time elapsed: 10.43 min\n",
            "Iteration 4800 | Loss 1.03\n",
            "\n",
            "\n",
            "This and preaddities up to your Badger Badge indicate to has process after location datas which or the testing employees these also your Badger Badgers people.\n",
            "\n",
            "The may be belaries will complern.\n",
            "\n",
            "No, a \n",
            "\n",
            "==================================================\n"
          ]
        },
        {
          "data": {
            "image/png": "[encoded data removed]",
            "text/plain": [
              "<Figure size 432x288 with 1 Axes>"
            ]
          },
          "metadata": {},
          "output_type": "display_data"
        }
      ],
      "source": [
        "start_time = time.time()\n",
        "\n",
        "loss_list = []\n",
        "\n",
        "for iteration in range(NUM_ITER):\n",
        "\n",
        "    hidden_and_cell_state = model.init_zero_state()\n",
        "    optimizer.zero_grad()\n",
        "    \n",
        "    loss = 0.\n",
        "    inputs, targets = draw_random_sample(textfile)\n",
        "    inputs, targets = inputs.to(DEVICE), targets.to(DEVICE)\n",
        "    for c in range(TEXT_PORTION_SIZE):\n",
        "        outputs, hidden_and_cell_state = model(inputs[c], hidden_and_cell_state)\n",
        "        loss += torch.nn.functional.cross_entropy(outputs, targets[c].view(1))\n",
        "\n",
        "    loss /= TEXT_PORTION_SIZE\n",
        "    loss.backward()\n",
        "    \n",
        "    ### UPDATE MODEL PARAMETERS\n",
        "    optimizer.step()\n",
        "\n",
        "    ### LOGGING\n",
        "    with torch.no_grad():\n",
        "        if iteration % 200 == 0:\n",
        "            print(f'Time elapsed: {(time.time() - start_time)/60:.2f} min')\n",
        "            print(f'Iteration {iteration} | Loss {loss.item():.2f}\\n\\n')\n",
        "            print(evaluate(model, 'Th', 200), '\\n')\n",
        "            print(50*'=')\n",
        "            \n",
        "            loss_list.append(loss.item())\n",
        "            plt.clf()\n",
        "            plt.plot(range(len(loss_list)), loss_list)\n",
        "            plt.ylabel('Loss')\n",
        "            plt.xlabel('Iteration x 1000')\n",
        "            plt.savefig('loss2.pdf')\n",
        "            \n",
        "plt.clf()\n",
        "plt.ylabel('Loss')\n",
        "plt.xlabel('Iteration x 1000')\n",
        "plt.plot(range(len(loss_list)), loss_list)\n",
        "plt.show()"
      ]
    }
  ],
  "metadata": {
    "colab": {
      "name": "char-rnn.ipynb",
      "provenance": []
    },
    "kernelspec": {
      "display_name": "Python 3",
      "language": "python",
      "name": "python3"
    },
    "language_info": {
      "codemirror_mode": {
        "name": "ipython",
        "version": 3
      },
      "file_extension": ".py",
      "mimetype": "text/x-python",
      "name": "python",
      "nbconvert_exporter": "python",
      "pygments_lexer": "ipython3",
      "version": "3.9.2"
    },
    "gpuClass": "standard"
  },
  "nbformat": 4,
  "nbformat_minor": 0
}