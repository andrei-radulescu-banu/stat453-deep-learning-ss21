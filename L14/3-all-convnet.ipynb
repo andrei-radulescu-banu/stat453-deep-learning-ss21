{
  "cells": [
    {
      "cell_type": "markdown",
      "metadata": {
        "id": "view-in-github",
        "colab_type": "text"
      },
      "source": [
        "<a href=\"https://colab.research.google.com/github/andrei-radulescu-banu/stat453-deep-learning-ss21/blob/main/L14/3-all-convnet.ipynb\" target=\"_parent\"><img src=\"https://colab.research.google.com/assets/colab-badge.svg\" alt=\"Open In Colab\"/></a>"
      ]
    },
    {
      "cell_type": "code",
      "source": [
        "!pip install watermark\n",
        "!pip install colab-env --upgrade\n",
        "import colab_env\n",
        "colab_env.envvar_handler.add_env(\"CUBLAS_WORKSPACE_CONFIG\", \":4096:8\", overwrite=True)\n",
        "!git clone https://github.com/andrei-radulescu-banu/stat453-deep-learning-ss21.git\n",
        "import sys, os\n",
        "sys.path.append(\"/content/stat453-deep-learning-ss21/L14\")"
      ],
      "metadata": {
        "id": "kHwBFL0yyiOo",
        "outputId": "a72bbf4f-66cf-4d21-a1e0-b883f52a3cc5",
        "colab": {
          "base_uri": "https://localhost:8080/"
        }
      },
      "execution_count": 1,
      "outputs": [
        {
          "output_type": "stream",
          "name": "stdout",
          "text": [
            "Looking in indexes: https://pypi.org/simple, https://us-python.pkg.dev/colab-wheels/public/simple/\n",
            "Collecting watermark\n",
            "  Downloading watermark-2.3.1-py2.py3-none-any.whl (7.2 kB)\n",
            "Requirement already satisfied: ipython in /usr/local/lib/python3.7/dist-packages (from watermark) (7.9.0)\n",
            "Requirement already satisfied: importlib-metadata>=1.4 in /usr/local/lib/python3.7/dist-packages (from watermark) (4.13.0)\n",
            "Requirement already satisfied: zipp>=0.5 in /usr/local/lib/python3.7/dist-packages (from importlib-metadata>=1.4->watermark) (3.10.0)\n",
            "Requirement already satisfied: typing-extensions>=3.6.4 in /usr/local/lib/python3.7/dist-packages (from importlib-metadata>=1.4->watermark) (4.1.1)\n",
            "Requirement already satisfied: decorator in /usr/local/lib/python3.7/dist-packages (from ipython->watermark) (4.4.2)\n",
            "Requirement already satisfied: pygments in /usr/local/lib/python3.7/dist-packages (from ipython->watermark) (2.6.1)\n",
            "Requirement already satisfied: traitlets>=4.2 in /usr/local/lib/python3.7/dist-packages (from ipython->watermark) (5.1.1)\n",
            "Requirement already satisfied: pickleshare in /usr/local/lib/python3.7/dist-packages (from ipython->watermark) (0.7.5)\n",
            "Requirement already satisfied: pexpect in /usr/local/lib/python3.7/dist-packages (from ipython->watermark) (4.8.0)\n",
            "Requirement already satisfied: prompt-toolkit<2.1.0,>=2.0.0 in /usr/local/lib/python3.7/dist-packages (from ipython->watermark) (2.0.10)\n",
            "Collecting jedi>=0.10\n",
            "  Downloading jedi-0.18.2-py2.py3-none-any.whl (1.6 MB)\n",
            "\u001b[K     |████████████████████████████████| 1.6 MB 13.4 MB/s \n",
            "\u001b[?25hRequirement already satisfied: backcall in /usr/local/lib/python3.7/dist-packages (from ipython->watermark) (0.2.0)\n",
            "Requirement already satisfied: setuptools>=18.5 in /usr/local/lib/python3.7/dist-packages (from ipython->watermark) (57.4.0)\n",
            "Requirement already satisfied: parso<0.9.0,>=0.8.0 in /usr/local/lib/python3.7/dist-packages (from jedi>=0.10->ipython->watermark) (0.8.3)\n",
            "Requirement already satisfied: wcwidth in /usr/local/lib/python3.7/dist-packages (from prompt-toolkit<2.1.0,>=2.0.0->ipython->watermark) (0.2.5)\n",
            "Requirement already satisfied: six>=1.9.0 in /usr/local/lib/python3.7/dist-packages (from prompt-toolkit<2.1.0,>=2.0.0->ipython->watermark) (1.15.0)\n",
            "Requirement already satisfied: ptyprocess>=0.5 in /usr/local/lib/python3.7/dist-packages (from pexpect->ipython->watermark) (0.7.0)\n",
            "Installing collected packages: jedi, watermark\n",
            "Successfully installed jedi-0.18.2 watermark-2.3.1\n",
            "Looking in indexes: https://pypi.org/simple, https://us-python.pkg.dev/colab-wheels/public/simple/\n",
            "Collecting colab-env\n",
            "  Downloading colab-env-0.2.0.tar.gz (4.7 kB)\n",
            "Collecting python-dotenv<1.0,>=0.10.0\n",
            "  Downloading python_dotenv-0.21.0-py3-none-any.whl (18 kB)\n",
            "Building wheels for collected packages: colab-env\n",
            "  Building wheel for colab-env (setup.py) ... \u001b[?25l\u001b[?25hdone\n",
            "  Created wheel for colab-env: filename=colab_env-0.2.0-py3-none-any.whl size=3837 sha256=accf371879ec76854d9b4f8882debd2b4fe32296e4a78f5d059d62c5bd40e25d\n",
            "  Stored in directory: /root/.cache/pip/wheels/bb/ca/e8/3d25b6abb4ac719ecb9e837bb75f2a9b980430005fb12a9107\n",
            "Successfully built colab-env\n",
            "Installing collected packages: python-dotenv, colab-env\n",
            "Successfully installed colab-env-0.2.0 python-dotenv-0.21.0\n",
            "Mounted at /content/gdrive\n",
            "Cloning into 'stat453-deep-learning-ss21'...\n",
            "remote: Enumerating objects: 1235, done.\u001b[K\n",
            "remote: Counting objects: 100% (185/185), done.\u001b[K\n",
            "remote: Compressing objects: 100% (159/159), done.\u001b[K\n",
            "remote: Total 1235 (delta 115), reused 4 (delta 4), pack-reused 1050\u001b[K\n",
            "Receiving objects: 100% (1235/1235), 116.02 MiB | 23.90 MiB/s, done.\n",
            "Resolving deltas: 100% (219/219), done.\n"
          ]
        }
      ]
    },
    {
      "cell_type": "markdown",
      "metadata": {
        "id": "Oa6l8W2ByfsT"
      },
      "source": [
        "STAT 453: Deep Learning (Spring 2021)  \n",
        "Instructor: Sebastian Raschka (sraschka@wisc.edu)  \n",
        "\n",
        "Course website: http://pages.stat.wisc.edu/~sraschka/teaching/stat453-ss2021/  \n",
        "GitHub repository: https://github.com/rasbt/stat453-deep-learning-ss21\n",
        "\n",
        "---"
      ]
    },
    {
      "cell_type": "code",
      "execution_count": 2,
      "metadata": {
        "id": "xosYpfT1yfsW",
        "outputId": "d021f850-1512-4e2f-b8f5-2e148ea3331c",
        "colab": {
          "base_uri": "https://localhost:8080/"
        }
      },
      "outputs": [
        {
          "output_type": "stream",
          "name": "stdout",
          "text": [
            "Author: Sebastian Raschka\n",
            "\n",
            "Python implementation: CPython\n",
            "Python version       : 3.7.15\n",
            "IPython version      : 7.9.0\n",
            "\n",
            "torch: 1.12.1+cu113\n",
            "\n"
          ]
        }
      ],
      "source": [
        "%load_ext watermark\n",
        "%watermark -a 'Sebastian Raschka' -v -p torch"
      ]
    },
    {
      "cell_type": "markdown",
      "metadata": {
        "id": "3S1W2VP_yfsY"
      },
      "source": [
        "# All-Convolutional Net on Cifar-10"
      ]
    },
    {
      "cell_type": "markdown",
      "metadata": {
        "id": "-pCr2ec2yfsZ"
      },
      "source": [
        "## Imports"
      ]
    },
    {
      "cell_type": "code",
      "execution_count": 3,
      "metadata": {
        "id": "tS94gBCYyfsa"
      },
      "outputs": [],
      "source": [
        "import torch\n",
        "import torchvision\n",
        "import numpy as np\n",
        "import matplotlib.pyplot as plt"
      ]
    },
    {
      "cell_type": "code",
      "execution_count": 4,
      "metadata": {
        "id": "_PpThddOyfsb"
      },
      "outputs": [],
      "source": [
        "# From local helper files\n",
        "from helper_evaluation import set_all_seeds, set_deterministic, compute_confusion_matrix\n",
        "from helper_train import train_model\n",
        "from helper_plotting import plot_training_loss, plot_accuracy, show_examples, plot_confusion_matrix\n",
        "from helper_dataset import get_dataloaders_cifar10, UnNormalize"
      ]
    },
    {
      "cell_type": "markdown",
      "metadata": {
        "id": "9t48jyGlyfsb"
      },
      "source": [
        "## Settings and Dataset"
      ]
    },
    {
      "cell_type": "code",
      "execution_count": 10,
      "metadata": {
        "id": "Ep4gRhwByfsb"
      },
      "outputs": [],
      "source": [
        "##########################\n",
        "### SETTINGS\n",
        "##########################\n",
        "\n",
        "RANDOM_SEED = 123\n",
        "BATCH_SIZE = 256\n",
        "NUM_EPOCHS = 50\n",
        "DEVICE = torch.device('cuda:0' if torch.cuda.is_available() else 'cpu')"
      ]
    },
    {
      "cell_type": "code",
      "execution_count": 11,
      "metadata": {
        "id": "nsZbSrrcyfsc"
      },
      "outputs": [],
      "source": [
        "set_all_seeds(RANDOM_SEED)\n",
        "#set_deterministic()"
      ]
    },
    {
      "cell_type": "code",
      "execution_count": 12,
      "metadata": {
        "id": "Kx844DcOyfsd",
        "outputId": "388a7f48-830c-4d7c-c593-a02704281a31",
        "colab": {
          "base_uri": "https://localhost:8080/"
        }
      },
      "outputs": [
        {
          "output_type": "stream",
          "name": "stdout",
          "text": [
            "Files already downloaded and verified\n",
            "Image batch dimensions: torch.Size([256, 3, 64, 64])\n",
            "Image label dimensions: torch.Size([256])\n",
            "Class labels of 10 examples: tensor([4, 7, 4, 6, 2, 6, 9, 7, 3, 0])\n"
          ]
        }
      ],
      "source": [
        "##########################\n",
        "### CIFAR-10 DATASET\n",
        "##########################\n",
        "\n",
        "train_transforms = torchvision.transforms.Compose([\n",
        "    torchvision.transforms.Resize((70, 70)),\n",
        "    torchvision.transforms.RandomCrop((64, 64)),\n",
        "    torchvision.transforms.ToTensor(),\n",
        "    torchvision.transforms.Normalize((0.5, 0.5, 0.5), (0.5, 0.5, 0.5))\n",
        "                                      ])\n",
        "\n",
        "test_transforms = torchvision.transforms.Compose([\n",
        "    torchvision.transforms.Resize((70, 70)),        \n",
        "    torchvision.transforms.CenterCrop((64, 64)),            \n",
        "    torchvision.transforms.ToTensor(),                \n",
        "    torchvision.transforms.Normalize((0.5, 0.5, 0.5), (0.5, 0.5, 0.5))])\n",
        "\n",
        "\n",
        "train_loader, valid_loader, test_loader = get_dataloaders_cifar10(\n",
        "    batch_size=BATCH_SIZE,\n",
        "    validation_fraction=0.1,\n",
        "    train_transforms=train_transforms,\n",
        "    test_transforms=test_transforms,\n",
        "    num_workers=2)\n",
        "\n",
        "# Checking the dataset\n",
        "for images, labels in train_loader:  \n",
        "    print('Image batch dimensions:', images.shape)\n",
        "    print('Image label dimensions:', labels.shape)\n",
        "    print('Class labels of 10 examples:', labels[:10])\n",
        "    break"
      ]
    },
    {
      "cell_type": "markdown",
      "metadata": {
        "id": "flhhGw1_yfse"
      },
      "source": [
        "## Model"
      ]
    },
    {
      "cell_type": "code",
      "execution_count": 13,
      "metadata": {
        "id": "9RlHoDu5yfsf"
      },
      "outputs": [],
      "source": [
        "##########################\n",
        "### MODEL\n",
        "##########################\n",
        "\n",
        "\n",
        "class AllConvNet(torch.nn.Module):\n",
        "\n",
        "    def __init__(self, num_classes):\n",
        "        super().__init__()\n",
        "        \n",
        "        self.net = torch.nn.Sequential(\n",
        "                      torch.nn.Conv2d(in_channels=3,\n",
        "                                      out_channels=16,\n",
        "                                      kernel_size=(3, 3),\n",
        "                                      stride=(1, 1),\n",
        "                                      padding=1,\n",
        "                                      bias=False),\n",
        "                      torch.nn.BatchNorm2d(16),\n",
        "                      torch.nn.ReLU(inplace=True),\n",
        "                      torch.nn.Conv2d(in_channels=16,\n",
        "                                      out_channels=16,\n",
        "                                      kernel_size=(3, 3),\n",
        "                                      stride=(2, 2),\n",
        "                                      padding=1,\n",
        "                                      bias=False),   \n",
        "                      torch.nn.BatchNorm2d(16),\n",
        "                      torch.nn.ReLU(inplace=True),\n",
        "                      torch.nn.Conv2d(in_channels=16,\n",
        "                                      out_channels=32,\n",
        "                                      kernel_size=(3, 3),\n",
        "                                      stride=(1, 1),\n",
        "                                      padding=1,\n",
        "                                      bias=False),        \n",
        "                      torch.nn.BatchNorm2d(32),\n",
        "                      torch.nn.ReLU(inplace=True),                        \n",
        "                      torch.nn.Conv2d(in_channels=32,\n",
        "                                      out_channels=32,\n",
        "                                      kernel_size=(3, 3),\n",
        "                                      stride=(2, 2),\n",
        "                                      padding=1,\n",
        "                                      bias=False),      \n",
        "                      torch.nn.BatchNorm2d(32),\n",
        "                      torch.nn.ReLU(inplace=True),       \n",
        "                      torch.nn.Conv2d(in_channels=32,\n",
        "                                      out_channels=64,\n",
        "                                      kernel_size=(3, 3),\n",
        "                                      stride=(1, 1),\n",
        "                                      padding=1,\n",
        "                                      bias=False),   \n",
        "                      torch.nn.BatchNorm2d(64),\n",
        "                      torch.nn.ReLU(inplace=True),\n",
        "                      torch.nn.Conv2d(in_channels=64,\n",
        "                                      out_channels=64,\n",
        "                                      kernel_size=(3, 3),\n",
        "                                      stride=(2, 2),\n",
        "                                      padding=1,\n",
        "                                      bias=False),     \n",
        "                      torch.nn.BatchNorm2d(64),\n",
        "                      torch.nn.ReLU(inplace=True),\n",
        "                      torch.nn.Conv2d(in_channels=64,\n",
        "                                      out_channels=num_classes,\n",
        "                                      kernel_size=(3, 3),\n",
        "                                      stride=(1, 1),\n",
        "                                      padding=1,\n",
        "                                      bias=False),    \n",
        "                      torch.nn.BatchNorm2d(10),\n",
        "                      torch.nn.ReLU(inplace=True),\n",
        "                      torch.nn.AdaptiveAvgPool2d(1),\n",
        "                      torch.nn.Flatten()\n",
        "    )\n",
        "\n",
        "\n",
        "    def forward(self, x):\n",
        "        \n",
        "        x = self.net(x)\n",
        "        #probas = torch.softmax(x, dim=1)\n",
        "        return x"
      ]
    },
    {
      "cell_type": "code",
      "execution_count": null,
      "metadata": {
        "id": "fLD-HObtyfsg",
        "outputId": "06764844-1a7b-4292-9238-d34873024808",
        "colab": {
          "base_uri": "https://localhost:8080/"
        }
      },
      "outputs": [
        {
          "output_type": "stream",
          "name": "stdout",
          "text": [
            "Epoch: 001/050 | Batch 0000/0175 | Loss: 2.3527\n",
            "Epoch: 001/050 | Batch 0100/0175 | Loss: 1.5267\n",
            "Epoch: 001/050 | Train: 45.92% | Validation: 45.82%\n",
            "Time elapsed: 1.46 min\n",
            "Epoch: 002/050 | Batch 0000/0175 | Loss: 1.3228\n",
            "Epoch: 002/050 | Batch 0100/0175 | Loss: 1.1847\n",
            "Epoch: 002/050 | Train: 53.04% | Validation: 52.76%\n",
            "Time elapsed: 2.83 min\n",
            "Epoch: 003/050 | Batch 0000/0175 | Loss: 0.9891\n",
            "Epoch: 003/050 | Batch 0100/0175 | Loss: 0.8956\n",
            "Epoch: 003/050 | Train: 65.31% | Validation: 64.94%\n",
            "Time elapsed: 4.17 min\n",
            "Epoch: 004/050 | Batch 0000/0175 | Loss: 0.9244\n",
            "Epoch: 004/050 | Batch 0100/0175 | Loss: 0.9385\n",
            "Epoch: 004/050 | Train: 66.58% | Validation: 65.80%\n",
            "Time elapsed: 5.54 min\n",
            "Epoch: 005/050 | Batch 0000/0175 | Loss: 0.8128\n",
            "Epoch: 005/050 | Batch 0100/0175 | Loss: 0.7430\n",
            "Epoch: 005/050 | Train: 68.43% | Validation: 68.90%\n",
            "Time elapsed: 6.89 min\n",
            "Epoch: 006/050 | Batch 0000/0175 | Loss: 0.6573\n",
            "Epoch: 006/050 | Batch 0100/0175 | Loss: 0.7208\n",
            "Epoch: 006/050 | Train: 73.08% | Validation: 71.84%\n",
            "Time elapsed: 8.25 min\n",
            "Epoch: 007/050 | Batch 0000/0175 | Loss: 0.7460\n",
            "Epoch: 007/050 | Batch 0100/0175 | Loss: 0.6480\n",
            "Epoch: 007/050 | Train: 77.17% | Validation: 75.24%\n",
            "Time elapsed: 9.60 min\n",
            "Epoch: 008/050 | Batch 0000/0175 | Loss: 0.5507\n",
            "Epoch: 008/050 | Batch 0100/0175 | Loss: 0.6408\n",
            "Epoch: 008/050 | Train: 75.32% | Validation: 74.88%\n",
            "Time elapsed: 10.92 min\n",
            "Epoch: 009/050 | Batch 0000/0175 | Loss: 0.5762\n",
            "Epoch: 009/050 | Batch 0100/0175 | Loss: 0.5664\n",
            "Epoch: 009/050 | Train: 76.20% | Validation: 75.18%\n",
            "Time elapsed: 12.27 min\n",
            "Epoch: 010/050 | Batch 0000/0175 | Loss: 0.5772\n",
            "Epoch: 010/050 | Batch 0100/0175 | Loss: 0.5526\n"
          ]
        }
      ],
      "source": [
        "model = AllConvNet(num_classes=10)\n",
        "\n",
        "model = model.to(DEVICE)\n",
        "\n",
        "optimizer = torch.optim.SGD(model.parameters(), momentum=0.9, lr=0.1)\n",
        "scheduler = torch.optim.lr_scheduler.ReduceLROnPlateau(optimizer,\n",
        "                                                       factor=0.1,\n",
        "                                                       mode='max',\n",
        "                                                       verbose=True)\n",
        "\n",
        "minibatch_loss_list, train_acc_list, valid_acc_list = train_model(\n",
        "    model=model,\n",
        "    num_epochs=NUM_EPOCHS,\n",
        "    train_loader=train_loader,\n",
        "    valid_loader=valid_loader,\n",
        "    test_loader=test_loader,\n",
        "    optimizer=optimizer,\n",
        "    device=DEVICE,\n",
        "    scheduler=scheduler,\n",
        "    scheduler_on='valid_acc',\n",
        "    logging_interval=100)\n",
        "\n",
        "plot_training_loss(minibatch_loss_list=minibatch_loss_list,\n",
        "                   num_epochs=NUM_EPOCHS,\n",
        "                   iter_per_epoch=len(train_loader),\n",
        "                   results_dir=None,\n",
        "                   averaging_iterations=200)\n",
        "plt.show()\n",
        "\n",
        "plot_accuracy(train_acc_list=train_acc_list,\n",
        "              valid_acc_list=valid_acc_list,\n",
        "              results_dir=None)\n",
        "plt.ylim([60, 100])\n",
        "plt.show()"
      ]
    },
    {
      "cell_type": "code",
      "execution_count": null,
      "metadata": {
        "id": "hRJ37VWsyfsh"
      },
      "outputs": [],
      "source": [
        "model.cpu()\n",
        "unnormalizer = UnNormalize((0.5, 0.5, 0.5), (0.5, 0.5, 0.5))\n",
        "class_dict = {0: 'airplane',\n",
        "              1: 'automobile',\n",
        "              2: 'bird',\n",
        "              3: 'cat',\n",
        "              4: 'deer',\n",
        "              5: 'dog',\n",
        "              6: 'frog',\n",
        "              7: 'horse',\n",
        "              8: 'ship',\n",
        "              9: 'truck'}\n",
        "\n",
        "show_examples(model=model, data_loader=test_loader, unnormalizer=unnormalizer, class_dict=class_dict)"
      ]
    },
    {
      "cell_type": "code",
      "execution_count": null,
      "metadata": {
        "id": "7XBbw-S0yfsh"
      },
      "outputs": [],
      "source": [
        "mat = compute_confusion_matrix(model=model, data_loader=test_loader, device=torch.device('cpu'))\n",
        "plot_confusion_matrix(mat, class_names=class_dict.values())\n",
        "plt.show()"
      ]
    }
  ],
  "metadata": {
    "kernelspec": {
      "display_name": "Python 3",
      "language": "python",
      "name": "python3"
    },
    "language_info": {
      "codemirror_mode": {
        "name": "ipython",
        "version": 3
      },
      "file_extension": ".py",
      "mimetype": "text/x-python",
      "name": "python",
      "nbconvert_exporter": "python",
      "pygments_lexer": "ipython3",
      "version": "3.9.2"
    },
    "toc": {
      "nav_menu": {},
      "number_sections": true,
      "sideBar": true,
      "skip_h1_title": false,
      "title_cell": "Table of Contents",
      "title_sidebar": "Contents",
      "toc_cell": false,
      "toc_position": {},
      "toc_section_display": true,
      "toc_window_display": false
    },
    "colab": {
      "provenance": [],
      "include_colab_link": true
    },
    "accelerator": "GPU",
    "gpuClass": "standard"
  },
  "nbformat": 4,
  "nbformat_minor": 0
}