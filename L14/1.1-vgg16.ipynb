{
  "cells": [
    {
      "cell_type": "markdown",
      "metadata": {
        "id": "view-in-github",
        "colab_type": "text"
      },
      "source": [
        "<a href=\"https://colab.research.google.com/github/andrei-radulescu-banu/stat453-deep-learning-ss21/blob/main/L14/1.1-vgg16.ipynb\" target=\"_parent\"><img src=\"https://colab.research.google.com/assets/colab-badge.svg\" alt=\"Open In Colab\"/></a>"
      ]
    },
    {
      "cell_type": "code",
      "source": [
        "!pip install watermark\n",
        "!pip install colab-env --upgrade\n",
        "import colab_env\n",
        "colab_env.envvar_handler.add_env(\"CUBLAS_WORKSPACE_CONFIG\", \":4096:8\", overwrite=True)\n",
        "!git clone https://github.com/andrei-radulescu-banu/stat453-deep-learning-ss21.git\n",
        "import sys, os\n",
        "sys.path.append(\"/content/stat453-deep-learning-ss21/L14\")"
      ],
      "metadata": {
        "colab": {
          "base_uri": "https://localhost:8080/"
        },
        "id": "fIIJweo96CMg",
        "outputId": "4093c42f-12dd-4915-dfff-3fb5f380dcf3"
      },
      "execution_count": 1,
      "outputs": [
        {
          "output_type": "stream",
          "name": "stdout",
          "text": [
            "Looking in indexes: https://pypi.org/simple, https://us-python.pkg.dev/colab-wheels/public/simple/\n",
            "Requirement already satisfied: watermark in /usr/local/lib/python3.7/dist-packages (2.3.1)\n",
            "Requirement already satisfied: importlib-metadata>=1.4 in /usr/local/lib/python3.7/dist-packages (from watermark) (4.13.0)\n",
            "Requirement already satisfied: ipython in /usr/local/lib/python3.7/dist-packages (from watermark) (7.9.0)\n",
            "Requirement already satisfied: typing-extensions>=3.6.4 in /usr/local/lib/python3.7/dist-packages (from importlib-metadata>=1.4->watermark) (4.1.1)\n",
            "Requirement already satisfied: zipp>=0.5 in /usr/local/lib/python3.7/dist-packages (from importlib-metadata>=1.4->watermark) (3.10.0)\n",
            "Requirement already satisfied: traitlets>=4.2 in /usr/local/lib/python3.7/dist-packages (from ipython->watermark) (5.1.1)\n",
            "Requirement already satisfied: pickleshare in /usr/local/lib/python3.7/dist-packages (from ipython->watermark) (0.7.5)\n",
            "Requirement already satisfied: pygments in /usr/local/lib/python3.7/dist-packages (from ipython->watermark) (2.6.1)\n",
            "Requirement already satisfied: setuptools>=18.5 in /usr/local/lib/python3.7/dist-packages (from ipython->watermark) (57.4.0)\n",
            "Requirement already satisfied: pexpect in /usr/local/lib/python3.7/dist-packages (from ipython->watermark) (4.8.0)\n",
            "Requirement already satisfied: decorator in /usr/local/lib/python3.7/dist-packages (from ipython->watermark) (4.4.2)\n",
            "Requirement already satisfied: jedi>=0.10 in /usr/local/lib/python3.7/dist-packages (from ipython->watermark) (0.18.2)\n",
            "Requirement already satisfied: prompt-toolkit<2.1.0,>=2.0.0 in /usr/local/lib/python3.7/dist-packages (from ipython->watermark) (2.0.10)\n",
            "Requirement already satisfied: backcall in /usr/local/lib/python3.7/dist-packages (from ipython->watermark) (0.2.0)\n",
            "Requirement already satisfied: parso<0.9.0,>=0.8.0 in /usr/local/lib/python3.7/dist-packages (from jedi>=0.10->ipython->watermark) (0.8.3)\n",
            "Requirement already satisfied: six>=1.9.0 in /usr/local/lib/python3.7/dist-packages (from prompt-toolkit<2.1.0,>=2.0.0->ipython->watermark) (1.15.0)\n",
            "Requirement already satisfied: wcwidth in /usr/local/lib/python3.7/dist-packages (from prompt-toolkit<2.1.0,>=2.0.0->ipython->watermark) (0.2.5)\n",
            "Requirement already satisfied: ptyprocess>=0.5 in /usr/local/lib/python3.7/dist-packages (from pexpect->ipython->watermark) (0.7.0)\n",
            "Looking in indexes: https://pypi.org/simple, https://us-python.pkg.dev/colab-wheels/public/simple/\n",
            "Requirement already satisfied: colab-env in /usr/local/lib/python3.7/dist-packages (0.2.0)\n",
            "Requirement already satisfied: python-dotenv<1.0,>=0.10.0 in /usr/local/lib/python3.7/dist-packages (from colab-env) (0.21.0)\n",
            "Drive already mounted at /content/gdrive; to attempt to forcibly remount, call drive.mount(\"/content/gdrive\", force_remount=True).\n",
            "fatal: destination path 'stat453-deep-learning-ss21' already exists and is not an empty directory.\n"
          ]
        }
      ]
    },
    {
      "cell_type": "markdown",
      "metadata": {
        "id": "UtoQZMVc568y"
      },
      "source": [
        "STAT 453: Deep Learning (Spring 2021)  \n",
        "Instructor: Sebastian Raschka (sraschka@wisc.edu)  \n",
        "\n",
        "Course website: http://pages.stat.wisc.edu/~sraschka/teaching/stat453-ss2021/  \n",
        "GitHub repository: https://github.com/rasbt/stat453-deep-learning-ss21\n",
        "\n",
        "---"
      ]
    },
    {
      "cell_type": "code",
      "execution_count": 2,
      "metadata": {
        "colab": {
          "base_uri": "https://localhost:8080/"
        },
        "id": "4yAD5P-y5682",
        "outputId": "e619f877-7b55-4793-a8b1-43caac4d4d9e"
      },
      "outputs": [
        {
          "output_type": "stream",
          "name": "stdout",
          "text": [
            "Author: Sebastian Raschka\n",
            "\n",
            "Python implementation: CPython\n",
            "Python version       : 3.7.15\n",
            "IPython version      : 7.9.0\n",
            "\n",
            "torch: 1.12.1+cu113\n",
            "\n"
          ]
        }
      ],
      "source": [
        "%load_ext watermark\n",
        "%watermark -a 'Sebastian Raschka' -v -p torch"
      ]
    },
    {
      "cell_type": "markdown",
      "metadata": {
        "id": "d2-5BvzY5683"
      },
      "source": [
        "# VGG-16 on Cifar-10"
      ]
    },
    {
      "cell_type": "markdown",
      "metadata": {
        "id": "4vU30urn5685"
      },
      "source": [
        "## Imports"
      ]
    },
    {
      "cell_type": "code",
      "execution_count": 3,
      "metadata": {
        "id": "EcmD7abm5686"
      },
      "outputs": [],
      "source": [
        "import torch\n",
        "import torchvision\n",
        "import numpy as np\n",
        "import matplotlib.pyplot as plt"
      ]
    },
    {
      "cell_type": "code",
      "execution_count": 4,
      "metadata": {
        "id": "-ug8LY5g5687"
      },
      "outputs": [],
      "source": [
        "# From local helper files\n",
        "from helper_evaluation import set_all_seeds, set_deterministic, compute_confusion_matrix\n",
        "from helper_train import train_model\n",
        "from helper_plotting import plot_training_loss, plot_accuracy, show_examples, plot_confusion_matrix\n",
        "from helper_dataset import get_dataloaders_cifar10, UnNormalize"
      ]
    },
    {
      "cell_type": "markdown",
      "metadata": {
        "id": "8SuoiTIm5688"
      },
      "source": [
        "## Settings and Dataset"
      ]
    },
    {
      "cell_type": "code",
      "execution_count": 5,
      "metadata": {
        "id": "C8zmPA5H5689"
      },
      "outputs": [],
      "source": [
        "##########################\n",
        "### SETTINGS\n",
        "##########################\n",
        "\n",
        "RANDOM_SEED = 123\n",
        "BATCH_SIZE = 256\n",
        "NUM_EPOCHS = 50\n",
        "DEVICE = torch.device('cuda:0' if torch.cuda.is_available() else 'cpu')"
      ]
    },
    {
      "cell_type": "code",
      "execution_count": 6,
      "metadata": {
        "id": "8Gaxz7Ph568-"
      },
      "outputs": [],
      "source": [
        "set_all_seeds(RANDOM_SEED)\n",
        "#set_deterministic()"
      ]
    },
    {
      "cell_type": "code",
      "execution_count": 7,
      "metadata": {
        "colab": {
          "base_uri": "https://localhost:8080/"
        },
        "id": "ptj90YOH568_",
        "outputId": "6ec0b0e3-2f4e-4253-ed24-4314513c46cf"
      },
      "outputs": [
        {
          "output_type": "stream",
          "name": "stdout",
          "text": [
            "Files already downloaded and verified\n",
            "Image batch dimensions: torch.Size([256, 3, 64, 64])\n",
            "Image label dimensions: torch.Size([256])\n",
            "Class labels of 10 examples: tensor([4, 7, 4, 6, 2, 6, 9, 7, 3, 0])\n"
          ]
        }
      ],
      "source": [
        "##########################\n",
        "### CIFAR-10 DATASET\n",
        "##########################\n",
        "\n",
        "### Note: Network trains about 2-3x faster if you don't\n",
        "# resize (keeping the orig. 32x32 res.)\n",
        "# Test acc. I got via the 32x32 was lower though; ~77%\n",
        "\n",
        "train_transforms = torchvision.transforms.Compose([\n",
        "    torchvision.transforms.Resize((70, 70)),\n",
        "    torchvision.transforms.RandomCrop((64, 64)),\n",
        "    torchvision.transforms.ToTensor(),\n",
        "    torchvision.transforms.Normalize((0.5, 0.5, 0.5), (0.5, 0.5, 0.5))])\n",
        "\n",
        "test_transforms = torchvision.transforms.Compose([\n",
        "    torchvision.transforms.Resize((70, 70)),        \n",
        "    torchvision.transforms.CenterCrop((64, 64)),            \n",
        "    torchvision.transforms.ToTensor(),                \n",
        "    torchvision.transforms.Normalize((0.5, 0.5, 0.5), (0.5, 0.5, 0.5))])\n",
        "\n",
        "\n",
        "train_loader, valid_loader, test_loader = get_dataloaders_cifar10(\n",
        "    batch_size=BATCH_SIZE,\n",
        "    validation_fraction=0.1,\n",
        "    train_transforms=train_transforms,\n",
        "    test_transforms=test_transforms,\n",
        "    num_workers=2)\n",
        "\n",
        "# Checking the dataset\n",
        "for images, labels in train_loader:  \n",
        "    print('Image batch dimensions:', images.shape)\n",
        "    print('Image label dimensions:', labels.shape)\n",
        "    print('Class labels of 10 examples:', labels[:10])\n",
        "    break"
      ]
    },
    {
      "cell_type": "markdown",
      "metadata": {
        "id": "z3cGPfhM569B"
      },
      "source": [
        "## Model"
      ]
    },
    {
      "cell_type": "code",
      "execution_count": 8,
      "metadata": {
        "id": "kK7YAqmg569C"
      },
      "outputs": [],
      "source": [
        "##########################\n",
        "### MODEL\n",
        "##########################\n",
        "\n",
        "\n",
        "class VGG16(torch.nn.Module):\n",
        "\n",
        "    def __init__(self, num_classes):\n",
        "        super().__init__()\n",
        "        \n",
        "        self.block_1 = torch.nn.Sequential(\n",
        "                torch.nn.Conv2d(in_channels=3,\n",
        "                                out_channels=64,\n",
        "                                kernel_size=(3, 3),\n",
        "                                stride=(1, 1),\n",
        "                                padding=1),\n",
        "                torch.nn.ReLU(),\n",
        "                torch.nn.Conv2d(in_channels=64,\n",
        "                                out_channels=64,\n",
        "                                kernel_size=(3, 3),\n",
        "                                stride=(1, 1),\n",
        "                                padding=1),\n",
        "                torch.nn.ReLU(),\n",
        "                torch.nn.MaxPool2d(kernel_size=(2, 2),\n",
        "                                   stride=(2, 2))\n",
        "        )\n",
        "        \n",
        "        self.block_2 = torch.nn.Sequential(\n",
        "                torch.nn.Conv2d(in_channels=64,\n",
        "                                out_channels=128,\n",
        "                                kernel_size=(3, 3),\n",
        "                                stride=(1, 1),\n",
        "                                padding=1),\n",
        "                torch.nn.ReLU(),\n",
        "                torch.nn.Conv2d(in_channels=128,\n",
        "                                out_channels=128,\n",
        "                                kernel_size=(3, 3),\n",
        "                                stride=(1, 1),\n",
        "                                padding=1),\n",
        "                torch.nn.ReLU(),\n",
        "                torch.nn.MaxPool2d(kernel_size=(2, 2),\n",
        "                                   stride=(2, 2))\n",
        "        )\n",
        "        \n",
        "        self.block_3 = torch.nn.Sequential(        \n",
        "                torch.nn.Conv2d(in_channels=128,\n",
        "                                out_channels=256,\n",
        "                                kernel_size=(3, 3),\n",
        "                                stride=(1, 1),\n",
        "                                padding=1),\n",
        "                torch.nn.ReLU(),\n",
        "                torch.nn.Conv2d(in_channels=256,\n",
        "                                out_channels=256,\n",
        "                                kernel_size=(3, 3),\n",
        "                                stride=(1, 1),\n",
        "                                padding=1),\n",
        "                torch.nn.ReLU(),        \n",
        "                torch.nn.Conv2d(in_channels=256,\n",
        "                                out_channels=256,\n",
        "                                kernel_size=(3, 3),\n",
        "                                stride=(1, 1),\n",
        "                                padding=1),\n",
        "                torch.nn.ReLU(),\n",
        "                torch.nn.MaxPool2d(kernel_size=(2, 2),\n",
        "                                   stride=(2, 2))\n",
        "        )\n",
        "        \n",
        "          \n",
        "        self.block_4 = torch.nn.Sequential(   \n",
        "                torch.nn.Conv2d(in_channels=256,\n",
        "                                out_channels=512,\n",
        "                                kernel_size=(3, 3),\n",
        "                                stride=(1, 1),\n",
        "                                padding=1),\n",
        "                torch.nn.ReLU(),        \n",
        "                torch.nn.Conv2d(in_channels=512,\n",
        "                                out_channels=512,\n",
        "                                kernel_size=(3, 3),\n",
        "                                stride=(1, 1),\n",
        "                                padding=1),\n",
        "                torch.nn.ReLU(),        \n",
        "                torch.nn.Conv2d(in_channels=512,\n",
        "                                out_channels=512,\n",
        "                                kernel_size=(3, 3),\n",
        "                                stride=(1, 1),\n",
        "                                padding=1),\n",
        "                torch.nn.ReLU(),            \n",
        "                torch.nn.MaxPool2d(kernel_size=(2, 2),\n",
        "                                   stride=(2, 2))\n",
        "        )\n",
        "        \n",
        "        self.block_5 = torch.nn.Sequential(\n",
        "                torch.nn.Conv2d(in_channels=512,\n",
        "                                out_channels=512,\n",
        "                                kernel_size=(3, 3),\n",
        "                                stride=(1, 1),\n",
        "                                padding=1),\n",
        "                torch.nn.ReLU(),            \n",
        "                torch.nn.Conv2d(in_channels=512,\n",
        "                                out_channels=512,\n",
        "                                kernel_size=(3, 3),\n",
        "                                stride=(1, 1),\n",
        "                                padding=1),\n",
        "                torch.nn.ReLU(),            \n",
        "                torch.nn.Conv2d(in_channels=512,\n",
        "                                out_channels=512,\n",
        "                                kernel_size=(3, 3),\n",
        "                                stride=(1, 1),\n",
        "                                padding=1),\n",
        "                torch.nn.ReLU(),    \n",
        "                torch.nn.MaxPool2d(kernel_size=(2, 2),\n",
        "                                   stride=(2, 2))             \n",
        "        )\n",
        "            \n",
        "        height, width = 3, 3 ## you may want to change that depending on the input image size\n",
        "        self.classifier = torch.nn.Sequential(\n",
        "            torch.nn.Linear(512*height*width, 4096),\n",
        "            torch.nn.ReLU(True),\n",
        "            torch.nn.Dropout(p=0.5),\n",
        "            torch.nn.Linear(4096, 4096),\n",
        "            torch.nn.ReLU(True),\n",
        "            torch.nn.Dropout(p=0.5),\n",
        "            torch.nn.Linear(4096, num_classes),\n",
        "        )\n",
        "            \n",
        "        for m in self.modules():\n",
        "            if isinstance(m, torch.torch.nn.Conv2d) or isinstance(m, torch.torch.nn.Linear):\n",
        "                torch.nn.init.kaiming_uniform_(m.weight, mode='fan_in', nonlinearity='relu')\n",
        "                if m.bias is not None:\n",
        "                    m.bias.detach().zero_()\n",
        "                    \n",
        "        self.avgpool = torch.nn.AdaptiveAvgPool2d((height, width))\n",
        "        \n",
        "        \n",
        "    def forward(self, x):\n",
        "\n",
        "        x = self.block_1(x)\n",
        "        x = self.block_2(x)\n",
        "        x = self.block_3(x)\n",
        "        x = self.block_4(x)\n",
        "        x = self.block_5(x)\n",
        "        x = self.avgpool(x)\n",
        "        x = x.view(x.size(0), -1) # flatten\n",
        "        \n",
        "        logits = self.classifier(x)\n",
        "        #probas = F.softmax(logits, dim=1)\n",
        "\n",
        "        return logits                                "
      ]
    },
    {
      "cell_type": "code",
      "execution_count": null,
      "metadata": {
        "colab": {
          "base_uri": "https://localhost:8080/"
        },
        "id": "6L-HSijP569D",
        "outputId": "1b84e1f4-11aa-4169-f3db-efc698024556"
      },
      "outputs": [
        {
          "output_type": "stream",
          "name": "stdout",
          "text": [
            "Epoch: 001/050 | Batch 0000/0175 | Loss: 3.6772\n",
            "Epoch: 001/050 | Batch 0100/0175 | Loss: 1.9202\n",
            "Epoch: 001/050 | Train: 34.34% | Validation: 34.96%\n",
            "Time elapsed: 1.62 min\n",
            "Epoch: 002/050 | Batch 0000/0175 | Loss: 1.8296\n",
            "Epoch: 002/050 | Batch 0100/0175 | Loss: 1.4557\n",
            "Epoch: 002/050 | Train: 47.26% | Validation: 48.12%\n",
            "Time elapsed: 3.22 min\n",
            "Epoch: 003/050 | Batch 0000/0175 | Loss: 1.4943\n",
            "Epoch: 003/050 | Batch 0100/0175 | Loss: 1.4787\n",
            "Epoch: 003/050 | Train: 56.37% | Validation: 56.30%\n",
            "Time elapsed: 4.80 min\n",
            "Epoch: 004/050 | Batch 0000/0175 | Loss: 1.0643\n",
            "Epoch: 004/050 | Batch 0100/0175 | Loss: 1.1912\n",
            "Epoch: 004/050 | Train: 62.54% | Validation: 62.56%\n",
            "Time elapsed: 6.42 min\n",
            "Epoch: 005/050 | Batch 0000/0175 | Loss: 1.1161\n",
            "Epoch: 005/050 | Batch 0100/0175 | Loss: 0.9030\n",
            "Epoch: 005/050 | Train: 67.44% | Validation: 67.96%\n",
            "Time elapsed: 8.02 min\n",
            "Epoch: 006/050 | Batch 0000/0175 | Loss: 0.8108\n",
            "Epoch: 006/050 | Batch 0100/0175 | Loss: 0.8463\n",
            "Epoch: 006/050 | Train: 72.28% | Validation: 70.80%\n",
            "Time elapsed: 9.62 min\n",
            "Epoch: 007/050 | Batch 0000/0175 | Loss: 0.7606\n",
            "Epoch: 007/050 | Batch 0100/0175 | Loss: 0.8761\n",
            "Epoch: 007/050 | Train: 77.09% | Validation: 75.56%\n",
            "Time elapsed: 11.23 min\n",
            "Epoch: 008/050 | Batch 0000/0175 | Loss: 0.7184\n",
            "Epoch: 008/050 | Batch 0100/0175 | Loss: 0.6062\n",
            "Epoch: 008/050 | Train: 80.13% | Validation: 77.56%\n",
            "Time elapsed: 12.86 min\n",
            "Epoch: 009/050 | Batch 0000/0175 | Loss: 0.5397\n",
            "Epoch: 009/050 | Batch 0100/0175 | Loss: 0.6456\n",
            "Epoch: 009/050 | Train: 80.79% | Validation: 77.38%\n",
            "Time elapsed: 14.47 min\n",
            "Epoch: 010/050 | Batch 0000/0175 | Loss: 0.6047\n",
            "Epoch: 010/050 | Batch 0100/0175 | Loss: 0.6059\n",
            "Epoch: 010/050 | Train: 84.77% | Validation: 80.60%\n",
            "Time elapsed: 16.07 min\n",
            "Epoch: 011/050 | Batch 0000/0175 | Loss: 0.4900\n",
            "Epoch: 011/050 | Batch 0100/0175 | Loss: 0.4638\n",
            "Epoch: 011/050 | Train: 85.53% | Validation: 80.16%\n",
            "Time elapsed: 17.69 min\n",
            "Epoch: 012/050 | Batch 0000/0175 | Loss: 0.4544\n",
            "Epoch: 012/050 | Batch 0100/0175 | Loss: 0.4289\n",
            "Epoch: 012/050 | Train: 88.44% | Validation: 81.56%\n",
            "Time elapsed: 19.30 min\n",
            "Epoch: 013/050 | Batch 0000/0175 | Loss: 0.3493\n",
            "Epoch: 013/050 | Batch 0100/0175 | Loss: 0.4503\n",
            "Epoch: 013/050 | Train: 87.18% | Validation: 79.90%\n",
            "Time elapsed: 20.91 min\n",
            "Epoch: 014/050 | Batch 0000/0175 | Loss: 0.3090\n",
            "Epoch: 014/050 | Batch 0100/0175 | Loss: 0.4688\n",
            "Epoch: 014/050 | Train: 88.47% | Validation: 80.48%\n",
            "Time elapsed: 22.54 min\n",
            "Epoch: 015/050 | Batch 0000/0175 | Loss: 0.3803\n",
            "Epoch: 015/050 | Batch 0100/0175 | Loss: 0.3195\n",
            "Epoch: 015/050 | Train: 92.72% | Validation: 82.32%\n",
            "Time elapsed: 24.16 min\n",
            "Epoch: 016/050 | Batch 0000/0175 | Loss: 0.1622\n",
            "Epoch: 016/050 | Batch 0100/0175 | Loss: 0.2901\n",
            "Epoch: 016/050 | Train: 92.00% | Validation: 82.12%\n",
            "Time elapsed: 25.77 min\n",
            "Epoch: 017/050 | Batch 0000/0175 | Loss: 0.2368\n",
            "Epoch: 017/050 | Batch 0100/0175 | Loss: 0.1852\n",
            "Epoch: 017/050 | Train: 93.92% | Validation: 82.48%\n",
            "Time elapsed: 27.39 min\n",
            "Epoch: 018/050 | Batch 0000/0175 | Loss: 0.1668\n"
          ]
        }
      ],
      "source": [
        "model = VGG16(num_classes=10)\n",
        "\n",
        "model = model.to(DEVICE)\n",
        "\n",
        "optimizer = torch.optim.SGD(model.parameters(), momentum=0.9, lr=0.01)\n",
        "scheduler = torch.optim.lr_scheduler.ReduceLROnPlateau(optimizer,\n",
        "                                                       factor=0.1,\n",
        "                                                       mode='max',\n",
        "                                                       verbose=True)\n",
        "\n",
        "minibatch_loss_list, train_acc_list, valid_acc_list = train_model(\n",
        "    model=model,\n",
        "    num_epochs=NUM_EPOCHS,\n",
        "    train_loader=train_loader,\n",
        "    valid_loader=valid_loader,\n",
        "    test_loader=test_loader,\n",
        "    optimizer=optimizer,\n",
        "    device=DEVICE,\n",
        "    scheduler=scheduler,\n",
        "    scheduler_on='valid_acc',\n",
        "    logging_interval=100)\n",
        "\n",
        "plot_training_loss(minibatch_loss_list=minibatch_loss_list,\n",
        "                   num_epochs=NUM_EPOCHS,\n",
        "                   iter_per_epoch=len(train_loader),\n",
        "                   results_dir=None,\n",
        "                   averaging_iterations=200)\n",
        "plt.show()\n",
        "\n",
        "plot_accuracy(train_acc_list=train_acc_list,\n",
        "              valid_acc_list=valid_acc_list,\n",
        "              results_dir=None)\n",
        "plt.ylim([60, 100])\n",
        "plt.show()"
      ]
    },
    {
      "cell_type": "code",
      "execution_count": null,
      "metadata": {
        "id": "_XHXD9cP569E"
      },
      "outputs": [],
      "source": [
        "model.cpu()\n",
        "unnormalizer = UnNormalize((0.5, 0.5, 0.5), (0.5, 0.5, 0.5))\n",
        "class_dict = {0: 'airplane',\n",
        "              1: 'automobile',\n",
        "              2: 'bird',\n",
        "              3: 'cat',\n",
        "              4: 'deer',\n",
        "              5: 'dog',\n",
        "              6: 'frog',\n",
        "              7: 'horse',\n",
        "              8: 'ship',\n",
        "              9: 'truck'}\n",
        "\n",
        "show_examples(model=model, data_loader=test_loader, unnormalizer=unnormalizer, class_dict=class_dict)"
      ]
    },
    {
      "cell_type": "code",
      "execution_count": null,
      "metadata": {
        "id": "Ya9YQ08o569G"
      },
      "outputs": [],
      "source": [
        "mat = compute_confusion_matrix(model=model, data_loader=test_loader, device=torch.device('cpu'))\n",
        "plot_confusion_matrix(mat, class_names=class_dict.values())\n",
        "plt.show()"
      ]
    }
  ],
  "metadata": {
    "kernelspec": {
      "display_name": "Python 3",
      "language": "python",
      "name": "python3"
    },
    "language_info": {
      "codemirror_mode": {
        "name": "ipython",
        "version": 3
      },
      "file_extension": ".py",
      "mimetype": "text/x-python",
      "name": "python",
      "nbconvert_exporter": "python",
      "pygments_lexer": "ipython3",
      "version": "3.9.2"
    },
    "toc": {
      "nav_menu": {},
      "number_sections": true,
      "sideBar": true,
      "skip_h1_title": false,
      "title_cell": "Table of Contents",
      "title_sidebar": "Contents",
      "toc_cell": false,
      "toc_position": {},
      "toc_section_display": true,
      "toc_window_display": false
    },
    "colab": {
      "provenance": [],
      "include_colab_link": true
    },
    "accelerator": "GPU",
    "gpuClass": "standard"
  },
  "nbformat": 4,
  "nbformat_minor": 0
}