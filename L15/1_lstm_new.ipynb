{
  "cells": [
    {
      "cell_type": "markdown",
      "metadata": {
        "id": "view-in-github",
        "colab_type": "text"
      },
      "source": [
        "<a href=\"https://colab.research.google.com/github/andrei-radulescu-banu/stat453-deep-learning-ss21/blob/main/L15/1_lstm_new.ipynb\" target=\"_parent\"><img src=\"https://colab.research.google.com/assets/colab-badge.svg\" alt=\"Open In Colab\"/></a>"
      ]
    },
    {
      "cell_type": "code",
      "source": [
        "!pip install -U torch==1.13.0 torchtext==0.14.0 torchdata==0.5.0\n",
        "\n",
        "# Reload environment\n",
        "exit()"
      ],
      "metadata": {
        "colab": {
          "base_uri": "https://localhost:8080/"
        },
        "id": "quCeAViQxtFC",
        "outputId": "76ed6622-54ed-4c9b-f1fb-3453b7c64456"
      },
      "execution_count": 1,
      "outputs": [
        {
          "output_type": "stream",
          "name": "stdout",
          "text": [
            "Looking in indexes: https://pypi.org/simple, https://us-python.pkg.dev/colab-wheels/public/simple/\n",
            "Requirement already satisfied: torch==1.13.0 in /usr/local/lib/python3.8/dist-packages (1.13.0)\n",
            "Requirement already satisfied: torchtext==0.14.0 in /usr/local/lib/python3.8/dist-packages (0.14.0)\n",
            "Requirement already satisfied: torchdata==0.5.0 in /usr/local/lib/python3.8/dist-packages (0.5.0)\n",
            "Requirement already satisfied: nvidia-cublas-cu11==11.10.3.66 in /usr/local/lib/python3.8/dist-packages (from torch==1.13.0) (11.10.3.66)\n",
            "Requirement already satisfied: typing-extensions in /usr/local/lib/python3.8/dist-packages (from torch==1.13.0) (4.1.1)\n",
            "Requirement already satisfied: nvidia-cuda-runtime-cu11==11.7.99 in /usr/local/lib/python3.8/dist-packages (from torch==1.13.0) (11.7.99)\n",
            "Requirement already satisfied: nvidia-cudnn-cu11==8.5.0.96 in /usr/local/lib/python3.8/dist-packages (from torch==1.13.0) (8.5.0.96)\n",
            "Requirement already satisfied: nvidia-cuda-nvrtc-cu11==11.7.99 in /usr/local/lib/python3.8/dist-packages (from torch==1.13.0) (11.7.99)\n",
            "Requirement already satisfied: numpy in /usr/local/lib/python3.8/dist-packages (from torchtext==0.14.0) (1.21.6)\n",
            "Requirement already satisfied: requests in /usr/local/lib/python3.8/dist-packages (from torchtext==0.14.0) (2.23.0)\n",
            "Requirement already satisfied: tqdm in /usr/local/lib/python3.8/dist-packages (from torchtext==0.14.0) (4.64.1)\n",
            "Requirement already satisfied: urllib3>=1.25 in /usr/local/lib/python3.8/dist-packages (from torchdata==0.5.0) (1.25.11)\n",
            "Requirement already satisfied: portalocker>=2.0.0 in /usr/local/lib/python3.8/dist-packages (from torchdata==0.5.0) (2.6.0)\n",
            "Requirement already satisfied: setuptools in /usr/local/lib/python3.8/dist-packages (from nvidia-cublas-cu11==11.10.3.66->torch==1.13.0) (57.4.0)\n",
            "Requirement already satisfied: wheel in /usr/local/lib/python3.8/dist-packages (from nvidia-cublas-cu11==11.10.3.66->torch==1.13.0) (0.38.4)\n",
            "Requirement already satisfied: chardet<4,>=3.0.2 in /usr/local/lib/python3.8/dist-packages (from requests->torchtext==0.14.0) (3.0.4)\n",
            "Requirement already satisfied: idna<3,>=2.5 in /usr/local/lib/python3.8/dist-packages (from requests->torchtext==0.14.0) (2.10)\n",
            "Requirement already satisfied: certifi>=2017.4.17 in /usr/local/lib/python3.8/dist-packages (from requests->torchtext==0.14.0) (2022.9.24)\n"
          ]
        }
      ]
    },
    {
      "cell_type": "markdown",
      "metadata": {
        "id": "1kiY4tZXm7Gz"
      },
      "source": [
        "STAT 453: Deep Learning (Spring 2021)  \n",
        "Instructor: Sebastian Raschka (sraschka@wisc.edu)  \n",
        "\n",
        "Course website: http://pages.stat.wisc.edu/~sraschka/teaching/stat453-ss2021/  \n",
        "GitHub repository: https://github.com/rasbt/stat453-deep-learning-ss21\n",
        "\n",
        "---"
      ]
    },
    {
      "cell_type": "code",
      "source": [
        "!pip install watermark\n",
        "!pip install colab-env --upgrade\n",
        "import colab_env\n",
        "colab_env.envvar_handler.add_env(\"CUBLAS_WORKSPACE_CONFIG\", \":4096:8\", overwrite=True)\n",
        "!git clone https://github.com/andrei-radulescu-banu/stat453-deep-learning-ss21.git\n",
        "import sys, os\n",
        "sys.path.append(\"/content/stat453-deep-learning-ss21/L15\")"
      ],
      "metadata": {
        "colab": {
          "base_uri": "https://localhost:8080/"
        },
        "id": "RxYMCgA_nBvP",
        "outputId": "354817ff-69a6-4eb8-81e9-d65bf8ba87f3"
      },
      "execution_count": 1,
      "outputs": [
        {
          "output_type": "stream",
          "name": "stdout",
          "text": [
            "Looking in indexes: https://pypi.org/simple, https://us-python.pkg.dev/colab-wheels/public/simple/\n",
            "Collecting watermark\n",
            "  Downloading watermark-2.3.1-py2.py3-none-any.whl (7.2 kB)\n",
            "Requirement already satisfied: ipython in /usr/local/lib/python3.8/dist-packages (from watermark) (7.9.0)\n",
            "Requirement already satisfied: setuptools>=18.5 in /usr/local/lib/python3.8/dist-packages (from ipython->watermark) (57.4.0)\n",
            "Requirement already satisfied: backcall in /usr/local/lib/python3.8/dist-packages (from ipython->watermark) (0.2.0)\n",
            "Requirement already satisfied: prompt-toolkit<2.1.0,>=2.0.0 in /usr/local/lib/python3.8/dist-packages (from ipython->watermark) (2.0.10)\n",
            "Requirement already satisfied: pygments in /usr/local/lib/python3.8/dist-packages (from ipython->watermark) (2.6.1)\n",
            "Requirement already satisfied: decorator in /usr/local/lib/python3.8/dist-packages (from ipython->watermark) (4.4.2)\n",
            "Requirement already satisfied: traitlets>=4.2 in /usr/local/lib/python3.8/dist-packages (from ipython->watermark) (5.1.1)\n",
            "Requirement already satisfied: pickleshare in /usr/local/lib/python3.8/dist-packages (from ipython->watermark) (0.7.5)\n",
            "Requirement already satisfied: pexpect in /usr/local/lib/python3.8/dist-packages (from ipython->watermark) (4.8.0)\n",
            "Collecting jedi>=0.10\n",
            "  Downloading jedi-0.18.2-py2.py3-none-any.whl (1.6 MB)\n",
            "\u001b[K     |████████████████████████████████| 1.6 MB 4.4 MB/s \n",
            "\u001b[?25hRequirement already satisfied: parso<0.9.0,>=0.8.0 in /usr/local/lib/python3.8/dist-packages (from jedi>=0.10->ipython->watermark) (0.8.3)\n",
            "Requirement already satisfied: wcwidth in /usr/local/lib/python3.8/dist-packages (from prompt-toolkit<2.1.0,>=2.0.0->ipython->watermark) (0.2.5)\n",
            "Requirement already satisfied: six>=1.9.0 in /usr/local/lib/python3.8/dist-packages (from prompt-toolkit<2.1.0,>=2.0.0->ipython->watermark) (1.15.0)\n",
            "Requirement already satisfied: ptyprocess>=0.5 in /usr/local/lib/python3.8/dist-packages (from pexpect->ipython->watermark) (0.7.0)\n",
            "Installing collected packages: jedi, watermark\n",
            "Successfully installed jedi-0.18.2 watermark-2.3.1\n",
            "Looking in indexes: https://pypi.org/simple, https://us-python.pkg.dev/colab-wheels/public/simple/\n",
            "Collecting colab-env\n",
            "  Downloading colab-env-0.2.0.tar.gz (4.7 kB)\n",
            "Collecting python-dotenv<1.0,>=0.10.0\n",
            "  Downloading python_dotenv-0.21.0-py3-none-any.whl (18 kB)\n",
            "Building wheels for collected packages: colab-env\n",
            "  Building wheel for colab-env (setup.py) ... \u001b[?25l\u001b[?25hdone\n",
            "  Created wheel for colab-env: filename=colab_env-0.2.0-py3-none-any.whl size=3837 sha256=660d83eaa319c1c469fc7aa7d8814e722ea49e3340d7eb0b7f55f34fe371a302\n",
            "  Stored in directory: /root/.cache/pip/wheels/1c/65/0c/5552431f2622d6e0283e3dba61c6837103a9cbdbd89b7b0cba\n",
            "Successfully built colab-env\n",
            "Installing collected packages: python-dotenv, colab-env\n",
            "Successfully installed colab-env-0.2.0 python-dotenv-0.21.0\n",
            "Mounted at /content/gdrive\n",
            "Cloning into 'stat453-deep-learning-ss21'...\n",
            "remote: Enumerating objects: 1307, done.\u001b[K\n",
            "remote: Counting objects: 100% (257/257), done.\u001b[K\n",
            "remote: Compressing objects: 100% (100/100), done.\u001b[K\n",
            "remote: Total 1307 (delta 177), reused 179 (delta 135), pack-reused 1050\u001b[K\n",
            "Receiving objects: 100% (1307/1307), 116.73 MiB | 31.60 MiB/s, done.\n",
            "Resolving deltas: 100% (281/281), done.\n"
          ]
        }
      ]
    },
    {
      "cell_type": "markdown",
      "metadata": {
        "id": "vY4SK0xKAJgm"
      },
      "source": [
        "# RNN Classifier with LSTM Trained on Own Dataset (IMDB)"
      ]
    },
    {
      "cell_type": "markdown",
      "metadata": {
        "id": "sc6xejhY-NzZ"
      },
      "source": [
        "Example notebook showing how to use an own CSV text dataset for training a simple RNN for sentiment classification (here: a binary classification problem with two labels, positive and negative) using LSTM (Long Short Term Memory) cells."
      ]
    },
    {
      "cell_type": "code",
      "execution_count": 3,
      "metadata": {
        "colab": {
          "base_uri": "https://localhost:8080/"
        },
        "id": "moNmVfuvnImW",
        "outputId": "d707a925-ddcc-4f30-d3ae-5e81dc0a0ada"
      },
      "outputs": [
        {
          "output_type": "stream",
          "name": "stdout",
          "text": [
            "Author: Sebastian Raschka\n",
            "\n",
            "Python implementation: CPython\n",
            "Python version       : 3.8.15\n",
            "IPython version      : 7.9.0\n",
            "\n",
            "torch    : 1.13.0\n",
            "torchtext: 0.14.0\n",
            "\n"
          ]
        }
      ],
      "source": [
        "%load_ext watermark\n",
        "%watermark -a 'Sebastian Raschka' -v -p torch,torchtext\n",
        "\n",
        "import torch\n",
        "import torch.nn.functional as F\n",
        "import torchtext\n",
        "import time\n",
        "import random\n",
        "import pandas as pd\n",
        "\n",
        "torch.backends.cudnn.deterministic = True"
      ]
    },
    {
      "cell_type": "markdown",
      "metadata": {
        "id": "GSRL42Qgy8I8"
      },
      "source": [
        "## General Settings"
      ]
    },
    {
      "cell_type": "code",
      "execution_count": 4,
      "metadata": {
        "id": "OvW1RgfepCBq"
      },
      "outputs": [],
      "source": [
        "RANDOM_SEED = 123\n",
        "torch.manual_seed(RANDOM_SEED)\n",
        "\n",
        "VOCABULARY_SIZE = 20000\n",
        "LEARNING_RATE = 0.005\n",
        "BATCH_SIZE = 128\n",
        "NUM_EPOCHS = 15\n",
        "DEVICE = torch.device('cuda:0' if torch.cuda.is_available() else 'cpu')\n",
        "\n",
        "EMBEDDING_DIM = 128\n",
        "HIDDEN_DIM = 256\n",
        "NUM_CLASSES = 2"
      ]
    },
    {
      "cell_type": "markdown",
      "metadata": {
        "id": "mQMmKUEisW4W"
      },
      "source": [
        "## Download Dataset"
      ]
    },
    {
      "cell_type": "markdown",
      "metadata": {
        "id": "tHwOuk54m7G6"
      },
      "source": [
        "The following cells will download the IMDB movie review dataset (http://ai.stanford.edu/~amaas/data/sentiment/) for positive-negative sentiment classification in as CSV-formatted file:"
      ]
    },
    {
      "cell_type": "code",
      "execution_count": 5,
      "metadata": {
        "colab": {
          "base_uri": "https://localhost:8080/"
        },
        "id": "7Kq0XWHom7G6",
        "outputId": "8d096cc7-f13f-4aea-b0a8-e26c68554cae"
      },
      "outputs": [
        {
          "output_type": "stream",
          "name": "stdout",
          "text": [
            "--2022-12-07 01:14:45--  https://github.com/rasbt/python-machine-learning-book-3rd-edition/raw/master/ch08/movie_data.csv.gz\n",
            "Resolving github.com (github.com)... 140.82.113.4\n",
            "Connecting to github.com (github.com)|140.82.113.4|:443... connected.\n",
            "HTTP request sent, awaiting response... 302 Found\n",
            "Location: https://raw.githubusercontent.com/rasbt/python-machine-learning-book-3rd-edition/master/ch08/movie_data.csv.gz [following]\n",
            "--2022-12-07 01:14:45--  https://raw.githubusercontent.com/rasbt/python-machine-learning-book-3rd-edition/master/ch08/movie_data.csv.gz\n",
            "Resolving raw.githubusercontent.com (raw.githubusercontent.com)... 185.199.110.133, 185.199.108.133, 185.199.111.133, ...\n",
            "Connecting to raw.githubusercontent.com (raw.githubusercontent.com)|185.199.110.133|:443... connected.\n",
            "HTTP request sent, awaiting response... 200 OK\n",
            "Length: 26521894 (25M) [application/octet-stream]\n",
            "Saving to: ‘movie_data.csv.gz’\n",
            "\n",
            "movie_data.csv.gz   100%[===================>]  25.29M   168MB/s    in 0.2s    \n",
            "\n",
            "2022-12-07 01:14:46 (168 MB/s) - ‘movie_data.csv.gz’ saved [26521894/26521894]\n",
            "\n"
          ]
        }
      ],
      "source": [
        "!wget https://github.com/rasbt/python-machine-learning-book-3rd-edition/raw/master/ch08/movie_data.csv.gz"
      ]
    },
    {
      "cell_type": "code",
      "execution_count": 6,
      "metadata": {
        "id": "hXwZGkBQm7G7"
      },
      "outputs": [],
      "source": [
        "!gunzip -f movie_data.csv.gz "
      ]
    },
    {
      "cell_type": "markdown",
      "metadata": {
        "id": "wGreVqRDm7G7"
      },
      "source": [
        "Check that the dataset looks okay:"
      ]
    },
    {
      "cell_type": "code",
      "execution_count": 7,
      "metadata": {
        "colab": {
          "base_uri": "https://localhost:8080/",
          "height": 206
        },
        "id": "uVr6xN53m7G8",
        "outputId": "e0b5aeeb-8970-47fb-97a1-f9ee2ff1c17b"
      },
      "outputs": [
        {
          "output_type": "execute_result",
          "data": {
            "text/plain": [
              "                                              review  sentiment\n",
              "0  In 1974, the teenager Martha Moxley (Maggie Gr...          1\n",
              "1  OK... so... I really like Kris Kristofferson a...          0\n",
              "2  ***SPOILER*** Do not read this, if you think a...          0\n",
              "3  hi for all the people who have seen this wonde...          1\n",
              "4  I recently bought the DVD, forgetting just how...          0"
            ],
            "text/html": [
              "\n",
              "  <div id=\"df-7a5e879a-2616-43e5-adff-0c8e67d4128d\">\n",
              "    <div class=\"colab-df-container\">\n",
              "      <div>\n",
              "<style scoped>\n",
              "    .dataframe tbody tr th:only-of-type {\n",
              "        vertical-align: middle;\n",
              "    }\n",
              "\n",
              "    .dataframe tbody tr th {\n",
              "        vertical-align: top;\n",
              "    }\n",
              "\n",
              "    .dataframe thead th {\n",
              "        text-align: right;\n",
              "    }\n",
              "</style>\n",
              "<table border=\"1\" class=\"dataframe\">\n",
              "  <thead>\n",
              "    <tr style=\"text-align: right;\">\n",
              "      <th></th>\n",
              "      <th>review</th>\n",
              "      <th>sentiment</th>\n",
              "    </tr>\n",
              "  </thead>\n",
              "  <tbody>\n",
              "    <tr>\n",
              "      <th>0</th>\n",
              "      <td>In 1974, the teenager Martha Moxley (Maggie Gr...</td>\n",
              "      <td>1</td>\n",
              "    </tr>\n",
              "    <tr>\n",
              "      <th>1</th>\n",
              "      <td>OK... so... I really like Kris Kristofferson a...</td>\n",
              "      <td>0</td>\n",
              "    </tr>\n",
              "    <tr>\n",
              "      <th>2</th>\n",
              "      <td>***SPOILER*** Do not read this, if you think a...</td>\n",
              "      <td>0</td>\n",
              "    </tr>\n",
              "    <tr>\n",
              "      <th>3</th>\n",
              "      <td>hi for all the people who have seen this wonde...</td>\n",
              "      <td>1</td>\n",
              "    </tr>\n",
              "    <tr>\n",
              "      <th>4</th>\n",
              "      <td>I recently bought the DVD, forgetting just how...</td>\n",
              "      <td>0</td>\n",
              "    </tr>\n",
              "  </tbody>\n",
              "</table>\n",
              "</div>\n",
              "      <button class=\"colab-df-convert\" onclick=\"convertToInteractive('df-7a5e879a-2616-43e5-adff-0c8e67d4128d')\"\n",
              "              title=\"Convert this dataframe to an interactive table.\"\n",
              "              style=\"display:none;\">\n",
              "        \n",
              "  <svg xmlns=\"http://www.w3.org/2000/svg\" height=\"24px\"viewBox=\"0 0 24 24\"\n",
              "       width=\"24px\">\n",
              "    <path d=\"M0 0h24v24H0V0z\" fill=\"none\"/>\n",
              "    <path d=\"M18.56 5.44l.94 2.06.94-2.06 2.06-.94-2.06-.94-.94-2.06-.94 2.06-2.06.94zm-11 1L8.5 8.5l.94-2.06 2.06-.94-2.06-.94L8.5 2.5l-.94 2.06-2.06.94zm10 10l.94 2.06.94-2.06 2.06-.94-2.06-.94-.94-2.06-.94 2.06-2.06.94z\"/><path d=\"M17.41 7.96l-1.37-1.37c-.4-.4-.92-.59-1.43-.59-.52 0-1.04.2-1.43.59L10.3 9.45l-7.72 7.72c-.78.78-.78 2.05 0 2.83L4 21.41c.39.39.9.59 1.41.59.51 0 1.02-.2 1.41-.59l7.78-7.78 2.81-2.81c.8-.78.8-2.07 0-2.86zM5.41 20L4 18.59l7.72-7.72 1.47 1.35L5.41 20z\"/>\n",
              "  </svg>\n",
              "      </button>\n",
              "      \n",
              "  <style>\n",
              "    .colab-df-container {\n",
              "      display:flex;\n",
              "      flex-wrap:wrap;\n",
              "      gap: 12px;\n",
              "    }\n",
              "\n",
              "    .colab-df-convert {\n",
              "      background-color: #E8F0FE;\n",
              "      border: none;\n",
              "      border-radius: 50%;\n",
              "      cursor: pointer;\n",
              "      display: none;\n",
              "      fill: #1967D2;\n",
              "      height: 32px;\n",
              "      padding: 0 0 0 0;\n",
              "      width: 32px;\n",
              "    }\n",
              "\n",
              "    .colab-df-convert:hover {\n",
              "      background-color: #E2EBFA;\n",
              "      box-shadow: 0px 1px 2px rgba(60, 64, 67, 0.3), 0px 1px 3px 1px rgba(60, 64, 67, 0.15);\n",
              "      fill: #174EA6;\n",
              "    }\n",
              "\n",
              "    [theme=dark] .colab-df-convert {\n",
              "      background-color: #3B4455;\n",
              "      fill: #D2E3FC;\n",
              "    }\n",
              "\n",
              "    [theme=dark] .colab-df-convert:hover {\n",
              "      background-color: #434B5C;\n",
              "      box-shadow: 0px 1px 3px 1px rgba(0, 0, 0, 0.15);\n",
              "      filter: drop-shadow(0px 1px 2px rgba(0, 0, 0, 0.3));\n",
              "      fill: #FFFFFF;\n",
              "    }\n",
              "  </style>\n",
              "\n",
              "      <script>\n",
              "        const buttonEl =\n",
              "          document.querySelector('#df-7a5e879a-2616-43e5-adff-0c8e67d4128d button.colab-df-convert');\n",
              "        buttonEl.style.display =\n",
              "          google.colab.kernel.accessAllowed ? 'block' : 'none';\n",
              "\n",
              "        async function convertToInteractive(key) {\n",
              "          const element = document.querySelector('#df-7a5e879a-2616-43e5-adff-0c8e67d4128d');\n",
              "          const dataTable =\n",
              "            await google.colab.kernel.invokeFunction('convertToInteractive',\n",
              "                                                     [key], {});\n",
              "          if (!dataTable) return;\n",
              "\n",
              "          const docLinkHtml = 'Like what you see? Visit the ' +\n",
              "            '<a target=\"_blank\" href=https://colab.research.google.com/notebooks/data_table.ipynb>data table notebook</a>'\n",
              "            + ' to learn more about interactive tables.';\n",
              "          element.innerHTML = '';\n",
              "          dataTable['output_type'] = 'display_data';\n",
              "          await google.colab.output.renderOutput(dataTable, element);\n",
              "          const docLink = document.createElement('div');\n",
              "          docLink.innerHTML = docLinkHtml;\n",
              "          element.appendChild(docLink);\n",
              "        }\n",
              "      </script>\n",
              "    </div>\n",
              "  </div>\n",
              "  "
            ]
          },
          "metadata": {},
          "execution_count": 7
        }
      ],
      "source": [
        "df = pd.read_csv('movie_data.csv')\n",
        "df.head()"
      ]
    },
    {
      "cell_type": "raw",
      "metadata": {
        "id": "TCYKMce_m7G9"
      },
      "source": [
        "df.columns = ['TEXT_COLUMN_NAME', 'LABEL_COLUMN_NAME']\n",
        "df.to_csv('movie_data.csv', index=None)\n",
        "\n",
        "df = pd.read_csv('movie_data.csv')\n",
        "df.head()"
      ]
    },
    {
      "cell_type": "code",
      "execution_count": 8,
      "metadata": {
        "id": "ayCZ1etlm7G9"
      },
      "outputs": [],
      "source": [
        "del df"
      ]
    },
    {
      "cell_type": "markdown",
      "metadata": {
        "id": "dJJJ1LtSm7G9"
      },
      "source": [
        "## Prepare Dataset with Torchtext"
      ]
    },
    {
      "cell_type": "code",
      "execution_count": 9,
      "metadata": {
        "id": "uCWkiXkHm7G-"
      },
      "outputs": [],
      "source": [
        "#!conda install spacy"
      ]
    },
    {
      "cell_type": "markdown",
      "metadata": {
        "id": "5R8wHWf5m7G-"
      },
      "source": [
        "Download English vocabulary via:\n",
        "    \n",
        "- `python -m spacy download en_core_web_sm`"
      ]
    },
    {
      "cell_type": "code",
      "source": [
        "!python -m spacy download en_core_web_sm"
      ],
      "metadata": {
        "colab": {
          "base_uri": "https://localhost:8080/"
        },
        "id": "DTHNdhLAolgk",
        "outputId": "9fd12f8d-b7a3-4b75-e1bf-e105c64aeb4d"
      },
      "execution_count": 9,
      "outputs": [
        {
          "output_type": "stream",
          "name": "stdout",
          "text": [
            "Looking in indexes: https://pypi.org/simple, https://us-python.pkg.dev/colab-wheels/public/simple/\n",
            "Collecting en-core-web-sm==3.4.1\n",
            "  Downloading https://github.com/explosion/spacy-models/releases/download/en_core_web_sm-3.4.1/en_core_web_sm-3.4.1-py3-none-any.whl (12.8 MB)\n",
            "\u001b[K     |████████████████████████████████| 12.8 MB 5.0 MB/s \n",
            "\u001b[?25hRequirement already satisfied: spacy<3.5.0,>=3.4.0 in /usr/local/lib/python3.8/dist-packages (from en-core-web-sm==3.4.1) (3.4.3)\n",
            "Requirement already satisfied: spacy-legacy<3.1.0,>=3.0.10 in /usr/local/lib/python3.8/dist-packages (from spacy<3.5.0,>=3.4.0->en-core-web-sm==3.4.1) (3.0.10)\n",
            "Requirement already satisfied: srsly<3.0.0,>=2.4.3 in /usr/local/lib/python3.8/dist-packages (from spacy<3.5.0,>=3.4.0->en-core-web-sm==3.4.1) (2.4.5)\n",
            "Requirement already satisfied: wasabi<1.1.0,>=0.9.1 in /usr/local/lib/python3.8/dist-packages (from spacy<3.5.0,>=3.4.0->en-core-web-sm==3.4.1) (0.10.1)\n",
            "Requirement already satisfied: cymem<2.1.0,>=2.0.2 in /usr/local/lib/python3.8/dist-packages (from spacy<3.5.0,>=3.4.0->en-core-web-sm==3.4.1) (2.0.7)\n",
            "Requirement already satisfied: langcodes<4.0.0,>=3.2.0 in /usr/local/lib/python3.8/dist-packages (from spacy<3.5.0,>=3.4.0->en-core-web-sm==3.4.1) (3.3.0)\n",
            "Requirement already satisfied: preshed<3.1.0,>=3.0.2 in /usr/local/lib/python3.8/dist-packages (from spacy<3.5.0,>=3.4.0->en-core-web-sm==3.4.1) (3.0.8)\n",
            "Requirement already satisfied: pathy>=0.3.5 in /usr/local/lib/python3.8/dist-packages (from spacy<3.5.0,>=3.4.0->en-core-web-sm==3.4.1) (0.9.0)\n",
            "Requirement already satisfied: murmurhash<1.1.0,>=0.28.0 in /usr/local/lib/python3.8/dist-packages (from spacy<3.5.0,>=3.4.0->en-core-web-sm==3.4.1) (1.0.9)\n",
            "Requirement already satisfied: numpy>=1.15.0 in /usr/local/lib/python3.8/dist-packages (from spacy<3.5.0,>=3.4.0->en-core-web-sm==3.4.1) (1.21.6)\n",
            "Requirement already satisfied: setuptools in /usr/local/lib/python3.8/dist-packages (from spacy<3.5.0,>=3.4.0->en-core-web-sm==3.4.1) (57.4.0)\n",
            "Requirement already satisfied: catalogue<2.1.0,>=2.0.6 in /usr/local/lib/python3.8/dist-packages (from spacy<3.5.0,>=3.4.0->en-core-web-sm==3.4.1) (2.0.8)\n",
            "Requirement already satisfied: thinc<8.2.0,>=8.1.0 in /usr/local/lib/python3.8/dist-packages (from spacy<3.5.0,>=3.4.0->en-core-web-sm==3.4.1) (8.1.5)\n",
            "Requirement already satisfied: packaging>=20.0 in /usr/local/lib/python3.8/dist-packages (from spacy<3.5.0,>=3.4.0->en-core-web-sm==3.4.1) (21.3)\n",
            "Requirement already satisfied: pydantic!=1.8,!=1.8.1,<1.11.0,>=1.7.4 in /usr/local/lib/python3.8/dist-packages (from spacy<3.5.0,>=3.4.0->en-core-web-sm==3.4.1) (1.10.2)\n",
            "Requirement already satisfied: typer<0.8.0,>=0.3.0 in /usr/local/lib/python3.8/dist-packages (from spacy<3.5.0,>=3.4.0->en-core-web-sm==3.4.1) (0.7.0)\n",
            "Requirement already satisfied: jinja2 in /usr/local/lib/python3.8/dist-packages (from spacy<3.5.0,>=3.4.0->en-core-web-sm==3.4.1) (2.11.3)\n",
            "Requirement already satisfied: requests<3.0.0,>=2.13.0 in /usr/local/lib/python3.8/dist-packages (from spacy<3.5.0,>=3.4.0->en-core-web-sm==3.4.1) (2.23.0)\n",
            "Requirement already satisfied: spacy-loggers<2.0.0,>=1.0.0 in /usr/local/lib/python3.8/dist-packages (from spacy<3.5.0,>=3.4.0->en-core-web-sm==3.4.1) (1.0.3)\n",
            "Requirement already satisfied: tqdm<5.0.0,>=4.38.0 in /usr/local/lib/python3.8/dist-packages (from spacy<3.5.0,>=3.4.0->en-core-web-sm==3.4.1) (4.64.1)\n",
            "Requirement already satisfied: pyparsing!=3.0.5,>=2.0.2 in /usr/local/lib/python3.8/dist-packages (from packaging>=20.0->spacy<3.5.0,>=3.4.0->en-core-web-sm==3.4.1) (3.0.9)\n",
            "Requirement already satisfied: smart-open<6.0.0,>=5.2.1 in /usr/local/lib/python3.8/dist-packages (from pathy>=0.3.5->spacy<3.5.0,>=3.4.0->en-core-web-sm==3.4.1) (5.2.1)\n",
            "Requirement already satisfied: typing-extensions>=4.1.0 in /usr/local/lib/python3.8/dist-packages (from pydantic!=1.8,!=1.8.1,<1.11.0,>=1.7.4->spacy<3.5.0,>=3.4.0->en-core-web-sm==3.4.1) (4.1.1)\n",
            "Requirement already satisfied: certifi>=2017.4.17 in /usr/local/lib/python3.8/dist-packages (from requests<3.0.0,>=2.13.0->spacy<3.5.0,>=3.4.0->en-core-web-sm==3.4.1) (2022.9.24)\n",
            "Requirement already satisfied: idna<3,>=2.5 in /usr/local/lib/python3.8/dist-packages (from requests<3.0.0,>=2.13.0->spacy<3.5.0,>=3.4.0->en-core-web-sm==3.4.1) (2.10)\n",
            "Requirement already satisfied: urllib3!=1.25.0,!=1.25.1,<1.26,>=1.21.1 in /usr/local/lib/python3.8/dist-packages (from requests<3.0.0,>=2.13.0->spacy<3.5.0,>=3.4.0->en-core-web-sm==3.4.1) (1.25.11)\n",
            "Requirement already satisfied: chardet<4,>=3.0.2 in /usr/local/lib/python3.8/dist-packages (from requests<3.0.0,>=2.13.0->spacy<3.5.0,>=3.4.0->en-core-web-sm==3.4.1) (3.0.4)\n",
            "Requirement already satisfied: blis<0.8.0,>=0.7.8 in /usr/local/lib/python3.8/dist-packages (from thinc<8.2.0,>=8.1.0->spacy<3.5.0,>=3.4.0->en-core-web-sm==3.4.1) (0.7.9)\n",
            "Requirement already satisfied: confection<1.0.0,>=0.0.1 in /usr/local/lib/python3.8/dist-packages (from thinc<8.2.0,>=8.1.0->spacy<3.5.0,>=3.4.0->en-core-web-sm==3.4.1) (0.0.3)\n",
            "Requirement already satisfied: click<9.0.0,>=7.1.1 in /usr/local/lib/python3.8/dist-packages (from typer<0.8.0,>=0.3.0->spacy<3.5.0,>=3.4.0->en-core-web-sm==3.4.1) (7.1.2)\n",
            "Requirement already satisfied: MarkupSafe>=0.23 in /usr/local/lib/python3.8/dist-packages (from jinja2->spacy<3.5.0,>=3.4.0->en-core-web-sm==3.4.1) (2.0.1)\n",
            "\u001b[38;5;2m✔ Download and installation successful\u001b[0m\n",
            "You can now load the package via spacy.load('en_core_web_sm')\n"
          ]
        }
      ]
    },
    {
      "cell_type": "markdown",
      "metadata": {
        "id": "4GnH64XvsV8n"
      },
      "source": [
        "Define the Label and Text field formatters:"
      ]
    },
    {
      "cell_type": "code",
      "source": [
        "from torchdata.datapipes.iter import IterableWrapper, FileOpener\n",
        "datapipe = IterableWrapper([\"movie_data.csv\"])\n",
        "datapipe = FileOpener(datapipe, mode='b')\n",
        "datapipe = datapipe.parse_csv(skip_lines=1)\n",
        "\n",
        "for sample in datapipe:\n",
        "     print(sample)\n",
        "     break"
      ],
      "metadata": {
        "id": "A7Ue2q-1kwIj",
        "outputId": "10ec987f-8715-4270-9a68-e8b2aeeb665c",
        "colab": {
          "base_uri": "https://localhost:8080/"
        }
      },
      "execution_count": 87,
      "outputs": [
        {
          "output_type": "stream",
          "name": "stdout",
          "text": [
            "['In 1974, the teenager Martha Moxley (Maggie Grace) moves to the high-class area of Belle Haven, Greenwich, Connecticut. On the Mischief Night, eve of Halloween, she was murdered in the backyard of her house and her murder remained unsolved. Twenty-two years later, the writer Mark Fuhrman (Christopher Meloni), who is a former LA detective that has fallen in disgrace for perjury in O.J. Simpson trial and moved to Idaho, decides to investigate the case with his partner Stephen Weeks (Andrew Mitchell) with the purpose of writing a book. The locals squirm and do not welcome them, but with the support of the retired detective Steve Carroll (Robert Forster) that was in charge of the investigation in the 70\\'s, they discover the criminal and a net of power and money to cover the murder.<br /><br />\"Murder in Greenwich\" is a good TV movie, with the true story of a murder of a fifteen years old girl that was committed by a wealthy teenager whose mother was a Kennedy. The powerful and rich family used their influence to cover the murder for more than twenty years. However, a snoopy detective and convicted perjurer in disgrace was able to disclose how the hideous crime was committed. The screenplay shows the investigation of Mark and the last days of Martha in parallel, but there is a lack of the emotion in the dramatization. My vote is seven.<br /><br />Title (Brazil): Not Available', '1']\n"
          ]
        }
      ]
    },
    {
      "cell_type": "code",
      "source": [
        "N_ROWS = len(list(datapipe))  # 50000 - total number of rows of data\n",
        "train_datapipe, valid_datapipe = datapipe.random_split(total_length=N_ROWS, weights={\"train\": 0.5, \"valid\": 0.5}, seed=0)"
      ],
      "metadata": {
        "id": "We2S_UwOsroc"
      },
      "execution_count": 97,
      "outputs": []
    },
    {
      "cell_type": "code",
      "source": [
        "from torchtext.vocab import build_vocab_from_iterator\n",
        "from torchtext.data.utils import get_tokenizer\n",
        "\n",
        "def get_vocab(train_datapipe):\n",
        "    # See tutorial at https://www.youtube.com/watch?v=CrS-LFXEiyk\n",
        "    tokenizer = get_tokenizer(\"basic_english\")\n",
        "\n",
        "    def yield_tokens(data_iter):\n",
        "        for text, _ in data_iter:\n",
        "            yield tokenizer(text)\n",
        "\n",
        "    vocab = build_vocab_from_iterator(yield_tokens(train_datapipe), specials=[\"<unk>\"], max_tokens=VOCABULARY_SIZE)\n",
        "    vocab.set_default_index(vocab[\"<unk>\"])\n",
        "    return vocab"
      ],
      "metadata": {
        "id": "aPC6DfASsZrl"
      },
      "execution_count": 128,
      "outputs": []
    },
    {
      "cell_type": "code",
      "source": [
        "vocab = get_vocab(train_datapipe)\n",
        "\n",
        "# List vocabulary strings in order\n",
        "print(vocab.get_itos()[:5])\n",
        "\n",
        "from itertools import islice\n",
        "\n",
        "def take(n, iterable):\n",
        "    \"Return first n items of the iterable as a list\"\n",
        "    return list(islice(iterable, n))\n",
        "\n",
        "# List five vocabulary items\n",
        "print(take(5, vocab.get_stoi().items()))"
      ],
      "metadata": {
        "id": "PeyMOsYiUhGO",
        "outputId": "a85cf7c2-eb72-464d-fe4d-9586414f0401",
        "colab": {
          "base_uri": "https://localhost:8080/"
        }
      },
      "execution_count": 129,
      "outputs": [
        {
          "output_type": "stream",
          "name": "stdout",
          "text": [
            "['<unk>', 'the', '.', ',', 'and']\n",
            "[('railsback', 19997), ('raider', 19996), ('radu', 19995), ('r2', 19993), ('quiz', 19992)]\n"
          ]
        }
      ]
    },
    {
      "cell_type": "code",
      "source": [
        "# Pipeline stage: \n",
        "# - convert reviews to tokens, and tokens to vocab index\n",
        "# - convert rating to number in {0, 1}\n",
        "def tokenize_pipeline(sample) : return (vocab(list(tokenizer(sample[0]))), int(sample[1]))"
      ],
      "metadata": {
        "id": "ngZwsg75VjpJ"
      },
      "execution_count": 130,
      "outputs": []
    },
    {
      "cell_type": "code",
      "source": [
        "def build_data_pipe(dp, pipeline_type, len=1000, batch_size=BATCH_SIZE):\n",
        "  # Tokenize stage\n",
        "  dp = dp.map(tokenize_pipeline)\n",
        "\n",
        "  if pipeline_type == \"train\":\n",
        "    dp = dp.shuffle(buffer_size=len)\n",
        "  \n",
        "  dp = dp.sharding_filter()\n",
        "  # important to use sharding_filter after (not before) shuffling\n",
        "\n",
        "  if pipeline_type == \"train\":\n",
        "    dp = dp.batch(batch_size=batch_size, drop_last=True)\n",
        "\n",
        "  elif pipeline_type == \"validate\":\n",
        "    dp = dp.batch(batch_size=batch_size, drop_last=False)\n",
        "\n",
        "  else:\n",
        "    raise ValueError(\"Invalid transform argument.\")\n",
        "\n",
        "  return dp\n"
      ],
      "metadata": {
        "id": "ASP4o3tuuINp"
      },
      "execution_count": 131,
      "outputs": []
    },
    {
      "cell_type": "code",
      "source": [
        "# Apply pipeline stage\n",
        "train_dp = build_data_pipe(train_datapipe, \"train\")\n",
        "valid_dp = build_data_pipe(valid_datapipe, \"validate\")\n",
        "for sample in train_dp:\n",
        "     print(sample)\n",
        "     break"
      ],
      "metadata": {
        "id": "XFuupFnplgVW",
        "outputId": "08333b9b-2b60-4146-b112-3e6894e17da1",
        "colab": {
          "base_uri": "https://localhost:8080/"
        }
      },
      "execution_count": 137,
      "outputs": [
        {
          "output_type": "stream",
          "name": "stdout",
          "text": [
            "[([1, 3653, 0, 526, 51, 550, 2369, 3, 18, 1, 2863, 6, 5, 176, 4, 216, 585, 6, 5062, 484, 17, 78, 17, 18, 1, 357, 6, 1, 0, 4056, 1270, 1447, 6, 1, 2614, 1920, 2, 1816, 3351, 0, 51, 11, 1, 1920, 3, 282, 10240, 30, 2969, 4, 533, 39, 5, 1496, 0, 1599, 14, 0, 73, 2512, 4, 68, 875, 5, 2506, 6, 0, 4845, 2, 1, 5474, 830, 1354, 7, 2328, 98, 2262, 14, 1, 757, 9, 5, 0, 11296, 0, 3, 4, 189, 514, 38, 174, 521, 2425, 11, 1, 7608, 1920, 17, 78, 2, 175, 1412, 0, 18073, 5, 5744, 648, 6, 1078, 47, 360, 1, 884, 6, 1, 757, 9, 8025, 2, 1174, 107, 14, 3, 1, 22, 5617, 497, 88, 40, 1831, 0, 18, 37, 1, 109, 6247, 51, 6, 1, 0, 34, 39, 34, 2, 1, 350, 363, 6, 1, 3653, 0, 9, 0, 356, 18, 1, 3227, 0, 1680, 17, 78, 17, 5, 586, 3918, 6, 2068, 600, 292, 1273, 2, 1, 109, 37, 30, 11261, 2013, 14, 491, 4, 135, 609, 54, 25, 5549, 441, 232, 11, 4241, 2, 45, 8, 15, 1, 7024, 41, 52, 7, 1897, 314, 3, 1, 636, 18, 0, 956, 42, 48, 895, 291, 3, 1, 3152, 2357, 221, 41, 12747, 314, 36, 1, 137, 149, 0, 4, 492, 239, 21, 28, 225, 492, 41, 101, 817, 1, 2212, 328, 221, 41, 5743, 7, 1, 757, 769, 37, 247, 6, 6079, 1301, 2, 0, 516, 108, 283, 7, 104, 31, 757, 169, 44, 1, 3169, 736, 0, 6, 1178, 4, 4232, 2, 1, 0, 52, 0, 4, 18409, 59, 326, 36, 3, 5951, 35, 1, 20, 165, 47, 6486, 42, 99, 959, 1002, 4, 1, 3314, 6, 1664, 1064, 6, 0, 2259, 2, 13, 101, 32, 84, 5, 5867, 1421, 3, 21, 310, 10, 8, 15, 346, 81, 1613, 2, 793, 2], 0), ([363, 5, 2564, 341, 569, 6, 9879, 627, 15460, 183, 49, 125, 11, 12592, 2, 138, 569, 30, 11905, 4, 249, 1359, 5, 141, 11, 69, 5, 0, 5515, 9, 559, 2, 13, 10693, 14, 1, 706, 2125, 562, 36, 1, 173, 66, 2, 1, 22, 801, 18, 5, 0, 2011, 69, 4305, 55, 2530, 21, 1, 405, 569, 30, 186, 486, 1550, 2, 1, 22, 13471, 43, 1206, 18, 10, 2, 117, 1981, 9602, 11, 569, 14, 868, 1848, 958, 6, 471, 142, 5, 141, 11, 5, 1367, 423, 183, 5, 10808, 2545, 2485, 6317, 19, 1452, 2180, 2, 1, 239, 395, 18, 31, 330, 30, 203, 1054, 4, 703, 2, 142, 1, 908, 145, 6, 245, 125, 198, 273, 11, 12592, 3, 1, 1386, 30, 6, 5, 786, 884, 6569, 25, 562, 7, 426, 2, 14841, 6, 341, 569, 30, 1682, 17, 2439, 17, 5, 57, 2932, 17348, 471, 2], 1), ([27, 1353, 4953, 5, 22, 265, 342, 14, 52, 1, 641, 7, 9945, 1, 343, 3, 2409, 1, 540, 4, 1278, 1, 60, 1356, 2, 4267, 9, 147, 5, 22, 2, 12, 193, 4267, 42, 62, 330, 41, 193, 10, 42, 5, 3279, 41, 9, 11, 1, 22, 918, 2, 61, 296, 10, 19, 5, 350, 66, 18, 77, 2, 75, 76, 203, 10172, 2, 48, 17, 50, 19, 1, 97, 66, 179, 2, 4267, 9, 5, 2757, 434, 2603, 7, 2391, 25, 152, 7, 1, 576, 36, 69, 37, 6, 131, 3126, 672, 661, 273, 2, 10, 130, 13, 142, 116, 8200, 432, 2, 15348, 17460, 8, 15, 119, 4, 1620, 17, 5, 175, 90, 28, 281, 25, 169, 248, 42, 1, 278, 2, 29, 19432, 5, 113, 69, 0, 18, 5, 3140, 4847, 44, 3, 0, 3010, 3, 21, 15885, 3064, 18, 147, 0, 7352, 14, 25, 817, 25, 8, 185, 155, 5, 20, 2, 59, 1, 14362, 1901, 302, 1, 495, 1362, 3, 12, 214, 62, 330, 11, 1672, 19, 1, 350, 66, 2, 17, 5, 125, 2780, 3, 12, 0, 2032, 7305, 4, 4457, 3, 4, 13, 22, 9, 5, 212, 72, 19, 125, 16723, 4, 256, 3045, 73, 204, 928, 7305, 4, 4457, 2, 10, 9, 5, 495, 3, 1477, 887, 18, 1, 641, 7, 657, 466, 35], 1), ([59, 10, 265, 7, 201, 106, 3, 12, 238, 58, 81, 1615, 7, 5322, 2834, 3, 2681, 6218, 365, 1161, 3, 4, 5256, 120, 1411, 11, 1, 627, 6, 5, 57, 2423, 2, 13, 106, 333, 52, 64, 57, 2775, 7, 1439, 2, 10, 56, 8, 26, 63, 33, 517, 17, 1227, 2, 86, 403, 3, 86, 119, 3, 86, 453, 3, 1, 1107, 76, 700, 4, 843, 4492, 3, 1, 215, 16, 634, 3, 1, 375, 170, 16, 6083, 3, 63, 1, 1239, 76, 86, 2, 12, 452, 71, 86, 19, 1, 160, 3, 41, 76, 534, 262, 3, 21, 41, 74, 7, 761, 18, 388, 3, 2066, 403, 4, 40, 619, 566, 6, 453, 2, 12, 760, 38, 193, 105, 8198, 3, 344, 2, 10, 8, 15, 2314, 7, 111, 3, 4, 43, 356, 81, 261, 10, 149, 7, 1, 2066, 823, 285, 3568, 3370, 12187, 2, 10, 8, 15, 186, 723, 34, 6, 1, 252, 106, 12, 8, 144, 129, 114, 2, 12, 91, 8, 26, 1771, 877, 800, 3, 21, 13, 34, 16, 43, 86, 14, 12, 452, 5139, 7, 3030, 401, 2, 13, 20, 9, 5, 586, 462, 6, 66, 2, 50, 25, 212, 111, 13, 20, 3, 91, 8, 26, 677, 1, 261, 0, 2, 1, 3031, 191, 7, 33, 476, 1, 1333, 14, 261, 1, 489, 5, 253, 16, 247, 6, 3884, 3, 3582, 818, 2, 24, 114, 10, 2, 23, 29, 4, 1, 188, 1077, 363, 40, 552, 0, 13, 22, 17, 50, 10, 8, 15, 5, 0, 3468, 2338, 2, 10, 8, 15, 44, 2815, 7, 5, 528, 6, 0, 198, 25, 510, 1, 145, 6, 73, 1154, 16337, 2, 38, 374, 110, 38, 8, 144, 1023, 146, 6, 2318, 2, 10, 8, 15, 608, 3, 71, 1, 68, 289, 12, 506, 13, 20, 5, 280, 9, 95, 12, 110, 457, 150, 33, 6373, 19, 303, 9096, 3, 44, 9793, 910, 6, 2003, 4, 736, 10997, 2, 43, 321, 2024, 213, 8, 26, 1, 252, 20, 12, 8, 144, 129, 114, 3, 21, 12, 8, 241, 32, 7, 135, 14, 10, 8, 15, 1141, 11, 1, 1342, 5000, 2], 0), ([12, 429, 7377, 1, 275, 449, 39, 1890, 8991, 3, 43, 12, 16, 60, 2273, 59, 12, 559, 14, 5, 20, 459, 27, 1, 275, 16, 11, 1, 261, 2, 21, 12, 16, 4791, 658, 18, 1, 20, 59, 12, 124, 72, 10, 95, 10, 159, 8, 26, 1758, 54, 12, 446, 49, 1, 275, 80, 1, 429, 3570, 164, 9146, 4, 1, 230, 103, 11, 69, 61, 2686, 1, 182, 2, 42, 1, 378, 6, 1, 20, 3, 12, 5618, 14, 184, 1153, 8, 26, 1, 173, 17, 12, 74, 4622, 11, 1, 275, 2, 43, 3, 12, 47, 437, 342, 19, 1, 1311, 2, 10, 293, 8, 26, 37, 14, 86, 3, 12, 474, 2, 677, 0, 16, 458, 286, 7, 54, 12, 74, 4622, 48, 7, 33, 35, 12, 159, 8, 26, 110, 61, 65, 33, 34, 7, 3617, 4, 2715, 80, 1854, 0, 3, 41, 305, 48, 3, 9, 570, 35, 27, 10, 8, 15, 204, 3, 12, 200, 1, 20, 4, 10, 8, 15, 8909, 11, 10, 124, 5, 57, 298, 3, 21, 2935, 3, 12, 8, 148, 147, 5, 336, 6, 1, 275, 24, 34, 6, 62, 37, 66, 1636, 1219, 23, 14, 12, 412, 8, 26, 347, 21, 244, 658, 0], 0), ([13, 22, 9, 17, 57, 17, 10, 9, 855, 7, 174, 2, 1, 22, 8, 15, 662, 24, 4, 728, 4, 175, 23, 9, 2307, 0, 5, 134, 18, 40, 4932, 2, 29, 2141, 5, 1138, 3095, 47, 7, 32, 1, 4245, 7, 2514, 1, 0, 6, 2871, 0, 1, 160, 3, 1, 4060, 3, 1, 0, 41, 263, 14, 73, 204, 0, 158, 8, 26, 6216, 2, 18, 1044, 752, 3, 0, 2788, 11, 402, 13, 2, 254, 3, 1, 416, 19, 13, 22, 16, 243, 54, 29, 1473, 19, 5, 334, 527, 3, 21, 13, 22, 9, 43, 1192, 4, 43, 78, 449, 14, 10, 500, 60, 78, 2, 105, 397, 41, 56, 0, 2247, 0, 8, 15, 8, 1, 1898, 8, 11, 1, 4451, 6, 5, 3206, 0, 36, 5, 731, 4850, 329, 150, 33, 2406, 19, 55, 585, 6, 1419, 2, 205, 13, 22, 5, 561, 4, 1713, 7, 54, 10, 523, 2, 2, 2, 95, 38, 32, 84, 261, 1, 173, 527, 240, 6086, 2, 2, 2, 10, 8, 15, 483, 8, 1, 527, 2, 8, 4988, 3, 0, 3, 4988, 35], 1), ([1666, 18, 120, 1721, 5, 337, 245, 9, 116, 1294, 11, 1, 792, 6, 322, 207, 1, 484, 221, 24, 14, 5166, 51, 42, 1265, 3, 4, 64, 1151, 1563, 2, 2, 2, 23, 14, 437, 16559, 3, 4, 6164, 1, 2994, 1300, 262, 7, 9701, 31, 325, 2, 18, 177, 2134, 20, 226, 58, 4, 58, 700, 3, 5, 202, 1417, 2, 285, 16431, 332, 961, 3, 10, 52, 168, 7, 19901, 18, 1, 20, 387, 3, 12, 110, 294, 520, 51, 6, 988, 46, 47, 82, 7, 1, 222, 14, 20, 9, 10776, 13, 103, 46, 83, 3, 43, 10, 210, 17, 78, 32, 5, 379, 285, 2, 462, 6, 66, 3, 5813, 4, 301, 2, 297, 308, 9, 60, 337, 2, 50, 25, 110, 49, 1, 3275, 25, 210, 174, 51, 14, 245, 1836, 9, 18247, 15459, 39, 337, 6707, 207, 109, 2, 55, 145, 0, 1418, 2, 11, 2556, 356, 3, 700, 3, 337, 3, 1092, 2, 462, 6, 66, 3, 4, 301, 2], 0), ([107, 155, 1, 9106, 239, 318, 3, 12, 452, 5139, 7, 877, 5, 702, 6, 10, 2, 13, 101, 32, 84, 5, 189, 551, 20, 74, 10, 28, 84, 19, 1, 376, 3681, 2, 10, 16, 664, 634, 2, 1, 2239, 76, 37, 358, 3, 10, 16, 1144, 7, 72, 235, 3, 269, 302, 1, 555, 871, 2, 1, 10881, 76, 63, 488, 2, 1, 70, 52, 9440, 13808, 9974, 314, 51, 17, 5, 9106, 7, 256, 1615, 7, 477, 96, 7, 1, 408, 6, 5, 1245, 1626, 2, 29, 9, 6233, 39, 5300, 841, 3, 41, 9, 118, 186, 795, 18, 13808, 2, 841, 8, 15, 3794, 11, 1, 1245, 1626, 9, 2594, 81, 13808, 200, 3, 17, 1, 2741, 4, 166, 1205, 6, 4758, 30, 107, 48, 2, 1, 70, 16, 551, 3, 4, 469, 488, 3089, 3, 13, 101, 32, 84, 5, 57, 20, 2, 361, 132, 453, 4, 765, 3, 12, 8, 148, 254, 13, 65, 32, 84, 5, 353, 3473, 19591, 20, 2, 17, 10, 9, 3, 10, 8, 15, 58, 44, 166, 938, 1391, 8, 15, 231, 20, 2, 911, 1, 594, 711, 52, 5, 3363, 1124, 7, 3614, 1222, 450, 3, 4, 100, 2095, 7, 5, 6052, 369, 11, 219, 4091, 14, 9, 11, 64, 103, 2823, 7, 1, 364, 6, 1, 20, 2, 667, 607, 51, 6, 306], 0), ([3946, 0, 2, 12, 446, 1, 275, 209, 4, 6904, 16788, 249, 34, 11, 792, 369, 4, 59, 12, 559, 14, 45, 16, 5, 647, 1187, 3, 12, 16, 60, 2273, 2, 431, 54, 5, 281, 192, 1, 464, 2157, 16, 2, 12, 110, 19, 77, 3, 13, 16, 1, 576, 59, 10250, 2281, 116, 49, 598, 8064, 4, 58, 3890, 2, 43, 54, 16, 358, 18, 1, 209, 53, 281, 77, 1525, 1, 783, 457, 2, 1, 109, 76, 13463, 3278, 2, 11, 1, 1219, 3, 1, 0, 76, 1141, 207, 0, 3, 1, 647, 188, 76, 36, 225, 3546, 2, 12, 392, 116, 6522, 59, 12, 97, 214, 1, 188, 5055, 2, 280, 2, 2945, 0, 501, 2, 12, 9545, 69, 16, 7, 1694, 43, 12, 8, 148, 0, 88, 1, 19794, 3427, 14, 10, 16, 2, 383, 10, 16, 1, 199, 14, 1, 0, 646, 6, 1, 188, 11250, 1, 465, 14, 9, 36, 225, 1007, 596, 51, 6, 5, 2845, 345, 178, 95, 10719, 80, 28, 164, 2, 11, 199, 3, 12, 91, 8, 26, 392, 5, 694, 2953, 576, 42, 1, 528, 4, 45, 76, 5, 180, 2, 1, 160, 76, 435, 28, 1552, 39, 1, 501, 69, 16, 2023, 36, 99, 128, 4, 424, 0, 1092, 36, 99, 252, 2, 430, 2, 62, 1619, 38, 76, 0, 18, 1, 416, 2, 1, 464, 898, 6, 1, 0, 625, 150, 32, 2670, 0, 7, 1571, 1, 8344, 2, 2, 2, 73, 1768, 74, 0, 14, 685, 1202, 69, 16, 1, 10443, 2, 607, 2, 152, 7, 1, 188, 80, 3282, 39, 237, 16, 1, 1096, 281, 192, 3, 237, 42, 116, 1, 3878, 253, 11, 1, 1219, 3, 1, 128, 4570, 11, 1, 251, 209, 16, 3525, 2, 92, 3, 12, 123, 7061, 16, 40, 14441, 21, 45, 9, 5, 1438, 207, 14441, 4, 2349, 2, 553, 2, 34, 6, 1, 252, 594, 2723, 129, 2, 124, 1, 215, 32, 7, 33, 14, 619, 53, 1207, 2, 11131, 870, 1207, 3, 414, 95, 267, 324, 16, 11503, 192, 43, 143, 1514, 8, 26, 1, 0, 346, 1190, 764, 3664, 5, 4716, 17, 5, 8580, 616, 42, 5, 854, 0, 3136, 46, 863, 1, 618, 14, 16, 2, 240, 100, 3, 45, 32, 84, 1790, 281, 7072, 24, 5668, 3, 3575, 23, 21, 11, 418, 12, 707, 8, 26, 102, 535, 747, 80, 13, 127, 2034, 4, 16, 40, 7049, 7, 1, 275, 209, 10, 16, 444, 7, 33, 459, 42, 2], 0), ([8, 8911, 4, 77, 8, 9, 5, 471, 49, 1781, 67, 11, 0, 3397, 3, 246, 44, 8, 7269, 10, 44, 9711, 8, 3, 46, 58, 3020, 3, 8, 2542, 9, 2542, 8, 3, 18, 69, 10, 5440, 5, 3268, 1002, 2, 1, 1295, 9, 0, 0, 24, 11, 2647, 6, 1, 12170, 328, 630, 2649, 23, 3, 21, 1, 22, 1511, 8, 2542, 9, 2542, 8, 15, 0, 4, 1, 898, 191, 246, 1729, 4, 3173, 2, 4508, 3, 1, 1090, 6, 1, 22, 8, 15, 1382, 620, 3, 207, 40, 2073, 257, 4, 48, 478, 433, 3, 9, 0, 849, 7, 4058, 1, 103, 14, 1, 20, 9, 9860, 190, 10, 2, 12, 32, 92, 2680, 1448, 6, 112, 121, 1, 662, 161, 7, 33, 5, 728, 3, 13, 9, 1876, 413, 146, 14, 157, 985, 32, 2357, 3, 21, 1053, 5, 1456, 1498, 11, 5, 2703, 70, 2, 8, 2542, 9, 2542, 8, 16, 250, 4, 2306, 8, 8911, 4, 77, 8, 191, 619, 4, 739, 11, 1835, 2], 0), ([13, 6433, 4, 0, 220, 7911, 115, 395, 4155, 4, 89, 287, 6, 1012, 3, 162, 5737, 2, 1834, 8, 15, 2058, 18, 441, 2047, 145, 3, 29, 52, 13858, 223, 17, 5, 2553, 8569, 4, 5526, 10966, 3, 40, 2515, 1090, 6, 2176, 2, 100, 1, 8569, 9, 4150, 19, 1, 0, 0, 4, 562, 0, 706, 2, 164, 4, 0, 119, 6, 37, 1051, 3, 17, 1, 6099, 669, 19899, 17, 0, 24, 0, 23, 3, 1668, 2766, 17, 0, 24, 0, 23, 4, 1497, 6343, 17, 12242, 24, 0, 23, 2, 1834, 8, 15, 97, 3060, 22, 9, 2342, 3903, 39, 7424, 0, 2, 13, 3818, 22, 1359, 1815, 1142, 145, 3, 1, 1429, 30, 1, 971, 457, 23, 1, 34, 59, 302, 1, 8903, 1, 0, 342, 18, 5, 0, 30, 1711, 11, 5, 682, 1400, 206, 1980, 280, 23, 5526, 0, 10966, 402, 4511, 6142, 571, 5, 2211, 13106, 430, 23, 10966, 394, 18, 40, 3922, 8414, 6, 1, 182, 607, 23, 1, 0, 14638, 5, 134, 3602, 7, 8022, 881, 633, 553, 6, 0, 553, 23, 59, 10966, 4, 0, 249, 349, 7, 390, 31, 666, 1944, 81, 83, 11, 5, 8569, 8, 15, 2726, 754, 98, 2, 2176, 4764, 20, 16132, 7, 1, 2861, 675, 7, 99, 2058, 6, 96, 3, 4, 270, 96, 11, 31, 325, 1087, 107, 31, 17110, 12141, 6, 842, 2, 1, 20, 9, 14839, 39, 0, 16876, 3, 917, 6, 31, 692, 4643, 3, 38, 76, 1037, 11, 7255, 3, 264, 64, 12868, 6, 1, 1629, 16, 102, 315, 3, 34, 66, 1751, 1, 89, 5526, 2, 1, 438, 16, 615, 11, 4679, 3, 59, 1834, 74, 4157, 5, 1602, 10052, 39, 5, 0, 2059, 21, 5, 8581, 18, 1, 329, 6, 0, 4276, 16, 1, 9842, 19, 1, 2547, 7, 5555, 96, 0, 42, 3397, 4, 29, 13009, 7, 8218, 2], 1), ([12, 16, 2350, 7, 834, 14, 1824, 10375, 52, 309, 13, 127, 3, 130, 256, 123, 143, 53, 12, 3283, 574, 17, 34, 6, 1, 3678, 7884, 4, 293, 8, 26, 758, 29, 1013, 67, 27, 251, 3, 69, 56, 33, 132, 81, 1, 583, 25, 72, 27, 1, 202, 278, 2, 1, 569, 30, 4197, 4, 1, 375, 4732, 81, 5, 10791, 4353, 35, 0, 8, 26, 817, 1, 364, 6, 1, 188, 574, 3, 6151, 24, 0, 35, 23, 11608, 3, 5255, 3, 3956, 3, 6274, 2, 2, 92, 3, 56, 256, 377, 77, 143, 27, 688, 45, 8, 15, 5, 583, 775, 2950, 27, 1, 274, 721, 3, 21, 4022, 8, 15, 0, 0, 6, 5, 126, 346, 2270, 9, 334, 27, 1, 2621, 4919, 0, 53, 53, 130, 10, 28, 104, 287, 7, 357, 5, 2950, 14, 25, 65, 6578, 18, 1, 6994, 0, 6, 842, 19, 274, 5058, 53, 53], 1), ([2762, 6, 2071, 9, 140, 34, 6, 1, 128, 355, 1952, 698, 129, 102, 2, 10, 16, 1551, 39, 1, 22, 2082, 1797, 24, 1210, 593, 5866, 23, 3, 5, 20, 14, 1818, 18, 5, 13801, 447, 207, 117, 17455, 302, 182, 322, 1430, 2, 11, 13, 409, 3, 1458, 3606, 4, 31, 830, 308, 780, 447, 18, 5, 0, 10821, 2, 13, 9, 1, 2038, 14, 12998, 3954, 1, 0, 0, 3, 41, 30, 3600, 4923, 6, 1, 0, 2, 10, 9, 40, 897, 2518, 409, 3, 7605, 3856, 19, 6735, 882, 2, 10, 9, 92, 230, 7, 72, 93, 1, 409, 1359, 5, 209, 6, 4380, 14, 714, 1616, 5097, 6, 1156, 7, 1, 70, 2, 968, 0, 167, 31, 355, 1952, 2049, 17, 1, 0, 1458, 24, 29, 87, 315, 308, 3731, 8, 15, 340, 15934, 0, 23, 2, 5, 3566, 409, 35], 1), ([335, 27, 4, 198, 911, 80, 25, 101, 575, 10582, 232, 6, 131, 125, 24, 16, 14, 37, 35, 23, 2, 0, 3806, 3, 13, 22, 721, 51, 7, 2287, 24, 12, 8, 148, 3008, 23, 5, 696, 420, 525, 321, 1154, 9555, 11, 1, 11791, 445, 2, 50, 946, 2, 2, 2, 2, 332, 4, 429, 946, 2, 12, 8, 144, 84, 262, 7, 110, 6, 34, 57, 154, 49, 10, 4, 56, 8, 26, 2, 281, 77, 713, 55, 6, 1, 3537, 2, 2, 2, 85, 91, 8, 26, 768, 3, 38, 82, 7, 1077, 5588, 17, 6120, 4068, 11, 2659, 8, 15, 3400, 2, 2875, 30, 165, 0, 41, 851, 11, 3572, 2, 2659, 56, 720, 85, 152, 42, 1, 354, 24, 50, 25, 2391, 96, 5, 338, 2870, 23, 2, 4, 1, 120, 2, 2, 12, 391, 8, 26, 2488, 10, 19, 25, 21, 45, 52, 7, 33, 55, 705, 11, 112, 50, 68, 7, 2386, 18, 1, 2343, 21, 45, 213, 8, 26, 105, 2, 63, 1, 1319, 9, 3806, 80, 2902, 589, 36, 1, 137, 6, 5, 7302, 3, 2493, 284, 1130, 3, 13366, 4, 4368, 2, 17, 25, 227, 474, 3, 1, 22, 52, 5, 686, 24, 13179, 23, 285, 2, 54, 5, 2180, 35], 0), ([12, 468, 7, 111, 13, 3, 7, 82, 5, 925, 169, 36, 1, 127, 2, 10, 572, 1, 70, 58, 6, 1890, 1730, 3, 100, 0, 195, 13539, 2, 140, 3, 200, 10, 16, 89, 2, 75, 193, 7, 72, 3, 1890, 218, 116, 8, 27, 8, 3, 64, 513, 54, 2, 1, 242, 6, 0, 16, 1140, 2, 1, 0, 6, 1, 290, 1878, 3, 320, 43, 157, 7, 77, 2, 17960, 17, 16866, 4660, 16, 386, 2, 29, 16, 43, 1255, 11, 13, 3, 69, 1552, 77, 82, 149, 37, 1, 1730, 1566, 2, 1, 126, 510, 1, 145, 1273, 6, 31, 83, 279, 24, 686, 490, 3, 4, 0, 195, 3817, 23, 3, 16, 12986, 2, 12, 92, 200, 0, 8, 15, 4053, 16, 92, 5, 338, 774, 11, 1, 9819, 2, 24, 13, 9, 5, 57, 154, 23, 2, 13, 20, 572, 1, 646, 178, 70, 6, 370, 1450, 3, 171, 149, 1, 3850, 4, 7072, 6, 7469, 2, 10, 812, 77, 5293, 7, 62, 251, 3, 4, 12, 1886, 7, 122, 1890, 3, 78, 618, 3, 635, 1263, 320, 7, 33, 1, 1529, 85, 12, 531, 110, 370, 9, 2, 151, 861, 2, 12, 531, 591, 143, 1, 2255, 85, 30, 218, 259, 7, 33, 3604, 2, 75, 118, 214, 1, 424, 6, 4040, 2, 47, 559, 96, 3, 44, 1274, 42, 1274, 2875, 24, 12, 591, 50, 13, 103, 0, 53, 23, 2, 10, 191, 43, 608, 3, 14, 5, 127, 36, 633, 457, 3, 101, 33, 43, 2142, 39, 73, 204, 2255, 2, 12, 110, 13, 70, 101, 33, 572, 49, 256, 8, 15, 125, 3, 17, 38, 6977, 1, 7317, 6, 105, 298, 2, 20, 3, 4, 251, 419, 30, 218, 446, 46, 1782, 39, 43, 115, 85, 3, 14, 25, 2062, 67, 18, 3, 25, 47, 187, 7, 2106, 152, 11, 73, 509, 3, 7, 392, 131, 204, 509, 2, 12, 392, 155, 1, 127, 3, 4, 218, 1516, 54, 130, 562, 11, 73, 928, 466, 2, 0, 4, 13539, 3, 87, 218, 33, 181, 6, 77, 3, 4, 12, 193, 7, 72, 181, 6, 98, 2, 10, 210, 28, 37, 33, 1, 860, 3, 10, 8, 15, 92, 37, 28, 5, 2839, 3, 21, 11, 1, 137, 3, 10, 572, 77, 5, 386, 608, 3, 686, 70, 2], 1), ([12, 3, 92, 272, 8282, 2926, 6, 393, 8, 15, 106, 11, 1, 509, 3, 1163, 13, 7, 33, 34, 6, 1, 252, 12, 32, 129, 114, 2, 457, 23, 12, 0, 11, 13, 271, 4, 646, 272, 7, 1221, 7, 62, 393, 14, 3966, 9, 28, 1, 86, 460, 2, 92, 3, 14, 9007, 1546, 1301, 44, 0, 9, 4504, 2, 280, 23, 1, 3987, 2030, 8, 15, 3122, 1031, 141, 4565, 5, 0, 955, 11, 69, 29, 7086, 14, 6534, 2715, 3462, 4, 366, 722, 27, 1, 1623, 2, 117, 83, 4025, 92, 10249, 357, 1, 680, 583, 1567, 2, 430, 23, 1, 228, 20, 2359, 16455, 6, 3032, 8, 15, 2013, 4, 2305, 14, 12, 200, 75, 3, 17, 5, 2817, 3, 76, 2637, 7, 32, 16409, 730, 2, 11, 37, 10, 8, 15, 47, 2765, 3, 931, 1215, 3, 63, 58, 931, 449, 4, 28, 276, 2905, 1, 66, 7, 611, 2], 0), ([13, 20, 9, 13969, 6, 908, 1529, 86, 1236, 221, 6884, 109, 3, 3257, 3556, 21, 18, 64, 157, 741, 2, 55, 6, 1, 145, 30, 1807, 719, 2, 50, 38, 537, 1, 173, 188, 4, 830, 3, 4, 102, 5, 20, 483, 1, 0, 41, 16, 1, 9522, 113, 11, 1, 22, 4, 373, 67, 18, 40, 230, 4, 8432, 70, 277, 10, 101, 33, 551, 2, 17, 10, 9, 3, 4956, 19, 5, 854, 209, 6, 1236, 221, 113, 0, 3, 37, 6, 914, 90, 168, 21, 1311, 17421, 190, 1, 1920, 37, 271, 4, 1032, 1111, 142, 37, 3672, 118, 385, 0, 4, 1845, 73, 1113, 4, 1778, 410, 4, 118, 8047, 7, 169, 19, 5, 352, 46, 301, 3, 524, 2, 45, 16, 5, 422, 6, 933, 70, 49, 1, 109, 15688, 908, 85, 14, 76, 533, 4, 5, 2612, 14, 16, 243, 444, 7, 33, 1, 120, 2], 0), ([12, 437, 284, 19, 13, 20, 11, 785, 336, 3040, 2, 12, 47, 468, 7, 859, 10, 51, 2, 12, 16, 28, 1010, 79, 6, 235, 2, 107, 37, 3, 5, 5376, 3, 40, 297, 4, 5, 919, 728, 53, 28, 631, 19, 43, 79, 617, 7, 17143, 11, 34, 397, 2, 208, 53, 53, 358, 35, 35, 3040, 1193, 3, 10, 921, 847, 34, 6, 62, 2347, 35, 1, 70, 381, 4, 109, 30, 28, 415, 11, 1, 785, 8463, 67, 370, 312, 299, 2, 1, 70, 0, 36, 131, 1366, 4, 2572, 25, 342, 2, 17, 1, 886, 1789, 39, 3, 25, 1135, 977, 25, 76, 5293, 360, 1, 137, 2, 36, 219, 3, 1, 119, 191, 5, 126, 136, 1, 408, 2, 12, 90, 3, 197, 3, 263, 10, 8, 15, 229, 18, 1803, 3515, 4, 60, 3602, 6, 1, 113, 2, 853, 3, 12, 567, 8, 26, 32, 850, 1, 648, 6, 119, 4202, 2, 10, 8, 15, 276, 317, 58, 81, 288, 2, 12, 174, 535, 1011, 7000, 46, 0, 5116, 136, 146, 12, 344, 1029, 46, 2403, 49, 1, 97, 66, 46, 117, 190, 2, 12, 332, 380, 13, 20, 2, 244, 893, 7, 151, 11, 18, 131, 5407, 3, 21, 12, 8, 148, 254, 10, 87, 174, 5, 273, 27, 131, 4516, 2], 1), ([59, 10, 16, 615, 13, 22, 2223, 5, 6766, 2, 12, 296, 10, 4, 16, 4928, 2, 316, 3, 606, 196, 3, 1330, 366, 719, 11, 1, 6798, 445, 75, 690, 43, 78, 42, 175, 19653, 1319, 2, 31, 7571, 118, 427, 1558, 4, 1, 173, 9, 303, 19, 13, 20, 2, 502, 12, 214, 10, 179, 4, 16, 14269, 658, 2, 1, 2330, 2355, 11, 550, 644, 2536, 145, 3, 37, 719, 18, 55, 0, 27, 1, 13084, 3, 165, 9, 37, 45, 9, 2, 45, 9, 64, 157, 70, 3, 1, 109, 2107, 316, 4, 1262, 719, 2259, 3, 21, 38, 30, 28, 157, 2214, 18, 5, 1356, 2, 165, 168, 545, 2, 10, 9, 44, 4475, 9, 17884, 769, 703, 1308, 246, 81, 11699, 2, 4, 13, 226, 43, 356, 107, 5, 142, 2, 12, 63, 159, 8, 26, 111, 1, 228, 154, 1, 350, 66, 3, 19, 12, 1491, 3371, 2333, 2, 14, 9, 37, 14, 1306, 6, 13, 887, 10, 9, 5, 60, 57, 2825, 11013, 2, 4, 25, 87, 118, 427, 6025, 7, 10, 35, 152, 100, 976, 51, 6, 306, 3, 156, 430, 51, 6, 306], 0), ([463, 7774, 9, 49, 5, 528, 6, 351, 14, 151, 7, 5, 3007, 24, 10, 3223, 7, 34, 6, 1, 351, 4923, 46, 146, 23, 19, 5, 12221, 2, 21, 45, 30, 489, 6762, 7193, 45, 24, 45, 16, 146, 49, 5, 2561, 11, 45, 108, 21, 12, 2403, 54, 14, 16, 49, 23, 2, 1, 119, 11, 13, 20, 9, 376, 3, 12, 91, 8, 26, 123, 54, 1, 175, 16, 529, 59, 29, 16, 1051, 160, 4, 1639, 2, 1, 234, 9, 1, 173, 70, 17, 1, 119, 376, 24, 13, 2424, 596, 67, 9, 60, 619, 21, 2, 2, 23, 50, 45, 16, 132, 119, 4, 5, 132, 234, 13, 101, 32, 682, 51, 777, 2, 1, 980, 11375, 108, 3, 12, 72, 64, 1046, 11, 13, 221, 8, 15, 699, 2, 107, 37, 138, 9804, 13, 20, 140, 8322, 5, 250, 2376, 14, 10615, 10, 67, 7, 5, 117, 2, 1, 239, 905, 9, 38, 91, 8, 26, 357, 1654, 35, 62, 456, 2229, 27, 13, 22, 30, 10, 8, 15, 86, 3, 157, 86, 3, 21, 43, 86, 10, 8, 15, 250, 43, 10, 226, 5, 3677], 0), ([50, 25, 8, 185, 1448, 39, 1, 173, 3365, 3, 14181, 808, 14, 1, 2568, 20, 1540, 5058, 3, 25, 8, 236, 362, 25, 30, 625, 2, 10, 9, 200, 4156, 3, 78, 326, 4, 4377, 2, 206, 3522, 235, 14, 25, 91, 8, 26, 174, 51, 11, 1, 97, 180, 232, 6, 1, 20, 3, 13, 9, 1, 70, 6, 5, 196, 478, 331, 369, 257, 42, 40, 4593, 792, 832, 2402, 41, 9, 798, 17, 40, 11219, 4, 9, 1971, 39, 48, 3279, 2, 1, 3371, 2193, 6, 1, 20, 3299, 11, 5, 1553, 654, 121, 29, 2618, 48, 7, 217, 2, 149, 73, 3442, 3, 25, 3923, 117, 10543, 2686, 6, 7018, 3, 3785, 3, 4627, 2, 255, 1, 20, 9, 28, 2271, 2, 10, 2138, 49, 463, 184, 206, 116, 2271, 2, 17, 5, 503, 3, 131, 1366, 4, 0, 9806, 30, 1564, 190, 3, 21, 9959, 2, 25, 217, 51, 6, 10, 18, 5, 172, 7, 110, 49, 2, 12, 44, 14, 11, 5, 20, 2], 1), ([45, 9, 5, 628, 4969, 11, 22, 220, 14, 37, 1, 89, 3490, 30, 47, 1471, 341, 6, 1, 1264, 46, 27, 171, 7, 2605, 2, 110, 6, 14, 0, 8, 15, 0, 2918, 2, 1188, 2, 3635, 11, 1, 178, 5358, 103, 3, 46, 1, 7194, 1105, 11, 5, 318, 36, 1, 1561, 3, 46, 1834, 11, 1, 17365, 3, 6, 9189, 1250, 11, 61, 229, 96, 358, 2, 1, 0, 6, 1, 1264, 9, 3227, 3, 4, 59, 38, 137, 67, 27, 1, 504, 6, 1, 1264, 1, 1939, 30, 165, 140, 6829, 207, 1, 1990, 6, 1264, 4, 622, 4, 1, 759, 2, 110, 6, 3094, 11, 31, 97, 9662, 3, 2382, 2313, 3, 262, 7, 9487, 1, 3319, 4502, 548, 2491, 11, 1, 6626, 6, 5, 837, 3017, 3, 4, 261, 548, 5225, 4050, 3067, 187, 7, 508, 96, 2, 110, 6, 2771, 4, 2477, 17, 16921, 1459, 11, 2758, 11316, 2, 12, 174, 13, 585, 6, 13464, 9, 43, 17874, 11, 37, 138, 6046, 8, 24, 4, 73, 7445, 8, 23, 220, 14, 63, 5, 1138, 417, 19, 5, 22, 1818, 18, 10, 2, 110, 6, 1712, 7347, 11, 34, 409, 6, 31, 209, 1860, 5, 282, 3914, 341, 3, 4340, 0, 3, 121, 1, 869, 137, 67, 116, 11840, 19, 600, 2, 4423, 2177, 2859, 2572, 11, 1, 1990, 6, 1264, 4, 622, 7, 33, 31, 9395, 11, 31, 1338, 2, 169, 36, 14140, 984, 3, 1686, 2, 3, 121, 29, 516, 7, 4517, 31, 1226, 42, 5, 0, 2, 21, 29, 165, 74, 58, 1836, 42, 548, 1990, 11, 31, 3171, 2, 11, 8263, 2845, 29, 9, 3324, 152, 7, 1186, 59, 4150, 19, 40, 3951, 8263, 2, 11, 1459, 24, 410, 417, 80, 50, 25, 72, 10, 25, 8, 241, 382, 23, 1, 548, 1176, 6, 5, 1024, 564, 9, 3333, 284, 19, 2177, 3, 4150, 19, 5, 3674, 23, 2, 4, 11, 1, 7182, 29, 9, 1913, 7, 793, 1, 548, 19, 94, 6, 1, 22, 2, 2177, 9, 5, 5115, 47, 284, 19, 1649, 2, 21, 29, 9, 458, 9460, 2, 59, 29, 1038, 5, 2667, 1293, 5, 1975, 0, 24, 69, 2177, 930, 3894, 23, 136, 31, 4752, 3, 4, 100, 174, 5, 9882, 389, 6, 301, 3, 2177, 516, 1, 173, 154, 3, 4, 1901, 5, 983, 11, 1, 424, 2, 1, 983, 423, 1346, 3, 4, 2177, 24, 17, 1949, 65, 32, 10, 23, 1183, 88, 166, 983, 3, 516, 7, 491, 1164, 3, 21, 640, 39, 2949, 1, 83, 983, 88, 1, 2683, 6, 1, 97, 2, 514, 29, 52, 282, 1459, 3467, 96, 2, 3242, 6070, 98, 29, 2381, 39, 5, 1873, 36, 1, 731, 2605, 121, 731, 2479, 354, 326, 1813, 24, 8174, 2965, 2, 0, 23, 9, 116, 3903, 2, 2799, 11, 152, 6, 1, 14258, 5893, 3, 2177, 9, 379, 194, 7, 580, 4, 169, 795, 11, 2, 1, 0, 3612, 13, 4, 10414, 17, 1, 438, 9, 578, 2, 59, 354, 326, 10665, 1, 548, 3, 10, 9, 2177, 8, 15, 406, 27, 37, 1, 468, 5218, 2, 24, 0, 2, 14299, 65, 803, 33, 5, 1134, 175, 6, 1281, 4, 405, 467, 1338, 3, 264, 11, 31, 315, 5399, 65, 33, 5, 13657, 36, 3195, 1062, 1460, 121, 31, 170, 18, 2771, 195, 2477, 16, 1797, 2899, 2, 23, 2177, 10665, 7, 166, 525, 39, 989, 24, 0, 1, 9812, 1786, 5349, 31, 19988, 42, 1, 0, 4, 4345, 23, 2, 13, 9, 1, 22, 24, 39, 1, 103, 23, 14, 52, 117, 799, 2177, 613, 2, 31, 4843, 27, 1, 0, 9, 229, 11, 5, 3600, 326, 3, 18, 10, 596, 2465, 4, 2465, 3, 4, 1135, 1, 304, 1038, 2177, 1209, 27, 1, 0, 2, 1, 350, 799, 711, 266, 315, 24, 4, 210, 32, 4054, 1834, 660, 11, 1, 470, 6, 564, 2478, 23, 2, 2177, 74, 2575, 5094, 51, 5, 134, 41, 16, 7730, 108, 8546, 18, 5, 189, 253, 18, 5, 802, 24, 4975, 1460, 23, 2, 59, 29, 1038, 1, 3383, 8, 15, 2502, 96, 5, 2479, 29, 1225, 29, 533, 1, 134, 2, 29, 9, 116, 4497, 11, 13, 525, 39, 5, 4592, 2298, 6, 548, 24, 926, 2458, 23, 3, 4, 11600, 2156, 2458, 11, 1, 1170, 2, 5, 5173, 6, 0, 9, 116, 3856, 4, 1, 17990, 9, 0, 5, 6241, 2484, 6, 1, 1690, 23, 2, 2177, 9, 114, 13182, 27, 1, 6241, 2484, 3, 262, 7, 4147, 31, 3860, 17, 1, 6241, 3056, 6, 1, 1690, 378, 10884, 476, 31, 3417, 2, 2177, 1036, 7, 916, 1, 189, 1595, 1460, 3, 41, 5797, 96, 352, 19, 2604, 2, 68, 29, 158, 8, 26, 977, 48, 340, 9, 2458, 2, 1, 239, 746, 232, 6, 1, 22, 761, 2177, 8291, 4, 5837, 2458, 142, 29, 4, 1460, 82, 248, 300, 2, 10, 8, 15, 5, 164, 220, 3, 4, 5, 386, 475, 6, 2177, 8, 15, 170, 36, 31, 128, 2], 1), ([0, 0, 5649, 8296, 22, 299, 18, 5, 70, 14, 875, 79, 7, 33, 4527, 2, 18, 5, 234, 14, 1, 0, 19, 2829, 39, 40, 2222, 227, 32, 2377, 67, 17, 116, 108, 0, 3, 0, 140, 944, 183, 943, 36, 219, 2, 11, 199, 3, 12, 468, 7, 1083, 27, 1, 8677, 21, 12, 258, 1, 239, 491, 43, 0, 1147, 4, 376, 14, 12, 110, 1, 371, 41, 5044, 7, 73, 2475, 11, 1, 60, 470, 227, 32, 84, 1, 6253, 656, 2, 13, 20, 9, 36, 540, 24, 4539, 1315, 23, 5, 70, 2123, 27, 5, 202, 0, 285, 2, 13, 247, 6, 14161, 6720, 56, 898, 11, 5, 3370, 973, 44, 0, 8, 15, 13228, 0, 0, 46, 8013, 1217, 44, 1, 112, 6, 148, 2, 318, 0, 2, 0, 0, 744, 660, 2465, 7, 1, 1657, 2, 12, 258, 1, 652, 11, 786, 7, 33, 730, 890, 2, 1, 4929, 638, 6, 4817, 19520, 402, 48, 0, 0, 11, 1, 3520, 76, 60, 1229, 17, 16, 1, 848, 17499, 39, 1, 5984, 6, 48, 421, 8, 15, 329, 2, 19, 77, 3, 1, 5086, 2187, 6, 0, 8, 15, 0, 59, 14404, 265, 11, 42, 1, 2731, 4, 4817, 6752, 18, 96, 16, 5, 233, 6, 5, 2984, 2, 34, 202, 1792, 14, 12, 537, 1326, 7, 11, 13, 22, 16, 0, 8, 15, 4367, 6, 333, 1609, 1, 375, 2562, 88, 1, 406, 6, 31, 1879, 4, 3909, 1, 1366, 661, 273, 2, 13, 907, 7, 745, 882, 11, 4571, 5893, 3, 21, 59, 5080, 133, 10, 191, 14, 0, 9, 64, 0, 2, 11, 199, 1317, 1, 668, 70, 3, 1, 290, 454, 18, 13, 22, 9, 1, 17802, 242, 6, 10, 8, 15, 290, 113, 2, 10, 102, 1, 464, 6582, 141, 63, 58, 0, 86, 2, 11, 13, 20, 0, 2095, 31, 11190, 439, 260, 0, 11060, 39, 0, 183, 7, 33, 58, 3703, 24, 28, 2435, 1642, 23, 4, 58, 0, 2, 4, 142, 12, 8, 148, 435, 34, 41, 9, 60, 2228, 7, 13, 611, 3, 12, 452, 17, 50, 1, 304, 16, 116, 632, 136, 1, 424, 18, 5, 5463, 3096, 2, 101, 1, 109, 32, 84, 1487, 9457, 53, 12, 9869, 7, 174, 13, 20, 60, 0, 4, 13647, 2, 16, 1, 484, 3680, 0, 235, 58, 81, 5, 5073, 53, 10, 266, 19, 1, 85, 27, 1, 504, 6, 208, 108, 3, 44, 1, 57, 3680, 3108, 5844, 4, 1, 3532, 0, 0, 2, 4, 47, 11, 418, 75, 227, 32, 1029, 0, 8, 15, 222, 3, 29, 864, 7, 0, 31, 12322, 1990, 11, 73, 204, 0, 2, 13, 963, 77, 7, 40, 230, 222, 49, 1, 175, 8, 15, 357, 6, 1464, 2, 29, 1778, 1, 594, 371, 41, 3242, 198, 2495, 11, 37, 328, 3, 17, 78, 17, 4817, 24, 59, 75, 97, 916, 48, 4, 107, 48, 0, 23, 3, 1, 484, 3680, 0, 3, 4, 6, 268, 1, 57, 21, 1410, 0, 0, 2, 328, 9, 5, 1464, 14, 2985, 5, 3583, 268, 3, 1, 0, 8, 15, 343, 9, 292, 4, 9140, 2, 10, 9, 1, 1464, 6, 1123, 19, 14, 0, 6191, 6, 696, 271, 7492, 3, 1, 918, 2059, 2, 10, 9, 92, 1, 1464, 6, 8827, 3, 147, 17, 1, 0, 0, 0, 39, 1, 8879, 3747, 2, 428, 3, 328, 9, 1, 1464, 6, 0, 3, 147, 17, 1, 584, 0, 6, 8508, 4, 8051, 14, 4817, 0, 11, 1, 350, 363, 6, 1, 22, 2, 1, 83, 290, 1464, 3, 4, 5, 60, 2205, 1123, 19, 5, 20, 49, 1, 10049, 540, 3, 9, 862, 2, 10, 9, 5, 1464, 14, 52, 40, 1499, 6728, 909, 9312, 2, 1, 113, 41, 2989, 862, 9, 3884, 3, 909, 3, 0, 7, 176, 988, 3, 4, 10971, 2, 862, 9, 5, 10284, 1464, 11, 696, 219, 10, 5034, 260, 17076, 6, 1, 0, 4, 36, 1, 173, 66, 167, 1, 0, 4387, 2, 255, 862, 2810, 40, 3922, 3417, 6, 480, 4, 14523, 3, 17, 1, 7759, 957, 6, 0, 134, 3976, 73, 354, 11, 862, 0, 4, 840, 1, 97, 134, 750, 11, 1, 0, 3, 1918, 3, 9, 750, 107, 1, 14425, 680, 19, 862, 2, 862, 92, 52, 40, 11428, 7177, 3, 284, 152, 27, 1, 509, 121, 862, 24, 4, 39, 6880, 5, 346, 0, 2029, 904, 125, 23, 16, 58, 3046, 2, 43, 59, 75, 2365, 1, 0, 654, 24, 1, 1368, 0, 2701, 3799, 586, 18, 5, 862, 15283, 0, 4, 5, 862, 3477, 6, 5, 17320, 0, 35, 23, 6, 4817, 8, 15, 421, 3, 57, 109, 3108, 5844, 4, 0, 1717, 0, 6364, 6, 862, 3, 4, 428, 1, 3477, 6, 4817, 8, 15, 421, 11, 5, 11535, 862, 11879, 75, 56, 72, 121, 0, 8, 15, 14153, 2839, 2, 5, 680, 46, 117, 49, 1, 704, 3, 12, 258, 1, 216, 674, 1386, 7, 33, 6605, 5060, 7, 1, 70, 2, 1, 0, 775, 14, 0, 4817, 16, 89, 19, 10, 8, 15, 19856, 4, 554, 6, 0, 17768, 24, 1, 1539, 128, 357, 6, 5, 1288, 2601, 0, 775, 147, 5, 13, 65, 32, 7, 33, 11, 3586, 8, 15, 2591, 0, 3, 18, 10, 8, 15, 4480, 0, 6, 40, 0, 0, 9698, 7, 0, 23, 2, 34, 429, 1551, 1123, 16, 5, 371, 6, 1556, 6, 40, 1561, 0, 75, 825, 17, 1, 641, 9, 12595, 142, 4817, 9, 3467, 7057, 149, 1, 329, 2, 10, 9, 6, 1, 799, 0, 0, 53, 2, 2, 2, 13116, 0, 0, 42, 0, 8, 15, 1561, 1102, 18158, 2, 1, 0, 9, 4882, 39, 1, 477, 9441, 41, 9, 1198, 352, 1335, 2, 17, 4817, 8, 15, 421, 16, 5, 970, 9441, 3, 75, 56, 474, 14, 13, 9, 5, 3909, 6, 48, 1177, 4, 14, 61, 9, 614, 5, 2914, 9334, 7, 48, 558, 3, 17, 11, 1, 20, 4817, 9, 514, 6499, 7, 118, 179, 72, 7057, 1060, 2, 12, 47, 32, 34, 1375, 870, 6, 1, 704, 3, 143, 1416, 1, 799, 12404, 15904, 0, 3108, 53, 12, 122, 1, 616, 4, 1251, 101, 825, 10, 37, 1, 66, 3, 21, 10, 159, 8, 26, 71, 1088, 133, 2], 0), ([12, 32, 118, 114, 105, 6, 3117, 841, 8, 15, 2706, 112, 3, 17, 73, 4640, 118, 969, 62, 627, 2, 12, 32, 114, 3, 4, 3075, 5351, 2462, 3, 4, 6831, 3036, 8, 15, 170, 3, 4, 32, 441, 6, 73, 5355, 2, 12, 16, 3, 197, 3, 1081, 658, 18, 13, 20, 2, 50, 13, 22, 9, 105, 6618, 6, 3117, 841, 8, 15, 1208, 17, 5, 175, 3, 62, 1943, 65, 33, 7, 82, 5, 298, 3, 4, 580, 2905, 1, 66, 4, 617, 6, 401, 2, 12, 591, 50, 55, 6, 1, 83, 804, 9519, 296, 1, 173, 20, 14, 12, 8, 241, 114, 2, 12, 56, 68, 2055, 3, 42, 73, 4340, 0, 800, 3, 14, 73, 0, 6, 3117, 841, 52, 10366, 98, 7, 1, 14785, 6, 13, 434, 6, 170, 2, 12, 68, 1473, 10327, 2, 1351, 3, 11, 5, 350, 520, 824, 3, 4, 140, 452, 12, 8, 241, 960, 62, 301, 2, 1, 804, 6147, 1857, 523, 10, 37, 2, 2, 2, 2, 2, 2, 2, 1719, 326, 11, 8737, 490, 367, 93, 56, 25, 519, 7, 1307, 5, 202, 416, 2696, 3, 24, 17, 1, 1993, 3720, 5552, 23, 3, 11, 147, 5, 341, 66, 53, 64, 591, 45, 16, 147, 5, 865, 242, 39, 37, 2, 1719, 3070, 1791, 16, 97, 171, 7, 1607, 1, 22, 2, 2, 2, 367, 29, 210, 32, 229, 13, 1104, 55, 1502, 3, 361, 58, 66, 7, 90, 43, 3, 6, 268, 2, 162, 1, 501, 16, 2559, 3, 1, 833, 74, 55, 5049, 2, 588, 35, 277, 28, 2, 12, 8, 148, 735, 35, 13, 22, 16, 43, 13168, 18, 4372, 1470, 8, 15, 3, 3605, 145, 3, 4, 2390, 6238, 3, 14, 277, 63, 29, 412, 8, 26, 32, 102, 79, 6, 10, 2, 24, 1290, 3070, 35, 33, 254, 7, 1298, 2251, 2, 2, 2, 57, 673, 35, 23, 1719, 6831, 3036, 719, 48, 181, 11, 282, 2081, 2, 367, 4, 10, 1202, 35, 48, 1090, 6, 5, 0, 3, 41, 167, 85, 8, 15, 679, 151, 248, 3, 16, 17, 1337, 17, 1, 234, 61, 16, 361, 2, 124, 61, 63, 187, 7, 33, 45, 53, 83, 0, 1719, 93, 115, 1907, 6947, 65, 1252, 7, 217, 7, 1, 1310, 3, 4, 8029, 5, 0, 548, 1842, 14, 38, 76, 925, 9052, 1, 1907, 3, 4, 29, 8, 241, 132, 390, 248, 2, 2, 2, 46, 324, 53, 1719, 59, 1365, 0, 3, 24, 5351, 2462, 23, 3, 265, 88, 1, 1907, 7, 19154, 45, 30, 64, 4725, 255, 3, 93, 115, 1907, 6947, 3, 206, 5, 1084, 3, 65, 32, 1512, 5, 983, 3, 24, 79, 346, 281, 5, 983, 23, 152, 51, 7, 1, 964, 1310, 3, 3336, 1, 548, 1842, 7, 1268, 510, 96, 53, 1719, 12162, 2, 0, 315, 4561, 3, 7, 32, 361, 1, 9227, 177, 289, 7, 1307, 77, 2, 143, 3, 100, 3, 11, 73, 1343, 1754, 3, 159, 8, 26, 29, 63, 349, 7, 6179, 1, 9227, 8, 15, 406, 53, 14, 210, 32, 1910, 1, 3154, 29, 16, 284, 19, 2, 2, 2, 5, 9227, 65, 32, 326, 96, 47, 7, 3479, 315, 13467, 2, 4, 143, 124, 10, 198, 1357, 3, 18056, 3, 0, 3, 24, 1, 9227, 8, 15, 12079, 23, 3, 43, 211, 7, 217, 4, 347, 51, 53, 1719, 12, 382, 14, 138, 1153, 8, 26, 131, 785, 1907, 6947, 2, 38, 74, 5, 286, 4932, 3, 4, 159, 8, 26, 187, 256, 14418, 2, 21, 1, 1459, 74, 64, 289, 7, 110, 14, 38, 567, 8, 26, 2, 7, 98, 10, 16, 5, 1755, 831, 2, 143, 100, 3, 59, 117, 6, 1, 86, 460, 8713, 987, 7, 1272, 67, 1, 0, 53, 3, 76, 38, 28, 578, 192, 2, 24, 97, 6, 37, 3, 93, 115, 6947, 65, 32, 373, 987, 206, 769, 5, 5089, 17, 5, 10055, 53, 9, 13, 3117, 841, 8, 15, 319, 6, 6126, 564, 3, 46, 5502, 8, 15, 53, 23, 2, 661, 98, 192, 65, 32, 4375, 1, 86, 221, 8, 15, 1734, 3, 5750, 67, 73, 2218, 3, 4, 1, 3113, 6947, 65, 58, 243, 32, 361, 67, 2, 50, 28, 3, 45, 36, 225, 65, 33, 10662, 86, 460, 925, 2, 24, 205, 12038, 146, 7, 90, 3, 46, 2391, 98, 352, 35, 23, 1719, 54, 548, 2491, 11, 13, 630, 3, 65, 32, 1509, 13520, 478, 3, 24, 6831, 3036, 23, 3, 7, 47, 10825, 208, 88, 1, 1907, 3, 4, 4656, 5, 513, 18, 1, 6947, 3, 14, 61, 65, 28, 0, 7, 98, 97, 53, 61, 74, 64, 4245, 3, 64, 19628, 12151, 4, 1317, 3, 13, 16, 107, 37, 3, 473, 5, 5089, 831, 2, 2, 2, 714, 34, 58, 53, 1719, 143, 567, 8, 26, 1, 1907, 14825, 3, 24, 1388, 9622, 23, 3, 47, 32, 2466, 1, 16218, 7869, 5, 211, 66, 601, 53, 6068, 7225, 35, 1, 8137, 3, 29, 101, 32, 2873, 2, 1719, 41, 16, 14, 0, 3, 24, 1, 113, 3, 28, 1, 297, 23, 3, 18, 1, 5988, 1121, 3, 14, 3, 5651, 3, 0, 3, 4, 307, 29, 690, 1, 3909, 16, 4238, 0, 3, 21, 255, 29, 314, 412, 8, 26, 1048, 10, 2, 2, 2, 2, 2, 2646, 35, 270, 131, 568, 192, 35, 4, 31, 7299, 35, 54, 5, 0, 61, 16, 35, 35, 35, 203, 76, 458, 1337, 2, 1719, 59, 0, 3118, 3, 143, 124, 12162, 2, 0, 3, 5775, 0, 1, 3226, 41, 76, 534, 28, 5, 181, 6, 1, 3079, 53, 3, 24, 12, 2, 997, 2, 80, 1003, 1, 3532, 253, 61, 101, 151, 3, 4, 100, 61, 412, 8, 26, 3, 100, 101, 100, 412, 8, 26, 53, 23, 205, 77, 5, 1016, 35, 1719, 41, 3, 107, 317, 1, 1907, 6947, 4396, 14, 1, 10964, 270, 27, 2011, 0, 3, 412, 8, 26, 0, 73, 992, 1314, 1875, 596, 51, 6, 1, 1907, 4409, 7, 33, 55, 6, 1, 10964, 53, 1719, 784, 1, 137, 6, 1, 20, 3, 5, 2634, 1627, 16, 589, 7, 32, 84, 2123, 11, 1, 5561, 654, 3, 510, 69, 6169, 16336, 11561, 51, 19, 5, 1218, 2, 2, 2, 2, 121, 124, 1, 9001, 217, 42, 53, 24, 1, 0, 195, 0, 23, 2, 10, 16, 92, 7, 33, 5338, 14, 38, 651, 88, 1, 17179, 3, 43, 29, 101, 15735, 314, 2, 1, 1907, 7652, 1885, 8, 26, 7640, 49, 1, 6216, 3, 37, 1218, 211, 53, 5002, 35, 1719, 107, 147, 5, 9128, 240, 1, 7869, 74, 3401, 88, 1, 9227, 8, 15, 910, 3, 54, 247, 6, 1866, 16, 1595, 2, 478, 1010, 7, 82, 42, 1, 1907, 14825, 3, 317, 14, 29, 16, 156, 7, 33, 5, 2320, 19, 9905, 3, 675, 7, 48, 2036, 53, 1719, 4, 239, 3, 21, 435, 28, 225, 3, 54, 8, 15, 18, 1, 4658, 17643, 14, 5351, 124, 53, 93, 379, 35, 16, 14, 444, 7, 7543, 31, 7119, 7, 720, 138, 460, 7, 1502, 53, 29, 560, 3, 246, 3, 44, 5, 134, 41, 0, 5, 1311, 27, 5, 6140, 12527, 3, 142, 262, 7, 3479, 5, 0, 2302, 35, 0, 35, 35, 35, 35, 83, 81, 1, 1613, 120, 2390, 234, 86, 119, 4, 456, 4372, 980, 2, 2, 2, 2, 2, 2, 12456, 3, 12456, 3, 12456, 2, 2243, 13, 87, 205, 194, 2862, 88, 1, 20, 7, 347, 401, 1094, 724, 7, 462, 73, 301, 46, 28, 35, 2], 0), ([12, 1762, 214, 13, 60, 463, 220, 190, 3100, 46, 43, 27, 2002, 251, 2, 54, 5, 823, 4, 2792, 35, 295, 9, 0, 4208, 11, 13, 20, 35, 7294, 305, 1, 1945, 91, 24, 392, 1, 176, 866, 91, 41, 16, 444, 7, 33, 8365, 53, 518, 14974, 125, 46, 17299, 53, 23, 2, 3531, 2326, 4, 4436, 13305, 30, 36, 73, 94, 316, 4, 28, 7, 33, 0, 18, 35, 1324, 5684, 14, 880, 4, 16521, 90, 151, 300, 35, 100, 45, 9, 1, 89, 12106, 141, 207, 13305, 4, 1726, 8797, 24, 4585, 4, 2546, 23, 121, 38, 11731, 308, 139, 1, 182, 12106, 2, 13, 22, 9, 203, 1261, 4, 8112, 2, 19, 37, 1, 1157, 3, 10, 56, 33, 5, 60, 1998, 22, 2, 4, 3, 25, 32, 1, 1434, 7, 72, 441, 160, 11, 73, 464, 46, 784, 464, 603, 2, 5005, 6093, 2, 794, 7452, 2, 1668, 15779, 2, 10, 9, 28, 5, 22, 19, 295, 2, 21, 3, 50, 25, 44, 5, 22, 14, 52, 5, 172, 6, 680, 308, 4, 944, 703, 206, 4602, 67, 267, 11, 1696, 3, 13, 9, 1, 22, 19, 25, 2, 2469, 6601, 10921, 27, 13, 22, 2, 29, 8, 15, 1098, 358, 2, 13, 9, 5, 494, 3, 494, 22, 35, 277, 47, 28, 34, 19, 6601, 2, 12, 1163, 10, 17, 5, 306, 95, 6, 93, 78, 10, 9, 229, 4, 93, 164, 1, 234, 56, 33, 3, 142, 28, 71, 116, 5, 795, 220, 247, 6, 22, 2, 12, 44, 10, 43, 78, 14, 12, 1194, 10, 27, 274, 95, 10, 47, 158, 8, 26, 82, 589, 60, 79, 27, 2002, 251, 2, 156, 3, 10, 8, 15, 37, 1662, 35], 1), ([1, 7932, 922, 5, 422, 6, 520, 6, 1, 5931, 4, 2473, 0, 21, 9, 4915, 18, 55, 57, 119, 4, 8885, 1620, 2, 138, 569, 32, 473, 19, 1, 94, 181, 763, 149, 17, 115, 0, 17, 75, 56, 2242, 3, 43, 54, 75, 8, 185, 309, 18, 9, 93, 57, 9, 1, 119, 3, 93, 1363, 30, 1, 18981, 4, 86, 460, 3, 93, 78, 3102, 9, 1, 290, 120, 524, 524, 2, 2, 2, 2, 2, 43, 1, 7932, 130, 5, 1192, 298, 361, 10, 8, 15, 1536, 2, 498, 0, 4, 11269, 2916, 203, 4147, 55, 57, 278, 15995, 4, 5240, 2, 3491, 10003, 24, 97, 66, 12, 8, 144, 114, 48, 27, 278, 23, 963, 55, 10290, 1440, 2, 1, 228, 1443, 504, 6, 1, 70, 9, 1232, 3605, 7895, 10, 192, 5, 233, 3, 21, 10, 981, 11364, 2, 276, 5, 835, 50, 25, 44, 1, 530, 2], 1), ([5, 60, 164, 169, 36, 55, 6, 2990, 8, 15, 1826, 4841, 4, 1026, 13911, 2, 1, 13331, 869, 71, 320, 7, 32, 250, 18, 13, 127, 3, 4, 54, 12, 362, 9, 14, 38, 37, 32, 73, 6665, 55, 30, 495, 24, 0, 23, 36, 261, 586, 3604, 6, 521, 3, 2920, 5926, 56, 1571, 139, 1, 228, 12, 8, 148, 10453, 5, 799, 6642, 4, 12, 8, 148, 49, 7, 1505, 14, 29, 5041, 314, 17, 5, 4871, 6, 8468, 585, 6, 1213, 2, 38, 32, 89, 3544, 11, 1, 127, 661, 1, 6737, 51, 6, 37, 2610, 6, 1360, 6, 2170, 1199, 147, 17, 260, 1826, 4841, 279, 3, 260, 19232, 4, 405, 1863, 251, 12342, 2, 55, 808, 9, 5, 233, 1448, 4, 700, 3, 21, 456, 10, 8, 15, 5, 172, 6, 250, 7, 111, 3, 4, 87, 546, 25, 18, 5, 1941, 27, 131, 406, 2], 1), ([436, 431, 35, 35, 35, 62, 539, 35, 35, 35, 35, 54, 5, 20, 13, 34, 35, 35, 35, 13, 9, 243, 1, 128, 20, 39, 1858, 4598, 4, 2146, 0, 1686, 35, 35, 35, 12, 32, 114, 37, 1, 867, 19, 13, 20, 2, 2, 2, 4, 94, 6, 98, 1249, 13, 20, 60, 79, 35, 35, 21, 12, 91, 8, 26, 71, 382, 143, 10, 68, 193, 1207, 2, 457, 11, 804, 1087, 53, 53, 53, 13, 34, 150, 730, 976, 2, 553, 35, 35, 35, 1, 120, 4, 1, 234, 30, 332, 410, 35, 35, 1, 119, 30, 3455, 78, 972, 35, 35, 35, 1858, 4598, 2, 2, 2, 87, 0, 2, 2, 2, 2146, 0, 1686, 2, 2, 2, 2, 32, 361, 40, 1034, 4, 1140, 242, 11, 73, 649, 35, 35, 35, 13, 20, 3049, 5, 172, 6, 231, 35, 35, 35, 47, 34, 154, 12, 3215, 135, 2, 2, 2, 2, 111, 10, 35, 35, 35, 35, 35, 35, 35, 35, 35, 306, 51, 6, 306, 419, 35, 35], 1), ([588, 3, 577, 263, 77, 59, 12, 135, 14, 13, 9, 5, 388, 3, 388, 3, 1025, 20, 2, 99, 229, 43, 843, 14, 79, 6, 1, 22, 305, 51, 17, 4273, 7828, 4, 99, 429, 5, 4238, 462, 6, 66, 2, 376, 3, 21, 826, 92, 1674, 2161, 2, 12, 296, 13, 17, 5, 1799, 807, 18, 0, 0, 1, 0, 2816, 4, 264, 0, 16, 40, 897, 1811, 22, 3, 14, 8, 15, 28, 614, 79, 2, 1, 120, 6, 0, 9, 43, 332, 4318, 14, 99, 1144, 7, 868, 2, 1, 2583, 9, 16065, 3, 413, 4781, 3, 1496, 2254, 3, 4, 1560, 13408, 2, 1214, 363, 1, 22, 9, 0, 145, 6, 1, 636, 477, 3, 41, 291, 44, 1731, 16673, 3, 1286, 149, 1, 1920, 2, 1, 20, 165, 526, 51, 189, 598, 3, 21, 100, 0, 88, 0, 4, 826, 2095, 7, 0, 3, 900, 39, 900, 2, 429, 488, 4, 374, 40, 12077, 12187, 2379, 2, 1739, 419, 2, 0, 800, 39, 0, 0], 0), ([5142, 18953, 8, 15, 182, 6, 219, 4091, 3, 11, 176, 866, 3, 2706, 7, 99, 0, 3, 9, 1, 3288, 19, 13, 674, 2, 2216, 1394, 2, 16278, 3, 5, 134, 41, 690, 49, 106, 3, 532, 13, 4184, 2988, 7, 1, 16757, 6, 1, 182, 14, 127, 183, 14, 0, 6, 176, 866, 6, 1, 509, 2, 1197, 0, 8, 15, 215, 912, 89, 2, 75, 111, 5, 1896, 188, 6, 109, 14, 76, 785, 6, 1, 1493, 2, 85, 36, 1, 8449, 6, 844, 9869, 7, 0, 1849, 14, 1493, 95, 6, 1, 2478, 3, 1, 231, 3, 1, 5056, 11, 14, 181, 6, 525, 2, 13, 15227, 6, 1, 564, 102, 5, 573, 51, 6, 1, 929, 125, 14, 16, 43, 1501, 2, 55, 6, 1, 716, 42, 1, 216, 365, 76, 28, 1875, 11, 1, 22, 2, 75, 91, 8, 26, 123, 724, 13, 167, 287, 3, 21, 13, 9, 28, 1737, 19, 5, 370, 674, 7, 657, 4, 7261, 54, 907, 27, 1, 1006, 2, 14, 216, 188, 1875, 1, 386, 7140, 12899, 4, 0, 15005, 3, 4, 75, 591, 49, 1, 2077, 6, 28, 3024, 593, 18224, 3, 1097, 19775, 3, 11909, 0, 2785, 73, 216, 603, 2, 138, 76, 8776, 160, 14, 101, 32, 102, 40, 485, 5468, 2, 1, 22, 3, 2085, 3, 9, 485, 2, 1, 169, 1045, 3020, 1, 8625, 6, 1, 219, 2, 17, 237, 17, 1, 1051, 6, 6445, 3713, 3, 853, 28, 587, 19, 31, 1177, 3736, 3, 1197, 2609, 4, 1854, 5819, 3, 320, 7, 170, 11, 1, 22, 2, 2167, 9190, 9, 3, 107, 37, 3, 5, 134, 8, 15, 134, 3, 41, 65, 169, 853, 6071, 50, 29, 1259, 5, 286, 8, 169, 8, 2, 1197, 2609, 9, 57, 17, 6060, 7289, 2, 1854, 5819, 3, 17, 2507, 1679, 3, 130, 5, 338, 298, 2237, 1, 253, 42, 1, 7694, 1244, 41, 1135, 676, 10947, 18, 1, 173, 247, 6, 134, 61, 9, 262, 7, 575, 2, 7140, 12899, 9, 5, 2792, 2, 61, 118, 10620, 7, 10340, 17, 677, 12856, 3, 5, 253, 18, 5, 540, 6, 1743, 41, 8, 15, 6060, 7289, 8, 15, 122, 627, 2, 1595, 2, 12899, 167, 5, 745, 1333, 17, 1, 127, 257, 41, 9, 12064, 81, 61, 1455, 51, 7, 33, 2, 0, 15005, 167, 5, 386, 298, 51, 6, 12749, 31, 1807, 1807, 2316, 2, 1, 386, 365, 6275, 5, 172, 7, 1, 1063, 14755, 16691, 3, 41, 102, 1, 1187, 7, 1, 278, 2, 1, 1239, 39, 4817, 0, 292, 1, 208, 1295, 2], 1), ([19893, 0, 8, 15, 18109, 242, 24, 69, 391, 48, 40, 13754, 1419, 23, 9, 36, 225, 27, 2899, 18, 48, 772, 11, 0, 282, 161, 315, 2, 4428, 0, 9, 92, 57, 3, 4, 3, 19, 153, 41, 30, 943, 3, 1979, 6254, 712, 17, 19893, 8, 15, 542, 3, 4, 498, 0, 24, 128, 587, 19, 1, 2015, 23, 9, 5, 11441, 5546, 2, 24, 92, 5156, 3, 0, 9, 3630, 1, 2619, 6, 3927, 2038, 132, 5791, 4, 11240, 3, 4, 0, 9, 1, 2619, 6, 0, 5682, 571, 895, 4664, 3, 895, 15951, 3, 524, 2, 2, 2, 23, 13, 22, 0, 1, 0, 2430, 14, 19893, 16, 4763, 2990, 8, 15, 408, 636, 297, 302, 1, 0, 3944, 2, 667, 0, 2], 1), ([13, 20, 9, 164, 4, 1369, 36, 1, 173, 66, 2, 1, 0, 224, 506, 77, 5, 0, 2, 469, 54, 38, 8980, 3, 0, 9, 28, 55, 3834, 1832, 11026, 2, 10, 16, 1513, 17, 1, 898, 6, 40, 1534, 3, 4, 38, 334, 10, 95, 10, 6808, 1, 199, 14, 73, 1727, 76, 43, 0, 2, 12, 92, 91, 8, 26, 110, 10, 8, 15, 5, 5137, 14, 1, 728, 9, 5624, 3765, 2, 13, 20, 9, 57, 19, 5, 443, 3, 50, 25, 30, 71, 284, 19, 5, 20, 102, 11, 1233, 490, 27, 6784, 3, 1720, 2263, 2, 10, 9, 432, 36, 225, 12, 56, 135, 14, 49, 10, 2, 1, 0, 9, 1, 2544, 2], 0), ([8515, 14299, 8, 15, 6998, 674, 2, 50, 25, 187, 7, 72, 121, 716, 97, 5198, 5, 70, 13, 9, 1, 273, 2, 13, 9, 1, 70, 6, 5, 9443, 196, 1698, 41, 676, 29, 8, 15, 391, 1, 13981, 47, 17, 31, 0, 217, 2502, 2, 479, 31, 4162, 9, 11, 31, 6890, 3, 69, 9, 11, 31, 7304, 1621, 4, 52, 84, 361, 7, 40, 27, 1, 520, 8263, 41, 100, 2, 2, 2, 436, 21, 14, 65, 33, 1003, 2, 13, 9, 5, 705, 4, 18539, 70, 121, 79, 6, 1, 752, 9, 4882, 24, 94, 85, 110, 13, 159, 8, 26, 562, 360, 12316, 46, 4072, 3094, 0, 23, 2, 99, 1, 422, 6, 20, 14, 38, 91, 8, 26, 104, 105, 58, 3, 4, 1682, 124, 59, 38, 124, 2, 99, 467, 5, 22, 42, 1, 405, 490, 14, 305, 44, 5, 20, 42, 746, 46, 1573, 161, 315, 2, 14299, 1089, 31, 375, 190, 11, 783, 14, 28, 63, 8121, 6972, 16, 402, 24, 162, 7, 33, 1173, 4015, 1, 117, 22, 1399, 9, 4458, 240, 6972, 16, 402, 1983, 1006, 3123, 881, 1734, 4, 14299, 16, 703, 1, 375, 149, 1, 157, 182, 23, 2, 99, 40, 485, 126, 20, 2, 4, 99, 5, 1255, 20, 14, 87, 47, 104, 25, 1941, 2, 99, 47, 5, 10668, 434, 6, 3423, 2, 12, 8, 148, 735, 12, 56, 8, 26, 135, 58, 2, 99, 47, 5, 338, 126, 20, 4, 1548, 71, 37, 25, 348, 7, 123, 2], 1), ([1, 345, 3002, 214, 64, 10662, 81, 430, 719, 2888, 6, 2274, 2, 1454, 2, 3801, 8, 89, 626, 3, 322, 6, 1, 3461, 2, 13, 9, 383, 1, 225, 5027, 4, 60, 243, 1, 128, 6, 98, 2, 64, 83, 319, 6, 0, 52, 129, 3222, 28, 68, 7, 1005, 1, 70, 60, 79, 17, 3801, 1066, 10, 3, 21, 92, 7, 1004, 1, 848, 6, 1, 66, 11, 69, 10, 16, 444, 7, 198, 273, 1, 239, 345, 6, 1, 5333, 1062, 3, 18201, 769, 3801, 8, 216, 1002, 3, 11, 4, 784, 0, 3, 1804, 2, 804, 191, 14711, 7, 54, 38, 3283, 17, 1349, 2, 14, 227, 6483, 18, 55, 112, 3, 121, 1, 285, 227, 165, 33, 5, 823, 3, 21, 18, 3283, 7, 34, 6, 1, 94, 799, 2961, 11, 1, 182, 3, 10, 191, 5217, 663, 2, 12, 32, 64, 2319, 19, 85, 41, 32, 6939, 7, 335, 34, 6, 1, 13633, 500, 11, 610, 4701, 3, 43, 281, 8, 15, 82, 208, 7, 1, 1346, 2, 1, 2149, 30, 2466, 149, 5242, 40, 688, 3422, 3, 439, 69, 38, 32, 64, 0, 2, 50, 14, 8, 15, 5, 1666, 3, 43, 33, 10, 107, 5, 275, 4, 430, 83, 112, 24, 571, 1, 7956, 353, 23, 3, 25, 4303, 7, 123, 93, 13, 640, 2, 13, 22, 3, 69, 1045, 3801, 8, 120, 11, 1, 290, 3, 9, 92, 60, 4724, 1259, 492, 11, 5, 103, 14, 227, 270, 115, 764, 139, 675, 7, 73, 5793, 6, 538, 0, 3195, 1062, 1319, 2, 264, 719, 11, 5, 4799, 1309, 3, 1, 22, 266, 7, 55, 10000, 7, 205, 40, 1333, 6, 0, 2, 1, 786, 0, 6, 2329, 4, 1778, 2453, 5, 14632, 19103, 413, 258, 11, 178, 7571, 24, 246, 81, 328, 23, 2, 2615, 30, 413, 2600, 6, 0, 2, 36, 83, 219, 3, 2615, 30, 6305, 51, 2, 138, 10092, 30, 785, 6, 405, 112, 3, 69, 159, 8, 26, 357, 0, 3741, 1735, 4, 1538, 1259, 5, 57, 115, 1318, 11, 2279, 482, 3, 63, 171, 42, 0, 7, 0, 7, 0, 7, 0, 4, 43, 27, 492, 17, 25, 8, 236, 72, 27, 4631, 133, 2, 1, 312, 299, 30, 4078, 0, 3, 6, 5, 422, 114, 63, 17, 538, 17, 1, 9276, 492, 4, 255, 1, 8653, 4, 73, 4628, 30, 60, 79, 17, 3801, 2153, 98, 4, 32, 5, 58, 806, 813, 244, 2, 55, 6, 299, 30, 71, 2132, 492, 147, 17, 1, 3104, 6, 202, 1101, 2, 1, 119, 9, 413, 58, 11, 1, 445, 6, 14, 815, 81, 11309, 2, 55, 1360, 6, 5766, 2940, 210, 991, 1015, 3, 602, 1, 357, 6, 0, 46, 0, 27, 424, 4, 2738, 1113, 2, 13, 22, 9, 1, 68, 34, 14, 1045, 18, 55, 16036, 3801, 8, 216, 1302, 492, 17, 52, 84, 3495, 2, 764, 210, 174, 10, 6727, 7, 911, 120, 1257, 14, 991, 133, 14, 30, 1864, 14601, 11, 83, 2310, 6, 1, 70, 2, 3801, 8, 2793, 6, 1, 8653, 492, 5, 1305, 424, 13548, 27, 1815, 15203, 492, 9, 2597, 1009, 2, 59, 1, 9000, 4628, 991, 3, 49, 40, 552, 88, 1, 22, 3, 38, 108, 205, 5, 57, 1333, 6, 93, 3801, 2153, 98, 2, 203, 3801, 4, 13, 22, 90, 40, 327, 298, 6, 2237, 1, 3870, 6, 1, 8653, 42, 1, 1770, 1994, 24, 3963, 23, 6, 3232, 1804, 492, 905, 5, 180, 145, 11, 1223, 24, 1246, 1, 3494, 8, 15, 599, 23, 2, 1, 175, 9, 1913, 7, 4749, 726, 1, 3104, 6, 5, 645, 10227, 24, 202, 1101, 23, 3, 21, 36, 225, 158, 8, 26, 12178, 0, 27, 1, 11203, 6, 1223, 2, 1, 5328, 6, 1, 8653, 9, 1053, 5, 823, 3, 469, 1, 3104, 39, 4603, 6, 55, 6, 73, 4628, 2, 1, 3494, 3, 3735, 49, 7, 2555, 992, 3, 1038, 79, 6, 54, 3801, 1282, 1, 0, 6, 4741, 2, 29, 3224, 5, 0, 17579, 18, 1, 5766, 17366, 6, 5, 79, 108, 3362, 4, 4509, 1578, 2, 38, 803, 174, 521, 27, 1, 60, 1224, 6, 5, 9000, 7908, 3, 121, 38, 1828, 40, 376, 199, 1, 8653, 30, 589, 7, 33, 2084, 41, 16740, 73, 4872, 1060, 11, 5, 60, 1148, 141, 2, 3801, 1453, 14, 107, 1982, 38, 292, 67, 5, 9824, 4, 7280, 0, 2, 1, 3494, 428, 9, 17044, 7, 1693, 4962, 1, 3253, 3471, 0, 492, 41, 0, 47, 17, 1, 8653, 2299, 96, 139, 7, 1, 0, 24, 6888, 42, 1, 6916, 710, 0, 30, 43, 413, 1232, 11261, 23, 2, 13, 22, 6270, 224, 430, 612, 3, 171, 149, 3801, 8, 70, 11, 2382, 1537, 2, 10, 8, 15, 49, 66, 1, 1969, 193, 31, 675, 492, 11, 5, 1490, 3134, 14, 3507, 11, 970, 1554, 2, 5, 680, 49, 1, 119, 91, 8, 26, 519, 11772, 372, 2, 38, 8, 185, 28, 86, 3, 197, 3, 1, 160, 30, 7171, 4, 38, 2192, 27, 25, 2, 94, 6, 98, 3, 197, 3, 32, 74, 60, 0, 22, 3977, 3, 413, 68, 11, 13, 22, 2, 1, 3494, 9, 259, 39, 9355, 2268, 0, 3, 11, 31, 4098, 22, 2, 1, 0, 9, 313, 8034, 492, 92, 11, 31, 4098, 22, 17, 40, 297, 21, 41, 52, 74, 58, 549, 980, 2, 1, 599, 24, 10680, 23, 9, 259, 18, 55, 5652, 39, 2918, 2, 5128, 0, 11, 31, 97, 22, 2, 1, 0, 3, 1, 68, 83, 0, 181, 3, 9, 259, 39, 574, 0, 11, 31, 97, 22, 2, 13, 9, 456, 5, 3818, 22, 3, 2237, 19, 1, 97, 66, 1, 322, 6, 1, 3461, 17, 3801, 1066, 10, 2, 469, 99, 3072, 16773, 3, 10, 9, 237, 4, 248, 132, 81, 105, 6, 99, 0, 13347, 2, 50, 25, 187, 7, 72, 2274, 2, 1454, 2, 3801, 8, 322, 6, 1, 3461, 492, 4, 28, 55, 5273, 8777, 319, 6, 10, 492, 72, 13, 22, 35], 1), ([13, 9, 5, 60, 57, 328, 220, 3, 18, 5, 89, 611, 27, 93, 286, 85, 32, 5, 286, 5738, 6, 1, 173, 1110, 2, 1, 282, 290, 109, 249, 1856, 5, 257, 750, 5252, 3, 259, 39, 6360, 4237, 3, 41, 9, 5, 286, 923, 1040, 19, 249, 6, 1, 282, 339, 2, 249, 6, 1, 282, 339, 151, 149, 1, 173, 1110, 3, 21, 59, 38, 377, 6, 98, 7, 83, 85, 3, 73, 5738, 6, 1, 831, 9, 60, 286, 42, 54, 1, 83, 117, 135, 2, 14, 9, 5, 60, 57, 1071, 3, 243, 28, 1081, 216, 21, 10, 500, 60, 78, 11, 1, 20, 2, 1, 120, 9, 60, 57, 3, 60, 1147, 4, 1499, 3, 69, 167, 10, 5, 57, 328, 220, 2, 1, 119, 9, 1372, 57, 3, 28, 34, 6, 1, 160, 472, 51, 6, 273, 46, 51, 6, 73, 2838, 2, 1, 220, 9, 60, 328, 3, 3153, 328, 11, 55, 145, 3, 4, 5, 172, 6, 85, 87, 407, 33, 3996, 39, 10, 3, 21, 450, 6, 328, 220, 87, 243, 362, 10, 2, 456, 3, 13, 20, 9, 28, 19, 295, 8, 15, 1254, 3, 21, 94, 85, 41, 44, 328, 220, 87, 243, 122, 10, 3, 17, 10, 9, 407, 34, 6, 1, 132, 328, 1338, 2, 2399], 1), ([13, 9, 62, 97, 0, 12683, 22, 2, 12, 214, 1, 22, 27, 251, 11, 99, 6429, 319, 18, 99, 0, 113, 1259, 17, 0, 2, 12, 92, 911, 14, 10, 9, 10764, 41, 0, 1, 13283, 3190, 39, 996, 11, 1, 22, 4, 28, 0, 2, 255, 54, 12, 446, 49, 1, 22, 16, 99, 919, 39, 1595, 12683, 3, 28, 48, 453, 2, 1, 109, 3, 202, 4, 420, 3, 76, 11405, 4, 472, 0, 904, 1, 0, 44, 1, 137, 6, 0, 8, 15, 40, 0, 253, 2, 38, 30, 2725, 366, 3939, 39, 3487, 339, 2, 4, 34, 3487, 134, 24, 0, 23, 191, 7, 217, 1060, 11, 1, 239, 326, 75, 72, 6, 0, 31, 0, 421, 0, 2, 29, 191, 7, 428, 198, 27, 5, 699, 4337, 664, 0, 4, 0, 7, 2069, 2, 1595, 12683, 191, 7, 0, 17, 5, 175, 24, 197, 3, 1082, 7, 94, 1321, 2568, 451, 61, 65, 320, 7, 33, 495, 23, 17, 61, 592, 357, 48, 234, 7, 151, 664, 1, 0, 9370, 245, 61, 9, 5616, 565, 5616, 5, 3164, 6, 1, 1706, 0, 11, 1, 1080, 14509, 6, 2620, 2, 61, 63, 0, 1, 22, 7, 48, 421, 4, 558, 24, 28, 48, 340, 35, 23, 255, 48, 10764, 0, 6, 0, 490, 18, 203, 48, 797, 11, 5, 17823, 1767, 2, 1565, 48, 7, 0, 7699, 3, 0, 0, 3, 0, 4041, 4, 61, 9, 0, 39, 138, 0, 48, 3245, 2490, 365, 695, 4, 4812, 5813, 35, 12683, 8, 15, 22, 6, 117, 12896, 2128, 11, 40, 1321, 8484, 4910, 210, 33, 0, 7, 55, 3, 21, 1472, 2362, 1, 0, 6, 8484, 5791, 14, 130, 28, 320, 7, 14246, 19, 146, 132, 81, 99, 5091, 3876, 11, 5, 1770, 1080, 736, 2, 0, 3, 0, 3, 4, 0, 112, 32, 2829, 4186, 1386, 11, 2620, 21, 124, 28, 32, 1, 6459, 14, 3939, 13, 22, 4, 1538, 32, 28, 84, 114, 39, 5, 2064, 2371, 6, 12269, 0, 2, 1595, 10162, 3, 1595, 14252, 3, 442, 0, 4, 442, 0, 30, 2737, 21, 28, 1348, 2, 1595, 14252, 9, 5, 1063, 543, 41, 506, 885, 372, 476, 57, 934, 24, 0, 7699, 8, 15, 0, 3, 0, 0, 8, 15, 0, 3, 0, 8, 15, 0, 23, 5, 3551, 3611, 4522, 11, 13, 22, 2, 1595, 10162, 0, 675, 7, 48, 278, 1285, 246, 81, 48, 119, 14819, 2, 37, 11, 37, 3, 1, 22, 8, 15, 2116, 1306, 11, 1, 2220, 6, 1, 919, 69, 9, 730, 890, 11, 1282, 6, 1961, 451, 2, 12, 238, 254, 1595, 12683, 56, 0, 48, 501, 1935, 11, 48, 699, 8698, 2], 1), ([13, 20, 101, 32, 84, 436, 43, 79, 132, 2, 10, 9, 5, 316, 70, 292, 11, 60, 262, 219, 3, 4, 255, 10, 16, 43, 843, 2185, 2, 1, 949, 160, 32, 11, 1, 509, 229, 327, 2796, 3, 4, 19, 1, 94, 181, 38, 90, 40, 4719, 298, 11, 13, 22, 2, 264, 36, 219, 73, 403, 191, 4590, 4, 874, 2, 1, 980, 101, 32, 84, 58, 16735, 2, 1, 6795, 6, 1, 2551, 150, 151, 7, 1, 985, 3, 41, 537, 5, 57, 70, 4, 102, 10, 2282, 2, 11, 341, 3, 45, 30, 2987, 6, 79, 132, 783, 7, 1077, 280, 612, 2], 0), ([9334, 433, 2429, 0, 1394, 8, 0, 754, 5944, 213, 8, 26, 410, 21, 10, 9, 5, 3428, 4, 432, 776, 14, 1038, 12688, 0, 718, 0, 322, 6966, 9479, 9130, 4, 1158, 4315, 2425, 11, 1, 173, 3085, 9078, 3, 34, 7, 993, 2735, 10608, 3, 1, 83, 7, 2112, 51, 1, 117, 1531, 11, 15883, 1209, 45, 136, 1, 1154, 2441, 2, 1876, 184, 697, 8, 26, 186, 14, 584, 63, 107, 38, 903, 1, 9078, 3, 949, 7, 55, 3428, 1175, 4, 497, 2, 27, 1, 0, 504, 3, 45, 8, 15, 5, 60, 1147, 19056, 141, 11, 5, 527, 1170, 3, 4315, 52, 5, 60, 1985, 0, 19363, 29, 1099, 36, 1, 94, 0, 395, 3, 11165, 0, 3, 7358, 383, 1, 94, 11890, 0, 14415, 6, 1, 3033, 24, 10, 167, 48, 169, 44, 5, 8112, 253, 655, 5634, 9, 2763, 152, 139, 1, 408, 6, 48, 424, 39, 5, 331, 1881, 23, 3, 9, 146, 6, 5, 0, 492, 48, 12, 8, 236, 3858, 6014, 35, 12, 8, 236, 834, 7, 104, 122, 78, 35, 12, 8, 236, 335, 1757, 35, 2130, 9, 3471, 11, 37, 1, 358, 783, 492, 4, 10, 8, 15, 5, 816, 49, 1, 488, 239, 0, 3, 21, 853, 13, 9, 5, 1242, 432, 4, 15232, 633, 14, 8, 15, 276, 3351, 51, 50, 25, 56, 174, 5, 551, 2279, 2, 451, 1378, 8, 15, 2408, 274, 68, 1542, 1, 610, 704, 3, 21, 240, 9130, 2380, 314, 4, 1, 364, 6, 1, 188, 30, 952, 78, 2272, 14, 8, 15, 64, 89, 454, 3, 269, 240, 1, 4799, 4006, 9, 189, 57, 482, 2], 1), ([1007, 4, 8343, 3, 21, 854, 4, 671, 2, 8, 14520, 8, 9, 166, 10437, 6098, 7, 217, 51, 42, 1, 1705, 2, 12, 8, 148, 28, 79, 6, 5, 336, 6, 1, 13947, 2, 97, 10, 16, 1, 327, 8, 10437, 8, 2, 100, 373, 1, 60, 890, 8, 4611, 8, 2, 1455, 28, 817, 1, 2390, 8, 5085, 8, 2, 21, 1, 586, 12727, 65, 32, 7, 151, 7, 8, 13045, 8, 2, 9, 45, 58, 53, 53, 156, 8, 14520, 8, 19, 77, 65, 32, 7, 762, 1141, 207, 8, 5085, 8, 4, 8, 13045, 8, 2, 165, 12, 243, 258, 10, 58, 432, 81, 8, 5085, 8, 3, 21, 12, 5550, 0, 34, 8, 15, 4215, 1295, 2, 42, 1, 12606, 10, 305, 67, 99, 2782, 884, 24, 69, 10, 8, 15, 132, 19, 10, 23, 3, 21, 675, 7, 14, 884, 1, 6115, 119, 24, 0, 0, 4, 1274, 4537, 23, 3, 56, 82, 246, 6744, 14, 25, 246, 47, 72, 1, 14520, 628, 10342, 2, 14, 8, 15, 121, 1, 250, 3299, 2, 635, 6442, 5976, 162, 3, 17, 1, 70, 1390, 10380, 27, 1, 14520, 24, 41, 30, 344, 5666, 3, 6049, 4, 7866, 23, 11, 5, 228, 756, 6, 444, 2953, 3224, 24, 55, 395, 90, 170, 23, 11, 1, 420, 1920, 525, 17, 5, 371, 6, 85, 30, 27, 1, 1346, 2, 10, 8, 15, 663, 3, 21, 2983, 1800, 1162, 7, 1, 0, 1620, 2, 1, 2214, 521, 169, 246, 2023, 4, 843, 3509, 3, 17, 38, 8, 185, 1117, 4177, 116, 19380, 49, 2, 121, 73, 3280, 4011, 42, 9, 14, 38, 56, 165, 1048, 2, 2, 2, 4, 18, 2029, 2, 1274, 12804, 4, 5, 8626, 0, 1057, 7755, 0, 24, 41, 16, 11, 8, 4611, 8, 23, 76, 1159, 822, 2, 4053, 0, 16, 3196, 11, 117, 603, 2, 593, 0, 92, 5166, 67, 2, 10343, 0, 729, 19, 1, 13694, 2], 0), ([59, 12, 97, 214, 13, 22, 10, 16, 28, 40, 1229, 34, 2, 156, 14, 12, 32, 114, 10, 179, 18, 55, 351, 27, 274, 24, 38, 74, 28, 2234, 10, 27, 1, 3206, 278, 23, 3, 62, 653, 1306, 1, 173, 2, 1, 789, 513, 9, 10519, 4, 1, 372, 30, 865, 2], 0), ([12, 1520, 1, 22, 24, 12, 91, 8, 26, 110, 10, 193, 5, 2276, 766, 133, 23, 51, 1010, 1, 411, 2, 1, 5551, 102, 1, 22, 169, 376, 2, 12, 16, 11, 199, 60, 758, 3, 10, 16, 78, 276, 155, 10, 16, 3257, 3497, 3, 224, 44, 40, 3354, 434, 6, 22, 2, 10, 74, 55, 60, 164, 395, 11, 10, 4, 264, 2880, 9, 40, 1148, 2058, 27, 1, 127, 4, 1, 85, 27, 1, 127, 206, 116, 108, 14626, 2, 10, 9, 2880, 3, 1390, 39, 1, 376, 704, 6, 0, 8, 220, 8, 299, 21, 27, 1, 228, 10, 265, 624, 17, 1173, 4, 1299, 303, 7, 773, 6, 1, 127, 11, 40, 0, 46, 2045, 5623, 103, 2, 36, 1, 576, 10, 9, 1, 1655, 7, 33, 2593, 6, 1712, 8369, 3, 29, 9, 92, 40, 796, 2320, 2, 8369, 101, 32, 102, 3468, 2338, 4, 10, 65, 33, 15108, 8, 1, 252, 22, 129, 102, 8, 2, 12, 380, 13, 22, 19, 1635, 943, 11, 1, 127, 2, 5, 2880, 21, 3834, 4, 230, 434, 6, 22, 2], 1), ([59, 13, 22, 305, 27, 647, 25, 227, 187, 7, 575, 49, 1287, 232, 6, 131, 66, 4, 657, 1, 1196, 2, 45, 8, 15, 168, 312, 133, 14, 25, 348, 7, 72, 2, 70, 9, 49, 117, 1037, 4610, 42, 0, 41, 151, 27, 5, 1231, 300, 7, 7458, 2, 371, 633, 34, 9, 0, 4854, 0, 24, 1497, 1673, 10080, 23, 41, 9, 5, 527, 5653, 4, 272, 679, 18, 31, 1629, 2, 31, 330, 9, 16770, 24, 9014, 5438, 23, 4, 61, 52, 5, 486, 1336, 653, 6, 810, 4, 38, 707, 8, 26, 84, 4532, 11, 5, 211, 66, 2, 0, 52, 84, 2825, 18, 2184, 24, 10875, 9257, 23, 41, 9, 1, 330, 6, 31, 128, 433, 2524, 0, 24, 2422, 6670, 23, 2, 38, 37, 1445, 7, 7458, 4, 1, 692, 6, 98, 749, 11, 34, 14492, 12033, 2, 2524, 4, 2184, 32, 84, 262, 7, 32, 5, 941, 4, 428, 2184, 2262, 14, 61, 9, 2801, 2, 21, 2524, 7683, 31, 828, 11, 0, 4, 676, 51, 14, 29, 8, 15, 13655, 2, 2184, 4, 0, 978, 73, 1443, 4, 156, 1, 228, 1231, 9, 11, 3421, 2, 13, 22, 9, 532, 39, 4860, 5342, 4, 29, 8, 15, 102, 5, 180, 83, 486, 416, 112, 21, 13, 9, 31, 97, 18, 5, 188, 13, 1229, 2, 479, 5342, 158, 8, 26, 127, 79, 1803, 5083, 21, 25, 56, 8, 26, 3897, 37, 1, 1694, 27, 96, 2, 13, 234, 9, 47, 28, 164, 4, 34, 6, 1, 6919, 679, 9, 14, 1, 109, 30, 37, 449, 192, 7, 5, 2708, 648, 2, 47, 95, 38, 8, 185, 37, 42, 1, 1235, 158, 8, 26, 384, 14, 38, 32, 7, 33, 2420, 4, 2783, 2, 10080, 8, 15, 113, 158, 8, 26, 32, 1, 8873, 7, 6673, 1, 0, 58, 81, 5, 2993, 2, 4, 6670, 8, 15, 113, 9, 483, 379, 4, 961, 39, 295, 481, 1, 22, 4, 34, 6, 1, 1353, 57, 395, 265, 59, 29, 1802, 295, 7, 3897, 139, 6, 96, 19, 36, 225, 34, 271, 2, 7212, 8604, 5166, 67, 17, 5, 3645, 4, 10, 8, 15, 5, 458, 3574, 4, 1114, 2183, 2, 61, 1167, 2450, 58, 81, 430, 46, 607, 404, 35, 12, 110, 61, 16, 10188, 40, 11304, 7, 4053, 4, 1673, 0, 41, 30, 4260, 1095, 19, 13, 22, 2, 1, 68, 397, 41, 165, 213, 8, 26, 7, 86, 9, 5438, 2, 75, 111, 48, 427, 58, 6587, 11, 810, 21, 13, 12729, 11, 1, 22, 9, 60, 619, 4, 5074, 2, 37, 6, 138, 160, 150, 123, 132, 4, 10, 8, 15, 283, 7, 861, 14, 38, 37, 335, 1, 234, 4, 425, 10, 2, 10, 8, 15, 5, 586, 462, 6, 66, 19, 138, 160, 21, 36, 225, 38, 193, 1473, 2, 17, 19, 1, 764, 3, 131, 28, 385, 1473, 43, 1892, 13, 34, 35], 0), ([50, 13, 20, 65, 32, 84, 11, 610, 3, 37, 1396, 65, 32, 11716, 10, 2, 1, 1109, 9, 550, 86, 3, 1, 145, 30, 4934, 532, 4, 10, 8, 15, 28, 36, 37, 164, 2, 107, 1, 20, 12, 200, 14, 13, 20, 101, 32, 84, 449, 39, 40, 10583, 13031, 3, 36, 225, 50, 25, 1163, 1, 566, 6, 829, 109, 4, 1, 16148, 27, 732, 923, 666, 515, 2, 24, 436, 3, 27, 2154, 17, 78, 2, 2, 2, 23, 1, 70, 9, 47, 1050, 1808, 1082, 7, 1, 58, 2569, 0, 0, 0, 14, 8678, 224, 36, 1, 173, 66, 2, 6, 268, 1, 937, 2291, 0, 35, 0, 35, 142, 0, 0, 0, 193, 126, 689, 2, 54, 16, 71, 1220, 19, 77, 16, 1, 199, 14, 1, 20, 560, 71, 86, 2, 14, 16, 243, 675, 7, 1, 199, 14, 97, 66, 175, 17718, 12207, 334, 71, 671, 375, 4141, 4, 100, 864, 7, 47, 308, 190, 18, 10, 3, 19, 250, 12, 1316, 2, 1, 898, 3, 197, 3, 9, 5, 20, 14, 56, 723, 33, 3571, 88, 2035, 341, 112, 18, 5, 176, 4080, 445, 11, 249, 34, 6, 98, 2, 13, 16, 60, 4440, 2, 277, 17718, 12207, 150, 32, 2903, 18, 31, 341, 112, 240, 14, 191, 7, 33, 1, 68, 518, 773, 29, 56, 1191, 2, 166, 1220, 199, 9, 14, 1, 70, 130, 28, 1033, 300, 2, 36, 441, 219, 11, 1, 792, 6, 1, 20, 3, 1, 70, 52, 7, 818, 27, 60, 921, 4, 1, 109, 100, 520, 88, 34, 166, 11, 5, 103, 14, 9, 47, 108, 1337, 2, 4, 100, 12, 32, 28, 1067, 1, 19211, 109, 3, 269, 153, 11, 1, 737, 603, 2, 63, 162, 12, 1163, 13, 34, 6, 1, 252, 3481, 112, 6, 1, 4839, 17, 78, 17, 34, 6, 1, 94, 4088, 3, 10, 9, 247, 6, 4519, 14, 1, 937, 425, 10, 2, 12, 384, 3, 86, 1254, 52, 218, 84, 1, 5389, 6, 1, 4778, 2, 2, 2, 12, 8, 148, 58, 758, 14, 1, 1396, 517, 10, 2, 38, 150, 32, 587, 132, 2, 2, 2, 1398, 280, 6, 306], 0), ([579, 35, 25, 8, 144, 47, 193, 7, 72, 13, 20, 7, 382, 267, 14, 9, 358, 18, 10, 2, 10, 373, 51, 302, 1, 66, 815, 121, 1263, 16, 262, 7, 104, 245, 106, 14, 295, 101, 362, 24, 1, 126, 0, 442, 2, 8177, 3, 524, 2, 23, 255, 10, 3518, 105, 3489, 46, 4999, 2, 177, 694, 113, 11, 1, 20, 9, 2596, 39, 3768, 3, 18, 1, 1326, 6, 0, 8, 15, 421, 3, 41, 279, 68, 0, 4, 0, 3, 857, 36, 1, 1448, 1470, 8, 15, 13, 20, 4221, 2, 7, 270, 10, 333, 3, 1, 1096, 3091, 11, 1, 22, 16, 28, 1, 119, 3, 920, 1, 1270, 3, 21, 94, 3611, 1, 501, 2, 1, 404, 75, 3664, 30, 2600, 6, 913, 2047, 3, 264, 13, 22, 1511, 1, 0, 10448, 8, 6870, 1241, 7, 1571, 139, 2, 4114, 8, 15, 1226, 3, 24, 313, 4543, 23, 167, 25, 1122, 206, 63, 402, 235, 3, 333, 95, 29, 2204, 4114, 7, 520, 190, 0, 3, 4, 68, 423, 96, 5, 6664, 1704, 59, 29, 6298, 5, 0, 0, 7, 5, 12120, 1833, 2, 92, 3, 4114, 8, 15, 3987, 9, 602, 6815, 2, 19, 153, 6, 25, 41, 214, 1, 97, 34, 3, 258, 10, 7103, 3, 4, 1324, 3, 124, 28, 72, 1, 350, 34, 3, 202, 1101, 12238, 17, 29, 9, 4874, 7, 11, 13, 20, 3, 9, 140, 5, 932, 0, 2, 29, 670, 0, 88, 313, 4543, 8, 15, 329, 0, 3, 12375, 314, 11, 4114, 8, 15, 654, 3, 63, 162, 29, 523, 14, 29, 4084, 4114, 3, 4, 670, 130, 168, 7, 0, 1, 22, 8, 15, 2158, 3, 46, 7, 1440, 1, 22, 11, 105, 103, 2, 246, 3, 29, 18103, 139, 1, 304, 39, 116, 5, 3149, 893, 0, 2, 428, 3, 75, 30, 1684, 7, 5, 2064, 2373, 6, 176, 109, 3, 147, 17, 1, 6768, 3, 3152, 3, 0, 3, 41, 2810, 7295, 11, 48, 0, 3, 69, 61, 97, 2478, 3, 100, 910, 3, 7, 4114, 3, 41, 333, 9651, 2064, 7876, 36, 2, 92, 3, 6343, 0, 1592, 11, 13, 22, 3, 13, 66, 394, 1, 3152, 3698, 36, 4114, 8, 15, 176, 7172, 369, 2, 50, 6343, 0, 2548, 8, 26, 194, 7, 82, 1, 222, 624, 3, 12, 87, 270, 10, 333, 13, 22, 10039, 35, 3677, 419, 3, 95, 1, 297, 8, 15, 0, 4545, 149, 1, 22, 3, 63, 162, 1, 234, 1716, 2], 0), ([0, 801, 18, 5, 201, 20, 5090, 846, 5, 175, 4, 100, 31, 5752, 163, 29, 9, 3342, 7, 364, 2, 13, 5090, 3, 41, 52, 55, 1388, 841, 2327, 7, 96, 3, 100, 2095, 7, 6724, 153, 190, 96, 59, 5, 528, 6, 201, 22, 844, 1381, 2041, 31, 3656, 42, 1, 10237, 29, 9, 11, 2, 1, 97, 725, 232, 9, 0, 3, 57, 501, 4, 734, 6, 1046, 19, 3930, 4916, 2, 21, 1, 22, 3214, 11, 1, 792, 24, 264, 2440, 28, 17, 79, 17, 329, 6, 325, 23, 4, 118, 71, 226, 14, 2621, 0, 6, 1566, 152, 2, 734, 6, 1, 2475, 30, 1401, 3, 17, 38, 320, 7, 32, 85, 47, 1471, 136, 1715, 59, 38, 72, 5, 4328, 6891, 46, 83, 1015, 184, 2, 1567, 75, 72, 11320, 2908, 116, 334, 2, 21, 1, 945, 4305, 14, 13, 201, 355, 87, 33, 1, 13396, 6, 37, 1, 1727, 29, 52, 259, 2, 431, 3, 9, 14, 2634, 4553, 3, 889, 29, 947, 31, 649, 394, 356, 178, 339, 41, 198, 0, 4, 111, 19818, 2, 1, 786, 6280, 6, 1, 22, 9, 551, 201, 844, 359, 2999, 5, 3656, 6, 5, 354, 5090, 2, 5, 696, 4570, 24, 6984, 67, 3139, 1996, 46, 791, 4726, 23, 65, 104, 5, 89, 22, 2, 277, 5, 995, 9, 11, 622, 50, 14, 567, 8, 26, 33, 108, 11832, 2, 531, 2694, 158, 8, 26, 217, 624, 17, 78, 11, 13292, 3, 4, 13, 22, 1542, 14, 475, 2, 1, 68, 1625, 482, 6, 13, 22, 24, 1317, 1, 470, 23, 9, 1, 1343, 1256, 6, 5, 60, 196, 4447, 7392, 2, 12, 214, 96, 4, 200, 14, 8, 15, 4447, 7392, 21, 452, 12, 16, 4150, 17, 1, 945, 118, 1067, 96, 2, 21, 254, 194, 3, 7392, 16, 1005, 2, 24, 5, 911, 7, 13, 20, 8, 15, 6910, 713, 7392, 27, 1, 986, 6, 1, 274, 3, 25, 8, 236, 2101, 58, 4047, 50, 50, 25, 65, 33, 19469, 8270, 2, 23, 50, 25, 8, 185, 5, 4447, 7392, 5353, 3, 859, 51, 13, 405, 223, 2, 853, 3, 12, 592, 1439, 13, 17, 5, 89, 5751, 19, 5, 201, 20, 7431, 2, 281, 77, 1505, 9365, 46, 3725, 3, 17, 153, 30, 203, 189, 551, 4, 87, 894, 1, 2379, 6, 66, 2], 0), ([577, 3, 347, 1, 9139, 80, 1077, 131, 301, 3181, 35, 1, 3970, 6, 1, 20, 9, 1, 97, 753, 52, 48, 643, 12488, 95, 29, 16, 4211, 27, 48, 2, 14, 8, 15, 10, 2, 0, 39, 256, 3, 565, 4653, 4, 8742, 3, 61, 5197, 4, 16925, 5, 3371, 5511, 4046, 69, 64, 34, 708, 49, 2, 2, 2, 4, 226, 248, 332, 893, 2, 55, 3029, 790, 30, 602, 570, 142, 2219, 11, 964, 6, 1, 1870, 3, 4653, 5, 0, 1, 3738, 8, 15, 4353, 2, 2, 2, 69, 100, 3660, 1, 152, 6, 1, 1870, 8, 15, 424, 2, 4653, 4, 8742, 111, 22, 42, 5, 1484, 375, 3, 4, 38, 72, 2, 2, 2, 5, 2196, 2, 38, 151, 7, 89, 10000, 7, 2889, 1, 22, 3, 3711, 14, 38, 30, 1, 68, 85, 14, 32, 5, 965, 6, 13, 60, 937, 22, 2, 4653, 2450, 18, 5, 11022, 3618, 1614, 2, 1, 0, 771, 14, 45, 16, 64, 4046, 2, 4653, 2364, 45, 16, 58, 81, 34, 397, 563, 2, 1, 0, 100, 11646, 14, 1, 4046, 1707, 1, 2907, 3, 1, 3979, 3, 4, 1, 0, 2, 7534, 3, 12, 591, 9, 1, 0, 9, 563, 2, 1595, 9695, 3, 1, 97, 753, 3, 9, 5, 0, 1698, 2, 4653, 56, 8, 26, 104, 51, 5, 3477, 3, 4, 61, 523, 3, 25, 8, 185, 108, 556, 2, 2, 2, 894, 152, 2, 2, 2, 169, 42, 5, 286, 1994, 3, 169, 42, 62, 1994, 2, 56, 256, 677, 14, 2196, 53], 0), ([47, 296, 13, 27, 274, 282, 219, 80, 288, 1, 8, 1164, 8, 103, 3, 288, 18, 1, 145, 11, 14850, 622, 24, 11, 13, 19508, 6, 5, 22, 1675, 3, 1, 470, 3, 792, 4, 137, 6, 1, 70, 18655, 23, 3, 4, 288, 18, 1, 175, 8, 15, 1628, 628, 2, 186, 485, 2, 5, 0, 781, 3, 572, 18, 58, 5083, 3, 1566, 4, 2318, 81, 94, 9712, 7110, 922, 116, 615, 502, 2, 12, 110, 13, 9, 40, 63, 58, 3623, 22, 81, 1, 3389, 9003, 3, 69, 682, 77, 27, 7, 5011, 11, 1, 97, 273, 2, 56, 8, 26, 827, 7, 72, 54, 29, 130, 18, 5, 1790, 416, 24, 4, 1790, 8578, 419, 23, 11, 31, 368, 22, 3, 7544, 2], 1), ([12, 91, 8, 26, 11687, 95, 12, 110, 10, 8, 15, 856, 21, 13, 447, 9, 71, 89, 10, 8, 15, 4491, 3, 845, 3, 796, 7, 308, 3, 4, 47, 250, 63, 50, 25, 91, 8, 26, 90, 43, 78, 2, 10, 56, 33, 47, 71, 250, 7, 104, 1, 17192, 47, 2197, 4, 3463, 3, 723, 34, 6, 1, 128, 399, 1588, 129, 35], 1), ([7287, 9, 40, 230, 22, 264, 12, 567, 8, 26, 357, 201, 46, 776, 90, 1646, 10, 2, 10, 8, 15, 58, 5, 1375, 113, 2063, 14, 191, 3041, 2228, 6, 1, 489, 2, 3691, 0, 2265, 1485, 489, 4447, 7287, 3, 41, 10918, 3, 1787, 4, 0, 31, 923, 1515, 2, 1, 22, 4426, 27, 1, 620, 207, 7287, 4, 6136, 3, 17317, 39, 0, 0, 2, 6136, 9, 224, 1, 58, 230, 113, 14894, 6, 7287, 4, 272, 288, 3951, 40, 1387, 3, 29, 1592, 7, 7287, 19, 396, 4, 5759, 5, 350, 1387, 2, 12, 110, 1, 22, 9, 3887, 95, 10, 130, 126, 7, 1995, 7287, 8, 15, 0, 161, 3, 93, 706, 210, 32, 1023, 1, 398, 757, 75, 72, 27, 278, 4, 1542, 64, 2862, 88, 7287, 8, 15, 2430, 14, 29, 101, 1004, 901, 1486, 6, 31, 1515, 2, 1, 603, 30, 78, 259, 21, 1, 70, 9, 1729, 2], 0), ([45, 32, 84, 115, 3746, 14, 12, 32, 114, 11, 69, 10, 1517, 14, 1, 1264, 16, 27, 1, 358, 504, 6, 1, 7878, 80, 1, 1729, 1289, 381, 4, 5311, 415, 217, 7, 343, 97, 4, 8003, 2, 21, 13, 9, 1, 97, 22, 14, 74, 77, 12769, 18, 2650, 107, 12, 214, 10, 2, 10, 191, 5644, 747, 7, 77, 42, 1, 1960, 1259, 11, 13, 22, 14, 54, 604, 36, 13247, 16, 36, 1, 60, 225, 40, 12834, 4, 3846, 927, 27, 1, 181, 6, 1, 2907, 4, 13754, 3, 4, 36, 1, 60, 252, 40, 491, 6, 600, 2, 44, 94, 85, 3, 59, 1, 9243, 36, 13247, 16, 9617, 12, 5338, 14, 605, 0, 16, 5, 332, 484, 7678, 41, 16, 949, 5, 1184, 1304, 2, 107, 317, 13, 3, 12, 110, 14, 0, 16, 58, 1291, 5, 1035, 12053, 4, 1410, 221, 41, 7671, 969, 1, 689, 6, 1, 1143, 2, 15, 2, 1228, 149, 31, 3601, 1611, 2, 254, 3, 45, 76, 734, 6, 2648, 36, 1, 9715, 0, 8767, 2, 21, 650, 6, 10, 16, 4264, 2, 10, 16, 429, 5420, 7, 72, 1, 399, 852, 6, 1, 85, 925, 1, 8767, 3, 37, 6, 98, 6652, 7, 33, 60, 338, 4, 5294, 2, 4, 10, 16, 0, 7, 72, 1, 12520, 10809, 6, 1, 339, 11, 2633, 6, 1, 1228, 1990, 27, 1, 13247, 2020, 3, 1, 5136, 10809, 6, 5987, 7458, 3, 4, 1, 0, 4898, 6, 1, 1387, 27, 13247, 3, 5, 4898, 1512, 39, 5, 180, 6, 1, 10631, 16081, 2, 2219, 51, 94, 11, 62, 343, 16, 6126, 9043, 4, 1826, 1143, 2, 15, 2, 7348, 42, 6126, 1158, 0, 2, 12, 5829, 19, 1, 134, 59, 12, 1446, 11, 6126, 1085, 80, 12, 8, 148, 5, 0, 3, 189, 0, 108, 2, 107, 317, 31, 1611, 27, 13, 10631, 3, 12, 637, 12, 101, 151, 152, 11, 66, 4, 2110, 19, 241, 8, 7380, 310, 35, 19, 256, 2890, 943, 11, 1, 1228, 3, 13, 9, 5, 60, 4139, 22, 3, 5, 212, 72, 2, 12, 63, 110, 13, 150, 33, 589, 11, 4171, 80, 10, 8, 15, 14, 665, 2], 1), ([12, 32, 7, 33, 4238, 1173, 18, 25, 1526, 804, 6678, 2, 12, 468, 7, 72, 13, 20, 19, 5, 60, 211, 66, 68, 95, 6, 1, 3383, 2, 158, 8, 26, 3783, 19606, 291, 550, 1279, 4, 1255, 4635, 14, 103, 53, 12, 8, 148, 11, 122, 18, 14, 253, 35, 12, 193, 54, 12, 850, 2, 2, 2, 21, 68, 363, 2, 13, 22, 150, 1606, 1397, 19, 153, 41, 362, 37, 2784, 6, 755, 1338, 46, 569, 1246, 1190, 465, 4, 705, 970, 1110, 2, 142, 12, 91, 8, 26, 990, 18, 166, 1526, 804, 3971, 41, 1528, 14, 1, 20, 9, 4088, 12, 212, 978, 14, 0, 14687, 290, 52, 958, 6, 1463, 2, 62, 290, 454, 18, 1, 22, 9, 1, 566, 6, 27, 278, 1179, 207, 1, 290, 109, 2, 45, 213, 8, 26, 5, 694, 141, 892, 7, 1, 1362, 14, 279, 1, 290, 109, 5817, 5, 576, 6, 883, 46, 63, 5, 2196, 7, 1505, 14, 38, 8, 185, 943, 11, 249, 83, 2, 11, 199, 3, 1, 68, 141, 76, 203, 1467, 5, 576, 9, 5629, 2132, 24, 59, 203, 30, 11, 1, 5519, 23, 4, 130, 28, 347, 1, 304, 382, 49, 5, 631, 122, 627, 2, 12, 159, 8, 26, 770, 1, 2604, 711, 2, 140, 3, 1, 20, 1593, 60, 164, 395, 4, 52, 5, 590, 3275, 14, 1440, 147, 40, 0, 833, 2, 12, 384, 18, 0, 14, 10, 65, 33, 60, 855, 7, 11522, 147, 5, 0, 39, 5, 15915, 345, 178, 134, 11, 138, 490, 2, 12, 382, 10, 8, 15, 5, 20, 4, 14, 8, 15, 143, 12, 1574, 10, 17, 5, 164, 831, 2, 905, 3, 1, 465, 9, 10318, 2, 45, 30, 395, 1246, 14098, 3, 164, 404, 18, 0, 8, 15, 128, 433, 3, 55, 2340, 1866, 3, 164, 1110, 1246, 1, 245, 366, 3, 4, 58, 2, 3783, 0, 8, 15, 242, 9, 408, 3329, 4, 61, 8, 15, 39, 237, 1, 289, 7, 111, 1, 20, 2, 61, 8, 15, 164, 3, 1279, 3, 291, 60, 1729, 4, 494, 3, 4, 4899, 61, 8, 15, 5, 10318, 4, 1063, 543, 41, 56, 1571, 51, 5, 1803, 4, 970, 242, 11, 1950, 3551, 2, 9479, 0, 9, 5, 494, 297, 4, 423, 5, 60, 551, 242, 2, 12, 110, 1, 737, 188, 90, 54, 38, 56, 2, 1, 581, 3, 518, 453, 3, 4, 83, 1832, 1360, 30, 71, 57, 4, 205, 5, 4285, 169, 7, 1, 22, 2, 153, 41, 362, 13, 247, 6, 451, 150, 33, 3478, 107, 1, 285, 886, 2, 10, 8, 15, 5, 57, 475, 6, 244, 57, 451, 2], 1), ([13, 9, 5, 71, 598, 20, 35, 12, 392, 97, 317, 10, 59, 12, 16, 71, 196, 4, 12, 334, 7, 111, 10, 37, 1, 66, 44, 288, 5, 1218, 2, 2, 2, 3116, 16, 62, 512, 113, 11, 1, 20, 2, 18608, 3123, 9, 71, 164, 4, 99, 71, 598, 93, 38, 989, 1, 1489, 7, 90, 37, 153, 184, 2, 515, 6, 1, 20, 30, 608, 162, 24, 147, 17, 59, 7816, 3, 1, 1171, 3, 744, 192, 1, 13715, 3, 4, 59, 3116, 744, 11, 1, 2567, 36, 1, 137, 2, 23, 12, 32, 114, 1, 350, 18608, 3123, 21, 12, 3215, 135, 99, 28, 17, 57, 17, 1, 97, 2, 3116, 9, 1, 1363, 34, 3, 7816, 9, 3, 78, 3, 7816, 3, 4, 561, 9, 1, 164, 2349, 2, 12, 380, 13, 20, 7, 256, 41, 1145, 1338, 3, 46, 687, 1489, 2, 13, 9, 34, 6, 62, 408, 725, 512, 106, 35], 1), ([12, 214, 13, 20, 59, 12, 16, 49, 0, 4, 12, 425, 10, 21, 10, 293, 8, 26, 360, 12, 296, 10, 179, 36, 1, 646, 6, 2845, 14, 12, 71, 2685, 10, 19, 54, 10, 9, 5, 1070, 49, 5, 1817, 802, 18, 5, 157, 540, 6, 1743, 13279, 5, 126, 257, 11, 622, 7, 6717, 48, 19, 48, 1935, 7, 722, 7, 1489, 2, 1, 802, 355, 3, 1274, 872, 2, 13305, 3, 9, 1787, 39, 31, 11535, 918, 1922, 3, 12525, 3, 24, 41, 9, 429, 9322, 39, 1, 103, 23, 2, 31, 1356, 100, 266, 7, 121, 324, 21, 1761, 68, 7, 174, 5, 1765, 111, 14, 9, 71, 31, 125, 8, 15, 66, 3, 69, 1274, 3, 116, 1, 0, 21, 3228, 12519, 14, 29, 9, 2159, 4, 0, 3, 5169, 96, 152, 7, 688, 2, 288, 152, 27, 688, 3, 1274, 266, 49, 3045, 1182, 27, 1, 484, 12525, 2, 13, 9, 93, 29, 265, 683, 196, 0, 3, 1, 2691, 126, 8498, 14, 56, 722, 7, 1489, 914, 1274, 2218, 7, 10777, 19, 48, 1935, 11, 622, 7, 82, 152, 36, 31, 2082, 12525, 2, 21, 0, 1274, 165, 265, 7, 455, 19, 196, 0, 4, 31, 2218, 0, 17, 29, 212, 104, 67, 31, 343, 7, 90, 54, 9, 208, 107, 0, 2262, 54, 48, 128, 433, 1274, 52, 71, 84, 769, 48, 7, 104, 301, 19, 5, 176, 4, 132, 802, 6400, 2, 156, 29, 212, 2328, 48, 42, 1, 12171, 12525, 2, 12, 140, 122, 13, 20, 63, 36, 1, 646, 6, 6087, 2, 1, 323, 4, 120, 71, 30, 186, 286, 4, 216, 42, 14, 6, 115, 83, 1215, 112, 2, 12, 269, 44, 1, 323, 14, 5, 802, 305, 1, 223, 6, 1, 1042, 19, 288, 2, 12525, 16, 63, 132, 81, 29, 16, 11, 1, 37, 2154, 151, 7, 1761, 743, 2, 11, 14, 438, 29, 1517, 186, 6599, 7, 31, 223, 6, 1042, 2], 1), ([12, 32, 111, 13, 20, 224, 177, 318, 14, 9, 16, 27, 3147, 2, 10, 9, 6, 62, 653, 14, 10, 101, 32, 84, 1134, 11, 1, 824, 3, 3646, 1, 9089, 949, 67, 7, 10, 16, 408, 2554, 2, 12, 16, 1560, 1500, 18, 1, 543, 41, 259, 8177, 2, 61, 9, 40, 1348, 543, 2, 6, 268, 3, 62, 512, 297, 9, 0, 1791, 2, 29, 9, 5, 60, 4094, 297, 4, 29, 981, 79, 58, 1076, 81, 29, 52, 1963, 2, 0, 3095, 124, 90, 5, 338, 6879, 27, 96, 3, 742, 96, 55, 6, 31, 675, 0, 2, 0, 1289, 3, 506, 77, 5, 1725, 6, 1, 569, 62, 797, 357, 7, 377, 183, 2, 38, 76, 42, 5, 780, 525, 7448, 3, 7569, 76, 38, 74, 7, 32, 73, 250, 11, 1, 0, 18669, 4, 147, 2, 12, 92, 44, 7, 135, 14, 17818, 11197, 9, 5, 1034, 297, 2, 29, 52, 258, 31, 2502, 2, 12, 8, 144, 114, 96, 11, 441, 106, 121, 29, 52, 259, 5, 2373, 6, 603, 3, 42, 8379, 7, 828, 4, 29, 52, 1, 493, 35, 456, 3, 577, 270, 0, 4169, 27, 399, 19, 2415, 2], 1), ([1396, 4, 1169, 203, 189, 79, 12330, 13, 20, 3, 21, 12, 165, 159, 8, 26, 110, 10, 16, 108, 86, 35, 63, 1, 1396, 12, 1771, 990, 18, 200, 10, 16, 583, 3, 4, 12, 1771, 6594, 4663, 201, 112, 2, 43, 13, 778, 34, 6, 117, 184, 344, 24, 457, 23, 12, 8, 148, 108, 723, 3478, 3, 4, 62, 1254, 11, 106, 52, 0, 136, 1, 161, 3, 46, 24, 280, 23, 8, 59, 5, 2667, 1732, 8, 213, 8, 26, 806, 17, 488, 17, 10, 8, 15, 102, 51, 7, 33, 2, 156, 3, 7, 33, 1159, 3, 55, 6, 1, 7642, 6, 1, 20, 30, 0, 8, 15, 28, 79, 113, 967, 3, 4, 28, 79, 545, 11, 1, 70, 2, 21, 134, 1060, 1450, 3, 93, 79, 76, 25, 1010, 42, 5, 20, 49, 5, 10357, 116, 8084, 53, 651, 98, 55, 11364, 35, 17, 5, 1055, 10357, 41, 16, 155, 13, 505, 538, 36, 318, 18, 1, 2478, 51, 3, 12, 56, 7026, 135, 1, 5694, 2520, 16, 34, 942, 0, 35, 41, 708, 53, 12, 474, 493, 44, 13, 47, 423, 77, 1, 0, 2, 414, 3, 12, 978, 12, 74, 250, 155, 13, 3, 4, 12, 91, 8, 26, 455, 93, 202, 6, 5, 5426, 14, 1292, 77, 11, 2, 23], 1), ([436, 2956, 2, 57, 188, 3, 21, 7, 877, 4, 1607, 9, 40, 518, 4, 7, 877, 2332, 4, 1607, 2332, 9, 5, 233, 6, 5, 2675, 2, 63, 402, 57, 220, 25, 32, 7, 82, 1, 2828, 4, 576, 208, 2, 4621, 28, 1527, 10, 37, 192, 45, 76, 515, 121, 12, 1451, 1406, 21, 14, 16, 36, 60, 180, 219, 2, 1, 290, 1083, 7, 77, 16, 27, 1, 845, 893, 6818, 403, 3, 14, 102, 55, 85, 11, 1, 22, 634, 2, 10, 210, 467, 89, 142, 873, 1, 234, 11, 131, 424, 21, 385, 14, 51, 4, 7, 1, 375, 9, 5, 286, 2675, 2, 4, 1, 568, 1589, 375, 170, 130, 205, 1566, 7, 180, 515, 6, 1, 22, 2, 456, 453, 16, 57, 21, 1, 234, 16, 28, 37, 14, 7, 77, 3, 21, 12, 8, 148, 254, 25, 16, 873, 1, 234, 11, 131, 424, 10, 65, 467, 57, 2, 735, 2], 0), ([6293, 10538, 9, 5, 4198, 139, 6, 2610, 42, 1, 5236, 20, 6293, 2, 12, 238, 43, 1238, 14, 38, 864, 7, 9945, 27, 1, 789, 2, 1, 127, 226, 10, 2707, 42, 1, 60, 97, 409, 3, 5, 4750, 669, 779, 8, 5309, 52, 7, 151, 149, 1, 4052, 288, 58, 7, 916, 18, 31, 178, 4107, 3, 717, 2, 2766, 1495, 2, 149, 1, 97, 117, 698, 3, 75, 916, 5622, 4074, 3, 5, 60, 1190, 2032, 41, 1455, 64, 34, 1268, 136, 48, 3, 4, 45, 9, 0, 8, 1188, 3, 5, 1998, 3, 8593, 3878, 41, 7068, 31, 2634, 539, 4, 4578, 1, 695, 2, 1, 290, 86, 460, 30, 483, 1, 0, 3, 38, 30, 0, 41, 56, 82, 7312, 88, 34, 8, 15, 1073, 3, 1324, 7981, 98, 4, 402, 484, 7986, 2, 105, 0, 41, 52, 5, 2607, 1132, 6, 641, 9, 413, 8438, 17, 5, 1530, 1619, 2, 1, 5568, 510, 1, 0, 30, 483, 0, 3, 41, 329, 1, 19927, 0, 11, 73, 2259, 360, 1, 0, 56, 82, 7312, 11, 5, 397, 8, 15, 1073, 2, 149, 1, 698, 3, 75, 635, 82, 7, 72, 10538, 3, 1, 0, 695, 10149, 6, 0, 8, 0, 1097, 3, 151, 149, 1, 0, 14, 2814, 14702, 98, 7, 83, 8342, 24, 13, 2879, 9, 483, 1, 6293, 23, 4, 38, 2365, 176, 6408, 46, 86, 460, 2, 55, 698, 30, 0, 3, 1156, 14, 38, 90, 28, 151, 149, 1, 6293, 288, 11, 1, 409, 4, 246, 761, 18, 14065, 1185, 27, 688, 2, 149, 1, 161, 3, 25, 378, 7, 72, 5, 6900, 11, 1, 10538, 695, 17, 556, 15593, 3, 4, 58, 0, 70, 404, 2, 13, 3, 11, 487, 778, 63, 58, 0, 698, 3, 69, 9, 888, 4519, 2, 62, 667, 1027, 2, 0, 94, 6, 13, 127, 9, 57, 3, 45, 30, 55, 7890, 6, 70, 404, 28, 218, 385, 4494, 67, 4, 346, 6, 40, 3950, 27, 4052, 1968, 138, 239, 180, 161, 2, 21, 140, 3, 408, 3329, 1116, 1222, 35], 1), ([12, 32, 5, 126, 9773, 6, 1428, 71, 598, 17085, 51, 45, 14, 30, 189, 79, 1659, 13733, 100, 3024, 85, 123, 49, 98, 13, 34, 9, 27, 408, 6, 62, 1087, 19, 385, 1, 680, 51, 13, 1414, 2, 13, 3038, 22, 24, 4, 12, 71, 384, 0, 16298, 3, 1460, 0, 3038, 23, 227, 33, 796, 7, 5256, 11, 1, 202, 8482, 6, 3741, 3, 21, 50, 25, 187, 146, 332, 0, 32, 7, 859, 13, 34, 51, 2, 670, 3, 12, 200, 10, 16, 458, 89, 2, 12, 150, 32, 587, 42, 1, 274, 986, 3, 964, 4, 152, 3, 14, 13, 16, 171, 7, 33, 146, 458, 286, 3, 21, 3, 38, 37, 135, 14, 73, 493, 9, 286, 7, 3892, 25, 2, 78, 13, 34, 71, 9, 458, 286, 2, 10, 8, 15, 11, 131, 406, 316, 4, 684, 4, 0, 7, 377, 25, 7, 3706, 67, 2, 322, 3, 2468, 3, 6156, 3, 4538, 3, 63, 5, 3559, 422, 6, 215, 399, 292, 7, 40, 178, 66, 7331, 616, 4, 5, 915, 221, 11, 40, 18954, 2, 348, 12, 135, 58, 53, 47, 72, 10, 2], 1), ([7747, 9, 34, 6, 153, 112, 42, 1, 7659, 14, 9, 2411, 19, 5, 995, 3, 50, 19, 64, 83, 289, 81, 277, 10, 8, 15, 66, 10, 150, 33, 229, 17, 1762, 449, 2, 1, 70, 27, 69, 1, 22, 9, 459, 9, 49, 1, 846, 6, 5, 856, 134, 2, 21, 9898, 16, 435, 5, 895, 3119, 11, 1, 490, 6, 2025, 182, 322, 1430, 18, 1, 4576, 1456, 11, 295, 8, 15, 343, 2, 11, 1, 841, 0, 5399, 6, 593, 5866, 3, 2247, 15440, 1, 175, 16, 6050, 4, 4, 15985, 307, 14, 1, 22, 101, 118, 32, 84, 102, 49, 5, 733, 837, 439, 8295, 36, 1, 66, 18, 1, 2790, 5201, 11, 273, 2, 10, 101, 32, 84, 162, 95, 1, 113, 6, 593, 1632, 9, 147, 40, 3128, 1434, 18592, 6, 267, 14, 17550, 42, 31, 10549, 0, 2, 5866, 16, 572, 11, 64, 8542, 1282, 14, 29, 16, 11, 1, 22, 3969, 19, 1, 1311, 2, 593, 196, 16, 188, 17, 1, 2462, 3, 12950, 548, 6188, 1458, 41, 4103, 1, 418, 4, 142, 5866, 16, 350, 5900, 3, 29, 690, 42, 1, 470, 1, 22, 65, 4393, 7, 1632, 2, 21, 29, 16, 8688, 8, 15, 176, 355, 39, 0, 6, 31, 372, 11, 1, 70, 6, 9960, 926, 4, 2407, 1, 137, 6, 66, 43, 29, 16, 45, 19, 945, 1068, 6264, 2, 5866, 8, 15, 181, 16, 17, 5, 5225, 4, 433, 6, 1, 216, 1651, 11, 1, 418, 3, 693, 3144, 2, 7747, 9, 28, 5, 12450, 3, 63, 162, 75, 91, 8, 26, 72, 1, 837, 10, 461, 747, 14, 4865, 9, 1, 34, 41, 1107, 1097, 19775, 3, 1, 8196, 2553, 0, 2, 4, 10, 461, 747, 7, 196, 4, 5866, 14, 1632, 9, 1, 2387, 1031, 224, 17, 845, 17, 10, 130, 7, 1, 304, 2, 10, 461, 47, 5, 870, 6, 385, 1, 1960, 2, 1632, 4940, 34, 6, 441, 1710, 1419, 6362, 1, 22, 8796, 3, 31, 128, 737, 297, 2472, 2, 162, 29, 415, 7, 9742, 0, 3, 1, 22, 16, 1632, 8, 15, 9293, 223, 2, 4307, 6344, 11880, 16, 2406, 19, 5, 1343, 181, 17, 5, 1031, 257, 19, 128, 737, 543, 3, 21, 61, 415, 7, 8925, 8020, 19, 4574, 8, 15, 7839, 2, 11, 199, 7747, 1904, 67, 439, 4574, 8, 15, 7839, 4, 415, 19, 128, 438, 4, 128, 175, 19, 15440, 7, 18479, 8987, 2, 10, 8, 15, 4692, 4230, 19, 128, 919, 4, 7747, 373, 67, 341, 179, 18, 1, 2290, 116, 4918, 27, 19212, 929, 2, 6344, 11880, 92, 74, 48, 204, 679, 27, 1, 292, 69, 13650, 136, 42, 48, 928, 125, 2, 61, 16, 272, 202, 1111, 18, 48, 100, 643, 3320, 0, 41, 16, 40, 5237, 643, 2, 29, 16, 2617, 190, 1, 292, 3488, 1331, 15440, 5, 172, 6, 679, 2, 3402, 11880, 8, 15, 181, 16, 5, 420, 34, 2, 11, 199, 1, 228, 22, 16, 326, 11, 785, 8688, 9139, 445, 11, 948, 490, 2, 593, 196, 52, 5, 602, 494, 141, 18, 953, 0, 5, 196, 541, 42, 13217, 11, 5866, 4, 1632, 8, 15, 4867, 41, 1632, 1288, 0, 2, 196, 9, 94, 12183, 11, 1435, 49, 1, 0, 884, 6, 733, 4, 93, 10, 3945, 31, 245, 17, 2388, 12115, 41, 373, 136, 11, 1, 10033, 0, 161, 2, 10, 16, 34, 6, 593, 196, 8, 15, 128, 395, 27, 278, 11, 31, 211, 649, 2, 17, 494, 5, 22, 17, 7747, 9, 3, 10, 8, 15, 66, 7, 33, 5939, 17, 5, 70, 49, 40, 0, 733, 837, 2, 269, 18, 1, 157, 846, 6, 2591, 0, 42, 1, 239, 2016, 4, 1, 4655, 49, 8295, 11, 1, 1323, 2, 14, 8, 15, 5, 22, 41, 8, 15, 66, 52, 217, 4, 224, 763, 2], 1), ([12, 16, 34, 6, 1, 115, 5531, 41, 76, 0, 51, 88, 2684, 19, 13, 36, 1, 824, 3, 63, 162, 12, 15088, 607, 3338, 19, 12289, 24, 163, 0, 23, 10268, 2, 1, 995, 8, 15, 70, 16, 11895, 3, 1, 1654, 0, 76, 854, 3, 1, 17575, 76, 0, 7, 14008, 502, 8, 15, 0, 24, 64, 12, 124, 28, 110, 1, 2111, 16, 895, 36, 37, 23, 3, 1, 0, 6, 1, 662, 8, 15, 696, 1008, 16, 660, 2401, 3, 456, 47, 5, 608, 3, 86, 995, 2, 12, 8, 236, 198, 5621, 2331, 3, 0, 3, 4, 1, 1750, 5978, 7876, 10068, 0, 136, 13, 2622, 105, 66, 2, 62, 16828, 9, 14, 115, 6, 1, 2033, 41, 44, 13, 376, 995, 30, 196, 359, 3, 69, 130, 28, 2558, 19, 344, 57, 1254, 46, 5, 303, 1106, 6, 1, 178, 2047, 69, 30, 2359, 0, 39, 502, 8, 15, 1410, 4, 0, 1953, 2, 59, 1, 3033, 319, 373, 51, 24, 12, 97, 214, 10, 11, 1, 1795, 19, 1414, 250, 23, 10, 16, 189, 1667, 1229, 4, 140, 1669, 67, 2, 25, 91, 8, 26, 32, 7, 32, 40, 136, 7838, 6, 1654, 11, 5, 20, 19, 10, 7, 33, 132, 2, 108, 79, 6, 13, 291, 1138, 2, 12, 56, 8, 26, 135, 194, 6, 93, 11830, 86, 1, 0, 560, 4, 38, 1904, 4, 5044, 190, 44, 38, 76, 11, 5, 542, 8, 15, 399, 447, 2, 430, 419, 51, 6, 306, 2], 0), ([0, 16, 40, 1462, 20, 3, 4, 12, 8, 148, 735, 14, 12, 296, 10, 2, 44, 6929, 0, 8, 15, 0, 3, 10, 2525, 635, 42, 337, 0, 566, 6, 10, 2, 10, 9, 17, 50, 1, 175, 16, 43, 11, 122, 18, 31, 170, 14, 310, 6, 2312, 1, 20, 192, 7, 5, 1012, 14, 812, 131, 689, 3, 29, 1243, 37, 6, 1, 852, 29, 74, 326, 300, 2, 45, 30, 277, 117, 598, 145, 11, 1, 440, 20, 2, 34, 6, 98, 9, 12465, 59, 15975, 9, 0, 4, 1, 375, 526, 8528, 190, 96, 2, 14, 16, 0, 777, 3, 75, 193, 10, 35, 818, 27, 577, 35, 1, 375, 391, 8, 26, 580, 8528, 190, 13, 221, 35, 45, 8, 15, 277, 34, 46, 117, 58, 598, 145, 14, 12, 2403, 49, 11, 13, 6421, 6, 7098, 3, 21, 1, 239, 8141, 141, 9, 28, 34, 6, 98, 35, 10, 210, 33, 95, 1018, 11, 1, 930, 0, 145, 3, 0, 213, 8, 26, 0, 47, 95, 1, 175, 412, 8, 26, 174, 5, 15190, 41, 660, 11041, 17393, 0, 158, 8, 26, 205, 96, 1, 208, 7, 151, 1479, 4, 104, 67, 12072, 6, 1, 2867, 555, 18, 1499, 4651, 6, 2867, 15382, 35, 4, 37, 42, 1, 173, 2463, 3, 210, 12, 714, 2, 1, 175, 150, 834, 42, 1, 321, 1103, 4888, 0, 3258, 20, 1, 6189, 35, 12, 1251, 214, 1, 2054, 8512, 141, 17, 5, 2988, 1473, 7, 1, 1080, 0, 6, 1, 892, 1852, 41, 76, 6801, 39, 1, 548, 11, 1, 1184, 0, 6, 73, 1108, 161, 2, 1, 831, 121, 3010, 9, 12323, 39, 40, 18260, 4, 4208, 9715, 6, 1, 1228, 8894, 7, 382, 191, 7, 33, 5, 740, 1127, 11, 1, 906, 1993, 3, 675, 7, 1, 590, 2249, 6, 0, 4, 12535, 41, 30, 5, 1026, 5426, 2, 1, 20, 2310, 6, 0, 4, 15755, 134, 0, 30, 117, 83, 1129, 2395, 19206, 0, 12, 91, 8, 26, 382, 2, 12, 47, 91, 8, 26, 382, 143, 85, 41, 91, 8, 26, 1048, 1, 1109, 6, 1, 20, 174, 2656, 1638, 808, 11, 13, 2, 277, 1, 252, 16, 415, 11, 1, 3734, 2, 1, 285, 6, 1, 0, 69, 4479, 259, 5, 172, 3, 9, 5, 286, 2580, 6, 1, 2389, 2365, 207, 0, 4, 15975, 2, 21, 14, 1855, 9, 28, 1, 94, 1056, 11, 906, 12214, 3, 4, 10, 9, 43, 7070, 42, 2354, 1386, 3, 14, 107, 0, 232, 6, 136, 259, 1019, 2986, 3, 41, 2117, 93, 1, 175, 496, 7, 0, 1, 70, 35, 53, 175, 0, 0, 6, 939, 3898, 307, 14, 45, 16, 40, 3822, 5763, 754, 176, 906, 934, 7, 2681, 906, 1169, 3, 4, 2320, 73, 106, 19, 1843, 22, 0, 622, 7, 3313, 4732, 1961, 1984, 2, 13, 500, 3, 264, 10, 158, 8, 26, 104, 287, 3, 95, 1, 222, 6, 40, 1961, 20, 4617, 9, 7, 4145, 7, 1, 182, 54, 247, 6, 106, 30, 116, 102, 11, 83, 0, 247, 6, 106, 85, 111, 11, 153, 2877, 2, 435, 28, 0, 4, 1, 44, 2], 0), ([25, 592, 33, 317, 1, 173, 20, 50, 25, 159, 8, 26, 2192, 67, 11, 2005, 24, 46, 947, 36, 225, 306, 161, 45, 3, 44, 77, 23, 2, 12, 91, 8, 26, 123, 50, 10, 87, 129, 104, 10, 987, 718, 2651, 8754, 24, 12, 1416, 13309, 4, 0, 133, 23, 2, 25, 592, 5947, 99, 247, 6, 250, 80, 177, 400, 9, 955, 24, 93, 115, 85, 987, 1422, 65, 382, 1, 4539, 11, 0, 3, 1, 400, 6, 34, 6, 1, 3523, 0, 53, 23, 2, 197, 7101, 0, 24, 1394, 53, 23, 0, 9, 43, 316, 3, 12, 224, 2403, 7, 7736, 59, 12, 214, 48, 2], 1), ([12, 32, 118, 163, 114, 5, 20, 186, 44, 13, 3, 920, 17, 164, 2, 12, 1451, 62, 0, 2321, 139, 4, 32, 296, 10, 0, 2, 0, 12, 238, 155, 10, 156, 2, 12118, 42, 15381, 9, 895, 108, 2, 536, 50, 25, 118, 425, 10, 3, 2335, 10, 51, 131, 2321, 3, 25, 32, 64, 1254, 2, 1, 20, 2079, 0, 24, 1632, 10415, 23, 272, 47, 3161, 67, 18, 31, 1008, 1609, 7, 0, 24, 5397, 15634, 23, 4, 0, 24, 8119, 0, 23, 19, 347, 11, 1428, 51, 609, 54, 61, 229, 18, 13936, 24, 0, 0, 23, 3, 4, 18, 1, 347, 6, 0, 24, 1444, 0, 314, 23, 38, 90, 47, 14, 2, 1, 0, 13780, 141, 4, 1, 141, 18, 0, 36, 1923, 3739, 76, 570, 2], 1), ([44, 1, 892, 11470, 27, 13, 22, 3, 12, 108, 258, 535, 11, 1672, 36, 219, 302, 13, 20, 2, 531, 34, 3707, 93, 5, 22, 6, 147, 14778, 7966, 265, 88, 2061, 2, 42, 1, 97, 576, 59, 260, 1879, 5178, 67, 11, 31, 176, 866, 1621, 42, 5, 1043, 6, 6381, 6302, 14987, 18, 0, 3446, 24, 54, 2388, 0, 1582, 8, 26, 74, 14, 34, 23, 3, 99, 747, 75, 30, 11, 1111, 2, 4, 10, 158, 8, 26, 82, 79, 132, 2, 18167, 152, 7, 2894, 3690, 3, 75, 2356, 5, 182, 121, 1263, 2450, 206, 0, 3, 4, 6606, 27, 1, 3119, 6, 1, 2388, 2779, 322, 2, 0, 151, 7, 369, 7, 834, 49, 1, 2779, 322, 2, 1, 0, 11, 1, 8194, 12567, 521, 1882, 7, 73, 2779, 322, 0, 2, 0, 30, 3064, 51, 19, 153, 41, 1093, 11, 1, 2779, 322, 2, 1, 525, 9, 5079, 207, 153, 41, 263, 75, 150, 392, 4, 153, 41, 187, 7, 817, 2, 2, 2, 1, 2779, 322, 2, 177, 5921, 4, 2270, 9, 9325, 18, 1156, 14, 11097, 152, 7, 1, 2779, 322, 2, 1, 13789, 27, 1, 0, 6, 1981, 7774, 2985, 14, 1, 22, 9, 5, 10744, 6, 1, 4972, 11, 696, 3690, 2, 1, 68, 4186, 69, 4003, 77, 9, 14, 11, 1005, 271, 9326, 2270, 9, 840, 7170, 39, 34, 3119, 329, 10268, 2, 50, 99, 3689, 9, 7, 1439, 55, 422, 6, 2862, 88, 3690, 8, 15, 3040, 18, 99, 509, 3, 10, 946, 3068, 2, 10, 9, 3366, 93, 180, 2388, 112, 32, 3274, 18, 1, 2388, 2779, 322, 4, 99, 0, 2, 197, 10, 87, 198, 5, 22, 6, 5, 89, 761, 58, 4037, 4, 1656, 81, 13, 34, 7, 377, 183, 235, 49, 1, 5990, 299, 6, 147, 5, 8091, 1508, 27, 1, 2817, 8, 15, 5933, 2, 19, 153, 321, 764, 41, 32, 4236, 1, 22, 7406, 1, 848, 6, 2894, 3690, 10, 158, 8, 26, 2, 2894, 3690, 16, 5, 488, 3, 4189, 14673, 5493, 6, 901, 12355, 4, 4661, 42, 69, 196, 85, 13009, 11, 73, 18462, 2, 197, 45, 16, 58, 81, 34, 3119, 6, 2270, 2], 0), ([11, 31, 807, 22, 2049, 0, 3, 8, 1444, 2150, 841, 1028, 7, 15460, 370, 8, 15, 1090, 6, 0, 39, 0, 42, 1, 2013, 3432, 2125, 11, 2568, 22, 2, 197, 3, 11, 43, 402, 3, 841, 5905, 5, 237, 58, 14951, 837, 29, 0, 0, 8, 204, 2013, 6, 521, 7, 1, 222, 6, 0, 2, 1, 898, 53, 7992, 4185, 109, 4, 40, 8187, 2090, 234, 0, 1, 188, 88, 5, 8964, 6, 10500, 3, 1126, 5223, 11, 5, 22, 14, 9, 3331, 1369, 7, 111, 2, 91, 8, 26, 33, 14335, 39, 105, 6, 1, 1128, 800, 8796, 39, 0, 8, 249, 744, 88, 34, 6, 117, 7633, 2, 11, 34, 3163, 24, 997, 2, 1454, 2, 3, 208, 133, 27, 804, 2, 3021, 23, 3, 25, 174, 0, 41, 30, 43, 0, 14, 40, 2073, 113, 56, 33, 2125, 15075, 206, 4716, 4442, 4, 5, 9795, 275, 3, 14, 38, 826, 9805, 1, 8978, 6, 841, 8, 15, 464, 2157, 2, 27, 1, 83, 568, 3, 25, 174, 20, 1396, 41, 32, 333, 12340, 14, 10, 8, 241, 33, 0, 7, 205, 0, 8, 1, 13670, 8113, 14, 10, 981, 107, 37, 3, 10, 8, 15, 40, 4855, 0, 22, 102, 39, 40, 1670, 0, 1661, 2, 2, 2, 13156, 3345, 19, 156, 2, 418, 475, 290, 113, 3304, 841, 24, 498, 0, 23, 2, 3031, 841, 14227, 5, 10015, 7523, 18, 3304, 3, 39, 765, 0, 8, 11, 147, 5, 103, 14, 3304, 118, 712, 15075, 889, 29, 9, 344, 0, 46, 4275, 2, 72, 3304, 0, 31, 351, 8, 1440, 2, 16428, 2, 72, 3304, 1268, 342, 1, 2086, 4, 16000, 2, 16428, 2, 24, 4275, 4500, 2, 23, 72, 3304, 2764, 67, 31, 340, 8, 15, 1822, 2, 16428, 2, 72, 3304, 18142, 2, 16428, 2, 72, 3304, 7737, 2, 16428, 2, 7771, 3, 12, 591, 50, 3304, 9, 389, 6, 0, 5336, 2, 90, 25, 110, 53, 12, 8, 148, 28, 254, 2, 16428, 2, 16428, 2, 47, 7, 33, 13670, 3, 841, 3954, 183, 7, 3304, 8, 15, 340, 3, 0, 841, 24, 0, 436, 23, 2, 481, 1, 20, 3, 2920, 3304, 333, 0, 46, 7369, 3, 442, 2, 841, 0, 0, 7369, 2, 11, 199, 3, 13, 9, 0, 8, 15, 3698, 223, 11, 0, 8, 0, 0, 4, 4275, 2, 7771, 3, 12, 591, 50, 0, 9, 40, 2073, 340, 18, 40, 4245, 1280, 2, 90, 25, 110, 53, 12, 8, 148, 28, 254, 2, 16428, 2, 7252, 2, 50, 841, 8, 15, 4185, 109, 91, 8, 26, 8409, 25, 3, 31, 70, 381, 87, 2, 916, 0, 24, 1276, 13333, 23, 4, 5005, 24, 313, 0, 23, 3, 117, 109, 14, 1883, 11, 13, 22, 4130, 19, 1, 1230, 6, 8528, 5, 0, 4, 1081, 4739, 122, 70, 88, 1, 22, 2, 25, 72, 3, 841, 1886, 11, 22, 369, 14, 177, 57, 20, 212, 1416, 55, 422, 6, 0, 6667, 3, 4, 138, 117, 109, 1677, 96, 7, 6822, 1, 11304, 2, 0, 4, 5005, 8, 15, 7764, 4181, 10667, 403, 2939, 6, 18821, 6190, 7983, 11, 5, 2770, 0, 35, 8, 0, 35, 8, 24, 511, 916, 23, 24, 1725, 1941, 23, 24, 5423, 4500, 23, 2, 21, 364, 6397, 3, 1141, 51, 45, 3, 3304, 9, 0, 142, 13, 37, 311, 273, 2, 14, 1118, 0, 920, 5005, 9521, 11, 105, 103, 1568, 7, 1, 22, 8, 15, 120, 130, 28, 0, 77, 43, 79, 17, 841, 8, 15, 12259, 27, 1, 94, 5418, 20, 8258, 7, 5572, 31, 0, 2, 4, 1702, 77, 3, 1, 10667, 711, 9, 47, 1, 6673, 6, 1, 11570, 2, 904, 1, 137, 6, 1, 22, 3, 75, 174, 0, 841, 2724, 7, 1221, 31, 1837, 0, 4, 4275, 7, 3304, 8, 15, 1008, 3, 11087, 24, 10238, 0, 23, 3, 11, 54, 12, 238, 254, 841, 1059, 7, 33, 5, 2914, 576, 2, 54, 5, 823, 17, 0, 0, 5, 12684, 70, 49, 1, 11564, 7, 8465, 31, 222, 3, 3219, 795, 51, 6, 4785, 8, 15, 11829, 3, 31, 597, 0, 11, 14, 0, 0, 103, 2, 1, 375, 7329, 88, 40, 5801, 326, 6, 11087, 8, 15, 0, 910, 2, 75, 244, 5139, 7, 1789, 260, 511, 3, 565, 75, 977, 14, 0, 8, 15, 1721, 167, 64, 287, 1568, 2, 21, 566, 6, 2318, 159, 8, 26, 580, 841, 42, 261, 1, 20, 3, 43, 143, 65, 29, 651, 13, 602, 10214, 141, 53, 107, 37, 3, 1, 182, 56, 218, 357, 166, 1470, 2, 78, 3, 25, 135, 3, 1, 20, 210, 33, 1369, 3, 21, 36, 225, 10, 0, 33, 5, 1832, 887, 367, 135, 3, 44, 3, 0, 1393, 210, 217, 2, 8, 735, 3, 27, 5, 1832, 3288, 3, 0, 8, 9134, 17, 78, 2, 841, 8, 15, 7996, 30, 2132, 4, 0, 54, 126, 5263, 3052, 11, 1, 22, 36, 37, 3, 21, 12, 8, 148, 254, 841, 200, 38, 65, 320, 3405, 2, 7, 104, 2208, 411, 3, 177, 2134, 9, 344, 0, 46, 0, 2, 264, 1, 705, 13105, 16, 4912, 11, 9470, 3, 826, 1, 0, 2091, 159, 8, 26, 104, 10, 1603, 1, 0, 8, 292, 2, 11, 705, 6, 1, 22, 8, 15, 2027, 0, 3, 737, 297, 2971, 0, 3, 41, 305, 3304, 8, 15, 128, 433, 1919, 3, 4512, 2448, 78, 2, 264, 0, 9019, 1035, 3, 25, 56, 8, 26, 71, 1694, 96, 59, 841, 8, 15, 234, 2939, 4130, 6, 0, 4, 4275, 2, 0, 8, 0, 3, 27, 1, 83, 568, 3, 127, 64, 9224, 11, 73, 4511, 1568, 2, 12, 32, 28, 114, 5, 22, 17, 86, 17, 0, 8, 11, 5, 60, 211, 66, 2, 4, 12, 374, 5312, 14, 12, 87, 28, 72, 5, 22, 17, 86, 17, 0, 8, 19, 186, 55, 66, 3, 17, 78, 2, 577, 90, 28, 462, 72, 10, 125, 9, 473, 103, 108, 341, 2, 1298, 25, 2], 0), ([1626, 35, 1626, 35, 0, 201, 934, 0, 3, 93, 210, 75, 347, 25, 53, 6148, 1112, 0, 35, 12, 384, 5002, 3, 62, 400, 9, 0, 13404, 3, 673, 77, 39, 62, 0, 1579, 2, 241, 35, 777, 442, 2, 1579, 2, 241, 3, 54, 191, 7, 33, 1, 454, 53, 78, 1, 800, 27, 62, 2264, 20, 9738, 347, 76, 37, 1577, 4, 2434, 4, 3, 2037, 3, 12, 535, 244, 44, 62, 649, 52, 114, 132, 490, 17, 78, 2, 777, 442, 2, 1579, 2, 241, 3, 4, 143, 90, 25, 1316, 14, 9, 53, 78, 3, 12, 6111, 1984, 4, 5, 14731, 1304, 2602, 1162, 7, 62, 2923, 4, 1580, 20, 49, 3669, 13689, 6, 9508, 0, 5, 22, 830, 4, 166, 34, 49, 6647, 4758, 10563, 3192, 85, 11, 5, 329, 36, 1, 1224, 6, 1, 1170, 3, 19, 69, 12, 4073, 1, 323, 42, 4798, 4687, 3, 21, 9738, 347, 2979, 27, 13404, 118, 343, 35, 64, 64, 3, 442, 2, 1579, 2, 241, 3, 151, 1479, 4, 377, 77, 54, 1, 22, 9, 49, 2, 6148, 3, 10, 8, 15, 49, 5, 19025, 3317, 1623, 381, 6662, 5, 1279, 2484, 4, 846, 1, 85, 3236, 48, 2, 3946, 3, 12, 72, 2, 14, 833, 130, 840, 467, 5, 126, 663, 4, 28, 17, 0, 17, 9508, 46, 11987, 3, 21, 12, 1316, 45, 30, 2594, 1386, 11, 131, 22, 3, 208, 53, 436, 1112, 3, 254, 6148, 3, 54, 90, 25, 384, 39, 14, 53, 78, 3, 213, 8, 26, 1, 1623, 381, 3619, 19, 166, 247, 6, 2071, 53, 46, 383, 10, 8, 15, 37, 47, 1402, 11, 1, 343, 6, 131, 636, 2009, 53, 6148, 3, 6363, 10, 8, 15, 47, 49, 5, 1623, 171, 12500, 4, 5099, 85, 18, 1, 12540, 3, 0, 3, 8281, 46, 63, 1831, 12132, 2, 230, 3, 442, 2, 1579, 2, 241, 3, 21, 93, 90, 25, 1221, 37, 13, 2233, 493, 7, 1, 503, 36, 1, 137, 6, 1, 20, 53, 25, 72, 3, 12, 2226, 1, 1345, 16541, 0, 120, 567, 8, 26, 33, 14, 665, 46, 3318, 3, 43, 12, 47, 8430, 27, 0, 37, 631, 0, 12, 101, 110, 6, 2, 1623, 9962, 53, 54, 90, 25, 384, 53, 25, 123, 3, 44, 1881, 4602, 149, 1, 8159, 3, 0, 9738, 7036, 3, 4, 0, 0, 88, 1, 951, 35, 60, 216, 3, 442, 2, 1579, 2, 241, 3, 21, 28, 609, 2945, 4, 17, 40, 2357, 175, 25, 212, 123, 14, 3, 11, 1, 137, 3, 85, 519, 5, 3843, 0, 6, 37, 138, 706, 2, 436, 3, 21, 45, 9, 35, 10, 37, 52, 7, 90, 18, 1577, 4, 0, 1566, 3, 50, 12, 392, 4938, 35, 10, 8, 15, 37, 5, 233, 8151, 3, 12, 978, 2, 7777, 12, 72, 2, 436, 78, 3, 17, 38, 218, 135, 3, 5, 57, 1403, 438, 3796, 27, 58, 788, 81, 47, 1, 70, 2, 124, 25, 36, 225, 1555, 55, 6, 131, 2039, 13682, 88, 1, 22, 3, 43, 14, 131, 450, 36, 225, 2517, 131, 445, 53, 12, 738, 35, 1619, 708, 12, 738, 3, 21, 1, 1596, 4, 10125, 30, 333, 28, 1580, 256, 35, 14, 8, 15, 5, 2232, 840, 3, 442, 2, 1579, 2, 241, 3, 21, 54, 49, 396, 53, 295, 1145, 5, 57, 4270, 6, 4794, 4, 1014, 11, 73, 201, 112, 4, 25, 307, 639, 1, 22, 6166, 27, 5, 1279, 1655, 2484, 11, 8672, 35, 414, 3, 21, 21, 54, 3, 442, 2, 1579, 2, 241, 53, 78, 3, 7, 377, 25, 1, 860, 3, 75, 247, 6, 6943, 9738, 347, 17, 40, 3006, 776, 18, 3522, 638, 6, 3783, 1839, 27, 1, 986, 3, 21, 11, 623, 45, 8, 15, 64, 396, 11, 1, 22, 4, 3783, 63, 4584, 7, 151, 4796, 2, 442, 2, 1579, 2, 241, 35, 156, 12, 8, 148, 71, 658, 3, 14, 8, 15, 47, 9059, 5687, 85, 139, 4, 10714, 98, 18, 2634, 4305, 35, 12, 123, 3, 12, 123, 3, 4, 12, 8, 148, 2869, 3, 21, 12, 47, 468, 1263, 7, 820, 9738, 347, 4, 122, 10, 35, 78, 3, 7, 2203, 67, 12, 56, 5190, 25, 39, 614, 14, 177, 645, 175, 9, 5657, 7, 5, 180, 0, 4017, 206, 10, 7488, 6828, 649, 1174, 3, 21, 33, 58, 15369, 368, 66, 4, 90, 55, 2136, 97, 3, 777, 442, 2, 1579, 2, 241, 53, 12, 87, 1298, 25, 35, 25, 8, 185, 2382, 2, 377, 77, 3, 32, 25, 193, 105, 988, 19, 7609, 106, 473, 53, 1112, 3, 17, 5, 513, 5, 199, 3, 12, 90, 35, 12, 16, 529, 49, 261, 5, 4575, 18, 5, 3930, 10826, 1433, 35, 158, 8, 26, 14, 467, 1481, 53, 5002, 53, 5002, 53], 0), ([838, 218, 191, 7, 33, 15491, 2, 11, 1915, 3, 13, 227, 28, 33, 1, 418, 3, 21, 11, 2162, 4, 79, 58, 43, 11, 1, 2547, 838, 52, 5, 202, 1750, 359, 4159, 27, 10, 2, 2005, 9, 243, 34, 6, 1, 58, 0, 2877, 3, 352, 6, 2047, 17, 0, 3, 7053, 3, 1975, 2682, 3, 0, 4, 43, 27, 24, 50, 25, 8, 144, 118, 335, 138, 3, 10, 8, 15, 28, 108, 538, 2, 45, 8, 15, 64, 0, 5861, 27, 98, 4, 38, 91, 8, 26, 1683, 1, 0, 6, 12950, 46, 6057, 23, 10, 191, 1247, 5, 20, 44, 13, 34, 5166, 67, 11, 2005, 2, 10, 3367, 62, 15711, 1405, 6, 1, 718, 17, 0, 3, 0, 4, 1063, 0, 2, 3295, 45, 8, 15, 92, 5, 0, 9127, 51, 45, 7, 17232, 14, 611, 80, 191, 518, 9, 189, 79, 1961, 2, 536, 3, 17, 25, 227, 32, 8294, 7022, 9, 5957, 4, 718, 2, 50, 25, 8, 185, 5, 1164, 397, 25, 87, 82, 1715, 39, 13, 2, 45, 8, 15, 64, 348, 19, 14, 197, 35, 3712, 10, 8, 15, 598, 3, 19001, 0, 1256, 45, 8, 15, 5, 57, 776, 4, 5, 57, 20, 456, 2, 14, 16, 34, 6, 62, 3584, 19, 13, 20, 2, 10, 8, 15, 43, 796, 1609, 1, 2109, 838, 7, 5, 7180, 3, 79, 44, 10790, 195, 1188, 779, 30, 402, 18, 73, 8845, 11664, 2, 12, 16, 1010, 5, 1401, 3, 531, 356, 4, 28, 60, 1800, 20, 3, 21, 3295, 12, 16, 358, 2, 12, 65, 32, 517, 10, 536, 19, 1, 15661, 493, 3, 21, 10, 16, 57, 14, 10, 16, 2383, 27, 14, 648, 17, 78, 2, 911, 12, 8, 144, 114, 1, 718, 7651, 69, 16, 588, 17, 237, 17, 12, 101, 72, 2, 610, 227, 33, 58, 230, 54, 18, 3744, 4, 267, 2, 5, 464, 680, 6, 2656, 7, 1, 838, 2, 10, 16, 1140, 2, 4289, 3, 10323, 3, 338, 3681, 3, 1363, 14133, 24, 511, 19, 475, 560, 60, 57, 3, 69, 9, 283, 7, 90, 23, 4, 43, 2085, 1373, 12, 452, 44, 10867, 51, 13, 9, 43, 1667, 1229, 35, 2, 100, 179, 3, 12, 71, 44, 838, 4, 12, 1061, 1, 772, 1, 1120, 270, 192, 3, 43, 62, 7139, 9, 5, 233, 5130, 2, 57, 20, 536, 3, 407, 466, 664, 10, 8, 15, 7180, 2], 1), ([13, 20, 9, 34, 6, 1, 252, 220, 106, 12, 32, 129, 114, 2, 12, 733, 138, 9011, 7295, 11664, 2, 47, 406, 10, 85, 1, 961, 465, 52, 84, 15637, 473, 2, 104, 146, 176, 19, 288, 2, 37, 138, 176, 1338, 30, 47, 488, 2, 4, 596, 51, 6, 5502, 2122, 0, 9, 28, 1665, 19, 5, 477, 223, 255, 2, 12, 448, 29, 56, 11161, 152, 42, 13, 376, 20, 2, 4, 87, 0, 113, 9, 47, 1050, 86, 2, 1290, 87, 3, 124, 25, 335, 1, 234, 2, 1, 120, 9, 374, 1, 252, 129, 449, 2, 156, 25, 377, 77, 50, 13, 9, 915, 2, 24, 13, 9, 1, 20, 23, 5621, 0, 8, 15, 1728, 1226, 1197, 9, 1644, 4, 1, 245, 748, 13729, 3, 1720, 7, 936, 19, 1, 540, 4968, 43, 5621, 9, 3567, 13, 642, 2011, 7, 3083, 301, 19, 1197, 2, 68, 43, 14, 5621, 56, 1693, 1197, 11, 5, 555, 4, 1897, 31, 0, 2, 414, 1548, 1, 20, 3, 25, 377, 77, 3, 65, 1143, 1077, 13730, 2, 4165, 7, 72, 14, 434, 6, 583, 35, 2519, 47, 488, 0], 0), ([1, 137, 6, 11376, 3, 17, 10, 150, 1328, 7, 786, 4355, 195, 3427, 18391, 3549, 3, 9, 1291, 7, 427, 6, 2651, 7807, 2602, 2, 1, 22, 1099, 0, 5393, 39, 8110, 3, 7333, 1399, 3, 4, 1080, 0, 27, 1, 16340, 1023, 39, 0, 0, 11, 1, 10514, 1030, 2, 54, 75, 32, 1023, 11, 842, 9, 5, 273, 18, 650, 6, 1, 0, 6, 630, 125, 3, 4, 650, 6, 1, 0, 6, 2398, 564, 125, 2, 13, 9, 1, 0, 14, 9, 3342, 51, 19, 11376, 3, 4, 1, 22, 1083, 8, 15, 27, 1, 14649, 323, 6, 3541, 2, 670, 3, 11, 1, 94, 786, 287, 3, 14, 1, 182, 9, 15069, 46, 36, 10, 8, 15, 5257, 3541, 365, 3, 4, 59, 75, 977, 13, 11, 389, 3, 645, 3927, 1318, 87, 33, 11, 882, 3, 724, 39, 260, 128, 627, 46, 874, 8546, 683, 183, 39, 5, 482, 6, 573, 63, 1, 0, 6, 0, 412, 8, 26, 1646, 7, 183, 2, 50, 168, 58, 3, 1, 137, 6, 11376, 87, 0, 1, 503, 14389, 11, 73, 7306, 3, 1860, 5, 6656, 554, 2, 13, 9, 3123, 7, 562, 2, 10, 8, 15, 5, 3806, 9201, 27, 260, 6728, 103, 6, 125, 2, 1, 0, 1594, 602, 11, 249, 5385, 764, 2593, 5393, 6, 1, 22, 2, 12, 0, 115, 13701, 764, 0, 1, 22, 17, 6768, 4028, 0, 5, 0, 1780, 22, 2, 54, 38, 1805, 7, 1163, 9, 14, 5, 2018, 44, 13, 9, 37, 108, 1164, 59, 147, 5, 740, 1901, 43, 4134, 283, 7, 1, 3927, 6, 1, 3371, 2193, 6, 1, 4778, 2, 13, 9, 1, 860, 3, 4, 17, 5, 1260, 5625, 564, 3567, 3, 12, 56, 377, 25, 14, 75, 132, 82, 2437, 156, 3, 95, 54, 6377, 561, 75, 32, 6, 9792, 482, 6, 125, 11, 13, 0, 0, 6, 0, 5813, 9, 11853, 4732, 81, 5, 1352, 6, 85, 14673, 39, 1, 328, 3281, 2], 1), ([97, 3, 281, 77, 135, 14, 264, 12, 1299, 1061, 1583, 1541, 8, 15, 170, 3, 12, 8, 144, 84, 1472, 10807, 11, 62, 3154, 7, 1068, 736, 3, 715, 6, 1, 2413, 3, 4, 14263, 4, 16694, 2, 12, 1299, 2537, 58, 1190, 220, 3, 4, 9449, 1594, 1, 3256, 18, 1152, 7, 15549, 2, 11, 5, 699, 182, 121, 1, 13396, 6, 14263, 4, 16694, 8, 15, 2686, 3, 0, 8032, 3, 4, 2718, 0, 30, 1, 13900, 6, 5, 7279, 3, 5996, 3, 0, 1779, 0, 5020, 844, 3, 121, 177, 0, 221, 8, 15, 1040, 461, 623, 3, 5, 134, 18, 63, 890, 1656, 9, 3820, 4, 3418, 6, 687, 856, 3, 4, 1, 2741, 4949, 311, 136, 2, 4, 13, 182, 9, 92, 897, 164, 2, 414, 3, 10, 8, 15, 619, 14, 3179, 8, 15, 1686, 2, 3, 0, 3, 0, 4, 0, 6907, 87, 33, 6522, 36, 1, 2211, 1161, 361, 73, 6458, 11, 1, 345, 0, 2, 45, 76, 55, 1029, 5490, 18, 1, 22, 3, 4, 1, 620, 207, 1, 66, 13223, 80, 1, 83, 116, 40, 890, 1656, 253, 41, 8, 15, 3676, 49, 48, 1364, 8, 15, 24, 7449, 8, 15, 23, 12358, 80, 101, 32, 84, 3875, 1, 1179, 9, 45, 2, 4, 45, 91, 8, 26, 320, 7, 33, 108, 115, 366, 11, 1, 699, 2, 12, 124, 546, 18, 5, 9344, 27, 62, 406, 3, 21, 1, 549, 9, 5, 233, 132, 81, 1, 1841, 2, 1324, 3, 10, 8, 15, 62, 247, 6, 3725, 22, 3, 4, 10, 87, 33, 250, 7, 11349, 27, 399, 2, 1115, 35, 0, 749, 149, 1, 886, 19, 40, 1616, 141, 2], 1), ([5889, 3391, 9, 754, 62, 512, 538, 1391, 8, 17158, 950, 8, 15, 201, 1482, 2, 5, 528, 6, 196, 85, 30, 4736, 1141, 3, 34, 1821, 11, 1, 527, 1479, 3, 195, 14, 527, 52, 5, 1098, 3, 4, 260, 22, 2012, 18, 1, 196, 134, 3, 2631, 3, 3542, 1, 7134, 342, 284, 19, 5, 2102, 1533, 2, 29, 676, 5, 1496, 2443, 273, 3, 4, 255, 5726, 2380, 4, 10973, 3, 4, 640, 67, 18, 5, 434, 6, 11318, 149, 31, 3264, 19, 31, 1689, 2, 342, 265, 1, 364, 6, 1, 196, 1450, 24, 11, 5, 0, 154, 23, 4, 38, 1272, 67, 2631, 8, 15, 1008, 3, 4, 174, 13, 60, 173, 273, 3, 15785, 8, 15, 0, 3, 46, 55, 147, 154, 2, 2, 4, 100, 442, 2, 15785, 545, 342, 142, 1, 522, 30, 3051, 5, 14874, 11, 1, 7234, 2, 6, 268, 3, 1, 0, 154, 52, 7201, 1093, 36, 14, 222, 3, 43, 1015, 442, 2, 15785, 24, 3048, 10892, 23, 1542, 31, 347, 2, 442, 2, 15785, 52, 5, 3995, 3, 18, 734, 6, 4417, 2767, 3, 4, 29, 466, 11, 1, 3995, 21, 510, 9, 5, 202, 329, 3, 121, 29, 523, 17533, 466, 2, 4, 41, 9, 17533, 53, 143, 3, 17533, 17521, 3, 29, 523, 2, 2, 2, 21, 50, 10, 76, 17533, 17521, 3, 38, 8, 241, 37, 243, 33, 17160, 2, 1, 522, 30, 309, 625, 142, 15785, 266, 7, 347, 18, 12593, 1, 527, 3, 21, 6, 268, 3441, 226, 1, 132, 6, 34, 195, 61, 266, 7, 3991, 3, 4, 676, 1, 329, 389, 6, 942, 13100, 4, 34, 246, 1215, 34, 750, 2, 2, 2, 17533, 2, 54, 1045, 9, 5, 246, 942, 318, 6, 2071, 17, 34, 39, 34, 3, 38, 8, 185, 578, 4190, 39, 17533, 3, 41, 523, 29, 8, 15, 15785, 8, 15, 599, 2, 34, 257, 24, 3107, 930, 23, 9, 1697, 7, 5, 0, 2738, 3, 69, 1939, 11, 48, 325, 59, 10, 3598, 67, 48, 951, 5561, 2, 36, 105, 1069, 45, 8, 15, 660, 6, 5, 974, 7, 13, 4, 247, 24, 21, 915, 23, 442, 2, 15785, 9, 28, 609, 54, 29, 712, 7, 33, 2, 5, 57, 3, 942, 538, 1391, 8, 15, 201, 505, 3, 4, 734, 6, 13100, 104, 19, 5, 60, 942, 848, 2, 976, 51, 6, 306, 2], 1), ([12, 10013, 812, 535, 3881, 538, 239, 318, 155, 13, 154, 2, 49, 1, 68, 154, 12, 101, 135, 57, 49, 13, 4293, 22, 9, 14, 10, 101, 33, 334, 39, 22, 5749, 7, 127, 93, 28, 7, 104, 5, 20, 2, 64, 2195, 113, 967, 3, 827, 3, 12, 8, 148, 28, 63, 254, 38, 76, 109, 2, 15768, 76, 4620, 4, 4181, 3, 4, 1, 12712, 6, 3571, 5266, 16, 960, 240, 531, 38, 412, 8, 26, 63, 0, 18, 4842, 638, 2, 50, 12, 101, 205, 13, 5, 1739, 46, 5374, 667, 12, 65, 2, 1022, 3, 10, 213, 8, 26, 63, 276, 1, 66, 19, 5, 180, 966, 2, 10, 8, 15, 47, 5, 608, 475, 6, 301, 960, 39, 370, 3, 4, 156, 12, 462, 62, 66, 63, 529, 49, 10, 2], 0), ([12, 92, 102, 1, 1327, 6, 529, 14, 12, 16, 171, 7, 72, 1, 4009, 4833, 0, 18, 0, 3015, 2, 13, 16, 411, 100, 5, 172, 6, 1260, 112, 14, 12, 32, 114, 2, 1, 234, 16, 874, 3, 1, 119, 16, 0, 4, 1, 765, 634, 2, 10, 16, 43, 644, 14, 12, 47, 1241, 7, 1176, 535, 88, 3672, 2, 21, 12, 218, 205, 5, 20, 5, 561, 3, 43, 12, 3061, 360, 1, 60, 137, 2, 659, 45, 16, 5, 0, 51, 49, 13, 20, 3, 95, 62, 433, 4, 12, 76, 1, 68, 656, 11, 1, 824, 2, 143, 159, 8, 26, 1810, 2391, 77, 13, 0, 53, 35, 53, 35, 14, 9, 143, 12, 8, 148, 11974, 3, 17, 5, 1704, 7, 401, 529, 6, 0, 51, 57, 301, 7, 72, 13, 2, 12, 47, 448, 14, 25, 165, 193, 7, 13, 1857, 3, 4, 159, 8, 26, 82, 2425, 44, 12, 124, 39, 284, 36, 1, 358, 4833, 0, 2, 1749, 2, 15, 2, 735, 7, 1, 188, 4, 830, 50, 25, 30, 873, 13, 2, 12, 123, 14, 25, 907, 283, 7, 104, 13, 2, 12, 123, 54, 266, 88, 261, 5, 20, 2, 2, 2, 390, 262, 35], 0), ([281, 77, 135, 36, 1, 7910, 14, 12, 8, 148, 28, 5, 60, 1634, 397, 4, 14, 12, 91, 8, 26, 82, 176, 518, 2, 14, 116, 307, 3, 13, 22, 9, 429, 939, 3, 4, 11, 62, 653, 28, 939, 11, 5, 57, 103, 2, 719, 1081, 11, 328, 4, 478, 18, 5, 209, 6, 60, 3257, 3556, 569, 3, 0, 9, 5, 22, 19, 153, 41, 56, 169, 36, 696, 518, 4, 135, 1358, 3, 12, 244, 1, 1566, 4, 1586, 6, 13, 3477, 2, 1, 68, 289, 12, 205, 13, 22, 5, 430, 51, 6, 306, 9, 95, 12, 165, 124, 1840, 7, 443, 36, 55, 515, 3, 162, 1390, 1011, 36, 1, 1950, 4624, 6, 1, 22, 2, 117, 6, 1, 109, 2949, 10874, 27, 5, 9591, 3, 17, 7, 90, 54, 138, 109, 76, 402, 3, 12, 32, 64, 323, 2, 12, 567, 8, 26, 380, 13, 22, 7, 1635, 2], 0), ([97, 139, 12, 187, 7, 135, 94, 6, 1, 85, 41, 205, 13, 5, 337, 702, 91, 8, 26, 44, 13, 247, 6, 220, 3, 1, 20, 9, 89, 50, 25, 32, 40, 903, 343, 4, 697, 8, 26, 1605, 7, 443, 36, 55, 379, 184, 2, 13, 20, 9, 326, 47, 44, 1, 251, 127, 18, 5, 172, 6, 341, 3088, 0, 88, 34, 211, 20, 2, 55, 6, 1, 145, 91, 8, 26, 63, 32, 752, 294, 87, 47, 217, 51, 4, 90, 146, 2131, 4, 10, 9, 164, 35, 35, 1, 68, 1577, 12, 74, 9, 12, 452, 44, 12, 960, 301, 27, 62, 3725, 4, 0, 3, 45, 16, 64, 103, 12, 101, 1861, 46, 2715, 235, 302, 13, 20, 12, 16, 1288, 1011, 2, 12, 16, 1131, 4509, 6, 2941, 55, 0, 4, 317, 146, 14, 2223, 77, 7, 443, 4, 1307, 10, 2493, 2, 50, 25, 91, 8, 26, 343, 55, 923, 1014, 3, 4, 25, 362, 5093, 1, 20, 3, 5093, 1, 251, 127, 3, 4, 10321, 1102, 5397, 3, 100, 19, 131, 2000, 151, 72, 13, 20, 2, 4, 50, 25, 91, 8, 26, 44, 1, 97, 20, 3, 46, 1, 251, 127, 2, 91, 8, 26, 72, 10, 3, 4, 50, 25, 90, 72, 10, 91, 8, 26, 2025, 5, 86, 702, 49, 10, 2, 4446, 4895, 41, 72, 13, 4, 9288, 10, 47, 158, 8, 26, 320, 208, 7, 77, 2], 1), ([13, 16, 40, 13474, 1272, 67, 19, 77, 42, 1, 731, 399, 1125, 2, 91, 8, 26, 104, 1, 173, 1327, 12, 124, 2, 13, 20, 9, 2282, 3, 16533, 972, 3, 4, 1299, 356, 2, 1, 403, 207, 1, 196, 1889, 4, 31, 1724, 9, 602, 843, 449, 4, 2078, 12, 11483, 36, 177, 141, 38, 5756, 2, 2324, 3753, 167, 5, 180, 10555, 3178, 4, 9, 31, 629, 3887, 1336, 31, 223, 16, 685, 28, 5, 2984, 19, 96, 2, 4, 264, 1, 20, 9, 1409, 292, 11, 18896, 17149, 3, 10, 809, 5, 172, 58, 44, 5, 370, 20, 172, 37, 6, 1, 290, 109, 30, 14823, 4, 441, 2352, 7, 1048, 610, 18, 0, 2649, 2, 1015, 2, 536, 3, 59, 25, 72, 13, 34, 27, 1, 4516, 6, 131, 731, 399, 1125, 3, 390, 1286, 2], 0), ([13, 9, 34, 6, 1, 411, 106, 14, 12, 32, 129, 114, 11, 62, 440, 125, 2, 12, 637, 12, 101, 1968, 152, 11, 66, 4, 90, 1, 971, 457, 23, 174, 51, 121, 1, 20, 322, 0, 1, 354, 2790, 16, 719, 280, 23, 111, 1, 216, 322, 1588, 18, 62, 1826, 1339, 1938, 4, 1, 511, 6, 5, 5064, 0, 2, 430, 23, 1016, 88, 1, 18859, 1339, 11, 1, 950, 8, 15, 18, 1, 1938, 4, 1994, 1886, 4, 1934, 2, 607, 23, 0, 1, 0, 7, 10491, 1, 1447, 6, 1, 354, 2790, 232, 2706, 7, 99, 97, 271, 6, 1270, 553, 23, 217, 152, 7, 1, 1005, 3, 32, 5, 3462, 4, 82, 87, 1355, 4, 2676, 841, 1389, 7, 3717, 62, 1744, 4280, 6, 1, 228, 1508, 3, 269, 62, 216, 835, 6, 1, 354, 2790, 1207, 23, 32, 166, 3462, 4, 111, 1738, 1588, 976, 23, 33, 686, 360, 1, 368, 86, 995, 6, 5, 57, 950, 8, 15, 20, 2, 1027, 23, 124, 12, 817, 1, 32, 9784, 9784, 533, 2, 12, 238, 28, 254, 50, 12, 65, 32, 7, 1968, 88, 1, 699, 19, 14, 2, 277, 12, 348, 4762, 7, 5, 0, 2], 0), ([13, 227, 32, 84, 40, 327, 505, 2, 197, 3, 17, 115, 83, 85, 110, 43, 90, 12, 2, 10, 9, 843, 229, 675, 7, 1, 8169, 4006, 2, 50, 1, 440, 20, 212, 33, 335, 100, 10, 247, 6, 311, 248, 42, 1, 20, 4, 461, 146, 324, 2, 10, 130, 32, 40, 327, 667, 17, 237, 17, 12, 238, 1989, 4, 12, 412, 8, 26, 827, 7, 820, 10, 2, 21, 3, 288, 12, 124, 10, 16, 5, 157, 281, 192, 2, 51, 133, 11, 0, 3, 13124, 12, 101, 28, 174, 40, 610, 319, 7, 235, 780, 2, 13, 20, 16, 92, 1082, 7, 463, 612, 4, 13, 75, 87, 28, 82, 7, 111, 11, 0, 3, 13124, 2, 10, 9, 28, 1203, 2, 43, 12, 474, 75, 87, 118, 123, 93, 57, 1, 20, 165, 16, 2], 0), ([78, 12, 474, 10, 1409, 28, 5, 353, 95, 45, 30, 68, 5, 180, 723, 5810, 1407, 3, 21, 12, 1251, 110, 10, 9, 2, 2, 2, 10, 8, 15, 5, 60, 316, 1146, 20, 3, 1668, 0, 124, 5, 89, 298, 18, 31, 113, 4, 10, 71, 1500, 77, 2], 1), ([13, 9, 189, 164, 2, 2360, 1, 0, 3, 5, 53, 2, 2, 2, 89, 170, 2, 2, 2, 12, 1451, 177, 900, 6, 1, 20, 2, 2, 2, 13, 9, 44, 684, 20, 19, 1, 2586, 8, 15, 2, 89, 1260, 0, 1884, 2, 2, 2, 108, 86, 13, 213, 8, 26, 27, 399, 2, 2, 2, 21, 25, 56, 140, 111, 10, 27, 0, 2, 2, 2], 0), ([13, 20, 213, 8, 26, 63, 57, 194, 19, 1, 5636, 3739, 36, 1, 9156, 1125, 2, 12, 68, 4484, 10, 95, 10308, 1791, 16, 11, 10, 2, 474, 29, 412, 8, 26, 33, 108, 0, 49, 31, 603, 302, 13, 66, 2, 1, 20, 11, 387, 16, 283, 7, 851, 149, 2, 10, 472, 38, 76, 19632, 36, 0, 18, 5, 741, 2, 1, 460, 318, 51, 74, 7, 33, 1, 94, 356, 12, 8, 144, 129, 114, 2, 34, 900, 38, 30, 687, 4, 1, 368, 12743, 4538, 53, 63, 1, 6159, 76, 283, 7, 868, 2, 94, 6, 1, 119, 3518, 105, 1155, 2, 12, 32, 64, 323, 54, 38, 76, 171, 19, 18, 13, 34, 21, 38, 435, 1029, 1, 968, 2], 0), ([1, 70, 6, 5, 12441, 0, 8446, 1394, 2, 5, 2, 912, 44, 5, 338, 120, 19, 5, 1465, 20, 2, 13, 34, 162, 3, 9, 1029, 0, 2, 1, 20, 291, 7279, 3, 52, 5, 741, 69, 9, 283, 7, 868, 46, 263, 4, 1, 119, 16, 60, 86, 2, 4621, 11, 7839, 18, 5, 172, 6, 771, 14, 841, 1389, 9, 68, 57, 36, 0, 85, 190, 17, 5, 2298, 11, 55, 836, 1767, 2, 11, 13, 34, 3, 29, 9, 4736, 1, 9745, 1068, 2, 116, 2298, 6, 147, 40, 1068, 10, 1876, 9, 5, 57, 323, 7, 720, 342, 131, 558, 7, 1692, 145, 2, 1044, 529, 2, 1914, 11555, 1325, 3799, 4, 1286, 11, 12050, 14, 1316, 7, 33, 0, 7646, 0, 2, 9685, 208, 2, 1193, 42, 1, 86, 119, 153, 7656, 4324, 104, 1, 22, 169, 224, 17, 663, 17, 7491, 2, 1, 68, 57, 222, 6, 13, 20, 9, 14, 45, 9, 64, 1101, 6572, 7, 104, 2208, 63, 411, 2, 793, 13, 20, 36, 37, 2293, 2], 0), ([295, 305, 73, 181, 189, 78, 11, 13, 126, 338, 20, 2, 6318, 226, 1, 561, 7, 426, 181, 6, 31, 125, 5145, 3, 21, 640, 67, 5436, 14, 54, 29, 74, 16, 171, 7, 33, 47, 17, 57, 46, 277, 63, 132, 2, 1, 20, 279, 183, 14, 75, 4303, 7, 198, 2906, 6, 1, 5490, 75, 32, 3, 28, 1, 656, 75, 90, 28, 46, 592, 32, 2, 50, 1143, 56, 82, 13, 20, 27, 399, 19, 190, 8556, 3, 0, 33, 40, 8466, 35], 1), ([0, 5, 0, 9, 34, 6, 62, 512, 106, 2, 58, 81, 316, 3, 10, 8, 15, 71, 6017, 2, 10, 423, 25, 665, 6787, 2294, 3, 10, 8, 15, 5, 887, 2, 12, 92, 380, 1, 626, 2, 15619, 7481, 9, 5, 1189, 2], 1), ([49, 34, 1728, 730, 40, 8184, 8, 15, 4385, 22, 3, 45, 8, 15, 5, 15659, 5, 823, 11, 1125, 133, 565, 19, 93, 6462, 1, 9105, 3, 0, 6103, 291, 1286, 190, 1, 2086, 206, 5, 4453, 27, 2, 13, 221, 16, 444, 7, 33, 55, 422, 6, 0, 53, 0, 0, 0, 53, 78, 3, 863, 2, 8813, 18598, 8, 15, 5, 89, 543, 3, 655, 649, 136, 1, 239, 441, 161, 52, 4770, 5, 172, 6, 48, 1046, 17, 203, 5, 1803, 4, 970, 543, 3, 21, 13, 20, 407, 159, 8, 26, 90, 235, 7, 1439, 48, 5, 0, 223, 2, 48, 8094, 113, 1511, 105, 5946, 6, 1578, 46, 13632, 3, 3234, 48, 440, 2968, 14327, 27, 5, 1007, 431, 14, 61, 1225, 9, 1, 821, 221, 11, 100, 182, 24, 670, 95, 29, 8, 15, 5, 1007, 431, 23, 3, 255, 61, 56, 8, 26, 33, 1173, 18, 96, 19, 117, 1556, 2, 2128, 3, 281, 77, 377, 25, 146, 50, 5, 221, 8, 15, 71, 88, 25, 3, 29, 8, 15, 28, 171, 7, 0, 139, 11, 5, 0, 95, 25, 738, 7, 1297, 131, 1226, 139, 17, 131, 1364, 2, 29, 210, 33, 5, 126, 1410, 49, 143, 25, 8, 241, 90, 146, 43, 663, 3, 2066, 3, 4, 6148, 2, 2, 2, 8026, 3, 21, 11, 1, 137, 10, 8, 15, 47, 171, 7, 33, 146, 25, 8, 236, 443, 300, 49, 2, 1, 120, 4, 403, 1901, 177, 0, 8, 208, 27, 5193, 2, 64, 2570, 4, 64, 2332, 2, 2, 2, 21, 10, 8, 15, 0, 3, 0, 1146, 4, 1101, 8, 15, 0, 3, 0, 1007, 43, 764, 41, 110, 3916, 9, 1, 821, 20, 129, 102, 87, 6, 268, 135, 13, 20, 9, 89, 95, 38, 391, 8, 26, 1408, 14, 10, 158, 8, 26, 32, 5, 1073, 11, 99, 424, 2, 34, 355, 2], 0), ([12, 8, 148, 1209, 133, 0, 3593, 4, 12, 140, 56, 8, 26, 347, 6207, 49, 13, 20, 2, 3047, 8, 15, 128, 106, 373, 11, 49, 5, 0, 345, 6141, 2, 628, 134, 3, 4232, 3, 4, 932, 2179, 24, 4205, 23, 2, 37, 430, 30, 485, 2, 1, 938, 34, 5007, 39, 3047, 11, 13, 20, 87, 104, 25, 443, 27, 58, 81, 34, 4631, 2, 12, 174, 1, 119, 11, 13, 20, 1242, 57, 17, 16, 1, 418, 11, 4232, 4, 0, 2179, 2, 38, 124, 5, 89, 298, 11, 262, 7, 104, 1, 145, 4289, 17, 10, 9, 444, 7, 198, 273, 11, 0, 3, 21, 25, 56, 8, 26, 347, 21, 16457, 36, 1, 950, 8, 15, 445, 14944, 27, 1, 339, 4, 253, 11, 1, 2113, 4, 1, 1164, 647, 17017, 11, 1, 628, 134, 1120, 69, 75, 37, 123, 133, 11, 3593, 30, 27, 1, 103, 51, 18, 1, 16816, 6, 1098, 12329, 4, 0, 8, 15, 2, 92, 1, 1339, 3054, 6, 1, 1, 628, 134, 447, 127, 7313, 65, 28, 169, 44, 14, 11, 0, 2, 2245, 1, 741, 9, 429, 745, 2, 28, 288, 302, 13, 20, 124, 12, 187, 7, 82, 67, 4, 28, 455, 49, 1, 285, 69, 9, 146, 12, 90, 413, 18, 502, 8, 15, 20, 8, 15, 2, 12, 71, 110, 14, 3047, 8, 15, 119, 9, 79, 132, 81, 29, 8, 15, 361, 1076, 19, 2, 156, 12, 65, 28, 32, 7761, 96, 9155, 21, 14, 8, 15, 2641, 19, 25, 2, 0, 3, 0, 3, 0, 3, 0, 30, 745, 16478, 17, 78, 4, 12, 174, 1, 1095, 91, 8, 26, 349, 7, 14038, 1, 555, 145, 2, 59, 1, 5694, 9, 354, 2, 2, 2, 29, 8, 15, 354, 2, 10, 158, 8, 26, 151, 27, 19, 948, 232, 249, 2, 1, 5694, 145, 30, 1597, 4, 432, 21, 38, 91, 8, 26, 349, 4, 0, 10, 2, 12, 205, 13, 20, 5, 1773, 4, 14, 8, 15, 596, 42, 294, 41, 158, 8, 26, 362, 5, 172, 6, 106, 138, 490, 2, 50, 25, 82, 1, 208, 160, 4, 1, 208, 70, 100, 1, 4289, 0, 3982, 14, 25, 8, 241, 72, 11, 3593, 30, 28, 665, 46, 1687, 2], 1), ([12, 65, 122, 7, 867, 27, 13, 22, 2, 2935, 3, 62, 1600, 52, 218, 0, 11, 5566, 2, 50, 105, 57, 3468, 101, 347, 5, 1755, 0, 6, 13, 12473, 1266, 4, 10046, 31, 5467, 11, 1992, 39, 3451, 1, 10098, 6, 344, 5, 2408, 1977, 46, 9377, 96, 5, 274, 965, 6, 1, 1977, 29, 65, 3, 206, 14598, 3, 33, 13868, 5922, 2, 2, 2, 2, 2, 3241, 1066, 1, 1234, 7, 7654, 9, 1, 2683, 7, 4760, 3, 34, 1959, 62, 8899, 1234, 6, 7654, 87, 1439, 1, 2683, 7, 14398, 2, 2, 2, 2, 50, 28, 3, 12, 87, 32, 7, 10045, 1, 327, 442, 14617, 8, 15, 3536, 11, 1, 1938, 14, 153, 41, 32, 114, 2404, 1414, 24, 19, 132, 46, 19, 411, 23, 32, 18488, 73, 835, 1631, 6, 1, 706, 6, 6358, 0, 1816, 12, 3, 5, 1526, 1614, 6, 13, 0, 120, 3, 11995, 31, 2691, 418, 11, 13644, 2, 2, 2], 1), ([45, 30, 28, 115, 112, 69, 12, 65, 1646, 17, 410, 3, 21, 8361, 407, 2455, 1, 984, 2, 64, 83, 3079, 22, 52, 217, 556, 7, 10, 3, 163, 46, 107, 2, 1, 120, 9, 584, 3, 21, 0, 25, 2, 10, 118, 10620, 7, 10340, 77, 93, 429, 2944, 1, 22, 9, 177, 66, 25, 611, 10, 2, 25, 455, 19, 37, 1, 109, 3, 63, 162, 38, 30, 1907, 6947, 3, 95, 38, 30, 1259, 17, 398, 3337, 18, 37, 73, 679, 4, 1463, 2, 10, 8, 15, 283, 7, 811, 105, 83, 297, 1317, 1854, 18979, 11, 1, 223, 6, 1371, 3166, 0, 2, 59, 1, 957, 6, 1, 830, 30, 249, 687, 49, 54, 38, 30, 171, 7, 90, 18, 73, 301, 4, 428, 82, 7, 1371, 3, 31, 1441, 4, 1, 2673, 27, 31, 406, 523, 10, 37, 2, 142, 1, 1074, 900, 3079, 711, 9, 1, 94, 799, 181, 6, 1, 20, 24, 4, 9049, 43, 23, 1, 22, 165, 226, 132, 5835, 2, 1, 175, 6356, 8609, 690, 54, 29, 16, 402, 59, 29, 864, 7, 28, 32, 105, 215, 302, 1, 3079, 141, 46, 1, 464, 7465, 3, 21, 310, 7312, 5, 89, 4937, 581, 302, 1371, 8, 15, 464, 1311, 904, 31, 4255, 2, 7, 110, 14, 50, 8609, 3, 40, 321, 175, 3, 74, 28, 84, 0, 11, 370, 4, 874, 7, 170, 11, 2005, 3, 13, 887, 6, 451, 65, 118, 32, 84, 102, 1, 103, 10, 16, 2, 10, 435, 567, 8, 26, 32, 84, 17, 57, 50, 10, 16, 102, 17, 40, 321, 22, 302, 14, 66, 2, 10, 16, 429, 488, 54, 8609, 74, 7, 151, 149, 3, 21, 29, 124, 2806, 31, 821, 170, 95, 6, 10, 3, 7, 1, 3883, 6, 37, 6, 183, 2, 12, 8, 148, 47, 9931, 36, 1, 200, 6, 1, 7609, 1823, 3763, 995, 2, 94, 3079, 112, 240, 8361, 32, 473, 4073, 42, 10, 11, 55, 103, 46, 166, 2, 45, 8, 15, 64, 289, 7, 995, 13, 887, 83, 81, 301, 2, 546, 1, 2047, 625, 35], 1), ([13, 9, 5, 1147, 11005, 3, 532, 39, 1, 221, 41, 1955, 1, 2160, 4848, 2816, 2, 3048, 0, 423, 5, 4619, 2516, 242, 17, 1, 2080, 6, 5, 0, 4417, 3995, 69, 260, 4178, 2042, 562, 7, 1016, 192, 784, 2, 1, 4417, 2767, 169, 43, 157, 3, 34, 6, 1, 1547, 8, 15, 790, 51, 2, 16194, 3, 16194, 3, 16194, 2, 2, 2, 28, 43, 79, 5, 1277, 22, 17, 5, 915, 1545, 6, 1962, 201, 4, 178, 5358, 329, 6, 0, 2071, 2, 12, 56, 110, 6, 115, 3, 115, 201, 112, 14, 30, 411, 81, 13, 34, 2], 1), ([118, 559, 6, 13, 20, 3, 214, 10, 27, 274, 2, 89, 20, 3, 410, 475, 6, 5, 20, 14, 537, 177, 188, 1614, 7, 104, 10, 170, 2, 64, 0, 785, 370, 20, 18, 1, 173, 178, 0, 160, 2, 64, 1826, 3363, 5, 1087, 297, 101, 32, 1997, 139, 105, 242, 11, 13, 20, 2, 814, 152, 1841, 6, 62, 204, 2025, 2461, 322, 1323, 2294, 2, 10, 8430, 27, 1, 85, 41, 76, 1354, 7, 555, 2, 17, 16, 1009, 39, 1, 109, 41, 74, 3584, 4, 1366, 63, 50, 55, 0, 19, 2102, 2, 38, 76, 2039, 85, 108, 3, 55, 47, 1153, 8, 26, 651, 51, 19, 1323, 125, 3, 12, 392, 5, 180, 11, 62, 0, 270, 10, 2505, 412, 8, 26, 7259, 7, 1323, 125, 0, 12, 8, 236, 118, 817, 0, 32, 2903, 11, 1278, 2, 12, 544, 380, 10, 4, 100, 110, 49, 153, 6290, 1005, 271, 11, 0, 2, 1117, 2460, 9, 5, 1231, 3, 1408, 153, 6988, 14634, 697, 8, 26, 1863, 85, 4, 277, 38, 348, 8366, 2460, 2795, 35, 2795, 35, 2795, 35], 1), ([143, 436, 143, 124, 12, 129, 462, 62, 66, 155, 13, 22, 53, 10, 16, 361, 7, 77, 27, 399, 39, 5, 433, 4, 12, 200, 12, 8, 236, 111, 10, 3, 10, 56, 8, 26, 33, 14, 86, 1385, 2, 4944, 1, 119, 9, 333, 3420, 4, 75, 8, 185, 444, 7, 263, 13, 9, 157, 53, 3910, 13, 22, 9, 5644, 262, 7, 965, 1, 2808, 1917, 1104, 24, 5951, 23, 4, 130, 43, 60, 843, 2, 43, 50, 25, 187, 1, 7078, 6, 131, 125, 12, 65, 1505, 14, 5, 5560, 8, 15, 2227, 312, 65, 33, 237, 7346, 2, 21, 3, 50, 25, 47, 468, 7, 5, 443, 100, 277, 1, 786, 0, 6, 13, 22, 65, 5112, 2, 21, 456, 12, 65, 793, 13, 22, 36, 37, 2293, 46, 2715, 5, 1024, 1132, 6, 5067, 163, 835, 2, 1, 128, 233, 53, 99, 68, 49, 40, 552, 4, 5, 363, 3, 1298, 539, 2], 0), ([693, 4, 2497, 30, 3735, 18, 73, 196, 507, 1931, 7, 5, 2842, 3553, 11, 0, 176, 866, 59, 73, 527, 1901, 5, 6806, 4, 0, 88, 5, 16098, 2, 21, 54, 191, 7, 33, 5, 2535, 12313, 6, 6627, 3928, 1, 470, 6, 5, 3733, 1160, 3, 121, 5163, 461, 623, 4, 5, 13885, 1139, 3, 363, 1612, 4, 363, 134, 8551, 3, 11251, 5, 420, 525, 2, 2, 2, 8551, 39, 2045, 17603, 9, 5, 5324, 201, 22, 14, 413, 0, 8, 15, 88, 5, 9849, 245, 471, 2, 1, 119, 9, 89, 3, 1, 109, 30, 11405, 4, 45, 30, 55, 0, 395, 2, 1, 1261, 7181, 6, 8551, 30, 2348, 2597, 4, 10, 8, 15, 118, 747, 54, 9, 157, 4, 54, 9, 4622, 3, 46, 63, 50, 1, 70, 9, 661, 273, 1081, 11, 1931, 8, 424, 2, 456, 3, 8551, 9, 62, 97, 3143, 18, 2045, 17603, 8, 15, 170, 4, 1385, 391, 8, 26, 33, 1, 239, 2, 205, 13, 22, 5, 561, 3, 50, 25, 91, 8, 26, 343, 155, 146, 6961, 2, 1027, 51, 6, 306, 2], 1), ([17, 11, 17372, 3, 1129, 718, 112, 320, 7, 33, 661, 5, 2709, 0, 620, 11689, 3, 6166, 27, 5, 636, 1428, 48, 34, 303, 122, 2, 11, 13, 418, 3, 4284, 822, 7, 5, 8263, 3, 69, 822, 7, 48, 5246, 88, 5, 2741, 12343, 2, 1044, 4, 1723, 70, 11, 115, 783, 3, 565, 14, 1, 636, 9, 45, 7, 1440, 1, 923, 2, 19, 153, 6, 183, 14, 91, 8, 26, 1048, 718, 3, 1, 2168, 30, 5, 126, 1597, 3, 21, 28, 14185, 2, 1, 704, 3, 17, 191, 7, 33, 3253, 1, 418, 18, 1956, 112, 3, 9, 89, 4, 11, 410, 9256, 18, 1, 22, 8, 15, 10092, 2, 168, 191, 874, 2, 2085, 3, 10, 1741, 77, 6, 908, 2398, 201, 106, 2, 45, 8, 15, 5, 4798, 4687, 11, 3289, 244, 7, 10, 2], 1), ([0, 9, 5, 1255, 50, 1035, 0, 1215, 20, 14, 1079, 10, 16, 102, 11, 1, 8102, 52, 3235, 1, 2379, 6, 66, 897, 78, 2, 156, 12, 32, 7, 978, 12, 32, 5, 2330, 1504, 19, 8, 0, 7, 525, 8, 24, 17, 10, 9, 483, 11, 1, 2188, 4365, 23, 272, 296, 5, 1977, 319, 5888, 6, 1, 251, 39, 260, 797, 115, 219, 18, 62, 5818, 2, 811, 62, 823, 59, 12, 9681, 67, 13, 1863, 47, 11, 66, 7, 1329, 10, 27, 1196, 692, 24, 36, 0, 118, 1, 346, 35, 23, 1, 22, 16, 47, 17, 2096, 17, 12, 1934, 10, 18, 1, 838, 2219, 1, 2379, 6, 66, 4, 5, 1313, 1602, 781, 69, 150, 1328, 7, 797, 4, 393, 3549, 2, 277, 34, 271, 12, 7, 3157, 1467, 13, 1570, 353, 18, 393, 6, 62, 204, 2, 18, 5, 338, 628, 66, 19, 359, 24, 10582, 6538, 8, 15, 23, 4, 5, 584, 255, 1246, 741, 45, 71, 9, 146, 19, 295, 11, 13, 781, 6, 1, 126, 221, 596, 57, 2, 12, 71, 101, 72, 13, 116, 3073, 5939, 11, 1654, 2, 198, 911, 8845, 2], 1), ([24, 60, 2505, 0, 23, 12, 212, 378, 39, 614, 14, 12, 8, 148, 28, 606, 1500, 39, 9839, 3, 43, 3153, 328, 24, 3100, 23, 16, 5, 2303, 823, 2, 10, 74, 77, 3276, 42, 1, 60, 470, 18, 5263, 3, 3165, 4, 1019, 0, 14, 309, 77, 5291, 4, 5293, 7, 62, 2070, 2, 12, 8, 148, 60, 686, 7, 135, 14, 13, 20, 16, 1, 128, 24, 777, 3, 36, 225, 0, 6, 1, 128, 23, 1116, 1222, 434, 14, 12, 8, 144, 114, 11, 5, 211, 3, 211, 66, 2, 1, 120, 11, 341, 227, 467, 584, 367, 5, 24, 736, 23, 1341, 4939, 27, 5, 1409, 5352, 1266, 4, 1, 1458, 3, 9721, 10187, 24, 1229, 10764, 3012, 23, 3, 212, 477, 1, 4158, 7, 4710, 2, 36, 97, 3, 5, 13345, 2479, 3, 9637, 24, 9264, 7868, 3, 41, 305, 1, 223, 18, 60, 829, 3387, 445, 23, 3, 227, 320, 44, 1, 528, 8, 15, 1096, 454, 21, 17, 1, 13391, 526, 10396, 11, 3, 1, 2214, 6, 1, 318, 378, 8747, 2, 2, 2, 13, 822, 7, 5, 1755, 557, 7, 992, 42, 1, 9291, 9625, 3, 69, 3, 17, 75, 37, 56, 474, 3, 130, 28, 477, 7, 5, 686, 245, 9025, 2, 10, 8, 15, 28, 1, 120, 387, 14, 167, 1, 20, 276, 155, 367, 107, 37, 3, 281, 8, 15, 406, 10, 3, 50, 25, 3847, 10, 192, 7, 1, 10117, 10, 8, 15, 28, 0, 216, 367, 21, 1, 2824, 11, 69, 10, 8, 15, 572, 2, 1, 70, 13889, 954, 3, 159, 8, 26, 546, 77, 15264, 24, 36, 225, 28, 79, 23, 11, 105, 222, 2, 1, 980, 16, 2895, 170, 2, 13, 16, 5, 60, 1019, 3, 63, 316, 20, 1, 5495, 318, 611, 16, 5, 157, 1777, 2, 264, 3, 8, 316, 8, 227, 28, 33, 1, 208, 680, 7, 357, 414, 3, 1, 1064, 589, 76, 2184, 7, 1, 839, 3, 21, 38, 92, 1243, 5, 1278, 6, 0, 0, 3, 19528, 3, 17, 50, 146, 16, 47, 49, 7, 6702, 51, 42, 476, 1, 140, 2137, 2, 24, 28, 7, 713, 14, 1, 1727, 76, 71, 78, 229, 3, 38, 560, 813, 3, 69, 191, 7, 33, 1353, 2912, 0, 85, 47, 56, 8, 26, 33, 2697, 7, 104, 98, 169, 157, 2, 2, 2, 13272, 23, 12, 124, 28, 68, 362, 1, 1019, 504, 6, 1, 20, 21, 92, 1, 1962, 1309, 6, 1, 70, 2, 302, 1, 20, 75, 82, 7, 72, 1, 109, 16541, 367, 55, 6, 98, 762, 3, 55, 6, 98, 2165, 367, 21, 54, 5291, 77, 1, 94, 16, 1, 4616, 6, 1, 113, 6, 9637, 2, 12, 517, 155, 1, 657, 11, 96, 481, 1, 20, 2, 7, 151, 63, 999, 3, 1, 83, 154, 12, 517, 5, 172, 18, 9637, 16, 1, 897, 78, 4, 1762, 2185, 0, 24, 9462, 901, 1078, 23, 207, 10187, 4, 96, 14, 159, 8, 26, 24, 25, 8, 236, 82, 54, 12, 384, 288, 25, 72, 10, 23, 2, 0, 56, 8, 26, 6711, 14, 38, 74, 1179, 2, 91, 8, 26, 63, 349, 46, 12, 8, 236, 2555, 25, 51, 4, 104, 25, 1713, 7, 77, 394, 0, 360, 25, 1898, 0, 10, 16, 1456, 2, 17, 10764, 3012, 288, 270, 10, 24, 5, 18770, 3363, 23, 3, 3153, 328, 9, 5, 71, 1279, 20, 18, 64, 396, 3, 69, 9, 54, 167, 10, 63, 58, 43, 230, 2, 43, 3, 7, 8716, 3, 12, 380, 13, 20, 367, 63, 50, 25, 8, 185, 71, 28, 5, 336, 6, 736, 569, 2, 1, 751, 16, 812, 360, 1, 60, 137, 4, 3, 54, 8, 15, 665, 3, 75, 76, 24, 46, 36, 225, 12, 16, 23, 309, 1562, 19, 58, 2, 50, 25, 56, 8, 26, 33, 2697, 7, 110, 49, 5806, 3, 6667, 4, 147, 24, 17, 9, 62, 86, 6614, 23, 3, 25, 8, 236, 140, 174, 3153, 328, 544, 432, 2, 47, 2186, 139, 131, 3344, 4, 362, 2], 1), ([155, 2758, 2474, 9, 44, 661, 5, 0, 11, 0, 0, 0, 0, 501, 2, 12, 16, 108, 196, 7, 111, 10, 59, 10, 16, 1762, 615, 3, 4, 68, 214, 10, 19, 1, 97, 66, 5, 371, 6, 161, 601, 3, 21, 10, 52, 429, 3235, 1, 2379, 6, 66, 3, 4, 12, 32, 296, 10, 441, 219, 240, 2, 267, 49, 13, 22, 9, 495, 3, 42, 1, 2914, 372, 42, 4594, 4, 3093, 24, 63, 162, 12, 123, 13, 20, 78, 3, 12, 140, 174, 535, 0, 67, 177, 66, 4594, 6044, 34, 6, 31, 13070, 17060, 291, 3, 46, 3093, 0, 11, 31, 10783, 4, 6452, 103, 23, 7, 1, 1373, 652, 4, 3455, 1955, 1043, 871, 2, 10, 8, 15, 5, 816, 14, 58, 6, 260, 2354, 1052, 697, 8, 26, 2437, 7, 198, 5, 3114, 27, 261, 106, 14, 30, 17, 2085, 4, 0, 230, 17, 13, 34, 2, 2758, 2474, 150, 33, 2720, 835, 36, 37, 22, 5749, 2, 1773], 1), ([12, 2062, 67, 27, 13, 353, 896, 209, 3, 4, 17, 5, 542, 218, 1237, 10, 5, 1777, 116, 1509, 7, 749, 67, 538, 27, 2661, 12992, 7, 111, 10, 2, 9502, 9, 140, 7420, 185, 1746, 11, 185, 1183, 2, 1, 209, 6492, 1, 2353, 6, 1, 18336, 245, 3, 41, 426, 27, 5, 6461, 784, 4975, 564, 3, 16310, 190, 1, 2779, 322, 1030, 2, 73, 6461, 24, 483, 1, 0, 23, 9, 520, 4, 16774, 39, 1, 8552, 340, 3, 1101, 3, 4, 31, 0, 282, 3498, 3, 1918, 3, 0, 3, 4, 126, 926, 2, 138, 282, 1105, 32, 286, 5869, 3, 37, 6, 914, 32, 2377, 248, 161, 930, 2, 1, 0, 30, 5, 283, 798, 3, 0, 3, 4, 15535, 245, 3, 544, 4925, 11, 153, 515, 2, 1, 0, 9, 1024, 43, 4784, 99, 0, 3568, 5, 172, 6, 11565, 2891, 2, 92, 3, 8224, 248, 30, 413, 1687, 11, 622, 7, 770, 46, 2101, 6165, 4, 43, 2496, 2, 3110, 7, 135, 3, 180, 6, 138, 0, 1297, 0, 2, 264, 0, 3, 79, 6, 1, 0, 8, 1566, 212, 33, 947, 8944, 73, 6461, 42, 0, 3, 46, 8065, 521, 42, 13222, 3955, 6, 73, 0, 4, 4308, 2657, 2, 1, 0, 90, 5, 1159, 233, 6, 5413, 73, 1937, 67, 11, 1, 951, 4, 147, 3, 21, 68, 1307, 7, 508, 59, 8438, 429, 1687, 2, 38, 30, 563, 11, 908, 525, 4841, 3, 63, 1, 1026, 125, 6, 1, 16310, 3345, 2, 34, 6, 1, 290, 10591, 6, 1, 209, 9, 1, 4346, 5231, 14, 9, 218, 1005, 24, 469, 2480, 0, 23, 207, 1101, 4, 31, 282, 3498, 3, 4, 24, 469, 4472, 0, 23, 207, 1, 282, 1105, 2, 156, 3, 34, 599, 227, 1693, 67, 166, 177, 156, 4, 100, 3, 21, 1299, 52, 5, 57, 289, 19, 10, 36, 1, 66, 4, 31, 2650, 118, 6270, 211, 35, 1, 109, 30, 37, 60, 78, 1572, 2, 1101, 9, 1009, 17, 5, 1134, 4, 3759, 134, 6, 89, 4625, 2, 1, 6063, 507, 3, 1918, 3, 1, 94, 6131, 4, 8715, 6, 1, 1105, 3, 309, 10239, 149, 1, 209, 2, 1, 792, 599, 3, 0, 3, 9, 5, 3752, 1305, 6, 5, 7709, 2242, 3, 41, 52, 40, 18644, 11431, 19, 1649, 4, 9, 5, 126, 3912, 190, 1, 2128, 2, 1, 6154, 3, 126, 926, 3, 9, 5, 895, 3792, 3, 2301, 16710, 41, 3, 39, 2386, 3, 52, 186, 5, 103, 18, 366, 2, 13, 3573, 6, 1105, 362, 908, 6948, 21, 73, 122, 5483, 30, 3432, 533, 139, 39, 1, 137, 6, 1, 409, 46, 324, 1629, 1590, 1144, 3, 19, 863, 289, 2, 1, 160, 30, 37, 4308, 11, 73, 603, 3, 571, 0, 2458, 24, 1918, 23, 3, 1813, 0, 24, 0, 23, 3, 498, 0, 24, 126, 926, 23, 3, 4, 6, 268, 14487, 7664, 17, 1, 0, 245, 14045, 3, 1101, 2, 12, 92, 122, 1, 6461, 3858, 3, 9576, 1871, 3, 259, 39, 2951, 7699, 0, 2, 13, 9, 5, 386, 231, 3380, 896, 18, 89, 1161, 2, 1, 0, 30, 218, 1, 3759, 1740, 4, 94, 6, 1, 86, 460, 186, 8231, 2, 50, 68, 45, 76, 58, 5682, 44, 13, 6567, 896, 27, 251, 138, 490, 35], 1), ([12, 1001, 16, 11, 5, 1006, 319, 6, 13, 308, 2, 4, 3, 27, 1, 239, 271, 6, 1, 520, 3, 12, 16, 2273, 7, 72, 14, 10, 16, 171, 7, 33, 394, 27, 251, 2, 12, 1647, 5, 1925, 11, 17, 10, 16, 27, 538, 36, 318, 3, 4, 12, 296, 10, 1, 368, 271, 2, 12, 32, 7, 135, 12, 16, 60, 658, 2, 1, 160, 11, 1, 22, 102, 180, 6, 1, 2262, 14, 30, 11, 1, 234, 2, 14, 9, 4519, 17, 1, 0, 1555, 9, 243, 286, 3, 21, 10, 16, 9674, 7, 72, 2, 5, 172, 6, 1, 216, 234, 16, 1211, 19, 1, 20, 17, 78, 7, 104, 10, 132, 19, 1, 278, 3, 21, 12, 238, 28, 254, 50, 10, 1552, 1, 20, 51, 36, 37, 2, 12, 506, 13, 607, 419, 68, 95, 12, 123, 1, 234, 4, 1, 501, 9, 5, 172, 132, 81, 54, 13, 20, 2265, 2], 0), ([17, 40, 6160, 336, 6, 1469, 22, 3, 4, 5, 397, 262, 7, 4147, 5, 5600, 839, 19, 0, 11, 1, 5262, 6, 1469, 1893, 3, 12, 16, 2273, 7, 82, 5, 561, 7, 72, 13, 22, 2, 12, 16, 1665, 7, 72, 146, 14, 65, 104, 5, 176, 968, 11, 482, 106, 2, 12, 16, 309, 658, 2, 1, 470, 141, 9, 327, 3, 162, 5, 3072, 3136, 6, 5368, 80, 1, 1641, 27, 1, 2463, 3, 10, 9647, 55, 89, 652, 11, 1, 405, 10672, 2, 2, 2, 267, 107, 14, 16, 189, 79, 4218, 2, 12, 16, 1167, 499, 7, 851, 149, 13, 34, 3, 12, 16, 6220, 2286, 219, 47, 7, 2963, 10, 139, 2, 1, 119, 3, 142, 186, 857, 4713, 3, 16, 897, 376, 2, 21, 100, 179, 3, 1, 540, 6, 1, 454, 16, 1, 919, 387, 2, 1, 752, 16, 411, 81, 235, 12, 32, 129, 114, 3, 4, 63, 62, 2139, 919, 1, 8747, 24, 514, 7, 33, 40, 1670, 22, 23, 560, 44, 5, 0, 368, 7, 13, 2, 24, 69, 213, 8, 26, 614, 79, 2, 23, 1, 1970, 504, 6, 13, 22, 9, 14, 10, 16, 719, 27, 10790, 8, 15, 3349, 176, 0, 0, 3578, 1157, 11, 0, 2, 13, 22, 4, 355, 1738, 1387, 6, 1, 10628, 76, 1, 97, 106, 129, 7, 357, 138, 176, 2091, 3578, 14, 345, 2, 479, 3, 1, 375, 8, 15, 242, 472, 7, 33, 960, 18, 86, 1424, 3, 337, 2239, 3, 4, 2132, 5592, 2, 1, 68, 57, 554, 12, 193, 596, 51, 6, 155, 13, 20, 16, 93, 57, 62, 7024, 3038, 22, 9, 171, 7, 169, 368, 7, 10, 2, 23, 2510], 0), ([143, 65, 2971, 13083, 1677, 314, 7, 308, 5, 337, 0, 41, 9, 1126, 13232, 39, 6042, 7408, 2094, 12174, 3, 259, 39, 0, 0, 11, 8, 19439, 1838, 8, 53, 1, 173, 289, 143, 593, 5866, 2204, 314, 7, 33, 188, 17, 166, 3692, 41, 744, 19, 6042, 7408, 1806, 0, 11, 1, 3032, 1675, 3, 121, 2313, 466, 2, 383, 38, 203, 452, 10, 16, 5, 57, 103, 7, 127, 14, 38, 74, 8, 1999, 8, 17, 0, 394, 439, 585, 3, 1, 629, 8, 17264, 8, 223, 38, 76, 587, 19, 3, 65, 7763, 73, 1405, 17, 160, 41, 101, 308, 105, 223, 2, 21, 1, 454, 16, 14, 603, 44, 1357, 4518, 3, 1, 1092, 0, 17802, 11, 8, 19439, 1838, 8, 3, 124, 168, 7, 7763, 13083, 8, 15, 649, 2, 28, 68, 9, 13083, 332, 3278, 11, 1, 11615, 223, 6, 4518, 3, 21, 45, 8, 15, 146, 12257, 4520, 24, 4, 210, 12, 135, 3, 1092, 23, 49, 1, 22, 8, 15, 1879, 11, 1, 97, 273, 2, 8, 19439, 1838, 8, 9, 40, 18650, 10546, 22, 2, 754, 1, 115, 1784, 145, 11, 1, 22, 9, 36, 1, 470, 1, 2769, 69, 6492, 4518, 8, 15, 4851, 18, 1813, 12177, 8, 15, 12174, 36, 1, 5544, 2, 267, 14, 3299, 11, 14, 2621, 2769, 9, 1829, 315, 11, 1, 438, 1, 14442, 1443, 207, 1357, 4, 2094, 3, 1357, 8, 15, 8215, 620, 18, 14500, 1, 983, 4, 31, 86, 547, 18, 12174, 2, 50, 175, 0, 452, 5139, 7, 878, 1, 22, 18, 5, 2769, 3, 143, 28, 390, 10, 476, 282, 232, 53, 12, 110, 10, 65, 32, 84, 58, 1148, 2, 11, 8, 19439, 1838, 8, 3, 10, 311, 186, 4983, 163, 1, 1879, 5905, 314, 4, 2966, 51, 6, 1, 8, 1831, 8, 182, 6, 491, 34, 2, 14, 8, 15, 1, 141, 121, 29, 8, 15, 2799, 39, 8, 4, 8, 1183, 88, 8, 2094, 36, 1, 5544, 2, 4, 1408, 93, 17190, 2280, 43, 79, 66, 2312, 152, 4, 2496, 207, 2094, 1086, 4, 1357, 4546, 36, 48, 53, 11, 1618, 7, 1, 0, 3, 29, 92, 2280, 5, 89, 761, 6, 66, 4287, 27, 0, 17816, 4, 31, 0, 1072, 81, 703, 1, 70, 342, 2, 67, 360, 1, 3580, 6, 491, 117, 3, 1, 70, 10748, 342, 18, 4518, 272, 908, 8723, 3224, 18, 2094, 4, 100, 7993, 31, 18037, 36, 31, 629, 19168, 2567, 2, 36, 1, 0, 6, 491, 117, 3, 29, 2202, 14, 2094, 52, 520, 139, 4, 1910, 1037, 7, 12174, 2, 10, 8, 15, 1507, 58, 747, 36, 13, 222, 14, 34, 6, 1, 22, 8, 15, 1382, 6481, 9, 14, 12174, 9, 118, 27, 278, 481, 94, 6, 1, 350, 491, 2, 45, 30, 64, 13351, 207, 4518, 4, 12174, 302, 13, 66, 4, 75, 8, 185, 309, 18, 1, 246, 12832, 12281, 207, 1, 117, 0, 2, 17, 10, 497, 51, 24, 4, 2094, 8, 2543, 8, 13, 315, 7, 1357, 23, 3, 1, 289, 143, 61, 309, 16, 28, 68, 95, 29, 4020, 19, 2231, 1775, 21, 61, 92, 452, 4632, 42, 1357, 8, 15, 421, 17, 78, 1607, 8536, 42, 14500, 1, 983, 41, 7086, 14, 29, 65, 72, 7, 10, 14, 61, 1013, 67, 11, 1, 366, 8, 15, 329, 6, 10908, 2, 2094, 266, 152, 7, 1357, 95, 61, 2499, 61, 102, 5, 202, 1327, 18, 0, 497, 51, 14, 29, 8, 15, 84, 3374, 48, 4, 61, 8, 15, 156, 1715, 6, 96, 2, 34, 6, 1, 663, 0, 9877, 39, 58, 81, 34, 113, 11, 19439, 1838, 9, 14, 25, 56, 118, 0, 40, 9697, 527, 2, 21, 295, 1506, 43, 758, 59, 1357, 790, 51, 10, 56, 33, 229, 50, 10, 8, 15, 40, 8, 925, 298, 8, 35, 25, 65, 32, 200, 14, 12174, 65, 32, 587, 49, 1357, 8, 15, 8, 5219, 8, 17, 40, 9697, 527, 2173, 4, 0, 96, 9102, 2, 21, 6, 268, 1357, 748, 7, 104, 1, 9213, 43, 14, 12174, 391, 8, 26, 508, 96, 107, 4769, 31, 1443, 18, 2094, 24, 50, 38, 8, 185, 43, 1605, 36, 385, 969, 3, 143, 90, 1357, 4, 2094, 916, 36, 31, 1621, 121, 12174, 56, 43, 723, 174, 98, 53, 23, 2, 12, 71, 193, 5, 2186, 51, 6, 0, 24, 259, 39, 1988, 19874, 23, 3, 1, 8, 3437, 8, 6, 1, 4535, 2, 12174, 9, 43, 961, 14, 29, 52, 7, 3514, 13, 4645, 0, 585, 41, 1869, 51, 1, 3079, 27, 5, 5733, 2, 436, 45, 9, 1, 513, 6, 0, 1, 4087, 7, 10893, 1, 2908, 6235, 334, 302, 1, 3666, 4, 6, 268, 0, 9, 57, 36, 14, 108, 35, 1, 68, 71, 78, 229, 141, 11, 1, 440, 22, 9, 1, 9697, 527, 3666, 2, 1, 765, 16, 186, 57, 17, 10, 2125, 1, 4376, 231, 6, 5, 3079, 763, 86, 2, 17, 1, 2908, 6235, 151, 139, 3, 1, 5577, 6, 1, 1205, 9, 589, 11, 331, 2180, 59, 12174, 1596, 1, 1253, 9697, 527, 2924, 2, 1, 1362, 6, 1, 22, 9, 17, 1572, 51, 17, 1, 364, 6, 1, 22, 2, 143, 130, 10, 198, 43, 211, 19, 34, 6, 12174, 8, 15, 13440, 7, 6620, 4518, 53, 45, 8, 15, 14, 2636, 3, 100, 1, 15505, 9, 1039, 987, 3, 100, 29, 265, 11, 4, 6547, 14, 29, 8, 15, 5, 433, 3, 1357, 744, 2333, 4, 428, 107, 29, 17404, 3, 1, 15505, 7549, 96, 2, 59, 1357, 428, 899, 67, 18, 2094, 36, 1, 329, 3, 75, 591, 93, 2094, 193, 48, 910, 27, 1, 2140, 2, 124, 61, 826, 2041, 10, 42, 12174, 107, 1, 3079, 59, 29, 437, 51, 7, 2604, 53, 10, 8, 15, 118, 1829, 2, 63, 411, 3, 2094, 1135, 461, 1, 484, 6042, 7408, 51, 6, 1, 1289, 2, 163, 3, 48, 15157, 4, 3003, 7, 12174, 56, 33, 1829, 39, 48, 8670, 9218, 36, 1, 910, 6, 1357, 4, 14500, 8, 15, 8536, 2, 21, 107, 171, 152, 7, 1357, 95, 61, 3584, 12174, 3, 61, 5537, 497, 27, 96, 59, 29, 9, 94, 4387, 2, 47, 17, 45, 9, 8, 3639, 4850, 8, 3, 25, 32, 8, 3639, 6042, 7408, 8, 2, 11, 22, 0, 0, 3044, 7, 1, 321, 445, 39, 3206, 4, 3621, 3, 1, 8110, 8973, 8, 19439, 39, 1838, 8, 17, 34, 6, 1, 94, 1598, 4, 1490, 6, 22, 1675, 2, 12, 7734, 7, 11206, 2, 11, 622, 7, 32, 1522, 25, 348, 109, 14, 32, 89, 1155, 4, 11, 622, 7, 33, 1490, 25, 348, 5, 70, 14, 8, 15, 4231, 2, 19439, 1838, 52, 1118, 2, 10, 8, 15, 40, 4088, 872, 20, 14, 826, 52, 258, 387, 11, 1, 12714, 6, 518, 329, 11610, 2, 288, 179, 3, 1, 9771, 4949, 52, 0, 11, 0, 1, 1308, 6, 17332, 2], 0), ([78, 3, 1, 20, 213, 8, 26, 609, 164, 2, 777, 3, 12, 978, 3, 45, 30, 5, 180, 1921, 404, 3, 21, 407, 168, 14, 9, 9180, 164, 2, 19, 475, 208, 163, 5, 9856, 396, 141, 207, 11842, 4, 34, 6, 48, 923, 0, 3, 13187, 9, 19656, 7, 1, 0, 4, 29, 592, 5314, 48, 4453, 2, 163, 1198, 1, 654, 7, 9045, 1, 1550, 3, 29, 701, 48, 3, 777, 3, 91, 8, 26, 151, 1678, 2, 72, 3, 1921, 3, 21, 28, 164, 2, 1, 120, 4, 119, 30, 189, 57, 2, 21, 4437, 11842, 407, 2159, 1, 127, 2, 61, 8, 15, 895, 4, 1279, 4, 45, 9, 5, 71, 9856, 141, 18, 48, 14, 34, 56, 8, 26, 347, 21, 9226, 4, 11037, 2, 45, 30, 92, 55, 83, 60, 1279, 145, 18, 48, 4, 61, 52, 55, 60, 5383, 404, 2, 456, 3, 553, 419, 2, 12, 8, 241, 68, 205, 10, 282, 50, 28, 19, 4437, 11842, 2], 1), ([1, 89, 11115, 8421, 3, 41, 391, 40, 8, 891, 8, 3, 4, 41, 52, 2915, 7967, 147, 17, 8, 1, 725, 9924, 8, 754, 734, 6, 401, 3, 1013, 31, 1776, 649, 18, 671, 0, 106, 147, 17, 13, 34, 3, 8, 0, 8, 3, 4, 147, 2, 0, 3, 840, 2, 34, 150, 198, 2232, 27, 317, 96, 261, 31, 60, 128, 7, 104, 13, 2783, 154, 894, 2, 763, 76, 1, 490, 59, 29, 16, 3939, 39, 1357, 7561, 3, 574, 6403, 3, 1158, 4315, 3, 11509, 16561, 3, 11, 8, 1, 1896, 1559, 8, 3, 4, 2252, 190, 476, 1, 799, 6602, 10605, 704, 2, 10, 8, 15, 855, 7, 104, 5, 573, 51, 6, 116, 40, 297, 3, 531, 2], 0), ([13, 471, 659, 2223, 5, 233, 6, 5, 9444, 1573, 161, 601, 59, 10, 12553, 27, 647, 80, 28, 661, 11, 79, 251, 1484, 535, 3, 10, 2377, 476, 1, 9034, 21, 107, 272, 114, 10, 3, 12, 8, 148, 28, 758, 14, 10, 124, 1032, 5, 9444, 2, 28, 602, 95, 6, 1, 1536, 24, 264, 10, 9, 5, 233, 58, 8, 7325, 8, 81, 1, 629, 251, 7411, 23, 80, 10, 52, 58, 7, 90, 18, 1, 16390, 1993, 11, 13, 630, 2, 536, 3, 13, 282, 181, 209, 9, 459, 27, 5, 275, 39, 2507, 3433, 4, 1292, 99, 290, 1083, 27, 9183, 80, 264, 1, 120, 92, 52, 654, 7, 3923, 55, 83, 8, 463, 8, 2629, 6, 3415, 2, 260, 290, 113, 9, 40, 0, 257, 750, 9010, 24, 341, 19, 2995, 23, 42, 7950, 2, 61, 9, 14793, 39, 636, 7, 923, 2299, 3696, 6438, 4649, 107, 317, 48, 36, 5, 1652, 127, 4, 514, 801, 7495, 37, 6, 48, 279, 80, 803, 5242, 1, 839, 6, 1, 3696, 4, 1507, 48, 11838, 2, 10, 8, 15, 28, 211, 163, 6438, 9, 2818, 5, 561, 7, 308, 27, 1790, 5443, 11, 1223, 4, 272, 427, 57, 351, 18, 9010, 3, 61, 5797, 48, 342, 19, 1, 1311, 2, 1, 491, 226, 1790, 59, 9010, 311, 7, 1, 1006, 92, 4, 1, 1821, 461, 5, 1006, 3747, 2, 2, 2, 21, 6438, 2087, 9010, 8, 15, 540, 3, 949, 48, 88, 40, 4744, 709, 1223, 8, 15, 6765, 15227, 2, 12, 212, 978, 14, 62, 274, 1480, 1359, 64, 14115, 6, 3099, 4, 8874, 112, 43, 45, 293, 8, 26, 235, 11, 13, 34, 14, 16, 194, 7, 1543, 77, 2, 469, 116, 246, 5598, 7, 10, 3, 12, 32, 7, 135, 14, 12, 8, 148, 140, 758, 36, 256, 41, 523, 13, 22, 437, 108, 237, 1876, 45, 9, 55, 2340, 396, 4, 83, 493, 3, 21, 10, 8, 15, 118, 9332, 46, 8839, 4, 1, 22, 71, 412, 8, 26, 32, 84, 102, 206, 10, 2, 1, 290, 1083, 9, 218, 27, 1, 70, 4, 1, 70, 9, 71, 78, 229, 2, 1, 22, 9, 224, 282, 612, 211, 11, 932, 3, 21, 50, 235, 14, 213, 8, 26, 211, 194, 7, 82, 267, 624, 2, 2507, 3433, 9, 534, 40, 4113, 728, 3, 4, 1, 22, 1306, 230, 19, 1, 5785, 2, 1, 119, 9, 1192, 17, 25, 65, 519, 3, 21, 12, 212, 978, 14, 12, 258, 477, 543, 7804, 16484, 2132, 4, 283, 7, 82, 27, 18, 36, 97, 264, 61, 3225, 88, 48, 223, 78, 17, 1, 22, 4450, 2, 1, 2811, 9, 5, 126, 233, 6, 5, 454, 4, 175, 8009, 17163, 9, 5, 233, 108, 13909, 19, 62, 3835, 2, 1, 70, 130, 82, 5, 126, 233, 4340, 904, 1, 137, 92, 3, 69, 9, 5, 816, 95, 13, 22, 9, 36, 10, 8, 15, 5111, 302, 1, 463, 395, 24, 409, 280, 116, 1, 331, 222, 6, 282, 19, 77, 23, 2, 45, 8, 15, 28, 71, 5, 4614, 222, 7, 1, 22, 80, 46, 36, 225, 28, 34, 14, 12, 101, 72, 2, 14, 8, 15, 28, 665, 17, 237, 17, 12, 8, 148, 1989, 197, 3, 17, 9668, 1, 5630, 701, 5, 57, 70, 4, 58, 81, 7707, 62, 1397, 2, 276, 3351, 51, 3, 19, 85, 14, 44, 13, 422, 6, 493, 2], 1), ([78, 12, 32, 7, 978, 13, 16, 34, 6, 62, 2347, 17, 5, 541, 3, 59, 12, 334, 7, 111, 10, 27, 5, 352, 15111, 17, 5, 0, 4873, 2, 156, 45, 213, 8, 26, 79, 7, 380, 10, 3, 83, 81, 1, 6728, 1227, 1106, 6, 160, 116, 5762, 39, 0, 6, 398, 12783, 2, 1, 312, 299, 30, 189, 663, 3, 635, 8598, 6, 12783, 27, 9680, 4, 15192, 1300, 1064, 2, 21, 45, 8, 15, 146, 7, 33, 307, 19, 1, 721, 2, 1, 1024, 3408, 11, 69, 10, 311, 273, 9, 189, 942, 3, 269, 240, 10, 8, 15, 635, 0, 24, 243, 675, 7, 19338, 1000, 53, 23, 2, 10, 407, 9988, 58, 966, 81, 3700, 3, 197, 2, 47, 349, 28, 7, 82, 1, 10949, 59, 1, 330, 24, 41, 130, 58, 81, 48, 1467, 6, 2006, 23, 266, 88, 1, 16882, 4, 9, 6801, 18, 1, 1300, 6, 48, 643, 8, 15, 3560, 2], 0), ([12, 16, 2852, 874, 7, 5458, 39, 62, 330, 17, 61, 9, 5291, 39, 1, 4125, 2043, 6, 3397, 4, 73, 480, 3, 4, 61, 391, 8, 26, 151, 7, 1, 451, 206, 77, 2, 264, 764, 1514, 8, 26, 519, 7, 33, 0, 3, 13, 22, 9, 60, 78, 102, 4, 1, 1019, 1309, 9, 350, 7, 650, 2, 11, 115, 783, 10, 1544, 0, 1, 5163, 14, 3138, 16, 1, 4368, 0, 0, 253, 606, 114, 11, 7571, 2, 61, 16, 5, 1970, 1190, 4, 1882, 7, 1, 480, 6, 48, 405, 161, 3, 5, 250, 1895, 686, 196, 253, 2, 48, 122, 6, 2549, 16, 1, 3312, 6, 303, 122, 3, 4, 63, 50, 25, 68, 1525, 1, 633, 6, 393, 61, 2592, 24, 1233, 23, 3, 38, 212, 32, 74, 5, 4706, 620, 2, 37, 6, 13, 9, 78, 19322, 51, 11, 1, 22, 2, 7, 13, 137, 3, 1, 188, 52, 84, 78, 6374, 18, 203, 3127, 5463, 4, 5021, 433, 742, 467, 372, 17, 3138, 4, 2549, 2, 24, 1666, 6312, 23, 1, 1379, 4979, 9, 660, 5057, 17, 36, 64, 66, 124, 2266, 2549, 82, 326, 142, 8944, 3138, 2, 45, 16, 36, 225, 34, 5511, 557, 59, 38, 76, 51, 300, 3, 21, 1201, 16, 3526, 39, 1, 0, 2, 12, 92, 258, 10, 1015, 14, 126, 16, 229, 7, 9945, 27, 1, 8239, 4532, 620, 207, 3138, 8, 15, 421, 4, 2646, 313, 8431, 2, 10, 9, 186, 1291, 14, 13, 620, 16, 1, 303, 289, 19, 3138, 8, 15, 15435, 19, 203, 48, 421, 4, 8431, 2, 12, 92, 258, 10, 1015, 14, 45, 16, 40, 557, 7, 1995, 1, 620, 207, 3138, 4, 1619, 9194, 17, 0, 27, 1, 755, 3, 46, 36, 225, 272, 1, 1046, 7, 427, 755, 2, 29, 16, 473, 11, 31, 538, 1351, 8, 15, 59, 3138, 373, 7, 1, 7712, 3, 4, 142, 9602, 207, 924, 339, 4, 196, 366, 76, 1127, 11, 14, 1030, 3, 1, 20, 2265, 9194, 17, 116, 5, 7751, 1074, 146, 4, 2980, 7, 2266, 2549, 2, 45, 76, 659, 7582, 7, 2549, 3, 21, 61, 101, 118, 32, 1037, 63, 1035, 1797, 48, 1533, 11, 125, 3, 4, 2549, 16, 34, 6, 68, 5, 3314, 41, 65, 32, 84, 3196, 11, 105, 418, 2, 37, 11, 37, 12, 32, 947, 411, 219, 36, 1, 451, 3, 4, 0, 790, 18, 62, 330, 56, 8, 26, 33, 5, 86, 154, 344, 2], 1), ([12, 122, 4, 3075, 1, 14914, 1105, 35, 93, 217, 12, 68, 193, 7, 72, 13, 89, 20, 430, 161, 107, 10, 8, 15, 766, 53, 10, 102, 77, 443, 3, 10, 102, 77, 1437, 4, 10, 0, 14196, 62, 540, 2, 202, 66, 2, 10, 8, 15, 283, 7, 1646, 11, 62, 4339, 610, 80, 21, 12, 32, 7, 349, 536, 1, 188, 9, 327, 481, 80, 42, 1, 0, 7, 1, 737, 603, 3, 1, 119, 9, 89, 3, 1, 3275, 30, 89, 4, 1, 22, 9, 888, 532, 4, 1955, 2, 12, 110, 14, 1, 14914, 1105, 106, 30, 413, 13695, 80, 38, 30, 28, 705, 1338, 80, 38, 8, 185, 0, 35, 38, 722, 49, 54, 125, 9, 37, 49, 24, 12, 391, 8, 26, 377, 25, 35, 23, 2, 11, 62, 418, 3, 13, 20, 0, 7, 77, 54, 1426, 30, 37, 49, 50, 25, 122, 1810, 292, 98, 893, 3, 281, 98, 33, 80, 349, 7, 1467, 1, 1586, 4, 1, 1452, 4, 218, 33, 303, 7, 249, 83, 2, 12, 8, 148, 28, 5, 0, 3, 21, 407, 5, 2351, 4476, 2, 21, 11, 13, 20, 80, 1, 0, 82, 25, 2, 12, 101, 6216, 1, 848, 6, 2632, 2, 428, 3, 13, 20, 1829, 7, 77, 54, 116, 5, 0, 56, 384, 7, 25, 4, 54, 598, 0, 45, 212, 33, 51, 45, 2, 1162, 43, 79, 3, 4869, 195, 1673, 35, 1749, 2, 15, 2, 50, 25, 707, 8, 26, 114, 10, 80, 577, 859, 51, 17727, 35], 1), ([5176, 35, 2, 2, 2, 13, 9, 1, 252, 9271, 910, 192, 2, 2, 2, 2, 64, 57, 4298, 2, 2, 2, 2, 2, 4858, 5790, 0, 31, 136, 0, 8112, 424, 255, 179, 11, 1, 290, 1508, 3, 1, 1504, 705, 0, 9057, 35, 2, 2, 2, 2, 28, 34, 154, 911, 1638, 27, 13, 1925, 3, 436, 2, 2, 12, 198, 14, 152, 2, 2, 2, 13, 9, 1240, 4338, 8, 15, 97, 0, 2, 2, 2, 21, 83, 81, 14, 2, 2, 2, 2, 10, 52, 168, 276, 0, 2, 2, 2, 2, 5, 645, 8250, 2, 2, 2, 457, 51, 6, 306, 419, 0, 35, 35, 35], 0), ([407, 1349, 11, 13, 702, 35, 12, 0, 321, 3536, 4, 32, 229, 240, 12, 97, 214, 10, 538, 36, 318, 59, 10, 97, 3271, 27, 0, 11, 1, 2408, 59, 12, 16, 3194, 2, 1, 6031, 102, 7, 1867, 715, 30, 47, 49, 208, 2, 10, 8, 15, 420, 525, 2233, 19528, 21, 18, 745, 8994, 109, 2, 128, 6, 37, 3, 4, 1, 289, 12, 122, 10, 43, 79, 3, 9, 10, 74, 1, 3183, 7, 118, 33, 328, 4, 478, 35, 3837, 3101, 162, 1753, 105, 5347, 413, 500, 39, 3, 17, 29, 523, 3, 742, 85, 194, 4668, 7, 2925, 521, 18, 2, 31, 8323, 68, 500, 95, 6, 83, 85, 8, 15, 865, 5428, 2, 12110, 162, 1299, 5, 4456, 3, 247, 3, 5297, 431, 56, 36, 219, 127, 1, 19765, 463, 504, 9579, 42, 31, 340, 2, 650, 6, 1, 109, 30, 5273, 57, 46, 86, 18, 63, 1, 18233, 0, 726, 5, 0, 504, 149, 7921, 4314, 11, 1, 3281, 0, 2, 28, 68, 14, 21, 272, 12602, 3, 1, 4805, 154, 7, 5, 421, 861, 19, 12110, 3, 28, 68, 1643, 18, 21, 762, 11, 122, 18, 3837, 469, 37, 61, 708, 102, 77, 3410, 13, 127, 65, 47, 151, 45, 4, 28, 17386, 19, 10, 2, 12, 8, 148, 5, 642, 7153, 336, 3, 21, 59, 14, 127, 738, 7, 151, 71, 8, 463, 8, 11, 315, 2416, 10, 1200, 3068, 95, 10, 415, 10, 8, 15, 1921, 504, 4, 159, 8, 26, 3742, 1404, 7, 99, 988, 2, 0, 279, 14, 25, 56, 32, 5, 5051, 17410, 113, 208, 36, 1, 540, 6, 1, 127, 3, 4, 140, 32, 5, 618, 6, 443, 402, 10, 2, 12, 56, 8, 26, 63, 110, 49, 143, 10, 16, 7499, 17, 12, 8, 236, 47, 82, 108, 1633, 36, 1, 12361, 6, 10, 37, 2, 43, 79, 1846, 27, 251, 4, 57, 3, 216, 279, 82, 4265, 190, 4, 0, 27, 2, 1162, 7, 1, 16816, 6, 274, 36, 225, 12, 56, 72, 1, 127, 11, 10, 8, 15, 5719, 35, 414, 55, 6, 1, 2001, 169, 2118, 156, 3, 21, 1, 942, 681, 848, 9, 1903, 78, 194, 39, 1, 70, 404, 2, 1, 160, 92, 37, 205, 147, 410, 372, 14, 10, 58, 81, 167, 67, 19, 55, 1015, 375, 170, 2, 1, 68, 289, 143, 12, 110, 294, 210, 28, 44, 13, 127, 9, 14, 10, 213, 8, 26, 44, 1, 7368, 121, 45, 30, 2991, 7, 8, 3059, 8, 46, 415, 121, 45, 8, 15, 642, 7716, 1151, 2, 10, 8, 15, 189, 619, 42, 1, 82, 151, 14, 3837, 3101, 52, 55, 247, 6, 484, 1745, 3, 4, 14, 1, 127, 9, 37, 49, 1017, 19, 12110, 8, 15, 1356, 2, 43, 13, 127, 227, 0, 85, 284, 19, 5, 1230, 46, 40, 1659, 8, 860, 8, 7, 174, 2, 414, 45, 30, 55, 1368, 7716, 1360, 3, 18, 55, 147, 17, 1, 860, 49, 0, 797, 385, 5222, 3, 21, 1018, 415, 4, 7368, 13, 127, 213, 8, 26, 49, 262, 7, 174, 51, 58, 8, 2163, 8, 49, 54, 8, 15, 171, 27, 7668, 2, 10, 8, 15, 37, 49, 1, 109, 4, 1, 103, 38, 32, 7, 5846, 1602, 2858, 11, 1, 2211, 182, 6, 10815, 2, 1251, 12, 65, 47, 82, 147, 5, 2186, 51, 6, 317, 3837, 487, 177, 831, 7, 31, 2906, 2, 37, 11, 37, 1, 290, 154, 12, 32, 7, 135, 9, 859, 10, 51, 2, 12, 8, 148, 189, 732, 94, 0, 450, 87, 122, 10, 2, 92, 63, 162, 10, 193, 7499, 37, 109, 32, 12485, 4, 45, 9, 194, 11, 1, 1957, 7, 205, 55, 420, 287, 6, 10142, 2, 1, 68, 2617, 4969, 12, 452, 16, 717, 2164, 2, 272, 96, 28, 33, 11, 1, 464, 698, 9, 681, 2, 12, 65, 32, 229, 235, 19, 5, 350, 819, 3, 21, 36, 225, 1, 389, 6087, 698, 1883, 4, 383, 361, 93, 5961, 55, 251, 11224, 991, 7, 33, 12, 150, 33, 1238, 13, 386, 127, 193, 102, 36, 37, 35, 35, 35], 1), ([50, 25, 32, 105, 422, 6, 4803, 19, 113, 4, 403, 3, 4, 105, 287, 6, 321, 2651, 480, 3, 25, 87, 174, 5, 172, 6, 60, 7257, 808, 11, 13, 22, 2, 10, 243, 16, 1762, 5, 308, 3, 4, 14, 8, 15, 143, 10, 8, 15, 403, 1415, 3, 21, 12, 56, 8, 26, 4065, 194, 93, 138, 8307, 14, 75, 68, 32, 5, 2090, 382, 6, 30, 102, 88, 374, 1280, 4, 386, 109, 2, 13, 22, 9, 132, 81, 105, 1108, 268, 19, 1003, 25, 93, 7, 1004, 5, 12913, 70, 2], 1), ([75, 8, 185, 5, 211, 103, 42, 2797, 2, 288, 179, 6454, 5615, 4902, 3, 6033, 3346, 419, 17, 5, 548, 1365, 750, 968, 3, 4, 2521, 8221, 9, 1, 316, 253, 41, 11251, 96, 3, 21, 168, 324, 49, 121, 1, 8703, 640, 3592, 295, 8, 15, 512, 3702, 600, 805, 2, 310, 6, 7069, 12345, 403, 75, 82, 2325, 3, 6427, 1709, 2, 142, 1, 930, 22, 537, 273, 11, 1, 0, 4593, 0, 6, 176, 866, 844, 3, 133, 75, 8, 185, 11, 1, 10712, 7648, 6, 463, 1964, 3, 14968, 3, 671, 16406, 4, 9932, 16847, 2, 8221, 3, 1492, 17, 129, 3, 156, 500, 17, 5, 0, 14498, 4, 466, 11, 2462, 5362, 24, 1, 3379, 6, 1, 3632, 41, 288, 193, 5, 1460, 10428, 51, 6, 2797, 8, 15, 968, 0, 23, 2, 13, 66, 3346, 9, 968, 7757, 3, 40, 924, 3, 17159, 3, 58, 3306, 319, 6, 1, 598, 983, 11, 5, 13688, 6890, 2, 121, 1, 8703, 640, 3223, 7, 5, 10803, 6, 1675, 3, 106, 49, 548, 5577, 4287, 27, 1459, 41, 56, 8, 26, 1172, 73, 1184, 15560, 2, 44, 3606, 2143, 8, 15, 113, 11, 1365, 70, 3, 7757, 6275, 31, 12769, 6895, 19, 7746, 7, 31, 340, 8, 15, 1817, 509, 2, 121, 2143, 9, 13183, 4, 1908, 7, 31, 204, 4810, 3, 3346, 9, 17444, 39, 6549, 3092, 4, 16433, 2, 29, 2575, 1107, 5, 1651, 4, 3598, 67, 31, 1611, 18, 40, 557, 7, 1293, 6669, 27, 5, 6072, 2174, 24, 1967, 17009, 23, 914, 29, 52, 84, 0, 8348, 19, 161, 2, 310, 3, 5, 7550, 7154, 2173, 9, 6668, 95, 29, 8, 15, 1, 340, 6, 1, 354, 134, 8, 15, 7175, 4, 14512, 330, 2115, 24, 2521, 8221, 23, 2, 7757, 3, 1471, 11, 122, 18, 1, 330, 6, 1, 134, 29, 533, 3, 516, 2750, 7, 575, 48, 340, 206, 742, 314, 248, 2, 754, 1675, 2901, 3, 6033, 3346, 74, 13, 7291, 29, 16, 5794, 6, 2868, 14181, 2, 63, 59, 394, 40, 890, 926, 3, 17, 29, 606, 124, 3, 29, 218, 265, 624, 17, 6963, 2802, 4, 13133, 58, 81, 14, 3, 31, 951, 6, 116, 108, 4456, 19, 31, 204, 5190, 423, 96, 14, 0, 0, 14, 16, 31, 3312, 17, 40, 297, 2, 29, 259, 1831, 460, 3, 1459, 4, 1165, 3, 21, 218, 18, 5, 1598, 16535, 6, 317, 4, 1322, 108, 79, 2, 31, 0, 1740, 30, 5930, 39, 19557, 3, 3092, 3, 1, 5364, 129, 7, 10470, 67, 2, 64, 83, 297, 101, 32, 5411, 43, 78, 1, 0, 2650, 3, 1, 0, 1452, 3, 1, 0, 1656, 6, 968, 7757, 2, 29, 92, 52, 5, 10018, 8378, 3, 5, 18783, 5231, 4, 63, 10831, 465, 14, 104, 96, 5420, 2, 13, 265, 51, 59, 29, 311, 2115, 7, 5, 3665, 121, 29, 8, 15, 5, 2039, 3, 4, 19, 1, 97, 66, 75, 72, 13, 1130, 3, 1774, 134, 12420, 7195, 6190, 18, 1, 6681, 3, 655, 7345, 56, 8, 26, 2533, 48, 4554, 4, 5037, 19, 96, 2, 59, 7757, 1802, 31, 1922, 19, 301, 7, 82, 5, 2853, 19, 2115, 8, 15, 340, 3, 29, 9657, 10, 63, 162, 38, 1001, 11135, 4, 7757, 3775, 5, 3042, 36, 96, 2, 45, 30, 64, 678, 49, 5306, 46, 1322, 29, 8, 15, 5, 57, 221, 849, 192, 3, 21, 75, 72, 10, 37, 11, 1, 134, 8, 15, 13760, 3098, 4, 31, 330, 8, 15, 0, 17, 61, 910, 136, 55, 10456, 7, 13130, 2, 7757, 8, 15, 3424, 265, 624, 149, 83, 85, 8, 15, 3135, 7, 96, 17, 79, 17, 149, 3346, 8, 15, 1674, 703, 242, 2, 162, 6033, 3346, 16, 5, 1375, 355, 3, 29, 210, 33, 1, 8196, 7659, 134, 2, 29, 266, 149, 55, 106, 1053, 129, 661, 139, 31, 0, 18, 14, 0, 3, 0, 18011, 3, 999, 0, 39, 1, 0, 3, 1, 2943, 6, 0, 3, 1, 6493, 29, 158, 8, 26, 198, 51, 6, 31, 1663, 59, 29, 2138, 3, 29, 291, 8981, 11, 1, 10235, 3893, 6, 16521, 4, 0, 2, 142, 115, 11610, 0, 1, 0, 1236, 221, 3, 121, 1, 8703, 640, 1542, 40, 15859, 3361, 6, 1, 623, 510, 1, 0, 3, 5, 2944, 4, 6936, 5081, 6, 1, 4876, 4, 3352, 6, 582, 2, 3346, 16, 1022, 2148, 11, 31, 204, 66, 24, 29, 16, 1, 68, 34, 6, 1, 282, 2901, 11, 1, 128, 161, 6, 260, 466, 28, 2406, 19, 40, 1710, 1419, 3, 162, 31, 5540, 242, 9, 237, 58, 1490, 81, 12217, 3958, 8, 15, 6115, 3, 11618, 2056, 23, 2, 3402, 3, 3346, 1517, 11, 55, 112, 14, 18489, 31, 12632, 3, 4, 156, 36, 239, 13, 15615, 22, 3, 69, 1359, 31, 128, 242, 3, 56, 33, 114, 17, 181, 6, 1, 3131, 1460, 22, 1675, 292, 2, 13, 209, 3, 571, 5, 633, 6, 118, 163, 615, 2723, 24, 147, 17, 2024, 5769, 4, 5944, 8, 6520, 23, 3, 2985, 14, 0, 210, 32, 74, 1, 1830, 1923, 6, 37, 1, 645, 2392, 59, 10, 373, 7, 22, 1675, 2], 1), ([159, 8, 26, 1, 728, 19, 13, 20, 72, 1, 83, 282, 53, 12, 446, 1, 216, 3, 12, 200, 280, 16, 1, 128, 3, 12, 12818, 430, 24, 10, 16, 588, 3, 168, 312, 23, 2, 21, 12, 1782, 13, 34, 2, 41, 2955, 38, 508, 139, 0, 53, 13, 16, 435, 28, 1, 0, 41, 74, 84, 224, 44, 5, 599, 7, 1274, 11, 633, 280, 2, 392, 31, 2130, 53, 1274, 307, 3, 25, 567, 8, 26, 47, 546, 77, 27, 688, 3, 65, 25, 2, 0, 16404, 3, 1274, 3, 6028, 1844, 3, 614, 14, 29, 16, 156, 34, 6, 98, 156, 2, 93, 2955, 1, 985, 2681, 13, 312, 1248, 207, 98, 4, 487, 96, 88, 5, 9491, 41, 82, 8, 15, 533, 39, 1274, 24, 11, 5, 602, 2132, 141, 23, 47, 95, 38, 1671, 1, 20, 16, 385, 356, 2, 11, 199, 19, 1, 97, 948, 232, 3, 75, 82, 5, 176, 188, 4, 32, 7, 827, 13, 211, 360, 75, 179, 174, 51, 54, 604, 7, 1274, 3, 41, 16, 1, 662, 75, 8, 144, 84, 1039, 7, 72, 2, 12, 812, 1039, 614, 3, 217, 27, 3, 59, 8, 15, 1274, 171, 7, 991, 53, 3803, 0, 212, 33, 402, 48, 128, 7, 6711, 61, 16, 129, 11, 13, 2309, 2, 703, 10, 7, 1, 699, 14892, 1, 3726, 6, 129, 317, 5, 743, 18, 1, 216, 188, 46, 11, 260, 66, 2, 12, 110, 1, 985, 864, 3, 14, 73, 20, 16, 171, 7, 33, 1, 239, 4, 38, 101, 90, 863, 38, 468, 2, 13, 20, 9, 458, 51, 6, 381, 18, 1, 97, 117, 2, 4, 10, 159, 8, 26, 63, 320, 44, 10, 16, 449, 39, 1, 173, 85, 41, 102, 430, 2, 430, 36, 225, 74, 465, 4, 101, 723, 33, 114, 39, 1136, 393, 2, 607, 9, 47, 1462, 4, 9384, 24, 2083, 2955, 23, 9, 602, 2401, 4, 1784, 2, 12, 1782, 13, 20, 2, 1782, 3, 1782, 3, 1782, 10, 2, 12, 1782, 1, 199, 14, 256, 101, 44, 10, 4, 12, 1782, 1, 199, 14, 10, 2370, 54, 16, 34, 6, 62, 512, 1227, 2047, 2, 12, 205, 13, 5, 34, 378, 333, 95, 804, 2, 3021, 391, 8, 26, 281, 77, 205, 10, 5, 1739, 2], 0), ([12, 151, 7, 1, 451, 7, 33, 2215, 2, 45, 9, 429, 168, 432, 49, 13, 22, 2, 42, 470, 7, 137, 3, 45, 9, 64, 16405, 42, 1, 3988, 3, 15509, 623, 6, 13, 253, 8, 15, 125, 2, 10, 9, 0, 3, 18, 64, 657, 6, 1181, 2, 12, 5018, 360, 1, 137, 68, 95, 12, 16, 2670, 14, 184, 212, 82, 132, 2, 38, 91, 8, 26, 3, 4, 12, 91, 8, 26, 110, 12, 16, 1, 68, 34, 3, 17, 13870, 39, 1, 115, 14939, 9639, 190, 1, 451, 17, 1, 22, 2652, 8657, 7, 5, 556, 2, 1131, 4526, 1080, 0, 9, 64, 837, 3, 21, 356, 131, 304, 7, 14939, 9, 28, 1, 103, 7, 1204, 1, 2319, 6, 1, 937, 2, 5, 1972, 22, 2], 0), ([1, 986, 6, 1, 1977, 523, 10, 37, 206, 760, 3, 1, 94, 1020, 20, 6, 99, 247, 240, 1, 2160, 4848, 2816, 2, 12, 8, 148, 5, 642, 336, 6, 1391, 8, 15, 4, 950, 8, 15, 6557, 4, 12, 32, 7, 135, 3, 12, 990, 1610, 18193, 2, 1, 109, 30, 829, 3, 1, 160, 32, 40, 327, 1432, 24, 269, 693, 3067, 17, 1, 0, 23, 2, 45, 8, 15, 1, 2211, 848, 3, 14, 68, 6300, 52, 3, 40, 5771, 704, 7, 4515, 1, 1366, 4, 1, 1270, 1733, 14, 30, 1, 94, 316, 11, 1, 480, 6, 201, 2, 13, 52, 7, 33, 34, 6, 1, 94, 1262, 326, 201, 112, 6, 37, 66, 35, 1726, 15024, 17, 5, 175, 6, 13, 5276, 486, 416, 22, 130, 4, 327, 298, 4, 18, 31, 83, 500, 24, 1289, 4756, 3, 358, 487, 23, 1243, 3, 29, 212, 33, 34, 6, 1, 94, 2148, 934, 11, 1, 0, 502, 2], 1), ([142, 12, 990, 14, 13, 20, 1511, 105, 157, 2318, 4, 150, 28, 33, 578, 579, 3, 99, 3963, 532, 7, 450, 6, 1, 209, 41, 30, 284, 19, 5, 1597, 4327, 2, 4315, 24, 767, 11917, 23, 288, 179, 311, 7, 1, 1964, 24, 361, 5, 6623, 7, 508, 39, 1, 2298, 548, 64, 346, 23, 4, 1089, 88, 31, 351, 1621, 24, 41, 25, 4474, 10, 23, 16, 533, 39, 5, 929, 1205, 14, 52, 578, 1172, 6, 1, 3379, 24, 69, 291, 44, 0, 23, 2, 10, 8, 15, 164, 14, 85, 41, 6578, 18, 4315, 32, 5, 6614, 6, 385, 533, 2, 4315, 0, 1107, 98, 139, 34, 39, 34, 17, 1, 85, 11, 1, 3379, 30, 334, 439, 96, 2, 45, 30, 55, 7520, 207, 4315, 4, 0, 41, 822, 1, 929, 1205, 3, 25, 56, 377, 38, 203, 362, 73, 170, 2, 36, 34, 222, 11, 1, 20, 107, 38, 0, 11, 1, 564, 2605, 3, 0, 135, 8, 15, 3, 12, 8, 148, 171, 7, 508, 5, 126, 178, 753, 47, 19, 25, 3, 1329, 10, 27, 1, 1207, 4165, 1484, 2, 1, 0, 3, 5, 10520, 3159, 41, 966, 17, 29, 8, 15, 7509, 31, 3399, 9, 92, 727, 7, 111, 2, 1, 20, 16, 102, 11, 6308, 4, 94, 85, 243, 101, 3252, 18, 1, 2709, 2398, 6917, 14, 30, 188, 11, 1, 20, 2, 10, 8, 15, 727, 155, 4315, 24, 767, 11917, 23, 3797, 1, 1964, 6, 138, 4758, 2, 111, 19, 1, 1256, 6, 1, 0, 12671, 3, 5, 595, 434, 6, 11884, 14, 4315, 0, 2, 12, 92, 71, 425, 1, 704, 7, 13, 20, 2], 1), ([12, 214, 13, 20, 27, 7913, 1, 97, 66, 2, 100, 12, 1194, 1, 399, 4, 296, 10, 3309, 219, 2, 177, 66, 12, 111, 10, 3, 12, 56, 82, 146, 324, 51, 6, 10, 2, 10, 8, 15, 5, 157, 5271, 7, 1562, 7, 1033, 1603, 5, 125, 14, 16, 57, 3, 21, 156, 1, 182, 9, 2850, 2, 21, 25, 91, 8, 26, 32, 7, 33, 924, 7, 1033, 1603, 1, 509, 3, 63, 1, 196, 109, 3, 44, 3783, 91, 8, 26, 187, 184, 7, 657, 2, 1, 456, 1295, 4, 1181, 9, 327, 2, 1, 188, 9, 1348, 18, 0, 44, 4861, 4100, 3, 7847, 3885, 4, 1748, 3067, 2, 4, 99, 250, 7, 72, 1, 7609, 419, 163, 38, 632, 58, 5810, 807, 112, 3, 44, 1575, 1766, 2, 779, 8, 6588, 24, 1, 3186, 23, 4, 3139, 241, 8, 15674, 24, 339, 11, 328, 4, 1264, 195, 622, 1817, 0, 6, 62, 512, 279, 23, 2, 99, 47, 34, 6, 153, 106, 14, 2982, 18, 25, 2], 1), ([12, 296, 13, 209, 27, 7913, 152, 11, 1, 4398, 4, 140, 111, 1, 178, 6298, 177, 371, 6, 161, 46, 43, 2, 60, 3287, 4, 942, 531, 2, 13, 9, 5, 60, 57, 127, 17, 1, 109, 30, 37, 78, 4614, 4, 972, 2, 25, 30, 1572, 88, 1, 120, 4, 217, 7, 455, 19, 138, 85, 2, 1, 1947, 30, 224, 5006, 484, 3, 269, 1, 2026, 6, 0, 2, 134, 3, 12, 65, 122, 7, 1693, 1, 0, 51, 6, 14, 17209, 126, 8245, 2, 5052, 1466, 130, 40, 327, 298, 4, 212, 32, 74, 5, 89, 66, 116, 1, 2026, 2, 31, 15890, 431, 3, 2646, 221, 3, 9, 1372, 0, 21, 9, 92, 1092, 2, 734, 6, 600, 4, 4916, 11, 13, 209, 3, 342, 18, 3305, 6, 328, 1376, 4, 1851, 8733, 4, 184, 6, 14, 884, 2, 12, 1825, 10, 193, 40, 1419, 19, 393, 8, 15, 647, 69, 9, 1723, 2, 50, 12, 74, 359, 3, 12, 65, 28, 281, 98, 111, 13, 2, 1348, 357, 6, 1733, 11, 13, 127, 92, 2, 10, 9, 156, 27, 274, 3, 43, 151, 51, 4, 770, 10, 2], 1), ([777, 460, 3, 75, 123, 143, 75, 111, 22, 44, 1, 2910, 4029, 24, 47, 169, 36, 1, 986, 3, 134, 35, 23, 2, 26, 4, 5, 37, 136, 1, 273, 24, 18, 5, 172, 58, 26, 81, 5, 23, 2, 21, 2, 2, 2, 1514, 8, 26, 45, 33, 5, 70, 7, 151, 18, 10, 53, 1188, 8, 6125, 3, 12, 56, 825, 25, 135, 80, 13, 9, 47, 522, 0, 8, 1330, 35, 41, 748, 5, 70, 53, 53, 35, 78, 3, 50, 13, 76, 483, 1, 1330, 16277, 3, 12, 567, 8, 26, 32, 5, 454, 2, 21, 240, 138, 460, 30, 0, 42, 1, 2910, 134, 3, 38, 348, 7, 32, 5, 233, 6, 70, 0, 3, 25, 123, 3, 7, 390, 131, 343, 3087, 2, 197, 3, 37, 38, 56, 10733, 67, 9, 93, 13, 939, 828, 2141, 40, 14993, 9238, 4, 3, 59, 29, 8265, 3, 1099, 10, 7, 2874, 27, 1330, 366, 4, 640, 67, 846, 5, 172, 6, 2042, 2, 4, 59, 25, 72, 1, 0, 2042, 29, 266, 107, 3, 25, 8, 236, 33, 5922, 2, 34, 355, 3, 19, 1, 26, 4, 5, 3, 21, 45, 8, 15, 5, 126, 108, 79, 621, 19, 25, 2329, 450, 3, 43, 8063, 18, 8924, 2, 0, 80, 414, 3, 10, 8, 15, 14, 12368, 2], 0), ([59, 1, 20, 16, 615, 10, 16, 1, 1096, 632, 4, 10, 514, 847, 1, 2696, 2, 21, 1131, 1, 20, 9, 5, 668, 111, 18, 5, 120, 69, 0, 5, 3692, 2, 1, 20, 52, 5, 0, 80, 0, 0, 3, 0, 0, 69, 778, 122, 8, 15, 1146, 21, 3871, 9, 6347, 2, 11, 1, 20, 1, 662, 6, 1, 20, 24, 0, 23, 8692, 31, 122, 19, 1, 949, 753, 24, 0, 5533, 23, 63, 162, 1, 117, 446, 249, 83, 35, 31, 8985, 9, 1, 1156, 6, 1, 0, 2, 13, 20, 4054, 43, 115, 196, 1981, 3404, 14, 38, 258, 13, 0, 0, 2029, 60, 4456, 4, 2958, 847, 1, 1304, 20, 10, 9, 3, 59, 38, 101, 32, 1564, 27, 18, 73, 466, 2, 0, 8, 15, 119, 11, 1, 20, 9, 2139, 3, 9526, 4, 0, 379, 2, 29, 165, 291, 164, 11, 5, 616, 3, 24, 0, 0, 0, 2, 2, 2, 23, 59, 29, 8, 15, 444, 7, 169, 37, 3321, 4, 598, 2, 31, 291, 91, 8, 26, 347, 1, 949, 223, 344, 2, 31, 1113, 445, 9, 931, 229, 11, 94, 181, 6, 1, 20, 2, 0, 5533, 2065, 491, 2, 48, 1239, 30, 3425, 11, 1, 20, 4, 60, 5536, 2, 1, 57, 181, 49, 1, 20, 9, 1, 327, 652, 4, 495, 215, 39, 0, 0, 69, 30, 165, 1, 303, 1783, 10435, 6, 1, 20, 2, 92, 1, 3587, 39, 0, 0, 30, 60, 78, 9402, 2, 1, 175, 0, 0, 52, 7, 33, 16253, 0, 1, 716, 11, 5, 13215, 1380, 2, 536, 13282, 565, 19, 1, 716, 3, 1, 20, 9, 5, 60, 1831, 34, 35, 35, 35, 35, 35, 35], 0), ([12, 47, 296, 13, 20, 502, 4, 28, 68, 9, 10, 3, 388, 4, 376, 21, 10, 291, 44, 1, 175, 47, 193, 5, 180, 351, 300, 7, 104, 5, 20, 49, 5, 1133, 134, 2, 12, 92, 110, 14, 13, 20, 52, 1, 169, 6, 5, 1558, 399, 18, 10, 8, 15, 747, 5520, 47, 719, 611, 2, 1298, 10960, 12, 170, 11, 5, 399, 1125, 4, 12, 159, 8, 26, 32, 7, 936, 19, 10, 1032, 13, 20, 9, 583, 3001, 17695, 2, 2, 90, 28, 770, 46, 820, 13, 20, 35, 35, 35, 35, 35, 25, 8, 241, 32, 5, 132, 66, 155, 2520, 121, 8, 15, 62, 527, 81, 13, 434, 6, 583, 35, 4, 14, 8, 15, 28, 614, 5, 172, 19, 14, 20, 344, 2, 1, 119, 9, 2390, 4, 1, 20, 9, 47, 60, 3528, 2, 12, 16, 155, 13, 20, 4, 12, 468, 7, 508, 535, 302, 4, 107, 1, 20, 2, 12, 2252, 352, 4, 3775, 67, 107, 155, 13, 434, 6, 5528, 20, 3, 12, 100, 537, 5, 3772, 4, 8922, 62, 1778, 2, 50, 12, 74, 363, 5, 343, 12, 65, 6, 537, 1, 20, 987, 4, 3781, 10, 108, 1032, 64, 34, 150, 33, 5321, 7, 10, 2, 2, 2, 78, 277, 957, 6, 1823, 0, 2, 2, 269, 1, 656, 75, 32, 11, 9529, 4, 92, 542, 11987, 41, 30, 11, 1186, 27, 125, 6654, 18, 51, 9398, 2, 2, 2, 2, 47, 104, 5, 292, 67, 44, 5, 6326, 170, 6453, 3, 4, 100, 1176, 138, 2937, 424, 7, 111, 10, 136, 4, 136, 179, 2], 0), ([50, 25, 362, 1, 1261, 24, 414, 3, 12, 307, 1261, 23, 1611, 4, 3135, 6, 313, 2184, 3, 25, 56, 8, 26, 347, 21, 44, 13, 22, 24, 9628, 0, 39, 0, 0, 23, 2, 1, 0, 24, 4, 0, 23, 8099, 218, 214, 2184, 17, 5, 4014, 297, 80, 5, 202, 12905, 2, 4, 531, 29, 16, 24, 72, 12805, 4, 10793, 23, 2, 21, 3, 59, 361, 1, 1434, 3, 29, 101, 71, 33, 0, 4, 186, 1261, 2, 10, 8, 15, 108, 86, 29, 16, 188, 11, 43, 115, 603, 14, 68, 1202, 31, 4014, 504, 3, 95, 75, 8, 236, 118, 82, 7, 72, 58, 6, 1, 83, 2, 436, 3, 1112, 3, 1, 20, 2, 34, 56, 111, 171, 12500, 136, 4, 136, 24, 12, 123, 12, 32, 23, 18, 1, 0, 6, 9110, 2, 10, 8, 15, 47, 14, 57, 2, 1, 120, 3, 264, 5, 126, 4318, 3, 9, 165, 952, 849, 19, 5, 3888, 6, 13, 247, 2, 10, 2204, 2184, 4, 1, 218, 12830, 926, 0, 4, 5787, 8036, 7, 11161, 139, 6, 2184, 2, 2, 2, 4, 38, 11161, 283, 2, 407, 276, 5, 5921, 19, 256, 41, 517, 0, 46, 2184, 8, 15, 83, 170, 2], 1), ([54, 324, 56, 25, 135, 49, 13, 20, 3, 565, 14, 10, 8, 15, 1050, 376, 2, 10566, 6054, 4, 1918, 1250, 30, 1, 1000, 143, 7, 72, 13, 3, 21, 3, 14, 8, 15, 10, 3, 21, 73, 1935, 30, 960, 11, 13, 2622, 2, 12, 110, 14, 38, 334, 5, 1799, 11, 55, 6, 1918, 8, 15, 145, 3, 44, 59, 29, 8, 15, 628, 95, 25, 56, 8, 26, 72, 31, 406, 2, 50, 1918, 16, 3248, 11, 116, 11, 1058, 2024, 3, 47, 110, 54, 29, 212, 8, 144, 452, 49, 2868, 11, 13, 53, 53, 53, 50, 10, 16, 163, 46, 107, 3, 12, 8, 148, 28, 254, 3, 21, 3, 140, 3, 1058, 2024, 9, 5, 353, 24, 859, 51, 1, 805, 1116, 824, 5065, 319, 97, 4, 239, 23, 1082, 7, 13, 2, 1, 1205, 9, 60, 634, 4, 10500, 39, 55, 6, 1, 160, 2, 5, 3136, 6, 1, 1370, 34, 1210, 6445, 3713, 3, 6, 268, 2, 10566, 291, 1373, 162, 2, 12, 448, 48, 4, 1918, 193, 5, 57, 7112, 35, 35, 1297, 35], 0), ([122, 4361, 2, 14, 3, 12, 110, 3, 9, 1, 290, 740, 1583, 13784, 8, 15, 11607, 22, 5619, 136, 77, 963, 624, 2, 724, 14, 122, 52, 2223, 131, 620, 7, 427, 14665, 3, 46, 52, 814, 2650, 42, 1, 34, 25, 122, 4211, 19, 161, 3, 46, 52, 1981, 131, 540, 7, 1, 222, 6, 116, 1913, 7, 903, 639, 67, 7, 1, 182, 3, 122, 4361, 2, 1, 89, 154, 49, 13, 22, 3, 197, 3, 9, 28, 11, 99, 1090, 6, 138, 415, 3416, 262, 7, 281, 73, 509, 0, 151, 3, 21, 11, 1, 5916, 0, 6, 176, 10608, 19, 1, 699, 2, 64, 34, 11, 13, 471, 9, 410, 38, 30, 37, 36, 55, 2595, 2425, 2144, 11, 1426, 14, 38, 56, 8, 26, 893, 521, 42, 625, 2, 45, 9, 55, 1415, 789, 808, 133, 4, 12, 1076, 13784, 19, 118, 261, 1, 70, 487, 88, 5, 1026, 0, 3, 21, 310, 0, 1, 595, 395, 18, 55, 157, 338, 1803, 1518, 3336, 1, 781, 7, 749, 0, 4, 420, 11, 2554, 1082, 7, 1, 1584, 1508, 14, 0, 11311, 2, 54, 101, 32, 427, 5, 3173, 2428, 19, 3931, 27, 93, 0, 15454, 183, 37, 3, 640, 67, 116, 5, 70, 49, 117, 339, 4, 5, 2048, 38, 1467, 14, 9, 1, 68, 154, 69, 56, 575, 73, 466, 42, 5, 125, 6, 3785, 4, 2438, 2, 13, 9, 5, 176, 649, 242, 19, 1918, 3937, 2, 12, 44, 7, 110, 14, 62, 512, 175, 767, 1736, 2246, 16, 1, 97, 7, 72, 1, 3807, 3, 0, 2650, 11, 31, 379, 1338, 17, 146, 7, 357, 6903, 2, 1, 0, 6, 5, 113, 44, 1497, 7430, 2204, 19, 966, 4, 17102, 465, 3, 21, 92, 56, 33, 334, 7, 127, 5, 6549, 134, 3, 3912, 4, 0, 7, 1, 182, 190, 0, 134, 18, 64, 5467, 14, 748, 40, 1508, 6, 5138, 7, 1016, 96, 42, 31, 6375, 2, 2246, 281, 3937, 90, 47, 14, 11, 31, 887, 0, 122, 4, 1583, 13784, 52, 578, 10, 34, 1728, 999, 2, 3937, 305, 1055, 5144, 1274, 0, 655, 330, 4, 282, 359, 76, 533, 11, 34, 6, 1, 5431, 14, 537, 192, 1, 182, 3504, 2171, 27, 0, 2, 14, 34, 576, 9528, 105, 125, 14, 29, 74, 4, 17, 5, 898, 3, 29, 847, 16394, 4, 672, 7, 263, 29, 412, 8, 26, 392, 235, 14, 604, 163, 14, 271, 2, 29, 71, 1593, 5, 703, 3361, 6, 5, 134, 262, 7, 390, 67, 1, 14295, 11, 31, 424, 142, 153, 190, 96, 3, 153, 14, 122, 96, 3, 349, 4, 903, 96, 67, 7, 1, 623, 6, 54, 604, 4, 54, 1, 699, 1669, 2, 218, 27, 1224, 4, 1665, 7, 8525, 36, 105, 576, 59, 146, 9, 1067, 7, 5023, 1, 1744, 6, 31, 0, 245, 3, 29, 266, 149, 125, 18, 31, 0, 4, 0, 3, 16441, 51, 267, 43, 17, 28, 7, 33, 6220, 392, 2, 5619, 136, 77, 9, 28, 49, 1274, 0, 162, 3, 10, 9, 49, 5144, 4, 245, 134, 1988, 2316, 2, 5, 134, 14, 52, 2425, 314, 88, 5, 1629, 4, 11199, 4336, 14, 203, 32, 0, 88, 19856, 3, 2316, 748, 17, 79, 347, 11, 31, 125, 17, 31, 178, 1108, 5814, 1274, 130, 2, 259, 888, 39, 1, 218, 495, 91, 6976, 3, 2316, 52, 415, 31, 10595, 7, 349, 4, 657, 31, 125, 2, 29, 52, 64, 351, 4, 59, 29, 1038, 1274, 3, 39, 561, 3, 34, 271, 3, 31, 125, 10660, 88, 146, 29, 1582, 8, 26, 452, 11, 1269, 161, 2, 29, 0, 11, 1, 561, 7, 151, 51, 18, 40, 178, 433, 64, 513, 93, 79, 29, 52, 1211, 42, 1, 325, 6, 31, 245, 2, 6976, 8, 15, 113, 496, 7, 0, 152, 7, 1, 1108, 490, 6, 2617, 51, 4, 3937, 8, 15, 158, 8, 26, 343, 95, 37, 14, 16, 163, 29, 1856, 31, 330, 2, 1, 117, 339, 82, 54, 38, 187, 4, 1677, 521, 7, 2192, 556, 469, 1, 161, 6, 13644, 14, 334, 7, 2449, 73, 466, 2, 288, 38, 878, 594, 67, 162, 3, 10, 9, 3227, 14, 1, 789, 6, 1, 1522, 87, 5582, 67, 4, 2379, 1, 0, 38, 32, 1023, 19, 521, 2, 1, 737, 188, 130, 40, 485, 298, 3184, 390, 67, 3178, 19, 1, 117, 822, 2, 15579, 18871, 1355, 52, 118, 84, 40, 543, 14, 1500, 77, 4, 481, 1, 22, 259, 1, 1236, 17, 5871, 330, 1807, 3, 21, 10, 9, 48, 464, 141, 27, 1, 1623, 18, 6976, 14, 71, 1202, 77, 146, 286, 4, 303, 2, 6360, 4237, 9, 5, 233, 51, 6, 48, 1498, 17, 5, 4191, 3, 21, 1, 20, 1732, 48, 27, 13, 199, 4, 167, 1, 12297, 3, 410, 1051, 2, 1, 115, 420, 3464, 30, 92, 1148, 3, 63, 3031, 1583, 13784, 8, 15, 223, 17, 3937, 8, 15, 178, 128, 433, 4, 12855, 3, 24, 62, 68, 9964, 133, 9, 143, 29, 809, 1, 348, 7, 270, 31, 400, 11, 1, 594, 886, 17, 40, 297, 59, 10, 9, 2493, 3, 1079, 10, 9, 31, 22, 23, 2, 239, 21, 28, 225, 9, 1, 316, 0, 16691, 2, 61, 9, 5, 89, 543, 4, 305, 1, 0, 9528, 0, 262, 7, 270, 48, 125, 152, 300, 1718, 2, 5, 223, 14, 191, 759, 2180, 36, 97, 3, 21, 640, 67, 116, 40, 9989, 1309, 19, 54, 9, 7, 217, 2, 13784, 52, 3102, 34, 6, 1, 128, 970, 113, 6562, 12, 32, 114, 11, 5, 211, 66, 2, 1, 453, 9, 224, 3534, 3, 24, 1, 0, 207, 2088, 4, 109, 11, 1, 0, 933, 71, 3272, 77, 11, 1, 470, 23, 3, 1, 119, 885, 3, 4, 1, 70, 303, 7, 387, 3, 118, 661, 1, 796, 103, 51, 46, 13262, 387, 67, 18, 5, 7202, 3390, 5341, 36, 1, 1216, 2, 63, 1, 215, 16, 745, 4, 334, 7, 7763, 3, 28, 7, 477, 183, 2144, 3, 24, 143, 107, 117, 89, 1099, 6, 1, 6960, 616, 39, 1, 41, 124, 13784, 244, 1, 348, 7, 357, 1, 4362, 1926, 0, 995, 19, 1, 137, 3, 12, 91, 8, 26, 123, 3, 21, 10, 124, 479, 1206, 51, 19, 77, 23, 2, 5619, 136, 77, 9, 5, 22, 49, 122, 4, 93, 264, 10, 56, 1032, 1, 252, 1452, 5421, 3, 10, 56, 92, 575, 183, 42, 2438, 4, 1677, 183, 7, 288, 179, 72, 1, 182, 17, 5, 273, 6, 880, 4, 448, 2], 1), ([78, 3, 50, 10, 1153, 8, 26, 19, 11221, 3433, 4, 5, 0, 7814, 2253, 3, 1686, 2, 24, 133, 5900, 206, 1, 1686, 2, 23, 3, 16416, 1389, 19, 1870, 65, 33, 34, 6, 1, 252, 0, 6, 7260, 2013, 12, 8, 144, 114, 42, 1, 405, 9662, 1030, 4, 567, 8, 26, 32, 84, 276, 317, 95, 6, 14, 2, 1595, 2, 3433, 9, 327, 133, 1177, 238, 12, 1289, 53, 4, 5565, 260, 9349, 1722, 142, 442, 2, 2253, 279, 183, 93, 31, 1660, 549, 11, 18990, 2437, 96, 19, 31, 10067, 2602, 17, 40, 1166, 2, 29, 8, 15, 43, 57, 0, 133, 14, 19, 4983, 12, 200, 29, 16, 5, 126, 397, 18, 2671, 6, 549, 2, 43, 50, 25, 8, 185, 1615, 7, 2681, 1, 1577, 0, 133, 3, 16416, 1389, 19, 1870, 150, 1848, 55, 57, 3423, 2, 1749, 2, 15, 2, 13, 3928, 1, 2812, 66, 502, 12, 8, 144, 114, 4, 559, 1, 616, 3, 12, 8, 236, 33, 1238, 59, 25, 8, 185, 354, 25, 0, 25, 2317, 27, 22, 3, 13, 66, 39, 2253, 2, 212, 32, 84, 5, 60, 1056, 616, 49, 13, 66, 2], 0), ([1448, 3, 0, 5354, 2, 1, 1179, 207, 4523, 4, 5863, 16, 17, 1180, 17, 5, 4164, 0, 2, 73, 403, 16, 6903, 2746, 2, 1, 741, 16, 5, 927, 2, 1, 119, 874, 2, 1, 652, 16979, 27, 1, 3016, 2, 3149, 4, 1114, 2, 2497, 2503, 4, 48, 113, 74, 64, 289, 7, 33, 45, 2, 920, 124, 256, 324, 19, 14, 513, 2, 12, 412, 8, 26, 32, 361, 117, 0, 19, 105, 6, 1, 8, 109, 8, 2, 73, 1366, 9843, 4, 5044, 44, 5, 8469, 41, 4084, 31, 5478, 2, 1974, 4, 739, 2, 143, 90, 12, 32, 7, 877, 725, 404, 6, 3322, 27, 133, 7, 104, 62, 222, 53, 12, 110, 12, 7600, 10, 67, 11, 1, 97, 282, 678, 2, 21, 3, 534, 10, 8, 15, 28, 194, 2, 12, 110, 13, 9, 1, 239, 66, 12, 8, 236, 1252, 7, 462, 62, 66, 0, 5, 22, 2, 536, 3, 12, 214, 8, 2112, 8, 4, 200, 14, 16, 186, 14449, 17, 78, 2, 179, 3, 12, 3465, 28, 19, 1, 109, 3, 724, 38, 1446, 46, 1093, 2], 0), ([359, 44, 138, 101, 32, 84, 5, 551, 22, 3, 361, 1, 789, 513, 2, 21, 310, 10, 52, 427, 5, 0, 3, 11354, 12051, 6, 1, 1218, 3, 18, 28, 79, 171, 19, 10, 2, 1, 119, 9, 4636, 3, 1, 120, 700, 4, 1, 453, 3259, 2, 19, 5, 132, 20, 27, 1, 173, 789, 3, 349, 1, 327, 3166, 0, 16954, 3, 5, 22, 14, 71, 2117, 49, 1, 85, 18, 0, 2, 11, 359, 44, 138, 38, 30, 1472, 334, 17, 40, 1284, 19, 0, 7225, 2, 189, 3420, 2, 3193], 0), ([10, 8, 15, 43, 2271, 59, 22, 1399, 349, 7, 33, 598, 4, 10, 8, 15, 43, 619, 133, 2, 13, 52, 1797, 890, 119, 3, 1340, 403, 3, 3571, 5266, 14, 30, 855, 7, 111, 3, 4, 115, 8297, 11, 10, 8, 15, 557, 7, 33, 5, 815, 22, 4, 10849, 2, 13, 22, 150, 33, 4599, 36, 37, 2293, 2, 12, 16, 572, 28, 7, 151, 4, 72, 13, 22, 2, 12, 637, 12, 74, 8319, 2], 0), ([13, 9, 1, 247, 6, 22, 38, 334, 7, 104, 3, 1142, 3, 9971, 3, 12824, 3, 3004, 3, 18, 1054, 372, 39, 85, 206, 3168, 2796, 3, 15343, 2796, 3, 839, 2796, 3, 11, 83, 678, 157, 85, 2, 0, 7788, 305, 1, 636, 122, 627, 3, 4, 61, 9, 43, 157, 25, 187, 7, 205, 48, 5, 0, 36, 1, 60, 225, 2, 811, 14, 3, 5, 157, 257, 11, 5, 20, 3, 863, 368, 53, 370, 65, 733, 48, 3, 95, 48, 13428, 9, 5, 2306, 0, 7, 177, 2634, 12801, 11, 0, 2, 13, 70, 52, 1, 173, 570, 244, 17, 4879, 0, 8, 15, 353, 8, 0, 10432, 8, 3, 18, 1, 0, 1213, 6, 2842, 4490, 12644, 0, 1, 11024, 6, 0, 42, 987, 4, 3051, 5, 9085, 0, 42, 66, 7, 66, 24, 1, 787, 11904, 207, 153, 219, 413, 116, 246, 341, 23, 2, 175, 1867, 0, 3982, 5, 1353, 2824, 11, 3384, 13, 139, 47, 208, 3, 4, 10, 9, 1580, 7, 1828, 14, 29, 1093, 163, 31, 22, 8, 15, 766, 3, 3177, 68, 17346, 3, 69, 16, 685, 5, 7826, 1894, 7, 1, 278, 2, 16532, 0, 130, 60, 78, 36, 394, 5, 1047, 4544, 1591, 41, 11, 1, 538, 4461, 266, 7, 0, 11, 1, 15577, 6, 2135, 7, 1812, 5, 420, 4544, 7, 1683, 16360, 0, 207, 1, 8467, 2, 45, 29, 744, 11, 122, 18, 1, 9693, 7788, 19764, 3, 4, 61, 0, 1, 4554, 2, 55, 1718, 10146, 731, 109, 0, 1, 781, 3, 4, 1, 22, 9, 1021, 2792, 2, 45, 9, 6, 268, 1, 3503, 6, 15554, 322, 18, 2176, 3, 4, 75, 834, 14, 2176, 2185, 7954, 4544, 2776, 41, 4584, 7, 1812, 2648, 6, 322, 3, 69, 9, 5, 1580, 0, 2, 1598, 122, 9, 118, 237, 42, 611, 3, 21, 3898, 212, 2107, 12370, 11, 5, 702, 17, 7, 54, 545, 11, 1, 137, 2, 13, 22, 9, 5, 1896, 475, 6, 47, 1, 247, 6, 112, 69, 85, 11, 3397, 150, 33, 261, 2, 21, 30, 38, 116, 2900, 615, 53, 11, 5, 2817, 655, 6076, 32, 84, 43, 12541, 39, 623, 251, 279, 3, 121, 6462, 0, 32, 427, 1, 1933, 1740, 3, 9, 45, 63, 5, 2606, 1487, 19, 5, 22, 44, 13, 53, 107, 37, 3, 45, 9, 64, 17660, 396, 3, 45, 30, 64, 4651, 6, 0, 5635, 46, 6, 256, 8, 15, 12220, 3, 45, 30, 64, 1449, 578, 3, 45, 30, 64, 3057, 7501, 19961, 190, 1562, 7, 33, 560, 36, 3, 4, 43, 34, 3707, 724, 45, 9, 235, 7, 627, 5, 937, 69, 52, 427, 43, 11196, 4, 5598, 14, 68, 1, 94, 1499, 0, 56, 3242, 0, 1, 9665, 6, 73, 1114, 2061, 2, 256, 41, 9, 284, 19, 40, 14773, 7, 1, 0, 6, 2354, 3397, 56, 198, 8356, 11, 13, 2573, 4, 1173, 22, 2], 1), ([7202, 0, 207, 1, 2667, 3, 5, 420, 22, 1675, 438, 14, 2099, 2687, 56, 90, 5, 9955, 530, 170, 27, 416, 4, 27, 66, 4, 3358, 2099, 31, 1096, 945, 1068, 973, 11, 1, 7659, 3, 4, 4115, 3, 5, 13119, 1757, 1187, 326, 11, 178, 896, 0, 11, 5277, 490, 3, 265, 1, 753, 42, 0, 3, 5, 463, 22, 1675, 7952, 42, 1, 60, 173, 9947, 6, 0, 19870, 14, 3598, 1, 1896, 0, 3, 442, 2, 0, 4, 105, 83, 22, 1, 175, 159, 8, 26, 1840, 7, 575, 42, 1, 13343, 6, 1120, 8576, 2, 1573, 161, 107, 1, 16997, 7767, 3, 18, 1, 10514, 9732, 6, 1, 22, 1675, 11, 389, 5628, 3, 2687, 3, 218, 1479, 6, 31, 66, 3, 5, 303, 12439, 175, 6, 3370, 1634, 4625, 3, 15463, 5, 0, 182, 6, 3303, 14, 9, 473, 4215, 3, 58, 2803, 3, 6455, 4, 0, 81, 235, 31, 12932, 76, 402, 36, 1, 66, 2, 10, 8, 15, 64, 591, 1, 20, 16, 43, 6124, 36, 99, 66, 3, 7, 1, 222, 14, 34, 389, 552, 6, 852, 16, 1335, 309, 11, 1, 2312, 654, 2051, 3, 4, 10, 16, 288, 179, 2162, 14, 0, 10, 17, 166, 2687, 353, 2, 732, 10537, 894, 51, 2, 1, 18241, 141, 18, 99, 12595, 705, 4, 6452, 3303, 3, 4, 6, 268, 1, 0, 6, 7100, 1957, 14, 9, 17, 353, 5, 434, 6, 0, 12103, 17, 105, 11, 3468, 2338, 46, 1, 3190, 2, 1, 68, 4810, 12, 174, 18, 1, 20, 9, 2687, 8, 19688, 2388, 1121, 4, 383, 55, 6, 1, 10930, 765, 11, 1, 97, 491, 2, 1, 70, 197, 0, 11, 5, 11027, 6058, 1380, 3, 69, 1, 2088, 68, 2674, 7, 0, 2, 12, 263, 1, 2813, 6030, 2310, 6, 0, 4, 0, 11139, 5, 2308, 482, 19, 14, 513, 2, 2687, 65, 13874, 314, 11, 2162, 19, 725, 161, 4, 993, 11, 8103, 7, 1606, 255, 166, 0, 353, 3, 1, 10015, 1278, 6, 484, 3, 383, 1, 13360, 5252, 6, 1, 22, 1675, 14, 16, 473, 11, 99, 19167, 490, 39, 14, 66, 2, 0, 16, 28, 1, 945, 1068, 973, 5, 355, 2428, 19, 370, 8, 15, 4514, 355, 6, 1, 66, 3, 4585, 6185, 3, 4303, 7, 32, 84, 3, 4, 2687, 1629, 18, 6185, 1013, 163, 1, 20, 16, 63, 615, 2, 12780, 161, 315, 4, 34, 552, 6, 852, 346, 3, 0, 9, 140, 34, 6, 1, 128, 22, 1675, 1308, 34, 9, 1291, 7, 1828, 2, 1385, 14, 212, 1525, 19, 146, 2], 1)]\n"
          ]
        }
      ]
    },
    {
      "cell_type": "code",
      "source": [
        "from torch.utils.data import DataLoader\n",
        "import torchdata.datapipes as dp\n",
        "\n",
        "train_loader = DataLoader(\n",
        "    dataset=train_dp, shuffle=True, num_workers=2)\n",
        "\n",
        "val_loader = DataLoader(\n",
        "    dataset=valid_dp, shuffle=False, num_workers=2)"
      ],
      "metadata": {
        "id": "9BAqcnmBlvUh"
      },
      "execution_count": 138,
      "outputs": []
    },
    {
      "cell_type": "code",
      "source": [
        "# TO DO: continue. This breaks!\n",
        "for batch_idx, batch_data in enumerate(train_loader):\n",
        "  print(batch_idx)\n",
        "  break"
      ],
      "metadata": {
        "id": "laJOyWOaxY7U"
      },
      "execution_count": null,
      "outputs": []
    },
    {
      "cell_type": "code",
      "source": [
        "from torchtext.data.utils import(\n",
        "    get_tokenizer,\n",
        "    ngrams_iterator,\n",
        ")\n",
        "tokenizer = get_tokenizer(\"basic_english\")"
      ],
      "metadata": {
        "id": "al2lllUTpTL2"
      },
      "execution_count": 32,
      "outputs": []
    },
    {
      "cell_type": "code",
      "source": [
        "### Defining the feature processing\n",
        "\n",
        "TEXT = torchtext.data.Field(\n",
        "    tokenize='spacy', # default splits on whitespace\n",
        "    tokenizer_language='en_core_web_sm'\n",
        ")\n",
        "\n",
        "### Defining the label processing\n",
        "\n",
        "LABEL = torchtext.data.LabelField(dtype=torch.long)"
      ],
      "metadata": {
        "id": "DwYfZSzx1FV3"
      },
      "execution_count": null,
      "outputs": []
    },
    {
      "cell_type": "code",
      "execution_count": 11,
      "metadata": {
        "id": "oXDUxCl4m7G_"
      },
      "outputs": [],
      "source": [
        "### Defining the feature processing\n",
        "\n",
        "TEXT = torchtext.legacy.data.Field(\n",
        "    tokenize='spacy', # default splits on whitespace\n",
        "    tokenizer_language='en_core_web_sm'\n",
        ")\n",
        "\n",
        "### Defining the label processing\n",
        "\n",
        "LABEL = torchtext.legacy.data.LabelField(dtype=torch.long)"
      ]
    },
    {
      "cell_type": "markdown",
      "source": [
        "\n",
        "\n",
        "Process the dataset:\n"
      ],
      "metadata": {
        "id": "7s7CZdXwqzU_"
      }
    },
    {
      "cell_type": "code",
      "execution_count": 12,
      "metadata": {
        "id": "_qXGdHGum7HB"
      },
      "outputs": [],
      "source": [
        "fields = [('TEXT_COLUMN_NAME', TEXT), ('LABEL_COLUMN_NAME', LABEL)]\n",
        "\n",
        "dataset = torchtext.legacy.data.TabularDataset(\n",
        "    path='movie_data.csv', format='csv',\n",
        "    skip_header=True, fields=fields)"
      ]
    },
    {
      "cell_type": "markdown",
      "metadata": {
        "id": "TBEa_U_Im7HC"
      },
      "source": [
        "## Split Dataset into Train/Validation/Test"
      ]
    },
    {
      "cell_type": "markdown",
      "metadata": {
        "id": "qCaABVO3m7HC"
      },
      "source": [
        "Split the dataset into training, validation, and test partitions:"
      ]
    },
    {
      "cell_type": "code",
      "execution_count": 13,
      "metadata": {
        "colab": {
          "base_uri": "https://localhost:8080/"
        },
        "id": "WZ_4jiHVnMxN",
        "outputId": "6104d203-f0b8-4258-dd2d-722bc030db6c"
      },
      "outputs": [
        {
          "output_type": "stream",
          "name": "stdout",
          "text": [
            "Num Train: 40000\n",
            "Num Test: 10000\n"
          ]
        }
      ],
      "source": [
        "train_data, test_data = dataset.split(\n",
        "    split_ratio=[0.8, 0.2],\n",
        "    random_state=random.seed(RANDOM_SEED))\n",
        "\n",
        "print(f'Num Train: {len(train_data)}')\n",
        "print(f'Num Test: {len(test_data)}')"
      ]
    },
    {
      "cell_type": "code",
      "execution_count": 14,
      "metadata": {
        "colab": {
          "base_uri": "https://localhost:8080/"
        },
        "id": "Wt_83oFFm7HD",
        "outputId": "199018c9-6012-44eb-80cf-091799f0a434"
      },
      "outputs": [
        {
          "output_type": "stream",
          "name": "stdout",
          "text": [
            "Num Train: 34000\n",
            "Num Validation: 6000\n"
          ]
        }
      ],
      "source": [
        "train_data, valid_data = train_data.split(\n",
        "    split_ratio=[0.85, 0.15],\n",
        "    random_state=random.seed(RANDOM_SEED))\n",
        "\n",
        "print(f'Num Train: {len(train_data)}')\n",
        "print(f'Num Validation: {len(valid_data)}')"
      ]
    },
    {
      "cell_type": "code",
      "execution_count": 15,
      "metadata": {
        "colab": {
          "base_uri": "https://localhost:8080/"
        },
        "id": "k2HWpgIem7HD",
        "outputId": "36d14717-e6ec-42b7-a5dd-d97aadc464a5"
      },
      "outputs": [
        {
          "output_type": "stream",
          "name": "stdout",
          "text": [
            "{'TEXT_COLUMN_NAME': ['For', 'some', 'unknown', 'reason', ',', '7', 'years', 'ago', ',', 'I', 'watched', 'this', 'movie', 'with', 'my', 'mother', 'and', 'sister', '.', 'I', 'do', \"n't\", 'think', 'I', \"'ve\", 'ever', 'laughed', 'as', 'hard', 'with', 'them', 'before', '.', 'This', 'movie', 'was', 'sooooo', 'bad', '.', 'How', 'sequels', 'were', 'produced', 'is', 'beyond', 'me', '.', 'Its', 'been', 'awhile', 'since', 'I', 'last', 'saw', 'this', '\"', 'movie', '\"', ',', 'but', 'the', 'one', 'impression', 'that', 'it', 'has', 'stuck', 'with', 'me', 'over', 'the', 'years', 'has', 'been', ',', '\"', 'They', 'must', 'have', 'found', 'the', 'script', 'in', 'a', 'dumpster', 'in', 'the', 'backlot', 'of', 'a', 'cheap', 'movie', 'studio', ',', 'made', 'into', 'a', '\"', 'movie', '\"', ',', 'and', 'decided', 'that', 'it', 'did', \"n't\", 'suck', 'enough', ',', 'and', 'made', 'it', 'worse', '.', 'I', \"'m\", 'pretty', 'sure', 'that', 'they', 'spent', 'all', 'the', 'budget', 'on', 'camera', 'work', 'and', 'the', 'so', 'called', '\"', 'special', 'effects', '\"', ',', 'and', 'then', 'had', '13', 'cents', 'left', 'toward', 'the', 'script', 'AND', 'to', 'pay', 'the', '\"', 'actors', '\"', '.'], 'LABEL_COLUMN_NAME': '0'}\n"
          ]
        }
      ],
      "source": [
        "print(vars(train_data.examples[0]))"
      ]
    },
    {
      "cell_type": "markdown",
      "metadata": {
        "id": "IWVlqc50m7HE"
      },
      "source": [
        "## Build Vocabulary"
      ]
    },
    {
      "cell_type": "markdown",
      "metadata": {
        "id": "L-TBwKWPslPa"
      },
      "source": [
        "Build the vocabulary based on the top \"VOCABULARY_SIZE\" words:"
      ]
    },
    {
      "cell_type": "code",
      "execution_count": 16,
      "metadata": {
        "colab": {
          "base_uri": "https://localhost:8080/"
        },
        "id": "e8uNrjdtn4A8",
        "outputId": "dd5f64b3-271b-4928-c8a1-d9d5e24bdda6"
      },
      "outputs": [
        {
          "output_type": "stream",
          "name": "stdout",
          "text": [
            "Vocabulary size: 20002\n",
            "Number of classes: 2\n"
          ]
        }
      ],
      "source": [
        "TEXT.build_vocab(train_data, max_size=VOCABULARY_SIZE)\n",
        "LABEL.build_vocab(train_data)\n",
        "\n",
        "print(f'Vocabulary size: {len(TEXT.vocab)}')\n",
        "print(f'Number of classes: {len(LABEL.vocab)}')"
      ]
    },
    {
      "cell_type": "markdown",
      "metadata": {
        "id": "13YxZ8Odm7HF"
      },
      "source": [
        "- 20,002 not 20,000 because of the `<unk>` and `<pad>` tokens\n",
        "- PyTorch RNNs can deal with arbitrary lengths due to dynamic graphs, but padding is necessary for padding sequences to the same length in a given minibatch so we can store those in an array"
      ]
    },
    {
      "cell_type": "markdown",
      "metadata": {
        "id": "RJwTDiyMm7HF"
      },
      "source": [
        "**Look at most common words:**"
      ]
    },
    {
      "cell_type": "code",
      "execution_count": 17,
      "metadata": {
        "colab": {
          "base_uri": "https://localhost:8080/"
        },
        "id": "MuW_lFrZm7HF",
        "outputId": "9541ea8d-948d-47f8-dbb3-6d852183a640"
      },
      "outputs": [
        {
          "output_type": "stream",
          "name": "stdout",
          "text": [
            "[('the', 391539), (',', 370979), ('.', 319271), ('and', 210725), ('a', 210397), ('of', 194700), ('to', 180225), ('is', 145689), ('in', 118828), ('I', 105650), ('it', 103414), ('that', 93700), ('\"', 86164), (\"'s\", 83068), ('this', 81424), ('-', 71703), ('/><br', 68865), ('was', 67523), ('as', 57974), ('with', 57558)]\n"
          ]
        }
      ],
      "source": [
        "print(TEXT.vocab.freqs.most_common(20))"
      ]
    },
    {
      "cell_type": "markdown",
      "metadata": {
        "id": "5nMrhLLxm7HG"
      },
      "source": [
        "**Tokens corresponding to the first 10 indices (0, 1, ..., 9):**"
      ]
    },
    {
      "cell_type": "code",
      "execution_count": 18,
      "metadata": {
        "colab": {
          "base_uri": "https://localhost:8080/"
        },
        "id": "Bq844KBam7HG",
        "outputId": "b364b1ea-a303-48dd-ce40-4a1adb83703d"
      },
      "outputs": [
        {
          "output_type": "stream",
          "name": "stdout",
          "text": [
            "['<unk>', '<pad>', 'the', ',', '.', 'and', 'a', 'of', 'to', 'is']\n"
          ]
        }
      ],
      "source": [
        "print(TEXT.vocab.itos[:10]) # itos = integer-to-string"
      ]
    },
    {
      "cell_type": "markdown",
      "metadata": {
        "id": "2SIjdcL3m7HG"
      },
      "source": [
        "**Converting a string to an integer:**"
      ]
    },
    {
      "cell_type": "code",
      "execution_count": 19,
      "metadata": {
        "colab": {
          "base_uri": "https://localhost:8080/"
        },
        "id": "u0GcTSBIm7HH",
        "outputId": "c54cc0cc-95d1-4883-df6c-8b58e72e6ccf"
      },
      "outputs": [
        {
          "output_type": "stream",
          "name": "stdout",
          "text": [
            "2\n"
          ]
        }
      ],
      "source": [
        "print(TEXT.vocab.stoi['the']) # stoi = string-to-integer"
      ]
    },
    {
      "cell_type": "markdown",
      "metadata": {
        "id": "t8CeiUmam7HH"
      },
      "source": [
        "**Class labels:**"
      ]
    },
    {
      "cell_type": "code",
      "execution_count": 20,
      "metadata": {
        "colab": {
          "base_uri": "https://localhost:8080/"
        },
        "id": "vb5lm3DFm7HI",
        "outputId": "7403a69b-bd6a-4a36-fa43-0ad60cde9526"
      },
      "outputs": [
        {
          "output_type": "stream",
          "name": "stdout",
          "text": [
            "defaultdict(None, {'1': 0, '0': 1})\n"
          ]
        }
      ],
      "source": [
        "print(LABEL.vocab.stoi)"
      ]
    },
    {
      "cell_type": "markdown",
      "metadata": {
        "id": "mZx-meThm7HJ"
      },
      "source": [
        "**Class label count:**"
      ]
    },
    {
      "cell_type": "code",
      "execution_count": 21,
      "metadata": {
        "colab": {
          "base_uri": "https://localhost:8080/"
        },
        "id": "NJwG-RiBm7HJ",
        "outputId": "17001823-c7f8-4340-ca38-9ec1af5d479e"
      },
      "outputs": [
        {
          "output_type": "execute_result",
          "data": {
            "text/plain": [
              "Counter({'0': 16981, '1': 17019})"
            ]
          },
          "metadata": {},
          "execution_count": 21
        }
      ],
      "source": [
        "LABEL.vocab.freqs"
      ]
    },
    {
      "cell_type": "markdown",
      "metadata": {
        "id": "eIQ_zfKLwjKm"
      },
      "source": [
        "## Define Data Loaders"
      ]
    },
    {
      "cell_type": "code",
      "execution_count": 22,
      "metadata": {
        "id": "i7JiHR1stHNF"
      },
      "outputs": [],
      "source": [
        "train_loader, valid_loader, test_loader = \\\n",
        "    torchtext.legacy.data.BucketIterator.splits(\n",
        "        (train_data, valid_data, test_data),\n",
        "         batch_size=BATCH_SIZE,\n",
        "         sort_within_batch=False,\n",
        "         sort_key=lambda x: len(x.TEXT_COLUMN_NAME),\n",
        "         device=DEVICE\n",
        "    )"
      ]
    },
    {
      "cell_type": "markdown",
      "metadata": {
        "id": "R0pT_dMRvicQ"
      },
      "source": [
        "Testing the iterators (note that the number of rows depends on the longest document in the respective batch):"
      ]
    },
    {
      "cell_type": "code",
      "execution_count": 23,
      "metadata": {
        "colab": {
          "base_uri": "https://localhost:8080/"
        },
        "id": "y8SP_FccutT0",
        "outputId": "8fffa0cc-081e-46ea-c40e-81a19a35dc28"
      },
      "outputs": [
        {
          "output_type": "stream",
          "name": "stdout",
          "text": [
            "Train\n",
            "Text matrix size: torch.Size([1136, 128])\n",
            "Target vector size: torch.Size([128])\n",
            "\n",
            "Valid:\n",
            "Text matrix size: torch.Size([55, 128])\n",
            "Target vector size: torch.Size([128])\n",
            "\n",
            "Test:\n",
            "Text matrix size: torch.Size([52, 128])\n",
            "Target vector size: torch.Size([128])\n"
          ]
        }
      ],
      "source": [
        "print('Train')\n",
        "for batch in train_loader:\n",
        "    print(f'Text matrix size: {batch.TEXT_COLUMN_NAME.size()}')\n",
        "    print(f'Target vector size: {batch.LABEL_COLUMN_NAME.size()}')\n",
        "    break\n",
        "    \n",
        "print('\\nValid:')\n",
        "for batch in valid_loader:\n",
        "    print(f'Text matrix size: {batch.TEXT_COLUMN_NAME.size()}')\n",
        "    print(f'Target vector size: {batch.LABEL_COLUMN_NAME.size()}')\n",
        "    break\n",
        "    \n",
        "print('\\nTest:')\n",
        "for batch in test_loader:\n",
        "    print(f'Text matrix size: {batch.TEXT_COLUMN_NAME.size()}')\n",
        "    print(f'Target vector size: {batch.LABEL_COLUMN_NAME.size()}')\n",
        "    break"
      ]
    },
    {
      "cell_type": "markdown",
      "metadata": {
        "id": "G_grdW3pxCzz"
      },
      "source": [
        "## Model"
      ]
    },
    {
      "cell_type": "code",
      "execution_count": 24,
      "metadata": {
        "id": "nQIUm5EjxFNa"
      },
      "outputs": [],
      "source": [
        "class RNN(torch.nn.Module):\n",
        "    \n",
        "    def __init__(self, input_dim, embedding_dim, hidden_dim, output_dim):\n",
        "        super().__init__()\n",
        "\n",
        "        self.embedding = torch.nn.Embedding(input_dim, embedding_dim)\n",
        "        #self.rnn = torch.nn.RNN(embedding_dim,\n",
        "        #                        hidden_dim,\n",
        "        #                        nonlinearity='relu')\n",
        "        self.rnn = torch.nn.LSTM(embedding_dim,\n",
        "                                 hidden_dim)        \n",
        "        \n",
        "        self.fc = torch.nn.Linear(hidden_dim, output_dim)\n",
        "        \n",
        "\n",
        "    def forward(self, text):\n",
        "        # text dim: [sentence length, batch size]\n",
        "        \n",
        "        embedded = self.embedding(text)\n",
        "        # embedded dim: [sentence length, batch size, embedding dim]\n",
        "        \n",
        "        output, (hidden, cell) = self.rnn(embedded)\n",
        "        # output dim: [sentence length, batch size, hidden dim]\n",
        "        # hidden dim: [1, batch size, hidden dim]\n",
        "\n",
        "        hidden.squeeze_(0)\n",
        "        # hidden dim: [batch size, hidden dim]\n",
        "        \n",
        "        output = self.fc(hidden)\n",
        "        return output"
      ]
    },
    {
      "cell_type": "code",
      "execution_count": 25,
      "metadata": {
        "id": "Ik3NF3faxFmZ"
      },
      "outputs": [],
      "source": [
        "torch.manual_seed(RANDOM_SEED)\n",
        "model = RNN(input_dim=len(TEXT.vocab),\n",
        "            embedding_dim=EMBEDDING_DIM,\n",
        "            hidden_dim=HIDDEN_DIM,\n",
        "            output_dim=NUM_CLASSES # could use 1 for binary classification\n",
        ")\n",
        "\n",
        "model = model.to(DEVICE)\n",
        "optimizer = torch.optim.Adam(model.parameters(), lr=0.005)"
      ]
    },
    {
      "cell_type": "markdown",
      "metadata": {
        "id": "Lv9Ny9di6VcI"
      },
      "source": [
        "## Training"
      ]
    },
    {
      "cell_type": "code",
      "execution_count": 26,
      "metadata": {
        "id": "T5t1Afn4xO11"
      },
      "outputs": [],
      "source": [
        "def compute_accuracy(model, data_loader, device):\n",
        "\n",
        "    with torch.no_grad():\n",
        "\n",
        "        correct_pred, num_examples = 0, 0\n",
        "\n",
        "        for i, (features, targets) in enumerate(data_loader):\n",
        "\n",
        "            features = features.to(device)\n",
        "            targets = targets.float().to(device)\n",
        "\n",
        "            logits = model(features)\n",
        "            _, predicted_labels = torch.max(logits, 1)\n",
        "\n",
        "            num_examples += targets.size(0)\n",
        "            correct_pred += (predicted_labels == targets).sum()\n",
        "    return correct_pred.float()/num_examples * 100"
      ]
    },
    {
      "cell_type": "code",
      "execution_count": null,
      "metadata": {
        "colab": {
          "base_uri": "https://localhost:8080/"
        },
        "id": "EABZM8Vo0ilB",
        "outputId": "a0ecf9e0-28da-44f5-c69d-8285af43b42b"
      },
      "outputs": [
        {
          "output_type": "stream",
          "name": "stdout",
          "text": [
            "Epoch: 001/015 | Batch 000/266 | Loss: 0.7058\n"
          ]
        }
      ],
      "source": [
        "start_time = time.time()\n",
        "\n",
        "for epoch in range(NUM_EPOCHS):\n",
        "    model.train()\n",
        "    for batch_idx, batch_data in enumerate(train_loader):\n",
        "        \n",
        "        text = batch_data.TEXT_COLUMN_NAME.to(DEVICE)\n",
        "        labels = batch_data.LABEL_COLUMN_NAME.to(DEVICE)\n",
        "\n",
        "        ### FORWARD AND BACK PROP\n",
        "        logits = model(text)\n",
        "        loss = F.cross_entropy(logits, labels)\n",
        "        optimizer.zero_grad()\n",
        "        \n",
        "        loss.backward()\n",
        "        \n",
        "        ### UPDATE MODEL PARAMETERS\n",
        "        optimizer.step()\n",
        "        \n",
        "        ### LOGGING\n",
        "        if not batch_idx % 50:\n",
        "            print (f'Epoch: {epoch+1:03d}/{NUM_EPOCHS:03d} | '\n",
        "                   f'Batch {batch_idx:03d}/{len(train_loader):03d} | '\n",
        "                   f'Loss: {loss:.4f}')\n",
        "\n",
        "    with torch.set_grad_enabled(False):\n",
        "        print(f'training accuracy: '\n",
        "              f'{compute_accuracy(model, train_loader, DEVICE):.2f}%'\n",
        "              f'\\nvalid accuracy: '\n",
        "              f'{compute_accuracy(model, valid_loader, DEVICE):.2f}%')\n",
        "        \n",
        "    print(f'Time elapsed: {(time.time() - start_time)/60:.2f} min')\n",
        "    \n",
        "print(f'Total Training Time: {(time.time() - start_time)/60:.2f} min')\n",
        "print(f'Test accuracy: {compute_accuracy(model, test_loader, DEVICE):.2f}%')"
      ]
    },
    {
      "cell_type": "code",
      "execution_count": null,
      "metadata": {
        "id": "jt55pscgFdKZ",
        "outputId": "d1ed772c-9f33-4486-e8d7-6b7d7506ddb1"
      },
      "outputs": [
        {
          "name": "stdout",
          "output_type": "stream",
          "text": [
            "Probability positive:\n"
          ]
        },
        {
          "data": {
            "text/plain": [
              "0.9804818034172058"
            ]
          },
          "execution_count": 26,
          "metadata": {},
          "output_type": "execute_result"
        }
      ],
      "source": [
        "import spacy\n",
        "\n",
        "\n",
        "nlp = spacy.blank(\"en\")\n",
        "\n",
        "def predict_sentiment(model, sentence):\n",
        "\n",
        "    model.eval()\n",
        "    tokenized = [tok.text for tok in nlp.tokenizer(sentence)]\n",
        "    indexed = [TEXT.vocab.stoi[t] for t in tokenized]\n",
        "    length = [len(indexed)]\n",
        "    tensor = torch.LongTensor(indexed).to(DEVICE)\n",
        "    tensor = tensor.unsqueeze(1)\n",
        "    length_tensor = torch.LongTensor(length)\n",
        "    prediction = torch.nn.functional.softmax(model(tensor), dim=1)\n",
        "    return prediction[0][0].item()\n",
        "\n",
        "print('Probability positive:')\n",
        "predict_sentiment(model, \"This is such an awesome movie, I really love it!\")"
      ]
    },
    {
      "cell_type": "code",
      "execution_count": null,
      "metadata": {
        "id": "2ZaAyKpbm7HP",
        "outputId": "8f5e9b1a-2c46-4182-f4a9-f0be619d0f9a"
      },
      "outputs": [
        {
          "name": "stdout",
          "output_type": "stream",
          "text": [
            "Probability negative:\n"
          ]
        },
        {
          "data": {
            "text/plain": [
              "0.9933403395116329"
            ]
          },
          "execution_count": 27,
          "metadata": {},
          "output_type": "execute_result"
        }
      ],
      "source": [
        "print('Probability negative:')\n",
        "1-predict_sentiment(model, \"I really hate this movie. It is really bad and sucks!\")"
      ]
    },
    {
      "cell_type": "code",
      "execution_count": null,
      "metadata": {
        "id": "7lRusB3dF80X",
        "outputId": "c4713d05-432a-4875-ce83-96511282ef1f"
      },
      "outputs": [
        {
          "name": "stdout",
          "output_type": "stream",
          "text": [
            "pandas   : 1.2.3\n",
            "spacy    : 3.0.5\n",
            "torchtext: 0.9.1\n",
            "torch    : 1.8.1\n",
            "\n"
          ]
        }
      ],
      "source": [
        "%watermark -iv"
      ]
    }
  ],
  "metadata": {
    "colab": {
      "name": "rnn_lstm_packed_imdb.ipynb",
      "provenance": [],
      "include_colab_link": true
    },
    "kernelspec": {
      "display_name": "Python 3 (ipykernel)",
      "language": "python",
      "name": "python3"
    },
    "language_info": {
      "codemirror_mode": {
        "name": "ipython",
        "version": 3
      },
      "file_extension": ".py",
      "mimetype": "text/x-python",
      "name": "python",
      "nbconvert_exporter": "python",
      "pygments_lexer": "ipython3",
      "version": "3.9.6"
    },
    "gpuClass": "standard",
    "accelerator": "GPU"
  },
  "nbformat": 4,
  "nbformat_minor": 0
}