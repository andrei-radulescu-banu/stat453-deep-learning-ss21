{
  "cells": [
    {
      "cell_type": "markdown",
      "metadata": {
        "id": "view-in-github",
        "colab_type": "text"
      },
      "source": [
        "<a href=\"https://colab.research.google.com/github/andrei-radulescu-banu/stat453-deep-learning-ss21/blob/main/L15/1_lstm_new.ipynb\" target=\"_parent\"><img src=\"https://colab.research.google.com/assets/colab-badge.svg\" alt=\"Open In Colab\"/></a>"
      ]
    },
    {
      "cell_type": "code",
      "source": [
        "!pip install -U torch==1.13.0 torchtext==0.14.0 torchdata==0.5.0\n",
        "\n",
        "# Reload environment\n",
        "exit()"
      ],
      "metadata": {
        "colab": {
          "base_uri": "https://localhost:8080/"
        },
        "id": "quCeAViQxtFC",
        "outputId": "d2e5e21a-f301-4cb2-fa15-204d70c88a82"
      },
      "execution_count": 1,
      "outputs": [
        {
          "output_type": "stream",
          "name": "stdout",
          "text": [
            "Looking in indexes: https://pypi.org/simple, https://us-python.pkg.dev/colab-wheels/public/simple/\n",
            "Requirement already satisfied: torch==1.13.0 in /usr/local/lib/python3.8/dist-packages (1.13.0+cu116)\n",
            "Requirement already satisfied: torchtext==0.14.0 in /usr/local/lib/python3.8/dist-packages (0.14.0)\n",
            "Collecting torchdata==0.5.0\n",
            "  Downloading torchdata-0.5.0-cp38-cp38-manylinux_2_17_x86_64.manylinux2014_x86_64.whl (4.5 MB)\n",
            "\u001b[K     |████████████████████████████████| 4.5 MB 12.4 MB/s \n",
            "\u001b[?25hRequirement already satisfied: typing-extensions in /usr/local/lib/python3.8/dist-packages (from torch==1.13.0) (4.4.0)\n",
            "Requirement already satisfied: tqdm in /usr/local/lib/python3.8/dist-packages (from torchtext==0.14.0) (4.64.1)\n",
            "Requirement already satisfied: numpy in /usr/local/lib/python3.8/dist-packages (from torchtext==0.14.0) (1.21.6)\n",
            "Requirement already satisfied: requests in /usr/local/lib/python3.8/dist-packages (from torchtext==0.14.0) (2.23.0)\n",
            "Collecting urllib3>=1.25\n",
            "  Downloading urllib3-1.26.13-py2.py3-none-any.whl (140 kB)\n",
            "\u001b[K     |████████████████████████████████| 140 kB 58.5 MB/s \n",
            "\u001b[?25hCollecting portalocker>=2.0.0\n",
            "  Downloading portalocker-2.6.0-py2.py3-none-any.whl (15 kB)\n",
            "Requirement already satisfied: chardet<4,>=3.0.2 in /usr/local/lib/python3.8/dist-packages (from requests->torchtext==0.14.0) (3.0.4)\n",
            "Requirement already satisfied: idna<3,>=2.5 in /usr/local/lib/python3.8/dist-packages (from requests->torchtext==0.14.0) (2.10)\n",
            "Requirement already satisfied: certifi>=2017.4.17 in /usr/local/lib/python3.8/dist-packages (from requests->torchtext==0.14.0) (2022.9.24)\n",
            "Collecting urllib3>=1.25\n",
            "  Downloading urllib3-1.25.11-py2.py3-none-any.whl (127 kB)\n",
            "\u001b[K     |████████████████████████████████| 127 kB 67.7 MB/s \n",
            "\u001b[?25hInstalling collected packages: urllib3, portalocker, torchdata\n",
            "  Attempting uninstall: urllib3\n",
            "    Found existing installation: urllib3 1.24.3\n",
            "    Uninstalling urllib3-1.24.3:\n",
            "      Successfully uninstalled urllib3-1.24.3\n",
            "Successfully installed portalocker-2.6.0 torchdata-0.5.0 urllib3-1.25.11\n"
          ]
        }
      ]
    },
    {
      "cell_type": "markdown",
      "metadata": {
        "id": "1kiY4tZXm7Gz"
      },
      "source": [
        "STAT 453: Deep Learning (Spring 2021)  \n",
        "Instructor: Sebastian Raschka (sraschka@wisc.edu)  \n",
        "\n",
        "Course website: http://pages.stat.wisc.edu/~sraschka/teaching/stat453-ss2021/  \n",
        "GitHub repository: https://github.com/rasbt/stat453-deep-learning-ss21\n",
        "\n",
        "---"
      ]
    },
    {
      "cell_type": "code",
      "source": [
        "!pip install watermark\n",
        "!pip install colab-env --upgrade\n",
        "import colab_env\n",
        "colab_env.envvar_handler.add_env(\"CUBLAS_WORKSPACE_CONFIG\", \":4096:8\", overwrite=True)\n",
        "!git clone https://github.com/andrei-radulescu-banu/stat453-deep-learning-ss21.git\n",
        "import sys, os\n",
        "sys.path.append(\"/content/stat453-deep-learning-ss21/L15\")"
      ],
      "metadata": {
        "colab": {
          "base_uri": "https://localhost:8080/"
        },
        "id": "RxYMCgA_nBvP",
        "outputId": "36a13379-a42e-488c-99de-5986c2abc74f"
      },
      "execution_count": 1,
      "outputs": [
        {
          "output_type": "stream",
          "name": "stdout",
          "text": [
            "Looking in indexes: https://pypi.org/simple, https://us-python.pkg.dev/colab-wheels/public/simple/\n",
            "Collecting watermark\n",
            "  Downloading watermark-2.3.1-py2.py3-none-any.whl (7.2 kB)\n",
            "Requirement already satisfied: ipython in /usr/local/lib/python3.8/dist-packages (from watermark) (7.9.0)\n",
            "Requirement already satisfied: prompt-toolkit<2.1.0,>=2.0.0 in /usr/local/lib/python3.8/dist-packages (from ipython->watermark) (2.0.10)\n",
            "Requirement already satisfied: setuptools>=18.5 in /usr/local/lib/python3.8/dist-packages (from ipython->watermark) (57.4.0)\n",
            "Requirement already satisfied: pygments in /usr/local/lib/python3.8/dist-packages (from ipython->watermark) (2.6.1)\n",
            "Requirement already satisfied: pexpect in /usr/local/lib/python3.8/dist-packages (from ipython->watermark) (4.8.0)\n",
            "Requirement already satisfied: decorator in /usr/local/lib/python3.8/dist-packages (from ipython->watermark) (4.4.2)\n",
            "Requirement already satisfied: pickleshare in /usr/local/lib/python3.8/dist-packages (from ipython->watermark) (0.7.5)\n",
            "Requirement already satisfied: backcall in /usr/local/lib/python3.8/dist-packages (from ipython->watermark) (0.2.0)\n",
            "Collecting jedi>=0.10\n",
            "  Downloading jedi-0.18.2-py2.py3-none-any.whl (1.6 MB)\n",
            "\u001b[K     |████████████████████████████████| 1.6 MB 14.9 MB/s \n",
            "\u001b[?25hRequirement already satisfied: traitlets>=4.2 in /usr/local/lib/python3.8/dist-packages (from ipython->watermark) (5.6.0)\n",
            "Requirement already satisfied: parso<0.9.0,>=0.8.0 in /usr/local/lib/python3.8/dist-packages (from jedi>=0.10->ipython->watermark) (0.8.3)\n",
            "Requirement already satisfied: wcwidth in /usr/local/lib/python3.8/dist-packages (from prompt-toolkit<2.1.0,>=2.0.0->ipython->watermark) (0.2.5)\n",
            "Requirement already satisfied: six>=1.9.0 in /usr/local/lib/python3.8/dist-packages (from prompt-toolkit<2.1.0,>=2.0.0->ipython->watermark) (1.15.0)\n",
            "Requirement already satisfied: ptyprocess>=0.5 in /usr/local/lib/python3.8/dist-packages (from pexpect->ipython->watermark) (0.7.0)\n",
            "Installing collected packages: jedi, watermark\n",
            "Successfully installed jedi-0.18.2 watermark-2.3.1\n",
            "Looking in indexes: https://pypi.org/simple, https://us-python.pkg.dev/colab-wheels/public/simple/\n",
            "Collecting colab-env\n",
            "  Downloading colab-env-0.2.0.tar.gz (4.7 kB)\n",
            "Collecting python-dotenv<1.0,>=0.10.0\n",
            "  Downloading python_dotenv-0.21.0-py3-none-any.whl (18 kB)\n",
            "Building wheels for collected packages: colab-env\n",
            "  Building wheel for colab-env (setup.py) ... \u001b[?25l\u001b[?25hdone\n",
            "  Created wheel for colab-env: filename=colab_env-0.2.0-py3-none-any.whl size=3837 sha256=58c313bb6f37db82ec91eb82fe8b7a4f8446e037917ccb9de09c583ef4c19aaa\n",
            "  Stored in directory: /root/.cache/pip/wheels/1c/65/0c/5552431f2622d6e0283e3dba61c6837103a9cbdbd89b7b0cba\n",
            "Successfully built colab-env\n",
            "Installing collected packages: python-dotenv, colab-env\n",
            "Successfully installed colab-env-0.2.0 python-dotenv-0.21.0\n",
            "Mounted at /content/gdrive\n",
            "Cloning into 'stat453-deep-learning-ss21'...\n",
            "remote: Enumerating objects: 1311, done.\u001b[K\n",
            "remote: Counting objects: 100% (261/261), done.\u001b[K\n",
            "remote: Compressing objects: 100% (104/104), done.\u001b[K\n",
            "remote: Total 1311 (delta 179), reused 179 (delta 135), pack-reused 1050\u001b[K\n",
            "Receiving objects: 100% (1311/1311), 116.80 MiB | 25.96 MiB/s, done.\n",
            "Resolving deltas: 100% (283/283), done.\n"
          ]
        }
      ]
    },
    {
      "cell_type": "markdown",
      "metadata": {
        "id": "vY4SK0xKAJgm"
      },
      "source": [
        "# RNN Classifier with LSTM Trained on Own Dataset (IMDB)"
      ]
    },
    {
      "cell_type": "markdown",
      "metadata": {
        "id": "sc6xejhY-NzZ"
      },
      "source": [
        "Example notebook showing how to use an own CSV text dataset for training a simple RNN for sentiment classification (here: a binary classification problem with two labels, positive and negative) using LSTM (Long Short Term Memory) cells."
      ]
    },
    {
      "cell_type": "code",
      "execution_count": 2,
      "metadata": {
        "colab": {
          "base_uri": "https://localhost:8080/"
        },
        "id": "moNmVfuvnImW",
        "outputId": "3c25fd60-d4df-4ce2-a389-d6d1ca707d66"
      },
      "outputs": [
        {
          "output_type": "stream",
          "name": "stdout",
          "text": [
            "Author: Sebastian Raschka\n",
            "\n",
            "Python implementation: CPython\n",
            "Python version       : 3.8.15\n",
            "IPython version      : 7.9.0\n",
            "\n",
            "torch    : 1.13.0+cu116\n",
            "torchtext: 0.14.0\n",
            "\n"
          ]
        }
      ],
      "source": [
        "%load_ext watermark\n",
        "%watermark -a 'Sebastian Raschka' -v -p torch,torchtext\n",
        "\n",
        "import torch\n",
        "import torch.nn.functional as F\n",
        "import torchtext\n",
        "import time\n",
        "import random\n",
        "import pandas as pd\n",
        "\n",
        "torch.backends.cudnn.deterministic = True"
      ]
    },
    {
      "cell_type": "markdown",
      "metadata": {
        "id": "GSRL42Qgy8I8"
      },
      "source": [
        "## General Settings"
      ]
    },
    {
      "cell_type": "code",
      "execution_count": 3,
      "metadata": {
        "id": "OvW1RgfepCBq"
      },
      "outputs": [],
      "source": [
        "RANDOM_SEED = 123\n",
        "torch.manual_seed(RANDOM_SEED)\n",
        "\n",
        "VOCABULARY_SIZE = 20000\n",
        "LEARNING_RATE = 0.005\n",
        "BATCH_SIZE = 128\n",
        "NUM_EPOCHS = 15\n",
        "DEVICE = torch.device('cuda:0' if torch.cuda.is_available() else 'cpu')\n",
        "\n",
        "EMBEDDING_DIM = 128\n",
        "HIDDEN_DIM = 256\n",
        "NUM_CLASSES = 2"
      ]
    },
    {
      "cell_type": "markdown",
      "metadata": {
        "id": "mQMmKUEisW4W"
      },
      "source": [
        "## Download Dataset"
      ]
    },
    {
      "cell_type": "markdown",
      "metadata": {
        "id": "tHwOuk54m7G6"
      },
      "source": [
        "The following cells will download the IMDB movie review dataset (http://ai.stanford.edu/~amaas/data/sentiment/) for positive-negative sentiment classification in as CSV-formatted file:"
      ]
    },
    {
      "cell_type": "code",
      "execution_count": 4,
      "metadata": {
        "colab": {
          "base_uri": "https://localhost:8080/"
        },
        "id": "7Kq0XWHom7G6",
        "outputId": "aee6be6e-622f-4ac4-cee6-bfa72d0e3def"
      },
      "outputs": [
        {
          "output_type": "stream",
          "name": "stdout",
          "text": [
            "--2022-12-08 01:36:18--  https://github.com/rasbt/python-machine-learning-book-3rd-edition/raw/master/ch08/movie_data.csv.gz\n",
            "Resolving github.com (github.com)... 140.82.121.4\n",
            "Connecting to github.com (github.com)|140.82.121.4|:443... connected.\n",
            "HTTP request sent, awaiting response... 302 Found\n",
            "Location: https://raw.githubusercontent.com/rasbt/python-machine-learning-book-3rd-edition/master/ch08/movie_data.csv.gz [following]\n",
            "--2022-12-08 01:36:18--  https://raw.githubusercontent.com/rasbt/python-machine-learning-book-3rd-edition/master/ch08/movie_data.csv.gz\n",
            "Resolving raw.githubusercontent.com (raw.githubusercontent.com)... 185.199.108.133, 185.199.109.133, 185.199.110.133, ...\n",
            "Connecting to raw.githubusercontent.com (raw.githubusercontent.com)|185.199.108.133|:443... connected.\n",
            "HTTP request sent, awaiting response... 200 OK\n",
            "Length: 26521894 (25M) [application/octet-stream]\n",
            "Saving to: ‘movie_data.csv.gz’\n",
            "\n",
            "movie_data.csv.gz   100%[===================>]  25.29M  --.-KB/s    in 0.08s   \n",
            "\n",
            "2022-12-08 01:36:19 (309 MB/s) - ‘movie_data.csv.gz’ saved [26521894/26521894]\n",
            "\n"
          ]
        }
      ],
      "source": [
        "!wget https://github.com/rasbt/python-machine-learning-book-3rd-edition/raw/master/ch08/movie_data.csv.gz"
      ]
    },
    {
      "cell_type": "code",
      "execution_count": 5,
      "metadata": {
        "id": "hXwZGkBQm7G7"
      },
      "outputs": [],
      "source": [
        "!gunzip -f movie_data.csv.gz "
      ]
    },
    {
      "cell_type": "markdown",
      "metadata": {
        "id": "wGreVqRDm7G7"
      },
      "source": [
        "Check that the dataset looks okay:"
      ]
    },
    {
      "cell_type": "code",
      "execution_count": 6,
      "metadata": {
        "colab": {
          "base_uri": "https://localhost:8080/",
          "height": 206
        },
        "id": "uVr6xN53m7G8",
        "outputId": "0f9b1e97-6ec9-4b54-fd3d-f24f6941f855"
      },
      "outputs": [
        {
          "output_type": "execute_result",
          "data": {
            "text/plain": [
              "                                              review  sentiment\n",
              "0  In 1974, the teenager Martha Moxley (Maggie Gr...          1\n",
              "1  OK... so... I really like Kris Kristofferson a...          0\n",
              "2  ***SPOILER*** Do not read this, if you think a...          0\n",
              "3  hi for all the people who have seen this wonde...          1\n",
              "4  I recently bought the DVD, forgetting just how...          0"
            ],
            "text/html": [
              "\n",
              "  <div id=\"df-b0b65eb5-d8ba-4297-ad98-aafc350edba1\">\n",
              "    <div class=\"colab-df-container\">\n",
              "      <div>\n",
              "<style scoped>\n",
              "    .dataframe tbody tr th:only-of-type {\n",
              "        vertical-align: middle;\n",
              "    }\n",
              "\n",
              "    .dataframe tbody tr th {\n",
              "        vertical-align: top;\n",
              "    }\n",
              "\n",
              "    .dataframe thead th {\n",
              "        text-align: right;\n",
              "    }\n",
              "</style>\n",
              "<table border=\"1\" class=\"dataframe\">\n",
              "  <thead>\n",
              "    <tr style=\"text-align: right;\">\n",
              "      <th></th>\n",
              "      <th>review</th>\n",
              "      <th>sentiment</th>\n",
              "    </tr>\n",
              "  </thead>\n",
              "  <tbody>\n",
              "    <tr>\n",
              "      <th>0</th>\n",
              "      <td>In 1974, the teenager Martha Moxley (Maggie Gr...</td>\n",
              "      <td>1</td>\n",
              "    </tr>\n",
              "    <tr>\n",
              "      <th>1</th>\n",
              "      <td>OK... so... I really like Kris Kristofferson a...</td>\n",
              "      <td>0</td>\n",
              "    </tr>\n",
              "    <tr>\n",
              "      <th>2</th>\n",
              "      <td>***SPOILER*** Do not read this, if you think a...</td>\n",
              "      <td>0</td>\n",
              "    </tr>\n",
              "    <tr>\n",
              "      <th>3</th>\n",
              "      <td>hi for all the people who have seen this wonde...</td>\n",
              "      <td>1</td>\n",
              "    </tr>\n",
              "    <tr>\n",
              "      <th>4</th>\n",
              "      <td>I recently bought the DVD, forgetting just how...</td>\n",
              "      <td>0</td>\n",
              "    </tr>\n",
              "  </tbody>\n",
              "</table>\n",
              "</div>\n",
              "      <button class=\"colab-df-convert\" onclick=\"convertToInteractive('df-b0b65eb5-d8ba-4297-ad98-aafc350edba1')\"\n",
              "              title=\"Convert this dataframe to an interactive table.\"\n",
              "              style=\"display:none;\">\n",
              "        \n",
              "  <svg xmlns=\"http://www.w3.org/2000/svg\" height=\"24px\"viewBox=\"0 0 24 24\"\n",
              "       width=\"24px\">\n",
              "    <path d=\"M0 0h24v24H0V0z\" fill=\"none\"/>\n",
              "    <path d=\"M18.56 5.44l.94 2.06.94-2.06 2.06-.94-2.06-.94-.94-2.06-.94 2.06-2.06.94zm-11 1L8.5 8.5l.94-2.06 2.06-.94-2.06-.94L8.5 2.5l-.94 2.06-2.06.94zm10 10l.94 2.06.94-2.06 2.06-.94-2.06-.94-.94-2.06-.94 2.06-2.06.94z\"/><path d=\"M17.41 7.96l-1.37-1.37c-.4-.4-.92-.59-1.43-.59-.52 0-1.04.2-1.43.59L10.3 9.45l-7.72 7.72c-.78.78-.78 2.05 0 2.83L4 21.41c.39.39.9.59 1.41.59.51 0 1.02-.2 1.41-.59l7.78-7.78 2.81-2.81c.8-.78.8-2.07 0-2.86zM5.41 20L4 18.59l7.72-7.72 1.47 1.35L5.41 20z\"/>\n",
              "  </svg>\n",
              "      </button>\n",
              "      \n",
              "  <style>\n",
              "    .colab-df-container {\n",
              "      display:flex;\n",
              "      flex-wrap:wrap;\n",
              "      gap: 12px;\n",
              "    }\n",
              "\n",
              "    .colab-df-convert {\n",
              "      background-color: #E8F0FE;\n",
              "      border: none;\n",
              "      border-radius: 50%;\n",
              "      cursor: pointer;\n",
              "      display: none;\n",
              "      fill: #1967D2;\n",
              "      height: 32px;\n",
              "      padding: 0 0 0 0;\n",
              "      width: 32px;\n",
              "    }\n",
              "\n",
              "    .colab-df-convert:hover {\n",
              "      background-color: #E2EBFA;\n",
              "      box-shadow: 0px 1px 2px rgba(60, 64, 67, 0.3), 0px 1px 3px 1px rgba(60, 64, 67, 0.15);\n",
              "      fill: #174EA6;\n",
              "    }\n",
              "\n",
              "    [theme=dark] .colab-df-convert {\n",
              "      background-color: #3B4455;\n",
              "      fill: #D2E3FC;\n",
              "    }\n",
              "\n",
              "    [theme=dark] .colab-df-convert:hover {\n",
              "      background-color: #434B5C;\n",
              "      box-shadow: 0px 1px 3px 1px rgba(0, 0, 0, 0.15);\n",
              "      filter: drop-shadow(0px 1px 2px rgba(0, 0, 0, 0.3));\n",
              "      fill: #FFFFFF;\n",
              "    }\n",
              "  </style>\n",
              "\n",
              "      <script>\n",
              "        const buttonEl =\n",
              "          document.querySelector('#df-b0b65eb5-d8ba-4297-ad98-aafc350edba1 button.colab-df-convert');\n",
              "        buttonEl.style.display =\n",
              "          google.colab.kernel.accessAllowed ? 'block' : 'none';\n",
              "\n",
              "        async function convertToInteractive(key) {\n",
              "          const element = document.querySelector('#df-b0b65eb5-d8ba-4297-ad98-aafc350edba1');\n",
              "          const dataTable =\n",
              "            await google.colab.kernel.invokeFunction('convertToInteractive',\n",
              "                                                     [key], {});\n",
              "          if (!dataTable) return;\n",
              "\n",
              "          const docLinkHtml = 'Like what you see? Visit the ' +\n",
              "            '<a target=\"_blank\" href=https://colab.research.google.com/notebooks/data_table.ipynb>data table notebook</a>'\n",
              "            + ' to learn more about interactive tables.';\n",
              "          element.innerHTML = '';\n",
              "          dataTable['output_type'] = 'display_data';\n",
              "          await google.colab.output.renderOutput(dataTable, element);\n",
              "          const docLink = document.createElement('div');\n",
              "          docLink.innerHTML = docLinkHtml;\n",
              "          element.appendChild(docLink);\n",
              "        }\n",
              "      </script>\n",
              "    </div>\n",
              "  </div>\n",
              "  "
            ]
          },
          "metadata": {},
          "execution_count": 6
        }
      ],
      "source": [
        "df = pd.read_csv('movie_data.csv')\n",
        "df.head()"
      ]
    },
    {
      "cell_type": "raw",
      "metadata": {
        "id": "TCYKMce_m7G9"
      },
      "source": [
        "df.columns = ['TEXT_COLUMN_NAME', 'LABEL_COLUMN_NAME']\n",
        "df.to_csv('movie_data.csv', index=None)\n",
        "\n",
        "df = pd.read_csv('movie_data.csv')\n",
        "df.head()"
      ]
    },
    {
      "cell_type": "code",
      "execution_count": 7,
      "metadata": {
        "id": "ayCZ1etlm7G9"
      },
      "outputs": [],
      "source": [
        "del df"
      ]
    },
    {
      "cell_type": "markdown",
      "metadata": {
        "id": "dJJJ1LtSm7G9"
      },
      "source": [
        "## Prepare Dataset with Torchdata and the new DataPipes API"
      ]
    },
    {
      "cell_type": "code",
      "source": [
        "from torchdata.datapipes.iter import IterableWrapper, FileOpener\n",
        "datapipe = IterableWrapper([\"movie_data.csv\"])\n",
        "datapipe = FileOpener(datapipe, mode='b')\n",
        "datapipe = datapipe.parse_csv(skip_lines=1)\n",
        "\n",
        "for sample in datapipe:\n",
        "     print(sample)\n",
        "     break"
      ],
      "metadata": {
        "colab": {
          "base_uri": "https://localhost:8080/"
        },
        "id": "A7Ue2q-1kwIj",
        "outputId": "a9d94887-a03d-4876-e974-5c59db5a1dc5"
      },
      "execution_count": 8,
      "outputs": [
        {
          "output_type": "stream",
          "name": "stdout",
          "text": [
            "['In 1974, the teenager Martha Moxley (Maggie Grace) moves to the high-class area of Belle Haven, Greenwich, Connecticut. On the Mischief Night, eve of Halloween, she was murdered in the backyard of her house and her murder remained unsolved. Twenty-two years later, the writer Mark Fuhrman (Christopher Meloni), who is a former LA detective that has fallen in disgrace for perjury in O.J. Simpson trial and moved to Idaho, decides to investigate the case with his partner Stephen Weeks (Andrew Mitchell) with the purpose of writing a book. The locals squirm and do not welcome them, but with the support of the retired detective Steve Carroll (Robert Forster) that was in charge of the investigation in the 70\\'s, they discover the criminal and a net of power and money to cover the murder.<br /><br />\"Murder in Greenwich\" is a good TV movie, with the true story of a murder of a fifteen years old girl that was committed by a wealthy teenager whose mother was a Kennedy. The powerful and rich family used their influence to cover the murder for more than twenty years. However, a snoopy detective and convicted perjurer in disgrace was able to disclose how the hideous crime was committed. The screenplay shows the investigation of Mark and the last days of Martha in parallel, but there is a lack of the emotion in the dramatization. My vote is seven.<br /><br />Title (Brazil): Not Available', '1']\n"
          ]
        }
      ]
    },
    {
      "cell_type": "code",
      "source": [
        "# Get the number of rows in dataset\n",
        "N_ROWS = len(list(datapipe))  # 50000\n",
        "\n",
        "# Split into training and val datapipes early on. Will build vocabulary from training datapipe only.\n",
        "#train_dp, val_dp = datapipe.random_split(total_length=N_ROWS, weights={\"train\": 0.5, \"valid\": 0.5}, seed=0)\n",
        "train_dp, val_dp, test_dp = datapipe.random_split(total_length=N_ROWS, weights={\"train\": 0.5, \"valid\": 0.4, \"test\": 0.1}, seed=0)"
      ],
      "metadata": {
        "id": "We2S_UwOsroc"
      },
      "execution_count": 57,
      "outputs": []
    },
    {
      "cell_type": "code",
      "source": [
        "from torchtext.vocab import build_vocab_from_iterator\n",
        "from torchtext.data.utils import get_tokenizer\n",
        "\n",
        "# See tutorial at https://www.youtube.com/watch?v=CrS-LFXEiyk\n",
        "tokenizer = get_tokenizer(\"basic_english\")\n",
        "\n",
        "def yield_tokens(data_iter):\n",
        "    for text, _ in data_iter:\n",
        "        yield tokenizer(text)\n",
        "\n",
        "\n",
        "def get_vocab(train_datapipe):\n",
        "    vocab = build_vocab_from_iterator(yield_tokens(train_datapipe), specials=[\"<unk>\"], max_tokens=VOCABULARY_SIZE)\n",
        "    vocab.set_default_index(vocab[\"<unk>\"])\n",
        "    return vocab"
      ],
      "metadata": {
        "id": "aPC6DfASsZrl"
      },
      "execution_count": 23,
      "outputs": []
    },
    {
      "cell_type": "code",
      "source": [
        "vocab = get_vocab(train_dp)\n",
        "\n",
        "# List vocabulary strings in order\n",
        "print(vocab.get_itos()[:5])\n",
        "\n",
        "from itertools import islice\n",
        "\n",
        "def take(n, iterable):\n",
        "    \"Return first n items of the iterable as a list\"\n",
        "    return list(islice(iterable, n))\n",
        "\n",
        "# List five vocabulary items\n",
        "print(take(5, vocab.get_stoi().items()))"
      ],
      "metadata": {
        "colab": {
          "base_uri": "https://localhost:8080/"
        },
        "id": "PeyMOsYiUhGO",
        "outputId": "e29c6645-dfe6-4838-89e3-d56f596ca04d"
      },
      "execution_count": 24,
      "outputs": [
        {
          "output_type": "stream",
          "name": "stdout",
          "text": [
            "['<unk>', 'the', '.', ',', 'and']\n",
            "[('railsback', 19997), ('raider', 19996), ('radu', 19995), ('r2', 19993), ('quiz', 19992)]\n"
          ]
        }
      ]
    },
    {
      "cell_type": "code",
      "source": [
        "# Pipeline word tokenizer: \n",
        "# - convert reviews to word tokens, and word tokens to vocab index\n",
        "# - convert rating to number in {0, 1}\n",
        "def tokenize_pipeline(sample) : return (vocab(list(tokenizer(sample[0]))), int(sample[1]))"
      ],
      "metadata": {
        "id": "ngZwsg75VjpJ"
      },
      "execution_count": 26,
      "outputs": []
    },
    {
      "cell_type": "code",
      "source": [
        "def build_data_pipe(dp, mode, len=1000, batch_size=BATCH_SIZE):\n",
        "  # Tokenize stage\n",
        "  dp = dp.map(tokenize_pipeline)\n",
        "\n",
        "  if mode == \"train\":\n",
        "    dp = dp.shuffle(buffer_size=len)\n",
        "  \n",
        "  dp = dp.sharding_filter()\n",
        "  # important to use sharding_filter after (not before) shuffling\n",
        "\n",
        "  if mode == \"train\":\n",
        "    dp = dp.batch(batch_size=batch_size, drop_last=True)\n",
        "\n",
        "  elif mode == \"validate\":\n",
        "    dp = dp.batch(batch_size=batch_size, drop_last=False)\n",
        "\n",
        "  else:\n",
        "    raise ValueError(f\"Invalid mode argument {mode}.\")\n",
        "\n",
        "  return dp\n"
      ],
      "metadata": {
        "id": "ASP4o3tuuINp"
      },
      "execution_count": 25,
      "outputs": []
    },
    {
      "cell_type": "code",
      "source": [
        "# Apply pipeline stage\n",
        "train_dp1 = build_data_pipe(train_dp, \"train\")\n",
        "val_dp1 = build_data_pipe(val_dp, \"validate\")\n",
        "for sample in train_dp1:\n",
        "     print(sample)\n",
        "     break"
      ],
      "metadata": {
        "colab": {
          "base_uri": "https://localhost:8080/"
        },
        "id": "XFuupFnplgVW",
        "outputId": "a3e69697-2781-4f1a-9d17-e4511ddb4e5a"
      },
      "execution_count": 27,
      "outputs": [
        {
          "output_type": "stream",
          "name": "stdout",
          "text": [
            "[([13, 12554, 12272, 3, 5540, 3, 7276, 2536, 4646, 837, 776, 12836, 18, 5, 6237, 4356, 4, 9040, 0, 14, 8, 15, 5, 2792, 7, 5838, 2, 4470, 10854, 798, 832, 541, 1824, 24, 40, 0, 0, 7416, 7427, 23, 15265, 7, 104, 146, 51, 6, 31, 0, 1831, 125, 2, 1824, 226, 31, 202, 1016, 59, 731, 837, 17727, 14553, 24, 40, 1348, 7273, 1679, 23, 0, 96, 40, 796, 0, 7661, 69, 16122, 3631, 8556, 1819, 7, 40, 178, 753, 2, 1824, 676, 314, 11270, 849, 11, 595, 1111, 59, 29, 2156, 14553, 8, 15, 301, 2, 3031, 0, 4860, 8, 15, 0, 584, 781, 6, 93, 184, 697, 8, 26, 218, 54, 38, 8, 185, 10156, 67, 7, 33, 3, 196, 122, 3, 37, 1611, 272, 3352, 4, 14, 0, 178, 0, 49, 93, 837, 158, 8, 26, 936, 500, 44, 5, 1432, 1162, 7, 5, 386, 4347, 6, 0, 1375, 2498, 1257, 3, 5, 590, 6667, 3597, 134, 8, 15, 8141, 7155, 19, 203, 57, 4, 484, 3, 5, 338, 287, 6, 0, 3256, 3, 1, 19377, 19820, 103, 1, 582, 9, 1259, 3, 4, 1, 3131, 18578, 6, 1, 10592, 0, 1572, 0, 8, 2057, 8, 37, 18719, 109, 11, 40, 2814, 5810, 4, 458, 829, 5339, 14862, 623, 24, 997, 2, 1454, 2, 3, 0, 9, 589, 394, 0, 18, 5, 0, 4, 36, 34, 222, 0, 5, 918, 2270, 18, 5, 1526, 2959, 7, 722, 18, 31, 507, 136, 1, 1623, 23, 2, 4057, 42, 31, 10938, 0, 4, 0, 1090, 6, 1, 8130, 3, 28, 7, 33, 0, 18, 14553, 3, 7273, 1679, 3821, 8686, 17, 34, 6, 1, 1830, 160, 7, 129, 1466, 3741, 2, 5, 0, 4, 2439, 126, 6858, 2], 1), ([4647, 2253, 963, 48, 389, 11718, 6, 19101, 7, 13, 4368, 4143, 69, 9, 166, 7244, 27, 1, 4619, 12688, 1887, 775, 2, 1022, 3, 4210, 4, 2253, 30, 374, 12688, 11, 119, 4131, 4, 1, 1545, 9, 28, 333, 0, 21, 8950, 2, 1, 68, 7291, 11, 1, 22, 265, 42, 5787, 0, 41, 3, 1214, 3, 7683, 11, 31, 629, 181, 17, 1, 0, 8, 15, 6124, 1226, 2, 669, 7739, 8, 15, 242, 56, 68, 33, 2153, 17, 40, 491, 6, 4916, 27, 1, 304], 0), ([155, 860, 49, 122, 24, 9, 13, 5, 1799, 0, 49, 1, 355, 53, 23, 9, 44, 0, 11, 478, 3540, 46, 10478, 975, 912, 7, 347, 25, 1643, 80, 25, 270, 10, 11, 1, 274, 9845, 95, 45, 9, 168, 324, 309, 27, 1, 1125, 9646, 4, 25, 30, 11, 348, 6, 6597, 107, 5, 13040, 271, 2, 4, 10, 500, 19, 14, 19, 14, 1230, 116, 5, 710, 755, 220, 10, 9, 5, 233, 58, 2, 1, 70, 9, 5, 246, 584, 34, 49, 5, 330, 1979, 24, 1862, 122, 11256, 23, 1037, 7, 40, 3253, 3600, 643, 1097, 24, 10977, 0, 23, 41, 52, 270, 73, 122, 125, 27, 1033, 675, 7, 1, 0, 6, 31, 3087, 1264, 4336, 2, 31, 1922, 9696, 24, 0, 1065, 23, 9, 4529, 6, 203, 1097, 4, 1979, 3, 21, 52, 5, 10711, 3003, 7, 1979, 14, 266, 664, 1752, 2, 1979, 7912, 18, 48, 782, 0, 24, 2339, 1931, 23, 3, 5, 893, 122, 15290, 3, 41, 9943, 1979, 7, 32, 4841, 2, 27, 6867, 8, 15, 271, 3, 107, 5, 2941, 19300, 18, 48, 782, 3, 1979, 0, 5, 3627, 7, 1097, 4753, 8, 7620, 8, 17, 5, 2379, 7, 72, 50, 1097, 8070, 3, 8719, 31, 13879, 2, 36, 1, 173, 66, 9696, 0, 5, 0, 5267, 0, 7, 1979, 27, 69, 29, 52, 0, 5, 9445, 122, 28, 2, 203, 32, 3560, 2025, 0, 9633, 2, 1097, 11, 199, 9, 3234, 66, 18, 5, 1442, 0, 24, 0, 0, 23, 4, 9, 840, 4211, 27, 1979, 2, 1979, 15312, 0, 18, 1097, 2668, 7521, 4, 1623, 1732, 4, 2218, 7, 916, 1097, 11, 5041, 17, 8, 7620, 8, 7, 2379, 31, 13879, 2, 1, 440, 188, 6, 109, 226, 969, 67, 11, 1, 663, 14295, 4, 1, 285, 1590, 14, 157, 122, 212, 33, 459, 27, 860, 80, 4, 93, 14, 1939, 11, 1, 908, 0, 9, 1, 823, 24, 6, 2610, 23, 6, 1, 10668, 234, 2, 710, 1338, 170, 95, 6, 1, 482, 6, 501, 4, 1, 2662, 482, 6, 119, 2, 383, 74, 175, 313, 10206, 7761, 7, 188, 5, 710, 543, 17, 1979, 310, 6, 0, 5, 4955, 1121, 27, 1862, 122, 11256, 1, 898, 210, 32, 84, 3866, 2, 21, 11, 1, 137, 13, 70, 39, 791, 0, 17435, 207, 2505, 1921, 4, 1092, 11, 99, 3900, 2, 34, 388, 6597, 9, 5, 674, 581, 14, 9, 4609, 43, 1406, 14, 10, 3598, 37, 1, 403, 4, 9, 13481, 2, 45, 30, 55, 338, 145, 6, 1223, 4, 5, 180, 395, 6, 4371, 465, 3, 21, 11, 1, 137, 13, 126, 22, 9, 374, 128, 8895, 17, 933, 0, 3540, 2, 9565, 8461], 0), ([97, 3, 281, 77, 135, 14, 264, 12, 1299, 1061, 1583, 1541, 8, 15, 170, 3, 12, 8, 144, 84, 1472, 10807, 11, 62, 3154, 7, 1068, 736, 3, 715, 6, 1, 2413, 3, 4, 14263, 4, 16694, 2, 12, 1299, 2537, 58, 1190, 220, 3, 4, 9449, 1594, 1, 3256, 18, 1152, 7, 15549, 2, 11, 5, 699, 182, 121, 1, 13396, 6, 14263, 4, 16694, 8, 15, 2686, 3, 0, 8032, 3, 4, 2718, 0, 30, 1, 13900, 6, 5, 7279, 3, 5996, 3, 0, 1779, 0, 5020, 844, 3, 121, 177, 0, 221, 8, 15, 1040, 461, 623, 3, 5, 134, 18, 63, 890, 1656, 9, 3820, 4, 3418, 6, 687, 856, 3, 4, 1, 2741, 4949, 311, 136, 2, 4, 13, 182, 9, 92, 897, 164, 2, 414, 3, 10, 8, 15, 619, 14, 3179, 8, 15, 1686, 2, 3, 0, 3, 0, 4, 0, 6907, 87, 33, 6522, 36, 1, 2211, 1161, 361, 73, 6458, 11, 1, 345, 0, 2, 45, 76, 55, 1029, 5490, 18, 1, 22, 3, 4, 1, 620, 207, 1, 66, 13223, 80, 1, 83, 116, 40, 890, 1656, 253, 41, 8, 15, 3676, 49, 48, 1364, 8, 15, 24, 7449, 8, 15, 23, 12358, 80, 101, 32, 84, 3875, 1, 1179, 9, 45, 2, 4, 45, 91, 8, 26, 320, 7, 33, 108, 115, 366, 11, 1, 699, 2, 12, 124, 546, 18, 5, 9344, 27, 62, 406, 3, 21, 1, 549, 9, 5, 233, 132, 81, 1, 1841, 2, 1324, 3, 10, 8, 15, 62, 247, 6, 3725, 22, 3, 4, 10, 87, 33, 250, 7, 11349, 27, 399, 2, 1115, 35, 0, 749, 149, 1, 886, 19, 40, 1616, 141, 2], 1), ([12, 1762, 214, 13, 60, 463, 220, 190, 3100, 46, 43, 27, 2002, 251, 2, 54, 5, 823, 4, 2792, 35, 295, 9, 0, 4208, 11, 13, 20, 35, 7294, 305, 1, 1945, 91, 24, 392, 1, 176, 866, 91, 41, 16, 444, 7, 33, 8365, 53, 518, 14974, 125, 46, 17299, 53, 23, 2, 3531, 2326, 4, 4436, 13305, 30, 36, 73, 94, 316, 4, 28, 7, 33, 0, 18, 35, 1324, 5684, 14, 880, 4, 16521, 90, 151, 300, 35, 100, 45, 9, 1, 89, 12106, 141, 207, 13305, 4, 1726, 8797, 24, 4585, 4, 2546, 23, 121, 38, 11731, 308, 139, 1, 182, 12106, 2, 13, 22, 9, 203, 1261, 4, 8112, 2, 19, 37, 1, 1157, 3, 10, 56, 33, 5, 60, 1998, 22, 2, 4, 3, 25, 32, 1, 1434, 7, 72, 441, 160, 11, 73, 464, 46, 784, 464, 603, 2, 5005, 6093, 2, 794, 7452, 2, 1668, 15779, 2, 10, 9, 28, 5, 22, 19, 295, 2, 21, 3, 50, 25, 44, 5, 22, 14, 52, 5, 172, 6, 680, 308, 4, 944, 703, 206, 4602, 67, 267, 11, 1696, 3, 13, 9, 1, 22, 19, 25, 2, 2469, 6601, 10921, 27, 13, 22, 2, 29, 8, 15, 1098, 358, 2, 13, 9, 5, 494, 3, 494, 22, 35, 277, 47, 28, 34, 19, 6601, 2, 12, 1163, 10, 17, 5, 306, 95, 6, 93, 78, 10, 9, 229, 4, 93, 164, 1, 234, 56, 33, 3, 142, 28, 71, 116, 5, 795, 220, 247, 6, 22, 2, 12, 44, 10, 43, 78, 14, 12, 1194, 10, 27, 274, 95, 10, 47, 158, 8, 26, 82, 589, 60, 79, 27, 2002, 251, 2, 156, 3, 10, 8, 15, 37, 1662, 35], 1), ([59, 12, 214, 13, 20, 19, 1, 97, 66, 12, 159, 8, 26, 263, 62, 204, 511, 2, 11, 964, 6, 77, 45, 16, 5, 89, 13733, 78, 0, 2187, 6, 13240, 2, 2, 2, 72, 2734, 2771, 0, 14, 103, 9, 44, 7, 72, 40, 327, 0, 11, 231, 35, 10, 8, 15, 5, 60, 57, 2187, 3, 982, 6, 988, 3, 18, 5, 1044, 4, 1255, 2734, 2, 2, 2, 178, 4, 57, 44, 15256, 2, 24, 46, 1, 0, 107, 14, 23], 1), ([13, 6433, 4, 0, 220, 7911, 115, 395, 4155, 4, 89, 287, 6, 1012, 3, 162, 5737, 2, 1834, 8, 15, 2058, 18, 441, 2047, 145, 3, 29, 52, 13858, 223, 17, 5, 2553, 8569, 4, 5526, 10966, 3, 40, 2515, 1090, 6, 2176, 2, 100, 1, 8569, 9, 4150, 19, 1, 0, 0, 4, 562, 0, 706, 2, 164, 4, 0, 119, 6, 37, 1051, 3, 17, 1, 6099, 669, 19899, 17, 0, 24, 0, 23, 3, 1668, 2766, 17, 0, 24, 0, 23, 4, 1497, 6343, 17, 12242, 24, 0, 23, 2, 1834, 8, 15, 97, 3060, 22, 9, 2342, 3903, 39, 7424, 0, 2, 13, 3818, 22, 1359, 1815, 1142, 145, 3, 1, 1429, 30, 1, 971, 457, 23, 1, 34, 59, 302, 1, 8903, 1, 0, 342, 18, 5, 0, 30, 1711, 11, 5, 682, 1400, 206, 1980, 280, 23, 5526, 0, 10966, 402, 4511, 6142, 571, 5, 2211, 13106, 430, 23, 10966, 394, 18, 40, 3922, 8414, 6, 1, 182, 607, 23, 1, 0, 14638, 5, 134, 3602, 7, 8022, 881, 633, 553, 6, 0, 553, 23, 59, 10966, 4, 0, 249, 349, 7, 390, 31, 666, 1944, 81, 83, 11, 5, 8569, 8, 15, 2726, 754, 98, 2, 2176, 4764, 20, 16132, 7, 1, 2861, 675, 7, 99, 2058, 6, 96, 3, 4, 270, 96, 11, 31, 325, 1087, 107, 31, 17110, 12141, 6, 842, 2, 1, 20, 9, 14839, 39, 0, 16876, 3, 917, 6, 31, 692, 4643, 3, 38, 76, 1037, 11, 7255, 3, 264, 64, 12868, 6, 1, 1629, 16, 102, 315, 3, 34, 66, 1751, 1, 89, 5526, 2, 1, 438, 16, 615, 11, 4679, 3, 59, 1834, 74, 4157, 5, 1602, 10052, 39, 5, 0, 2059, 21, 5, 8581, 18, 1, 329, 6, 0, 4276, 16, 1, 9842, 19, 1, 2547, 7, 5555, 96, 0, 42, 3397, 4, 29, 13009, 7, 8218, 2], 1), ([1, 70, 6, 93, 1, 24, 5191, 23, 1708, 41, 9561, 1, 8596, 42, 13309, 0, 16, 9743, 39, 1, 896, 1745, 149, 1, 568, 6, 0, 2, 5, 70, 6, 1754, 4, 8163, 3, 6, 448, 4, 1, 1600, 6, 2119, 2, 1, 70, 101, 33, 1, 34, 6, 105, 2614, 630, 2, 5, 60, 703, 22, 18, 1064, 389, 6, 3619, 4, 880, 2, 50, 25, 32, 7, 72, 68, 34, 1843, 22, 13, 345, 3, 72, 13, 34, 2], 1), ([4434, 1060, 1045, 5, 196, 253, 24, 5987, 0, 23, 41, 9235, 19, 48, 415, 782, 2, 497, 51, 48, 782, 32, 4364, 5, 0, 14, 52, 4020, 88, 1, 13496, 6, 0, 2, 18, 2461, 2296, 968, 36, 48, 504, 61, 721, 139, 7, 174, 48, 782, 2, 17, 3111, 629, 3, 1, 119, 213, 8, 26, 6, 1, 3989, 482, 21, 25, 90, 82, 4990, 505, 3383, 257, 77, 77, 0, 3234, 94, 6, 1, 66, 27, 278, 18, 48, 7059, 3436, 3, 636, 477, 5987, 0, 2701, 11, 1743, 2866, 4, 5030, 18, 5, 0, 0, 11, 3207, 547, 754, 83, 184, 2, 156, 14, 8, 15, 3215, 1525, 19, 146, 35, 21, 3, 12, 212, 135, 14, 12, 174, 10, 233, 283, 7, 380, 13, 417, 2, 50, 25, 30, 336, 6, 1, 530, 3, 25, 87, 94, 1291, 2517, 177, 621, 141, 11, 1, 20, 1569, 5, 11050, 180, 2, 4, 12, 384, 14, 1214, 2, 5, 172, 6, 1, 621, 145, 30, 4915, 795, 51, 83, 4990, 106, 3, 44, 134, 42, 849, 1912, 4, 239, 4990, 182, 2, 45, 8, 15, 243, 58, 106, 1647, 11, 45, 2, 1126, 3, 13, 9, 34, 19, 5353, 450, 7, 859, 139, 73, 1087, 2, 50, 25, 707, 8, 26, 114, 105, 1049, 2483, 106, 3, 25, 8, 241, 33, 132, 139, 155, 4990, 4576, 4, 50, 25, 8, 185, 40, 6160, 336, 3, 25, 32, 114, 94, 6, 1, 621, 145, 11, 83, 106, 2], 0), ([28, 40, 796, 22, 7, 44, 36, 97, 18, 203, 1, 477, 109, 186, 4520, 21, 3295, 1, 540, 4, 1356, 6, 1, 22, 9, 6638, 14620, 8, 15, 1325, 242, 69, 3035, 1, 22, 88, 15225, 3433, 4, 10083, 1, 246, 2132, 741, 2, 13, 423, 1, 22, 5, 554, 6, 157, 860, 4, 167, 25, 110, 25, 8, 144, 114, 146, 312, 2, 24, 2399, 23], 1), ([12, 16, 874, 7, 111, 13, 228, 209, 6, 112, 17, 5, 196, 542, 4, 12, 16, 572, 38, 76, 157, 35, 722, 49, 542, 2452, 2, 12, 65, 32, 84, 346, 6514, 6, 2345, 46, 3636, 2, 13, 209, 9, 68, 57, 19, 85, 41, 263, 11, 13, 12361, 4, 41, 187, 7, 0, 73, 393, 88, 3711, 1, 173, 2, 1317, 1, 619, 1185, 3550, 18, 0, 4, 0, 3, 45, 8, 15, 92, 1, 86, 119, 3, 86, 501, 3, 4, 86, 312, 299, 2, 38, 30, 47, 37, 190, 388, 3, 388, 106, 2, 414, 3, 829, 24, 4, 5153, 23, 7, 5, 541, 3, 21, 12, 56, 8, 26, 811, 5, 10953, 2640, 88, 13, 0, 2, 264, 3, 12, 212, 135, 3, 14, 12, 65, 33, 943, 11, 317, 98, 502, 3, 17, 40, 1166, 2, 38, 227, 32, 5, 732, 0, 20, 244, 7, 98, 2], 0), ([12, 32, 114, 10649, 4, 92, 24, 0, 23, 6596, 3891, 3, 117, 83, 494, 500, 6, 1, 9501, 11789, 42, 260, 433, 8691, 1212, 1780, 2, 21, 13, 22, 3, 1, 398, 11096, 24, 2429, 10649, 280, 23, 87, 218, 1033, 5, 312, 273, 11, 62, 540, 2, 19, 1950, 0, 3, 566, 6, 2824, 11, 22, 365, 3, 4, 1539, 4999, 24, 2037, 5, 126, 108, 79, 23, 3, 1, 398, 11096, 592, 33, 9452, 2, 1, 594, 141, 721, 1, 1295, 2, 260, 178, 4782, 10649, 9, 0, 67, 18, 5, 478, 253, 3, 59, 55, 2626, 731, 1459, 8512, 1, 329, 19, 64, 57, 289, 3, 4, 567, 8, 26, 25, 123, 10, 35, 1, 253, 11, 1283, 18, 5378, 8, 0, 9, 650, 83, 81, 1, 2026, 8, 15, 330, 2, 48, 1437, 59, 61, 1038, 96, 29, 102, 77, 90, 10, 35, 10649, 8, 15, 1437, 0, 30, 25, 19, 157, 53, 53, 53, 4037, 16, 118, 31, 590, 222, 2, 3537, 53, 1, 2183, 39, 5, 60, 196, 7874, 3810, 24, 6, 19613, 1984, 23, 3, 1, 2550, 4324, 24, 109, 284, 34, 103, 11, 34, 326, 3, 4, 166, 11, 1, 368, 3, 10649, 8, 15, 2059, 2850, 2615, 11, 177, 694, 326, 6, 31, 5544, 491, 23, 3, 4, 1617, 10603, 8, 15, 5525, 511, 11, 48, 97, 141, 2, 21, 1, 157, 1685, 133, 9, 8691, 1212, 1780, 314, 2, 124, 1, 134, 71, 110, 29, 560, 598, 11, 13, 20, 53, 12, 435, 91, 8, 26, 123, 143, 3, 21, 25, 32, 7, 3075, 1, 1950, 4999, 29, 52, 2, 724, 10, 33, 3517, 458, 1330, 139, 5, 4045, 3, 46, 12097, 3840, 7, 31, 1205, 11, 9048, 24, 997, 2, 1454, 1597, 35, 88, 1, 3244, 35, 12, 32, 5, 1314, 7, 281, 14, 421, 0, 24, 0, 3787, 31, 204, 2754, 35, 23, 1, 134, 5905, 458, 2, 435, 29, 266, 8499, 3, 0, 43, 81, 105, 66, 29, 8, 15, 402, 3473, 3130, 2, 1, 4937, 935, 9, 719, 36, 331, 2158, 3, 21, 0, 8868, 192, 7, 281, 8691, 7916, 4, 0, 31, 2526, 2, 12, 8, 148, 28, 254, 50, 38, 468, 10, 108, 169, 44, 38, 19022, 67, 1, 22, 17, 40, 882, 46, 50, 38, 71, 468, 183, 7, 263, 29, 16, 14, 845, 2, 11, 105, 1508, 3, 1, 3296, 10, 9, 28, 2, 398, 11096, 3, 79, 44, 1, 216, 10649, 3, 9, 40, 4294, 22, 6, 3922, 8683, 2, 21, 36, 225, 10, 8, 15, 250, 3, 4, 435, 25, 32, 7, 205, 1076, 7, 138, 85, 19, 1, 772, 2, 47, 28, 14, 79, 2, 362, 18, 62, 13457, 13602, 2], 0), ([13, 22, 16, 4644, 2, 4, 28, 11, 1, 57, 103, 17, 55, 32, 4561, 2, 97, 139, 1, 290, 113, 9, 5, 60, 7717, 0, 2, 350, 80, 6390, 9, 171, 27, 18, 13, 1057, 122, 2, 1, 120, 3, 670, 3, 9, 431, 496, 396, 43, 6322, 5, 1057, 24, 69, 3, 11, 8961, 9, 186, 598, 23, 2, 4134, 361, 14, 29, 291, 44, 5, 0, 29, 4036, 18, 734, 6, 4604, 35, 4, 29, 946, 18, 55, 2, 100, 29, 4036, 18, 5, 71, 895, 2111, 4, 8352, 29, 1249, 13, 18456, 3240, 41, 259, 283, 7, 82, 2, 100, 29, 2299, 5807, 18, 1, 895, 4604, 1364, 2, 4, 29, 12817, 31, 1057, 2, 36, 69, 222, 1798, 6411, 3205, 1, 271, 2, 264, 29, 159, 8, 26, 348, 7, 95, 11, 9668, 1, 1057, 1, 5661, 541, 6980, 1, 381, 97, 2, 12, 506, 13, 280, 1719, 8, 15, 17, 12, 8, 148, 1615, 7, 2055, 14, 45, 8, 15, 55, 422, 6, 1391, 8, 15, 0, 0, 12, 8, 148, 28, 385, 4, 92, 95, 45, 8, 15, 55, 1391, 8, 15, 0, 108, 2], 0), ([333, 376, 1277, 3, 0, 42, 1, 12, 123, 54, 25, 124, 239, 1414, 585, 6, 7411, 3, 52, 316, 3192, 1108, 1381, 3234, 4517, 1016, 11, 5, 4471, 0, 116, 1787, 34, 39, 34, 2, 5, 9798, 11, 177, 2472, 5421, 42, 2900, 2123, 751, 7, 1, 2185, 325, 871, 2, 2, 168, 9, 2348, 2900, 4, 1, 109, 546, 126, 58, 81, 5903, 25, 4271, 7, 72, 0, 17, 1597, 17, 631, 2, 5350, 18091, 24, 1, 2561, 6, 1, 573, 3656, 12, 1861, 131, 2329, 23, 3, 6, 37, 85, 3, 4260, 1103, 3, 10629, 3, 4, 419, 17, 5, 1889, 11, 5, 8844, 223, 655, 620, 7, 1, 489, 12, 474, 778, 146, 7, 143, 29, 8, 15, 4373, 2, 1, 3569, 6, 1, 489, 9, 10594, 2348, 4, 10214, 3, 243, 28, 1723, 5, 1356, 41, 3800, 10, 2, 45, 30, 5, 172, 6, 3222, 2011, 2775, 3, 18, 34, 113, 6370, 51, 7, 15490, 73, 433, 3, 69, 412, 8, 26, 63, 0, 5, 180, 671, 3368, 3, 95, 38, 30, 43, 10376, 11, 147, 5, 10807, 103, 2, 94, 6, 1, 2847, 3724, 7680, 18, 11154, 4638, 2088, 24, 2, 2, 46, 17897, 23, 8360, 1, 68, 157, 2453, 6, 582, 2, 1, 17112, 1957, 3, 121, 1, 489, 266, 27, 4, 27, 18, 1, 297, 2750, 262, 7, 104, 31, 1042, 17, 9322, 4, 5778, 17, 631, 3, 9, 2314, 4, 0, 2, 45, 8, 15, 28, 34, 694, 1128, 7, 12960, 42, 13, 2473, 4, 739, 3145, 18, 1, 189, 188, 261, 126, 772, 7, 2165, 509, 73, 4185, 603, 2, 4, 3, 19, 2232, 2000, 3, 38, 101, 8, 144, 36, 225, 1509, 183, 7, 72, 5005, 4296, 82, 14333, 46, 146, 19, 0, 1, 4661, 6, 1209, 149, 13, 2622, 7666, 19, 1287, 10841, 232, 2, 0, 10359, 3, 17, 1, 2009, 464, 257, 3, 9103, 2115, 3, 41, 1, 489, 191, 7, 33, 2436, 18, 3, 412, 8, 26, 33, 58, 11730, 4, 2746, 24, 2, 2, 436, 3, 61, 16, 11, 17942, 3, 4, 311, 10509, 19, 48, 4119, 147, 1695, 5410, 23, 2, 12118, 1796, 3, 188, 439, 585, 17, 5, 60, 9781, 433, 6, 1, 528, 24, 2, 2, 41, 545, 7, 4323, 42, 1, 22, 97, 3, 1002, 67, 1, 323, 14, 29, 8, 15, 1, 97, 1312, 23, 3, 52, 5, 1236, 2413, 7, 6977, 18, 31, 223, 3, 43, 15805, 29, 803, 6073, 3, 2707, 0, 18, 64, 137, 11, 1696, 2, 1726, 0, 3, 8047, 55, 2140, 12, 474, 3, 52, 1, 17415, 2907, 1549, 223, 3, 655, 558, 8, 15, 600, 18780, 96, 7, 2555, 51, 1, 489, 3, 949, 96, 7, 4471, 2, 669, 18751, 52, 31, 629, 0, 223, 17, 5, 0, 4471, 548, 2298, 41, 9, 413, 3168, 7, 3168, 18, 0, 8, 15, 1549, 2, 436, 3, 1, 1441, 7, 1, 417, 8, 15, 870, 2, 2, 28, 71, 2, 95, 288, 25, 82, 1, 1441, 3, 25, 87, 591, 143, 25, 2697, 18, 13, 536, 2], 0), ([45, 30, 115, 548, 3126, 402, 1, 7124, 2, 12, 238, 28, 254, 143, 2, 10, 8, 15, 243, 7, 90, 18, 1, 178, 1117, 775, 6, 57, 4550, 484, 2, 13, 22, 52, 5, 691, 445, 17, 75, 868, 1, 855, 16937, 6, 1785, 3, 5, 2821, 9420, 3, 88, 5, 548, 3647, 14669, 11, 1, 0, 1493, 2, 64, 557, 9, 102, 7, 0, 1, 548, 2, 38, 30, 374, 192, 7, 688, 3, 2434, 36, 219, 4, 0, 3, 1785, 27, 1, 83, 568, 52, 5, 2330, 540, 383, 5, 126, 58, 1725, 6, 1, 398, 2972, 2, 439, 37, 2166, 61, 531, 1669, 152, 16218, 1519, 258, 27, 48, 3847, 9235, 4, 83, 13484, 2, 13, 9, 28, 5, 2303, 22, 2, 28, 34, 7, 5938, 25, 2, 45, 9, 28, 79, 554, 6, 9018, 11, 10, 2, 1, 548, 320, 7, 33, 563, 11, 5, 2250, 935, 2, 4970, 45, 87, 33, 58, 0, 3, 58, 1596, 3, 58, 245, 0, 3, 4, 58, 14877, 393, 2, 281, 8, 15, 406, 10, 2, 13, 9, 1, 182, 75, 426, 11, 2, 17, 490, 151, 39, 1785, 461, 58, 18657, 563, 18, 1, 548, 4, 18, 1, 2043, 38, 30, 5157, 2, 1, 68, 157, 5231, 11, 1, 22, 9, 14, 1903, 39, 1, 113, 7057, 3, 5, 2035, 345, 178, 42, 5, 1981, 245, 2, 1785, 52, 48, 204, 103, 6, 0, 184, 67, 2, 61, 497, 5, 1908, 839, 7, 7057, 8, 15, 0, 4, 516, 7, 347, 96, 17, 128, 61, 56, 2, 12, 16, 758, 162, 14, 61, 437, 43, 237, 17, 7, 7697, 7057, 8, 15, 340, 2, 10, 292, 77, 1516, 50, 10, 16, 11, 5907, 6, 1, 340, 46, 48, 204, 748, 2, 107, 37, 3, 1, 22, 167, 10, 747, 14, 61, 16, 2750, 11, 348, 6, 5, 1922, 4, 1895, 393, 2, 78, 188, 21, 28, 62, 323, 6, 40, 2225, 8, 15, 729, 3], 1), ([9334, 433, 2429, 0, 1394, 8, 0, 754, 5944, 213, 8, 26, 410, 21, 10, 9, 5, 3428, 4, 432, 776, 14, 1038, 12688, 0, 718, 0, 322, 6966, 9479, 9130, 4, 1158, 4315, 2425, 11, 1, 173, 3085, 9078, 3, 34, 7, 993, 2735, 10608, 3, 1, 83, 7, 2112, 51, 1, 117, 1531, 11, 15883, 1209, 45, 136, 1, 1154, 2441, 2, 1876, 184, 697, 8, 26, 186, 14, 584, 63, 107, 38, 903, 1, 9078, 3, 949, 7, 55, 3428, 1175, 4, 497, 2, 27, 1, 0, 504, 3, 45, 8, 15, 5, 60, 1147, 19056, 141, 11, 5, 527, 1170, 3, 4315, 52, 5, 60, 1985, 0, 19363, 29, 1099, 36, 1, 94, 0, 395, 3, 11165, 0, 3, 7358, 383, 1, 94, 11890, 0, 14415, 6, 1, 3033, 24, 10, 167, 48, 169, 44, 5, 8112, 253, 655, 5634, 9, 2763, 152, 139, 1, 408, 6, 48, 424, 39, 5, 331, 1881, 23, 3, 9, 146, 6, 5, 0, 492, 48, 12, 8, 236, 3858, 6014, 35, 12, 8, 236, 834, 7, 104, 122, 78, 35, 12, 8, 236, 335, 1757, 35, 2130, 9, 3471, 11, 37, 1, 358, 783, 492, 4, 10, 8, 15, 5, 816, 49, 1, 488, 239, 0, 3, 21, 853, 13, 9, 5, 1242, 432, 4, 15232, 633, 14, 8, 15, 276, 3351, 51, 50, 25, 56, 174, 5, 551, 2279, 2, 451, 1378, 8, 15, 2408, 274, 68, 1542, 1, 610, 704, 3, 21, 240, 9130, 2380, 314, 4, 1, 364, 6, 1, 188, 30, 952, 78, 2272, 14, 8, 15, 64, 89, 454, 3, 269, 240, 1, 4799, 4006, 9, 189, 57, 482, 2], 1), ([0, 9, 165, 5, 1728, 67, 11, 1282, 6, 54, 1, 216, 20, 16, 11, 70, 4, 11, 312, 299, 2, 1412, 1065, 841, 9, 57, 17, 5, 1168, 1844, 284, 19, 1, 1525, 314, 24, 50, 25, 392, 96, 3, 29, 16, 42, 1, 20, 2974, 3, 1, 1395, 841, 70, 2, 8, 23, 1412, 1223, 9, 164, 17, 2682, 3, 1, 541, 41, 1544, 1, 253, 29, 1249, 42, 5, 237, 2041, 2345, 8, 15, 666, 42, 1, 0, 2, 3531, 8178, 9, 57, 17, 1, 253, 41, 2159, 2345, 8, 15, 666, 11, 622, 7, 676, 5, 3599, 19, 48, 1644, 1364, 3, 4, 1867, 0, 9, 89, 17, 2345, 314, 2, 742, 5, 132, 242, 81, 5476, 4649, 124, 1, 1525, 11, 1, 216, 22, 2, 2524, 8076, 7124, 51, 1, 364, 6, 1, 188, 11, 13, 20, 3, 4, 29, 130, 5, 551, 298, 17, 1, 8656, 6, 1412, 1065, 841, 8, 15, 113, 2, 13, 9, 1, 350, 743, 11, 1, 2417, 3, 4, 38, 30, 139, 7, 5, 57, 378, 2, 10, 8, 15, 67, 11, 1, 951, 724, 1, 239, 22, 87, 556, 1, 209, 51, 27, 5, 57, 911, 2], 0), ([0, 9, 40, 230, 22, 2, 12, 1251, 122, 1, 7870, 2302, 2, 12, 637, 10, 74, 4533, 1150, 2, 10, 191, 7, 32, 473, 1093, 2, 115, 1396, 738, 73, 0, 7, 2963, 10, 192, 2, 12, 91, 8, 26, 123, 143, 2, 10, 8, 15, 1, 94, 230, 2302, 7, 562, 11, 1, 1271, 182, 240, 1, 718, 176, 3017, 2, 1317, 0, 3, 12, 8, 144, 114, 1, 97, 282, 11, 1, 209, 3, 0, 3, 0, 3, 4, 0, 2, 38, 76, 37, 89, 3, 0, 116, 5, 887, 3, 11, 62, 653, 2, 0, 213, 8, 26, 67, 7, 153, 401, 2, 12, 16, 47, 5291, 18, 1, 5658, 2, 10, 8, 15, 259, 17, 50, 10, 76, 5, 157, 691, 3, 18, 5, 157, 397, 41, 16, 43, 2436, 18, 31, 375, 14, 29, 4584, 7, 270, 10, 192, 2, 36, 5, 180, 790, 11, 1, 22, 3, 10, 461, 747, 14, 10, 9, 5, 170, 6, 586, 1222, 3, 21, 14, 7541, 16, 17112, 19, 40, 485, 1132, 6, 66, 2, 12, 637, 14, 1, 1052, 65, 32, 217, 67, 18, 146, 5, 233, 58, 230, 7, 270, 15075, 2, 10, 9, 670, 49, 13, 221, 3, 18505, 3, 41, 9, 40, 17391, 5026, 1, 0, 8467, 2, 0, 76, 68, 11, 1, 239, 371, 6, 1775, 1509, 1603, 1, 8467, 3, 4, 18505, 2218, 7, 0, 1, 366, 18, 17391, 393, 2, 29, 721, 31, 511, 27, 34, 3, 4, 94, 6, 1, 20, 9, 947, 27, 48, 11049, 2, 1, 117, 160, 30, 60, 1247, 2, 9912, 0, 68, 247, 6, 4530, 14, 61, 9, 40, 543, 2, 18505, 0, 191, 332, 157, 2, 1, 2655, 6, 1, 22, 30, 660, 1401, 7, 77, 3, 240, 12, 32, 68, 40, 16938, 6, 1, 831, 3236, 1, 902, 4, 99, 1129, 480, 2, 12, 16, 430, 3, 12, 110, 3, 59, 1, 0, 76, 13483, 2, 1, 464, 233, 6, 1, 22, 158, 8, 26, 170, 36, 37, 2, 12, 91, 8, 26, 82, 54, 1, 1052, 76, 171, 19, 45, 2, 140, 3, 0, 9, 40, 230, 7870, 2577, 2, 10, 130, 1016, 55, 7870, 2166, 3, 162, 3, 3611, 1, 64, 0, 215, 2449, 2, 45, 9, 5, 172, 6, 14, 2, 2399, 2], 1), ([1, 418, 6, 1, 7696, 8, 15, 5114, 52, 37, 1, 788, 14, 30, 1687, 11, 622, 7, 104, 40, 1148, 4575, 20, 2, 1, 70, 9, 1267, 4575, 2, 59, 5, 134, 1510, 11, 5, 1400, 2197, 31, 330, 24, 9357, 0, 23, 16728, 5, 5636, 1531, 125, 6264, 7333, 2, 1, 4390, 1768, 7, 9763, 19, 1, 0, 21, 5, 209, 6, 2976, 1596, 868, 48, 2, 45, 30, 958, 6, 3118, 3, 571, 5, 12408, 6434, 24, 693, 5594, 23, 42, 1, 6264, 5454, 4, 1, 4390, 8, 15, 1442, 2, 175, 8824, 944, 1, 70, 703, 36, 5, 845, 1012, 142, 1, 503, 516, 7, 474, 1, 2200, 6, 1, 489, 2, 8911, 0, 24, 92, 876, 11, 131, 5505, 9, 5, 3426, 654, 4, 68, 12, 32, 1, 1550, 4, 41, 214, 48, 768, 53, 23, 9, 5, 0, 2009, 2, 10, 8, 15, 34, 6, 8824, 8, 15, 128, 112, 2], 1), ([13, 20, 9, 13969, 6, 908, 1529, 86, 1236, 221, 6884, 109, 3, 3257, 3556, 21, 18, 64, 157, 741, 2, 55, 6, 1, 145, 30, 1807, 719, 2, 50, 38, 537, 1, 173, 188, 4, 830, 3, 4, 102, 5, 20, 483, 1, 0, 41, 16, 1, 9522, 113, 11, 1, 22, 4, 373, 67, 18, 40, 230, 4, 8432, 70, 277, 10, 101, 33, 551, 2, 17, 10, 9, 3, 4956, 19, 5, 854, 209, 6, 1236, 221, 113, 0, 3, 37, 6, 914, 90, 168, 21, 1311, 17421, 190, 1, 1920, 37, 271, 4, 1032, 1111, 142, 37, 3672, 118, 385, 0, 4, 1845, 73, 1113, 4, 1778, 410, 4, 118, 8047, 7, 169, 19, 5, 352, 46, 301, 3, 524, 2, 45, 16, 5, 422, 6, 933, 70, 49, 1, 109, 15688, 908, 85, 14, 76, 533, 4, 5, 2612, 14, 16, 243, 444, 7, 33, 1, 120, 2], 0), ([17, 18, 94, 0, 2251, 106, 3, 13, 34, 9, 60, 432, 367, 10, 8, 15, 250, 37, 1, 103, 149, 2, 10, 8, 15, 407, 34, 6, 1, 239, 6, 13, 530, 6, 22, 367, 47, 57, 7610, 729, 2, 205, 10, 5, 349, 80, 12, 91, 8, 26, 110, 25, 87, 33, 658, 2], 1), ([1290, 3, 392, 59, 2909, 4697, 16, 495, 53, 54, 5, 66, 14, 16, 2, 12, 8, 241, 135, 1, 275, 6, 125, 16, 59, 184, 71, 672, 171, 4218, 3, 21, 12, 87, 135, 14, 36, 225, 29, 437, 0, 42, 13, 34, 2, 5, 20, 14, 291, 44, 10, 16, 719, 27, 294, 8, 15, 2529, 1623, 567, 8, 26, 32, 7, 33, 5, 86, 154, 50, 10, 16, 8776, 39, 40, 230, 70, 4, 752, 3, 21, 2935, 3, 153, 30, 1041, 3, 342, 18, 4697, 8, 15, 3387, 3, 2498, 752, 2, 11, 73, 273, 9, 2282, 5410, 27, 1386, 6, 1469, 137, 6, 219, 4, 5, 3173, 70, 6, 5, 696, 1928, 11, 5, 0, 3, 14549, 11, 5, 0, 696, 182, 121, 295, 291, 44, 294, 51, 6, 5, 2909, 4697, 20, 2, 142, 10, 2978, 67, 5, 126, 11, 99, 350, 363, 3, 10, 8, 15, 118, 727, 3, 46, 269, 6010, 2, 54, 1, 618, 604, 7, 25, 3, 4697, 53], 0), ([12, 293, 8, 26, 1010, 7, 33, 43, 16211, 39, 13, 22, 2237, 5, 245, 47, 44, 1, 34, 25, 8, 241, 519, 7, 33, 573, 368, 1310, 2, 38, 30, 1831, 0, 85, 3, 28, 44, 1, 785, 370, 2579, 2, 38, 406, 40, 37, 108, 1127, 0, 4859, 2, 21, 1, 10062, 9567, 1, 540, 18, 5, 1020, 2053, 2, 1051, 3, 234, 3, 453, 3, 4, 119, 2752, 300, 18, 5, 0, 14, 4049, 1, 503, 849, 88, 1, 70, 2, 205, 13, 22, 131, 389, 689, 4, 99, 740, 87, 374, 5298, 2], 1), ([469, 55, 395, 11, 1415, 2731, 3, 40, 2365, 18, 5, 2056, 17, 78, 17, 40, 10740, 0, 18, 5, 5250, 4, 5, 2773, 3, 4, 5, 749, 11, 5, 14102, 3, 13, 14616, 11227, 0, 1281, 220, 341, 18, 1440, 42, 4423, 2177, 4, 1823, 2965, 2, 313, 9, 68, 0, 1142, 162, 45, 9, 5, 186, 164, 711, 6, 0, 11, 2299, 10667, 18, 4423, 14, 8, 15, 1, 1965, 11, 916, 1007, 145, 269, 240, 10, 8, 15, 34, 6, 1, 180, 219, 75, 72, 1, 89, 1772, 406, 1941, 4, 443, 11, 1, 106, 35, 92, 3, 115, 145, 320, 7, 32, 84, 2011, 651, 1955, 857, 95, 6, 12712, 6, 1, 22, 1735, 2, 140, 3, 50, 25, 8, 185, 40, 0, 46, 2177, 19397, 3, 57, 318, 3, 2636, 35, 9, 435, 276, 5, 169, 2], 0), ([13, 9, 5, 212, 72, 19, 1635, 41, 1249, 776, 8, 15, 5442, 1026, 776, 2, 34, 141, 14, 1320, 51, 9, 0, 2577, 10, 9, 326, 7, 3014, 60, 1682, 90, 75, 82, 7, 72, 5, 20, 326, 4, 3497, 1, 103, 13, 20, 9, 1259, 2, 1, 20, 526, 18, 5, 3067, 44, 5511, 4, 5, 282, 1614, 695, 9, 0, 7, 3991, 1, 5511, 2, 197, 34, 6, 1, 1614, 130, 28, 990, 18, 1, 464, 17607, 6, 1, 10631, 2, 17, 3111, 1, 1282, 292, 14, 1614, 65, 0, 5, 34, 134, 3472, 88, 1, 5511, 2, 13, 3472, 226, 96, 563, 11, 88, 7, 849, 4, 463, 3170, 6, 331, 1068, 2655, 4, 1, 103, 38, 30, 5650, 2], 1), ([97, 12, 32, 7, 978, 14, 12, 32, 74, 55, 5407, 49, 1, 175, 2, 29, 52, 229, 55, 106, 24, 18, 0, 23, 49, 1, 1129, 0, 480, 46, 58, 5016, 49, 2043, 24, 3226, 23, 93, 124, 38, 1905, 55, 1379, 395, 2, 21, 10, 16, 218, 44, 1, 0, 1649, 0, 2, 13, 20, 16, 458, 286, 2, 10, 16, 1021, 3, 10, 279, 1, 4845, 6, 125, 3, 10, 279, 1, 10092, 6, 398, 0, 2, 13, 22, 9, 40, 327, 434, 6, 518, 24, 70, 3, 119, 3, 438, 3, 215, 23, 21, 10, 279, 25, 1, 125, 190, 25, 11, 79, 15349, 705, 14, 75, 91, 8, 26, 187, 7, 72, 2, 39, 1, 103, 12, 32, 214, 10, 27, 5, 274, 24, 18, 610, 2168, 23, 21, 12, 238, 1605, 14, 11, 1, 2547, 12, 4096, 33, 499, 7, 82, 10, 2], 1), ([8200, 379, 3, 13119, 322, 438, 102, 1390, 7, 127, 139, 1, 9699, 6, 1, 2109, 3750, 0, 5, 86, 323, 11, 0, 14, 150, 33, 40, 4220, 7, 295, 3556, 18, 10, 2, 1340, 234, 3, 372, 14, 567, 8, 26, 1297, 10733, 11, 40, 0, 1154, 16337, 3, 3009, 231, 145, 3, 1410, 453, 39, 1, 1771, 3245, 691, 175, 2146, 9729, 0, 9, 659, 28, 186, 254, 50, 29, 8, 15, 261, 5, 220, 3, 5, 4121, 0, 27, 1, 12219, 6, 322, 46, 5, 15606, 7602, 24, 39, 405, 4887, 1557, 3, 536, 23, 12823, 6, 3750, 12685, 8, 15, 1896, 0, 5, 786, 951, 6, 0, 4, 7419, 2, 276, 317, 11, 622, 7, 111, 3750, 12685, 0, 48, 493, 3, 21, 14, 8, 15, 189, 79, 10, 2], 0), ([1, 120, 52, 146, 49, 478, 4699, 1699, 39, 5, 5327, 6, 478, 366, 11, 1, 2614, 0, 11016, 2, 99, 5, 2309, 4, 1, 55, 2, 54, 10, 71, 9, 9, 5232, 12688, 852, 42, 405, 467, 4, 1281, 112, 1932, 18, 931, 326, 1129, 24, 7, 1, 766, 23, 852, 6, 339, 27, 5, 15150, 2, 45, 30, 145, 6, 5, 134, 11, 5, 7663, 2059, 3, 1235, 11355, 6061, 36, 1645, 24, 334, 7, 4090, 85, 11, 1, 792, 6, 2501, 23, 3, 366, 11, 7150, 8, 15, 3, 488, 2583, 4, 5, 221, 11, 5, 0, 11176, 18, 104, 67, 37, 136, 31, 666, 24, 14076, 10697, 12, 110, 43, 23, 2, 13, 9, 5, 20, 7, 851, 4, 104, 250, 0, 21, 68, 18, 734, 6, 4645, 5289, 4, 1900, 351, 2, 36, 105, 83, 66, 13, 9, 171, 7, 33, 5, 7389, 7, 82, 149, 2, 99, 5, 86, 86, 86, 20, 2, 664, 14, 12, 8, 148, 9249], 0), ([12, 32, 7, 990, 14, 1, 20, 9, 28, 1, 128, 12, 8, 144, 129, 114, 3, 21, 12, 65, 44, 7, 104, 713, 14, 1, 160, 2237, 2676, 4, 1824, 16801, 76, 1, 787, 16801, 1105, 2, 17, 160, 3, 38, 76, 386, 4952, 2, 1, 20, 3, 459, 27, 73, 799, 3571, 3, 65, 32, 84, 132, 74, 1641, 160, 259, 1, 515, 2, 115, 106, 102, 302, 13, 66, 2134, 537, 2906, 6, 1, 4783, 6, 202, 5184, 2, 94, 413, 3, 1, 106, 76, 28, 14, 57, 95, 4952, 30, 28, 160, 39, 3504, 2, 94, 6, 1, 11293, 304, 159, 8, 26, 151, 7, 72, 2676, 46, 1824, 16801, 394, 521, 38, 437, 19, 1, 120, 4, 1, 215, 2, 12, 8, 144, 118, 84, 79, 6, 5, 16801, 336, 3, 21, 1, 215, 9, 57, 63, 502, 2, 12, 32, 7, 867, 27, 5, 892, 2025, 2645, 1, 160, 41, 259, 1478, 4, 1763, 16801, 4, 14, 73, 2649, 65, 33, 1237, 1499, 39, 5, 9326, 304, 2, 1748, 12013, 4, 4880, 0, 76, 165, 2388, 160, 3, 203, 1535, 11, 9326, 2, 25, 227, 392, 442, 2, 12013, 17, 1, 11660, 442, 2, 0, 11, 1, 1998, 134, 4, 1595, 2, 0, 17, 1701, 2, 0, 11, 7741, 39, 1, 2564, 2], 0), ([5529, 3, 28, 115, 85, 32, 114, 13, 20, 3, 95, 64, 34, 9, 11974, 105, 58, 771, 2, 13, 9, 28, 5, 20, 7, 33, 1029, 2, 107, 37, 3, 10, 52, 391, 1, 693, 0, 1419, 17, 78, 17, 1, 0, 1419, 2, 767, 0, 150, 32, 391, 40, 1419, 19, 31, 1140, 242, 11, 13, 20, 2, 5787, 5254, 41, 16, 5, 11467, 27, 13, 102, 19, 251, 20, 92, 16, 181, 6, 166, 20, 27, 1992, 3, 46, 1894, 6, 10, 3, 39, 116, 5, 1832, 12082, 7, 8541, 6886, 8, 15, 20, 1, 2943, 329, 2, 13, 20, 9, 156, 1203, 27, 274, 2, 50, 256, 9, 943, 3, 12, 87, 2025, 166, 2870, 1003, 93, 10, 16, 14, 5787, 5254, 373, 7, 33, 1, 1832, 12082, 7, 5, 20, 6, 147, 40, 485, 397, 17, 8541, 6886, 2, 1162, 19, 873, 13, 4, 12, 448, 25, 87, 174, 5, 103, 7, 611, 138, 117, 106, 2], 1), ([44, 2630, 1, 5956, 134, 24, 9470, 23, 3, 68, 58, 43, 2, 45, 8, 15, 58, 6, 267, 3, 58, 1489, 3, 58, 6679, 2614, 13689, 3, 4, 145, 11, 69, 1, 200, 212, 33, 3, 50, 13, 16, 57, 18, 282, 46, 692, 10709, 3, 4909, 65, 33, 132, 2, 2630, 0, 18, 0, 1, 5470, 1433, 12024, 11, 1, 975, 44, 5, 2707, 6942, 3, 190, 4, 190, 3, 4577, 0, 2, 2630, 56, 508, 10, 18, 31, 10818, 3448, 50, 1, 14270, 0, 65, 1033, 140, 2, 2630, 1107, 10709, 4, 0, 4, 5, 12802, 7542, 633, 6, 1489, 2, 31, 351, 30, 157, 16715, 3, 85, 1717, 3869, 5956, 1239, 3, 4, 10926, 2, 11, 199, 3, 38, 357, 1321, 0, 58, 2994, 4, 0, 81, 2614, 0, 2375, 4256, 3434, 7, 73, 1768, 2, 1, 398, 70, 166, 478, 134, 3, 411, 81, 1, 364, 3, 279, 67, 7, 2864, 18, 13940, 7, 151, 107, 1, 13486, 42, 1, 4904, 8800, 2, 2630, 391, 8, 26, 127, 98, 1, 103, 3, 43, 1, 86, 221, 3233, 40, 4904, 43, 38, 56, 868, 10, 7, 99, 13834, 2, 2630, 0, 3, 4, 1, 86, 221, 3233, 0, 3, 6, 268, 3, 29, 5759, 4, 1592, 7, 575, 1100, 2, 1263, 324, 1510, 3, 13940, 4, 1, 86, 221, 4, 177, 694, 34, 6, 73, 869, 2, 85, 30, 17591, 3, 269, 12083, 3, 4, 45, 158, 8, 26, 320, 7, 33, 79, 7291, 207, 1, 328, 13416, 41, 768, 95, 38, 170, 19, 1, 478, 339, 9873, 149, 7035, 630, 4, 153, 328, 13416, 41, 508, 98, 2, 13, 212, 33, 1, 239, 2630, 20, 163, 1, 16191, 2790, 102, 1100, 2663, 58, 1778, 2, 45, 30, 5, 633, 6, 5764, 145, 11, 69, 1100, 0, 2692, 3, 4, 162, 1, 705, 9, 12595, 1, 2302, 4, 1, 7181, 30, 60, 2297, 2, 659, 34, 6, 0, 8, 15, 351, 42, 1, 11306, 5760, 695, 124, 1, 2692, 145, 3, 4, 28, 8655, 779, 8, 4272, 2, 61, 3, 197, 3, 1089, 149, 1, 20, 1717, 1, 173, 422, 6, 0, 0, 2989, 24, 905, 5, 7150, 408, 23, 3, 726, 5, 3818, 3164, 6, 0, 4, 3405, 2, 38, 140, 91, 8, 26, 348, 7, 722, 5, 172, 2, 38, 1643, 300, 4, 2925, 51, 18, 598, 1489, 4, 749, 248, 42, 5188, 2, 64, 591, 38, 8, 185, 686, 2], 1), ([12, 296, 13, 239, 0, 18, 40, 903, 343, 2, 735, 7, 135, 10, 9, 140, 86, 2, 97, 3, 1, 20, 9, 108, 0, 4, 25, 56, 8, 26, 825, 54, 85, 30, 614, 2, 1, 2649, 30, 86, 269, 794, 0, 2, 54, 9, 1, 718, 2111, 402, 11, 13, 22, 53, 53, 53, 12297, 36, 99, 252, 2, 3458, 8, 15, 2447, 9, 681, 2, 1, 10679, 141, 9, 3191, 4, 28, 879, 2, 0, 8, 15, 113, 9, 4520, 4, 12, 468, 96, 7, 82, 533, 4, 151, 248, 2, 1888, 3, 1, 3458, 113, 226, 533, 108, 405, 4, 723, 24, 469, 1, 2447, 23, 2, 1, 12773, 30, 37, 379, 2, 82, 7109, 25, 756, 6, 9973, 3, 85, 30, 596, 7, 508, 25, 35, 35, 35, 35, 35, 313, 4361, 113, 1624, 55, 465, 0, 1548, 37, 2, 12, 32, 168, 57, 7, 135, 49, 13, 5409, 434, 6, 583, 2, 1, 68, 57, 154, 9, 10, 2370, 1, 175, 8, 15, 649, 4, 533, 2188, 2688, 2, 140, 583, 107, 37, 138, 161, 2], 0), ([12, 47, 214, 2190, 4005, 4, 12, 200, 10, 16, 388, 2, 1, 5608, 11, 1, 933, 6, 1, 5188, 560, 376, 2, 92, 1, 2741, 109, 560, 108, 915, 2, 4759, 6485, 159, 8, 26, 90, 40, 376, 298, 17, 2190, 4005, 21, 10, 16, 0, 28, 34, 6, 31, 132, 372, 2, 3957, 150, 47, 1206, 7, 1177, 2, 0, 0, 124, 5, 57, 298, 11, 13, 20, 2, 12, 506, 13, 20, 5, 3677, 47, 95, 6, 1, 485, 119, 39, 1823, 3763, 2, 10, 293, 8, 26, 5, 331, 911, 11, 31, 649, 21, 29, 140, 124, 5, 57, 298, 2], 0), ([3050, 9, 62, 1636, 1100, 3435, 626, 80, 3050, 9, 10097, 469, 48, 1463, 3, 43, 5809, 56, 3325, 4, 122, 48, 3, 4, 1, 620, 61, 52, 18, 442, 5732, 3, 69, 9, 2409, 3, 1124, 3, 11347, 21, 8343, 3, 15498, 14, 2409, 3, 8151, 3, 755, 2530, 2, 442, 5732, 9, 1, 410, 134, 3, 4, 3050, 9, 17, 556, 17, 25, 101, 82, 11, 153, 219, 7, 40, 1670, 3, 1044, 3, 6587, 253, 80, 392, 3, 61, 9, 68, 6683, 3, 4, 16, 254, 7, 32, 18749, 4, 2680, 51, 6, 48, 1463, 2, 41, 158, 8, 26, 187, 7, 33, 3050, 53, 41, 158, 8, 26, 187, 7, 33, 572, 139, 39, 442, 5732, 53, 13, 319, 6, 3050, 423, 25, 64, 287, 6, 1, 184, 14, 12, 122, 49, 3050, 2, 12, 412, 8, 26, 63, 1258, 155, 10, 3, 12, 47, 258, 10, 43, 376, 2, 12, 412, 8, 26, 72, 14, 2409, 3, 3790, 504, 6, 3050, 3, 69, 3035, 1, 4785, 7, 122, 48, 1, 4662, 4, 5231, 61, 279, 7, 48, 340, 1, 16036, 207, 48, 4, 1701, 17318, 3, 69, 4899, 48, 10829, 7, 270, 48, 433, 8, 15, 3251, 730, 48, 204, 24, 17, 61, 8692, 1, 68, 3128, 4107, 11, 48, 4910, 39, 13015, 677, 0, 1629, 23, 2, 442, 0, 8, 15, 113, 11, 13, 1187, 47, 712, 1147, 3, 246, 81, 47, 11033, 3, 3532, 4, 5, 233, 262, 2, 13, 1187, 94, 2947, 946, 720, 7, 125, 1, 620, 207, 442, 5732, 4, 3050, 2, 73, 620, 9, 2123, 27, 6450, 1152, 4, 4554, 442, 5732, 9, 10971, 6, 3050, 8, 15, 1375, 4810, 15223, 14, 48, 1656, 4, 1958, 455, 19, 401, 87, 118, 1677, 48, 7, 151, 1916, 15315, 4, 3050, 291, 67, 7, 96, 3, 162, 17091, 3105, 13, 4, 6896, 7, 357, 48, 204, 7423, 2, 1, 5288, 192, 29, 423, 48, 208, 36, 1, 470, 6, 1, 127, 332, 0, 1, 3805, 207, 98, 3, 4, 3770, 37, 3726, 6, 2237, 1, 884, 6, 73, 620, 17, 12, 8, 144, 2153, 730, 2, 442, 5732, 9, 92, 0, 1494, 7, 720, 7, 125, 1, 901, 1078, 207, 1, 822, 24, 46, 7, 5298, 105, 6571, 42, 1, 636, 764, 23, 2, 71, 488, 2, 12, 56, 8, 26, 382, 143, 256, 41, 374, 44, 1, 626, 3050, 101, 44, 10, 3, 889, 10, 8326, 12747, 387, 107, 1, 222, 12, 7601, 10, 139, 2], 0), ([62, 1008, 468, 7, 72, 13, 24, 3836, 13, 9, 1, 418, 5, 172, 23, 2, 2, 2, 43, 12, 1520, 10, 2, 100, 12, 214, 93, 5279, 13, 16, 2406, 19, 306, 3343, 2, 89, 35, 13, 150, 33, 57, 5378, 8, 471, 2, 13, 20, 74, 5, 172, 6, 1046, 2, 2, 2, 1, 453, 4, 1, 103, 267, 16, 2536, 16, 60, 78, 2, 21, 288, 1, 20, 1013, 3, 12, 412, 8, 26, 347, 21, 979, 535, 50, 13, 70, 16, 71, 276, 261, 5, 22, 19, 2, 4975, 2413, 24, 13291, 15326, 23, 16, 550, 634, 3, 12, 47, 412, 8, 26, 9669, 48, 113, 36, 37, 2, 4759, 6485, 16, 327, 11, 1, 22, 0, 3, 21, 179, 12, 47, 258, 10, 283, 7, 32, 2319, 19, 31, 113, 2, 2, 2, 2, 29, 47, 373, 139, 1983, 17, 5, 2783, 3, 0, 3692, 6, 5, 2174, 2, 2, 41, 74, 64, 273, 11, 8, 1, 125, 8, 11, 1, 97, 273, 2, 93, 8, 241, 29, 82, 11, 18, 1, 1145, 6, 12685, 0, 4, 1975, 16985, 536, 53, 53, 53, 13, 22, 47, 309, 77, 18, 5, 2023, 21, 8723, 554, 2, 2, 2, 54, 16, 1, 202, 761, 18, 13, 20, 53, 12, 47, 159, 8, 26, 244, 5, 0, 18, 0, 2, 6485, 8, 15, 3419, 3, 264, 972, 186, 78, 3, 47, 472, 108, 1418, 4, 3990, 2, 12, 8, 148, 3008, 14, 8, 15, 93, 12777, 71, 16, 2, 2, 2, 2, 21, 10, 16, 47, 108, 79, 6, 14, 2, 45, 47, 159, 8, 26, 320, 7, 33, 79, 6, 5, 157, 70, 133, 2, 62, 1117, 16635, 6, 10, 65, 33, 5, 0, 3, 5740, 3, 0, 2174, 744, 11, 122, 18, 5, 3692, 6, 5, 253, 3, 265, 67, 18, 1, 323, 6, 8, 5159, 4007, 8, 2, 2, 2, 2, 21, 31, 1200, 557, 36, 1, 6400, 29, 3507, 3, 342, 18, 272, 64, 3283, 19, 31, 2741, 8576, 8, 301, 226, 96, 533, 2, 54, 324, 9, 45, 1317, 14, 53, 12, 47, 159, 8, 26, 72, 1, 202, 761, 18, 13, 3, 4, 10, 16, 5, 202, 1417, 2, 45, 212, 8, 144, 28, 84, 115, 106, 7, 217, 51, 11, 5953, 3, 93, 13, 16, 2406, 19, 306, 3343, 9, 664, 77, 24, 264, 1, 117, 10, 391, 9, 0, 23, 2, 457, 2, 0, 419, 2], 0), ([12, 32, 7, 33, 4238, 1173, 18, 25, 1526, 804, 6678, 2, 12, 468, 7, 72, 13, 20, 19, 5, 60, 211, 66, 68, 95, 6, 1, 3383, 2, 158, 8, 26, 3783, 19606, 291, 550, 1279, 4, 1255, 4635, 14, 103, 53, 12, 8, 148, 11, 122, 18, 14, 253, 35, 12, 193, 54, 12, 850, 2, 2, 2, 21, 68, 363, 2, 13, 22, 150, 1606, 1397, 19, 153, 41, 362, 37, 2784, 6, 755, 1338, 46, 569, 1246, 1190, 465, 4, 705, 970, 1110, 2, 142, 12, 91, 8, 26, 990, 18, 166, 1526, 804, 3971, 41, 1528, 14, 1, 20, 9, 4088, 12, 212, 978, 14, 0, 14687, 290, 52, 958, 6, 1463, 2, 62, 290, 454, 18, 1, 22, 9, 1, 566, 6, 27, 278, 1179, 207, 1, 290, 109, 2, 45, 213, 8, 26, 5, 694, 141, 892, 7, 1, 1362, 14, 279, 1, 290, 109, 5817, 5, 576, 6, 883, 46, 63, 5, 2196, 7, 1505, 14, 38, 8, 185, 943, 11, 249, 83, 2, 11, 199, 3, 1, 68, 141, 76, 203, 1467, 5, 576, 9, 5629, 2132, 24, 59, 203, 30, 11, 1, 5519, 23, 4, 130, 28, 347, 1, 304, 382, 49, 5, 631, 122, 627, 2, 12, 159, 8, 26, 770, 1, 2604, 711, 2, 140, 3, 1, 20, 1593, 60, 164, 395, 4, 52, 5, 590, 3275, 14, 1440, 147, 40, 0, 833, 2, 12, 384, 18, 0, 14, 10, 65, 33, 60, 855, 7, 11522, 147, 5, 0, 39, 5, 15915, 345, 178, 134, 11, 138, 490, 2, 12, 382, 10, 8, 15, 5, 20, 4, 14, 8, 15, 143, 12, 1574, 10, 17, 5, 164, 831, 2, 905, 3, 1, 465, 9, 10318, 2, 45, 30, 395, 1246, 14098, 3, 164, 404, 18, 0, 8, 15, 128, 433, 3, 55, 2340, 1866, 3, 164, 1110, 1246, 1, 245, 366, 3, 4, 58, 2, 3783, 0, 8, 15, 242, 9, 408, 3329, 4, 61, 8, 15, 39, 237, 1, 289, 7, 111, 1, 20, 2, 61, 8, 15, 164, 3, 1279, 3, 291, 60, 1729, 4, 494, 3, 4, 4899, 61, 8, 15, 5, 10318, 4, 1063, 543, 41, 56, 1571, 51, 5, 1803, 4, 970, 242, 11, 1950, 3551, 2, 9479, 0, 9, 5, 494, 297, 4, 423, 5, 60, 551, 242, 2, 12, 110, 1, 737, 188, 90, 54, 38, 56, 2, 1, 581, 3, 518, 453, 3, 4, 83, 1832, 1360, 30, 71, 57, 4, 205, 5, 4285, 169, 7, 1, 22, 2, 153, 41, 362, 13, 247, 6, 451, 150, 33, 3478, 107, 1, 285, 886, 2, 10, 8, 15, 5, 57, 475, 6, 244, 57, 451, 2], 1), ([794, 4083, 4, 3531, 2326, 355, 11, 5, 2111, 505, 883, 18, 1, 422, 6, 285, 12, 82, 71, 1633, 49, 2, 2, 2, 1455, 47, 135, 99, 28, 62, 3828, 6, 4161, 3, 47, 44, 1, 10910, 1125, 6948, 30, 28, 62, 3828, 6, 4161, 2, 1, 120, 52, 5, 828, 6143, 36, 40, 10695, 4, 2244, 5, 253, 14, 29, 52, 5, 849, 21, 1343, 1443, 18, 2, 29, 266, 139, 7, 916, 31, 7175, 507, 4, 61, 266, 152, 7, 48, 125, 2, 78, 972, 4, 78, 102, 1, 1052, 2403, 7, 82, 5, 157, 120, 381, 2, 13, 9, 1, 493, 6, 10910, 1125, 6948, 14, 167, 1, 366, 19073, 4, 1, 339, 4792, 73, 424, 11, 2834, 2, 12, 567, 8, 26, 33, 43, 0, 7, 1, 22, 17, 5, 3057, 883, 3, 565, 14, 1, 22, 311, 5, 487, 11, 1, 464, 4873, 14, 9, 43, 51, 6, 309, 1767, 17, 7, 33, 332, 1337, 2, 143, 212, 732, 2021, 6, 106, 90, 379, 184, 44, 13, 53, 10, 71, 2370, 10, 19, 77, 2, 50, 25, 44, 883, 205, 10, 5, 326, 3, 162, 827, 19, 2002, 2], 0), ([27, 1353, 4953, 5, 22, 265, 342, 14, 52, 1, 641, 7, 9945, 1, 343, 3, 2409, 1, 540, 4, 1278, 1, 60, 1356, 2, 4267, 9, 147, 5, 22, 2, 12, 193, 4267, 42, 62, 330, 41, 193, 10, 42, 5, 3279, 41, 9, 11, 1, 22, 918, 2, 61, 296, 10, 19, 5, 350, 66, 18, 77, 2, 75, 76, 203, 10172, 2, 48, 17, 50, 19, 1, 97, 66, 179, 2, 4267, 9, 5, 2757, 434, 2603, 7, 2391, 25, 152, 7, 1, 576, 36, 69, 37, 6, 131, 3126, 672, 661, 273, 2, 10, 130, 13, 142, 116, 8200, 432, 2, 15348, 17460, 8, 15, 119, 4, 1620, 17, 5, 175, 90, 28, 281, 25, 169, 248, 42, 1, 278, 2, 29, 19432, 5, 113, 69, 0, 18, 5, 3140, 4847, 44, 3, 0, 3010, 3, 21, 15885, 3064, 18, 147, 0, 7352, 14, 25, 817, 25, 8, 185, 155, 5, 20, 2, 59, 1, 14362, 1901, 302, 1, 495, 1362, 3, 12, 214, 62, 330, 11, 1672, 19, 1, 350, 66, 2, 17, 5, 125, 2780, 3, 12, 0, 2032, 7305, 4, 4457, 3, 4, 13, 22, 9, 5, 212, 72, 19, 125, 16723, 4, 256, 3045, 73, 204, 928, 7305, 4, 4457, 2, 10, 9, 5, 495, 3, 1477, 887, 18, 1, 641, 7, 657, 466, 35], 1), ([1349, 1719, 1719, 1719, 1719, 13, 9, 0, 53, 13, 9, 28, 0, 2, 2486, 295, 9, 449, 2199, 51, 6, 113, 2, 2, 2, 59, 10, 265, 7, 3376, 3, 1, 68, 1970, 1504, 9, 1, 1752, 207, 0, 4, 0, 2, 92, 3, 1, 19158, 9, 28, 8685, 19, 48, 1611, 3, 69, 1132, 7, 0, 1865, 2, 50, 5, 923, 1042, 74, 229, 7, 34, 6, 1, 366, 54, 0, 130, 7, 0, 3, 100, 29, 65, 32, 24, 9049, 43, 23, 2368, 1194, 10, 36, 1, 137, 6, 1, 20, 3, 1644, 2199, 3, 4, 1, 304, 65, 32, 12122, 2, 21, 28, 68, 130, 0, 936, 64, 1996, 19, 48, 3399, 3, 0, 165, 14922, 4, 6150, 48, 1611, 2, 64, 35, 1, 157, 0, 65, 32, 0, 48, 19, 54, 0, 74, 229, 7, 48, 2807, 0, 1, 304, 12, 214, 13, 18, 3, 535, 1875, 3, 37, 0, 0, 36, 13, 141, 2464, 450, 3, 793, 13, 20, 2, 0, 450, 3, 793, 13, 20, 63, 4402, 2], 0), ([13, 9, 5, 1607, 743, 7, 8, 1, 3186, 8, 15, 568, 8, 24, 4679, 23, 3, 95, 1, 477, 113, 3, 1867, 14786, 24, 259, 39, 2190, 0, 23, 9, 156, 3335, 161, 924, 4, 9, 6646, 1, 70, 24, 18, 1, 347, 6, 12090, 852, 23, 7, 31, 507, 8, 15, 4943, 2, 45, 30, 68, 117, 1737, 1360, 7, 1, 22, 1, 405, 325, 6, 14786, 3, 4, 1, 1285, 6, 0, 12501, 2, 9790, 8926, 17, 1, 3186, 12654, 226, 408, 6792, 3, 162, 361, 1, 884, 6, 31, 223, 3, 29, 52, 126, 58, 7, 90, 81, 8318, 342, 46, 0, 31, 2679, 49, 2, 45, 8, 15, 168, 684, 49, 31, 1285, 3, 565, 19, 31, 557, 7, 1683, 139, 1, 4943, 3, 0, 24, 0, 9178, 23, 2, 2190, 0, 226, 350, 6792, 3, 21, 29, 8, 15, 533, 139, 709, 1, 97, 3533, 232, 35, 75, 8, 241, 32, 7, 827, 360, 8, 2481, 8, 24, 3547, 23, 59, 5, 477, 113, 24, 5987, 4580, 23, 1510, 103, 163, 1, 137, 6, 1, 20, 35, 14786, 8, 15, 1859, 42, 1, 97, 22, 3, 5574, 0, 24, 156, 8157, 23, 3, 279, 67, 5, 126, 315, 284, 79, 3, 79, 3, 924, 4, 28, 402, 105, 6, 1, 759, 11053, 29, 124, 11, 1, 216, 2, 10, 8, 15, 283, 7, 263, 10, 8, 15, 1, 173, 297, 35, 479, 3, 13, 89, 119, 298, 9, 960, 95, 29, 226, 533, 39, 12654, 107, 68, 117, 1343, 145, 2, 10, 8, 15, 100, 309, 67, 7, 14786, 8, 15, 507, 313, 24, 259, 39, 233, 1788, 313, 0, 23, 7, 1512, 1, 1346, 7, 1, 0, 35, 1, 2026, 822, 5, 7243, 9268, 2741, 7, 14786, 8, 15, 329, 7, 3463, 10, 192, 4, 508, 1, 3186, 2, 467, 10090, 1124, 53, 0, 12501, 9, 1684, 7, 1169, 17, 1, 176, 331, 1889, 3, 0, 12501, 3, 7, 455, 19, 4, 5359, 0, 875, 7, 12654, 2, 18, 31, 8, 4438, 8, 597, 4, 1256, 3, 10, 8, 15, 108, 86, 29, 226, 43, 723, 533, 2, 5, 132, 20, 65, 32, 74, 8, 5574, 8, 198, 3120, 7775, 585, 2633, 6, 184, 11, 4929, 192, 1, 3186, 3, 18, 5, 464, 17538, 935, 18, 96, 4, 0, 4890, 2, 21, 310, 75, 32, 5, 7211, 7020, 6, 286, 292, 1273, 42, 892, 2426, 201, 112, 3, 270, 300, 39, 1, 4857, 9765, 3106, 41, 1066, 115, 6, 2426, 8, 15, 83, 0, 3, 264, 29, 92, 124, 8, 91, 0, 6, 1, 3901, 8, 24, 7612, 23, 17, 78, 17, 8, 91, 0, 6, 1, 4524, 2924, 8, 24, 8395, 23, 69, 92, 2531, 0, 9178, 2, 0, 9178, 259, 1785, 0, 11, 1573, 926, 0, 106, 24, 0, 23, 3, 4, 6, 268, 3, 0, 12501, 3, 18, 15915, 20, 4, 251, 886, 3, 9, 89, 11, 1, 417, 223, 6, 8, 1, 485, 717, 2, 3001, 8, 24, 7371, 23, 2, 1, 652, 9, 79, 4215, 4, 58, 3287, 24, 18, 734, 6, 17840, 3303, 11, 1, 2026, 8, 15, 1068, 23, 81, 1, 97, 8, 12654, 8, 3186, 22, 3, 21, 45, 8, 15, 126, 324, 6, 627, 46, 2530, 2, 12, 8, 236, 205, 10, 5, 430, 2], 0), ([12, 122, 13, 0, 154, 2, 1412, 8086, 9, 485, 35, 62, 512, 515, 30, 1, 718, 616, 4, 11, 1, 594, 417, 59, 1, 0, 1474, 7369, 0, 35, 12, 4077, 67, 177, 66, 2, 12, 65, 380, 13, 20, 7, 9178, 0, 450, 3, 4, 85, 41, 362, 1412, 8086, 8, 15, 83, 106, 2, 31, 445, 6, 838, 9, 60, 216, 2, 10, 311, 5, 180, 2686, 7, 1408, 1, 3509, 4278, 2, 31, 465, 9, 92, 570, 3, 4, 9, 407, 28, 146, 25, 8, 241, 825, 163, 2, 44, 1779, 1, 9735, 0, 41, 52, 5, 467, 4, 705, 1530, 11, 31, 424, 14, 18276, 3124, 2478, 4, 686, 215, 2022, 29, 2138, 49, 31, 4368, 125, 2, 13, 9, 5, 386, 838, 7, 111, 5337, 105, 121, 2], 1), ([12, 392, 59, 13, 373, 51, 10, 16, 1, 97, 3473, 3130, 22, 129, 114, 190, 260, 103, 4, 75, 76, 37, 2273, 49, 317, 10, 19, 254, 2, 264, 1, 231, 16, 1613, 36, 128, 10, 506, 183, 260, 97, 1254, 6, 3473, 3130, 4, 260, 97, 1254, 6, 86, 3089, 17, 78, 17, 86, 22, 261, 46, 58, 5016, 1, 103, 1706, 85, 76, 261, 112, 36, 1, 66, 2, 38, 76, 3372, 4362, 0, 870, 21, 45, 16, 729, 1106, 133, 4, 14, 969, 27, 19, 254, 2, 1, 3473, 3130, 9732, 74, 7848, 4, 1395, 841, 4, 8, 8, 1, 1706, 2048, 8, 8, 65, 514, 868, 344, 14, 46, 8, 8, 1, 1706, 6162, 8, 8, 18, 1824, 7141, 12069, 2, 11, 105, 418, 13, 22, 16, 2363, 7, 477, 1, 103, 2], 0), ([19893, 0, 8, 15, 18109, 242, 24, 69, 391, 48, 40, 13754, 1419, 23, 9, 36, 225, 27, 2899, 18, 48, 772, 11, 0, 282, 161, 315, 2, 4428, 0, 9, 92, 57, 3, 4, 3, 19, 153, 41, 30, 943, 3, 1979, 6254, 712, 17, 19893, 8, 15, 542, 3, 4, 498, 0, 24, 128, 587, 19, 1, 2015, 23, 9, 5, 11441, 5546, 2, 24, 92, 5156, 3, 0, 9, 3630, 1, 2619, 6, 3927, 2038, 132, 5791, 4, 11240, 3, 4, 0, 9, 1, 2619, 6, 0, 5682, 571, 895, 4664, 3, 895, 15951, 3, 524, 2, 2, 2, 23, 13, 22, 0, 1, 0, 2430, 14, 19893, 16, 4763, 2990, 8, 15, 408, 636, 297, 302, 1, 0, 3944, 2, 667, 0, 2], 1), ([281, 77, 135, 36, 1, 7910, 14, 12, 8, 148, 28, 5, 60, 1634, 397, 4, 14, 12, 91, 8, 26, 82, 176, 518, 2, 14, 116, 307, 3, 13, 22, 9, 429, 939, 3, 4, 11, 62, 653, 28, 939, 11, 5, 57, 103, 2, 719, 1081, 11, 328, 4, 478, 18, 5, 209, 6, 60, 3257, 3556, 569, 3, 0, 9, 5, 22, 19, 153, 41, 56, 169, 36, 696, 518, 4, 135, 1358, 3, 12, 244, 1, 1566, 4, 1586, 6, 13, 3477, 2, 1, 68, 289, 12, 205, 13, 22, 5, 430, 51, 6, 306, 9, 95, 12, 165, 124, 1840, 7, 443, 36, 55, 515, 3, 162, 1390, 1011, 36, 1, 1950, 4624, 6, 1, 22, 2, 117, 6, 1, 109, 2949, 10874, 27, 5, 9591, 3, 17, 7, 90, 54, 138, 109, 76, 402, 3, 12, 32, 64, 323, 2, 12, 567, 8, 26, 380, 13, 22, 7, 1635, 2], 0), ([52, 256, 258, 5, 103, 7, 3663, 4047, 6, 13, 209, 255, 53, 12, 56, 72, 14, 5, 172, 6, 85, 32, 0, 21, 12, 56, 8, 26, 377, 50, 105, 6, 98, 32, 84, 1134, 2, 10, 8, 15, 283, 7, 263, 14, 5, 209, 13, 57, 592, 33, 2234, 39, 85, 502, 3, 269, 34, 459, 27, 157, 1185, 3129, 39, 157, 85, 302, 54, 76, 203, 2932, 4, 1180, 219, 11, 260, 630, 2, 93, 56, 13, 33, 303, 4, 54, 56, 75, 90, 7, 657, 10, 53, 17, 40, 1193, 12, 990, 18, 37, 1, 771, 83, 985, 32, 102, 49, 13, 209, 27, 13, 3851, 2020, 2, 13, 9, 40, 327, 70, 49, 706, 14, 295, 150, 33, 1980, 6, 4, 123, 146, 49, 502, 2, 734, 6, 183, 214, 13, 209, 59, 75, 76, 11, 1108, 46, 190, 14, 66, 536, 2, 156, 75, 187, 7, 1467, 10, 18, 260, 393, 2, 2, 2, 21, 75, 56, 8, 26, 53, 50, 14, 9, 303, 54, 65, 55, 57, 449, 9001, 33, 14, 65, 0, 1, 173, 1519, 53], 1), ([3195, 1062, 1460, 8, 15, 1234, 329, 7371, 23, 9, 28, 68, 186, 5, 663, 1675, 21, 9, 40, 3605, 0, 2592, 6, 5, 20, 2, 389, 6, 2711, 3487, 109, 10, 9, 16658, 449, 39, 2247, 0, 3, 41, 92, 1103, 3, 4, 9, 1242, 532, 39, 1854, 0, 42, 914, 34, 65, 519, 5, 89, 761, 58, 2, 3278, 9, 9357, 6443, 11, 1, 949, 223, 35, 6443, 3, 5, 753, 41, 16, 2235, 6, 0, 49, 17, 79, 396, 1328, 17, 5, 547, 6453, 3, 9, 133, 476, 1, 7541, 61, 9, 4585, 6185, 394, 1, 181, 6, 5, 1279, 0, 7243, 1891, 2, 2301, 0, 7836, 17, 48, 1442, 9, 17, 1581, 17, 629, 4, 458, 960, 9, 1, 1063, 8925, 8020, 41, 8, 15, 223, 9, 126, 58, 81, 5, 233, 181, 2, 100, 75, 32, 794, 4418, 41, 52, 1, 94, 12668, 449, 181, 11, 1, 438, 35, 59, 75, 97, 72, 96, 29, 9, 5, 338, 779, 2, 2635, 2, 221, 41, 1183, 5, 0, 1234, 329, 2, 100, 1135, 80, 4, 19, 1000, 14, 30, 28, 11701, 102, 747, 80, 29, 461, 8031, 3955, 6, 31, 3185, 24, 7836, 23, 59, 1, 1657, 701, 96, 14, 29, 9, 49, 7, 2397, 6443, 2, 25, 72, 4418, 468, 7, 2397, 48, 314, 21, 80, 457, 23, 29, 118, 17110, 7, 48, 80, 280, 23, 38, 118, 74, 5, 620, 24, 38, 91, 8, 26, 63, 32, 235, 14, 3592, 5, 122, 141, 300, 23, 4, 80, 430, 23, 206, 1003, 256, 24, 571, 6443, 23, 29, 52, 13123, 5, 1629, 6623, 2, 1358, 35, 43, 93, 4418, 16, 7, 2806, 146, 44, 0, 8116, 18, 6443, 107, 147, 5, 16056, 9, 1635, 8, 15, 0, 2, 3754, 53, 78, 3, 59, 4418, 266, 7, 1273, 136, 1, 228, 1443, 43, 92, 130, 1, 20, 12, 238, 735, 7, 135, 2, 42, 133, 27, 1, 4418, 113, 497, 3221, 2953, 35, 31, 2250, 31, 14499, 43, 405, 11, 1, 3841, 9, 458, 3605, 4, 2711, 2, 29, 428, 266, 136, 1, 1224, 3, 461, 332, 5403, 4, 18, 5, 180, 2676, 14706, 0, 3, 29, 5006, 266, 0, 19, 337, 0, 7836, 163, 7151, 1, 4110, 314, 2, 4, 50, 14, 213, 8, 26, 194, 6, 5, 927, 6, 5, 20, 19, 25, 80, 1, 438, 9, 92, 9601, 18, 5, 1837, 357, 6, 1120, 721, 4, 13476, 14906, 2, 45, 8, 15, 28, 5, 694, 8336, 326, 11, 1, 440, 20, 35, 1243, 7, 13, 80, 14223, 6, 1, 22, 311, 273, 36, 318, 2, 1317, 40, 0, 3262, 275, 4, 5, 5258, 6916, 1, 2315, 92, 1707, 5, 11532, 4418, 195, 6443, 36, 1460, 2, 863, 11331, 147, 5, 691, 9, 664, 77, 35, 17, 237, 17, 12, 123, 38, 76, 118, 163, 300, 11, 5, 20, 36, 1460, 46, 1678, 324, 35, 197, 13, 11532, 9, 12246, 39, 147, 1415, 0, 0, 17, 593, 14544, 3, 1926, 14021, 3, 8691, 0, 4, 5, 180, 401, 41, 2444, 7666, 2656, 27, 13, 0, 4, 4430, 80, 9360, 1443, 2, 37, 12, 56, 135, 100, 10, 212, 33, 77, 12, 474, 2, 21, 1234, 329, 67, 7, 156, 16, 5, 1570, 4, 3976, 1675, 4, 17, 237, 17, 12, 238, 1989, 10, 150, 32, 5018, 43, 2, 1460, 65, 90, 132, 50, 38, 14460, 5355, 6, 1811, 4, 1324, 237, 9744, 4418, 106, 44, 192, 7, 1, 1645, 11, 5107, 24, 9471, 23, 4, 1, 10146, 862, 10057, 6, 5868, 24, 9472, 23, 2], 0), ([13, 854, 4262, 3094, 467, 22, 52, 15659, 5, 443, 11, 10, 3, 4, 167, 34, 591, 50, 13, 3094, 9, 63, 1, 173, 34, 14, 102, 37, 6, 153, 2096, 4, 570, 14644, 2, 3094, 8, 15, 10863, 16261, 461, 17604, 4, 8318, 59, 75, 56, 825, 96, 722, 3, 4, 5, 11057, 3, 6758, 1012, 11655, 1, 7485, 3419, 6, 31, 14644, 2, 3094, 305, 5, 196, 507, 6, 5, 11936, 41, 3225, 67, 11, 2385, 4, 100, 676, 314, 0, 7, 2354, 176, 866, 564, 206, 5, 2196, 17, 7, 93, 125, 987, 31, 1706, 2054, 500, 2, 29, 676, 314, 40, 2500, 2951, 11, 5, 0, 6177, 4, 921, 4049, 1, 0, 6, 37, 1, 1228, 15676, 95, 29, 3231, 7, 169, 1, 83, 103, 11, 1, 406, 6, 10278, 4213, 2, 59, 29, 8, 15, 5788, 11, 40, 557, 7, 720, 96, 192, 3, 29, 1091, 7, 308, 47, 17, 1608, 17, 295, 324, 3, 4, 5443, 5, 1138, 2811, 6, 177, 8602, 11, 4333, 17, 5, 2423, 14156, 2, 13, 9127, 16424, 285, 809, 51, 6, 273, 368, 7, 267, 324, 11, 1, 20, 3, 21, 10, 8, 15, 1, 68, 181, 6, 1, 22, 14, 265, 2890, 7, 125, 2, 267, 324, 9, 5, 739, 2592, 2, 12, 91, 8, 26, 44, 272, 7, 978, 14, 5, 4262, 3094, 20, 946, 3, 95, 12, 44, 96, 43, 79, 3, 21, 12, 91, 8, 26, 32, 5, 1123, 18, 13, 34, 2, 1398, 241], 0), ([13, 20, 213, 8, 26, 14, 89, 2, 2, 2, 36, 37, 21, 10, 8, 15, 57, 59, 25, 187, 7, 47, 443, 3, 95, 10, 8, 15, 189, 668, 23, 45, 30, 5, 172, 6, 2582, 11, 10, 4, 10, 8, 15, 938, 2, 12, 193, 13, 20, 19, 1154, 44, 553, 161, 601, 21, 19, 55, 289, 12, 8, 144, 118, 361, 10, 248, 2, 12, 474, 12, 47, 44, 10, 19, 5, 6282, 271, 63, 162, 12, 68, 111, 10, 44, 288, 5, 345, 2, 13, 9, 5, 60, 1287, 8, 15, 20, 43, 10, 8, 15, 71, 164, 7, 72, 93, 295, 5287, 4, 1506, 2, 13, 20, 9, 57, 19, 294, 196, 2, 2, 2, 264, 217, 7, 110, 6, 10, 3, 12, 159, 8, 26, 63, 44, 10, 79, 59, 12, 16, 44, 2035, 21, 14, 8, 15, 47, 62, 928, 653, 2, 1, 20, 16, 71, 700, 2, 12, 637, 10, 74, 74, 55, 1616, 915, 1175, 21, 12, 474, 10, 16, 262, 7, 33, 40, 2205, 20, 19, 295, 7, 362, 2, 12, 110, 10, 16, 2205, 19, 1, 228, 245, 21, 0, 8, 15, 2940, 16, 5, 233, 0, 21, 435, 2205, 194, 19, 245, 808, 2], 0), ([5, 22, 49, 0, 8, 15, 3, 0, 8, 15, 4, 0, 261, 10, 439, 37, 4301, 2, 121, 32, 75, 559, 14, 163, 2, 21, 59, 1, 0, 30, 1, 0, 3, 1, 1289, 17924, 4, 442, 2, 5414, 25, 123, 13, 9, 28, 131, 3857, 18903, 7, 11351, 70, 2, 5, 353, 242, 39, 1926, 12263, 17, 1371, 1749, 2, 34, 6, 1, 6596, 869, 5928, 4, 8009, 3015, 17, 9092, 1042, 279, 787, 200, 437, 88, 1, 1051, 2, 63, 5415, 6528, 3, 36, 97, 5921, 40, 1015, 1123, 19, 1, 223, 6, 1458, 485, 497, 51, 1504, 27, 2, 111, 13, 22, 50, 25, 8, 185, 1133, 6, 0, 2013, 2, 143, 412, 8, 26, 2650, 33, 5, 1529, 641, 53], 1), ([722, 49, 5, 4987, 594, 3, 0, 18639, 52, 1, 9522, 594, 886, 129, 35, 9157, 39, 674, 7036, 14, 30, 383, 1035, 1551, 39, 1, 2389, 2207, 1, 4204, 775, 24, 0, 23, 3, 1, 1301, 6, 1, 477, 1878, 991, 27, 278, 3571, 67, 11, 1305, 0, 2, 2369, 7313, 6, 5, 458, 3695, 2581, 0, 3876, 776, 4, 10, 68, 461, 11186, 18, 177, 900, 14, 3813, 2, 117, 550, 10888, 4, 0, 0, 4051, 3065, 249, 83, 7, 1, 1965, 4827, 11, 5, 3099, 1569, 2, 1882, 7, 5, 3476, 6879, 3, 45, 8, 15, 5, 3669, 2242, 1794, 11, 1, 3642, 1637, 4, 10, 473, 533, 2286, 6, 1, 4699, 14, 738, 7, 1329, 10, 2, 1, 3065, 1707, 14, 2528, 1107, 1, 2242, 87, 33, 7514, 1, 1965, 5673, 662, 18, 1, 1096, 292, 6, 5032, 2, 683, 4843, 3, 197, 3, 10, 921, 461, 619, 38, 8, 185, 28, 67, 439, 5, 2242, 21, 5, 10860, 4, 1232, 11281, 322, 2296, 18, 186, 40, 15944, 6, 2648, 11, 31, 13938, 4, 1815, 3555, 3237, 67, 31, 7591, 2, 107, 5, 228, 2016, 6, 4160, 4, 5781, 321, 6557, 3, 13, 405, 1287, 8, 15, 2581, 772, 291, 4, 809, 60, 2573, 4, 4641, 2, 1, 1991, 9, 4128, 21, 10170, 3, 1, 477, 109, 30, 4231, 194, 4, 1, 1361, 67, 904, 1, 13351, 18, 1, 18956, 489, 9, 4374, 2518, 2, 1, 4029, 212, 32, 84, 5, 336, 6, 2532, 7551, 4, 498, 4449, 3, 17, 29, 92, 1099, 5, 0, 10951, 18, 2306, 8472, 3434, 7, 10, 4, 5, 478, 2105, 7, 986, 31, 406, 2, 1, 1596, 30, 19957, 1664, 4, 0, 3, 69, 12, 16, 71, 1332, 19, 240, 1, 1140, 3825, 594, 871, 3, 4, 462, 5, 228, 172, 6, 2295, 547, 2, 1, 0, 1002, 4, 602, 1, 0, 0, 8382, 30, 0, 2109, 2, 0, 5729, 9, 5, 2581, 0, 6858, 632, 14, 265, 15885, 1115, 7, 1, 450, 6, 1, 530, 2], 1), ([78, 3, 12, 210, 33, 7058, 17, 12, 2062, 67, 155, 5, 1977, 965, 6, 13, 22, 14, 9, 156, 1665, 7, 8525, 4, 32, 47, 947, 1, 239, 371, 6, 612, 4929, 192, 5, 274, 965, 17, 5, 3122, 0, 19, 62, 1226, 2, 1, 22, 9, 43, 5294, 4, 13955, 10, 3367, 37, 2093, 2, 2, 2, 2, 79, 132, 81, 235, 913, 129, 102, 11, 62, 653, 24, 4, 12, 334, 7, 170, 11, 1, 913, 1125, 35, 35, 35, 23, 2, 1, 109, 30, 727, 4, 1, 1419, 19, 128, 141, 9, 5, 4547, 207, 1, 0, 2238, 24, 269, 1, 674, 1935, 6, 12038, 3, 1, 2030, 2, 4, 8524, 1, 0, 23, 3, 4, 1, 485, 318, 1378, 141, 2, 1, 674, 1734, 140, 32, 77, 12247, 948, 161, 107, 12, 97, 296, 10, 2, 45, 9, 64, 83, 22, 14, 12, 56, 132, 380, 1816, 0, 3, 4, 11, 199, 177, 542, 12, 123, 24, 1162, 7, 62, 0, 1895, 797, 23, 32, 114, 13, 22, 3, 115, 219, 2, 10, 87, 218, 82, 408, 3928, 19, 99, 2895, 122, 70, 3, 5, 495, 0, 4, 136, 37, 2570, 2], 1), ([12, 108, 214, 13, 20, 59, 10, 97, 373, 51, 2, 12, 16, 5, 2092, 36, 1, 66, 3, 4, 12, 214, 10, 18, 62, 257, 433, 41, 315, 847, 62, 330, 2, 12, 392, 1, 20, 102, 77, 244, 10, 16, 631, 7, 1693, 1, 4301, 2, 1, 652, 16, 60, 78, 229, 50, 1744, 2584, 77, 4938, 2, 1, 431, 16, 5, 126, 79, 3, 21, 1, 257, 113, 16, 60, 230, 2, 12, 200, 10, 16, 60, 755, 4, 14, 227, 32, 84, 1, 7313, 7, 1, 97, 66, 18, 62, 100, 1008, 2, 12, 32, 28, 114, 1, 20, 240, 4, 12, 6081, 143, 10, 52, 763, 7, 1, 0, 2, 12, 65, 122, 7, 111, 10, 179, 7, 72, 50, 10, 16, 17, 57, 17, 12, 392, 2, 1, 8957, 313, 467, 1413, 16, 327, 2], 1), ([45, 30, 279, 4, 112, 12, 8, 144, 114, 4, 7034, 335, 800, 6, 27, 804, 2, 3021, 14, 12, 8, 144, 0, 18, 3, 4, 84, 686, 7, 1574, 14, 45, 52, 47, 84, 5, 1438, 6, 653, 2, 873, 1128, 800, 6, 13, 5659, 1472, 1292, 77, 11, 343, 6, 5, 2803, 4046, 1246, 251, 2255, 7652, 116, 5214, 7, 0, 1, 2756, 3, 11974, 16533, 1128, 800, 19, 12342, 38, 521, 30, 1714, 19, 2, 93, 324, 65, 34, 1221, 5, 702, 0, 14, 13, 127, 9, 254, 7, 427, 5, 6002, 5, 389, 345, 107, 10, 8, 15, 427, 747, 99, 171, 7, 33, 168, 6, 1, 422, 53, 12, 391, 8, 26, 462, 678, 5404, 13, 927, 3, 21, 5112, 7, 135, 50, 25, 362, 3, 4643, 41, 0, 73, 5596, 3, 5596, 41, 0, 73, 3498, 3, 393, 41, 30, 11832, 0, 904, 73, 797, 4, 429, 64, 83, 6672, 6, 4246, 46, 6667, 7, 0, 109, 14, 30, 670, 47, 2161, 18821, 10060, 0, 3, 100, 111, 13, 127, 2, 12, 3, 27, 1, 83, 568, 3, 32, 55, 7347, 5355, 7, 82, 149, 2, 16161, 80, 7499, 2, 0, 80, 7499, 2, 3679, 967, 80, 7499, 2, 1, 322, 36, 352, 80, 17139, 2, 64, 1502, 2], 0), ([7, 13, 271, 3, 45, 213, 8, 26, 5, 20, 12, 8, 144, 114, 58, 219, 81, 1, 10624, 1137, 3, 920, 52, 105, 20, 814, 77, 58, 3251, 2, 13, 9, 39, 64, 778, 1, 821, 22, 46, 63, 1, 821, 1215, 22, 3, 21, 7, 40, 1027, 345, 178, 257, 11, 5181, 10, 16, 1, 9522, 3, 1429, 3, 94, 1180, 22, 129, 35, 12, 8, 148, 140, 1372, 17, 1500, 502, 18, 1, 674, 1734, 3, 249, 34, 5, 6470, 616, 18, 1718, 970, 3587, 11, 1, 1584, 2934, 6, 950, 8, 15, 1763, 24, 110, 2887, 0, 27, 0, 3, 68, 0, 23, 2, 6978, 52, 16485, 136, 1, 5644, 9445, 1295, 6, 1, 0, 8, 15, 616, 0, 8, 1975, 18, 25, 3, 69, 7, 77, 472, 79, 58, 1253, 36, 1, 66, 2, 197, 3, 284, 36, 10, 17, 5, 6131, 1166, 3, 12, 56, 458, 382, 1, 5037, 25, 8, 144, 193, 282, 196, 522, 11, 12380, 16896, 6364, 10746, 0, 385, 1975, 9, 54, 10, 8, 15, 37, 49, 2, 1, 15378, 8, 76, 407, 0, 0, 19, 13, 20, 2, 21, 13, 2923, 1792, 158, 8, 26, 63, 217, 556, 7, 0, 1, 8928, 8, 853, 2895, 807, 1793, 1215, 1137, 3, 12, 5199, 797, 4, 0, 1476, 3549, 7, 859, 51, 13, 20, 2, 269, 50, 25, 76, 5, 542, 6, 1, 0, 10488, 44, 77, 2, 80, 23], 1), ([6, 268, 3, 39, 105, 1164, 1267, 6, 22, 2551, 3, 1474, 9, 5, 60, 337, 22, 840, 2, 3811, 2251, 9, 5, 4289, 1529, 1474, 2997, 240, 2952, 7, 508, 21, 100, 102, 13558, 107, 116, 0, 39, 5, 756, 6, 71, 1529, 1165, 36, 5, 0, 0, 0, 14, 291, 5, 233, 44, 5, 0, 4108, 206, 1, 2197, 0, 2, 2443, 27, 5, 2622, 1266, 3, 29, 8, 15, 11778, 39, 5, 1759, 6, 17029, 736, 6118, 14, 3208, 96, 49, 0, 3, 245, 125, 4, 3, 6148, 3, 3625, 2, 3811, 158, 8, 26, 722, 79, 2, 428, 1, 71, 1529, 1165, 487, 67, 4, 508, 1, 6118, 39, 1157, 98, 11, 1, 152, 142, 38, 8, 185, 628, 248, 2, 3811, 226, 1633, 4, 1107, 295, 2, 5, 1266, 226, 0, 2, 1, 137, 2, 889, 1, 1710, 378, 5, 176, 2472, 19, 128, 4024, 3, 1474, 9, 28, 171, 7, 1204, 105, 2257, 2, 197, 3, 17, 2854, 17, 10, 9, 3, 10, 1306, 40, 727, 549, 2, 1, 1323, 11884, 9, 1, 9522, 240, 2149, 24, 1, 0, 8, 15, 269, 23, 4, 3, 36, 1287, 232, 211, 3, 10, 158, 8, 26, 0, 99, 2382, 2, 577, 911, 14, 1, 1797, 968, 9, 68, 5, 3182, 2, 4266, 746, 790, 139, 50, 25, 7546, 7, 198, 10, 579, 4, 8444, 34, 58, 50, 25, 91, 8, 26, 44, 0, 2, 976, 51, 6, 306], 1), ([5889, 3391, 9, 754, 62, 512, 538, 1391, 8, 17158, 950, 8, 15, 201, 1482, 2, 5, 528, 6, 196, 85, 30, 4736, 1141, 3, 34, 1821, 11, 1, 527, 1479, 3, 195, 14, 527, 52, 5, 1098, 3, 4, 260, 22, 2012, 18, 1, 196, 134, 3, 2631, 3, 3542, 1, 7134, 342, 284, 19, 5, 2102, 1533, 2, 29, 676, 5, 1496, 2443, 273, 3, 4, 255, 5726, 2380, 4, 10973, 3, 4, 640, 67, 18, 5, 434, 6, 11318, 149, 31, 3264, 19, 31, 1689, 2, 342, 265, 1, 364, 6, 1, 196, 1450, 24, 11, 5, 0, 154, 23, 4, 38, 1272, 67, 2631, 8, 15, 1008, 3, 4, 174, 13, 60, 173, 273, 3, 15785, 8, 15, 0, 3, 46, 55, 147, 154, 2, 2, 4, 100, 442, 2, 15785, 545, 342, 142, 1, 522, 30, 3051, 5, 14874, 11, 1, 7234, 2, 6, 268, 3, 1, 0, 154, 52, 7201, 1093, 36, 14, 222, 3, 43, 1015, 442, 2, 15785, 24, 3048, 10892, 23, 1542, 31, 347, 2, 442, 2, 15785, 52, 5, 3995, 3, 18, 734, 6, 4417, 2767, 3, 4, 29, 466, 11, 1, 3995, 21, 510, 9, 5, 202, 329, 3, 121, 29, 523, 17533, 466, 2, 4, 41, 9, 17533, 53, 143, 3, 17533, 17521, 3, 29, 523, 2, 2, 2, 21, 50, 10, 76, 17533, 17521, 3, 38, 8, 241, 37, 243, 33, 17160, 2, 1, 522, 30, 309, 625, 142, 15785, 266, 7, 347, 18, 12593, 1, 527, 3, 21, 6, 268, 3441, 226, 1, 132, 6, 34, 195, 61, 266, 7, 3991, 3, 4, 676, 1, 329, 389, 6, 942, 13100, 4, 34, 246, 1215, 34, 750, 2, 2, 2, 17533, 2, 54, 1045, 9, 5, 246, 942, 318, 6, 2071, 17, 34, 39, 34, 3, 38, 8, 185, 578, 4190, 39, 17533, 3, 41, 523, 29, 8, 15, 15785, 8, 15, 599, 2, 34, 257, 24, 3107, 930, 23, 9, 1697, 7, 5, 0, 2738, 3, 69, 1939, 11, 48, 325, 59, 10, 3598, 67, 48, 951, 5561, 2, 36, 105, 1069, 45, 8, 15, 660, 6, 5, 974, 7, 13, 4, 247, 24, 21, 915, 23, 442, 2, 15785, 9, 28, 609, 54, 29, 712, 7, 33, 2, 5, 57, 3, 942, 538, 1391, 8, 15, 201, 505, 3, 4, 734, 6, 13100, 104, 19, 5, 60, 942, 848, 2, 976, 51, 6, 306, 2], 1), ([16306, 39, 498, 1495, 9, 5, 157, 1137, 22, 19, 1, 228, 245, 35, 163, 1, 157, 70, 6, 1, 20, 526, 3, 75, 82, 5, 242, 6, 1, 86, 2933, 24, 134, 11, 1, 3360, 23, 3, 4, 10, 3407, 139, 5, 89, 20, 2, 107, 14, 75, 82, 5, 247, 6, 5, 9923, 6, 498, 12526, 3, 17, 10, 16, 360, 16306, 373, 51, 11, 5181, 2, 107, 5, 180, 215, 2856, 92, 24, 2158, 2412, 3, 546, 77, 625, 3, 524, 2, 23, 1, 70, 526, 2, 1, 120, 9, 670, 14, 498, 4, 31, 430, 351, 24, 41, 30, 359, 23, 30, 116, 4497, 39, 1, 86, 221, 6, 1, 70, 442, 2, 202, 3, 95, 38, 1971, 31, 484, 2218, 6, 385, 393, 37, 136, 1, 182, 0, 27, 1449, 2, 302, 1, 1346, 75, 72, 745, 3544, 3, 3809, 2, 8043, 399, 19, 4491, 1817, 3, 69, 9, 429, 745, 18, 99, 881, 871, 3, 524, 2, 21, 100, 34, 6, 1, 359, 82, 3107, 39, 442, 2, 202, 3, 4, 498, 87, 0, 7, 575, 48, 163, 61, 226, 5, 1245, 5709, 2, 302, 1, 20, 75, 72, 312, 299, 28, 68, 485, 19, 153, 490, 1557, 3, 21, 92, 1229, 502, 2, 19, 1756, 3, 72, 498, 1609, 11, 7, 5, 0, 11, 622, 7, 2889, 31, 351, 35, 10, 8, 15, 43, 598, 35, 1, 20, 640, 18, 5, 242, 6, 217, 300, 24, 315, 6129, 11, 8043, 0, 6, 480, 23, 3, 4, 25, 546, 1, 20, 18, 5, 1376, 554, 2, 485, 35, 12, 380, 13, 19, 177, 245, 41, 496, 7, 1077, 5, 338, 318, 300, 18, 2184, 4, 3725, 11, 964, 6, 1, 251, 2, 4, 156, 55, 797, 227, 894, 67, 4, 135, 21, 498, 1495, 9, 40, 7960, 542, 0, 35, 1112, 3, 29, 9, 840, 3, 21, 3, 217, 27, 3, 75, 37, 123, 10, 213, 8, 26, 303, 35, 827, 4, 72, 2, 2], 1), ([313, 11047, 8, 15, 8, 2758, 2474, 8, 9, 383, 94, 2886, 19, 116, 1, 68, 18184, 22, 11, 1710, 480, 7, 3664, 1, 891, 19, 128, 438, 2, 13, 16, 435, 93, 12, 97, 373, 7, 825, 6, 10, 3, 4, 3, 7, 33, 332, 1173, 3, 12, 159, 8, 26, 71, 519, 79, 6, 1, 22, 2, 13, 9, 28, 7, 135, 14, 12, 200, 10, 65, 33, 488, 3, 21, 826, 12, 159, 8, 26, 1163, 10, 1, 422, 6, 20, 14, 12, 65, 362, 155, 2, 13, 9, 34, 289, 143, 25, 150, 118, 1702, 131, 204, 8032, 27, 147, 8040, 492, 5, 1776, 2133, 6, 4308, 119, 3, 3392, 980, 4, 5, 876, 704, 24, 1263, 8, 15, 687, 8, 36, 77, 3, 12, 91, 8, 26, 825, 5, 680, 38, 8, 185, 0, 8, 23, 104, 13, 22, 34, 6, 1, 1830, 0, 6, 125, 3, 14022, 4, 1752, 129, 615, 2, 196, 926, 3101, 24, 0, 2740, 4594, 23, 3, 1973, 11332, 17, 5, 11666, 2474, 3, 3172, 42, 2160, 7, 176, 866, 7, 2555, 5, 176, 125, 17, 5, 7778, 3, 5, 923, 3645, 2, 366, 3, 197, 3, 90, 28, 320, 7, 33, 1615, 7, 936, 301, 19, 31, 7586, 3, 4, 926, 1407, 573, 11, 1499, 4189, 17, 31, 5561, 6, 301, 801, 7, 2454, 67, 2, 302, 138, 6108, 3, 926, 265, 7, 916, 19543, 7920, 14610, 24, 6600, 3093, 23, 3, 5, 10783, 6590, 0, 41, 2852, 516, 7, 4317, 926, 51, 6, 37, 31, 301, 2, 59, 38, 217, 7, 3410, 14, 38, 30, 203, 11, 1, 173, 9822, 3, 7920, 1542, 926, 5, 273, 7, 749, 3, 4, 3, 798, 300, 3, 38, 557, 7, 104, 24, 2359, 12967, 23, 466, 19, 521, 11, 1, 1130, 3, 2325, 10011, 6, 176, 866, 2, 926, 74, 2670, 314, 14, 176, 866, 366, 65, 33, 58, 81, 1615, 7, 936, 19, 396, 197, 3, 31, 97, 147, 918, 5828, 640, 18, 96, 0, 2684, 1, 253, 24, 6862, 1931, 23, 2060, 2263, 2, 162, 29, 227, 1163, 314, 7, 33, 660, 1190, 3, 7920, 9, 47, 17, 12699, 17, 926, 2, 7920, 3, 18, 31, 1369, 8318, 4, 12231, 12542, 3, 9, 218, 0, 314, 14, 3, 50, 68, 29, 101, 1968, 7, 1, 5231, 6, 6937, 3, 826, 267, 65, 33, 37, 208, 2, 13, 5375, 6508, 14, 184, 87, 82, 132, 43, 723, 9, 186, 2600, 6, 0, 4, 693, 6, 313, 0, 8, 15, 353, 626, 3, 8, 6, 8325, 4, 339, 2, 8, 326, 2359, 27, 1, 1964, 6, 176, 866, 3, 8, 2758, 2474, 8, 9, 5, 0, 169, 36, 125, 11, 1, 14127, 2, 155, 1, 22, 3, 75, 56, 224, 244, 2913, 925, 7920, 8, 15, 0, 3, 0, 10770, 3, 260, 18669, 3967, 42, 1, 0, 3483, 1130, 2, 1, 119, 435, 9521, 7, 13, 0, 3, 18, 203, 4594, 4, 3093, 6837, 2237, 1, 117, 11196, 0, 6, 696, 844, 2, 3093, 3, 11, 836, 3, 9, 2716, 11, 31, 223, 24, 12, 8, 148, 0, 8, 133, 35, 12, 8, 148, 0, 8, 133, 35, 23, 3, 8481, 7, 5887, 78, 747, 6, 116, 11394, 107, 31, 0, 2049, 11, 7726, 8, 15, 8, 1, 8015, 2, 8, 203, 419, 76, 315, 2406, 19, 128, 297, 3343, 24, 92, 2406, 19, 119, 492, 0, 492, 16, 6862, 1931, 3, 19, 40, 1256, 14, 56, 8, 26, 32, 84, 19, 58, 81, 746, 232, 23, 3, 162, 203, 1126, 415, 51, 7, 313, 1942, 11, 8, 303, 10439, 2, 8, 8, 2758, 2474, 8, 803, 437, 27, 7, 1204, 282, 3343, 42, 1559, 6362, 3, 571, 128, 438, 3, 128, 175, 19, 11047, 4, 128, 501, 19, 17310, 5499, 2, 8, 2758, 2474, 8, 9, 572, 1390, 11, 5, 8820, 1655, 3, 162, 45, 30, 1815, 2126, 14, 2755, 36, 926, 8, 15, 509, 2, 246, 81, 12205, 3984, 54, 138, 1343, 10548, 30, 165, 49, 3, 1, 304, 9, 4775, 7, 110, 49, 10, 19, 521, 3, 4, 93, 138, 2260, 101, 32, 1512, 926, 1603, 1, 2683, 29, 9, 156, 8348, 2, 1, 0, 464, 141, 875, 183, 18, 5, 10671, 6, 448, 3, 21, 5, 1024, 1132, 6, 13230, 2, 2325, 3, 5324, 4, 7004, 1481, 3, 8, 2758, 2474, 8, 9, 34, 19, 1, 2093, 2], 1), ([12, 238, 60, 13221, 6, 71, 86, 0, 4, 201, 106, 80, 12, 8, 144, 84, 155, 98, 240, 12, 16, 607, 46, 553, 3, 43, 12, 8, 144, 114, 55, 71, 86, 493, 3, 21, 12, 761, 18, 10, 2, 12, 8, 144, 63, 296, 5, 172, 6, 5264, 1196, 106, 43, 12, 123, 28, 7, 519, 79, 80, 5, 606, 2369, 20, 14, 52, 64, 285, 7, 1048, 6, 2, 448, 7594, 5786, 3, 12, 474, 80, 46, 1, 4383, 6, 448, 136, 549, 3, 17, 38, 135, 2, 479, 3, 13, 9, 5, 802, 208, 42, 1, 470, 4, 12, 690, 10, 3, 21, 44, 5, 0, 7, 1, 9337, 3, 12, 812, 529, 146, 3, 235, 3, 230, 65, 562, 2, 10, 158, 8, 26, 2, 37, 6, 1, 160, 205, 5, 551, 242, 80, 361, 1, 234, 3, 12, 91, 8, 26, 123, 93, 38, 37, 812, 795, 1407, 2, 10, 52, 146, 7, 90, 18, 0, 11408, 17065, 2214, 41, 30, 1345, 661, 136, 1, 398, 1352, 3, 34, 666, 36, 5, 66, 2, 45, 8, 15, 40, 484, 2996, 7236, 41, 0, 18, 1, 2082, 39, 742, 98, 1, 18838, 1256, 6, 1769, 2, 2, 2, 91, 8, 26, 3074, 3, 29, 226, 54, 8, 15, 596, 7, 96, 2, 1, 11056, 85, 521, 91, 8, 26, 71, 123, 121, 38, 373, 42, 3, 38, 110, 38, 227, 32, 0, 5, 1311, 27, 5, 7562, 14, 6122, 27, 688, 3, 21, 2, 2, 2, 826, 38, 123, 49, 1, 957, 6, 11056, 13619, 754, 98, 80, 1, 11056, 2625, 52, 1241, 7, 6163, 18, 5, 398, 116, 41, 708, 14, 61, 8, 15, 1, 11408, 1617, 4, 1249, 48, 19, 48, 1336, 2, 2, 2, 436, 3, 212, 12, 151, 27, 53, 577, 3, 12, 19695, 25, 3, 90, 28, 462, 280, 612, 6, 131, 125, 155, 13, 2, 2, 2, 235, 65, 33, 132, 2, 2, 2, 110, 6, 1, 252, 3, 225, 727, 103, 25, 56, 1077, 117, 612, 2, 2, 2, 10, 65, 33, 132, 81, 13, 2], 0), ([313, 15205, 9, 5, 40, 327, 297, 2, 12, 32, 7, 978, 14, 12, 16, 1500, 39, 31, 1999, 11, 1, 223, 6, 5, 12547, 178, 0, 41, 7118, 4071, 7, 198, 11, 40, 0, 42, 1, 1964, 6, 1223, 24, 2893, 66, 1030, 23, 2, 14, 116, 307, 3, 1, 22, 9, 92, 327, 2, 5, 60, 703, 70, 18, 5, 2439, 285, 2, 55, 6, 1, 109, 30, 5, 126, 8384, 24, 1, 369, 1475, 11, 836, 23, 3, 21, 650, 6, 98, 30, 3249, 7, 1, 120, 2, 670, 3, 1, 70, 9, 49, 1, 178, 134, 4, 1, 431, 3, 4, 1, 22, 748, 126, 324, 2], 1), ([13, 212, 33, 34, 6, 1, 252, 3481, 106, 129, 102, 2, 10, 9, 2314, 14, 147, 5, 86, 234, 16, 1509, 7, 427, 5, 20, 4, 589, 11, 5843, 17, 1001, 17, 345, 3593, 2, 12, 8, 144, 118, 114, 43, 115, 4886, 17218, 6458, 11, 34, 4, 1, 173, 20, 2, 10, 1514, 8, 26, 33, 14, 619, 2, 12, 56, 8, 26, 382, 143, 43, 115, 587, 160, 63, 200, 1, 323, 7, 63, 33, 4886, 11, 5, 20, 44, 13, 2, 50, 12, 74, 105, 1152, 19, 55, 6, 1, 587, 160, 11, 13, 20, 163, 12, 214, 1, 20, 3, 10, 9, 763, 19, 254, 156, 2, 12, 8, 144, 559, 14, 45, 87, 33, 5, 868, 67, 20, 7, 13, 34, 4, 12, 56, 8, 26, 382, 93, 14, 9, 63, 631, 2], 0), ([2557, 5840, 2, 102, 115, 0, 11, 1, 4461, 4, 94, 6, 98, 30, 845, 2536, 3, 15453, 4, 60, 432, 2, 12, 71, 122, 93, 1, 1120, 7300, 1, 346, 7662, 788, 6, 260, 2878, 125, 2, 13, 9, 34, 6, 2557, 8, 15, 180, 17670, 15641, 14, 333, 158, 8, 26, 170, 2, 2247, 1454, 2, 4667, 305, 5, 4196, 3247, 6, 3476, 41, 0, 1, 0, 178, 70, 6, 5, 0, 18, 1598, 3352, 2, 4667, 423, 5, 5305, 242, 21, 29, 9, 3939, 39, 160, 14, 91, 8, 26, 651, 1, 17823, 2, 2274, 2, 872, 2, 2557, 3, 0, 15626, 4, 4282, 4579, 30, 57, 3, 21, 1, 86, 119, 6, 8792, 0, 4, 2268, 0, 11, 1, 350, 822, 71, 4361, 1, 20, 2, 0, 9, 602, 86, 302, 48, 202, 970, 141, 784, 1, 137, 6, 1, 20, 2, 11, 1618, 3, 1, 13545, 1295, 6, 1, 22, 191, 668, 11, 1, 2007, 6, 8345, 370, 2, 11923, 8, 15, 453, 9, 389, 6, 3834, 1019, 2540, 21, 29, 592, 3081, 1, 86, 119, 4, 1, 3221, 164, 1110, 2, 15176, 0, 8, 15, 375, 170, 9, 590, 2, 826, 3, 13, 434, 6, 5354, 193, 40, 891, 4230, 19, 128, 438, 24, 11, 5, 345, 14, 506, 183, 148, 3, 2345, 4, 3636, 23, 2], 0), ([1197, 15016, 2159, 62, 540, 11, 267, 29, 52, 129, 84, 11, 35, 12, 122, 155, 96, 35, 35, 12, 16, 306, 13264, 178, 24, 4978, 23, 59, 12, 114, 96, 19, 1, 97, 66, 2, 12, 6904, 12094, 249, 4, 267, 29, 8, 236, 33, 119, 11, 2, 2243, 34, 271, 12, 56, 72, 96, 11, 397, 2, 29, 8, 15, 60, 7540, 4, 1368, 4, 14, 597, 9, 9121, 4, 590, 35, 29, 9, 60, 1494, 3, 63, 156, 36, 12466, 29, 9, 429, 1373, 35, 35, 35, 35, 11, 62, 653, 29, 9, 1, 821, 297, 5158, 8, 997, 129, 114, 35, 12, 9690, 96, 11, 2345, 24, 342, 18, 5, 172, 6, 83, 522, 51, 45, 23, 4, 11, 539, 1023, 253, 3, 329, 6, 241, 3, 1412, 4, 1, 0, 4, 115, 58, 2, 12, 200, 29, 16, 1189, 35, 35, 35, 35, 35, 35, 56, 8, 26, 827, 7, 72, 96, 11, 57, 318, 4, 57, 1949], 1), ([13, 438, 632, 1, 20, 5266, 27, 5045, 11751, 2586, 3, 1210, 1867, 0, 17, 5225, 0, 3, 12093, 15155, 17, 1458, 0, 3626, 3, 1766, 2, 241, 2, 0, 17, 6974, 4, 1210, 0, 6, 1, 345, 3983, 12804, 2, 1, 438, 526, 18, 1, 548, 17695, 11999, 736, 284, 19, 12, 474, 3180, 2, 45, 1341, 9, 1135, 2969, 39, 40, 1659, 736, 1341, 2, 3660, 5225, 0, 4, 31, 1922, 6974, 17, 38, 349, 7, 861, 51, 41, 1, 1659, 1341, 3223, 7, 2, 59, 4358, 38, 673, 27, 1458, 0, 41, 0, 31, 830, 7, 555, 152, 2, 3660, 1, 1492, 3983, 12804, 3, 41, 305, 1, 223, 6, 0, 41, 9, 134, 102, 2627, 2, 40, 156, 5, 180, 2229, 27, 13, 438, 2, 13, 20, 16, 1314, 379, 4, 10, 8, 15, 34, 6, 1, 1000, 14, 12, 91, 8, 26, 82, 88, 1025, 2, 50, 25, 8, 185, 88, 1025, 25, 65, 32, 1408, 14, 1, 7787, 467, 299, 76, 4073, 42, 40, 405, 1025, 20, 4312, 10600, 9758, 69, 3271, 11, 1987, 11, 5571, 2, 115, 6, 1, 1310, 912, 14, 25, 825, 11, 13, 20, 373, 42, 166, 1025, 20, 14, 3271, 152, 11, 8906, 4312, 355, 1952, 2, 156, 19, 1, 289, 14, 12, 1194, 13, 20, 3, 3983, 12804, 2, 61, 9, 1492, 11, 48, 34, 434, 2059, 2, 12, 110, 48, 1935, 76, 960, 11, 13, 438, 4, 61, 150, 32, 118, 84, 563, 11, 147, 1217, 2, 8934, 0, 16, 92, 1237, 19, 1, 223, 4, 48, 1935, 65, 32, 84, 960, 92, 2, 27, 1, 438, 625, 12, 205, 13, 20, 457, 0, 355, 4, 27, 3983, 12804, 12, 205, 48, 306, 0, 419, 63, 162, 61, 159, 8, 26, 1760, 7, 33, 270, 88, 5, 1195, 20, 44, 13, 2, 50, 25, 44, 1308, 44, 13, 25, 56, 82, 1, 274, 319, 27, 4802, 2, 3021], 0), ([1, 97, 13628, 210, 28, 32, 84, 5, 89, 20, 3, 21, 36, 225, 10, 16, 216, 2, 45, 9, 64, 147, 6741, 7, 13, 34, 2, 1, 119, 9, 411, 3, 11, 62, 653, 3, 4, 1, 70, 9, 8708, 4, 168, 312, 2, 12, 92, 159, 8, 26, 44, 1, 403, 2, 4, 1, 312, 299, 30, 64, 132, 81, 11, 1, 216, 2, 13, 9, 20, 9, 4362, 7, 1, 97, 34, 11, 37, 783, 2, 1, 68, 154, 286, 49, 10, 3, 9, 14, 10, 9, 1406, 4, 7279, 36, 219, 2, 21, 14, 158, 8, 26, 104, 5, 57, 20, 2, 50, 38, 74, 229, 146, 132, 18, 1, 70, 4, 102, 10, 230, 3, 13, 101, 32, 84, 5, 551, 20, 2, 12, 165, 412, 8, 26, 82, 149, 10, 37, 206, 845, 13015, 149, 10, 2, 7, 77, 3, 13, 9, 5, 2513, 20, 3, 4, 28, 79, 58, 2, 469, 37, 14, 3, 45, 30, 411, 106, 2, 116, 11, 5, 3790, 1181, 3, 12, 8, 236, 205, 13628, 280, 5, 2510, 2], 0), ([55, 85, 210, 392, 1595, 2, 2251, 42, 112, 147, 17, 328, 4390, 3, 69, 74, 55, 1328, 4, 2593, 7727, 2, 431, 3, 61, 212, 32, 71, 879, 5, 820, 859, 59, 61, 4753, 27, 7, 90, 13, 802, 2, 414, 3, 45, 87, 33, 153, 41, 44, 1, 2295, 582, 4, 1014, 2, 21, 34, 212, 851, 152, 4, 591, 3, 11, 9225, 3, 54, 3317, 256, 7, 1077, 301, 4, 66, 7, 104, 13, 11, 1, 97, 273, 2, 12, 47, 214, 13, 20, 27, 34, 6, 1, 3147, 8, 15, 3, 4, 12, 56, 8, 26, 263, 38, 1630, 10, 67, 2, 11, 4348, 1595, 2, 14617, 159, 8, 26, 32, 1, 1587, 0, 61, 124, 930, 11, 48, 649, 2, 21, 3, 217, 27, 35, 272, 48, 308, 7007, 5460, 53, 53, 53, 48, 3498, 37, 169, 44, 38, 101, 33, 48, 1105, 2, 10, 8, 15, 92, 942, 11, 14, 25, 110, 45, 30, 171, 7, 33, 8026, 1426, 9617, 24, 1298, 3424, 45, 697, 8, 26, 3, 448, 14, 158, 8, 26, 1525, 17, 5, 1666, 23, 2, 18, 2083, 2458, 4, 0, 18760, 1243, 88, 1, 188, 3, 13, 34, 9, 2384, 8, 795, 7, 399, 8, 37, 1, 103, 2, 1, 145, 207, 18898, 4, 7007, 5460, 3, 344, 11, 397, 46, 27, 1, 1623, 3, 30, 5, 0, 11, 388, 3, 388, 119, 2, 436, 3, 827, 3, 12, 2403, 388, 3, 388, 501, 17, 78, 2, 12120, 13, 34, 67, 7, 549, 2, 5, 86, 549, 2], 0), ([12, 18420, 186, 5, 233, 136, 54, 667, 7, 205, 13, 34, 95, 10, 8, 15, 62, 225, 512, 0, 2503, 1839, 22, 43, 237, 83, 81, 1, 2976, 0, 3, 21, 10, 52, 1, 128, 119, 12, 8, 144, 114, 11, 5, 1839, 22, 2, 197, 3, 75, 37, 123, 14, 8, 15, 28, 614, 79, 2, 288, 1, 20, 16, 229, 3, 12, 16, 686, 95, 10, 452, 44, 12, 74, 84, 1209, 149, 5, 607, 552, 20, 3, 162, 10, 16, 68, 12073, 232, 211, 2, 12, 8, 148, 262, 7, 72, 37, 6, 0, 8, 15, 112, 4, 14, 8, 15, 243, 1, 68, 289, 7, 72, 13, 34, 2, 1, 621, 9, 57, 17, 629, 3, 1, 34, 154, 14, 0, 472, 7, 82, 208, 2, 1, 119, 9, 47, 17, 86, 17, 629, 18, 34, 1326, 2, 14, 1326, 9, 1197, 0, 2, 156, 3, 65, 12, 135, 14, 29, 8, 15, 5, 57, 297, 53, 64, 103, 3, 21, 29, 8, 15, 57, 1082, 7, 295, 324, 2, 1, 70, 9, 356, 4, 1098, 4, 266, 64, 121, 4, 39, 1, 137, 3, 12, 159, 8, 26, 455, 54, 604, 47, 43, 211, 17, 10, 1013, 2, 12, 123, 13, 9, 5, 1304, 353, 21, 12, 159, 8, 26, 362, 10, 60, 79, 36, 37, 2, 12, 448, 25, 87, 2], 0), ([12, 8, 144, 47, 6777, 1546, 11235, 6, 260, 0, 14, 74, 1202, 13, 22, 2, 78, 2, 2, 2, 4349, 3111, 11457, 6, 5125, 1546, 304, 9, 658, 2, 75, 468, 7, 72, 58, 303, 2163, 6, 260, 736, 8104, 11, 13, 22, 2, 21, 8110, 74, 11, 343, 146, 324, 2, 2, 2, 24, 75, 30, 202, 4, 316, 630, 18, 1190, 85, 573, 133, 2, 75, 30, 2637, 6, 37, 260, 736, 1393, 3, 157, 8104, 27, 1, 34, 568, 11, 13, 1767, 4, 11, 1116, 27, 1, 83, 568, 2, 43, 12, 8, 241, 44, 7, 979, 8110, 121, 9, 260, 0, 53, 4, 121, 3, 1, 618, 260, 0, 1533, 53, 3946, 53, 12, 8, 148, 186, 254, 3, 14, 0, 706, 537, 273, 79, 930, 5896, 8, 15, 1268, 27, 1722, 2, 4, 7, 867, 1815, 1832, 4, 1116, 2582, 80, 12, 71, 32, 64, 66, 4, 194, 736, 133, 35, 7126, 260, 13819, 1396, 11, 1546, 11235, 27, 9684, 2, 0, 2, 0], 0), ([91, 8, 26, 3074, 80, 64, 1349, 133, 3, 47, 614, 45, 9, 5, 60, 700, 120, 2, 5, 371, 1094, 7, 426, 11, 31, 340, 8, 15, 122, 7908, 43, 38, 56, 877, 5, 0, 27, 31, 10666, 18, 5, 799, 1598, 370, 12801, 2, 13, 228, 365, 1904, 247, 6, 44, 5, 331, 369, 11102, 402, 40, 409, 6, 600, 61, 1066, 2, 1, 68, 119, 12, 16, 2873, 27, 16, 1, 178, 0, 8, 15, 38, 6050, 19, 6560, 11, 1, 70, 2, 659, 1, 934, 200, 1, 20, 16, 385, 108, 211, 3, 43, 904, 1, 137, 38, 2281, 7017, 73, 375, 7, 5, 247, 6, 942, 1405, 6, 1, 12801, 4, 814, 11, 120, 0, 7, 5703, 13, 154, 67, 2, 91, 8, 26, 462, 131, 66, 80, 63, 1, 738, 4, 303, 0, 2047, 1805, 11, 13, 20, 2], 0), ([0, 0, 3887, 4, 1401, 19261, 471, 14, 52, 7, 90, 18, 5, 2803, 1314, 7, 3463, 192, 5, 645, 2968, 4489, 163, 176, 161, 271, 2, 116, 0, 19, 725, 1531, 2263, 1, 134, 510, 3620, 611, 0, 11, 1, 1289, 4062, 11, 2990, 5926, 14913, 3, 221, 0, 3, 9, 2957, 7, 720, 31, 204, 1104, 192, 11, 6912, 11, 622, 7, 6100, 2, 13, 52, 7, 562, 39, 9585, 457, 3, 117, 2081, 2958, 3, 163, 1, 6264, 7333, 27, 1, 1104, 1183, 51, 2, 18, 31, 343, 458, 27, 31, 170, 0, 4, 6576, 1791, 2246, 3, 858, 0, 3, 52, 64, 323, 14, 31, 1303, 3, 5926, 14913, 3, 9, 3567, 7, 3463, 192, 1, 4489, 29, 8, 15, 1361, 4, 857, 292, 96, 67, 17, 1, 762, 221, 2, 2246, 226, 5, 233, 4592, 59, 6264, 6434, 7468, 16286, 3, 7482, 5665, 3, 9167, 96, 27, 55, 60, 0, 10672, 27, 207, 14913, 4, 1, 6264, 998, 2637, 8563, 2, 10, 497, 51, 14, 2637, 0, 9, 165, 5802, 3, 46, 0, 6, 10, 3, 39, 14913, 314, 35, 13, 2543, 0, 14913, 9, 272, 37, 138, 19261, 5973, 562, 11, 622, 7, 6100, 1, 725, 1531, 2263, 6, 6264, 69, 9, 36, 225, 1567, 17, 79, 17, 1, 440, 3620, 611, 0, 9, 276, 35, 75, 315, 32, 7468, 16286, 1787, 3, 11, 5, 11529, 4833, 1534, 3, 7, 390, 48, 42, 1428, 51, 4389, 1402, 18, 1, 4592, 19601, 190, 4, 11, 3620, 611, 0, 2, 10, 8, 15, 59, 3094, 8, 15, 6, 1223, 3, 41, 8, 15, 0, 2637, 8563, 3, 6264, 6434, 693, 0, 3, 574, 4059, 3, 279, 67, 14, 14913, 311, 5, 14061, 1198, 31, 6876, 19262, 27, 31, 204, 4, 51, 6, 1172, 7, 2335, 14913, 8, 15, 440, 1314, 2, 1888, 2246, 52, 1910, 2212, 7, 203, 14913, 4, 0, 41, 1018, 14913, 496, 1, 3620, 611, 0, 7, 151, 476, 19, 1000, 69, 30, 118, 102, 186, 747, 3, 47, 111, 1, 239, 180, 1556, 6, 1, 22, 7, 977, 14, 3, 39, 10, 8, 15, 728, 4, 175, 2, 1, 19262, 9, 3751, 17, 29, 8, 15, 49, 7, 90, 11, 31, 1008, 18, 2246, 596, 7, 48, 2328, 2, 75, 100, 32, 13, 1370, 1346, 141, 18, 1, 19262, 385, 415, 11, 1, 3620, 611, 5348, 2020, 68, 7, 32, 10, 292, 27, 996, 3, 18, 1, 347, 6, 1791, 2246, 3, 121, 29, 640, 67, 3486, 7, 5, 0, 39, 1, 66, 1, 996, 2491, 373, 7, 13049, 96, 192, 2, 1, 2221, 4, 5117, 285, 118, 102, 747, 7, 47, 54, 604, 7, 1, 202, 2937, 11, 13, 228, 4306, 6, 184, 1, 2803, 4, 484, 5541, 5926, 14913, 2, 10, 8, 15, 17, 50, 14913, 193, 248, 0, 4, 68, 31, 8228, 4, 5403, 7776, 3, 1, 19262, 3, 41, 16, 68, 1, 9779, 6, 14913, 8, 15, 3399, 1013, 67, 17, 1, 68, 397, 41, 15088, 42, 98, 2], 0), ([25, 87, 33, 499, 7, 377, 709, 1, 97, 1074, 1556, 6, 13, 22, 724, 25, 187, 7, 1258, 155, 10, 2, 1, 22, 2012, 18, 1064, 6, 5431, 4913, 36, 40, 4010, 3, 34, 1400, 107, 166, 9940, 88, 5, 0, 18952, 2, 25, 87, 33, 499, 7, 5453, 474, 14, 13, 20, 9, 28, 49, 5, 70, 2, 36, 97, 835, 3, 10, 8, 15, 63, 796, 7, 110, 1, 594, 1064, 30, 3365, 638, 6, 1, 173, 1400, 2, 1, 2621, 471, 9, 11, 1, 0, 6, 131, 5738, 3, 69, 9, 2123, 27, 131, 10829, 7, 549, 1, 22, 333, 17, 5, 209, 6, 1064, 2, 50, 107, 13, 594, 3, 25, 187, 7, 72, 1, 20, 3, 25, 87, 28, 33, 1075, 2, 25, 210, 63, 33, 14004, 2, 1, 20, 210, 33, 40, 909, 549, 10, 210, 33, 40, 2718, 549, 10, 210, 33, 203, 2, 4057, 42, 1, 274, 1628, 3, 69, 9, 3249, 3, 10, 16, 3963, 40, 909, 549, 19, 6187, 3, 4, 3, 36, 34, 222, 3, 29, 2138, 12205, 49, 93, 1, 22, 9, 5, 10145, 207, 1661, 4, 503, 2, 45, 8, 15, 958, 6, 654, 19, 1, 503, 7, 104, 6, 13, 22, 609, 54, 29, 46, 61, 496, 7, 104, 6, 10, 2, 198, 5, 11540, 53], 1), ([1, 20, 52, 1, 6192, 3, 94, 3705, 4, 0, 285, 6, 105, 20, 12, 8, 144, 114, 11, 5, 211, 66, 2, 479, 10, 526, 208, 107, 1, 594, 886, 2, 9585, 1389, 423, 147, 5, 1581, 242, 3, 12, 16, 758, 61, 159, 8, 26, 151, 67, 11, 6912, 59, 61, 193, 784, 1, 10132, 11, 1, 22, 2, 12, 91, 8, 26, 71, 392, 48, 42, 1, 83, 112, 61, 8, 15, 229, 24, 5, 9714, 12, 32, 7, 263, 2, 12, 118, 6805, 40, 160, 242, 95, 11, 22, 45, 30, 108, 115, 184, 69, 56, 4980, 10, 21, 11, 13, 418, 3, 10, 9, 43, 86, 14, 10, 165, 1320, 51, 42, 1, 2559, 234, 2, 2566, 61, 8, 15, 361, 404, 4, 1110, 4917, 3968, 65, 32, 1111, 18, 21, 12, 3456, 36, 219, 12012, 873, 42, 5, 5193, 3627, 139, 292, 2, 36, 83, 219, 12, 200, 61, 227, 165, 33, 2623, 5912, 46, 644, 11, 55, 103, 2, 19, 157, 35, 1, 120, 3, 752, 4, 1620, 30, 17, 86, 17, 25, 8, 236, 129, 72, 21, 45, 9, 140, 64, 1284, 19, 13, 242, 920, 19, 1, 175, 14, 281, 10, 33, 15092, 2, 12, 244, 735, 19, 1, 83, 160, 2, 2401, 0, 306, 126, 0, 1378, 9435, 88, 5, 4339, 0, 100, 0, 39, 5, 1398, 369, 0, 175, 2, 198, 14, 152, 13, 52, 1120, 11223, 0, 37, 136, 10, 2], 0), ([12, 110, 13, 22, 52, 84, 660, 4088, 133, 2, 45, 30, 55, 184, 7, 3075, 11, 10, 19, 34, 154, 10, 981, 1076, 19, 116, 5, 1116, 1222, 24, 0, 23, 22, 69, 3796, 27, 99, 70, 310, 6, 312, 299, 4, 231, 871, 7, 1683, 1, 271, 2, 1, 737, 188, 9, 57, 3, 1, 292, 1681, 4, 652, 30, 57, 3, 4, 1, 988, 30, 230, 194, 24, 162, 38, 30, 470, 7, 320, 5, 126, 1448, 107, 1, 115, 1613, 463, 564, 2213, 9003, 2213, 555, 1378, 10628, 6, 1129, 161, 23, 2, 21, 1, 22, 9, 15229, 39, 337, 3376, 3, 1581, 372, 42, 1, 477, 160, 3, 4, 5, 5006, 86, 285, 2, 1, 290, 454, 12, 74, 16, 14, 1, 1879, 16, 1118, 1503, 920, 5700, 2, 12, 977, 14, 181, 6, 1, 70, 16093, 14, 29, 150, 33, 5, 233, 6, 5, 24, 827, 19, 10, 2, 2, 2, 23, 0, 3, 21, 12, 16, 1232, 1913, 7, 170, 67, 105, 5147, 19, 5, 113, 14, 47, 472, 44, 5, 356, 3, 7620, 0, 6, 5, 134, 2, 54, 113, 4457, 45, 9, 19, 13, 608, 9054, 9, 18247, 874, 27, 96, 39, 1, 120, 2, 477, 297, 3691, 10020, 2788, 11, 9314, 14, 1, 1879, 9, 1410, 4, 6426, 3, 21, 946, 36, 3755, 105, 2319, 19, 96, 2, 1676, 96, 3, 3167, 8476, 130, 54, 61, 56, 18, 5, 113, 41, 52, 64, 157, 1578, 6, 48, 204, 3, 889, 116, 1, 13396, 6, 5, 0, 1470, 4896, 17, 1578, 2, 34, 6, 1, 1096, 11831, 6, 13, 20, 9, 1, 285, 2, 12, 391, 8, 26, 205, 105, 1349, 133, 3, 21, 12, 87, 135, 14, 5, 823, 974, 36, 1, 137, 16, 15201, 189, 685, 36, 225, 3708, 232, 163, 10, 3902, 2, 999, 3, 107, 116, 1536, 7, 33, 5, 2498, 3, 0, 20, 19, 1, 97, 552, 46, 43, 3, 1, 239, 180, 145, 1135, 4, 1916, 0, 88, 1, 252, 247, 6, 370, 14554, 3, 586, 18, 202, 3788, 4, 312, 299, 2, 1, 3522, 6, 1, 22, 8, 15, 0, 36, 1, 137, 9, 843, 229, 3, 4, 36, 1, 137, 1, 109, 320, 63, 346, 1503, 81, 38, 124, 163, 55, 6, 1, 22, 8, 15, 290, 120, 6672, 76, 5222, 2, 1, 20, 8, 15, 28, 37, 86, 3, 162, 2, 10, 130, 1840, 7, 4147, 5, 732, 486, 648, 6, 1078, 481, 94, 6, 10, 3, 469, 1, 644, 1620, 24, 264, 12, 110, 12, 32, 5, 1944, 81, 890, 6865, 19, 11055, 106, 23, 2, 4, 45, 30, 55, 395, 59, 1, 16543, 3, 0, 554, 14, 175, 7834, 12697, 16, 685, 262, 7, 7298, 5746, 7, 1, 2137, 2, 21, 11, 1, 137, 3, 138, 788, 697, 8, 26, 194, 7, 3081, 1, 1463, 11, 1, 22, 8, 15, 119, 4, 234, 2, 45, 9, 243, 5, 57, 20, 14, 3598, 138, 173, 1386, 4, 988, 3, 21, 13, 213, 8, 26, 10, 2], 0), ([8, 1984, 8, 24, 2586, 23, 9, 495, 2, 10, 8, 15, 193, 37, 138, 2327, 14, 102, 1, 538, 1391, 8, 15, 106, 43, 89, 2, 10, 9, 2637, 6, 99, 0, 4, 28, 2869, 6, 116, 136, 1, 408, 2, 54, 71, 2208, 133, 3, 9, 1, 1160, 3, 28, 1, 5968, 2, 4476, 3604, 18, 2210, 1561, 4949, 3, 87, 118, 977, 14, 8, 1984, 8, 9, 49, 1, 2844, 3, 0, 4, 10816, 6, 138, 196, 85, 3, 28, 49, 73, 3977, 2, 3358, 194, 3, 650, 6, 1, 60, 1063, 160, 6, 8, 1984, 8, 102, 10, 11, 370, 2, 8, 1984, 8, 5930, 1, 137, 6, 40, 1030, 2, 1, 137, 6, 1634, 2119, 4, 12203, 4, 1, 470, 6, 0, 4, 1026, 9930, 2, 10, 8, 15, 1, 239, 2424, 6, 5, 1852, 14, 74, 5, 597, 6, 99, 204, 2, 1773], 1), ([163, 12, 1691, 2496, 18, 1, 176, 9195, 3, 12, 87, 151, 152, 11, 66, 288, 58, 95, 12, 74, 332, 1570, 49, 138, 4856, 35, 35, 35, 35, 35, 11, 5707, 3, 913, 3, 142, 140, 5, 486, 998, 11, 1, 1705, 3, 16, 499, 7, 378, 5, 209, 6, 112, 27, 647, 483, 28, 186, 398, 3, 49, 5, 12605, 2092, 41, 3, 44, 11, 3255, 5084, 3, 291, 44, 5, 398, 21, 9, 71, 5, 2627, 35, 35, 35, 35, 35, 156, 13, 3700, 1705, 3, 342, 18, 83, 112, 44, 0, 4, 6521, 3, 12, 18010, 1, 359, 95, 10, 5649, 267, 6, 17332, 18, 1, 0, 6, 4970, 35, 35, 35, 35, 35, 62, 797, 392, 317, 13, 27, 1, 251, 152, 100, 3, 152, 59, 12, 16, 47, 1535, 46, 146, 2, 197, 3, 62, 60, 97, 2365, 18, 13, 22, 16, 27, 1, 178, 913, 1196, 24, 34, 66, 3, 12, 8, 144, 114, 13, 3, 4, 1, 83, 515, 3, 27, 62, 0, 872, 8, 271, 11, 210, 6, 8, 4349, 35, 35, 35, 35, 35, 23, 28, 186, 398, 9, 5, 60, 57, 209, 6, 112, 7, 111, 3, 50, 25, 56, 129, 174, 138, 106, 179, 2, 52, 13, 84, 589, 1001, 53, 50, 43, 3, 205, 77, 40, 10654, 46, 928, 740, 2, 1773], 1), ([3746, 11, 69, 3498, 4, 2791, 2555, 7, 382, 5, 3932, 4, 3, 39, 1, 1555, 3, 73, 204, 466, 30, 28, 14, 12054, 2, 92, 28, 12054, 30, 1939, 14, 4515, 566, 6, 617, 3, 5, 2036, 6, 14990, 3, 40, 7838, 6, 14526, 4, 3, 383, 3, 40, 15867, 2820, 19, 0, 1182, 19, 3309, 509, 4361, 3, 157, 4, 0, 2, 54, 9, 1737, 9, 5, 495, 3, 1159, 4, 6336, 3361, 6, 5, 1481, 3932, 4, 62, 6576, 5, 507, 8, 15, 1160, 9, 14, 1353, 3777, 2, 2146, 5599, 0, 7, 13, 630, 17, 5, 542, 3, 31, 406, 0, 4, 4893, 9232, 39, 40, 1534, 2, 29, 4, 31, 797, 7226, 11, 7448, 121, 1, 1063, 12067, 446, 518, 4, 215, 2, 514, 29, 847, 14894, 6, 3552, 4, 864, 68, 40, 6576, 8, 15, 649, 65, 1441, 31, 1477, 3736, 2, 5599, 847, 40, 6576, 21, 17, 13, 22, 279, 10, 537, 5, 211, 66, 163, 29, 3826, 1, 689, 6, 1, 5928, 11, 31, 1767, 2, 34, 6576, 2985, 14, 29, 16, 5, 1312, 6, 1, 4391, 0, 3, 14, 9898, 14, 342, 18, 7058, 439, 366, 16, 211, 5, 0, 1309, 6, 1, 321, 5219, 6, 9484, 2, 59, 29, 124, 2806, 1408, 3, 29, 16, 114, 3, 685, 5453, 3, 17, 5, 0, 3, 18177, 10759, 0, 0, 3558, 14, 31, 1703, 4, 68, 31, 1703, 33, 1671, 2, 14, 0, 16, 1, 289, 14, 142, 29, 2652, 386, 2218, 19, 115, 3552, 29, 2123, 21, 5, 180, 2, 1, 2514, 18, 40, 3177, 4574, 41, 3716, 5599, 11, 7448, 95, 6, 31, 14707, 1043, 6, 5, 6384, 2398, 2171, 121, 85, 309, 73, 1786, 27, 1, 0, 4, 2252, 88, 1, 564, 9, 570, 2, 5599, 16, 5, 1535, 1475, 4, 55, 6, 1, 6908, 12090, 852, 133, 279, 96, 18, 1381, 3, 31, 597, 6295, 21, 4706, 3, 73, 0, 11347, 4, 1501, 2, 115, 17389, 76, 6050, 39, 175, 3, 728, 4, 1104, 0, 12698, 5599, 3, 1, 6576, 8, 15, 68, 507, 2, 55, 30, 182, 799, 80, 12, 2, 148, 2, 0, 3, 593, 5, 2, 148, 2, 1772, 3, 0, 0, 3, 1197, 0, 4, 1, 140, 5125, 0, 3, 4335, 2316, 2, 73, 771, 2866, 5, 4641, 438, 6, 13, 7084, 21, 11, 1, 137, 8456, 8724, 5585, 6, 3552, 14, 11155, 1, 16015, 3, 0, 4, 1819, 3552, 6, 509, 7386, 88, 5197, 19, 1, 1005, 2, 5599, 8, 15, 3552, 30, 589, 3, 754, 1, 94, 1229, 116, 1, 0, 2136, 0, 11, 1102, 0, 3, 12518, 2, 7, 77, 31, 445, 52, 5, 0, 951, 0, 39, 108, 79, 4280, 736, 14, 0, 246, 81, 11435, 398, 3327, 2, 21, 5599, 8, 15, 507, 16, 107, 58, 81, 1, 70, 6, 31, 340, 3, 1, 6576, 2, 19, 115, 161, 2146, 5599, 74, 282, 2043, 5, 330, 18, 914, 29, 74, 5, 558, 4, 117, 0, 1426, 3, 34, 6, 69, 1103, 5, 558, 3, 1, 83, 1, 507, 2, 5599, 6777, 31, 507, 36, 1, 421, 8, 15, 352, 413, 21, 36, 1, 137, 6, 40, 2225, 421, 4, 507, 65, 1445, 5599, 152, 7, 1, 13995, 352, 2, 12698, 685, 468, 7, 123, 49, 13, 1737, 292, 6, 1426, 21, 29, 158, 8, 26, 991, 7, 33, 9232, 39, 54, 16, 435, 5, 681, 1443, 19, 5, 126, 431, 2, 59, 12698, 16, 5, 196, 431, 2146, 5599, 1093, 6, 5, 2607, 540, 1387, 11, 1, 339, 8, 15, 654, 6, 176, 866, 8, 15, 15090, 1533, 107, 3187, 42, 2620, 121, 29, 74, 9208, 34, 6, 31, 2607, 3766, 3, 166, 34, 14, 16, 118, 2123, 2, 36, 14, 222, 31, 7448, 4907, 16, 36, 225, 0, 3, 1720, 11, 7513, 4, 74, 29, 1446, 5, 1231, 7, 1, 8788, 18269, 2728, 16, 243, 11, 1, 18816, 2, 5599, 309, 441, 10015, 17226, 6, 69, 1, 1228, 1361, 11, 0, 9, 685, 1, 1096, 2, 5, 0, 731, 6576, 0, 5599, 19, 272, 1023, 5, 1361, 121, 10907, 210, 24, 4, 2243, 87, 23, 17616, 2, 1526, 6576, 0, 0, 0, 14, 45, 227, 32, 84, 146, 3602, 11, 5599, 8, 15, 2275, 5, 8328, 540, 1387, 11, 5, 989, 1533, 361, 31, 13950, 0, 2, 12, 3077, 10, 8, 15, 1022, 2897, 14, 5599, 150, 768, 11, 1, 12588, 6946, 19, 34, 6, 842, 8, 15, 303, 19260, 4856, 3, 1, 178, 15090, 1533, 3, 13263, 7, 104, 103, 19, 5, 13655, 6946, 18, 64, 113, 4, 64, 8770, 6, 0, 1744, 2, 45, 30, 5, 633, 6, 909, 395, 719, 302, 1, 1136, 5599, 8, 15, 1160, 3, 571, 18, 31, 0, 4, 31, 421, 3, 21, 38, 8, 185, 1958, 4, 703, 3, 28, 10990, 4, 4492, 2, 10445, 6, 9484, 87, 218, 2063, 5599, 2, 31, 507, 258, 1000, 7, 392, 96, 17, 5, 2880, 21, 60, 0, 4, 1126, 1902, 134, 2, 2677, 2], 1), ([13, 20, 150, 32, 217, 18, 5, 11207, 14, 10, 16, 5895, 7, 1, 309, 510, 209, 2, 12, 124, 28, 123, 10, 65, 33, 5, 0, 20, 2, 12, 850, 10, 7, 374, 33, 5, 20, 49, 16531, 4, 1178, 11416, 19, 729, 8, 15, 2000, 2, 17, 892, 2181, 771, 3, 10, 65, 33, 494, 7, 127, 36, 5, 1392, 3, 21, 28, 36, 5, 937, 824, 3, 36, 225, 28, 206, 1, 18390, 8, 15, 2706, 1938, 6, 54, 1, 833, 6, 1, 20, 9, 49, 2, 12, 452, 14335, 51, 6, 62, 14742, 947, 19, 13, 20, 3, 17, 168, 11, 1, 2556, 5743, 7, 99, 1642, 8838, 2, 50, 25, 151, 7, 1392, 3, 10, 8, 236, 243, 33, 589, 45, 19, 893, 55, 66, 2, 83, 81, 1, 16057, 6, 99, 303, 789, 513, 3, 1, 20, 16, 494, 17, 237, 17, 119, 4, 234, 76, 1989, 2, 21, 12, 32, 7, 135, 12, 2252, 51, 40, 552, 88, 1, 20, 59, 12, 214, 54, 453, 10, 16, 3792, 4, 14, 12, 16, 28, 171, 7, 33, 2215, 3, 21, 0, 7, 2], 0), ([19, 256, 41, 210, 28, 123, 54, 5, 0, 20, 16, 44, 3, 13, 9, 1, 128, 475, 2, 13, 120, 9, 668, 3, 4, 71, 167, 64, 287, 2, 10, 8, 15, 389, 6, 6889, 1110, 3, 5418, 404, 3, 2534, 3, 220, 2, 2, 2, 25, 400, 10, 35, 21, 5641, 8748, 56, 104, 235, 1054, 3, 4, 13, 20, 9, 39, 64, 778, 40, 1326, 2, 295, 497, 11, 5, 551, 242, 80, 0, 5860, 3, 0, 0, 3, 0, 3, 9393, 0, 3, 0, 0, 2, 2, 2, 21, 10, 9, 1, 0, 41, 19919, 295, 18, 31, 10568, 1285, 2, 206, 96, 3, 13, 20, 65, 32, 84, 5, 0, 2, 2, 2, 1, 70, 9, 49, 13185, 2213, 4150, 8977, 2213, 13542, 2213, 122, 2213, 733, 2213, 5306, 2213, 57, 1488, 484, 80, 267, 3, 71, 35, 5641, 8, 15, 9, 5, 495, 242, 27, 37, 4896, 3, 11, 40, 853, 663, 22, 35, 4, 124, 12, 713, 14, 10, 9, 3570, 164, 53], 1), ([13, 20, 16, 286, 11, 14, 10, 159, 8, 26, 127, 1, 785, 856, 2013, 14, 12, 8, 148, 334, 7, 317, 2, 21, 14, 158, 8, 26, 657, 1, 199, 14, 10, 458, 1511, 5, 741, 2, 12, 8, 148, 254, 14, 45, 30, 115, 856, 339, 41, 30, 47, 686, 7, 72, 521, 2125, 27, 278, 3, 240, 328, 856, 109, 30, 5059, 114, 3, 4, 59, 38, 30, 1, 109, 30, 606, 28, 1404, 1513, 2, 21, 3, 93, 283, 65, 10, 32, 84, 19, 1, 728, 7, 165, 234, 5, 70, 18, 5, 470, 3, 792, 4, 137, 2, 46, 93, 49, 5, 70, 14, 16, 2565, 2, 45, 71, 158, 8, 26, 320, 7, 33, 5, 222, 7, 13, 22, 3, 4, 63, 162, 10, 9, 5, 486, 416, 22, 3, 14, 9, 140, 64, 1284, 19, 1, 566, 6, 70, 46, 120, 2], 0), ([8934, 3093, 9, 60, 189, 4, 9, 0, 4796, 36, 219, 2, 14, 8, 15, 10, 3, 1450, 2, 1, 3701, 289, 19, 63, 1079, 724, 7, 111, 13, 22, 46, 28, 2, 138, 1795, 15160, 815, 1273, 30, 531, 432, 39, 8232, 6, 73, 60, 0, 24, 0, 13224, 3, 202, 1113, 3, 0, 0, 524, 2, 23, 2, 13, 34, 213, 8, 26, 2, 1, 234, 9, 86, 3, 1, 119, 9, 86, 3, 1, 453, 9, 86, 3, 4, 1, 323, 6, 272, 5, 6213, 3468, 755, 949, 134, 9, 5247, 86, 2, 1, 417, 3, 15533, 36, 5, 396, 220, 3, 9, 11882, 5427, 2, 12, 9571, 380, 5837, 13, 34, 44, 1, 3281, 2], 0), ([12, 16, 4163, 149, 62, 731, 3080, 3, 11449, 1977, 6298, 3, 59, 12, 214, 5, 20, 14, 102, 62, 1663, 0, 2, 12, 32, 84, 1332, 7, 72, 13, 20, 0, 8, 15, 84, 136, 6087, 161, 240, 12, 214, 10, 24, 0, 1196, 190, 0, 23, 2, 12, 74, 14591, 5, 57, 115, 6, 1, 0, 11, 836, 2, 62, 507, 3, 41, 9, 607, 3, 4, 12, 296, 10, 2, 29, 4242, 18, 77, 14, 16884, 16, 28, 338, 3, 4, 1, 128, 103, 19, 77, 7, 1646, 10, 16, 14, 29, 159, 8, 26, 122, 858, 2, 29, 3046, 14, 2, 10, 16, 485, 14, 12, 140, 14591, 55, 6, 1, 716, 3, 108, 35, 38, 74, 1647, 11, 62, 424, 19, 6087, 0, 778, 38, 74, 7, 32, 55, 0, 3, 6502, 53, 10, 8, 15, 5, 57, 542, 8, 15, 20, 3, 18, 12718, 9766, 11, 418, 6, 1151, 49, 54, 393, 74, 7, 151, 149, 14, 76, 28, 0, 11, 1, 0, 2, 13, 9, 54, 37, 1, 393, 3129, 2878, 24, 565, 19, 5, 180, 1975, 656, 23, 3, 4, 142, 75, 349, 7, 0, 106, 3, 261, 98, 58, 6367, 19, 393, 138, 490, 3, 10, 158, 8, 26, 384, 14, 5038, 159, 8, 26, 0, 63, 140, 158, 8, 26, 2, 12, 517, 1, 838, 2, 10, 293, 8, 26, 913, 3, 64, 2, 12, 91, 8, 26, 110, 91, 14272, 2829, 5, 0, 27, 13, 20, 2, 45, 8, 15, 5, 172, 171, 19, 10, 3, 162, 2, 605, 26, 305, 117, 603, 35, 24, 12, 71, 44, 96, 35, 23, 574, 148, 130, 108, 2, 1, 0, 521, 30, 1007, 2, 25, 244, 735, 19, 858, 3, 4, 4271, 19, 96, 2, 100, 9713, 810, 9, 2476, 11, 1, 0, 181, 61, 8, 15, 0, 8, 15, 17, 50, 48, 511, 30, 0, 35, 12, 8, 148, 5, 642, 336, 6, 5507, 3, 0, 3, 4, 998, 24, 4, 284, 954, 7, 0, 35, 23, 3, 4, 12, 0, 13, 342, 18, 153, 247, 6, 106, 2, 414, 3, 29, 3055, 11, 1, 975, 3, 21, 28, 95, 6, 1521, 2, 29, 5044, 95, 29, 8892, 1, 753, 11, 0, 8, 241, 84, 2868, 7, 96, 37, 342, 2, 12, 110, 10, 8, 15, 5, 57, 20, 35, 50, 25, 32, 359, 3, 1272, 67, 5, 2415, 965, 2, 50, 25, 562, 7, 6733, 5, 0, 965, 3, 281, 77, 123, 121, 35, 3925, 425, 10, 35, 23, 4254], 1), ([1, 0, 409, 3271, 6, 1, 216, 355, 1952, 209, 9, 40, 230, 3, 531, 6936, 4055, 14, 1590, 1, 127, 16, 140, 5357, 99, 109, 63, 36, 13, 222, 11, 1, 917, 819, 162, 2880, 3, 8, 37, 260, 0, 8, 52, 99, 395, 4, 456, 5, 4951, 3, 1490, 244, 7, 10, 2, 3606, 3, 3731, 3, 4, 6272, 13307, 192, 7, 5, 1266, 3, 5643, 38, 30, 6692, 11, 1, 2017, 6, 66, 7, 575, 46, 36, 225, 205, 55, 1704, 7, 863, 11972, 9, 45, 3, 240, 1, 1266, 8, 15, 2361, 9, 675, 7, 6338, 709, 612, 2, 21, 17, 10, 497, 51, 3, 1, 85, 45, 30, 37, 108, 1980, 6, 1, 1266, 8, 15, 2003, 3, 4, 769, 5, 247, 6, 66, 1968, 2879, 3, 32, 3951, 88, 1, 509, 2, 249, 397, 52, 84, 499, 7, 2172, 1, 66, 4, 273, 11, 1, 509, 121, 29, 46, 61, 65, 44, 7, 426, 36, 5, 8, 3080, 3, 8, 520, 39, 40, 3532, 134, 750, 442, 2, 17399, 2, 17399, 6881, 1, 282, 339, 30, 284, 19, 5, 509, 7, 426, 11, 17, 78, 3, 4, 279, 98, 908, 8339, 42, 69, 38, 56, 2172, 27, 764, 2, 45, 9, 55, 246, 874, 2833, 36, 1, 378, 6, 1, 409, 3, 18, 404, 44, 0, 121, 124, 38, 151, 53, 0, 6569, 38, 468, 7, 2, 1, 11937, 101, 33, 13341, 67, 246, 723, 3, 21, 19, 120, 4485, 3, 10, 213, 8, 26, 3, 4, 514, 3606, 676, 314, 7135, 152, 7, 5, 815, 6066, 7723, 1062, 1804, 3, 142, 3731, 4, 6272, 30, 1354, 7, 40, 2031, 646, 3, 0, 161, 11, 1, 1266, 8, 15, 509, 2, 42, 133, 3, 1, 290, 1083, 9, 27, 3731, 4, 31, 620, 18, 5, 253, 14900, 7, 13, 66, 39, 5, 0, 17, 3767, 2, 3731, 801, 119, 3253, 909, 3, 726, 2650, 1849, 6272, 4, 849, 4554, 19, 0, 3, 1, 253, 2, 29, 803, 2499, 14, 29, 9, 0, 152, 7, 1, 5382, 909, 1085, 6, 31, 12478, 27, 13246, 3, 0, 161, 601, 2, 3606, 167, 31, 103, 152, 7, 1, 3080, 97, 3, 4, 428, 5243, 442, 2, 17399, 38, 91, 8, 26, 4393, 11, 31, 1266, 8, 15, 480, 2, 3731, 4, 6272, 993, 47, 163, 10, 8, 15, 108, 538, 3, 1198, 0, 510, 1, 3862, 18276, 1, 282, 67, 4, 12793, 248, 17, 1, 2361, 8453, 3, 5245, 1, 1266, 2, 1, 3327, 207, 3731, 4, 0, 1624, 13, 409, 8, 15, 94, 876, 395, 3, 162, 3606, 8, 15, 1137, 88, 1, 8, 610, 8, 509, 9, 1142, 2, 37, 11, 37, 3, 5, 60, 551, 15600, 355, 1952, 5013, 2], 1), ([12, 200, 13, 20, 16, 71, 57, 2, 10, 640, 67, 726, 1, 764, 11, 1, 137, 14, 15021, 150, 6, 812, 54, 61, 74, 2, 15021, 16, 1133, 6, 48, 643, 1240, 3, 41, 16, 58, 3676, 49, 170, 100, 48, 2, 29, 16, 43, 88, 31, 170, 14, 29, 2403, 73, 8912, 2, 29, 16, 92, 60, 3846, 2, 61, 412, 8, 26, 198, 10, 1487, 43, 61, 309, 7, 72, 50, 29, 65, 677, 48, 2, 1, 20, 279, 14, 29, 4031, 48, 3, 29, 63, 516, 7, 104, 67, 19, 1, 318, 29, 5162, 67, 2, 29, 266, 7, 48, 4, 516, 7, 720, 48, 352, 2, 61, 640, 67, 1428, 166, 134, 750, 0, 2, 29, 472, 44, 1, 134, 61, 218, 468, 3428, 4, 7440, 48, 2, 11, 1, 137, 61, 10551, 17622, 39, 59, 61, 169, 36, 0, 3344, 4, 1, 103, 29, 281, 31, 12127, 9285, 762, 27, 1, 2051, 1, 103, 1240, 124, 1, 173, 1948, 154, 2, 1240, 640, 139, 261, 734, 6, 301, 4, 7062, 314, 67, 2, 15021, 1225, 11, 1, 137, 14, 61, 150, 6, 812, 48, 643, 95, 1548, 37, 61, 71, 468, 4, 29, 124, 2850, 2], 1), ([12, 8, 144, 114, 49, 5, 363, 2564, 6, 1, 486, 416, 4189, 3284, 872, 2747, 14, 3563, 0, 102, 11, 1, 4461, 3, 4, 12, 238, 4609, 2588, 36, 93, 337, 40, 297, 29, 16, 2, 93, 124, 29, 129, 82, 7, 33, 5, 949, 2474, 297, 53, 38, 135, 14, 29, 101, 1311, 189, 78, 152, 11, 1, 14644, 3, 21, 29, 158, 8, 26, 90, 235, 602, 1229, 11, 138, 315, 467, 112, 2, 140, 3, 277, 29, 193, 1, 822, 95, 29, 16, 202, 4, 101, 1311, 2, 4707, 17123, 213, 8, 26, 17, 86, 17, 55, 6, 1, 83, 3563, 0, 112, 12, 8, 144, 114, 3, 21, 10, 140, 213, 8, 26, 79, 2, 55, 6, 1, 83, 109, 5221, 7, 96, 5, 371, 6, 219, 17, 5, 196, 16841, 3, 121, 10, 712, 7, 77, 14, 29, 8, 15, 47, 17, 178, 17, 1, 83, 924, 160, 2, 4, 50, 14, 8, 15, 28, 663, 194, 3, 45, 8, 15, 5, 246, 2760, 234, 454, 11, 13, 22, 2, 36, 34, 222, 3, 34, 6, 1, 109, 167, 5, 7580, 49, 93, 1, 4707, 74, 11025, 1, 17098, 6, 5, 78, 3, 146, 14, 1885, 8, 26, 604, 255, 2, 47, 5, 371, 6, 232, 315, 3, 75, 100, 72, 14, 836, 141, 2, 64, 3, 10, 293, 8, 26, 5, 2769, 2, 36, 97, 12, 200, 383, 14, 59, 0, 112, 16, 402, 1, 274, 4006, 3, 38, 227, 32, 10771, 117, 6, 1, 9217, 2, 21, 11, 153, 490, 22, 9217, 4565, 8914, 2442, 232, 6, 22, 3, 4, 1, 228, 14086, 68, 537, 49, 430, 46, 607, 232, 5326, 2, 267, 324, 16, 11, 5, 3450, 622, 2, 43, 3, 10, 291, 44, 14, 16, 5, 1958, 2550, 454, 11, 1, 216, 22, 2, 277, 14, 8, 15, 34, 289, 143, 10388, 1308, 159, 8, 26, 239, 60, 211, 2], 0), ([50, 25, 44, 106, 14, 87, 104, 25, 110, 3, 13, 9, 429, 34, 6, 1, 57, 656, 2, 12, 218, 425, 605, 1986, 4, 7863, 2, 38, 32, 218, 102, 0, 106, 2, 0, 0, 52, 532, 8986, 2342, 2, 1, 20, 1672, 11, 1423, 4, 4063, 6, 1, 343, 4, 182, 2, 1575, 3913, 4, 1726, 3885, 203, 1593, 885, 119, 1940, 2, 10, 969, 77, 3, 12, 124, 28, 198, 62, 511, 248, 42, 1, 278, 302, 1, 20, 2, 27, 1, 83, 568, 3, 50, 25, 30, 1332, 19, 5, 312, 882, 1025, 20, 3, 13, 9, 28, 19, 25, 2, 1, 70, 9, 116, 3324, 5, 233, 3, 69, 56, 33, 5, 233, 356, 3, 21, 92, 500, 17, 5, 103, 6, 1361, 67, 1, 775, 6, 1, 20, 2, 362, 13, 22, 3, 12, 124, 2, 2], 1), ([210, 3049, 12796, 37, 2154, 151, 7, 1761, 9, 5, 89, 20, 2, 12, 214, 10, 11, 5182, 59, 12, 16, 117, 161, 178, 2, 12, 159, 8, 26, 382, 10, 14, 78, 21, 17, 12, 214, 10, 58, 4, 58, 219, 12, 672, 7, 122, 10, 2, 12, 122, 1, 716, 11, 13, 20, 2, 62, 512, 716, 30, 281, 77, 33, 758, 4, 514, 25, 8, 236, 217, 352, 2, 153, 30, 316, 716, 2, 1, 68, 154, 14, 8118, 77, 49, 1, 20, 9, 1274, 0, 2, 59, 12, 16, 126, 62, 782, 412, 8, 26, 63, 111, 14, 181, 2, 83, 81, 14, 13, 20, 9, 386, 2, 62, 512, 181, 6, 1, 20, 9, 59, 16621, 4, 1274, 30, 1711, 190, 1761, 2, 1761, 9, 316, 11, 1, 20, 4, 1, 17490, 30, 60, 1044, 2, 12, 92, 122, 11580, 3, 11, 199, 12, 32, 430, 0, 6, 62, 204, 2, 38, 30, 43, 1007, 2, 456, 12, 122, 13, 20, 4, 1505, 295, 150, 72, 10, 2, 12, 205, 13, 20, 1773, 419, 2], 1), ([12, 468, 7, 44, 13, 20, 2, 12, 71, 3, 71, 124, 2, 12, 16, 43, 2273, 59, 12, 214, 1, 4122, 3, 69, 1715, 1, 618, 51, 6, 77, 2, 21, 59, 12, 214, 1, 787, 22, 3, 12, 16, 658, 2, 1, 119, 9, 4590, 3, 4, 1, 1028, 36, 220, 30, 10100, 51, 6, 273, 4, 874, 2, 4, 12, 8, 148, 735, 3, 21, 5, 431, 116, 4497, 39, 5, 7478, 11, 5, 0, 9, 28, 164, 46, 684, 3, 10, 8, 15, 47, 379, 2, 12, 2062, 67, 27, 1, 3827, 1917, 1855, 3, 43, 12, 123, 186, 5, 233, 49, 10, 2, 5, 172, 6, 2163, 11, 1, 20, 30, 208, 27, 2320, 3, 21, 13, 22, 150, 32, 84, 79, 132, 2, 1, 440, 3122, 1031, 141, 3, 19, 475, 3, 6270, 49, 3533, 232, 3, 1453, 168, 7, 1, 120, 46, 1, 70, 3, 4, 150, 32, 84, 309, 27, 1, 2312, 654, 2051, 2, 5, 58, 6117, 3247, 227, 32, 84, 499, 7, 82, 5, 551, 22, 51, 6, 13, 927, 2, 577, 382, 3, 12, 8, 148, 28, 11, 105, 103, 3, 3285, 46, 773, 563, 18, 1, 83, 3827, 1917, 20, 3, 4, 12, 8, 148, 28, 262, 7, 1387, 13, 804, 10471, 2, 12, 8, 148, 47, 1003, 10, 44, 10, 9, 2], 0), ([0, 16, 40, 1462, 20, 3, 4, 12, 8, 148, 735, 14, 12, 296, 10, 2, 44, 6929, 0, 8, 15, 0, 3, 10, 2525, 635, 42, 337, 0, 566, 6, 10, 2, 10, 9, 17, 50, 1, 175, 16, 43, 11, 122, 18, 31, 170, 14, 310, 6, 2312, 1, 20, 192, 7, 5, 1012, 14, 812, 131, 689, 3, 29, 1243, 37, 6, 1, 852, 29, 74, 326, 300, 2, 45, 30, 277, 117, 598, 145, 11, 1, 440, 20, 2, 34, 6, 98, 9, 12465, 59, 15975, 9, 0, 4, 1, 375, 526, 8528, 190, 96, 2, 14, 16, 0, 777, 3, 75, 193, 10, 35, 818, 27, 577, 35, 1, 375, 391, 8, 26, 580, 8528, 190, 13, 221, 35, 45, 8, 15, 277, 34, 46, 117, 58, 598, 145, 14, 12, 2403, 49, 11, 13, 6421, 6, 7098, 3, 21, 1, 239, 8141, 141, 9, 28, 34, 6, 98, 35, 10, 210, 33, 95, 1018, 11, 1, 930, 0, 145, 3, 0, 213, 8, 26, 0, 47, 95, 1, 175, 412, 8, 26, 174, 5, 15190, 41, 660, 11041, 17393, 0, 158, 8, 26, 205, 96, 1, 208, 7, 151, 1479, 4, 104, 67, 12072, 6, 1, 2867, 555, 18, 1499, 4651, 6, 2867, 15382, 35, 4, 37, 42, 1, 173, 2463, 3, 210, 12, 714, 2, 1, 175, 150, 834, 42, 1, 321, 1103, 4888, 0, 3258, 20, 1, 6189, 35, 12, 1251, 214, 1, 2054, 8512, 141, 17, 5, 2988, 1473, 7, 1, 1080, 0, 6, 1, 892, 1852, 41, 76, 6801, 39, 1, 548, 11, 1, 1184, 0, 6, 73, 1108, 161, 2, 1, 831, 121, 3010, 9, 12323, 39, 40, 18260, 4, 4208, 9715, 6, 1, 1228, 8894, 7, 382, 191, 7, 33, 5, 740, 1127, 11, 1, 906, 1993, 3, 675, 7, 1, 590, 2249, 6, 0, 4, 12535, 41, 30, 5, 1026, 5426, 2, 1, 20, 2310, 6, 0, 4, 15755, 134, 0, 30, 117, 83, 1129, 2395, 19206, 0, 12, 91, 8, 26, 382, 2, 12, 47, 91, 8, 26, 382, 143, 85, 41, 91, 8, 26, 1048, 1, 1109, 6, 1, 20, 174, 2656, 1638, 808, 11, 13, 2, 277, 1, 252, 16, 415, 11, 1, 3734, 2, 1, 285, 6, 1, 0, 69, 4479, 259, 5, 172, 3, 9, 5, 286, 2580, 6, 1, 2389, 2365, 207, 0, 4, 15975, 2, 21, 14, 1855, 9, 28, 1, 94, 1056, 11, 906, 12214, 3, 4, 10, 9, 43, 7070, 42, 2354, 1386, 3, 14, 107, 0, 232, 6, 136, 259, 1019, 2986, 3, 41, 2117, 93, 1, 175, 496, 7, 0, 1, 70, 35, 53, 175, 0, 0, 6, 939, 3898, 307, 14, 45, 16, 40, 3822, 5763, 754, 176, 906, 934, 7, 2681, 906, 1169, 3, 4, 2320, 73, 106, 19, 1843, 22, 0, 622, 7, 3313, 4732, 1961, 1984, 2, 13, 500, 3, 264, 10, 158, 8, 26, 104, 287, 3, 95, 1, 222, 6, 40, 1961, 20, 4617, 9, 7, 4145, 7, 1, 182, 54, 247, 6, 106, 30, 116, 102, 11, 83, 0, 247, 6, 106, 85, 111, 11, 153, 2877, 2, 435, 28, 0, 4, 1, 44, 2], 0), ([12, 65, 44, 7, 1298, 25, 19, 742, 77, 5, 561, 7, 33, 34, 6, 1, 97, 7, 165, 611, 1, 22, 2, 10, 71, 130, 6184, 25, 2, 313, 767, 130, 803, 82, 7, 72, 1, 705, 4, 104, 5, 125, 19, 314, 248, 42, 116, 3390, 7, 31, 5869, 0, 5227, 2, 12, 811, 45, 212, 33, 43, 115, 2043, 138, 490, 11, 1, 173, 2571, 24, 269, 18, 393, 1198, 352, 924, 21, 12, 567, 8, 26, 135, 12064, 23, 18, 60, 608, 797, 41, 707, 8, 26, 71, 193, 466, 6, 73, 204, 4, 41, 104, 73, 466, 5, 4661, 2, 12, 110, 13, 22, 150, 407, 32, 5, 7248, 304, 2, 12, 65, 92, 135, 14, 1, 83, 160, 259, 495, 515, 17, 78, 2, 10, 9, 147, 5, 849, 22, 4, 60, 703, 2], 1), ([205, 13, 20, 5, 1016, 35, 99, 276, 36, 225, 5, 976, 35, 14, 126, 257, 9, 5, 57, 297, 4, 61, 8, 15, 1007, 3, 108, 2, 1240, 6318, 9, 5, 759, 1189, 2, 25, 56, 8, 26, 347, 21, 244, 57, 36, 1, 137, 35, 12, 637, 45, 76, 58, 7610, 279, 44, 13, 3, 14, 25, 56, 362, 18, 131, 359, 35], 1), ([1, 89, 154, 49, 6476, 3, 0, 1170, 8, 15, 2264, 22, 3, 9, 14, 10, 8, 15, 1, 0, 2, 55, 6, 25, 210, 198, 14, 17, 5, 5374, 3, 21, 11, 623, 10, 8, 15, 5, 202, 905, 2, 1170, 311, 1, 4367, 6, 15871, 579, 3, 4, 17, 78, 1, 19110, 122, 70, 207, 0, 4, 15199, 2, 75, 72, 1, 4608, 6, 203, 6, 1, 0, 0, 116, 5, 1889, 41, 13696, 5, 2977, 2577, 14, 3, 14178, 7, 96, 3, 497, 96, 88, 5, 10783, 21, 0, 1168, 3, 4, 15199, 18, 48, 421, 4, 2349, 599, 3, 1, 1657, 9, 533, 39, 0, 17, 11, 5, 60, 590, 2534, 2, 45, 8, 15, 168, 1916, 0, 46, 5480, 18, 1, 70, 4, 109, 36, 105, 222, 3, 4, 1, 9165, 270, 2496, 42, 2069, 405, 27, 24, 7585, 3, 19, 475, 3, 9, 114, 17, 5, 19666, 6, 2610, 240, 29, 2100, 42, 1, 354, 1162, 7, 31, 15871, 3, 63, 17, 29, 47, 56, 8, 26, 33, 14, 4, 708, 10, 23, 27, 408, 6, 153, 49, 57, 1488, 484, 3, 3727, 10, 67, 88, 166, 1400, 13813, 2, 14, 6476, 92, 5746, 67, 7, 1, 1140, 1267, 6, 7494, 14, 1170, 52, 4770, 18, 8183, 3, 753, 4314, 4, 1, 2148, 12, 8, 148, 5, 6102, 21, 14, 8, 15, 588, 3, 150, 33, 578, 17, 5, 361, 2, 6476, 9, 5, 22, 18, 5, 14467, 1302, 4, 1147, 5823, 109, 3, 4, 9, 326, 4, 1955, 18, 40, 839, 19, 5, 1181, 14, 9, 181, 16424, 3, 181, 0, 3, 181, 970, 4, 6269, 11854, 2, 4, 10, 158, 8, 26, 218, 1777, 0, 17, 146, 6, 5, 584, 201, 20, 5753, 24, 162, 17, 5, 201, 20, 1170, 52, 58, 81, 31, 1467, 6, 684, 145, 23, 2, 10, 8, 15, 58, 5895, 7, 1, 20, 784, 463, 69, 118, 1067, 1, 680, 1168, 21, 281, 25, 123, 10, 16, 3, 4, 1697, 10, 18, 7352, 4, 5, 247, 6, 16270, 1413, 6, 689, 3, 4, 14, 1, 3422, 387, 4, 99, 882, 27, 5, 397, 8, 15, 2061, 9, 383, 7346, 81, 1, 3722, 46, 10125, 2, 288, 25, 72, 34, 1168, 2011, 67, 71, 331, 46, 9970, 99, 5635, 3, 25, 8, 144, 114, 3377, 8, 37, 2, 6476, 92, 52, 5, 3460, 287, 6, 465, 3, 79, 44, 8183, 3, 68, 133, 18, 5, 4844, 24, 4539, 1315, 23, 1059, 7, 7762, 1147, 1587, 1528, 6, 116, 2, 40, 475, 6, 13, 56, 33, 258, 18, 1, 1889, 8, 15, 0, 6, 8374, 139, 6, 547, 42, 85, 11, 0, 39, 661, 73, 547, 5826, 4, 0, 27, 10, 27, 1, 2051, 2, 46, 1, 1380, 11, 69, 15199, 1669, 27, 7, 34, 17987, 6, 1992, 39, 1845, 48, 421, 1060, 3, 63, 17, 61, 8, 15, 74, 146, 44, 5, 5758, 4, 56, 68, 8419, 48, 511, 4, 5445, 34, 3889, 17, 5, 778, 6, 15726, 7, 1, 0, 41, 8, 144, 814, 1452, 4, 201, 7, 48, 352, 2, 21, 138, 395, 30, 44, 13943, 27, 1, 4424, 7, 104, 10, 5, 586, 549, 2, 54, 167, 6476, 239, 11, 1, 343, 9, 93, 788, 217, 300, 3, 6, 471, 4, 8786, 7207, 3, 6, 5, 0, 287, 6, 16706, 24, 12, 269, 446, 1, 4285, 207, 0, 4, 1, 83, 1889, 41, 423, 31, 2590, 67, 19, 0, 21, 71, 496, 7, 33, 5, 1168, 108, 23, 3, 4, 6, 1, 3006, 1, 145, 121, 1, 1889, 428, 423, 11, 7, 15199, 30, 1034, 11, 73, 1012, 4, 1793, 6, 638, 4, 93, 157, 10, 226, 2, 28, 11, 5, 8190, 1380, 3, 21, 11, 1, 287, 6, 138, 109, 8, 766, 4, 992, 3, 69, 158, 8, 26, 239, 211, 136, 1, 5265, 6, 1, 70, 2, 50, 10, 8, 15, 28, 17, 89, 17, 8183, 3, 10, 8, 15, 28, 146, 7, 0, 49, 2, 28, 37, 112, 0, 1170, 4902, 87, 2106, 1, 10061, 6, 31, 887, 24, 4, 3, 36, 1, 225, 3, 29, 8, 236, 218, 33, 587, 17, 1, 134, 41, 532, 14, 20, 23, 2, 21, 0, 9, 40, 327, 1618, 7, 31, 15670, 3, 4, 7, 1, 595, 7472, 6, 1168, 106, 11, 786, 2, 1, 1893, 9, 5520, 4, 1180, 4, 63, 1692, 24, 4, 54, 5, 478, 654, 6, 8, 6898, 8, 1, 109, 426, 11, 35, 23, 3, 1, 465, 9, 463, 4, 570, 3, 1, 119, 9, 1501, 4, 0, 269, 42, 1261, 13211, 42, 616, 0, 4, 1, 2498, 484, 4, 1723, 8730, 42, 2497, 0, 3, 4, 1, 285, 3, 59, 10, 130, 428, 82, 45, 3, 9, 34, 6, 153, 374, 885, 0, 4258, 25, 8, 236, 33, 687, 49, 19, 161, 3, 11, 5, 57, 103, 2, 11, 5, 935, 207, 6476, 4, 4836, 3, 6476, 311, 1, 0, 11, 1, 97, 2203, 2, 207, 281, 1, 208, 34, 11, 46, 784, 463, 3, 10, 8, 15, 12820, 7, 673, 2, 1233, 2, 3853], 1), ([12, 32, 111, 13, 20, 224, 177, 318, 14, 9, 16, 27, 3147, 2, 10, 9, 6, 62, 653, 14, 10, 101, 32, 84, 1134, 11, 1, 824, 3, 3646, 1, 9089, 949, 67, 7, 10, 16, 408, 2554, 2, 12, 16, 1560, 1500, 18, 1, 543, 41, 259, 8177, 2, 61, 9, 40, 1348, 543, 2, 6, 268, 3, 62, 512, 297, 9, 0, 1791, 2, 29, 9, 5, 60, 4094, 297, 4, 29, 981, 79, 58, 1076, 81, 29, 52, 1963, 2, 0, 3095, 124, 90, 5, 338, 6879, 27, 96, 3, 742, 96, 55, 6, 31, 675, 0, 2, 0, 1289, 3, 506, 77, 5, 1725, 6, 1, 569, 62, 797, 357, 7, 377, 183, 2, 38, 76, 42, 5, 780, 525, 7448, 3, 7569, 76, 38, 74, 7, 32, 73, 250, 11, 1, 0, 18669, 4, 147, 2, 12, 92, 44, 7, 135, 14, 17818, 11197, 9, 5, 1034, 297, 2, 29, 52, 258, 31, 2502, 2, 12, 8, 144, 114, 96, 11, 441, 106, 121, 29, 52, 259, 5, 2373, 6, 603, 3, 42, 8379, 7, 828, 4, 29, 52, 1, 493, 35, 456, 3, 577, 270, 0, 4169, 27, 399, 19, 2415, 2], 1), ([0, 8337, 3, 2581, 6544, 3, 728, 3, 4, 16095, 3, 41, 1963, 1, 18803, 4822, 19, 4701, 11, 4205, 3, 307, 49, 10736, 10736, 1045, 1, 89, 2934, 6, 1122, 0, 12708, 39, 0, 2, 31, 2798, 2939, 11, 661, 579, 89, 988, 4, 262, 7, 426, 11122, 2, 5, 4698, 4, 3703, 1889, 24, 4502, 0, 11, 5, 386, 242, 23, 1028, 7, 426, 39, 1, 7917, 6, 5518, 21, 9, 188, 51, 6, 31, 1392, 19, 3184, 5, 731, 3645, 39, 742, 48, 5, 7464, 107, 61, 74, 2292, 5, 600, 2, 10736, 5567, 1, 630, 9051, 6, 1, 487, 6, 1, 0, 2885, 3, 3451, 347, 7, 337, 4, 6317, 19, 1649, 2, 31, 117, 6820, 3, 5, 3930, 3645, 0, 4, 48, 782, 0, 41, 9, 5, 1200, 1521, 2750, 2998, 19, 122, 3, 1163, 96, 6137, 21, 10, 130, 28, 3479, 96, 42, 3513, 4, 9977, 42, 203, 1, 1392, 4, 1, 85, 29, 899, 27, 1, 1234, 2, 29, 640, 67, 3882, 11, 1186, 4, 801, 7, 870, 31, 1806, 19, 28, 33, 499, 7, 3325, 31, 15948, 2, 6095, 701, 1, 70, 11, 5, 1380, 6, 5, 1469, 10744, 6837, 4, 11726, 7855, 6571, 4, 3256, 19, 1, 290, 113, 4, 590, 2551, 6, 11535, 2069, 4, 9163, 2, 1, 22, 9, 584, 4, 3301, 17, 78, 17, 316, 3, 2897, 3, 4, 5420, 2, 12, 1163, 6095, 34, 6, 1, 128, 1052, 129, 2, 12, 8, 144, 114, 2060, 6, 31, 112, 4, 38, 37, 4393, 7, 1, 286, 8339, 6, 31, 125, 21, 38, 32, 11, 1127, 31, 1376, 1278, 3, 1, 4480, 2133, 6, 2325, 1709, 4, 7828, 3, 31, 3441, 3, 31, 0, 343, 3, 31, 287, 6, 465, 3, 4, 31, 463, 4, 4126, 5249, 2, 18, 89, 1631, 12, 238, 2678, 126, 114, 4, 224, 1659, 21, 2444, 10377, 4, 1325, 9659, 0, 10736, 7, 1, 1087, 6, 62, 512, 112, 2], 1), ([12, 16, 47, 1975, 12, 258, 13, 20, 2, 12, 8, 144, 84, 661, 2906, 6, 13713, 8, 15, 7045, 2, 1351, 5355, 3, 95, 12, 111, 5, 172, 6, 106, 24, 4, 60, 5059, 111, 647, 23, 2, 12, 10199, 42, 331, 369, 11, 4801, 80, 43, 12, 32, 245, 4, 115, 351, 41, 2981, 11, 2461, 2, 13, 20, 71, 9981, 1, 1452, 12, 8, 144, 114, 11, 62, 351, 11, 1827, 18, 54, 604, 7, 98, 136, 45, 2, 12, 637, 58, 85, 65, 72, 13, 20, 80, 12, 110, 277, 58, 85, 101, 382, 54, 604, 7, 260, 2461, 11105, 39, 155, 138, 327, 160, 11, 1, 1090, 6, 34, 245, 6591, 39, 14, 322, 2, 1, 70, 452, 813, 80, 10, 213, 8, 26, 17026, 3, 21, 102, 77, 244, 54, 38, 76, 171, 149, 2, 12, 110, 10, 1552, 14, 1576, 4793, 4, 9746, 8284, 76, 394, 340, 4, 507, 80, 10, 102, 73, 620, 58, 829, 3], 1), ([12, 1520, 13, 152, 11, 1, 950, 8, 15, 4, 1131, 56, 8, 26, 392, 235, 3029, 49, 1, 20, 80, 68, 14, 10, 9, 1, 252, 20, 12, 32, 129, 114, 2, 13, 213, 8, 26, 34, 6, 153, 10, 16, 43, 86, 3, 10, 16, 164, 2, 13, 213, 8, 26, 34, 6, 153, 10, 16, 43, 2068, 3, 10, 875, 25, 18, 5, 86, 554, 106, 2, 10, 293, 8, 26, 63, 34, 6, 153, 54, 1, 2248, 16, 14, 53, 106, 2, 12, 56, 8, 26, 2179, 1, 242, 6, 1, 160, 3, 21, 10, 16, 843, 326, 3, 1, 70, 16, 3887, 3, 4, 10, 74, 64, 0, 445, 2, 59, 10, 16, 136, 3, 12, 16, 1633, 14, 12, 74, 960, 1, 66, 2, 12, 8, 144, 114, 958, 6, 106, 12, 159, 8, 26, 382, 95, 6, 6866, 6408, 3, 4131, 2589, 10558, 3, 21, 10, 16, 747, 14, 153, 106, 74, 55, 6, 153, 19979, 2, 1, 11576, 52, 650, 2, 12, 165, 0, 28, 261, 5, 867, 27, 13, 434, 19, 1119, 14, 294, 210, 111, 10, 51, 6, 3441, 3, 21, 12, 238, 5139, 7, 3030, 256, 41, 11761, 22, 7, 1892, 13, 20, 2], 0), ([14520, 526, 11, 9934, 11194, 15095, 24, 291, 58, 44, 5, 5528, 1234, 7, 77, 23, 121, 12484, 2307, 0, 24, 4053, 0, 23, 195, 31, 507, 767, 24, 1158, 12804, 23, 30, 27, 40, 5474, 2, 2307, 1225, 14, 2189, 6090, 3552, 76, 11, 199, 13203, 1172, 10380, 195, 29, 9, 27, 5, 1814, 7, 3313, 2841, 14, 1178, 0, 32, 6777, 688, 3, 142, 11, 288, 147, 2220, 29, 2262, 5, 681, 420, 1599, 69, 29, 4092, 11, 31, 0, 195, 311, 152, 352, 18, 96, 7, 1, 420, 321, 525, 6, 0, 11, 2641, 2, 2307, 809, 14, 1, 1599, 9, 1, 2841, 29, 52, 84, 284, 19, 195, 19, 55, 6432, 289, 1091, 7, 546, 1, 154, 36, 352, 142, 29, 266, 7, 1467, 31, 3213, 2, 2307, 979, 8, 15, 767, 195, 31, 330, 11797, 24, 0, 1057, 7755, 0, 23, 7, 198, 455, 6, 10, 2, 1888, 2307, 8, 15, 599, 195, 0, 5402, 9915, 0, 24, 4053, 0, 179, 23, 2159, 1, 1599, 43, 31, 599, 391, 8, 26, 104, 105, 301, 51, 6, 10, 3, 21, 31, 2783, 0, 2520, 24, 2740, 0, 23, 52, 5, 555, 18, 10, 195, 8256, 10, 67, 18, 5, 3448, 21, 1, 2032, 515, 2192, 152, 88, 3156, 126, 2214, 14, 8063, 7, 1032, 79, 6116, 2511, 1, 10813, 2, 2, 2, 532, 39, 0, 12627, 13, 52, 7, 33, 34, 6, 1, 252, 201, 220, 8, 15, 129, 3, 50, 28, 1, 252, 2, 1, 234, 39, 5095, 1355, 9, 43, 2161, 10, 8, 15, 1369, 2, 177, 955, 11, 14520, 4031, 1, 2320, 39, 1, 9031, 3757, 3, 12, 760, 1, 1213, 11, 13, 434, 6, 583, 65, 63, 1328, 7, 19965, 2, 45, 47, 213, 8, 26, 235, 63, 2890, 164, 46, 63, 1142, 11, 14520, 17, 237, 17, 12, 8, 148, 1989, 2, 1, 1117, 70, 9, 583, 108, 3, 38, 47, 562, 7, 174, 13, 1599, 628, 190, 18, 64, 1721, 6, 54, 10, 9, 3, 143, 0, 129, 114, 10, 163, 3, 93, 10, 1036, 7, 834, 610, 43, 921, 195, 93, 10, 2202, 7, 1445, 524, 2, 1, 228, 154, 9, 5, 202, 10437, 24, 4596, 23, 3136, 18, 650, 6, 1, 788, 14, 102, 14, 22, 43, 57, 2, 1, 113, 8, 15, 30, 4779, 3, 1, 379, 6104, 24, 1274, 4537, 23, 195, 31, 1226, 24, 2477, 0, 23, 3, 9915, 1717, 40, 2314, 5634, 195, 1138, 14019, 195, 31, 951, 424, 330, 0, 24, 0, 0, 23, 195, 58, 1317, 2, 38, 47, 1050, 12577, 195, 30, 668, 3, 12, 8133, 256, 7, 174, 105, 6, 13, 12346, 1846, 164, 2, 670, 14520, 946, 10298, 36, 116, 344, 5, 220, 46, 201, 195, 640, 67, 116, 3, 414, 25, 8, 144, 4474, 10, 3, 583, 2, 175, 12627, 16, 534, 798, 18, 5, 486, 416, 133, 195, 10, 279, 3, 1, 440, 154, 311, 273, 11, 117, 4738, 3, 1, 1920, 3, 55, 13802, 195, 5, 9004, 5789, 268, 2, 13, 9, 71, 671, 195, 4294, 1893, 2, 1, 312, 299, 27, 1, 14520, 521, 30, 71, 376, 3, 73, 47, 4177, 14, 32, 64, 2302, 889, 294, 139, 375, 2572, 5, 3501, 3434, 7, 10, 8, 15, 2590, 2, 12, 592, 4065, 93, 86, 1, 299, 30, 3, 138, 184, 567, 8, 26, 2311, 62, 607, 345, 178, 5799, 24, 17, 2099, 39, 77, 195, 96, 3972, 35, 23, 2, 932, 7419, 37, 1, 103, 3, 13, 22, 1716, 2, 2451, 1, 22, 9, 388, 3, 86, 312, 299, 3, 854, 365, 1681, 3, 1846, 721, 195, 78, 3, 47, 267, 8, 15, 583, 2, 1, 119, 9, 4339, 149, 195, 149, 3, 42, 1, 1459, 7, 0, 41, 52, 117, 603, 203, 6, 69, 1897, 29, 56, 8, 26, 491, 195, 213, 8, 26, 164, 2, 14520, 9, 5, 71, 86, 22, 14, 946, 11, 267, 14, 10, 516, 7, 2806, 3, 254, 111, 10, 50, 25, 187, 12, 391, 8, 26, 580, 25, 21, 47, 91, 8, 26, 135, 25, 1153, 8, 26, 2613, 35, 62, 1943, 65, 33, 7, 111, 10437, 179, 310, 3, 21, 1, 2077, 9, 6782, 35], 0), ([19, 755, 1338, 3, 12, 413, 1541, 1, 482, 6, 1, 22, 459, 683, 1, 0, 6, 62, 511, 39, 1, 137, 6, 1, 549, 2, 479, 19, 1, 2238, 1374, 3, 12, 56, 68, 1069, 1, 22, 18, 607, 51, 6, 306, 631, 1672, 2, 62, 10589, 7, 450, 6, 6592, 6839, 4, 17546, 18784, 3, 21, 12, 124, 28, 72, 79, 1179, 207, 73, 117, 109, 2, 1, 833, 6, 1, 22, 9, 5, 6760, 189, 253, 3, 18, 17546, 394, 1, 223, 6, 2017, 3, 5, 0, 923, 11219, 2618, 39, 6592, 8, 15, 113, 19742, 7, 8559, 48, 7, 1804, 19, 48, 782, 8, 15, 2238, 2, 5, 755, 620, 3997, 3353, 207, 15690, 4, 7742, 2, 21, 1, 403, 472, 874, 4, 4681, 2, 4, 45, 1153, 8, 26, 194, 755, 6291, 1711, 11, 1, 620, 6, 2017, 4, 19742, 2, 11, 5, 737, 223, 3, 4168, 4680, 16, 5, 6470, 17, 19742, 8, 15, 782, 2, 2022, 4168, 373, 27, 278, 3, 61, 2981, 17, 5, 5023, 8344, 4, 11171, 19, 1, 22, 8, 15, 1566, 2, 383, 50, 4168, 4680, 74, 84, 188, 11, 1, 223, 6, 19742, 3, 1, 22, 227, 32, 74, 58, 0, 2, 21, 17, 10, 682, 51, 3, 310, 6, 4784, 19, 16963, 3, 12, 16, 284, 19, 1, 0, 11, 557, 7, 36, 225, 3906, 14, 13, 22, 74, 55, 1958, 6069, 4, 883, 2], 0), ([13, 702, 537, 1150, 7, 877, 81, 12, 537, 7, 111, 13, 22, 2, 10, 8, 15, 47, 1050, 86, 2, 1, 120, 9, 388, 11, 1835, 7, 1, 251, 279, 2, 10, 9, 1098, 3, 2161, 4, 356, 2, 10, 9, 747, 14, 1, 8477, 1904, 51, 6, 988, 211, 163, 13, 22, 16, 1457, 4297, 2, 764, 150, 335, 13, 17, 40, 475, 6, 28, 1322, 59, 7, 580, 2, 86, 765, 3, 86, 215, 3, 86, 119, 2, 1739, 0, 3, 0, 1179, 2, 5, 22, 14, 158, 8, 26, 123, 54, 10, 9, 3, 102, 206, 105, 122, 7, 55, 1368, 137, 14, 875, 25, 4018, 4, 554, 247, 6, 1633, 14, 43, 79, 301, 16, 960, 2, 1, 8477, 534, 76, 102, 40, 1439, 38, 412, 8, 26, 5555, 3, 46, 383, 73, 13393, 32, 333, 193, 1, 132, 6, 98, 2, 10, 8, 15, 5, 3806, 4479, 3727, 14, 383, 65, 32, 84, 132, 59, 1, 8477, 76, 19600, 4, 58, 1551, 2, 12, 197, 3, 124, 123, 59, 7, 580, 3, 4, 124, 2, 577, 35, 294, 349, 7, 2311, 77, 6, 13, 22, 8, 15, 12212, 790, 35], 0), ([13, 16, 5, 60, 57, 22, 2, 12, 159, 8, 26, 151, 88, 10, 18, 60, 331, 1397, 4, 16, 3904, 758, 39, 1, 119, 3, 1, 234, 3, 4, 1, 1344, 2, 7099, 5438, 16, 745, 4, 43, 16, 1929, 16355, 2, 38, 3774, 1, 127, 2, 21, 1, 83, 160, 259, 73, 515, 1718, 92, 2, 60, 727, 22, 2], 1), ([794, 17749, 8, 15, 1262, 532, 3960, 6, 6155, 883, 4, 1422, 12823, 9, 34, 6, 1, 1287, 8, 15, 128, 529, 397, 8, 15, 755, 106, 2, 1820, 12158, 497, 11, 34, 6, 1, 2016, 8, 15, 94, 1800, 372, 17, 1, 11314, 19764, 41, 2280, 5, 271, 18, 0, 6178, 8807, 2, 1, 403, 24, 4, 45, 9, 0, 6, 10, 23, 9, 531, 7097, 4, 2421, 3362, 3, 21, 13, 3361, 6, 117, 196, 0, 261, 5, 755, 3, 2718, 3, 4, 3703, 2048, 7, 34, 166, 9, 389, 6, 1718, 1142, 3, 1325, 4, 5297, 395, 2], 1), ([78, 3, 64, 3, 28, 71, 2, 99, 28, 71, 5, 57, 20, 3, 21, 99, 28, 17, 86, 17, 12, 200, 10, 16, 171, 7, 33, 2, 12, 71, 159, 8, 26, 244, 3219, 139, 6, 62, 2415, 301, 3, 4, 531, 1548, 37, 25, 56, 979, 19, 2, 1, 120, 9, 588, 3, 168, 495, 46, 176, 3, 1, 119, 9, 189, 86, 3, 21, 1, 188, 9, 189, 2, 1, 980, 9, 4371, 3, 21, 1, 299, 30, 488, 3, 269, 1, 2585, 299, 3, 69, 11, 5, 2585, 20, 3, 9, 5, 189, 202, 454, 2, 45, 16, 5, 952, 551, 1132, 6, 1014, 3, 69, 7, 77, 9, 5, 189, 57, 154, 3, 21, 10, 293, 8, 26, 37, 14, 895, 2, 37, 11, 37, 3, 99, 5, 952, 890, 1607, 7, 399, 20, 3, 28, 1, 252, 22, 12, 8, 144, 129, 114, 4, 50, 25, 8, 185, 1075, 5, 530, 336, 3, 859, 10, 51, 4964, 2, 12, 8, 241, 63, 111, 10, 179, 2, 4101, 199, 19, 201, 12604, 3, 2338, 11896, 24, 1412, 0, 11, 5, 180, 6, 98, 23, 305, 1, 2585, 2], 0), ([12, 468, 7, 2110, 1739, 46, 2446, 2, 12, 446, 1, 1628, 2, 10, 9, 1, 252, 20, 129, 102, 4, 8, 0, 8, 9, 1, 410, 680, 19, 10, 3, 889, 45, 9, 146, 411, 14, 0, 118, 200, 6, 2, 12, 238, 92, 36, 5, 1894, 7, 110, 6, 235, 1577, 194, 7, 5453, 1646, 4463, 3859, 2, 1, 128, 14, 101, 33, 307, 6, 48, 9, 3, 61, 8, 15, 3855, 2], 0), ([90, 25, 460, 3239, 123, 5, 962, 53, 2, 13, 20, 1716, 2, 78, 165, 12, 91, 8, 26, 123, 95, 50, 25, 1677, 639, 7, 33, 0, 39, 0, 2310, 6, 216, 106, 3, 100, 383, 25, 210, 174, 13, 20, 5771, 24, 13, 20, 116, 5, 0, 965, 6, 12, 123, 54, 25, 124, 239, 1414, 23, 2, 1, 97, 1074, 232, 6, 1, 20, 9, 459, 27, 5, 785, 70, 1002, 5, 756, 6, 3028, 598, 2042, 0, 73, 2968, 11, 4471, 4, 116, 521, 39, 10858, 60, 79, 44, 1, 0, 38, 30, 2, 1, 68, 2862, 75, 82, 36, 13, 222, 9, 1, 2717, 7, 69, 1, 175, 4235, 11, 15551, 5, 2194, 287, 6, 5031, 13835, 709, 1, 109, 2, 1, 350, 363, 552, 6, 1, 20, 10430, 5, 126, 7791, 4, 801, 7, 8465, 5, 378, 7, 1, 0, 0, 13700, 3722, 2, 1, 917, 363, 552, 6, 1, 20, 87, 94, 407, 2107, 5, 805, 7, 77, 95, 12, 7601, 10, 139, 163, 12, 101, 999, 0, 535, 88, 529, 14, 1, 20, 210, 140, 32, 146, 230, 4, 216, 309, 7, 127, 2, 17, 237, 17, 1, 70, 9, 1989, 3, 10, 56, 723, 33, 1829, 11, 5, 180, 404, 2, 5, 756, 6, 2042, 151, 7, 4471, 27, 2968, 2, 142, 38, 30, 3087, 11625, 3, 38, 1345, 24, 4, 12, 384, 1345, 23, 878, 7, 82, 533, 95, 38, 123, 55, 422, 6, 663, 962, 2, 1, 68, 4969, 7, 1, 3722, 9, 14, 37, 1515, 76, 0, 6, 5, 1127, 331, 369, 2, 34, 154, 14, 124, 197, 10340, 77, 49, 13, 20, 3, 16, 93, 79, 2736, 24, 4621, 28, 254, 49, 48, 400, 2, 2, 1, 2400, 113, 23, 291, 44, 8355, 9883, 2, 166, 154, 14, 2588, 77, 49, 1, 20, 16, 14, 10, 102, 77, 2011, 42, 62, 2070, 5, 180, 219, 2, 130, 14, 104, 10, 5, 170, 6, 518, 53, 429, 28, 95, 62, 2035, 345, 178, 5377, 102, 77, 2492, 5, 2943, 6, 6453, 9176, 95, 61, 14275, 8, 1331, 77, 59, 12, 16, 47, 49, 7, 151, 149, 1, 2654, 654, 1310, 2, 2, 4389, 1, 1438, 207, 1, 175, 4, 62, 2035, 345, 178, 5377, 53, 53, 53, 53, 90, 25, 3239, 123, 5, 962, 53, 53, 53, 12, 8, 148, 28, 254, 49, 25, 460, 3, 21, 12, 91, 8, 26, 2, 2], 0), ([12, 429, 7377, 1, 275, 449, 39, 1890, 8991, 3, 43, 12, 16, 60, 2273, 59, 12, 559, 14, 5, 20, 459, 27, 1, 275, 16, 11, 1, 261, 2, 21, 12, 16, 4791, 658, 18, 1, 20, 59, 12, 124, 72, 10, 95, 10, 159, 8, 26, 1758, 54, 12, 446, 49, 1, 275, 80, 1, 429, 3570, 164, 9146, 4, 1, 230, 103, 11, 69, 61, 2686, 1, 182, 2, 42, 1, 378, 6, 1, 20, 3, 12, 5618, 14, 184, 1153, 8, 26, 1, 173, 17, 12, 74, 4622, 11, 1, 275, 2, 43, 3, 12, 47, 437, 342, 19, 1, 1311, 2, 10, 293, 8, 26, 37, 14, 86, 3, 12, 474, 2, 677, 0, 16, 458, 286, 7, 54, 12, 74, 4622, 48, 7, 33, 35, 12, 159, 8, 26, 110, 61, 65, 33, 34, 7, 3617, 4, 2715, 80, 1854, 0, 3, 41, 305, 48, 3, 9, 570, 35, 27, 10, 8, 15, 204, 3, 12, 200, 1, 20, 4, 10, 8, 15, 8909, 11, 10, 124, 5, 57, 298, 3, 21, 2935, 3, 12, 8, 148, 147, 5, 336, 6, 1, 275, 24, 34, 6, 62, 37, 66, 1636, 1219, 23, 14, 12, 412, 8, 26, 347, 21, 244, 658, 0], 0), ([3110, 995, 3, 4, 10, 56, 8, 26, 217, 556, 7, 4650, 1, 1432, 6, 1, 216, 2, 1, 1499, 1793, 2936, 58, 81, 5, 180, 5951, 9360, 515, 2, 13, 319, 9, 3570, 3905, 2206, 2, 1, 22, 1511, 445, 3, 4, 635, 10, 1511, 617, 3, 28, 47, 18, 1, 119, 3, 21, 1, 453, 3, 721, 3, 1239, 524, 2, 30, 37, 1797, 2899, 2, 10, 52, 5, 3854, 6713, 19, 815, 1537, 2, 6151, 1730, 9, 1, 68, 188, 1614, 14, 279, 105, 5083, 3, 19130, 17530, 213, 8, 26, 108, 86, 2, 38, 150, 32, 309, 78, 194, 625, 2, 1, 1177, 11338, 57, 24, 6151, 1730, 23, 7, 337, 24, 295, 324, 23, 2, 111, 1, 216, 10836, 319, 4, 1892, 13, 34, 2, 45, 9, 28, 79, 133, 7, 380, 2], 0), ([288, 1, 644, 470, 226, 0, 3, 1, 22, 3407, 139, 4, 71, 461, 186, 5, 172, 6, 250, 11, 115, 2131, 783, 2, 1, 3354, 188, 9, 71, 57, 3, 18, 6259, 4180, 383, 116, 1, 4642, 6, 98, 2, 5646, 6572, 17, 48, 599, 9, 71, 57, 4, 550, 6833, 3, 50, 25, 1329, 62, 8617, 2, 12, 544, 380, 1, 22, 50, 25, 47, 187, 7, 32, 7, 57, 612, 2, 2042, 150, 71, 362, 13, 22, 80, 10, 523, 5, 172, 49, 1426, 2], 1), ([12, 1001, 672, 155, 13, 127, 3, 4, 12, 32, 7, 135, 14, 10, 71, 102, 77, 443, 2, 25, 32, 7, 1061, 1, 2121, 1360, 6, 10, 3, 342, 18, 267, 324, 2, 55, 83, 85, 307, 13, 127, 150, 32, 58, 813, 3135, 6, 1, 354, 3, 754, 83, 184, 2, 50, 25, 30, 171, 1574, 14, 3230, 56, 720, 1, 354, 152, 7, 125, 3, 25, 32, 7, 1574, 14, 1, 83, 332, 939, 1518, 6, 1, 127, 2, 12, 412, 8, 26, 347, 4635, 107, 177, 409, 12, 296, 2, 12, 71, 110, 10, 8, 15, 89, 45, 9, 5, 127, 51, 45, 14, 56, 198, 5, 60, 681, 789, 4, 71, 104, 10, 89, 7, 111, 2, 12, 429, 122, 1, 2583, 3, 12, 110, 10, 1453, 14, 1616, 233, 6, 591, 7, 1, 228, 127, 2, 25, 56, 8, 26, 218, 1565, 178, 279, 39, 5, 728, 7, 31, 176, 656, 3, 25, 32, 7, 198, 267, 17, 10, 8, 15, 204, 10173, 2, 407, 205, 10, 5, 561, 3, 4, 47, 362, 1, 668, 515, 17, 38, 30, 2], 1), ([59, 313, 13196, 9, 27, 3, 29, 8, 15, 0, 35, 35, 4, 13, 9, 34, 6, 31, 132, 112, 2, 28, 186, 17, 2662, 17, 0, 3, 21, 556, 7, 10, 24, 4, 18, 79, 6, 1, 173, 4308, 188, 23, 2, 13, 22, 16, 60, 78, 449, 3, 60, 78, 270, 300, 3, 4, 60, 78, 326, 2, 45, 8, 15, 60, 126, 7, 6805, 3, 4, 94, 6, 62, 5283, 30, 3732, 24, 8618, 121, 124, 16858, 82, 1, 301, 19, 1207, 161, 6, 1108, 4, 5, 172, 6, 3250, 493, 53, 64, 713, 6, 5, 982, 933, 2, 2, 2, 4, 143, 158, 8, 26, 2304, 0, 32, 40, 1068, 53, 5, 2304, 6, 31, 10061, 0, 32, 34, 2, 2, 2, 4, 142, 75, 8, 185, 36, 10, 3, 19, 40, 12189, 1260, 3, 10681, 46, 28, 3, 0, 8, 15, 5, 189, 961, 113, 80, 12, 8, 241, 110, 14, 29, 8, 241, 32, 5, 233, 58, 11, 1, 103, 6, 1117, 1656, 80, 29, 2138, 4, 1506, 44, 5, 932, 12905, 23, 2, 21, 14, 1193, 3, 1, 22, 16, 60, 2306, 2, 5, 57, 7493, 6, 109, 4, 790, 6, 611, 4, 13196, 158, 8, 26, 198, 2629, 11, 1, 70, 80, 115, 6, 1, 109, 30, 7137, 3, 4, 29, 130, 5, 57, 298, 6, 0, 1, 0, 4, 0, 145, 300, 7, 127, 1, 13893, 27, 203, 2629, 2, 79, 6, 1, 652, 16, 327, 12, 269, 446, 1, 141, 121, 0, 10069, 226, 4532, 18, 0, 4, 1942, 249, 141, 10556, 300, 71, 78, 2, 92, 1, 0, 145, 76, 71, 78, 326, 17, 78, 2, 1, 403, 16, 5, 233, 79, 36, 219, 13, 22, 74, 5, 7603, 7, 82, 18195, 5100, 36, 219, 3, 4, 10, 92, 5024, 7, 3832, 1, 790, 10, 16, 261, 136, 131, 424, 59, 1, 790, 65, 33, 47, 17, 747, 18, 51, 1, 0, 24, 75, 71, 159, 8, 26, 348, 1, 183, 5975, 18, 8, 0, 8, 18125, 1603, 10, 3, 205, 55, 1076, 3, 75, 8, 185, 28, 6739, 2, 2, 2, 23, 2, 4, 7, 408, 10, 139, 3, 264, 0, 6, 1, 66, 13196, 1099, 2534, 186, 78, 3, 531, 10, 226, 0, 108, 17476, 24, 44, 16775, 8, 15, 325, 3, 69, 9, 494, 360, 61, 3700, 51, 8, 143, 35, 35, 35, 8, 69, 333, 2370, 1, 440, 882, 4, 141, 23, 2, 21, 1, 119, 3, 11, 786, 3, 16, 408, 6, 1, 381, 2, 2895, 372, 39, 8665, 12195, 24, 383, 1, 128, 12, 8, 144, 129, 114, 23, 3, 0, 10069, 24, 41, 690, 7153, 101, 491, 53, 53, 23, 3, 498, 19999, 24, 758, 1, 618, 51, 6, 77, 2, 2, 2, 107, 303, 883, 4, 316, 522, 12, 162, 29, 16, 5, 0, 297, 23, 3, 4, 6, 268, 2031, 4853, 4, 5601, 6420, 30, 0, 1348, 2, 9324, 53, 1862, 10155, 16, 1098, 162, 10, 8, 15, 28, 332, 48, 2155, 48, 223, 16, 2709, 4, 4185, 2, 3890, 7, 1, 3989, 2595, 2, 4, 16530, 9494, 3, 41, 74, 1, 223, 3, 16, 168, 341, 6, 4293, 2, 61, 0, 4, 0, 4, 0, 2, 255, 166, 11, 1, 211, 381, 6, 0, 41, 1200, 3068, 24, 162, 45, 30, 5, 180, 41, 1897, 1, 1326, 7, 13, 2449, 23, 2, 428, 3, 1, 704, 35, 1358, 35, 40, 485, 704, 24, 69, 9, 407, 276, 2640, 35, 23, 69, 2455, 1, 22, 44, 5, 10951, 2, 249, 141, 52, 5, 3798, 616, 24, 264, 1, 15213, 13759, 716, 672, 7, 18195, 8409, 77, 39, 1, 137, 2, 2, 2, 28, 48, 128, 170, 23, 2, 9186, 0, 3, 3768, 439, 1, 1433, 3, 2031, 4853, 2, 2, 2, 93, 56, 34, 151, 358, 53, 53, 37, 11, 37, 5, 71, 57, 111, 3, 5, 71, 590, 188, 3, 89, 234, 3, 89, 22, 2, 2169, 2], 1), ([12, 187, 43, 931, 7, 205, 13, 434, 6, 1217, 5, 1739, 3, 479, 3, 45, 213, 8, 26, 3, 43, 3, 12, 74, 7, 205, 10, 5, 457, 47, 7, 3030, 25, 49, 93, 10303, 388, 13, 0, 6, 5, 1124, 1070, 71, 9, 35, 1, 109, 169, 44, 38, 76, 1572, 39, 0, 3, 64, 3, 827, 3, 12, 8, 144, 114, 0, 90, 132, 35, 12, 2537, 10994, 6, 0, 7, 13, 388, 1284, 19, 5, 1070, 35, 12, 8, 148, 243, 614, 54, 401, 32, 307, 3, 117, 678, 2693, 139, 35, 35, 392, 14, 409, 6, 8442, 8, 15, 3926, 59, 38, 0, 0, 192, 14, 12441, 53, 1112, 3, 10726, 13416, 63, 0, 11, 27, 14, 323, 4, 1200, 35, 38, 63, 3219, 139, 3116, 0, 11, 14, 34, 409, 14, 17066, 6204, 35, 24, 29, 63, 0, 11, 27, 14, 2836, 35, 23, 14, 34, 113, 9, 5, 671, 2693, 139, 6, 0, 42, 8442, 8, 15, 3926, 35, 10726, 13416, 748, 7, 33, 14146, 19, 0, 0, 19, 13, 434, 6, 583, 35, 35, 295, 52, 73, 204, 653, 3, 21, 153, 6, 25, 41, 44, 2052, 24, 3136, 23, 2379, 3, 131, 8, 997, 47, 3277, 7, 7722, 2, 90, 639, 5, 2004, 3, 657, 1, 1196, 59, 13, 2693, 139, 516, 7, 6175, 131, 278, 35], 0), ([546, 10, 7, 0, 7, 270, 27, 5, 57, 127, 2, 428, 29, 4, 0, 30, 573, 73, 204, 466, 987, 6, 0, 1300, 4524, 7, 4524, 2, 12, 32, 7, 135, 14, 12, 122, 203, 6, 138, 279, 5, 228, 172, 2, 38, 30, 332, 54, 672, 1166, 5760, 2, 0, 102, 10, 202, 18, 40, 3974, 14, 373, 51, 11, 1, 345, 3100, 2, 10, 210, 28, 32, 84, 15702, 3, 21, 31, 127, 16, 71, 1056, 7, 3305, 6, 85, 51, 45, 14, 122, 1166, 0, 279, 2, 12, 32, 7, 135, 14, 51, 6, 37, 1, 1166, 5760, 279, 18, 64, 120, 3, 13, 52, 7, 33, 1, 34, 18, 1, 94, 650, 120, 129, 102, 2, 14, 9, 143, 12, 44, 10, 43, 79, 3, 10, 9, 47, 147, 5, 353, 11, 1, 1166, 5760, 480, 2, 12, 263, 13, 9, 47, 147, 5, 89, 127, 3, 50, 25, 91, 8, 26, 44, 10, 2, 1290, 45, 76, 3305, 41, 1782, 10, 4, 3305, 41, 446, 10, 2], 1), ([1, 345, 3002, 214, 64, 10662, 81, 430, 719, 2888, 6, 2274, 2, 1454, 2, 3801, 8, 89, 626, 3, 322, 6, 1, 3461, 2, 13, 9, 383, 1, 225, 5027, 4, 60, 243, 1, 128, 6, 98, 2, 64, 83, 319, 6, 0, 52, 129, 3222, 28, 68, 7, 1005, 1, 70, 60, 79, 17, 3801, 1066, 10, 3, 21, 92, 7, 1004, 1, 848, 6, 1, 66, 11, 69, 10, 16, 444, 7, 198, 273, 1, 239, 345, 6, 1, 5333, 1062, 3, 18201, 769, 3801, 8, 216, 1002, 3, 11, 4, 784, 0, 3, 1804, 2, 804, 191, 14711, 7, 54, 38, 3283, 17, 1349, 2, 14, 227, 6483, 18, 55, 112, 3, 121, 1, 285, 227, 165, 33, 5, 823, 3, 21, 18, 3283, 7, 34, 6, 1, 94, 799, 2961, 11, 1, 182, 3, 10, 191, 5217, 663, 2, 12, 32, 64, 2319, 19, 85, 41, 32, 6939, 7, 335, 34, 6, 1, 13633, 500, 11, 610, 4701, 3, 43, 281, 8, 15, 82, 208, 7, 1, 1346, 2, 1, 2149, 30, 2466, 149, 5242, 40, 688, 3422, 3, 439, 69, 38, 32, 64, 0, 2, 50, 14, 8, 15, 5, 1666, 3, 43, 33, 10, 107, 5, 275, 4, 430, 83, 112, 24, 571, 1, 7956, 353, 23, 3, 25, 4303, 7, 123, 93, 13, 640, 2, 13, 22, 3, 69, 1045, 3801, 8, 120, 11, 1, 290, 3, 9, 92, 60, 4724, 1259, 492, 11, 5, 103, 14, 227, 270, 115, 764, 139, 675, 7, 73, 5793, 6, 538, 0, 3195, 1062, 1319, 2, 264, 719, 11, 5, 4799, 1309, 3, 1, 22, 266, 7, 55, 10000, 7, 205, 40, 1333, 6, 0, 2, 1, 786, 0, 6, 2329, 4, 1778, 2453, 5, 14632, 19103, 413, 258, 11, 178, 7571, 24, 246, 81, 328, 23, 2, 2615, 30, 413, 2600, 6, 0, 2, 36, 83, 219, 3, 2615, 30, 6305, 51, 2, 138, 10092, 30, 785, 6, 405, 112, 3, 69, 159, 8, 26, 357, 0, 3741, 1735, 4, 1538, 1259, 5, 57, 115, 1318, 11, 2279, 482, 3, 63, 171, 42, 0, 7, 0, 7, 0, 7, 0, 4, 43, 27, 492, 17, 25, 8, 236, 72, 27, 4631, 133, 2, 1, 312, 299, 30, 4078, 0, 3, 6, 5, 422, 114, 63, 17, 538, 17, 1, 9276, 492, 4, 255, 1, 8653, 4, 73, 4628, 30, 60, 79, 17, 3801, 2153, 98, 4, 32, 5, 58, 806, 813, 244, 2, 55, 6, 299, 30, 71, 2132, 492, 147, 17, 1, 3104, 6, 202, 1101, 2, 1, 119, 9, 413, 58, 11, 1, 445, 6, 14, 815, 81, 11309, 2, 55, 1360, 6, 5766, 2940, 210, 991, 1015, 3, 602, 1, 357, 6, 0, 46, 0, 27, 424, 4, 2738, 1113, 2, 13, 22, 9, 1, 68, 34, 14, 1045, 18, 55, 16036, 3801, 8, 216, 1302, 492, 17, 52, 84, 3495, 2, 764, 210, 174, 10, 6727, 7, 911, 120, 1257, 14, 991, 133, 14, 30, 1864, 14601, 11, 83, 2310, 6, 1, 70, 2, 3801, 8, 2793, 6, 1, 8653, 492, 5, 1305, 424, 13548, 27, 1815, 15203, 492, 9, 2597, 1009, 2, 59, 1, 9000, 4628, 991, 3, 49, 40, 552, 88, 1, 22, 3, 38, 108, 205, 5, 57, 1333, 6, 93, 3801, 2153, 98, 2, 203, 3801, 4, 13, 22, 90, 40, 327, 298, 6, 2237, 1, 3870, 6, 1, 8653, 42, 1, 1770, 1994, 24, 3963, 23, 6, 3232, 1804, 492, 905, 5, 180, 145, 11, 1223, 24, 1246, 1, 3494, 8, 15, 599, 23, 2, 1, 175, 9, 1913, 7, 4749, 726, 1, 3104, 6, 5, 645, 10227, 24, 202, 1101, 23, 3, 21, 36, 225, 158, 8, 26, 12178, 0, 27, 1, 11203, 6, 1223, 2, 1, 5328, 6, 1, 8653, 9, 1053, 5, 823, 3, 469, 1, 3104, 39, 4603, 6, 55, 6, 73, 4628, 2, 1, 3494, 3, 3735, 49, 7, 2555, 992, 3, 1038, 79, 6, 54, 3801, 1282, 1, 0, 6, 4741, 2, 29, 3224, 5, 0, 17579, 18, 1, 5766, 17366, 6, 5, 79, 108, 3362, 4, 4509, 1578, 2, 38, 803, 174, 521, 27, 1, 60, 1224, 6, 5, 9000, 7908, 3, 121, 38, 1828, 40, 376, 199, 1, 8653, 30, 589, 7, 33, 2084, 41, 16740, 73, 4872, 1060, 11, 5, 60, 1148, 141, 2, 3801, 1453, 14, 107, 1982, 38, 292, 67, 5, 9824, 4, 7280, 0, 2, 1, 3494, 428, 9, 17044, 7, 1693, 4962, 1, 3253, 3471, 0, 492, 41, 0, 47, 17, 1, 8653, 2299, 96, 139, 7, 1, 0, 24, 6888, 42, 1, 6916, 710, 0, 30, 43, 413, 1232, 11261, 23, 2, 13, 22, 6270, 224, 430, 612, 3, 171, 149, 3801, 8, 70, 11, 2382, 1537, 2, 10, 8, 15, 49, 66, 1, 1969, 193, 31, 675, 492, 11, 5, 1490, 3134, 14, 3507, 11, 970, 1554, 2, 5, 680, 49, 1, 119, 91, 8, 26, 519, 11772, 372, 2, 38, 8, 185, 28, 86, 3, 197, 3, 1, 160, 30, 7171, 4, 38, 2192, 27, 25, 2, 94, 6, 98, 3, 197, 3, 32, 74, 60, 0, 22, 3977, 3, 413, 68, 11, 13, 22, 2, 1, 3494, 9, 259, 39, 9355, 2268, 0, 3, 11, 31, 4098, 22, 2, 1, 0, 9, 313, 8034, 492, 92, 11, 31, 4098, 22, 17, 40, 297, 21, 41, 52, 74, 58, 549, 980, 2, 1, 599, 24, 10680, 23, 9, 259, 18, 55, 5652, 39, 2918, 2, 5128, 0, 11, 31, 97, 22, 2, 1, 0, 3, 1, 68, 83, 0, 181, 3, 9, 259, 39, 574, 0, 11, 31, 97, 22, 2, 13, 9, 456, 5, 3818, 22, 3, 2237, 19, 1, 97, 66, 1, 322, 6, 1, 3461, 17, 3801, 1066, 10, 2, 469, 99, 3072, 16773, 3, 10, 9, 237, 4, 248, 132, 81, 105, 6, 99, 0, 13347, 2, 50, 25, 187, 7, 72, 2274, 2, 1454, 2, 3801, 8, 322, 6, 1, 3461, 492, 4, 28, 55, 5273, 8777, 319, 6, 10, 492, 72, 13, 22, 35], 1), ([10, 8, 15, 43, 2271, 59, 22, 1399, 349, 7, 33, 598, 4, 10, 8, 15, 43, 619, 133, 2, 13, 52, 1797, 890, 119, 3, 1340, 403, 3, 3571, 5266, 14, 30, 855, 7, 111, 3, 4, 115, 8297, 11, 10, 8, 15, 557, 7, 33, 5, 815, 22, 4, 10849, 2, 13, 22, 150, 33, 4599, 36, 37, 2293, 2, 12, 16, 572, 28, 7, 151, 4, 72, 13, 22, 2, 12, 637, 12, 74, 8319, 2], 0), ([54, 324, 56, 25, 135, 49, 13, 20, 3, 565, 14, 10, 8, 15, 1050, 376, 2, 10566, 6054, 4, 1918, 1250, 30, 1, 1000, 143, 7, 72, 13, 3, 21, 3, 14, 8, 15, 10, 3, 21, 73, 1935, 30, 960, 11, 13, 2622, 2, 12, 110, 14, 38, 334, 5, 1799, 11, 55, 6, 1918, 8, 15, 145, 3, 44, 59, 29, 8, 15, 628, 95, 25, 56, 8, 26, 72, 31, 406, 2, 50, 1918, 16, 3248, 11, 116, 11, 1058, 2024, 3, 47, 110, 54, 29, 212, 8, 144, 452, 49, 2868, 11, 13, 53, 53, 53, 50, 10, 16, 163, 46, 107, 3, 12, 8, 148, 28, 254, 3, 21, 3, 140, 3, 1058, 2024, 9, 5, 353, 24, 859, 51, 1, 805, 1116, 824, 5065, 319, 97, 4, 239, 23, 1082, 7, 13, 2, 1, 1205, 9, 60, 634, 4, 10500, 39, 55, 6, 1, 160, 2, 5, 3136, 6, 1, 1370, 34, 1210, 6445, 3713, 3, 6, 268, 2, 10566, 291, 1373, 162, 2, 12, 448, 48, 4, 1918, 193, 5, 57, 7112, 35, 35, 1297, 35], 0), ([12, 8, 148, 5, 0, 20, 4329, 4, 13, 505, 16, 43, 86, 3, 12, 452, 3248, 19, 28, 68, 1, 160, 3, 21, 92, 1, 175, 4, 1, 337, 9231, 6, 5, 1384, 41, 165, 270, 31, 301, 67, 19, 13, 6853, 2, 42, 1, 417, 3, 25, 8, 241, 519, 55, 89, 6584, 3, 660, 6, 5, 741, 4, 36, 225, 55, 453, 46, 752, 2, 310, 3, 25, 82, 54, 291, 44, 5, 1035, 58, 1184, 4, 901, 282, 3914, 409, 2, 36, 225, 12, 443, 36, 1, 282, 3914, 2, 142, 155, 13, 583, 3, 12, 682, 166, 251, 27, 4, 672, 155, 1791, 6664, 360, 146, 230, 604, 2, 3110, 7, 135, 3, 12, 812, 155, 6664, 2, 155, 13, 22, 12, 977, 14, 12, 101, 2287, 5, 22, 18, 282, 4151, 3, 280, 14888, 3578, 3, 13729, 2263, 11, 1794, 657, 4, 5, 1981, 6367, 2, 13, 22, 9, 62, 2837, 7, 82, 88, 13119, 22, 261, 2, 111, 13, 20, 50, 25, 2955, 3, 21, 33, 2613, 2, 2, 2, 45, 9, 5, 172, 6, 168, 11, 133, 21, 5, 228, 172, 6, 687, 4, 60, 126, 231, 2, 13, 167, 13501, 169, 44, 5, 4917, 3968, 22, 2, 12, 8, 148, 254, 2191, 159, 8, 26, 14784, 10, 675, 7, 396, 46, 582, 2, 83, 2877, 348, 7, 198, 13935, 2], 0), ([12, 16, 874, 7, 72, 13, 95, 5, 23, 12, 32, 40, 2442, 7721, 257, 4, 872, 23, 75, 74, 589, 48, 1, 0, 0, 0, 2652, 106, 42, 1, 4461, 3, 69, 61, 1560, 517, 2, 1251, 3, 12, 159, 8, 26, 110, 10, 16, 17, 1921, 17, 1, 4461, 1482, 3, 21, 27, 1, 83, 568, 3, 10, 293, 8, 26, 1, 7103, 434, 6, 0, 5976, 12, 8287, 10, 65, 33, 2, 10, 16, 40, 13955, 3, 2505, 432, 20, 2, 264, 12, 8, 148, 3478, 14, 38, 159, 8, 26, 349, 7, 0, 2995, 7, 6024, 1062, 0, 24, 8728, 4863, 1669, 1, 417, 17, 1, 696, 2995, 2652, 23, 3, 12, 90, 110, 14, 38, 102, 48, 5, 126, 108, 2023, 3, 14, 38, 159, 8, 26, 90, 194, 7, 2224, 2995, 2652, 80, 1, 20, 101, 32, 84, 4312, 1100, 14878, 3, 257, 1365, 2, 12, 32, 7, 1694, 1, 234, 12, 110, 249, 297, 124, 5, 57, 298, 18, 54, 38, 74, 7, 170, 18, 2, 12, 425, 3050, 2458, 11, 13, 223, 3, 21, 38, 506, 48, 5, 4702, 3, 28, 2276, 766, 3, 234, 2, 2, 2], 1), ([12, 47, 258, 1, 440, 430, 274, 292, 36, 10573, 11, 1, 5512, 3739, 19, 7045, 2, 1351, 3, 43, 12, 200, 12, 65, 198, 166, 169, 2, 932, 6, 2845, 612, 7, 111, 10, 37, 24, 8907, 698, 23, 2, 12, 16, 1535, 11, 7371, 4, 214, 94, 6, 98, 27, 251, 11, 1, 4634, 2, 115, 1670, 7033, 2601, 98, 19, 115, 161, 2, 132, 81, 12, 850, 165, 3, 66, 52, 84, 247, 7, 1, 619, 7352, 6, 10, 8, 15, 3103, 3, 4, 7, 1, 619, 16881, 4, 1152, 38, 205, 7, 37, 1, 10110, 1017, 339, 4, 366, 2, 58, 7145, 4, 6396, 81, 5, 795, 954, 691, 3, 21, 60, 9455, 11, 10, 8, 15, 2689, 6, 1, 2936, 4, 464, 1939, 6, 2893, 2, 14, 322, 16, 3037, 11200, 27, 1645, 17266, 3, 4, 1, 464, 5328, 16, 11200, 27, 41, 3160, 1, 464, 9382, 6, 1, 182, 8, 15, 16323, 2, 1, 7379, 76, 1, 656, 41, 76, 499, 7, 90, 10, 2, 230, 108, 3, 7, 72, 93, 38, 349, 7, 3388, 5, 2762, 207, 202, 706, 3, 4, 1, 2032, 1165, 4, 10288, 14, 102, 98, 562, 2, 1, 581, 9, 1229, 3, 50, 5, 233, 108, 79, 39, 502, 8, 15, 1557, 2, 12, 335, 1141, 14, 593, 2251, 6319, 8127, 47, 17, 79, 17, 794, 15748, 7, 464, 581, 2, 12, 811, 14, 15748, 1903, 37, 1, 645, 1386, 3, 4, 10, 16, 67, 7, 6319, 7, 1088, 98, 7, 1, 1064, 2, 89, 298, 35, 150, 33, 114, 39, 177, 10048, 3, 46, 1046, 10048, 2, 5, 1704, 7, 0, 14, 1738, 30, 803, 391, 39, 6926, 3, 6035, 3, 4, 1, 9657, 7, 152, 98, 67, 2, 0, 73, 482, 4, 2749, 87, 8135, 1, 5916, 0, 2, 1, 7379, 0, 4, 7707, 1, 808, 482, 6, 1, 16640, 3, 2969, 73, 60, 2372, 11, 1, 1555, 3, 4, 0, 73, 5916, 3684, 2, 735, 7, 72, 14, 1, 1384, 3, 1668, 0, 3, 1446, 5, 60, 341, 125, 2, 804, 8, 15, 2163, 76, 246, 12380, 3, 12, 32, 7, 174, 51, 58, 49, 96, 2, 29, 124, 5, 180, 58, 1348, 3746, 163, 31, 405, 325, 2, 227, 32, 58, 7, 135, 36, 5, 315, 66, 6147, 12, 74, 37, 430, 17759, 5103, 102, 6, 1, 933, 215, 3, 189, 57, 456, 2, 479, 3, 1, 1095, 864, 7, 714, 467, 299, 7, 1, 239, 34, 3, 0, 1174, 7, 47, 6741, 2602, 3, 246, 81, 19, 595, 215, 2815, 2, 108, 86, 108, 3, 95, 10, 4565, 55, 230, 21, 58, 1375, 1386, 11, 1, 209, 2, 663, 493, 44, 4419, 8308, 1937, 5413, 3, 0, 116, 3716, 3, 0, 3, 5431, 2, 2, 2, 47, 19, 359, 1390, 2, 0], 1), ([10, 8, 15, 5706, 3, 117, 161, 107, 1, 7314, 14355, 9243, 69, 563, 1, 970, 15756, 2328, 42, 1, 0, 3, 4, 18, 5, 322, 18, 12486, 136, 1, 0, 8467, 3630, 661, 273, 3, 54, 132, 22, 7, 104, 81, 5, 16885, 15756, 22, 14, 0, 1, 7314, 5089, 9243, 3, 1816, 769, 0, 633, 34, 231, 662, 6, 1, 271, 3, 1839, 6893, 2, 1293, 11, 2247, 13723, 4, 5, 180, 83, 78, 587, 160, 4, 25, 8, 144, 193, 5, 2290, 27, 131, 910, 53, 2, 2, 2, 78, 277, 28, 35, 1, 22, 387, 158, 8, 26, 104, 1, 831, 595, 194, 3, 1816, 1, 119, 9, 186, 350, 1069, 2, 10, 8, 15, 44, 5, 20, 211, 409, 6, 1, 8681, 3, 21, 206, 1, 1991, 2, 13, 22, 266, 1265, 845, 4, 9, 186, 700, 2, 277, 0, 0, 296, 13, 22, 4, 864, 7, 16098, 1839, 6893, 17, 5, 12419, 574, 1248, 6946, 19, 2469, 1780, 2, 111, 10, 50, 131, 5, 336, 6, 1839, 6893, 46, 15756, 493, 11, 786, 3, 50, 28, 3, 575, 131, 66, 2], 0), ([12, 244, 36, 5, 1894, 3, 43, 495, 9, 13, 22, 2, 10460, 9, 5, 728, 3, 5, 13137, 4, 142, 40, 327, 1661, 3, 31, 4734, 1594, 11, 31, 501, 4, 862, 9, 31, 0, 2, 13, 22, 9, 5, 0, 2063, 6, 1, 1698, 8, 15, 7423, 11, 1, 2781, 6, 31, 2703, 182, 6, 93, 40, 1698, 56, 557, 7, 995, 125, 367, 63, 31, 204, 367, 5504, 31, 518, 3, 63, 17, 29, 592, 992, 1, 1938, 14, 3, 64, 513, 93, 29, 2079, 314, 11, 31, 70, 3, 10, 9, 140, 1222, 4, 29, 9, 140, 987, 6, 31, 5939, 182, 3, 140, 17444, 18, 99, 0, 4, 1, 623, 6, 1, 125, 29, 52, 738, 7, 8567, 995, 2, 4, 6836, 3, 37, 6, 13, 9, 28, 7, 1, 9846, 2595, 36, 1, 5530, 6, 5, 386, 70, 49, 1, 4581, 6, 122, 4, 2003, 4, 1, 109, 41, 426, 51, 13, 70, 3, 13, 0, 4255, 2, 50, 12, 74, 7, 2172, 3, 12, 227, 19891, 13, 1, 821, 22, 129, 102, 2], 1), ([13, 743, 7, 11, 1, 3637, 6, 1, 318, 87, 2660, 11, 3227, 6031, 7, 99, 7420, 132, 5548, 2, 310, 6, 284, 44, 5, 2276, 20, 1955, 19, 647, 3, 10726, 0, 291, 12035, 44, 5, 251, 20, 1955, 19, 2276, 766, 3, 18, 5477, 1319, 3, 938, 594, 2723, 3, 4, 721, 14, 169, 44, 38, 8, 185, 102, 6, 0, 2, 1, 600, 711, 52, 5, 6919, 2550, 6337, 1, 375, 279, 117, 910, 15379, 1, 257, 3, 100, 5, 326, 6, 5, 568, 4784, 19, 5, 0, 3, 100, 5, 326, 6, 1, 257, 116, 13337, 18, 117, 910, 179, 3, 4, 428, 1, 0, 596, 192, 19, 1, 3634, 2335, 2, 8872, 1, 418, 150, 33, 796, 174, 1, 68, 221, 18, 282, 910, 35, 21, 1, 5318, 365, 1161, 56, 8, 26, 332, 3695, 13, 22, 8, 15, 4138, 5049, 4183, 3, 3027, 8059, 8, 15, 242, 17, 1, 598, 1365, 2957, 7, 868, 1, 1960, 6569, 10, 210, 477, 3, 63, 50, 10, 0, 5, 433, 2, 1576, 16969, 9, 92, 1054, 17, 1, 0, 0, 6668, 6, 4893, 5099, 31, 3645, 1008, 2, 11, 1618, 7, 116, 2404, 39, 1, 418, 3, 0, 9, 8262, 49, 31, 352, 125, 3, 21, 1, 1185, 6, 1352, 4, 0, 8, 1167, 19403, 287, 6, 1080, 11310, 30, 4522, 133, 2, 43, 9, 1, 1280, 600, 805, 14, 102, 11, 1, 3637, 6, 1, 318, 43, 1490, 2], 0), ([313, 1700, 9, 34, 6, 1, 94, 7003, 4, 128, 1934, 321, 1052, 11, 1, 480, 6, 22, 3, 31, 400, 606, 3550, 18, 1, 896, 22, 530, 2, 197, 3, 313, 1700, 8, 15, 4763, 128, 22, 9, 28, 5, 896, 36, 37, 21, 5, 6765, 471, 292, 11, 1, 2388, 555, 19, 5925, 11, 1, 405, 9276, 9886, 8, 15, 1, 10450, 2, 219, 30, 1236, 27, 115, 11, 3690, 4, 1, 8922, 51, 11550, 5011, 9, 969, 11, 5, 3851, 6, 4189, 4, 4284, 80, 4, 1, 3799, 30, 2764, 11, 2, 11550, 9, 202, 21, 29, 9, 28, 1, 15350, 17442, 27, 1, 2710, 3, 52, 5, 2409, 540, 21, 5, 341, 18544, 3, 4, 118, 191, 7, 71, 110, 184, 37, 1, 103, 149, 21, 29, 9, 28, 5, 1817, 46, 5, 8861, 5547, 2, 1286, 1, 1964, 9443, 18, 64, 121, 7, 426, 3, 1, 11899, 11550, 5011, 676, 1, 2487, 753, 11, 31, 125, 3, 8814, 0, 3, 27, 1, 1964, 0, 810, 95, 6, 48, 204, 1755, 831, 4, 526, 7, 1043, 49, 661, 48, 7, 1, 2188, 1528, 50, 29, 68, 74, 1, 948, 6643, 7, 936, 19, 10, 2, 17, 1949, 65, 32, 10, 3, 31, 433, 3535, 9, 152, 11, 525, 18, 5, 948, 6456, 1996, 136, 31, 424, 4, 11550, 9, 1755, 194, 7, 8029, 1, 548, 6, 3535, 8, 15, 10098, 2, 11550, 3, 18, 1, 176, 948, 6643, 6, 547, 301, 4940, 3, 676, 13, 11233, 318, 602, 0, 17, 3092, 0, 37, 136, 96, 4, 1, 7675, 0, 37, 73, 5813, 7, 174, 3535, 8, 15, 10450, 2, 2951, 7320, 2265, 1, 3401, 11550, 5011, 4, 407, 1850, 1, 128, 297, 891, 29, 16, 9098, 19, 13, 22, 2, 31, 16002, 3, 379, 3, 4, 4345, 497, 205, 1, 113, 4901, 4, 7320, 9, 68, 350, 7, 7994, 1780, 8, 15, 113, 1748, 7732, 42, 1, 5276, 22, 1748, 17, 1, 94, 432, 1271, 2056, 2, 0, 11880, 8, 15, 242, 17, 8814, 0, 9, 92, 327, 21, 61, 4, 7320, 30, 1, 68, 957, 6, 1, 188, 41, 374, 4477, 2, 6128, 3036, 9, 269, 3278, 17, 40, 7675, 424, 3, 1390, 95, 29, 9, 94, 534, 28, 2388, 3, 4, 1766, 2, 148, 2, 17723, 8754, 27, 1985, 481, 31, 223, 11, 1, 22, 21, 13, 1296, 737, 188, 9, 1, 22, 8, 15, 68, 337, 222, 2, 413, 9020, 39, 55, 6, 1700, 8, 15, 132, 587, 2747, 44, 1, 18972, 46, 1, 134, 41, 326, 6933, 0, 3, 1, 10450, 9, 723, 34, 6, 313, 1700, 8, 15, 128, 112, 80, 50, 28, 31, 60, 128, 2, 470, 54, 65, 33, 5, 211, 649, 6, 891, 6362, 4, 2669, 19, 313, 1700, 3, 1, 10450, 391, 692, 3343, 571, 34, 19, 96, 19, 128, 175, 11, 7255, 2, 1700, 4, 998, 8, 15, 357, 6, 3303, 4, 705, 11, 1, 22, 9, 602, 1800, 4, 5506, 7, 1003, 1, 70, 2, 11550, 8, 15, 1268, 149, 1, 1964, 9, 7438, 39, 1, 6516, 1085, 6, 1, 525, 4, 1, 6919, 14756, 6, 1, 929, 0, 3, 249, 3116, 1288, 7219, 96, 6, 31, 463, 8773, 2, 1700, 8, 15, 4563, 6, 13, 2761, 16, 485, 7, 111, 50, 1, 10450, 16, 102, 306, 161, 315, 24, 1324, 261, 1, 530, 15741, 23, 10, 65, 243, 33, 1237, 34, 6, 1, 128, 112, 1675, 6, 37, 66, 21, 14, 130, 28, 0, 10, 42, 116, 1934, 17, 40, 327, 353, 22, 2], 1), ([2083, 0, 9, 534, 5, 1063, 8149, 3, 4, 43, 30, 1, 117, 460, 41, 1066, 1, 234, 2, 1538, 0, 9, 5, 89, 505, 3, 102, 18, 47, 5, 180, 3338, 21, 92, 3305, 6, 1461, 2, 78, 3, 12, 8, 148, 5, 233, 10175, 3, 21, 2245, 12, 8, 148, 4713, 2, 43, 3, 50, 25, 44, 463, 3, 2068, 106, 3, 151, 4, 72, 13, 34, 2, 10, 8, 15, 71, 276, 10, 2], 1), ([12, 110, 13, 20, 16, 243, 5, 172, 58, 1020, 59, 10, 97, 12553, 11, 8395, 3, 162, 2912, 10, 191, 5, 233, 108, 5100, 4, 4795, 7, 9549, 10, 7, 4734, 2, 1, 22, 9, 292, 11, 0, 163, 1, 2751, 6, 1, 183, 88, 1, 322, 2, 767, 8822, 305, 1, 60, 7171, 4, 551, 424, 6, 31, 245, 2, 29, 8, 15, 5, 1047, 41, 52, 947, 1559, 161, 1017, 1, 3839, 4, 5837, 1758, 2, 4647, 2253, 9, 31, 60, 1725, 4, 13516, 330, 41, 52, 1241, 7, 12978, 4, 3083, 1, 393, 206, 96, 42, 66, 7, 66, 2, 17, 1, 22, 801, 3, 38, 30, 4468, 1, 4281, 42, 2885, 7, 1, 2547, 4, 19, 1, 97, 66, 11, 161, 3, 38, 30, 171, 7, 5938, 4, 580, 628, 2, 1, 454, 19, 77, 16, 14, 1, 245, 16, 108, 410, 4, 108, 0, 98, 320, 44, 619, 1128, 2305, 310, 6, 5, 157, 245, 2275, 149, 157, 679, 2, 142, 13, 74, 5, 60, 3759, 3561, 36, 1, 66, 3, 10, 47, 191, 4955, 502, 2, 11, 836, 3, 1, 897, 1015, 4, 550, 3497, 752, 334, 39, 1, 393, 47, 159, 8, 26, 1626, 303, 2, 10, 2508, 58, 44, 0, 6142, 81, 1, 2380, 6, 157, 393, 2, 38, 76, 17, 5, 898, 550, 0, 1, 0, 34, 41, 373, 139, 3, 36, 219, 3, 17, 5, 6793, 2, 49, 1, 68, 656, 41, 2508, 157, 76, 4647, 2253, 4, 48, 4286, 321, 245, 17, 78, 17, 1, 0, 7122, 573, 18, 98, 24, 162, 29, 74, 64, 10408, 1121, 23, 2, 10, 8, 15, 71, 1236, 7, 263, 14, 1, 0, 0, 18585, 1066, 13, 752, 3, 17, 10, 47, 158, 8, 26, 467, 303, 7, 125, 2, 1, 70, 16, 459, 27, 1, 308, 39, 31, 1442, 3, 12665, 14427, 2, 4, 3, 1, 1117, 70, 323, 4, 120, 9, 57, 3, 2, 2, 2, 21, 1, 752, 9, 47, 86, 36, 219, 2, 456, 3, 40, 230, 17524, 4, 5, 22, 18, 55, 327, 395, 3, 2, 2, 2, 21, 14, 8, 15, 71, 49, 37, 2], 1), ([19898, 1405, 3, 11721, 4, 401, 2287, 112, 19, 1, 5106, 4772, 1196, 14, 217, 11, 18, 6029, 6, 6852, 10327, 1531, 2, 55, 807, 6908, 299, 170, 3, 401, 807, 5810, 6797, 4, 140, 401, 807, 203, 367, 19, 10327, 1531, 2, 442, 2, 10210, 2852, 4561, 14, 13, 22, 16, 11168, 36, 12463, 1531, 2263, 21, 10, 8, 15, 2368, 619, 14, 13, 16, 243, 1103, 19, 0, 3, 1720, 50, 28, 5581, 346, 81, 14, 2, 180, 721, 30, 8895, 3, 5, 633, 6, 145, 30, 326, 439, 1457, 278, 4, 94, 299, 320, 9166, 4, 2139, 2, 10, 8, 15, 1369, 7, 111, 2, 28, 43, 79, 95, 10, 9, 843, 532, 3, 843, 2185, 4, 5375, 21, 95, 115, 6, 183, 32, 84, 971, 1, 3870, 6, 13, 365, 19, 186, 55, 66, 4, 74, 331, 1959, 19, 13, 22, 469, 99, 2448, 5867, 416, 2, 153, 6, 183, 41, 2431, 11, 13, 20, 59, 10, 16, 1762, 8743, 32, 4364, 1, 16975, 6, 153, 3060, 6, 39, 1749, 2, 26, 2, 0, 2], 0), ([12, 468, 7, 111, 13, 3, 7, 82, 5, 925, 169, 36, 1, 127, 2, 10, 572, 1, 70, 58, 6, 1890, 1730, 3, 100, 0, 195, 13539, 2, 140, 3, 200, 10, 16, 89, 2, 75, 193, 7, 72, 3, 1890, 218, 116, 8, 27, 8, 3, 64, 513, 54, 2, 1, 242, 6, 0, 16, 1140, 2, 1, 0, 6, 1, 290, 1878, 3, 320, 43, 157, 7, 77, 2, 17960, 17, 16866, 4660, 16, 386, 2, 29, 16, 43, 1255, 11, 13, 3, 69, 1552, 77, 82, 149, 37, 1, 1730, 1566, 2, 1, 126, 510, 1, 145, 1273, 6, 31, 83, 279, 24, 686, 490, 3, 4, 0, 195, 3817, 23, 3, 16, 12986, 2, 12, 92, 200, 0, 8, 15, 4053, 16, 92, 5, 338, 774, 11, 1, 9819, 2, 24, 13, 9, 5, 57, 154, 23, 2, 13, 20, 572, 1, 646, 178, 70, 6, 370, 1450, 3, 171, 149, 1, 3850, 4, 7072, 6, 7469, 2, 10, 812, 77, 5293, 7, 62, 251, 3, 4, 12, 1886, 7, 122, 1890, 3, 78, 618, 3, 635, 1263, 320, 7, 33, 1, 1529, 85, 12, 531, 110, 370, 9, 2, 151, 861, 2, 12, 531, 591, 143, 1, 2255, 85, 30, 218, 259, 7, 33, 3604, 2, 75, 118, 214, 1, 424, 6, 4040, 2, 47, 559, 96, 3, 44, 1274, 42, 1274, 2875, 24, 12, 591, 50, 13, 103, 0, 53, 23, 2, 10, 191, 43, 608, 3, 14, 5, 127, 36, 633, 457, 3, 101, 33, 43, 2142, 39, 73, 204, 2255, 2, 12, 110, 13, 70, 101, 33, 572, 49, 256, 8, 15, 125, 3, 17, 38, 6977, 1, 7317, 6, 105, 298, 2, 20, 3, 4, 251, 419, 30, 218, 446, 46, 1782, 39, 43, 115, 85, 3, 14, 25, 2062, 67, 18, 3, 25, 47, 187, 7, 2106, 152, 11, 73, 509, 3, 7, 392, 131, 204, 509, 2, 12, 392, 155, 1, 127, 3, 4, 218, 1516, 54, 130, 562, 11, 73, 928, 466, 2, 0, 4, 13539, 3, 87, 218, 33, 181, 6, 77, 3, 4, 12, 193, 7, 72, 181, 6, 98, 2, 10, 210, 28, 37, 33, 1, 860, 3, 10, 8, 15, 92, 37, 28, 5, 2839, 3, 21, 11, 1, 137, 3, 10, 572, 77, 5, 386, 608, 3, 686, 70, 2], 1), ([45, 32, 84, 115, 3746, 14, 12, 32, 114, 11, 69, 10, 1517, 14, 1, 1264, 16, 27, 1, 358, 504, 6, 1, 7878, 80, 1, 1729, 1289, 381, 4, 5311, 415, 217, 7, 343, 97, 4, 8003, 2, 21, 13, 9, 1, 97, 22, 14, 74, 77, 12769, 18, 2650, 107, 12, 214, 10, 2, 10, 191, 5644, 747, 7, 77, 42, 1, 1960, 1259, 11, 13, 22, 14, 54, 604, 36, 13247, 16, 36, 1, 60, 225, 40, 12834, 4, 3846, 927, 27, 1, 181, 6, 1, 2907, 4, 13754, 3, 4, 36, 1, 60, 252, 40, 491, 6, 600, 2, 44, 94, 85, 3, 59, 1, 9243, 36, 13247, 16, 9617, 12, 5338, 14, 605, 0, 16, 5, 332, 484, 7678, 41, 16, 949, 5, 1184, 1304, 2, 107, 317, 13, 3, 12, 110, 14, 0, 16, 58, 1291, 5, 1035, 12053, 4, 1410, 221, 41, 7671, 969, 1, 689, 6, 1, 1143, 2, 15, 2, 1228, 149, 31, 3601, 1611, 2, 254, 3, 45, 76, 734, 6, 2648, 36, 1, 9715, 0, 8767, 2, 21, 650, 6, 10, 16, 4264, 2, 10, 16, 429, 5420, 7, 72, 1, 399, 852, 6, 1, 85, 925, 1, 8767, 3, 37, 6, 98, 6652, 7, 33, 60, 338, 4, 5294, 2, 4, 10, 16, 0, 7, 72, 1, 12520, 10809, 6, 1, 339, 11, 2633, 6, 1, 1228, 1990, 27, 1, 13247, 2020, 3, 1, 5136, 10809, 6, 5987, 7458, 3, 4, 1, 0, 4898, 6, 1, 1387, 27, 13247, 3, 5, 4898, 1512, 39, 5, 180, 6, 1, 10631, 16081, 2, 2219, 51, 94, 11, 62, 343, 16, 6126, 9043, 4, 1826, 1143, 2, 15, 2, 7348, 42, 6126, 1158, 0, 2, 12, 5829, 19, 1, 134, 59, 12, 1446, 11, 6126, 1085, 80, 12, 8, 148, 5, 0, 3, 189, 0, 108, 2, 107, 317, 31, 1611, 27, 13, 10631, 3, 12, 637, 12, 101, 151, 152, 11, 66, 4, 2110, 19, 241, 8, 7380, 310, 35, 19, 256, 2890, 943, 11, 1, 1228, 3, 13, 9, 5, 60, 4139, 22, 3, 5, 212, 72, 2, 12, 63, 110, 13, 150, 33, 589, 11, 4171, 80, 10, 8, 15, 14, 665, 2], 1), ([18194, 584, 20, 49, 584, 85, 41, 8, 15, 679, 30, 237, 108, 1280, 19, 98, 7, 2883, 2, 4408, 2429, 4880, 0, 3, 3817, 4403, 3, 52, 427, 9202, 18, 1037, 125, 4, 1, 199, 14, 61, 8, 15, 156, 2801, 9, 1, 10302, 14, 2087, 1, 12907, 8, 15, 152, 2, 661, 139, 42, 48, 5791, 11, 211, 902, 176, 866, 4408, 52, 64, 323, 121, 61, 8, 15, 171, 21, 1959, 7, 174, 2468, 4, 19114, 1141, 11, 1, 18595, 6, 842, 2, 10, 8, 15, 27, 1, 15090, 0, 14, 4408, 2978, 67, 11563, 11910, 489, 0, 3, 574, 0, 3, 41, 191, 17, 415, 4, 1410, 17, 61, 9, 2, 17, 4408, 3, 2502, 810, 4880, 36, 1, 66, 3, 514, 676, 51, 11910, 74, 3061, 5, 595, 1073, 0, 142, 394, 1927, 27, 31, 9923, 695, 4, 52, 84, 4375, 7, 147, 5, 584, 5541, 2032, 41, 8, 15, 43, 8841, 14, 29, 1455, 295, 3, 571, 315, 11, 1, 20, 4408, 3, 1728, 37, 136, 96, 2, 2228, 36, 97, 4408, 461, 60, 3272, 36, 1, 1336, 0, 11910, 19, 28, 2219, 67, 19, 314, 4, 3024, 314, 33, 334, 17, 5, 0, 39, 295, 29, 265, 11, 3143, 18, 11, 1, 20, 2, 28, 1322, 54, 7, 90, 18, 1, 18352, 11910, 4408, 428, 226, 96, 5, 298, 11, 237, 139, 17833, 17, 5, 7062, 134, 36, 1, 15129, 2483, 3453, 2606, 5802, 4, 520, 39, 3, 442, 2, 4277, 3, 858, 0, 2, 116, 1, 203, 247, 4, 14646, 397, 14, 29, 9, 11910, 1455, 37, 1, 1489, 51, 6, 73, 19352, 3488, 6116, 36, 1, 3453, 1125, 4, 52, 96, 3716, 39, 31, 1303, 442, 2, 4277, 2, 11, 1, 6195, 4408, 41, 200, 14, 61, 16, 428, 149, 18, 11910, 640, 67, 152, 36, 1, 15129, 2483, 59, 61, 8, 15, 361, 5, 10791, 4162, 39, 4493, 983, 2503, 3, 593, 6500, 2, 10, 191, 14, 442, 2, 4277, 9, 92, 1, 119, 5847, 1541, 4, 9, 1, 397, 14, 4408, 9, 7, 936, 48, 4493, 494, 7, 2, 142, 37, 13, 9, 1402, 0, 0, 74, 1513, 5, 590, 3835, 19, 4408, 4, 496, 7, 82, 48, 11, 1, 9054, 3, 36, 31, 1523, 352, 3, 1, 97, 561, 29, 56, 2, 2503, 5, 13259, 18, 5, 13693, 2035, 345, 178, 558, 0, 3, 0, 0, 3, 748, 5, 2569, 0, 734, 6, 0, 8, 80, 7, 104, 96, 817, 31, 115, 1080, 4, 1962, 679, 4, 4408, 9, 609, 1, 6625, 14, 1, 828, 5214, 35, 9086, 1370, 4, 1580, 464, 18, 2503, 171, 332, 51, 6, 31, 343, 4, 2724, 7, 1865, 4408, 3, 41, 4584, 31, 3633, 8401, 3, 69, 52, 11910, 428, 82, 51, 6, 31, 0, 0, 4, 373, 7, 48, 2328, 2, 45, 8, 15, 64, 686, 285, 133, 18, 4408, 2040, 42, 116, 203, 0, 4, 3385, 39, 2503, 21, 11910, 3, 41, 16, 11162, 2503, 190, 44, 5, 0, 2240, 3, 285, 67, 354, 19, 37, 31, 57, 4, 3759, 1689, 2, 1824, 39, 237, 16, 29, 94, 1598, 4, 2228, 397, 11, 1, 440, 20, 2, 37, 11910, 468, 16, 5, 433, 7, 722, 7, 4, 1077, 66, 18, 4, 37, 29, 1013, 67, 385, 16, 1, 6856, 137, 6, 1, 1206, 2, 39, 295, 63, 1, 34, 397, 41, 36, 97, 1697, 96, 18, 7425, 4, 1725, 4408, 0, 35, 11, 1, 137, 11910, 63, 162, 29, 16, 1697, 44, 5528, 39, 295, 469, 31, 10829, 28, 7, 6634, 63, 153, 41, 8713, 37, 136, 96, 373, 51, 17, 1, 94, 1503, 0, 17, 36, 1, 173, 66, 3924, 397, 11, 1, 440, 22, 2], 1), ([12, 16, 28, 1010, 79, 171, 11, 7, 13, 3, 21, 140, 373, 248, 658, 2, 13, 16, 62, 225, 512, 0, 365, 12, 32, 114, 2, 12, 200, 10, 16, 444, 7, 33, 5, 220, 3, 21, 12, 68, 0, 36, 430, 46, 607, 613, 2, 9, 10, 71, 5, 164, 3066, 7, 72, 5, 1750, 221, 1982, 0, 4, 1471, 192, 136, 4, 136, 53, 54, 16, 67, 18, 1, 9783, 11, 1761, 141, 53, 2127, 7249, 52, 84, 570, 18, 55, 6, 31, 1388, 2654, 16727, 3, 21, 13, 124, 28, 170, 2, 38, 212, 32, 947, 37, 1, 416, 27, 385, 587, 160, 7, 991, 11, 13, 95, 45, 16, 64, 1424, 416, 2, 10, 560, 44, 10, 16, 719, 18, 5, 399, 375, 4, 94, 145, 76, 60, 463, 2, 130, 10, 71, 198, 14, 79, 22, 7, 127, 294, 165, 1307, 4, 104, 5, 7266, 3, 17, 3261, 7, 2312, 248, 4, 765, 5, 2240, 0, 149, 5, 7266, 53, 12, 349, 28, 7, 33, 108, 2593, 6, 486, 416, 1338, 3, 21, 50, 25, 187, 7, 72, 146, 164, 151, 7, 5, 157, 1392, 5959, 447, 310, 6, 13, 20, 2], 0), ([6968, 161, 163, 6156, 3, 45, 16, 166, 6156, 69, 4488, 5, 1550, 1374, 11, 1, 480, 6, 17481, 3, 1235, 842, 4, 1, 228, 182, 2, 13, 16, 1, 1374, 11, 5235, 59, 5, 1622, 7862, 11, 17481, 0, 0, 15301, 1, 97, 13996, 1870, 7761, 0, 1678, 11, 1, 182, 4, 270, 40, 137, 7, 1, 16028, 2577, 6, 5, 9535, 5229, 42, 8424, 7, 19013, 2, 15301, 2292, 1521, 59, 1, 4208, 1990, 2969, 1, 11022, 6365, 2, 479, 13, 22, 9, 108, 5130, 4, 108, 4184, 904, 1, 66, 6, 15301, 8, 15, 2449, 7, 33, 40, 4369, 3728, 6, 1, 134, 4, 6, 31, 273, 11, 480, 2, 1, 219, 76, 3306, 4, 15301, 16, 5, 0, 861, 11, 1, 480, 6, 31, 630, 4, 6, 1, 228, 182, 2, 303, 3, 29, 16, 0, 7761, 3, 21, 31, 12336, 16357, 17481, 88, 7073, 3580, 2, 29, 16, 0, 39, 5, 7862, 4, 5, 15746, 14871, 1483, 18, 12355, 4, 0, 398, 2732, 15922, 3, 21, 29, 16, 92, 40, 7961, 6, 10873, 41, 214, 11, 31, 12336, 166, 103, 6, 261, 2872, 2, 75, 8, 236, 118, 123, 50, 31, 15204, 7, 1812, 5, 11059, 255, 9535, 844, 65, 32, 4235, 2, 1, 8110, 6, 1, 20, 198, 5, 332, 0, 2571, 3, 45, 9, 64, 653, 46, 222, 6, 611, 262, 7, 1221, 1, 83, 504, 3, 7, 1441, 1151, 44, 143, 124, 1, 792, 832, 0, 96, 3, 46, 93, 31, 9535, 2686, 101, 151, 300, 18, 737, 46, 116, 4967, 39, 10873, 2, 1, 1295, 6, 1, 11802, 9, 4184, 4, 0, 3, 224, 0, 2, 85, 41, 187, 7, 82, 5, 132, 1725, 6, 13, 409, 6, 1, 480, 348, 7, 827, 19, 5, 58, 6696, 4, 4369, 22, 46, 275, 11, 1, 699, 2], 0)]\n"
          ]
        }
      ]
    },
    {
      "cell_type": "code",
      "source": [
        "def text_pipeline(x): return vocab(list(tokenizer(x)))\n",
        "def label_pipeline(x): return int(x)\n",
        "    \n",
        "def collate_batch(batch):\n",
        "    label_list, text_list, offsets = [], [], [0]\n",
        "    for (_text, _label) in batch:\n",
        "        label_list.append(label_pipeline(_label))\n",
        "        processed_text = torch.tensor(text_pipeline(_text), dtype=torch.int64)\n",
        "        text_list.append(processed_text)\n",
        "        offsets.append(processed_text.size(0))\n",
        "    label_list = torch.tensor(label_list, dtype=torch.int64)\n",
        "    offsets = torch.tensor(offsets[:-1]).cumsum(dim=0)\n",
        "    text_list = torch.cat(text_list)\n",
        "    return text_list.to(DEVICE), label_list.to(DEVICE), offsets.to(DEVICE)"
      ],
      "metadata": {
        "id": "Is9qjucjgst-"
      },
      "execution_count": 51,
      "outputs": []
    },
    {
      "cell_type": "code",
      "source": [
        "from torch.utils.data import DataLoader\n",
        "import torchdata.datapipes as dp\n",
        "from torchtext.data.functional import to_map_style_dataset\n",
        "\n",
        "train_dataset = to_map_style_dataset(train_dp)\n",
        "val_dataset = to_map_style_dataset(val_dp)\n",
        "\n",
        "train_dataloader = DataLoader(train_dataset, batch_size=BATCH_SIZE, shuffle=True, collate_fn=collate_batch)\n",
        "val_dataloader = DataLoader(val_dataset, batch_size=BATCH_SIZE, shuffle=True, collate_fn=collate_batch)"
      ],
      "metadata": {
        "id": "9BAqcnmBlvUh"
      },
      "execution_count": 52,
      "outputs": []
    },
    {
      "cell_type": "code",
      "source": [
        "for batch_idx, batch_data in enumerate(train_dataloader):\n",
        "  print(batch_idx, batch_data)\n",
        "  break"
      ],
      "metadata": {
        "colab": {
          "base_uri": "https://localhost:8080/"
        },
        "id": "laJOyWOaxY7U",
        "outputId": "a23ec16f-8b9f-46a7-ea9e-758f2d94d6d2"
      },
      "execution_count": 56,
      "outputs": [
        {
          "output_type": "stream",
          "name": "stdout",
          "text": [
            "0 (tensor([ 777,  156,   13,  ...,    1, 1349, 3175], device='cuda:0'), tensor([0, 1, 1, 0, 0, 1, 1, 0, 1, 0, 1, 0, 1, 0, 1, 1, 1, 0, 1, 0, 0, 0, 1, 0,\n",
            "        0, 0, 1, 1, 0, 0, 0, 1, 1, 0, 0, 0, 1, 1, 0, 0, 0, 1, 1, 1, 1, 1, 1, 0,\n",
            "        1, 1, 0, 1, 1, 0, 1, 0, 1, 1, 1, 0, 0, 1, 0, 1, 1, 0, 0, 1, 1, 1, 0, 0,\n",
            "        1, 1, 1, 1, 1, 0, 0, 0, 1, 1, 0, 1, 1, 1, 1, 1, 0, 1, 1, 1, 0, 0, 1, 0,\n",
            "        1, 1, 1, 1, 1, 0, 0, 1, 1, 0, 1, 1, 0, 0, 1, 0, 0, 1, 0, 0, 1, 0, 1, 1,\n",
            "        1, 1, 0, 1, 0, 1, 0, 0], device='cuda:0'), tensor([    0,   104,   287,   368,   480,   621,   828,   980,  1714,  1747,\n",
            "         1884,  2061,  2867,  3400,  3639,  3771,  4142,  4516,  4856,  5180,\n",
            "         5290,  5439,  5872,  6037,  6612,  6869,  7251,  7320,  7450,  8193,\n",
            "         8636,  8808,  8952,  9502,  9724,  9861, 10027, 10219, 10399, 10550,\n",
            "        10979, 11228, 11548, 11609, 11813, 11859, 12427, 12534, 13790, 13935,\n",
            "        14167, 14406, 15123, 15754, 15982, 16096, 16592, 16726, 16952, 17126,\n",
            "        17411, 18180, 18622, 18729, 19235, 19409, 19571, 20479, 20765, 20975,\n",
            "        21060, 21234, 21309, 21397, 21536, 21795, 22039, 22161, 22307, 22790,\n",
            "        23152, 23356, 23606, 23742, 23854, 24090, 24240, 24533, 24854, 24967,\n",
            "        25226, 25396, 25501, 25764, 25935, 26162, 26218, 26454, 26809, 26893,\n",
            "        26957, 27497, 27723, 27821, 27946, 28211, 28331, 28469, 28590, 28733,\n",
            "        28819, 29029, 29079, 29192, 30035, 30172, 30393, 30594, 30782, 30867,\n",
            "        30925, 31075, 31283, 31788, 32069, 32172, 32218, 32387],\n",
            "       device='cuda:0'))\n"
          ]
        }
      ]
    },
    {
      "cell_type": "code",
      "source": [
        "from torchtext.data.utils import(\n",
        "    get_tokenizer,\n",
        "    ngrams_iterator,\n",
        ")\n",
        "tokenizer = get_tokenizer(\"basic_english\")"
      ],
      "metadata": {
        "id": "al2lllUTpTL2"
      },
      "execution_count": 32,
      "outputs": []
    },
    {
      "cell_type": "code",
      "source": [
        "### Defining the feature processing\n",
        "\n",
        "TEXT = torchtext.data.Field(\n",
        "    tokenize='spacy', # default splits on whitespace\n",
        "    tokenizer_language='en_core_web_sm'\n",
        ")\n",
        "\n",
        "### Defining the label processing\n",
        "\n",
        "LABEL = torchtext.data.LabelField(dtype=torch.long)"
      ],
      "metadata": {
        "id": "DwYfZSzx1FV3"
      },
      "execution_count": null,
      "outputs": []
    },
    {
      "cell_type": "code",
      "execution_count": 11,
      "metadata": {
        "id": "oXDUxCl4m7G_"
      },
      "outputs": [],
      "source": [
        "### Defining the feature processing\n",
        "\n",
        "TEXT = torchtext.legacy.data.Field(\n",
        "    tokenize='spacy', # default splits on whitespace\n",
        "    tokenizer_language='en_core_web_sm'\n",
        ")\n",
        "\n",
        "### Defining the label processing\n",
        "\n",
        "LABEL = torchtext.legacy.data.LabelField(dtype=torch.long)"
      ]
    },
    {
      "cell_type": "markdown",
      "source": [
        "\n",
        "\n",
        "Process the dataset:\n"
      ],
      "metadata": {
        "id": "7s7CZdXwqzU_"
      }
    },
    {
      "cell_type": "code",
      "execution_count": 12,
      "metadata": {
        "id": "_qXGdHGum7HB"
      },
      "outputs": [],
      "source": [
        "fields = [('TEXT_COLUMN_NAME', TEXT), ('LABEL_COLUMN_NAME', LABEL)]\n",
        "\n",
        "dataset = torchtext.legacy.data.TabularDataset(\n",
        "    path='movie_data.csv', format='csv',\n",
        "    skip_header=True, fields=fields)"
      ]
    },
    {
      "cell_type": "markdown",
      "metadata": {
        "id": "TBEa_U_Im7HC"
      },
      "source": [
        "## Split Dataset into Train/Validation/Test"
      ]
    },
    {
      "cell_type": "markdown",
      "metadata": {
        "id": "qCaABVO3m7HC"
      },
      "source": [
        "Split the dataset into training, validation, and test partitions:"
      ]
    },
    {
      "cell_type": "code",
      "execution_count": 13,
      "metadata": {
        "colab": {
          "base_uri": "https://localhost:8080/"
        },
        "id": "WZ_4jiHVnMxN",
        "outputId": "6104d203-f0b8-4258-dd2d-722bc030db6c"
      },
      "outputs": [
        {
          "output_type": "stream",
          "name": "stdout",
          "text": [
            "Num Train: 40000\n",
            "Num Test: 10000\n"
          ]
        }
      ],
      "source": [
        "train_data, test_data = dataset.split(\n",
        "    split_ratio=[0.8, 0.2],\n",
        "    random_state=random.seed(RANDOM_SEED))\n",
        "\n",
        "print(f'Num Train: {len(train_data)}')\n",
        "print(f'Num Test: {len(test_data)}')"
      ]
    },
    {
      "cell_type": "code",
      "execution_count": 14,
      "metadata": {
        "colab": {
          "base_uri": "https://localhost:8080/"
        },
        "id": "Wt_83oFFm7HD",
        "outputId": "199018c9-6012-44eb-80cf-091799f0a434"
      },
      "outputs": [
        {
          "output_type": "stream",
          "name": "stdout",
          "text": [
            "Num Train: 34000\n",
            "Num Validation: 6000\n"
          ]
        }
      ],
      "source": [
        "train_data, valid_data = train_data.split(\n",
        "    split_ratio=[0.85, 0.15],\n",
        "    random_state=random.seed(RANDOM_SEED))\n",
        "\n",
        "print(f'Num Train: {len(train_data)}')\n",
        "print(f'Num Validation: {len(valid_data)}')"
      ]
    },
    {
      "cell_type": "code",
      "execution_count": 15,
      "metadata": {
        "colab": {
          "base_uri": "https://localhost:8080/"
        },
        "id": "k2HWpgIem7HD",
        "outputId": "36d14717-e6ec-42b7-a5dd-d97aadc464a5"
      },
      "outputs": [
        {
          "output_type": "stream",
          "name": "stdout",
          "text": [
            "{'TEXT_COLUMN_NAME': ['For', 'some', 'unknown', 'reason', ',', '7', 'years', 'ago', ',', 'I', 'watched', 'this', 'movie', 'with', 'my', 'mother', 'and', 'sister', '.', 'I', 'do', \"n't\", 'think', 'I', \"'ve\", 'ever', 'laughed', 'as', 'hard', 'with', 'them', 'before', '.', 'This', 'movie', 'was', 'sooooo', 'bad', '.', 'How', 'sequels', 'were', 'produced', 'is', 'beyond', 'me', '.', 'Its', 'been', 'awhile', 'since', 'I', 'last', 'saw', 'this', '\"', 'movie', '\"', ',', 'but', 'the', 'one', 'impression', 'that', 'it', 'has', 'stuck', 'with', 'me', 'over', 'the', 'years', 'has', 'been', ',', '\"', 'They', 'must', 'have', 'found', 'the', 'script', 'in', 'a', 'dumpster', 'in', 'the', 'backlot', 'of', 'a', 'cheap', 'movie', 'studio', ',', 'made', 'into', 'a', '\"', 'movie', '\"', ',', 'and', 'decided', 'that', 'it', 'did', \"n't\", 'suck', 'enough', ',', 'and', 'made', 'it', 'worse', '.', 'I', \"'m\", 'pretty', 'sure', 'that', 'they', 'spent', 'all', 'the', 'budget', 'on', 'camera', 'work', 'and', 'the', 'so', 'called', '\"', 'special', 'effects', '\"', ',', 'and', 'then', 'had', '13', 'cents', 'left', 'toward', 'the', 'script', 'AND', 'to', 'pay', 'the', '\"', 'actors', '\"', '.'], 'LABEL_COLUMN_NAME': '0'}\n"
          ]
        }
      ],
      "source": [
        "print(vars(train_data.examples[0]))"
      ]
    },
    {
      "cell_type": "markdown",
      "metadata": {
        "id": "IWVlqc50m7HE"
      },
      "source": [
        "## Build Vocabulary"
      ]
    },
    {
      "cell_type": "markdown",
      "metadata": {
        "id": "L-TBwKWPslPa"
      },
      "source": [
        "Build the vocabulary based on the top \"VOCABULARY_SIZE\" words:"
      ]
    },
    {
      "cell_type": "code",
      "execution_count": 16,
      "metadata": {
        "colab": {
          "base_uri": "https://localhost:8080/"
        },
        "id": "e8uNrjdtn4A8",
        "outputId": "dd5f64b3-271b-4928-c8a1-d9d5e24bdda6"
      },
      "outputs": [
        {
          "output_type": "stream",
          "name": "stdout",
          "text": [
            "Vocabulary size: 20002\n",
            "Number of classes: 2\n"
          ]
        }
      ],
      "source": [
        "TEXT.build_vocab(train_data, max_size=VOCABULARY_SIZE)\n",
        "LABEL.build_vocab(train_data)\n",
        "\n",
        "print(f'Vocabulary size: {len(TEXT.vocab)}')\n",
        "print(f'Number of classes: {len(LABEL.vocab)}')"
      ]
    },
    {
      "cell_type": "markdown",
      "metadata": {
        "id": "13YxZ8Odm7HF"
      },
      "source": [
        "- 20,002 not 20,000 because of the `<unk>` and `<pad>` tokens\n",
        "- PyTorch RNNs can deal with arbitrary lengths due to dynamic graphs, but padding is necessary for padding sequences to the same length in a given minibatch so we can store those in an array"
      ]
    },
    {
      "cell_type": "markdown",
      "metadata": {
        "id": "RJwTDiyMm7HF"
      },
      "source": [
        "**Look at most common words:**"
      ]
    },
    {
      "cell_type": "code",
      "execution_count": 17,
      "metadata": {
        "colab": {
          "base_uri": "https://localhost:8080/"
        },
        "id": "MuW_lFrZm7HF",
        "outputId": "9541ea8d-948d-47f8-dbb3-6d852183a640"
      },
      "outputs": [
        {
          "output_type": "stream",
          "name": "stdout",
          "text": [
            "[('the', 391539), (',', 370979), ('.', 319271), ('and', 210725), ('a', 210397), ('of', 194700), ('to', 180225), ('is', 145689), ('in', 118828), ('I', 105650), ('it', 103414), ('that', 93700), ('\"', 86164), (\"'s\", 83068), ('this', 81424), ('-', 71703), ('/><br', 68865), ('was', 67523), ('as', 57974), ('with', 57558)]\n"
          ]
        }
      ],
      "source": [
        "print(TEXT.vocab.freqs.most_common(20))"
      ]
    },
    {
      "cell_type": "markdown",
      "metadata": {
        "id": "5nMrhLLxm7HG"
      },
      "source": [
        "**Tokens corresponding to the first 10 indices (0, 1, ..., 9):**"
      ]
    },
    {
      "cell_type": "code",
      "execution_count": 18,
      "metadata": {
        "colab": {
          "base_uri": "https://localhost:8080/"
        },
        "id": "Bq844KBam7HG",
        "outputId": "b364b1ea-a303-48dd-ce40-4a1adb83703d"
      },
      "outputs": [
        {
          "output_type": "stream",
          "name": "stdout",
          "text": [
            "['<unk>', '<pad>', 'the', ',', '.', 'and', 'a', 'of', 'to', 'is']\n"
          ]
        }
      ],
      "source": [
        "print(TEXT.vocab.itos[:10]) # itos = integer-to-string"
      ]
    },
    {
      "cell_type": "markdown",
      "metadata": {
        "id": "2SIjdcL3m7HG"
      },
      "source": [
        "**Converting a string to an integer:**"
      ]
    },
    {
      "cell_type": "code",
      "execution_count": 19,
      "metadata": {
        "colab": {
          "base_uri": "https://localhost:8080/"
        },
        "id": "u0GcTSBIm7HH",
        "outputId": "c54cc0cc-95d1-4883-df6c-8b58e72e6ccf"
      },
      "outputs": [
        {
          "output_type": "stream",
          "name": "stdout",
          "text": [
            "2\n"
          ]
        }
      ],
      "source": [
        "print(TEXT.vocab.stoi['the']) # stoi = string-to-integer"
      ]
    },
    {
      "cell_type": "markdown",
      "metadata": {
        "id": "t8CeiUmam7HH"
      },
      "source": [
        "**Class labels:**"
      ]
    },
    {
      "cell_type": "code",
      "execution_count": 20,
      "metadata": {
        "colab": {
          "base_uri": "https://localhost:8080/"
        },
        "id": "vb5lm3DFm7HI",
        "outputId": "7403a69b-bd6a-4a36-fa43-0ad60cde9526"
      },
      "outputs": [
        {
          "output_type": "stream",
          "name": "stdout",
          "text": [
            "defaultdict(None, {'1': 0, '0': 1})\n"
          ]
        }
      ],
      "source": [
        "print(LABEL.vocab.stoi)"
      ]
    },
    {
      "cell_type": "markdown",
      "metadata": {
        "id": "mZx-meThm7HJ"
      },
      "source": [
        "**Class label count:**"
      ]
    },
    {
      "cell_type": "code",
      "execution_count": 21,
      "metadata": {
        "colab": {
          "base_uri": "https://localhost:8080/"
        },
        "id": "NJwG-RiBm7HJ",
        "outputId": "17001823-c7f8-4340-ca38-9ec1af5d479e"
      },
      "outputs": [
        {
          "output_type": "execute_result",
          "data": {
            "text/plain": [
              "Counter({'0': 16981, '1': 17019})"
            ]
          },
          "metadata": {},
          "execution_count": 21
        }
      ],
      "source": [
        "LABEL.vocab.freqs"
      ]
    },
    {
      "cell_type": "markdown",
      "metadata": {
        "id": "eIQ_zfKLwjKm"
      },
      "source": [
        "## Define Data Loaders"
      ]
    },
    {
      "cell_type": "code",
      "execution_count": 22,
      "metadata": {
        "id": "i7JiHR1stHNF"
      },
      "outputs": [],
      "source": [
        "train_loader, valid_loader, test_loader = \\\n",
        "    torchtext.legacy.data.BucketIterator.splits(\n",
        "        (train_data, valid_data, test_data),\n",
        "         batch_size=BATCH_SIZE,\n",
        "         sort_within_batch=False,\n",
        "         sort_key=lambda x: len(x.TEXT_COLUMN_NAME),\n",
        "         device=DEVICE\n",
        "    )"
      ]
    },
    {
      "cell_type": "markdown",
      "metadata": {
        "id": "R0pT_dMRvicQ"
      },
      "source": [
        "Testing the iterators (note that the number of rows depends on the longest document in the respective batch):"
      ]
    },
    {
      "cell_type": "code",
      "execution_count": 23,
      "metadata": {
        "colab": {
          "base_uri": "https://localhost:8080/"
        },
        "id": "y8SP_FccutT0",
        "outputId": "8fffa0cc-081e-46ea-c40e-81a19a35dc28"
      },
      "outputs": [
        {
          "output_type": "stream",
          "name": "stdout",
          "text": [
            "Train\n",
            "Text matrix size: torch.Size([1136, 128])\n",
            "Target vector size: torch.Size([128])\n",
            "\n",
            "Valid:\n",
            "Text matrix size: torch.Size([55, 128])\n",
            "Target vector size: torch.Size([128])\n",
            "\n",
            "Test:\n",
            "Text matrix size: torch.Size([52, 128])\n",
            "Target vector size: torch.Size([128])\n"
          ]
        }
      ],
      "source": [
        "print('Train')\n",
        "for batch in train_loader:\n",
        "    print(f'Text matrix size: {batch.TEXT_COLUMN_NAME.size()}')\n",
        "    print(f'Target vector size: {batch.LABEL_COLUMN_NAME.size()}')\n",
        "    break\n",
        "    \n",
        "print('\\nValid:')\n",
        "for batch in valid_loader:\n",
        "    print(f'Text matrix size: {batch.TEXT_COLUMN_NAME.size()}')\n",
        "    print(f'Target vector size: {batch.LABEL_COLUMN_NAME.size()}')\n",
        "    break\n",
        "    \n",
        "print('\\nTest:')\n",
        "for batch in test_loader:\n",
        "    print(f'Text matrix size: {batch.TEXT_COLUMN_NAME.size()}')\n",
        "    print(f'Target vector size: {batch.LABEL_COLUMN_NAME.size()}')\n",
        "    break"
      ]
    },
    {
      "cell_type": "markdown",
      "metadata": {
        "id": "G_grdW3pxCzz"
      },
      "source": [
        "## Model"
      ]
    },
    {
      "cell_type": "code",
      "execution_count": 24,
      "metadata": {
        "id": "nQIUm5EjxFNa"
      },
      "outputs": [],
      "source": [
        "class RNN(torch.nn.Module):\n",
        "    \n",
        "    def __init__(self, input_dim, embedding_dim, hidden_dim, output_dim):\n",
        "        super().__init__()\n",
        "\n",
        "        self.embedding = torch.nn.Embedding(input_dim, embedding_dim)\n",
        "        #self.rnn = torch.nn.RNN(embedding_dim,\n",
        "        #                        hidden_dim,\n",
        "        #                        nonlinearity='relu')\n",
        "        self.rnn = torch.nn.LSTM(embedding_dim,\n",
        "                                 hidden_dim)        \n",
        "        \n",
        "        self.fc = torch.nn.Linear(hidden_dim, output_dim)\n",
        "        \n",
        "\n",
        "    def forward(self, text):\n",
        "        # text dim: [sentence length, batch size]\n",
        "        \n",
        "        embedded = self.embedding(text)\n",
        "        # embedded dim: [sentence length, batch size, embedding dim]\n",
        "        \n",
        "        output, (hidden, cell) = self.rnn(embedded)\n",
        "        # output dim: [sentence length, batch size, hidden dim]\n",
        "        # hidden dim: [1, batch size, hidden dim]\n",
        "\n",
        "        hidden.squeeze_(0)\n",
        "        # hidden dim: [batch size, hidden dim]\n",
        "        \n",
        "        output = self.fc(hidden)\n",
        "        return output"
      ]
    },
    {
      "cell_type": "code",
      "execution_count": 25,
      "metadata": {
        "id": "Ik3NF3faxFmZ"
      },
      "outputs": [],
      "source": [
        "torch.manual_seed(RANDOM_SEED)\n",
        "model = RNN(input_dim=len(TEXT.vocab),\n",
        "            embedding_dim=EMBEDDING_DIM,\n",
        "            hidden_dim=HIDDEN_DIM,\n",
        "            output_dim=NUM_CLASSES # could use 1 for binary classification\n",
        ")\n",
        "\n",
        "model = model.to(DEVICE)\n",
        "optimizer = torch.optim.Adam(model.parameters(), lr=0.005)"
      ]
    },
    {
      "cell_type": "markdown",
      "metadata": {
        "id": "Lv9Ny9di6VcI"
      },
      "source": [
        "## Training"
      ]
    },
    {
      "cell_type": "code",
      "execution_count": 26,
      "metadata": {
        "id": "T5t1Afn4xO11"
      },
      "outputs": [],
      "source": [
        "def compute_accuracy(model, data_loader, device):\n",
        "\n",
        "    with torch.no_grad():\n",
        "\n",
        "        correct_pred, num_examples = 0, 0\n",
        "\n",
        "        for i, (features, targets) in enumerate(data_loader):\n",
        "\n",
        "            features = features.to(device)\n",
        "            targets = targets.float().to(device)\n",
        "\n",
        "            logits = model(features)\n",
        "            _, predicted_labels = torch.max(logits, 1)\n",
        "\n",
        "            num_examples += targets.size(0)\n",
        "            correct_pred += (predicted_labels == targets).sum()\n",
        "    return correct_pred.float()/num_examples * 100"
      ]
    },
    {
      "cell_type": "code",
      "execution_count": null,
      "metadata": {
        "colab": {
          "base_uri": "https://localhost:8080/"
        },
        "id": "EABZM8Vo0ilB",
        "outputId": "a0ecf9e0-28da-44f5-c69d-8285af43b42b"
      },
      "outputs": [
        {
          "output_type": "stream",
          "name": "stdout",
          "text": [
            "Epoch: 001/015 | Batch 000/266 | Loss: 0.7058\n"
          ]
        }
      ],
      "source": [
        "start_time = time.time()\n",
        "\n",
        "for epoch in range(NUM_EPOCHS):\n",
        "    model.train()\n",
        "    for batch_idx, batch_data in enumerate(train_loader):\n",
        "        \n",
        "        text = batch_data.TEXT_COLUMN_NAME.to(DEVICE)\n",
        "        labels = batch_data.LABEL_COLUMN_NAME.to(DEVICE)\n",
        "\n",
        "        ### FORWARD AND BACK PROP\n",
        "        logits = model(text)\n",
        "        loss = F.cross_entropy(logits, labels)\n",
        "        optimizer.zero_grad()\n",
        "        \n",
        "        loss.backward()\n",
        "        \n",
        "        ### UPDATE MODEL PARAMETERS\n",
        "        optimizer.step()\n",
        "        \n",
        "        ### LOGGING\n",
        "        if not batch_idx % 50:\n",
        "            print (f'Epoch: {epoch+1:03d}/{NUM_EPOCHS:03d} | '\n",
        "                   f'Batch {batch_idx:03d}/{len(train_loader):03d} | '\n",
        "                   f'Loss: {loss:.4f}')\n",
        "\n",
        "    with torch.set_grad_enabled(False):\n",
        "        print(f'training accuracy: '\n",
        "              f'{compute_accuracy(model, train_loader, DEVICE):.2f}%'\n",
        "              f'\\nvalid accuracy: '\n",
        "              f'{compute_accuracy(model, valid_loader, DEVICE):.2f}%')\n",
        "        \n",
        "    print(f'Time elapsed: {(time.time() - start_time)/60:.2f} min')\n",
        "    \n",
        "print(f'Total Training Time: {(time.time() - start_time)/60:.2f} min')\n",
        "print(f'Test accuracy: {compute_accuracy(model, test_loader, DEVICE):.2f}%')"
      ]
    },
    {
      "cell_type": "code",
      "execution_count": null,
      "metadata": {
        "id": "jt55pscgFdKZ",
        "outputId": "d1ed772c-9f33-4486-e8d7-6b7d7506ddb1"
      },
      "outputs": [
        {
          "name": "stdout",
          "output_type": "stream",
          "text": [
            "Probability positive:\n"
          ]
        },
        {
          "data": {
            "text/plain": [
              "0.9804818034172058"
            ]
          },
          "execution_count": 26,
          "metadata": {},
          "output_type": "execute_result"
        }
      ],
      "source": [
        "import spacy\n",
        "\n",
        "\n",
        "nlp = spacy.blank(\"en\")\n",
        "\n",
        "def predict_sentiment(model, sentence):\n",
        "\n",
        "    model.eval()\n",
        "    tokenized = [tok.text for tok in nlp.tokenizer(sentence)]\n",
        "    indexed = [TEXT.vocab.stoi[t] for t in tokenized]\n",
        "    length = [len(indexed)]\n",
        "    tensor = torch.LongTensor(indexed).to(DEVICE)\n",
        "    tensor = tensor.unsqueeze(1)\n",
        "    length_tensor = torch.LongTensor(length)\n",
        "    prediction = torch.nn.functional.softmax(model(tensor), dim=1)\n",
        "    return prediction[0][0].item()\n",
        "\n",
        "print('Probability positive:')\n",
        "predict_sentiment(model, \"This is such an awesome movie, I really love it!\")"
      ]
    },
    {
      "cell_type": "code",
      "execution_count": null,
      "metadata": {
        "id": "2ZaAyKpbm7HP",
        "outputId": "8f5e9b1a-2c46-4182-f4a9-f0be619d0f9a"
      },
      "outputs": [
        {
          "name": "stdout",
          "output_type": "stream",
          "text": [
            "Probability negative:\n"
          ]
        },
        {
          "data": {
            "text/plain": [
              "0.9933403395116329"
            ]
          },
          "execution_count": 27,
          "metadata": {},
          "output_type": "execute_result"
        }
      ],
      "source": [
        "print('Probability negative:')\n",
        "1-predict_sentiment(model, \"I really hate this movie. It is really bad and sucks!\")"
      ]
    },
    {
      "cell_type": "code",
      "execution_count": null,
      "metadata": {
        "id": "7lRusB3dF80X",
        "outputId": "c4713d05-432a-4875-ce83-96511282ef1f"
      },
      "outputs": [
        {
          "name": "stdout",
          "output_type": "stream",
          "text": [
            "pandas   : 1.2.3\n",
            "spacy    : 3.0.5\n",
            "torchtext: 0.9.1\n",
            "torch    : 1.8.1\n",
            "\n"
          ]
        }
      ],
      "source": [
        "%watermark -iv"
      ]
    }
  ],
  "metadata": {
    "colab": {
      "name": "rnn_lstm_packed_imdb.ipynb",
      "provenance": [],
      "include_colab_link": true
    },
    "kernelspec": {
      "display_name": "Python 3 (ipykernel)",
      "language": "python",
      "name": "python3"
    },
    "language_info": {
      "codemirror_mode": {
        "name": "ipython",
        "version": 3
      },
      "file_extension": ".py",
      "mimetype": "text/x-python",
      "name": "python",
      "nbconvert_exporter": "python",
      "pygments_lexer": "ipython3",
      "version": "3.9.6"
    },
    "gpuClass": "standard",
    "accelerator": "GPU"
  },
  "nbformat": 4,
  "nbformat_minor": 0
}