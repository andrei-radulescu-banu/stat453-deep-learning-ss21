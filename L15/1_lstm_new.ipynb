{
  "cells": [
    {
      "cell_type": "markdown",
      "metadata": {
        "id": "view-in-github",
        "colab_type": "text"
      },
      "source": [
        "<a href=\"https://colab.research.google.com/github/andrei-radulescu-banu/stat453-deep-learning-ss21/blob/main/L15/1_lstm_new.ipynb\" target=\"_parent\"><img src=\"https://colab.research.google.com/assets/colab-badge.svg\" alt=\"Open In Colab\"/></a>"
      ]
    },
    {
      "cell_type": "code",
      "source": [
        "!pip install -U torch==1.13.0 torchtext==0.14.0 torchdata==0.5.0\n",
        "\n",
        "# Reload environment\n",
        "exit()"
      ],
      "metadata": {
        "colab": {
          "base_uri": "https://localhost:8080/"
        },
        "id": "quCeAViQxtFC",
        "outputId": "ded68056-9ba9-4d1f-d1ec-f39fc8f6b578"
      },
      "execution_count": 1,
      "outputs": [
        {
          "output_type": "stream",
          "name": "stdout",
          "text": [
            "Looking in indexes: https://pypi.org/simple, https://us-python.pkg.dev/colab-wheels/public/simple/\n",
            "Requirement already satisfied: torch==1.13.0 in /usr/local/lib/python3.8/dist-packages (1.13.0+cu116)\n",
            "Requirement already satisfied: torchtext==0.14.0 in /usr/local/lib/python3.8/dist-packages (0.14.0)\n",
            "Collecting torchdata==0.5.0\n",
            "  Downloading torchdata-0.5.0-cp38-cp38-manylinux_2_17_x86_64.manylinux2014_x86_64.whl (4.5 MB)\n",
            "\u001b[K     |████████████████████████████████| 4.5 MB 4.6 MB/s \n",
            "\u001b[?25hRequirement already satisfied: typing-extensions in /usr/local/lib/python3.8/dist-packages (from torch==1.13.0) (4.4.0)\n",
            "Requirement already satisfied: numpy in /usr/local/lib/python3.8/dist-packages (from torchtext==0.14.0) (1.21.6)\n",
            "Requirement already satisfied: requests in /usr/local/lib/python3.8/dist-packages (from torchtext==0.14.0) (2.23.0)\n",
            "Requirement already satisfied: tqdm in /usr/local/lib/python3.8/dist-packages (from torchtext==0.14.0) (4.64.1)\n",
            "Collecting urllib3>=1.25\n",
            "  Downloading urllib3-1.26.13-py2.py3-none-any.whl (140 kB)\n",
            "\u001b[K     |████████████████████████████████| 140 kB 76.0 MB/s \n",
            "\u001b[?25hCollecting portalocker>=2.0.0\n",
            "  Downloading portalocker-2.6.0-py2.py3-none-any.whl (15 kB)\n",
            "Collecting urllib3>=1.25\n",
            "  Downloading urllib3-1.25.11-py2.py3-none-any.whl (127 kB)\n",
            "\u001b[K     |████████████████████████████████| 127 kB 64.2 MB/s \n",
            "\u001b[?25hRequirement already satisfied: certifi>=2017.4.17 in /usr/local/lib/python3.8/dist-packages (from requests->torchtext==0.14.0) (2022.9.24)\n",
            "Requirement already satisfied: chardet<4,>=3.0.2 in /usr/local/lib/python3.8/dist-packages (from requests->torchtext==0.14.0) (3.0.4)\n",
            "Requirement already satisfied: idna<3,>=2.5 in /usr/local/lib/python3.8/dist-packages (from requests->torchtext==0.14.0) (2.10)\n",
            "Installing collected packages: urllib3, portalocker, torchdata\n",
            "  Attempting uninstall: urllib3\n",
            "    Found existing installation: urllib3 1.24.3\n",
            "    Uninstalling urllib3-1.24.3:\n",
            "      Successfully uninstalled urllib3-1.24.3\n",
            "Successfully installed portalocker-2.6.0 torchdata-0.5.0 urllib3-1.25.11\n"
          ]
        }
      ]
    },
    {
      "cell_type": "markdown",
      "metadata": {
        "id": "1kiY4tZXm7Gz"
      },
      "source": [
        "STAT 453: Deep Learning (Spring 2021)  \n",
        "Instructor: Sebastian Raschka (sraschka@wisc.edu)  \n",
        "\n",
        "Course website: http://pages.stat.wisc.edu/~sraschka/teaching/stat453-ss2021/  \n",
        "GitHub repository: https://github.com/rasbt/stat453-deep-learning-ss21\n",
        "\n",
        "---"
      ]
    },
    {
      "cell_type": "code",
      "source": [
        "!pip install watermark\n",
        "!pip install colab-env --upgrade\n",
        "import colab_env\n",
        "colab_env.envvar_handler.add_env(\"CUBLAS_WORKSPACE_CONFIG\", \":4096:8\", overwrite=True)\n",
        "!git clone https://github.com/andrei-radulescu-banu/stat453-deep-learning-ss21.git\n",
        "import sys, os\n",
        "sys.path.append(\"/content/stat453-deep-learning-ss21/L15\")"
      ],
      "metadata": {
        "colab": {
          "base_uri": "https://localhost:8080/"
        },
        "id": "RxYMCgA_nBvP",
        "outputId": "1bcf41ae-dc82-4955-af74-d4044cd4d98d"
      },
      "execution_count": 1,
      "outputs": [
        {
          "output_type": "stream",
          "name": "stdout",
          "text": [
            "Looking in indexes: https://pypi.org/simple, https://us-python.pkg.dev/colab-wheels/public/simple/\n",
            "Collecting watermark\n",
            "  Downloading watermark-2.3.1-py2.py3-none-any.whl (7.2 kB)\n",
            "Requirement already satisfied: ipython in /usr/local/lib/python3.8/dist-packages (from watermark) (7.9.0)\n",
            "Requirement already satisfied: pickleshare in /usr/local/lib/python3.8/dist-packages (from ipython->watermark) (0.7.5)\n",
            "Requirement already satisfied: pygments in /usr/local/lib/python3.8/dist-packages (from ipython->watermark) (2.6.1)\n",
            "Requirement already satisfied: decorator in /usr/local/lib/python3.8/dist-packages (from ipython->watermark) (4.4.2)\n",
            "Requirement already satisfied: setuptools>=18.5 in /usr/local/lib/python3.8/dist-packages (from ipython->watermark) (57.4.0)\n",
            "Requirement already satisfied: backcall in /usr/local/lib/python3.8/dist-packages (from ipython->watermark) (0.2.0)\n",
            "Requirement already satisfied: traitlets>=4.2 in /usr/local/lib/python3.8/dist-packages (from ipython->watermark) (5.6.0)\n",
            "Collecting jedi>=0.10\n",
            "  Downloading jedi-0.18.2-py2.py3-none-any.whl (1.6 MB)\n",
            "\u001b[K     |████████████████████████████████| 1.6 MB 4.5 MB/s \n",
            "\u001b[?25hRequirement already satisfied: prompt-toolkit<2.1.0,>=2.0.0 in /usr/local/lib/python3.8/dist-packages (from ipython->watermark) (2.0.10)\n",
            "Requirement already satisfied: pexpect in /usr/local/lib/python3.8/dist-packages (from ipython->watermark) (4.8.0)\n",
            "Requirement already satisfied: parso<0.9.0,>=0.8.0 in /usr/local/lib/python3.8/dist-packages (from jedi>=0.10->ipython->watermark) (0.8.3)\n",
            "Requirement already satisfied: six>=1.9.0 in /usr/local/lib/python3.8/dist-packages (from prompt-toolkit<2.1.0,>=2.0.0->ipython->watermark) (1.15.0)\n",
            "Requirement already satisfied: wcwidth in /usr/local/lib/python3.8/dist-packages (from prompt-toolkit<2.1.0,>=2.0.0->ipython->watermark) (0.2.5)\n",
            "Requirement already satisfied: ptyprocess>=0.5 in /usr/local/lib/python3.8/dist-packages (from pexpect->ipython->watermark) (0.7.0)\n",
            "Installing collected packages: jedi, watermark\n",
            "Successfully installed jedi-0.18.2 watermark-2.3.1\n",
            "Looking in indexes: https://pypi.org/simple, https://us-python.pkg.dev/colab-wheels/public/simple/\n",
            "Collecting colab-env\n",
            "  Downloading colab-env-0.2.0.tar.gz (4.7 kB)\n",
            "Collecting python-dotenv<1.0,>=0.10.0\n",
            "  Downloading python_dotenv-0.21.0-py3-none-any.whl (18 kB)\n",
            "Building wheels for collected packages: colab-env\n",
            "  Building wheel for colab-env (setup.py) ... \u001b[?25l\u001b[?25hdone\n",
            "  Created wheel for colab-env: filename=colab_env-0.2.0-py3-none-any.whl size=3837 sha256=fc953a3cf3d36d43a40c0e362d1a436421baeebb2aa5d65352b87adfed3d7859\n",
            "  Stored in directory: /root/.cache/pip/wheels/1c/65/0c/5552431f2622d6e0283e3dba61c6837103a9cbdbd89b7b0cba\n",
            "Successfully built colab-env\n",
            "Installing collected packages: python-dotenv, colab-env\n",
            "Successfully installed colab-env-0.2.0 python-dotenv-0.21.0\n",
            "Mounted at /content/gdrive\n",
            "Cloning into 'stat453-deep-learning-ss21'...\n",
            "remote: Enumerating objects: 1331, done.\u001b[K\n",
            "remote: Counting objects: 100% (281/281), done.\u001b[K\n",
            "remote: Compressing objects: 100% (124/124), done.\u001b[K\n",
            "remote: Total 1331 (delta 197), reused 179 (delta 135), pack-reused 1050\u001b[K\n",
            "Receiving objects: 100% (1331/1331), 116.94 MiB | 35.98 MiB/s, done.\n",
            "Resolving deltas: 100% (301/301), done.\n"
          ]
        }
      ]
    },
    {
      "cell_type": "markdown",
      "metadata": {
        "id": "vY4SK0xKAJgm"
      },
      "source": [
        "# RNN Classifier with LSTM Trained on Own Dataset (IMDB)"
      ]
    },
    {
      "cell_type": "markdown",
      "metadata": {
        "id": "sc6xejhY-NzZ"
      },
      "source": [
        "Example notebook showing how to use an own CSV text dataset for training a simple RNN for sentiment classification (here: a binary classification problem with two labels, positive and negative) using LSTM (Long Short Term Memory) cells."
      ]
    },
    {
      "cell_type": "code",
      "execution_count": 75,
      "metadata": {
        "colab": {
          "base_uri": "https://localhost:8080/"
        },
        "id": "moNmVfuvnImW",
        "outputId": "90fa2028-acc8-49b7-94f9-dd12bfb83183"
      },
      "outputs": [
        {
          "output_type": "stream",
          "name": "stdout",
          "text": [
            "The watermark extension is already loaded. To reload it, use:\n",
            "  %reload_ext watermark\n",
            "Author: Sebastian Raschka\n",
            "\n",
            "Python implementation: CPython\n",
            "Python version       : 3.8.16\n",
            "IPython version      : 7.9.0\n",
            "\n",
            "torch    : 1.13.0+cu116\n",
            "torchtext: 0.14.0\n",
            "\n"
          ]
        }
      ],
      "source": [
        "%load_ext watermark\n",
        "%watermark -a 'Sebastian Raschka' -v -p torch,torchtext\n",
        "\n",
        "import torch\n",
        "import torch.nn.functional as F\n",
        "import torchtext\n",
        "import time\n",
        "import random\n",
        "import numpy as np\n",
        "import pandas as pd\n",
        "\n",
        "torch.backends.cudnn.deterministic = True"
      ]
    },
    {
      "cell_type": "markdown",
      "metadata": {
        "id": "GSRL42Qgy8I8"
      },
      "source": [
        "## General Settings"
      ]
    },
    {
      "cell_type": "code",
      "execution_count": 3,
      "metadata": {
        "id": "OvW1RgfepCBq"
      },
      "outputs": [],
      "source": [
        "RANDOM_SEED = 123\n",
        "torch.manual_seed(RANDOM_SEED)\n",
        "\n",
        "VOCABULARY_SIZE = 20000\n",
        "LEARNING_RATE = 0.005\n",
        "BATCH_SIZE = 128\n",
        "NUM_EPOCHS = 15\n",
        "DEVICE = torch.device('cuda:0' if torch.cuda.is_available() else 'cpu')\n",
        "\n",
        "EMBEDDING_DIM = 128\n",
        "HIDDEN_DIM = 256\n",
        "NUM_CLASSES = 2"
      ]
    },
    {
      "cell_type": "markdown",
      "metadata": {
        "id": "mQMmKUEisW4W"
      },
      "source": [
        "## Download Dataset"
      ]
    },
    {
      "cell_type": "markdown",
      "metadata": {
        "id": "tHwOuk54m7G6"
      },
      "source": [
        "The following cells will download the IMDB movie review dataset (http://ai.stanford.edu/~amaas/data/sentiment/) for positive-negative sentiment classification in as CSV-formatted file:"
      ]
    },
    {
      "cell_type": "code",
      "execution_count": 4,
      "metadata": {
        "colab": {
          "base_uri": "https://localhost:8080/"
        },
        "id": "7Kq0XWHom7G6",
        "outputId": "ff29607d-9dd5-48dd-c227-7031f19c54f8"
      },
      "outputs": [
        {
          "output_type": "stream",
          "name": "stdout",
          "text": [
            "--2022-12-10 11:59:42--  https://github.com/rasbt/python-machine-learning-book-3rd-edition/raw/master/ch08/movie_data.csv.gz\n",
            "Resolving github.com (github.com)... 140.82.114.4\n",
            "Connecting to github.com (github.com)|140.82.114.4|:443... connected.\n",
            "HTTP request sent, awaiting response... 302 Found\n",
            "Location: https://raw.githubusercontent.com/rasbt/python-machine-learning-book-3rd-edition/master/ch08/movie_data.csv.gz [following]\n",
            "--2022-12-10 11:59:43--  https://raw.githubusercontent.com/rasbt/python-machine-learning-book-3rd-edition/master/ch08/movie_data.csv.gz\n",
            "Resolving raw.githubusercontent.com (raw.githubusercontent.com)... 185.199.108.133, 185.199.109.133, 185.199.110.133, ...\n",
            "Connecting to raw.githubusercontent.com (raw.githubusercontent.com)|185.199.108.133|:443... connected.\n",
            "HTTP request sent, awaiting response... 200 OK\n",
            "Length: 26521894 (25M) [application/octet-stream]\n",
            "Saving to: ‘movie_data.csv.gz’\n",
            "\n",
            "movie_data.csv.gz   100%[===================>]  25.29M   156MB/s    in 0.2s    \n",
            "\n",
            "2022-12-10 11:59:43 (156 MB/s) - ‘movie_data.csv.gz’ saved [26521894/26521894]\n",
            "\n"
          ]
        }
      ],
      "source": [
        "!wget https://github.com/rasbt/python-machine-learning-book-3rd-edition/raw/master/ch08/movie_data.csv.gz"
      ]
    },
    {
      "cell_type": "code",
      "execution_count": 5,
      "metadata": {
        "id": "hXwZGkBQm7G7"
      },
      "outputs": [],
      "source": [
        "!gunzip -f movie_data.csv.gz "
      ]
    },
    {
      "cell_type": "markdown",
      "metadata": {
        "id": "wGreVqRDm7G7"
      },
      "source": [
        "Check that the dataset looks okay:"
      ]
    },
    {
      "cell_type": "code",
      "execution_count": 6,
      "metadata": {
        "colab": {
          "base_uri": "https://localhost:8080/",
          "height": 206
        },
        "id": "uVr6xN53m7G8",
        "outputId": "14939e48-778e-465c-e7ed-ff5a89664b4c"
      },
      "outputs": [
        {
          "output_type": "execute_result",
          "data": {
            "text/plain": [
              "                                              review  sentiment\n",
              "0  In 1974, the teenager Martha Moxley (Maggie Gr...          1\n",
              "1  OK... so... I really like Kris Kristofferson a...          0\n",
              "2  ***SPOILER*** Do not read this, if you think a...          0\n",
              "3  hi for all the people who have seen this wonde...          1\n",
              "4  I recently bought the DVD, forgetting just how...          0"
            ],
            "text/html": [
              "\n",
              "  <div id=\"df-5d3c751a-7ecc-4378-aa89-849da28cad7c\">\n",
              "    <div class=\"colab-df-container\">\n",
              "      <div>\n",
              "<style scoped>\n",
              "    .dataframe tbody tr th:only-of-type {\n",
              "        vertical-align: middle;\n",
              "    }\n",
              "\n",
              "    .dataframe tbody tr th {\n",
              "        vertical-align: top;\n",
              "    }\n",
              "\n",
              "    .dataframe thead th {\n",
              "        text-align: right;\n",
              "    }\n",
              "</style>\n",
              "<table border=\"1\" class=\"dataframe\">\n",
              "  <thead>\n",
              "    <tr style=\"text-align: right;\">\n",
              "      <th></th>\n",
              "      <th>review</th>\n",
              "      <th>sentiment</th>\n",
              "    </tr>\n",
              "  </thead>\n",
              "  <tbody>\n",
              "    <tr>\n",
              "      <th>0</th>\n",
              "      <td>In 1974, the teenager Martha Moxley (Maggie Gr...</td>\n",
              "      <td>1</td>\n",
              "    </tr>\n",
              "    <tr>\n",
              "      <th>1</th>\n",
              "      <td>OK... so... I really like Kris Kristofferson a...</td>\n",
              "      <td>0</td>\n",
              "    </tr>\n",
              "    <tr>\n",
              "      <th>2</th>\n",
              "      <td>***SPOILER*** Do not read this, if you think a...</td>\n",
              "      <td>0</td>\n",
              "    </tr>\n",
              "    <tr>\n",
              "      <th>3</th>\n",
              "      <td>hi for all the people who have seen this wonde...</td>\n",
              "      <td>1</td>\n",
              "    </tr>\n",
              "    <tr>\n",
              "      <th>4</th>\n",
              "      <td>I recently bought the DVD, forgetting just how...</td>\n",
              "      <td>0</td>\n",
              "    </tr>\n",
              "  </tbody>\n",
              "</table>\n",
              "</div>\n",
              "      <button class=\"colab-df-convert\" onclick=\"convertToInteractive('df-5d3c751a-7ecc-4378-aa89-849da28cad7c')\"\n",
              "              title=\"Convert this dataframe to an interactive table.\"\n",
              "              style=\"display:none;\">\n",
              "        \n",
              "  <svg xmlns=\"http://www.w3.org/2000/svg\" height=\"24px\"viewBox=\"0 0 24 24\"\n",
              "       width=\"24px\">\n",
              "    <path d=\"M0 0h24v24H0V0z\" fill=\"none\"/>\n",
              "    <path d=\"M18.56 5.44l.94 2.06.94-2.06 2.06-.94-2.06-.94-.94-2.06-.94 2.06-2.06.94zm-11 1L8.5 8.5l.94-2.06 2.06-.94-2.06-.94L8.5 2.5l-.94 2.06-2.06.94zm10 10l.94 2.06.94-2.06 2.06-.94-2.06-.94-.94-2.06-.94 2.06-2.06.94z\"/><path d=\"M17.41 7.96l-1.37-1.37c-.4-.4-.92-.59-1.43-.59-.52 0-1.04.2-1.43.59L10.3 9.45l-7.72 7.72c-.78.78-.78 2.05 0 2.83L4 21.41c.39.39.9.59 1.41.59.51 0 1.02-.2 1.41-.59l7.78-7.78 2.81-2.81c.8-.78.8-2.07 0-2.86zM5.41 20L4 18.59l7.72-7.72 1.47 1.35L5.41 20z\"/>\n",
              "  </svg>\n",
              "      </button>\n",
              "      \n",
              "  <style>\n",
              "    .colab-df-container {\n",
              "      display:flex;\n",
              "      flex-wrap:wrap;\n",
              "      gap: 12px;\n",
              "    }\n",
              "\n",
              "    .colab-df-convert {\n",
              "      background-color: #E8F0FE;\n",
              "      border: none;\n",
              "      border-radius: 50%;\n",
              "      cursor: pointer;\n",
              "      display: none;\n",
              "      fill: #1967D2;\n",
              "      height: 32px;\n",
              "      padding: 0 0 0 0;\n",
              "      width: 32px;\n",
              "    }\n",
              "\n",
              "    .colab-df-convert:hover {\n",
              "      background-color: #E2EBFA;\n",
              "      box-shadow: 0px 1px 2px rgba(60, 64, 67, 0.3), 0px 1px 3px 1px rgba(60, 64, 67, 0.15);\n",
              "      fill: #174EA6;\n",
              "    }\n",
              "\n",
              "    [theme=dark] .colab-df-convert {\n",
              "      background-color: #3B4455;\n",
              "      fill: #D2E3FC;\n",
              "    }\n",
              "\n",
              "    [theme=dark] .colab-df-convert:hover {\n",
              "      background-color: #434B5C;\n",
              "      box-shadow: 0px 1px 3px 1px rgba(0, 0, 0, 0.15);\n",
              "      filter: drop-shadow(0px 1px 2px rgba(0, 0, 0, 0.3));\n",
              "      fill: #FFFFFF;\n",
              "    }\n",
              "  </style>\n",
              "\n",
              "      <script>\n",
              "        const buttonEl =\n",
              "          document.querySelector('#df-5d3c751a-7ecc-4378-aa89-849da28cad7c button.colab-df-convert');\n",
              "        buttonEl.style.display =\n",
              "          google.colab.kernel.accessAllowed ? 'block' : 'none';\n",
              "\n",
              "        async function convertToInteractive(key) {\n",
              "          const element = document.querySelector('#df-5d3c751a-7ecc-4378-aa89-849da28cad7c');\n",
              "          const dataTable =\n",
              "            await google.colab.kernel.invokeFunction('convertToInteractive',\n",
              "                                                     [key], {});\n",
              "          if (!dataTable) return;\n",
              "\n",
              "          const docLinkHtml = 'Like what you see? Visit the ' +\n",
              "            '<a target=\"_blank\" href=https://colab.research.google.com/notebooks/data_table.ipynb>data table notebook</a>'\n",
              "            + ' to learn more about interactive tables.';\n",
              "          element.innerHTML = '';\n",
              "          dataTable['output_type'] = 'display_data';\n",
              "          await google.colab.output.renderOutput(dataTable, element);\n",
              "          const docLink = document.createElement('div');\n",
              "          docLink.innerHTML = docLinkHtml;\n",
              "          element.appendChild(docLink);\n",
              "        }\n",
              "      </script>\n",
              "    </div>\n",
              "  </div>\n",
              "  "
            ]
          },
          "metadata": {},
          "execution_count": 6
        }
      ],
      "source": [
        "df = pd.read_csv('movie_data.csv')\n",
        "df.head()"
      ]
    },
    {
      "cell_type": "raw",
      "metadata": {
        "id": "TCYKMce_m7G9"
      },
      "source": [
        "df.columns = ['TEXT_COLUMN_NAME', 'LABEL_COLUMN_NAME']\n",
        "df.to_csv('movie_data.csv', index=None)\n",
        "\n",
        "df = pd.read_csv('movie_data.csv')\n",
        "df.head()"
      ]
    },
    {
      "cell_type": "code",
      "execution_count": 7,
      "metadata": {
        "id": "ayCZ1etlm7G9"
      },
      "outputs": [],
      "source": [
        "del df"
      ]
    },
    {
      "cell_type": "markdown",
      "metadata": {
        "id": "dJJJ1LtSm7G9"
      },
      "source": [
        "## Prepare Dataset with Torchdata and the new DataPipes API"
      ]
    },
    {
      "cell_type": "code",
      "source": [
        "from torchdata.datapipes.iter import IterableWrapper, FileOpener\n",
        "datapipe = IterableWrapper([\"movie_data.csv\"])\n",
        "datapipe = FileOpener(datapipe, mode='b')\n",
        "datapipe = datapipe.parse_csv(skip_lines=1)\n",
        "\n",
        "for sample in datapipe:\n",
        "     print(sample)\n",
        "     break"
      ],
      "metadata": {
        "colab": {
          "base_uri": "https://localhost:8080/"
        },
        "id": "A7Ue2q-1kwIj",
        "outputId": "fb4e00c3-3972-452a-c5cc-e7333463e27a"
      },
      "execution_count": 8,
      "outputs": [
        {
          "output_type": "stream",
          "name": "stdout",
          "text": [
            "['In 1974, the teenager Martha Moxley (Maggie Grace) moves to the high-class area of Belle Haven, Greenwich, Connecticut. On the Mischief Night, eve of Halloween, she was murdered in the backyard of her house and her murder remained unsolved. Twenty-two years later, the writer Mark Fuhrman (Christopher Meloni), who is a former LA detective that has fallen in disgrace for perjury in O.J. Simpson trial and moved to Idaho, decides to investigate the case with his partner Stephen Weeks (Andrew Mitchell) with the purpose of writing a book. The locals squirm and do not welcome them, but with the support of the retired detective Steve Carroll (Robert Forster) that was in charge of the investigation in the 70\\'s, they discover the criminal and a net of power and money to cover the murder.<br /><br />\"Murder in Greenwich\" is a good TV movie, with the true story of a murder of a fifteen years old girl that was committed by a wealthy teenager whose mother was a Kennedy. The powerful and rich family used their influence to cover the murder for more than twenty years. However, a snoopy detective and convicted perjurer in disgrace was able to disclose how the hideous crime was committed. The screenplay shows the investigation of Mark and the last days of Martha in parallel, but there is a lack of the emotion in the dramatization. My vote is seven.<br /><br />Title (Brazil): Not Available', '1']\n"
          ]
        }
      ]
    },
    {
      "cell_type": "markdown",
      "source": [
        "## Split Dataset into Train/Validation/Test"
      ],
      "metadata": {
        "id": "uuDLF9BA4fuX"
      }
    },
    {
      "cell_type": "markdown",
      "source": [
        "Split the dataset into training, validation, and test partitions:"
      ],
      "metadata": {
        "id": "FxH6EdtA5CU5"
      }
    },
    {
      "cell_type": "code",
      "source": [
        "# Get the number of rows in dataset\n",
        "N_ROWS = len(list(datapipe))  # 50000\n",
        "\n",
        "# Split into training and val datapipes early on. Will build vocabulary from training datapipe only.\n",
        "train_dp, valid_dp, test_dp = datapipe.random_split(total_length=N_ROWS, weights={\"train\": 0.8, \"valid\": 0.1, \"test\": 0.1}, seed=0)\n",
        "\n",
        "print(f'Num Train: {len(train_dp)}')\n",
        "print(f'Num Validate: {len(valid_dp)}')\n",
        "print(f'Num Test: {len(test_dp)}')"
      ],
      "metadata": {
        "colab": {
          "base_uri": "https://localhost:8080/"
        },
        "id": "We2S_UwOsroc",
        "outputId": "1b0edec8-7934-44f4-b7a6-7ad3ab807690"
      },
      "execution_count": 116,
      "outputs": [
        {
          "output_type": "stream",
          "name": "stdout",
          "text": [
            "Num Train: 40000\n",
            "Num Validate: 5000\n",
            "Num Test: 5000\n"
          ]
        }
      ]
    },
    {
      "cell_type": "markdown",
      "source": [
        "## Build the Vocabulary"
      ],
      "metadata": {
        "id": "RDIpnTf14KmZ"
      }
    },
    {
      "cell_type": "markdown",
      "source": [
        "Build the vocabulary based on the top `VOCABULARY_SIZE` words. **build_vocab_from_iterator()** collects the most frequent tokens from the iterator **yield_tokens(train_datapipe)**, and adds special tokens at the begginning w/o changing the order of supplied tokens.\n"
      ],
      "metadata": {
        "id": "jRCjbUQK5q1j"
      }
    },
    {
      "cell_type": "code",
      "source": [
        "from torchtext.vocab import build_vocab_from_iterator\n",
        "from torchtext.data.utils import get_tokenizer\n",
        "\n",
        "# See tutorial at https://www.youtube.com/watch?v=CrS-LFXEiyk\n",
        "tokenizer = get_tokenizer(\"basic_english\")\n",
        "\n",
        "def yield_tokens(data_iter):\n",
        "    for text, _ in data_iter:\n",
        "        yield tokenizer(text)\n",
        "\n",
        "def get_vocab(train_datapipe):\n",
        "    vocab = build_vocab_from_iterator(yield_tokens(train_datapipe), specials=[\"<UNK>\", \"<PAD>\"], max_tokens=VOCABULARY_SIZE)\n",
        "    vocab.set_default_index(vocab[\"<UNK>\"])\n",
        "    return vocab"
      ],
      "metadata": {
        "id": "aPC6DfASsZrl"
      },
      "execution_count": 37,
      "outputs": []
    },
    {
      "cell_type": "markdown",
      "source": [
        "**Build the vocabulary**"
      ],
      "metadata": {
        "id": "wDgg4ub_9zgZ"
      }
    },
    {
      "cell_type": "code",
      "source": [
        "vocab = get_vocab(train_dp)\n",
        "print(\"Vocabulary size: \", len(vocab))"
      ],
      "metadata": {
        "colab": {
          "base_uri": "https://localhost:8080/"
        },
        "id": "PeyMOsYiUhGO",
        "outputId": "cf87f03e-3fdd-414a-d125-0ffcd4f1588d"
      },
      "execution_count": 38,
      "outputs": [
        {
          "output_type": "stream",
          "name": "stdout",
          "text": [
            "Vocabulary size:  20000\n"
          ]
        }
      ]
    },
    {
      "cell_type": "markdown",
      "source": [
        "**Tokens corresponding to the first 10 indices (0, 1, ..., 9):**"
      ],
      "metadata": {
        "id": "_3N2yVlx78fM"
      }
    },
    {
      "cell_type": "code",
      "source": [
        "print(vocab.get_itos()[:10]) # itos = integer-to-string"
      ],
      "metadata": {
        "colab": {
          "base_uri": "https://localhost:8080/"
        },
        "id": "RbguzRrs7781",
        "outputId": "90643703-9b8c-42c2-d318-b97916c8abdf"
      },
      "execution_count": 39,
      "outputs": [
        {
          "output_type": "stream",
          "name": "stdout",
          "text": [
            "['<UNK>', '<PAD>', 'the', '.', ',', 'and', 'a', 'of', 'to', \"'\"]\n"
          ]
        }
      ]
    },
    {
      "cell_type": "markdown",
      "source": [
        "PyTorch RNNs can deal with arbitrary lengths due to dynamic graphs, but padding is necessary for padding sequences to the same length in a given minibatch so we can store those in an array."
      ],
      "metadata": {
        "id": "3J1xW7i46Luz"
      }
    },
    {
      "cell_type": "markdown",
      "source": [
        "**Converting a string to an integer:**"
      ],
      "metadata": {
        "id": "FQusdyKM9df0"
      }
    },
    {
      "cell_type": "code",
      "source": [
        "# A direct way\n",
        "print(f\"the: {vocab['the']}\")\n",
        "\n",
        "# And an indirect way, using get_stoi() to get a dictionary of tokens and values\n",
        "print(f\"the: {vocab.get_stoi()['the']}\") # stoi = string-to-integer\n",
        "\n",
        "# What is the padding value?\n",
        "print(f\"<PAD>: {vocab['<PAD>']}\")\n",
        "PADDING_VALUE=vocab['<PAD>']"
      ],
      "metadata": {
        "colab": {
          "base_uri": "https://localhost:8080/"
        },
        "id": "2Ipkzrhr770W",
        "outputId": "d183ff91-e492-4825-ff4b-d37f9f7c309a"
      },
      "execution_count": 40,
      "outputs": [
        {
          "output_type": "stream",
          "name": "stdout",
          "text": [
            "the: 2\n",
            "the: 2\n",
            "<PAD>: 1\n"
          ]
        }
      ]
    },
    {
      "cell_type": "markdown",
      "source": [
        "**How are unknown tokens handled?**"
      ],
      "metadata": {
        "id": "UyeWI9Ci-evW"
      }
    },
    {
      "cell_type": "code",
      "source": [
        "print(f\"Default index: {vocab.get_default_index()}\")\n",
        "\n",
        "# Value of unknown token is default index when referenced with [] brackets:\n",
        "vocab['123aaa']"
      ],
      "metadata": {
        "colab": {
          "base_uri": "https://localhost:8080/"
        },
        "id": "Nl_nM0r3699R",
        "outputId": "f92e2869-0be0-429e-912f-c8ee967ef64e"
      },
      "execution_count": 115,
      "outputs": [
        {
          "output_type": "stream",
          "name": "stdout",
          "text": [
            "Default index: 0\n"
          ]
        },
        {
          "output_type": "execute_result",
          "data": {
            "text/plain": [
              "0"
            ]
          },
          "metadata": {},
          "execution_count": 115
        }
      ]
    },
    {
      "cell_type": "markdown",
      "source": [
        "Both `text_transform` and `label_transform` are the callable object, such as a lambda func here, to process the raw text and label data from the dataset iterators."
      ],
      "metadata": {
        "id": "6bk05mhx_xUW"
      }
    },
    {
      "cell_type": "code",
      "source": [
        "text_transform = lambda x: [vocab[token] for token in tokenizer(x)]\n",
        "label_transform = lambda x: 1 if x == '1' else 0\n",
        "\n",
        "# Print out the output of text_transform\n",
        "print(\"input to the text_transform:\", \"here is an example\")\n",
        "print(\"output of the text_transform:\", text_transform(\"here is an example\"))"
      ],
      "metadata": {
        "colab": {
          "base_uri": "https://localhost:8080/"
        },
        "id": "BLTO10Ha_ygS",
        "outputId": "56f13f55-8421-4ca5-97d3-1aa5db0d6043"
      },
      "execution_count": 48,
      "outputs": [
        {
          "output_type": "stream",
          "name": "stdout",
          "text": [
            "input to the text_transform: here is an example\n",
            "output of the text_transform: [135, 10, 41, 476]\n"
          ]
        }
      ]
    },
    {
      "cell_type": "markdown",
      "source": [
        "**How do I convert an array of integers to the corresponding tokens?**"
      ],
      "metadata": {
        "id": "aMrQ41cEKszo"
      }
    },
    {
      "cell_type": "code",
      "source": [
        "vocab_itos = vocab.get_itos()\n",
        "vec_vocab_itos = np.vectorize(lambda x: vocab_itos[x])\n",
        "vec_vocab_itos([1, 2, 3, 4, 5])"
      ],
      "metadata": {
        "colab": {
          "base_uri": "https://localhost:8080/"
        },
        "id": "XIBt3bdlKr1t",
        "outputId": "84371ef3-7db7-4876-cd74-303d35486dcf"
      },
      "execution_count": 80,
      "outputs": [
        {
          "output_type": "execute_result",
          "data": {
            "text/plain": [
              "array(['<PAD>', 'the', '.', ',', 'and'], dtype='<U5')"
            ]
          },
          "metadata": {},
          "execution_count": 80
        }
      ]
    },
    {
      "cell_type": "markdown",
      "source": [
        "## Define Data Loaders"
      ],
      "metadata": {
        "id": "5ohB-Ern-AmJ"
      }
    },
    {
      "cell_type": "markdown",
      "source": [
        "`torch.utils.data.DataLoader` is used to generate data batch. Users could customize the data batch by defining a function with the `collate_fn` argument in the DataLoader. Here, in the `collate_batch` func, we process the raw text data and add padding to dynamically match the longest sentence in a batch."
      ],
      "metadata": {
        "id": "PnyQAEm4_D9I"
      }
    },
    {
      "cell_type": "code",
      "source": [
        "from torch.utils.data import DataLoader\n",
        "from torch.nn.utils.rnn import pad_sequence\n",
        "import torch\n",
        "\n",
        "def collate_batch(batch):\n",
        "   text_list, label_list = [], []\n",
        "   for (_text, _label) in batch:\n",
        "        label_list.append(label_transform(_label))\n",
        "        processed_text = torch.tensor(text_transform(_text))\n",
        "        text_list.append(processed_text)\n",
        "   return pad_sequence(text_list, padding_value=PADDING_VALUE).to(DEVICE), torch.tensor(label_list).to(DEVICE)\n",
        "\n",
        "train_loader = DataLoader(list(train_dp), batch_size=BATCH_SIZE, shuffle=True, \n",
        "                          collate_fn=collate_batch)\n",
        "valid_loader = DataLoader(list(valid_dp), batch_size=BATCH_SIZE, shuffle=True, \n",
        "                          collate_fn=collate_batch)\n",
        "test_loader = DataLoader(list(test_dp), batch_size=BATCH_SIZE, shuffle=True, \n",
        "                         collate_fn=collate_batch)\n",
        "\n",
        "\n",
        "text_batch, label_batch = next(iter(train_dataloader))\n",
        "print(text_batch.size())\n",
        "print(label_batch.size())"
      ],
      "metadata": {
        "colab": {
          "base_uri": "https://localhost:8080/"
        },
        "id": "uFAZeWDa_H1g",
        "outputId": "33830faf-3646-4db2-b000-05b7e765a167"
      },
      "execution_count": 129,
      "outputs": [
        {
          "output_type": "stream",
          "name": "stdout",
          "text": [
            "torch.Size([850, 128])\n",
            "torch.Size([128])\n"
          ]
        }
      ]
    },
    {
      "cell_type": "markdown",
      "source": [
        "Testing the iterators (note that the number of rows depends on the longest document in the respective batch):"
      ],
      "metadata": {
        "id": "alhb-l3CSvO1"
      }
    },
    {
      "cell_type": "code",
      "source": [
        "print('Train')\n",
        "for text_batch, label_batch in train_loader:\n",
        "    print(f'Text matrix size: {text_batch.size()}')\n",
        "    print(f'Target vector size: {label_batch.size()}')\n",
        "    break\n",
        "    \n",
        "print('\\nValid:')\n",
        "for text_batch, label_batch in valid_loader:\n",
        "    print(f'Text matrix size: {text_batch.size()}')\n",
        "    print(f'Target vector size: {label_batch.size()}')\n",
        "    break\n",
        "    \n",
        "print('\\nTest:')\n",
        "for text_batch, label_batch in test_loader:\n",
        "    print(f'Text matrix size: {text_batch.size()}')\n",
        "    print(f'Target vector size: {label_batch.size()}')\n",
        "    break"
      ],
      "metadata": {
        "colab": {
          "base_uri": "https://localhost:8080/"
        },
        "id": "4P65G4zqS1qk",
        "outputId": "a9d31733-7342-4373-9ba3-8d9377118146"
      },
      "execution_count": 130,
      "outputs": [
        {
          "output_type": "stream",
          "name": "stdout",
          "text": [
            "Train\n",
            "Text matrix size: torch.Size([935, 128])\n",
            "Target vector size: torch.Size([128])\n",
            "\n",
            "Valid:\n",
            "Text matrix size: torch.Size([1127, 128])\n",
            "Target vector size: torch.Size([128])\n",
            "\n",
            "Test:\n",
            "Text matrix size: torch.Size([879, 128])\n",
            "Target vector size: torch.Size([128])\n"
          ]
        }
      ]
    },
    {
      "cell_type": "markdown",
      "source": [
        "**The text batch as indices of tokens**"
      ],
      "metadata": {
        "id": "5BcP4qmAOSGC"
      }
    },
    {
      "cell_type": "code",
      "source": [
        "print(text_batch)"
      ],
      "metadata": {
        "colab": {
          "base_uri": "https://localhost:8080/"
        },
        "id": "oPee-HP-MusQ",
        "outputId": "bd7df008-570c-4a85-cfca-f462c1b9436f"
      },
      "execution_count": 131,
      "outputs": [
        {
          "output_type": "stream",
          "name": "stdout",
          "text": [
            "tensor([[8097,   76,   61,  ...,    2,    6,  249],\n",
            "        [1954,    5, 1321,  ...,  421,  582,   42],\n",
            "        [1694,   64,  324,  ...,    7,    0,  448],\n",
            "        ...,\n",
            "        [   1,    1,    1,  ...,    1,    1,    1],\n",
            "        [   1,    1,    1,  ...,    1,    1,    1],\n",
            "        [   1,    1,    1,  ...,    1,    1,    1]], device='cuda:0')\n"
          ]
        }
      ]
    },
    {
      "cell_type": "markdown",
      "source": [
        "**The corresponding vocabulary tokens**\n",
        "\n",
        "Notice how the reviews appear on the tensor columns. Each column has one review."
      ],
      "metadata": {
        "id": "epUvW9z5OYgF"
      }
    },
    {
      "cell_type": "code",
      "source": [
        "print(vec_vocab_itos(text_batch.to(\"cpu\")))"
      ],
      "metadata": {
        "colab": {
          "base_uri": "https://localhost:8080/"
        },
        "id": "siH213KBMx2O",
        "outputId": "68a29d47-51b3-4c96-f1ba-98bf76d04cea"
      },
      "execution_count": 133,
      "outputs": [
        {
          "output_type": "stream",
          "name": "stdout",
          "text": [
            "[['alleged' 'me' 'very' ... 'the' 'a' 'anyone']\n",
            " ['scream' 'and' 'disappointing' ... 'title' 'particularly' 'who']\n",
            " ['queen' 'my' 'version' ... 'of' '<UNK>' 'loved']\n",
            " ...\n",
            " ['<PAD>' '<PAD>' '<PAD>' ... '<PAD>' '<PAD>' '<PAD>']\n",
            " ['<PAD>' '<PAD>' '<PAD>' ... '<PAD>' '<PAD>' '<PAD>']\n",
            " ['<PAD>' '<PAD>' '<PAD>' ... '<PAD>' '<PAD>' '<PAD>']]\n"
          ]
        }
      ]
    },
    {
      "cell_type": "markdown",
      "source": [
        "**And the batch labels**\n",
        "\n",
        "Each element is the review score for the corresponding column."
      ],
      "metadata": {
        "id": "0Pjzqxv1OeBk"
      }
    },
    {
      "cell_type": "code",
      "source": [
        "print(label_batch)"
      ],
      "metadata": {
        "colab": {
          "base_uri": "https://localhost:8080/"
        },
        "id": "J5NR0SlxN1Qh",
        "outputId": "285406af-357b-452a-8365-59c4a1b78c61"
      },
      "execution_count": 134,
      "outputs": [
        {
          "output_type": "stream",
          "name": "stdout",
          "text": [
            "tensor([0, 1, 0, 0, 1, 0, 0, 0, 1, 0, 1, 1, 1, 0, 1, 1, 0, 1, 0, 1, 0, 1, 1, 1,\n",
            "        0, 1, 0, 0, 0, 1, 1, 1, 0, 0, 0, 0, 1, 1, 0, 1, 0, 1, 1, 0, 0, 1, 1, 0,\n",
            "        1, 0, 0, 1, 1, 0, 1, 0, 1, 0, 0, 1, 1, 1, 1, 1, 1, 1, 0, 0, 0, 0, 1, 0,\n",
            "        1, 0, 0, 1, 0, 1, 0, 0, 1, 1, 1, 0, 1, 1, 0, 1, 1, 1, 0, 1, 0, 0, 1, 1,\n",
            "        0, 1, 0, 1, 0, 1, 1, 1, 1, 1, 1, 0, 0, 0, 1, 1, 0, 1, 1, 0, 1, 0, 0, 1,\n",
            "        1, 1, 0, 1, 0, 1, 0, 0], device='cuda:0')\n"
          ]
        }
      ]
    },
    {
      "cell_type": "markdown",
      "source": [
        "**The next batch will have different text column size.**\n",
        "\n",
        "The column size is determined by the max length of reviews in a batch. Each batch has a different text column size."
      ],
      "metadata": {
        "id": "SbKYBRznQgi8"
      }
    },
    {
      "cell_type": "code",
      "source": [
        "text_batch, label_batch = next(iter(train_loader))\n",
        "print(f'Text matrix size: {text_batch.size()}')\n",
        "print(f'Target vector size: {label_batch.size()}')\n",
        "\n",
        "text_batch, label_batch = next(iter(train_dataloader))\n",
        "print(f'Text matrix size: {text_batch.size()}')\n",
        "print(f'Target vector size: {label_batch.size()}')"
      ],
      "metadata": {
        "colab": {
          "base_uri": "https://localhost:8080/"
        },
        "id": "RFpzgfY5Qfnv",
        "outputId": "cace563b-c1f0-405c-c6ce-b8109dd541bc"
      },
      "execution_count": 135,
      "outputs": [
        {
          "output_type": "stream",
          "name": "stdout",
          "text": [
            "Text matrix size: torch.Size([1289, 128])\n",
            "Target vector size: torch.Size([128])\n",
            "Text matrix size: torch.Size([1153, 128])\n",
            "Target vector size: torch.Size([128])\n"
          ]
        }
      ]
    },
    {
      "cell_type": "markdown",
      "source": [
        "To group the texts with similar length together, like introduced in the legacy `BucketIterator` class, first of all, we randomly create multiple \"pools\", and each of them has a size of `batch_size * 100`. Then, we sort the samples within the individual pool by length. This idea can be implemented succintly through `batch_sampler` argument of PyTorch `Dataloader`. `batch_sampler` accepts 'Sampler' or Iterable object that yields indices of next batch. In the code below, we implemented a generator that yields batch of indices for which the corresponding batch of data is of similar length. "
      ],
      "metadata": {
        "id": "PPVGxmEsCR6h"
      }
    },
    {
      "cell_type": "code",
      "source": [
        "train_list = list(train_dp)\n",
        "\n",
        "def batch_sampler():\n",
        "    indices = [(i, len(tokenizer(s[0]))) for i, s in enumerate(train_list)]\n",
        "    random.shuffle(indices)\n",
        "    pooled_indices = []\n",
        "    # create pool of indices with similar lengths \n",
        "    for i in range(0, len(indices), BATCH_SIZE * 100): \n",
        "       pooled_indices.extend(sorted(indices[i:i + BATCH_SIZE * 100], key=lambda x: x[0]))\n",
        "\n",
        "    pooled_indices = [x[1] for x in pooled_indices]\n",
        "\n",
        "    # yield indices for current batch\n",
        "    for i in range(0, len(pooled_indices), BATCH_SIZE):\n",
        "        yield pooled_indices[i:i + BATCH_SIZE]\n",
        "\n",
        "train_loader1 = DataLoader(train_list, batch_sampler=batch_sampler(),\n",
        "                           collate_fn=collate_batch)\n",
        "\n",
        "text_batch, label_batch = next(iter(train_loader1))\n",
        "print(text_batch.size())\n",
        "print(label_batch.size())"
      ],
      "metadata": {
        "id": "eH4w2xp3CcA_",
        "outputId": "6c51e1ab-07ac-4ab4-a9f7-5df684f0c10d",
        "colab": {
          "base_uri": "https://localhost:8080/"
        }
      },
      "execution_count": 136,
      "outputs": [
        {
          "output_type": "stream",
          "name": "stdout",
          "text": [
            "torch.Size([1197, 128])\n",
            "torch.Size([128])\n"
          ]
        }
      ]
    },
    {
      "cell_type": "code",
      "source": [
        "print(vec_vocab_itos(text_batch))"
      ],
      "metadata": {
        "colab": {
          "base_uri": "https://localhost:8080/"
        },
        "id": "BopSzNUXRIOO",
        "outputId": "e3519492-95e4-45af-80bf-95ea06bfba13"
      },
      "execution_count": 125,
      "outputs": [
        {
          "output_type": "stream",
          "name": "stdout",
          "text": [
            "[['this' 'the' 'still' ... 'i' 'to' 'it']\n",
            " ['was' 'animation' 'crazy' ... 'almost' 'be' \"'\"]\n",
            " ['an' 'quality' 'is' ... 'laughed' 'fair' 's']\n",
            " ...\n",
            " ['<PAD>' '<PAD>' '<PAD>' ... '<PAD>' '<PAD>' '<PAD>']\n",
            " ['<PAD>' '<PAD>' '<PAD>' ... '<PAD>' '<PAD>' '<PAD>']\n",
            " ['<PAD>' '<PAD>' '<PAD>' ... '<PAD>' '<PAD>' '<PAD>']]\n"
          ]
        }
      ]
    },
    {
      "cell_type": "code",
      "source": [
        "print(label_batch)"
      ],
      "metadata": {
        "colab": {
          "base_uri": "https://localhost:8080/"
        },
        "id": "yDM8DBXkRJjy",
        "outputId": "6740eb10-66ee-4f01-ccc5-ef528282aa3c"
      },
      "execution_count": 126,
      "outputs": [
        {
          "output_type": "stream",
          "name": "stdout",
          "text": [
            "tensor([0, 1, 1, 0, 0, 0, 1, 0, 1, 1, 1, 0, 1, 1, 0, 0, 1, 1, 0, 1, 0, 0, 1, 1,\n",
            "        0, 1, 1, 0, 0, 1, 1, 0, 0, 0, 1, 0, 1, 0, 0, 1, 0, 1, 0, 0, 0, 1, 1, 1,\n",
            "        1, 0, 0, 1, 1, 0, 1, 1, 0, 0, 0, 0, 0, 0, 1, 1, 0, 1, 1, 1, 0, 1, 0, 1,\n",
            "        0, 1, 0, 1, 0, 1, 0, 1, 1, 0, 1, 1, 1, 1, 1, 1, 1, 1, 1, 1, 0, 0, 1, 0,\n",
            "        1, 0, 0, 0, 1, 1, 1, 0, 0, 0, 0, 1, 0, 0, 0, 0, 1, 1, 1, 1, 0, 1, 1, 0,\n",
            "        0, 0, 0, 1, 0, 0, 0, 0])\n"
          ]
        }
      ]
    },
    {
      "cell_type": "code",
      "source": [
        "# Pipeline word tokenizer: \n",
        "# - convert reviews to word tokens, and word tokens to vocab index\n",
        "# - convert rating to number in {0, 1}\n",
        "def tokenize_pipeline(sample) : return (vocab(list(tokenizer(sample[0]))), int(sample[1]))"
      ],
      "metadata": {
        "id": "ngZwsg75VjpJ"
      },
      "execution_count": null,
      "outputs": []
    },
    {
      "cell_type": "code",
      "source": [
        "def build_data_pipe(dp, mode, len=1000, batch_size=BATCH_SIZE):\n",
        "  # Tokenize stage\n",
        "  dp = dp.map(tokenize_pipeline)\n",
        "\n",
        "  if mode == \"train\":\n",
        "    dp = dp.shuffle(buffer_size=len)\n",
        "  \n",
        "  dp = dp.sharding_filter()\n",
        "  # important to use sharding_filter after (not before) shuffling\n",
        "\n",
        "  if mode == \"train\":\n",
        "    dp = dp.batch(batch_size=batch_size, drop_last=True)\n",
        "\n",
        "  elif mode == \"validate\" or mode == \"test\":\n",
        "    dp = dp.batch(batch_size=batch_size, drop_last=False)\n",
        "\n",
        "  else:\n",
        "    raise ValueError(f\"Invalid mode argument {mode}.\")\n",
        "\n",
        "  return dp\n"
      ],
      "metadata": {
        "id": "ASP4o3tuuINp"
      },
      "execution_count": null,
      "outputs": []
    },
    {
      "cell_type": "code",
      "source": [
        "# Apply pipeline stage\n",
        "train_dp1 = build_data_pipe(train_dp, \"train\", batch_size=BATCH_SIZE)\n",
        "val_dp1 = build_data_pipe(val_dp, \"validate\")\n",
        "test_dp1 = build_data_pipe(test_dp, \"test\")\n",
        "for sample in train_dp1:\n",
        "     print(sample)\n",
        "     break"
      ],
      "metadata": {
        "colab": {
          "base_uri": "https://localhost:8080/"
        },
        "id": "XFuupFnplgVW",
        "outputId": "9dadaf0c-d284-44c0-9335-41813ccadb2f"
      },
      "execution_count": null,
      "outputs": [
        {
          "output_type": "stream",
          "name": "stdout",
          "text": [
            "[([3474, 6, 201, 208, 7, 768, 526, 538, 34, 318, 17, 1037, 371, 15279, 24, 2366, 2246, 23, 195, 0, 0, 24, 1576, 12169, 23, 30, 1742, 352, 3, 197, 142, 687, 4045, 9, 6334, 195, 4939, 88, 5, 2710, 14, 52, 3401, 624, 1, 1234, 2, 4045, 8, 15, 0, 500, 588, 195, 29, 2381, 248, 18, 1375, 10972, 3, 479, 19, 15279, 5923, 159, 8, 26, 195, 61, 1013, 67, 17, 11094, 59, 61, 16, 1294, 42, 1, 527, 195, 0, 11, 17081, 69, 292, 0, 3486, 48, 440, 666, 2, 15279, 8, 15, 125, 9, 2040, 3, 47, 2, 61, 9, 578, 7, 1367, 121, 61, 9, 27, 125, 1440, 579, 5092, 195, 2199, 12562, 42, 1, 2876, 2, 4045, 1091, 14, 61, 150, 768, 3, 31, 4341, 2853, 7675, 24, 10636, 0, 23, 1225, 38, 150, 281, 15279, 768, 3, 4311, 1, 527, 0, 195, 82, 982, 142, 15279, 8, 15, 7198, 6745, 24, 3519, 0, 23, 496, 7, 1694, 4045, 3, 82, 982, 195, 575, 15279, 2, 197, 15279, 52, 83, 2218, 6, 48, 204, 2, 2, 2, 13, 321, 2490, 12920, 16, 532, 39, 2658, 17986, 24, 655, 68, 201, 22, 2256, 16, 358, 487, 24, 4009, 23, 69, 27, 10, 8, 15, 204, 1053, 8686, 96, 7, 1607, 5, 3474, 6, 201, 409, 23, 195, 16, 409, 1233, 42, 819, 280, 6, 1, 3474, 6, 201, 251, 209, 3, 142, 12, 159, 8, 26, 110, 208, 7, 768, 16, 1, 128, 3474, 6, 201, 409, 12, 8, 144, 114, 12, 200, 10, 16, 5, 551, 194, 772, 37, 1, 173, 195, 140, 158, 8, 26, 217, 556, 7, 116, 17, 86, 17, 1, 0, 4755, 24, 3593, 23, 2, 1, 234, 39, 313, 14369, 52, 5, 3428, 1382, 323, 14, 213, 8, 26, 235, 176, 21, 10, 1099, 10, 2597, 194, 264, 12, 8, 241, 135, 10, 8, 15, 5, 233, 4884, 3, 1, 97, 1269, 232, 6, 13, 2753, 27, 1, 201, 1498, 6, 1, 70, 21, 100, 10, 266, 88, 5, 0, 19, 948, 1015, 232, 17, 10, 461, 5, 471, 17, 1, 4404, 0, 136, 15279, 8, 15, 125, 195, 1, 1443, 4045, 9, 272, 198, 2171, 1006, 163, 10, 226, 152, 27, 1413, 10, 5, 7069, 2068, 195, 2211, 1362, 14, 210, 28, 33, 19, 1, 7877, 6, 540, 2, 1, 113, 8, 15, 30, 5, 233, 2473, 3, 1, 865, 134, 3, 1, 5513, 2853, 3, 1, 9414, 7198, 195, 1, 196, 10805, 41, 52, 396, 7, 82, 54, 61, 496, 21, 38, 37, 2674, 73, 1230, 78, 194, 3, 1, 403, 9, 588, 3, 1, 70, 1089, 342, 36, 5, 338, 1012, 195, 456, 12, 425, 208, 7, 768, 956, 42, 5, 180, 232, 133, 195, 45, 121, 10, 2156, 10, 8, 15, 1083, 5, 233, 195, 12, 293, 8, 26, 14, 5600, 27, 1, 5068, 285, 2, 175, 17986, 130, 5, 57, 298, 195, 45, 30, 55, 1148, 145, 3, 13, 516, 7, 4842, 207, 486, 1550, 3500, 848, 195, 0, 547, 195, 621, 2, 45, 30, 55, 745, 312, 2396, 299, 17, 629, 3, 45, 8, 15, 638, 6, 15279, 121, 61, 52, 74, 37, 6, 1, 2329, 3781, 139, 48, 666, 195, 1, 1405, 6, 48, 0, 424, 18, 48, 2526, 726, 95, 61, 52, 64, 3898, 309, 9, 189, 3469, 24, 1064, 195, 2396, 299, 14, 1532, 77, 6, 780, 145, 11, 7667, 24, 5707, 23, 195, 10, 8, 15, 2108, 23, 3, 100, 45, 8, 15, 1, 290, 268, 36, 1, 137, 121, 4045, 1214, 0, 294, 586, 18, 4651, 6, 0, 15172, 2329, 903, 195, 96, 0, 10, 139, 1, 10017, 195, 1527, 10, 88, 5, 11186, 945, 35, 60, 5996, 2, 45, 30, 92, 908, 10592, 666, 515, 2, 45, 8, 15, 55, 1014, 133, 17, 78, 18, 36, 225, 5, 371, 6, 189, 2128, 385, 1330, 2, 2, 2, 2451, 208, 7, 768, 9, 327, 3, 1, 312, 299, 30, 495, 195, 17, 94, 3474, 6, 201, 698, 10, 158, 8, 26, 169, 44, 5, 671, 4702, 127, 69, 670, 50, 1, 860, 33, 572, 10, 9, 2, 1, 119, 16, 494, 21, 45, 8, 15, 64, 202, 8, 1301, 8, 11, 13, 34, 2, 208, 7, 768, 9, 166, 727, 195, 660, 2211, 3474, 6, 201, 409, 14, 94, 201, 450, 150, 407, 859, 51, 50, 28, 47, 19, 1, 1377, 0, 141, 35, 78, 276, 5, 111, 2, 2, 2, 19, 153, 18, 1, 3264, 2], 1), ([5, 2581, 8186, 24, 15211, 0, 23, 2159, 1743, 42, 5, 11372, 342, 18, 55, 83, 13534, 4, 1524, 2, 1, 1524, 0, 1, 13534, 4, 546, 98, 37, 19, 354, 2, 1, 34, 8186, 5759, 4, 291, 19, 1182, 11, 13, 22, 14, 52, 0, 7, 90, 18, 1, 216, 15439, 24, 1, 12566, 68, 750, 10, 15439, 508, 2, 2, 2, 7, 9442, 5, 180, 58, 3338, 51, 6, 58, 9965, 85, 2, 54, 75, 32, 133, 9, 5, 1035, 1797, 1267, 896, 14, 8, 15, 108, 2308, 7, 33, 14, 727, 2, 4, 17, 147, 12, 56, 8, 26, 71, 380, 10, 7, 37, 21, 1, 94, 4446, 0, 896, 336, 2, 62, 1398, 12154, 1289, 2639, 274, 2315, 181, 6, 0, 8, 15, 6014, 896, 1480, 2, 6385, 15439, 377, 24, 948, 900, 691, 23, 3383, 195, 11699, 6916, 617, 0, 19, 0, 0, 195, 15211, 0, 2276, 1523, 430, 13864, 6416, 2544, 1, 1853, 1084, 27, 1, 2315, 1857, 19, 4640, 19, 15439, 3, 520, 3, 134, 3, 520, 3, 4, 5, 134, 483, 3273, 2544, 1, 568, 27, 1, 290, 9385, 7, 82, 2467, 27, 1, 11234, 6, 5, 774, 528, 4, 5, 1853, 1084, 11, 1, 0, 9385, 822, 7, 1, 70, 6, 93, 15211, 0, 224, 193, 533, 19, 116, 0], 0), ([5, 22, 49, 0, 8, 15, 3, 0, 8, 15, 4, 0, 261, 10, 439, 37, 4301, 2, 121, 32, 75, 559, 14, 163, 2, 21, 59, 1, 0, 30, 1, 0, 3, 1, 1289, 17924, 4, 442, 2, 5414, 25, 123, 13, 9, 28, 131, 3857, 18903, 7, 11351, 70, 2, 5, 353, 242, 39, 1926, 12263, 17, 1371, 1749, 2, 34, 6, 1, 6596, 869, 5928, 4, 8009, 3015, 17, 9092, 1042, 279, 787, 200, 437, 88, 1, 1051, 2, 63, 5415, 6528, 3, 36, 97, 5921, 40, 1015, 1123, 19, 1, 223, 6, 1458, 485, 497, 51, 1504, 27, 2, 111, 13, 22, 50, 25, 8, 185, 1133, 6, 0, 2013, 2, 143, 412, 8, 26, 2650, 33, 5, 1529, 641, 53], 1), ([12, 8, 144, 218, 517, 112, 14, 6173, 125, 17, 10, 9, 2, 125, 531, 52, 356, 17873, 3, 64, 157, 120, 3, 4, 28, 2435, 5, 686, 285, 2, 5, 1912, 1183, 149, 10, 9, 1, 410, 400, 19, 13, 22, 24, 4, 3260, 13097, 8, 15, 626, 23, 2, 125, 0, 4, 6819, 44, 5, 1912, 3, 4, 10, 52, 10, 8, 15, 2628, 3263, 3, 21, 10, 9, 5, 386, 1231, 2, 593, 8068, 963, 5, 172, 7, 1, 22, 2, 31, 2583, 52, 5, 2994, 244, 14, 2455, 1, 438, 888, 2, 17, 5, 175, 3, 29, 9, 6758, 4, 4722, 3, 4, 2362, 55, 897, 316, 145, 2, 17, 19, 1, 119, 3, 3744, 17184, 4, 3086, 3133, 170, 1723, 78, 17, 1105, 2, 12, 91, 8, 26, 123, 186, 93, 7, 1646, 858, 0, 4, 5465, 13786, 8, 15, 372, 3, 565, 14, 38, 374, 244, 157, 2, 5, 1912, 1183, 149, 10, 9, 5, 386, 22, 2, 1027, 2, 1207, 51, 6, 306], 1), ([37, 1076, 7, 3031, 17638, 0, 41, 5358, 13, 17324, 3, 12827, 781, 6, 11492, 4, 5185, 2, 142, 1845, 1, 12838, 1172, 3, 29, 8322, 1, 304, 36, 2590, 8, 15, 1793, 3, 118, 3336, 98, 7, 427, 332, 1980, 6, 1, 10672, 27, 2, 63, 31, 1044, 6902, 52, 25, 3008, 2, 1, 282, 1382, 372, 30, 92, 408, 832, 3, 18, 3139, 8760, 3, 17962, 0, 4, 7101, 12891, 402, 73, 12838, 7, 714, 7, 1, 805, 2, 0, 0, 0, 2116, 11, 31, 737, 223, 2, 7, 205, 248, 120, 1257, 46, 113, 15180, 65, 28, 33, 1159, 2, 0, 0, 1099, 1, 375, 2597, 7, 9866, 183, 149, 13, 11846, 3, 4, 0, 0, 8, 15, 765, 944, 1, 70, 5, 1728, 1479, 6, 183, 2, 1, 775, 42, 791, 1346, 9, 6017, 11, 99, 1629, 7, 1, 3893, 6, 1, 234, 2, 115, 210, 135, 17638, 0, 9, 262, 7, 5846, 441, 2594, 1185, 27, 1, 98, 6, 122, 2, 19, 77, 13, 9, 333, 5, 2704, 3, 9744, 10532, 14, 9267, 5, 1481, 3851, 2, 68, 1, 718, 30, 2235, 6, 147, 0, 2, 370, 65, 32, 2370, 13, 18, 5, 686, 285, 2, 8487, 3, 3958, 280, 3, 5832, 80, 0, 0, 4866, 130, 776, 186, 44, 1, 718, 2, 59, 38, 82, 10, 208, 3, 38, 71, 82, 10, 208, 2, 3139, 19362, 9, 1695, 17, 1, 13837, 1779, 3, 17962, 0, 6633, 17, 1, 176, 2884, 3, 4, 7101, 12891, 9, 1368, 17, 1, 97, 2884, 2, 1, 120, 42, 17638, 0, 9, 5, 19174, 6, 5584, 8437, 4, 11226, 6980, 9680, 2, 37, 1076, 212, 151, 7, 31, 8323, 6, 1, 1044, 120, 3, 4, 1, 372, 42, 1, 282, 822, 2, 17, 15620, 3, 0, 0, 9, 590, 4, 909, 2, 2207, 3, 9585, 1269, 3, 4135, 80, 399], 1), ([4434, 1060, 1045, 5, 196, 253, 24, 5987, 0, 23, 41, 9235, 19, 48, 415, 782, 2, 497, 51, 48, 782, 32, 4364, 5, 0, 14, 52, 4020, 88, 1, 13496, 6, 0, 2, 18, 2461, 2296, 968, 36, 48, 504, 61, 721, 139, 7, 174, 48, 782, 2, 17, 3111, 629, 3, 1, 119, 213, 8, 26, 6, 1, 3989, 482, 21, 25, 90, 82, 4990, 505, 3383, 257, 77, 77, 0, 3234, 94, 6, 1, 66, 27, 278, 18, 48, 7059, 3436, 3, 636, 477, 5987, 0, 2701, 11, 1743, 2866, 4, 5030, 18, 5, 0, 0, 11, 3207, 547, 754, 83, 184, 2, 156, 14, 8, 15, 3215, 1525, 19, 146, 35, 21, 3, 12, 212, 135, 14, 12, 174, 10, 233, 283, 7, 380, 13, 417, 2, 50, 25, 30, 336, 6, 1, 530, 3, 25, 87, 94, 1291, 2517, 177, 621, 141, 11, 1, 20, 1569, 5, 11050, 180, 2, 4, 12, 384, 14, 1214, 2, 5, 172, 6, 1, 621, 145, 30, 4915, 795, 51, 83, 4990, 106, 3, 44, 134, 42, 849, 1912, 4, 239, 4990, 182, 2, 45, 8, 15, 243, 58, 106, 1647, 11, 45, 2, 1126, 3, 13, 9, 34, 19, 5353, 450, 7, 859, 139, 73, 1087, 2, 50, 25, 707, 8, 26, 114, 105, 1049, 2483, 106, 3, 25, 8, 241, 33, 132, 139, 155, 4990, 4576, 4, 50, 25, 8, 185, 40, 6160, 336, 3, 25, 32, 114, 94, 6, 1, 621, 145, 11, 83, 106, 2], 0), ([13, 22, 9, 11, 64, 103, 729, 21, 58, 6, 5, 169, 849, 88, 1, 6034, 6, 1, 11194, 504, 6, 398, 4246, 2, 3257, 13088, 5, 363, 5, 2564, 569, 6, 1, 252, 247, 6, 0, 3, 7682, 396, 3, 4503, 3, 582, 4, 9580, 2, 37, 1, 231, 9, 259, 51, 136, 5, 180, 60, 895, 4, 11073, 490, 302, 5, 0, 11, 9676, 4, 1, 3637, 9, 277, 1714, 19, 55, 6, 1, 2650, 4, 733, 11, 1, 22, 2, 19, 77, 1, 2393, 6, 1, 3411, 257, 39, 1, 2722, 4141, 6761, 16, 49, 1, 252, 409, 3, 3020, 1483, 39, 1, 145, 6, 0, 4, 0, 11, 1, 8, 0, 8, 1098, 2, 25, 87, 33, 15510, 4, 12, 448, 6522, 39, 13, 22, 2, 12, 1782, 10, 21, 12, 452, 5139, 7, 72, 10, 149, 2, 3193, 19, 8, 250, 8, 2169, 19, 7756, 8, 134, 8, 17, 29, 531, 9, 2], 0), ([1, 68, 289, 7, 205, 13, 20, 63, 5, 694, 355, 9, 93, 79, 1, 285, 102, 77, 443, 2, 12, 74, 331, 1959, 17, 12, 606, 122, 86, 2642, 3470, 201, 106, 3, 21, 13, 47, 159, 8, 26, 6460, 2, 10, 8, 15, 71, 47, 5, 86, 557, 36, 726, 5, 113, 6859, 1345, 88, 4624, 3, 69, 179, 3, 213, 8, 26, 5, 86, 120, 3, 21, 9, 229, 843, 133, 2, 45, 30, 55, 145, 24, 147, 17, 1, 285, 23, 69, 30, 28, 1315, 7, 33, 164, 3, 21, 165, 102, 77, 443, 51, 1406, 2, 45, 76, 5, 371, 6, 219, 59, 12, 200, 1, 20, 65, 165, 151, 11, 40, 230, 453, 3, 21, 10, 118, 16860, 54, 10, 101, 4, 150, 33, 2, 11, 62, 653, 3, 50, 25, 30, 284, 19, 5, 1154, 1277, 505, 3, 349, 1281, 318, 3, 2198, 318, 2], 0), ([13, 20, 101, 32, 84, 436, 43, 79, 132, 2, 10, 9, 5, 316, 70, 292, 11, 60, 262, 219, 3, 4, 255, 10, 16, 43, 843, 2185, 2, 1, 949, 160, 32, 11, 1, 509, 229, 327, 2796, 3, 4, 19, 1, 94, 181, 38, 90, 40, 4719, 298, 11, 13, 22, 2, 264, 36, 219, 73, 403, 191, 4590, 4, 874, 2, 1, 980, 101, 32, 84, 58, 16735, 2, 1, 6795, 6, 1, 2551, 150, 151, 7, 1, 985, 3, 41, 537, 5, 57, 70, 4, 102, 10, 2282, 2, 11, 341, 3, 45, 30, 2987, 6, 79, 132, 783, 7, 1077, 280, 612, 2], 0), ([0, 4, 10677, 423, 99, 304, 5, 169, 88, 1, 343, 6, 5, 134, 41, 1225, 29, 8, 15, 258, 314, 3, 68, 7, 174, 51, 14, 29, 8, 15, 28, 43, 254, 29, 258, 1, 208, 221, 2, 50, 25, 110, 14, 37, 856, 1338, 30, 1, 173, 3, 859, 13, 34, 51, 2, 264, 1, 20, 640, 206, 79, 3729, 3, 1, 570, 3409, 3, 6202, 1110, 3, 4, 2498, 109, 30, 254, 7, 4961, 2], 1), ([13, 22, 71, 981, 58, 3769, 81, 99, 385, 2, 10, 71, 9, 5, 1373, 4, 982, 1090, 6, 547, 4639, 3, 14382, 4, 0, 709, 1, 837, 182, 2, 1, 22, 9, 326, 1262, 4, 13371, 88, 37, 25, 8, 185, 353, 837, 1386, 147, 17, 5185, 4, 641, 2, 13, 22, 9, 5, 20, 11546, 22, 3, 10, 3568, 689, 4, 1725, 4, 11350, 1404, 11, 1, 137, 2, 10, 9, 1, 3891, 6, 2896, 2114, 4, 9, 5, 2382, 657, 246, 81, 166, 6307, 2134, 1017, 3, 1930, 1906, 1584, 69, 191, 7, 33, 1, 645, 5468, 7, 1, 451, 182, 42, 2896, 2114, 4, 2385, 2, 10, 922, 40, 11764, 6, 89, 109, 3, 160, 4, 967, 264, 9, 1159, 7, 135, 12, 74, 7, 111, 10, 1567, 47, 7, 5210, 54, 16, 1402, 18, 55, 6, 1, 109, 675, 7, 73, 116, 43, 115, 5482, 11, 1, 22, 2, 37, 11, 37, 2169, 89, 120, 109, 21, 45, 30, 109, 14, 91, 8, 26, 894, 51, 194, 4, 1, 215, 159, 8, 26, 71, 82, 77, 171, 4, 36, 219, 12, 452, 10, 159, 8, 26, 9256, 78, 18, 1, 231, 24, 45, 9, 231, 39, 1, 103, 23, 43, 10, 2156, 55, 790, 19, 14, 2], 1), ([3579, 16, 34, 6, 1, 97, 106, 12, 129, 214, 3, 4, 7, 77, 10, 9, 3849, 2, 10, 9, 5, 1313, 284, 22, 3, 18, 1492, 838, 2, 62, 1636, 838, 141, 16, 1, 2940, 0, 12, 47, 122, 153, 8325, 2, 1, 716, 30, 92, 1313, 3, 28, 17, 57, 17, 2902, 478, 8, 15, 3, 21, 38, 30, 5, 2792, 7, 1871, 3, 4, 30, 2600, 6, 0, 2, 5, 1043, 9, 5, 637, 4, 43, 13, 9, 122, 53, 30, 14666, 2, 1, 109, 30, 92, 5, 2792, 2, 3579, 9, 7084, 4, 590, 3, 4, 1, 8325, 1903, 89, 759, 2180, 2, 1, 17222, 76, 92, 78, 229, 3, 17, 78, 17, 15033, 2, 21, 12, 446, 1, 8371, 1, 128, 3, 61, 16, 71, 484, 3, 11, 1835, 7, 5, 89, 113, 11, 1, 400, 6, 1, 3053, 16171, 2, 10, 9, 303, 3, 1, 20, 3214, 1035, 3, 18, 1, 3419, 6, 1, 8325, 3, 21, 38, 76, 2067, 164, 3, 43, 12, 91, 8, 26, 455, 2, 12, 91, 8, 26, 110, 10, 9, 4088, 3, 2148, 91, 8, 26, 25, 384, 53, 10, 1682, 305, 27, 647, 3, 21, 1, 71, 86, 743, 130, 27, 0, 27, 5, 2039, 3288, 2, 50, 25, 187, 5, 89, 3579, 1187, 3, 349, 1, 386, 129, 107, 3, 46, 1, 5927, 0, 4, 1, 2100, 3, 69, 213, 8, 26, 17, 57, 2, 21, 863, 25, 90, 3, 793, 1, 743, 3, 69, 12, 32, 1, 1327, 6, 10024, 3, 95, 25, 8, 236, 1298, 77, 2, 2677, 2, 12895, 4394], 1), ([1448, 3, 0, 5354, 2, 1, 1179, 207, 4523, 4, 5863, 16, 17, 1180, 17, 5, 4164, 0, 2, 73, 403, 16, 6903, 2746, 2, 1, 741, 16, 5, 927, 2, 1, 119, 874, 2, 1, 652, 16979, 27, 1, 3016, 2, 3149, 4, 1114, 2, 2497, 2503, 4, 48, 113, 74, 64, 289, 7, 33, 45, 2, 920, 124, 256, 324, 19, 14, 513, 2, 12, 412, 8, 26, 32, 361, 117, 0, 19, 105, 6, 1, 8, 109, 8, 2, 73, 1366, 9843, 4, 5044, 44, 5, 8469, 41, 4084, 31, 5478, 2, 1974, 4, 739, 2, 143, 90, 12, 32, 7, 877, 725, 404, 6, 3322, 27, 133, 7, 104, 62, 222, 53, 12, 110, 12, 7600, 10, 67, 11, 1, 97, 282, 678, 2, 21, 3, 534, 10, 8, 15, 28, 194, 2, 12, 110, 13, 9, 1, 239, 66, 12, 8, 236, 1252, 7, 462, 62, 66, 0, 5, 22, 2, 536, 3, 12, 214, 8, 2112, 8, 4, 200, 14, 16, 186, 14449, 17, 78, 2, 179, 3, 12, 3465, 28, 19, 1, 109, 3, 724, 38, 1446, 46, 1093, 2], 0), ([13, 22, 27, 2152, 560, 44, 10, 101, 857, 33, 57, 3, 107, 155, 162, 12, 5618, 14, 13, 22, 16, 332, 388, 35, 35, 1, 120, 52, 64, 1156, 3, 4, 12, 110, 12, 7745, 1, 128, 181, 6, 0, 651, 145, 249, 34, 261, 1, 22, 58, 634, 356, 4, 668, 2, 12, 296, 13, 538, 318, 3153, 328, 64, 3540, 36, 37, 47, 7, 714, 7, 1, 0, 6, 10, 21, 1, 860, 9, 1, 68, 154, 14, 1715, 77, 16, 1, 215, 3, 54, 38, 65, 673, 1598, 215, 3, 38, 308, 1561, 12, 384, 33, 595, 35, 35, 13, 22, 5696, 67, 37, 6, 54, 9, 28, 57, 49, 13, 585, 6, 22, 2, 7, 33, 1173, 2545, 135, 64, 58, 21, 111, 36, 131, 204, 3114, 13, 22, 9, 47, 586, 1846, 3, 362, 35, 35], 0), ([12, 16, 2350, 7, 834, 14, 1824, 10375, 52, 309, 13, 127, 3, 130, 256, 123, 143, 53, 12, 3283, 574, 17, 34, 6, 1, 3678, 7884, 4, 293, 8, 26, 758, 29, 1013, 67, 27, 251, 3, 69, 56, 33, 132, 81, 1, 583, 25, 72, 27, 1, 202, 278, 2, 1, 569, 30, 4197, 4, 1, 375, 4732, 81, 5, 10791, 4353, 35, 0, 8, 26, 817, 1, 364, 6, 1, 188, 574, 3, 6151, 24, 0, 35, 23, 11608, 3, 5255, 3, 3956, 3, 6274, 2, 2, 92, 3, 56, 256, 377, 77, 143, 27, 688, 45, 8, 15, 5, 583, 775, 2950, 27, 1, 274, 721, 3, 21, 4022, 8, 15, 0, 0, 6, 5, 126, 346, 2270, 9, 334, 27, 1, 2621, 4919, 0, 53, 53, 130, 10, 28, 104, 287, 7, 357, 5, 2950, 14, 25, 65, 6578, 18, 1, 6994, 0, 6, 842, 19, 274, 5058, 53, 53], 1), ([794, 4083, 4, 3531, 2326, 355, 11, 5, 2111, 505, 883, 18, 1, 422, 6, 285, 12, 82, 71, 1633, 49, 2, 2, 2, 1455, 47, 135, 99, 28, 62, 3828, 6, 4161, 3, 47, 44, 1, 10910, 1125, 6948, 30, 28, 62, 3828, 6, 4161, 2, 1, 120, 52, 5, 828, 6143, 36, 40, 10695, 4, 2244, 5, 253, 14, 29, 52, 5, 849, 21, 1343, 1443, 18, 2, 29, 266, 139, 7, 916, 31, 7175, 507, 4, 61, 266, 152, 7, 48, 125, 2, 78, 972, 4, 78, 102, 1, 1052, 2403, 7, 82, 5, 157, 120, 381, 2, 13, 9, 1, 493, 6, 10910, 1125, 6948, 14, 167, 1, 366, 19073, 4, 1, 339, 4792, 73, 424, 11, 2834, 2, 12, 567, 8, 26, 33, 43, 0, 7, 1, 22, 17, 5, 3057, 883, 3, 565, 14, 1, 22, 311, 5, 487, 11, 1, 464, 4873, 14, 9, 43, 51, 6, 309, 1767, 17, 7, 33, 332, 1337, 2, 143, 212, 732, 2021, 6, 106, 90, 379, 184, 44, 13, 53, 10, 71, 2370, 10, 19, 77, 2, 50, 25, 44, 883, 205, 10, 5, 326, 3, 162, 827, 19, 2002, 2], 0), ([13, 9, 5, 89, 22, 18, 40, 485, 188, 2, 0, 4111, 9, 36, 31, 0, 2, 31, 4735, 4754, 9, 485, 2, 92, 111, 51, 19, 5, 2183, 39, 953, 14285, 2, 374, 5, 1304, 353, 2, 13, 9, 27, 62, 408, 725, 1087, 2, 91, 8, 26, 677, 13, 2211, 22, 2], 1), ([13, 743, 7, 11, 1, 3637, 6, 1, 318, 87, 2660, 11, 3227, 6031, 7, 99, 7420, 132, 5548, 2, 310, 6, 284, 44, 5, 2276, 20, 1955, 19, 647, 3, 10726, 0, 291, 12035, 44, 5, 251, 20, 1955, 19, 2276, 766, 3, 18, 5477, 1319, 3, 938, 594, 2723, 3, 4, 721, 14, 169, 44, 38, 8, 185, 102, 6, 0, 2, 1, 600, 711, 52, 5, 6919, 2550, 6337, 1, 375, 279, 117, 910, 15379, 1, 257, 3, 100, 5, 326, 6, 5, 568, 4784, 19, 5, 0, 3, 100, 5, 326, 6, 1, 257, 116, 13337, 18, 117, 910, 179, 3, 4, 428, 1, 0, 596, 192, 19, 1, 3634, 2335, 2, 8872, 1, 418, 150, 33, 796, 174, 1, 68, 221, 18, 282, 910, 35, 21, 1, 5318, 365, 1161, 56, 8, 26, 332, 3695, 13, 22, 8, 15, 4138, 5049, 4183, 3, 3027, 8059, 8, 15, 242, 17, 1, 598, 1365, 2957, 7, 868, 1, 1960, 6569, 10, 210, 477, 3, 63, 50, 10, 0, 5, 433, 2, 1576, 16969, 9, 92, 1054, 17, 1, 0, 0, 6668, 6, 4893, 5099, 31, 3645, 1008, 2, 11, 1618, 7, 116, 2404, 39, 1, 418, 3, 0, 9, 8262, 49, 31, 352, 125, 3, 21, 1, 1185, 6, 1352, 4, 0, 8, 1167, 19403, 287, 6, 1080, 11310, 30, 4522, 133, 2, 43, 9, 1, 1280, 600, 805, 14, 102, 11, 1, 3637, 6, 1, 318, 43, 1490, 2], 0), ([17, 5, 0, 127, 3, 1387, 6, 1, 127, 24, 0, 23, 9, 0, 6, 1, 3869, 762, 6, 0, 251, 10, 9, 5, 127, 24, 4, 5, 1533, 23, 14, 52, 3401, 43, 237, 14, 10, 0, 396, 7, 349, 4, 986, 99, 6919, 4810, 2, 99, 5548, 3, 1, 278, 0, 3, 16, 5, 15241, 19, 0, 2091, 679, 4, 0, 51, 1, 2264, 4, 821, 11, 2091, 2, 10, 16, 5, 338, 127, 18, 5, 1503, 3618, 4, 10, 16, 250, 7, 72, 55, 6, 1, 0, 4, 83, 5200, 1, 830, 101, 270, 7, 300, 2, 1, 0, 6, 0, 39, 0, 2697, 55, 10711, 450, 6, 1, 1533, 3, 21, 405, 1592, 76, 165, 2369, 2, 1, 3950, 27, 13020, 16, 5, 338, 1618, 4, 12, 71, 517, 5, 172, 6, 1, 8264, 6, 0, 4, 83, 202, 729, 706, 2, 479, 3, 0, 156, 1320, 17, 21, 5, 6375, 6, 99, 1055, 1336, 2, 153, 16333, 1, 1196, 32, 18002, 1, 1083, 6, 1, 1196, 248, 42, 2091, 4, 13020, 4, 1849, 235, 14, 227, 10927, 15450, 42, 196, 1166, 339, 2, 1, 898, 9, 14, 0, 2280, 17, 79, 66, 17063, 6127, 0, 46, 0, 1, 1166, 22, 1540, 17, 10, 130, 6804, 1588, 2, 10, 9, 43, 86, 10, 9, 2486, 3528, 2, 142, 55, 210, 82, 10519, 1685, 51, 6, 13, 422, 6, 154, 3, 153, 41, 2067, 362, 13020, 210, 591, 121, 1, 57, 8264, 437, 2, 1372, 12824, 3, 196, 10191, 41, 227, 2950, 88, 0, 529, 73, 385, 13020, 80, 14, 5125, 13020, 528, 207, 18199, 80, 30, 310, 116, 4690, 184, 3576, 1849, 5, 58, 2569, 304, 2, 27, 5, 1196, 44, 3147, 46, 11174, 3, 184, 44, 14, 30, 850, 2, 27, 0, 3, 10, 8, 15, 1598, 2, 36, 225, 0, 3, 166, 0, 1196, 3, 52, 57, 8064, 44, 9933, 2, 0, 3, 4, 0, 3, 52, 60, 126, 57, 309, 7, 1439, 2, 108, 86, 3, 71, 2], 0), ([926, 91, 8, 15, 594, 381, 523, 267, 49, 13, 20, 2, 10, 311, 273, 27, 1, 902, 6, 18730, 24, 1, 902, 6, 1092, 339, 23, 4, 2079, 926, 91, 3373, 4929, 192, 40, 1049, 8327, 2, 926, 91, 8, 15, 113, 9, 750, 0, 24, 9628, 0, 23, 4, 37, 29, 130, 11, 13, 20, 9, 1307, 85, 4, 82, 3679, 136, 4, 136, 0, 2, 295, 11, 1, 20, 4084, 96, 3, 47, 44, 295, 4084, 0, 2727, 2, 12, 425, 40, 930, 0, 438, 3, 2222, 8, 15, 1182, 95, 10, 16, 5, 0, 19, 0, 345, 178, 869, 2, 793, 13, 20, 36, 37, 2293, 35, 35], 0), ([62, 309, 2456, 9, 40, 1584, 1348, 22, 3984, 1, 125, 4, 219, 6, 6325, 1679, 3, 41, 74, 6704, 12713, 3, 5, 4790, 10407, 4, 74, 68, 1, 357, 6, 31, 309, 2456, 3, 21, 29, 16, 15425, 3, 29, 1241, 7, 427, 40, 1698, 4, 728, 439, 37, 1, 4301, 12, 32, 114, 13, 22, 5, 172, 6, 219, 4, 249, 66, 12, 72, 10, 3, 12, 174, 10, 1372, 495, 249, 66, 2, 12, 591, 93, 124, 13, 485, 22, 28, 1204, 40, 0, 19, 128, 438, 3, 10, 9, 5, 10540, 39, 1, 1710, 2257, 2, 1240, 0, 9, 7, 77, 34, 6, 1, 821, 934, 11, 1, 182, 2, 1, 919, 3, 1, 215, 4, 235, 324, 9, 327, 11, 13, 22, 2, 17, 1, 22, 266, 27, 3, 25, 65, 806, 244, 131, 11, 1, 1679, 4910, 17, 267, 3299, 2, 1212, 0, 4, 5465, 12601, 30, 485, 17, 0, 797, 4, 13418, 4711, 9, 1372, 495, 17, 241, 2, 1579, 10418, 3655, 3, 41, 1544, 6325, 27, 31, 935, 6, 17541, 2, 1, 2388, 22, 1540, 74, 9016, 79, 7, 99, 400, 163, 62, 309, 2456, 2, 62, 309, 2456, 16, 1, 378, 6, 5, 386, 815, 11, 2388, 22, 2, 112, 43, 1020, 4, 495, 147, 17, 1, 1767, 3, 1, 2411, 447, 3, 11, 1, 400, 6, 1, 340, 4, 498, 6893, 1483, 62, 309, 2456, 2, 138, 2388, 112, 76, 5168, 43, 544, 190, 1, 182, 4, 76, 2406, 19, 2286, 0, 4, 391, 55, 3, 5, 386, 815, 19, 2388, 22, 2, 62, 309, 2456, 9, 5, 1020, 1348, 22, 2, 2766, 7752, 305, 1, 6590, 6325, 1679, 43, 78, 4, 43, 2342, 4, 1, 173, 266, 19, 5004, 779, 0, 41, 305, 196, 6325, 2, 7, 77, 153, 117, 372, 30, 117, 6, 1, 128, 129, 22, 372, 3, 269, 2766, 7752, 8, 15, 242, 69, 12, 65, 3283, 17, 331, 17, 15311, 8641, 11, 1, 3098, 6, 1, 7786, 2, 2766, 7752, 52, 2099, 11, 31, 649, 14, 29, 9, 40, 89, 297, 2, 13, 9, 40, 327, 887, 11, 22, 3, 72, 10, 35], 1), ([579, 35, 25, 8, 144, 47, 193, 7, 72, 13, 20, 7, 382, 267, 14, 9, 358, 18, 10, 2, 10, 373, 51, 302, 1, 66, 815, 121, 1263, 16, 262, 7, 104, 245, 106, 14, 295, 101, 362, 24, 1, 126, 0, 442, 2, 8177, 3, 524, 2, 23, 255, 10, 3518, 105, 3489, 46, 4999, 2, 177, 694, 113, 11, 1, 20, 9, 2596, 39, 3768, 3, 18, 1, 1326, 6, 0, 8, 15, 421, 3, 41, 279, 68, 0, 4, 0, 3, 857, 36, 1, 1448, 1470, 8, 15, 13, 20, 4221, 2, 7, 270, 10, 333, 3, 1, 1096, 3091, 11, 1, 22, 16, 28, 1, 119, 3, 920, 1, 1270, 3, 21, 94, 3611, 1, 501, 2, 1, 404, 75, 3664, 30, 2600, 6, 913, 2047, 3, 264, 13, 22, 1511, 1, 0, 10448, 8, 6870, 1241, 7, 1571, 139, 2, 4114, 8, 15, 1226, 3, 24, 313, 4543, 23, 167, 25, 1122, 206, 63, 402, 235, 3, 333, 95, 29, 2204, 4114, 7, 520, 190, 0, 3, 4, 68, 423, 96, 5, 6664, 1704, 59, 29, 6298, 5, 0, 0, 7, 5, 12120, 1833, 2, 92, 3, 4114, 8, 15, 3987, 9, 602, 6815, 2, 19, 153, 6, 25, 41, 214, 1, 97, 34, 3, 258, 10, 7103, 3, 4, 1324, 3, 124, 28, 72, 1, 350, 34, 3, 202, 1101, 12238, 17, 29, 9, 4874, 7, 11, 13, 20, 3, 9, 140, 5, 932, 0, 2, 29, 670, 0, 88, 313, 4543, 8, 15, 329, 0, 3, 12375, 314, 11, 4114, 8, 15, 654, 3, 63, 162, 29, 523, 14, 29, 4084, 4114, 3, 4, 670, 130, 168, 7, 0, 1, 22, 8, 15, 2158, 3, 46, 7, 1440, 1, 22, 11, 105, 103, 2, 246, 3, 29, 18103, 139, 1, 304, 39, 116, 5, 3149, 893, 0, 2, 428, 3, 75, 30, 1684, 7, 5, 2064, 2373, 6, 176, 109, 3, 147, 17, 1, 6768, 3, 3152, 3, 0, 3, 41, 2810, 7295, 11, 48, 0, 3, 69, 61, 97, 2478, 3, 100, 910, 3, 7, 4114, 3, 41, 333, 9651, 2064, 7876, 36, 2, 92, 3, 6343, 0, 1592, 11, 13, 22, 3, 13, 66, 394, 1, 3152, 3698, 36, 4114, 8, 15, 176, 7172, 369, 2, 50, 6343, 0, 2548, 8, 26, 194, 7, 82, 1, 222, 624, 3, 12, 87, 270, 10, 333, 13, 22, 10039, 35, 3677, 419, 3, 95, 1, 297, 8, 15, 0, 4545, 149, 1, 22, 3, 63, 162, 1, 234, 1716, 2], 0), ([34, 3707, 49, 1, 1085, 6, 5, 844, 14, 2287, 5, 340, 44, 2549, 26, 2, 7525, 3, 41, 75, 97, 916, 27, 5, 1400, 3, 17, 29, 9, 4736, 1849, 1, 273, 29, 2443, 5, 211, 66, 601, 3, 4, 121, 29, 309, 5, 330, 4, 5, 542, 41, 9, 156, 3418, 6, 5099, 5, 2928, 4557, 431, 2, 59, 75, 97, 72, 96, 3, 29, 52, 969, 5, 16902, 11, 1, 2152, 1, 253, 11, 964, 6, 96, 9, 873, 2, 246, 0, 3, 29, 1802, 48, 50, 29, 101, 32, 1, 3476, 3, 4, 1, 753, 1542, 83, 7931, 2, 78, 3, 14, 8, 15, 28, 54, 29, 1563, 3, 54, 29, 496, 1, 253, 7, 90, 3, 9, 7, 205, 96, 1, 964, 2538, 61, 9, 873, 2, 3475, 1632, 0, 1066, 4, 532, 13, 1220, 22, 14, 6134, 3, 11, 115, 783, 3, 260, 844, 17, 10, 9, 502, 2, 11, 199, 3, 442, 2, 0, 9, 7017, 51, 609, 36, 54, 9, 358, 18, 10, 2, 1, 22, 2378, 7552, 3, 5, 1547, 0, 41, 56, 8, 26, 63, 18440, 207, 1040, 4, 623, 2, 10, 8, 15, 3661, 14, 846, 5, 398, 116, 3, 63, 1, 1146, 4, 1253, 431, 41, 1582, 8, 26, 229, 235, 7, 1760, 10, 3, 87, 32, 3634, 3352, 3, 28, 68, 19, 314, 3, 21, 19, 31, 204, 245, 3, 4, 1, 245, 6, 1, 14650, 431, 2, 11, 199, 3, 7552, 191, 7, 32, 64, 323, 49, 54, 8329, 96, 7, 3742, 1, 837, 19, 29, 130, 28, 127, 105, 0, 49, 10, 2, 10, 8, 15, 619, 7552, 52, 84, 11391, 39, 31, 797, 3686, 2, 31, 204, 340, 9, 40, 10339, 134, 41, 412, 8, 26, 455, 346, 49, 96, 2, 10, 8, 15, 3764, 3, 1, 1475, 11, 1, 3795, 10908, 2171, 41, 1038, 1, 7038, 925, 1, 196, 134, 4, 496, 7, 347, 3, 21, 479, 3, 29, 158, 8, 26, 32, 5, 561, 2, 1, 128, 154, 11, 1, 22, 9, 91, 6976, 3, 5, 89, 297, 41, 218, 1593, 2, 1, 3354, 188, 130, 57, 170, 476, 442, 2, 0, 8, 15, 453, 2, 1575, 3913, 52, 5, 57, 1434, 394, 1, 12574, 340, 6, 1, 3418, 2479, 4, 167, 183, 0, 96, 19, 116, 40, 3737, 2349, 2, 264, 5, 233, 211, 3, 1, 22, 875, 183, 18, 58, 1151, 81, 54, 10, 6232, 2], 1), ([456, 12, 65, 32, 7, 135, 14, 12, 425, 1, 20, 2, 55, 6, 1, 555, 145, 30, 71, 57, 2, 269, 1, 555, 439, 10979, 0, 2, 34, 222, 14, 71, 2697, 77, 16, 1, 199, 14, 38, 334, 40, 2073, 7, 308, 5, 328, 134, 2, 12, 384, 71, 2, 722, 49, 86, 1254, 2, 302, 5, 555, 141, 3, 25, 72, 34, 6, 1, 7410, 27, 1, 2051, 9, 1011, 2, 853, 3, 10051, 4047, 1395, 841, 8, 15, 1017, 1089, 888, 2, 553, 51, 6, 306, 419, 2], 1), ([12, 32, 5, 126, 9773, 6, 1428, 71, 598, 17085, 51, 45, 14, 30, 189, 79, 1659, 13733, 100, 3024, 85, 123, 49, 98, 13, 34, 9, 27, 408, 6, 62, 1087, 19, 385, 1, 680, 51, 13, 1414, 2, 13, 3038, 22, 24, 4, 12, 71, 384, 0, 16298, 3, 1460, 0, 3038, 23, 227, 33, 796, 7, 5256, 11, 1, 202, 8482, 6, 3741, 3, 21, 50, 25, 187, 146, 332, 0, 32, 7, 859, 13, 34, 51, 2, 670, 3, 12, 200, 10, 16, 458, 89, 2, 12, 150, 32, 587, 42, 1, 274, 986, 3, 964, 4, 152, 3, 14, 13, 16, 171, 7, 33, 146, 458, 286, 3, 21, 3, 38, 37, 135, 14, 73, 493, 9, 286, 7, 3892, 25, 2, 78, 13, 34, 71, 9, 458, 286, 2, 10, 8, 15, 11, 131, 406, 316, 4, 684, 4, 0, 7, 377, 25, 7, 3706, 67, 2, 322, 3, 2468, 3, 6156, 3, 4538, 3, 63, 5, 3559, 422, 6, 215, 399, 292, 7, 40, 178, 66, 7331, 616, 4, 5, 915, 221, 11, 40, 18954, 2, 348, 12, 135, 58, 53, 47, 72, 10, 2], 1), ([12, 1520, 1, 22, 24, 12, 91, 8, 26, 110, 10, 193, 5, 2276, 766, 133, 23, 51, 1010, 1, 411, 2, 1, 5551, 102, 1, 22, 169, 376, 2, 12, 16, 11, 199, 60, 758, 3, 10, 16, 78, 276, 155, 10, 16, 3257, 3497, 3, 224, 44, 40, 3354, 434, 6, 22, 2, 10, 74, 55, 60, 164, 395, 11, 10, 4, 264, 2880, 9, 40, 1148, 2058, 27, 1, 127, 4, 1, 85, 27, 1, 127, 206, 116, 108, 14626, 2, 10, 9, 2880, 3, 1390, 39, 1, 376, 704, 6, 0, 8, 220, 8, 299, 21, 27, 1, 228, 10, 265, 624, 17, 1173, 4, 1299, 303, 7, 773, 6, 1, 127, 11, 40, 0, 46, 2045, 5623, 103, 2, 36, 1, 576, 10, 9, 1, 1655, 7, 33, 2593, 6, 1712, 8369, 3, 29, 9, 92, 40, 796, 2320, 2, 8369, 101, 32, 102, 3468, 2338, 4, 10, 65, 33, 15108, 8, 1, 252, 22, 129, 102, 8, 2, 12, 380, 13, 22, 19, 1635, 943, 11, 1, 127, 2, 5, 2880, 21, 3834, 4, 230, 434, 6, 22, 2], 1), ([0, 801, 18, 5, 201, 20, 5090, 846, 5, 175, 4, 100, 31, 5752, 163, 29, 9, 3342, 7, 364, 2, 13, 5090, 3, 41, 52, 55, 1388, 841, 2327, 7, 96, 3, 100, 2095, 7, 6724, 153, 190, 96, 59, 5, 528, 6, 201, 22, 844, 1381, 2041, 31, 3656, 42, 1, 10237, 29, 9, 11, 2, 1, 97, 725, 232, 9, 0, 3, 57, 501, 4, 734, 6, 1046, 19, 3930, 4916, 2, 21, 1, 22, 3214, 11, 1, 792, 24, 264, 2440, 28, 17, 79, 17, 329, 6, 325, 23, 4, 118, 71, 226, 14, 2621, 0, 6, 1566, 152, 2, 734, 6, 1, 2475, 30, 1401, 3, 17, 38, 320, 7, 32, 85, 47, 1471, 136, 1715, 59, 38, 72, 5, 4328, 6891, 46, 83, 1015, 184, 2, 1567, 75, 72, 11320, 2908, 116, 334, 2, 21, 1, 945, 4305, 14, 13, 201, 355, 87, 33, 1, 13396, 6, 37, 1, 1727, 29, 52, 259, 2, 431, 3, 9, 14, 2634, 4553, 3, 889, 29, 947, 31, 649, 394, 356, 178, 339, 41, 198, 0, 4, 111, 19818, 2, 1, 786, 6280, 6, 1, 22, 9, 551, 201, 844, 359, 2999, 5, 3656, 6, 5, 354, 5090, 2, 5, 696, 4570, 24, 6984, 67, 3139, 1996, 46, 791, 4726, 23, 65, 104, 5, 89, 22, 2, 277, 5, 995, 9, 11, 622, 50, 14, 567, 8, 26, 33, 108, 11832, 2, 531, 2694, 158, 8, 26, 217, 624, 17, 78, 11, 13292, 3, 4, 13, 22, 1542, 14, 475, 2, 1, 68, 1625, 482, 6, 13, 22, 24, 1317, 1, 470, 23, 9, 1, 1343, 1256, 6, 5, 60, 196, 4447, 7392, 2, 12, 214, 96, 4, 200, 14, 8, 15, 4447, 7392, 21, 452, 12, 16, 4150, 17, 1, 945, 118, 1067, 96, 2, 21, 254, 194, 3, 7392, 16, 1005, 2, 24, 5, 911, 7, 13, 20, 8, 15, 6910, 713, 7392, 27, 1, 986, 6, 1, 274, 3, 25, 8, 236, 2101, 58, 4047, 50, 50, 25, 65, 33, 19469, 8270, 2, 23, 50, 25, 8, 185, 5, 4447, 7392, 5353, 3, 859, 51, 13, 405, 223, 2, 853, 3, 12, 592, 1439, 13, 17, 5, 89, 5751, 19, 5, 201, 20, 7431, 2, 281, 77, 1505, 9365, 46, 3725, 3, 17, 153, 30, 203, 189, 551, 4, 87, 894, 1, 2379, 6, 66, 2], 0), ([0, 0, 9, 5, 20, 69, 115, 87, 111, 4, 362, 360, 1, 137, 3, 142, 401, 87, 580, 155, 10, 709, 746, 232, 2, 10, 9, 5, 2187, 6, 1365, 106, 18, 37, 1, 1175, 4, 497, 1, 231, 311, 273, 68, 36, 318, 11, 1, 463, 10896, 6, 5, 564, 69, 3592, 1468, 8, 15, 12611, 564, 24, 169, 3596, 36, 1, 1964, 3, 3552, 3, 1, 548, 527, 3467, 1, 3180, 3, 524, 2, 23, 2, 10, 9, 92, 5, 2187, 6, 3039, 18, 99, 71, 164, 109, 147, 17, 0, 8, 15, 3412, 4, 0, 8, 15, 24, 1, 297, 394, 0, 8, 15, 2713, 23, 1442, 41, 90, 73, 128, 7, 1871, 3, 3018, 28, 60, 3073, 2, 1, 10554, 8496, 39, 1, 109, 32, 73, 204, 1285, 11, 1, 22, 147, 17, 1, 11196, 1289, 945, 24, 45, 9, 5, 157, 1378, 18, 13, 400, 11, 9676, 23, 121, 34, 56, 72, 5, 5879, 3833, 27, 5, 257, 11, 1, 933, 3, 0, 8, 15, 1621, 18, 1, 328, 2866, 0, 27, 1, 3799, 4, 1, 1608, 3492, 3, 0, 8, 15, 11786, 18, 1, 1146, 438, 6, 31, 2713, 3, 524, 2, 1, 1921, 395, 11, 1, 20, 30, 115, 4, 1416, 1098, 11, 1, 406, 585, 6, 465, 147, 17, 0, 14381, 11, 31, 2713, 8, 15, 406, 3, 1, 3645, 14296, 0, 1616, 19, 18831, 3, 1, 668, 6364, 6, 1, 636, 4758, 6, 5868, 3, 524, 2, 5, 2389, 22, 42, 1, 950, 8, 15, 269, 19, 153, 943, 11, 11771, 46, 0, 451, 2], 1), ([12, 1809, 149, 203, 515, 6, 3339, 239, 318, 3, 152, 7, 152, 18, 5, 1343, 4042, 1016, 3, 4, 12, 56, 8, 26, 2179, 59, 607, 612, 239, 2377, 43, 921, 2, 12, 8, 241, 74, 7, 5933, 535, 67, 19, 5, 1218, 11, 4241, 95, 12, 32, 5, 157, 8, 154, 8, 49, 934, 3, 1095, 4, 11507, 41, 390, 1527, 136, 2763, 3, 136, 211, 19990, 7402, 11, 964, 6, 183, 4, 12, 244, 14, 27, 1, 228, 3, 280, 7, 280, 2, 553, 612, 9, 49, 208, 19, 5, 20, 2, 43, 607, 612, 472, 7, 33, 11077, 1, 3993, 6, 62, 6865, 4, 12, 16, 60, 6599, 49, 1, 228, 3862, 2, 21, 12, 87, 135, 0, 14, 13, 9, 5, 1262, 492, 12, 227, 135, 7559, 492, 102, 20, 4, 12, 8, 148, 71, 1238, 12, 214, 10, 2, 175, 1951, 7467, 9, 7, 33, 19407, 27, 1, 7505, 6, 31, 1703, 2, 1, 935, 145, 0, 17, 50, 25, 76, 16101, 1, 3780, 639, 2, 50, 45, 9, 5, 397, 27, 1, 1266, 41, 158, 8, 26, 123, 3, 16824, 8, 3339, 8, 10204, 16, 1, 17391, 828, 41, 1552, 17606, 10873, 16335, 0, 11440, 2668, 1, 6872, 10160, 2872, 2, 59, 12, 16, 5, 541, 11, 1, 4887, 3, 3339, 8, 15, 1405, 16, 2493, 27, 5033, 1627, 5218, 3, 27, 26, 10056, 3, 27, 3095, 3598, 2, 3339, 8, 15, 1405, 52, 7, 33, 34, 6, 1, 94, 136, 7300, 129, 2, 50, 1, 799, 1064, 30, 7, 33, 8358, 27, 3, 100, 3339, 16, 5, 60, 57, 284, 221, 3, 1, 8619, 6, 4195, 18944, 2, 74, 29, 84, 3626, 1462, 3, 12, 32, 7, 591, 50, 29, 65, 32, 129, 84, 186, 43, 1056, 11, 1, 937, 1461, 53, 6, 268, 1644, 196, 1544, 2, 106, 32, 84, 102, 49, 3339, 163, 24, 3611, 1, 327, 5734, 14869, 6, 3575, 69, 2915, 1, 10088, 1007, 0, 8007, 0, 17, 196, 3339, 3, 12821, 1235, 842, 4, 317, 1, 0, 4189, 69, 6513, 31, 13996, 2655, 23, 21, 12, 91, 8, 26, 110, 256, 52, 129, 14688, 1, 440, 70, 42, 470, 7, 137, 3, 4, 13, 0, 9, 40, 3392, 1104, 2, 12, 448, 10, 4033, 139, 19, 7467, 21, 12, 56, 68, 811, 14, 3639, 2103, 973, 210, 28, 32, 84, 0, 11, 31, 343, 2, 1, 97, 20, 24, 1, 0, 23, 279, 3339, 2244, 10873, 11, 2885, 4, 1045, 73, 1160, 7, 4653, 7, 378, 1, 2872, 4, 100, 1, 1160, 7, 176, 866, 11, 11750, 7, 5509, 1, 7607, 2, 4724, 326, 328, 4, 478, 1064, 169, 44, 2354, 22, 21, 697, 8, 26, 2, 1, 350, 22, 24, 0, 23, 2978, 67, 179, 11, 8906, 59, 3339, 2664, 11, 10607, 7, 378, 5, 176, 4195, 2302, 2, 1, 350, 20, 311, 273, 224, 1081, 11, 1, 2881, 2, 17, 237, 17, 12, 56, 72, 10, 16, 326, 635, 11, 3938, 21, 12, 56, 140, 263, 10, 212, 32, 84, 186, 14941, 7, 22, 2, 15974, 5350, 10567, 9, 327, 17, 3339, 3, 5, 181, 29, 191, 1535, 7, 308, 2, 1251, 3, 12, 452, 14, 1, 17390, 24, 6431, 181, 34, 23, 16, 79, 3443, 7, 111, 4, 58, 8, 432, 8, 11, 1, 3969, 20, 287, 3, 95, 10, 9, 7138, 2, 38, 30, 1978, 1, 2872, 87, 3084, 2, 3339, 9, 11, 31, 1498, 949, 5, 12968, 1072, 6, 13569, 3, 4068, 4, 10452, 11, 1, 4195, 1032, 2, 1, 350, 181, 9, 79, 4402, 7, 111, 95, 6, 1, 18635, 6, 31, 3684, 2, 11, 79, 1, 173, 103, 14, 1, 1129, 0, 80, 142, 116, 5, 57, 20, 80, 16, 40, 3145, 11, 6570, 3924, 2036, 3, 43, 12, 452, 1, 173, 49, 181, 117, 6, 3339, 24, 0, 23, 2, 75, 123, 36, 1, 7910, 14, 29, 1510, 3, 75, 123, 29, 946, 2, 10, 9, 4440, 95, 1, 103, 1, 70, 9, 572, 3, 10, 9, 619, 952, 405, 27, 14, 1, 0, 6, 2872, 11, 10607, 9, 4178, 3339, 9, 5168, 17, 5, 1843, 9365, 4, 946, 7, 3886, 18, 1, 17692, 4304, 11, 1, 103, 14, 29, 124, 18, 1, 0, 2, 29, 0, 0, 69, 9, 4440, 7, 111, 95, 12, 452, 14, 29, 150, 32, 587, 59, 7, 205, 67, 4, 818, 27, 7, 83, 3, 383, 58, 1134, 3, 0, 2, 1, 20, 130, 28, 0, 96, 108, 79, 2, 29, 1107, 85, 3, 29, 17588, 3, 29, 2844, 18, 31, 0, 4, 1045, 5, 415, 1032, 211, 107, 29, 150, 32, 361, 67, 4, 1564, 27, 3, 29, 875, 5, 330, 625, 7, 720, 67, 746, 0, 393, 2, 21, 456, 3, 40, 327, 3145, 11, 353, 20, 261, 2, 34, 911, 17, 12, 296, 1, 183, 5025, 18308, 1165, 818, 11, 6991, 19814, 7, 1272, 139, 3339, 4, 31, 420, 1072, 6, 5568, 34, 39, 34, 3, 10, 1532, 77, 6, 1, 1957, 7, 7385, 5647, 2, 12, 224, 682, 7, 62, 643, 4, 307, 43, 3, 21, 0, 3, 529, 29, 65, 174, 147, 2229, 3173, 4, 51, 6, 273, 2, 17, 75, 309, 1, 1652, 29, 682, 7, 77, 4, 307, 159, 8, 26, 25, 110, 1, 137, 16, 44, 7385, 5647, 35], 1), ([0, 0, 8, 15, 1090, 6, 7883, 0, 0, 0, 452, 1081, 1247, 2, 31, 8611, 3, 31, 597, 3, 31, 0, 37, 6, 10, 4965, 7, 0, 2, 59, 29, 5408, 5, 736, 12, 3, 17, 78, 17, 109, 27, 1, 278, 3, 101, 244, 29, 159, 8, 26, 4393, 45, 4, 14, 31, 6035, 7, 33, 45, 11370, 1111, 2, 12, 335, 1141, 14, 442, 2, 0, 165, 537, 0, 24, 906, 0, 23, 2460, 4, 14, 65, 1221, 31, 5190, 18, 1, 0, 3, 69, 1202, 7903, 11, 177, 0, 2, 50, 25, 111, 1, 106, 3, 42, 1, 576, 29, 4049, 7, 1, 576, 29, 0, 1, 2867, 25, 244, 17, 162, 25, 76, 6570, 146, 5479, 1462, 2, 29, 8, 241, 63, 4198, 1, 0, 921, 7, 505, 139, 1, 547, 163, 0, 10, 4, 10, 65, 562, 11, 40, 10171, 3639, 2, 0, 0, 8, 15, 3728, 265, 624, 17, 5, 3728, 2, 10, 809, 17, 162, 29, 76, 262, 108, 283, 7, 33, 294, 324, 46, 377, 294, 324, 8, 15, 70, 2, 17, 5, 898, 3, 177, 66, 12, 738, 7, 4730, 12, 8, 241, 1658, 62, 6184, 95, 29, 159, 8, 26, 320, 7, 32, 5, 4907, 6184, 27, 1, 223, 3, 314, 2, 17, 162, 10, 76, 2132, 19, 96, 2, 1, 0, 11, 1, 251, 209, 16, 1081, 13559, 0, 3, 108, 2, 375, 2088, 7, 5041, 442, 2, 0, 8, 15, 11142, 18, 1, 0, 3, 644, 231, 3, 6774, 1209, 140, 3, 524, 2, 550, 86, 3, 42, 5, 503, 8, 15, 1994, 2, 45, 16, 5, 576, 11, 1, 409, 1, 2015, 1627, 1387, 59, 442, 2, 0, 2652, 31, 2867, 44, 5, 542, 2, 10, 16, 2314, 2, 29, 2348, 10, 17, 162, 10, 76, 1415, 35, 12, 224, 1491, 139, 62, 2726, 2, 4, 281, 8, 15, 33, 1197, 1, 70, 9, 49, 40, 327, 14152, 2, 815, 2, 0, 9, 40, 1792, 2, 1709, 213, 8, 26, 3, 197, 1, 12401, 11, 1, 106, 16, 327, 4, 0, 3, 17, 16, 1315, 3, 12, 8, 148, 254, 2, 24, 1, 941, 12527, 16, 0, 18, 5, 0, 6, 8413, 3, 18907, 0, 16328, 39, 5, 430, 345, 178, 53, 414, 2, 2, 2, 0, 2, 23, 10, 8, 15, 93, 1, 70, 10779, 9267, 1379, 2651, 4979, 88, 3, 670, 3, 4714, 1040, 14, 167, 1, 106, 4249, 2, 24, 335, 0, 0, 8, 15, 0, 0, 0, 35, 23, 12, 412, 8, 26, 71, 851, 149, 1, 251, 209, 698, 2, 38, 47, 452, 671, 2, 72, 1, 106, 97, 4, 25, 8, 236, 123, 54, 12, 8, 148, 687, 49, 2], 0), ([15958, 80, 0, 87, 118, 817, 13, 400, 11, 31, 125, 2, 13, 9, 1, 20, 69, 2223, 31, 6176, 2, 10, 16, 615, 18, 79, 3720, 21, 9125, 931, 4, 3342, 7, 4790, 4812, 11279, 19, 99, 1095, 4, 12566, 2, 0, 74, 7, 1251, 0, 98, 19, 1, 11279, 0, 2, 514, 107, 99, 766, 3, 29, 738, 0, 88, 2655, 21, 1200, 3068, 2, 99, 5, 60, 86, 20, 18, 488, 119, 3, 0, 2447, 4, 1092, 919, 2, 481, 1, 20, 3, 0, 291, 44, 5, 397, 2275, 42, 55, 3422, 2, 12, 8, 148, 34, 6, 1, 2527, 3416, 41, 214, 15958, 3, 97, 271, 97, 127, 11, 1652, 2, 1, 1169, 76, 43, 1075, 14, 94, 6, 98, 309, 1, 1652, 163, 1, 0, 2, 735, 3, 12, 8, 236, 28, 380, 13, 34, 7, 256, 2], 0), ([97, 6, 37, 3, 12, 212, 135, 12, 71, 362, 155, 13, 20, 2, 1, 103, 75, 868, 1, 286, 85, 36, 1, 173, 66, 500, 888, 3, 4, 99, 34, 6, 153, 106, 14, 71, 167, 25, 110, 2, 1666, 35, 35, 35, 35, 1, 199, 14, 1, 1, 522, 41, 1107, 810, 3, 9, 1, 34, 25, 91, 8, 26, 1408, 3, 14, 199, 102, 77, 591, 0, 3, 240, 1548, 143, 61, 5905, 1521, 11, 1, 20, 2, 2, 1, 175, 1500, 77, 18, 14, 3, 261, 5, 20, 14, 279, 1, 120, 7, 1, 304, 4, 92, 1606, 1, 740, 14, 28, 5, 172, 6, 85, 65, 32, 114, 10, 596, 2, 55, 85, 227, 378, 687, 49, 143, 64, 34, 124, 235, 7, 580, 10, 163, 61, 124, 10, 3, 21, 64, 34, 1825, 48, 3, 47, 44, 64, 34, 41, 296, 1, 20, 124, 344, 2, 2, 2, 91, 8, 26, 123, 49, 25, 3, 21, 12, 124, 28, 474, 14, 10, 65, 33, 48, 41, 2292, 1521, 2, 2, 124, 25, 53, 53, 5686, 6929], 1), ([692, 7876, 1727, 1045, 1, 620, 6, 5, 3912, 3, 16394, 0, 4, 40, 1372, 7175, 2805, 1698, 3, 41, 3, 203, 573, 11, 1, 202, 7623, 3, 2224, 40, 2500, 883, 18, 1, 347, 6, 40, 2756, 4140, 2020, 2, 13, 11, 387, 9, 28, 43, 1737, 3, 21, 54, 9, 3, 9, 73, 4367, 6, 6707, 2, 0, 1, 7042, 3, 38, 198, 7, 501, 3612, 4, 315, 10887, 149, 399, 2, 1, 22, 9, 459, 683, 1, 4253, 8, 15, 24, 0, 0, 195, 2611, 0, 23, 204, 620, 3, 41, 1317, 501, 4, 980, 3, 198, 7, 119, 17, 1, 477, 109, 17, 78, 2, 18, 788, 6, 13773, 3, 0, 3, 4, 12568, 3, 1, 22, 0, 387, 7, 1, 1881, 18, 40, 0, 2220, 0, 7202, 207, 14526, 4, 0, 2, 17, 1, 20, 2989, 27, 3, 5, 1343, 13185, 4, 19484, 6, 73, 288, 1695, 773, 6, 6707, 2192, 178, 17, 1, 371, 406, 1, 11554, 6, 623, 2, 4287, 4130, 27, 2522, 1836, 3, 46, 1, 0, 6, 620, 3, 1, 22, 2844, 149, 5, 14665, 1302, 14, 9, 1118, 216, 3, 920, 2914, 2, 13, 101, 32, 84, 723, 0, 18, 1, 1618, 6, 3502, 4, 9946, 1836, 3, 4, 5, 917, 491, 3, 7, 69, 45, 9, 650, 80, 47, 5, 4118, 6, 2534, 14, 822, 1265, 2, 54, 9, 63, 58, 0, 9, 1, 22, 8, 15, 4320, 42, 70, 88, 623, 14, 6786, 11805, 18, 40, 903, 1013, 4, 6387, 1258, 2, 13, 65, 32, 84, 37, 494, 4, 8605, 3, 21, 45, 9, 64, 870, 1563, 4, 64, 1156, 7, 33, 1971, 46, 0, 2, 24, 27, 5, 504, 911, 3, 1, 22, 1359, 316, 838, 4, 5, 4641, 4, 703, 704, 3, 34, 6, 1, 58, 230, 1360, 6, 1, 365, 2, 23, 21, 17, 218, 3, 111, 1, 22, 4, 1094, 19, 639, 2], 0), ([166, 495, 1090, 39, 11269, 2916, 41, 305, 2546, 10207, 3, 5, 983, 1827, 18, 4823, 5892, 6, 1787, 1515, 2, 12, 429, 122, 106, 1827, 18, 1, 4823, 5262, 3, 4, 12, 293, 8, 26, 658, 18, 839, 6, 1, 489, 24, 2429, 107, 1979, 23, 2, 12, 68, 637, 1, 20, 74, 84, 615, 2276, 97, 2], 1), ([13, 9, 5, 495, 1026, 2058, 2, 64, 591, 143, 10, 16, 2359, 3894, 11, 1, 1143, 2, 15, 2, 10, 9750, 260, 3930, 1843, 7333, 19, 54, 10, 71, 9, 2, 166, 57, 22, 42, 13, 1030, 3, 3728, 3, 16, 92, 458, 8949, 333, 95, 10, 1202, 3, 5453, 3, 14, 1, 1143, 2, 15, 2, 9, 5, 322, 1433, 5513, 27, 9069, 3, 5099, 3, 4, 0, 8257, 11, 99, 2820, 19, 932, 182, 11500, 2, 5, 1044, 120, 3, 57, 119, 3, 55, 202, 419, 24, 313, 4214, 3, 1101, 8471, 3, 10008, 10811, 256, 53, 23, 4, 55, 145, 6, 6048, 150, 32, 102, 13, 20, 5, 632, 2, 479, 3, 1524, 91, 8, 26, 44, 7, 825, 1, 860, 49, 521, 3, 269, 59, 38, 30, 0, 11, 3427, 600, 2], 1), ([12, 47, 1520, 13, 502, 2, 2, 2, 2, 559, 734, 6, 57, 800, 9102, 2, 1358, 35, 35, 54, 5, 2506, 6, 8085, 12731, 13, 20, 9, 35, 35, 130, 256, 123, 1, 5509, 6, 1, 175, 43, 12, 56, 82, 62, 746, 2263, 152, 53, 53, 53, 53, 428, 294, 18325, 0, 42, 1, 8, 252, 5668, 322, 20, 129, 8, 633, 34, 1504, 2, 7, 33, 1159, 3, 12, 91, 8, 26, 110, 45, 30, 105, 57, 5668, 322, 106, 536, 3, 21, 13, 16, 71, 86, 2, 12, 391, 8, 26, 82, 88, 105, 1832, 7780, 3, 45, 8, 15, 5, 2946, 800, 42, 83, 0, 11105, 14, 1537, 98, 37, 2, 50, 1, 175, 2697, 7, 0, 63, 1, 0, 0, 49, 1832, 4979, 197, 38, 101, 8, 144, 102, 1, 20, 660, 813, 2, 2, 2, 2, 277, 2, 12, 474, 1, 728, 150, 33, 361, 1, 1076, 19, 13, 462, 6, 5, 22, 2, 29, 46, 61, 534, 0, 1, 120, 19, 13, 20, 42, 55, 4641, 1461, 28, 15926, 18, 1, 0, 6, 623, 2, 130, 1635, 21, 77, 591, 54, 1, 222, 6, 13, 20, 16, 53, 16, 45, 5, 740, 53, 579, 162, 2, 2, 2, 2, 2, 6390, 53, 53, 53, 53, 12, 8, 148, 189, 2588, 36, 37, 1, 1128, 800, 71, 2, 13, 22, 9, 283, 7, 111, 17, 5, 8230, 95, 6, 37, 1, 6919, 7780, 21, 63, 50, 34, 101, 5256, 14, 3, 1, 120, 1716, 3, 109, 30, 2090, 24, 7, 135, 1, 225, 23, 4, 1, 119, 9, 337, 36, 128, 2, 10, 8, 15, 2897, 3, 12, 1316, 3, 14, 13, 20, 9, 444, 7, 33, 49, 6339, 0, 11497, 3, 95, 10, 8, 15, 1, 1096, 2014, 12, 8, 144, 114, 13, 345, 2], 0), ([13, 20, 16, 719, 11, 62, 8304, 4, 12, 16, 10585, 18, 115, 6, 1, 160, 11, 1375, 7343, 2, 94, 6, 98, 76, 1381, 36, 1, 731, 6052, 369, 4, 63, 36, 1, 66, 10, 16, 719, 75, 37, 690, 54, 5, 3874, 10, 16, 2, 10, 16, 230, 197, 7, 72, 10, 116, 102, 2, 94, 6, 1, 1347, 10, 16, 719, 36, 64, 1150, 1883, 3, 147, 17, 1, 5544, 3, 1, 6749, 1822, 3, 524, 2, 1, 182, 4514, 16, 1589, 36, 1, 0, 0, 1652, 4, 75, 37, 1451, 7000, 36, 93, 4181, 10, 16, 2, 12, 1251, 263, 10, 8, 15, 1, 252, 20, 129, 102, 21, 10, 963, 152, 115, 4529, 1841, 19, 77, 2, 111, 13, 20, 18, 5, 680, 6, 1943, 2, 2, 2, 362, 10, 19, 54, 10, 9, 2, 2, 5, 60, 486, 416, 3, 843, 102, 3, 6052, 505, 2], 0), ([1, 97, 607, 698, 6, 819, 1207, 30, 47, 7, 1293, 67, 3, 7, 700, 4, 1, 252, 2759, 12, 8, 144, 114, 2, 391, 8, 26, 4, 2243, 12, 7168, 8, 26, 770, 10, 2, 92, 114, 11, 2416, 152, 14, 698, 49, 736, 38, 124, 3, 2826, 63, 58, 2, 37, 12, 187, 7, 135, 7, 1, 85, 41, 104, 13, 9, 91, 8, 26, 90, 228, 409, 49, 736, 3, 95, 38, 2826, 2, 1, 222, 9, 14, 819, 1207, 1716, 63, 58, 81, 1, 2416, 163, 2, 226, 411, 42, 819, 7, 819, 2, 12, 193, 43, 658, 4, 3403, 155, 97, 607, 698, 6, 819, 1207, 14, 12, 47, 74, 7, 877, 13, 2, 68, 85, 41, 30, 1073, 6305, 56, 111, 13, 583, 2, 191, 14, 85, 501, 1, 2759, 30, 385, 51, 6, 988, 19, 5, 211, 66, 2, 110, 14, 62, 280, 345, 178, 5799, 74, 5, 132, 323, 19, 1, 409, 81, 138, 85, 90, 2], 0), ([78, 3, 64, 3, 28, 71, 2, 99, 28, 71, 5, 57, 20, 3, 21, 99, 28, 17, 86, 17, 12, 200, 10, 16, 171, 7, 33, 2, 12, 71, 159, 8, 26, 244, 3219, 139, 6, 62, 2415, 301, 3, 4, 531, 1548, 37, 25, 56, 979, 19, 2, 1, 120, 9, 588, 3, 168, 495, 46, 176, 3, 1, 119, 9, 189, 86, 3, 21, 1, 188, 9, 189, 2, 1, 980, 9, 4371, 3, 21, 1, 299, 30, 488, 3, 269, 1, 2585, 299, 3, 69, 11, 5, 2585, 20, 3, 9, 5, 189, 202, 454, 2, 45, 16, 5, 952, 551, 1132, 6, 1014, 3, 69, 7, 77, 9, 5, 189, 57, 154, 3, 21, 10, 293, 8, 26, 37, 14, 895, 2, 37, 11, 37, 3, 99, 5, 952, 890, 1607, 7, 399, 20, 3, 28, 1, 252, 22, 12, 8, 144, 129, 114, 4, 50, 25, 8, 185, 1075, 5, 530, 336, 3, 859, 10, 51, 4964, 2, 12, 8, 241, 63, 111, 10, 179, 2, 4101, 199, 19, 201, 12604, 3, 2338, 11896, 24, 1412, 0, 11, 5, 180, 6, 98, 23, 305, 1, 2585, 2], 0), ([25, 44, 316, 522, 53, 1112, 77, 108, 2, 54, 9, 45, 86, 7, 135, 49, 316, 0, 53, 168, 7668, 3, 43, 143, 65, 12, 205, 13, 20, 68, 280, 419, 51, 6, 553, 3, 264, 10, 193, 1, 1935, 6, 0, 0, 4, 0, 0, 53, 50, 12, 71, 468, 7, 111, 316, 85, 3, 12, 8, 241, 111, 4629, 46, 146, 14, 8, 15, 143, 2, 13, 9, 5, 20, 3, 5, 43, 483, 231, 20, 2245, 2, 43, 39, 4768, 10, 130, 28, 63, 71, 348, 5, 120, 208, 53, 12, 8, 148, 28, 11755, 4238, 3, 21, 281, 8, 15, 135, 414, 7, 14, 2, 43, 54, 130, 10, 348, 53, 948, 232, 852, 42, 181, 457, 24, 12, 227, 33, 10175, 5, 126, 233, 3, 21, 10, 452, 44, 58, 81, 948, 232, 2, 2, 2, 23, 53, 35, 14, 65, 33, 64, 2, 21, 100, 179, 25, 118, 123, 3, 1, 85, 41, 296, 181, 34, 227, 28, 123, 54, 38, 9095, 13, 1863, 19, 6794, 3, 43, 1290, 281, 8, 15, 3454, 98, 2, 2, 2, 1290, 277, 3454, 98, 63, 1567, 53, 47, 7, 33, 254, 38, 391, 8, 26, 817, 2, 2, 2, 36, 225, 360, 1, 886, 1789, 3, 6, 268, 35, 35, 35, 35, 43, 817, 49, 1, 70, 3, 49, 113, 967, 3, 49, 157, 1366, 3, 49, 1, 119, 24, 4, 64, 3, 12, 91, 8, 26, 110, 366, 11, 18015, 1286, 2589, 1017, 9, 0, 19, 119, 35, 23, 2, 2, 2, 54, 130, 14, 546, 53, 414, 1, 231, 145, 2, 1, 231, 145, 30, 28, 86, 4, 14, 8, 15, 1, 289, 12, 506, 1, 20, 280, 419, 310, 6, 457, 35, 12, 16, 742, 13, 20, 5, 561, 3, 21, 10, 16, 5, 462, 6, 66, 2, 2, 2, 25, 32, 132, 184, 7, 0, 3, 263, 77, 2, 2, 2], 0), ([570, 4, 1911, 220, 36, 10, 8, 15, 128, 2, 13, 292, 6, 959, 2032, 7353, 18, 6908, 0, 465, 9, 2600, 6, 5, 71, 9037, 359, 11, 1, 2089, 2, 33, 2437, 19, 55, 6, 1, 94, 1418, 4, 0, 1638, 404, 3, 1149, 18, 6505, 0, 4, 376, 1109, 2, 396, 5388, 1875, 35, 45, 150, 33, 58, 220, 44, 13, 190, 502, 2, 13, 1480, 6, 7353, 27, 34, 274, 87, 6304, 115, 4386, 4, 0, 11, 622, 7, 1061, 55, 6, 1, 515, 2, 50, 25, 517, 1, 1085, 2589, 4164, 895, 321, 1414, 3, 82, 1665, 19, 55, 58, 3200, 2, 50, 25, 30, 63, 1079, 13, 19, 1136, 1169, 12, 65, 135, 14, 177, 542, 27, 688, 150, 72, 13, 2], 1), ([1, 350, 363, 6, 1951, 7467, 8, 15, 4195, 12503, 27, 3339, 10204, 1818, 18, 31, 239, 5133, 7, 18503, 2872, 7, 10607, 2, 11, 622, 7, 4147, 31, 17161, 0, 6, 3339, 7467, 5651, 6832, 11868, 1, 3427, 14374, 29, 0, 136, 107, 1, 2872, 11, 4653, 4, 1, 13893, 6, 31, 8596, 1137, 24, 13, 9, 1, 480, 6, 5, 2036, 29, 4069, 11, 1, 14577, 6, 31, 8596, 13966, 23, 7, 6329, 1404, 27, 3339, 8, 15, 557, 7, 11034, 1440, 7, 2165, 67, 439, 1, 1228, 11, 10607, 2, 10, 65, 487, 51, 7, 33, 5, 1465, 4, 10204, 8, 15, 464, 491, 2, 54, 9407, 1, 97, 4894, 1045, 2059, 133, 17, 7467, 8868, 31, 22, 7, 5, 6897, 7, 2063, 1, 0, 0, 6, 1, 19413, 10204, 288, 179, 116, 259, 44, 574, 2323, 11, 2542, 6, 10417, 39, 0, 5350, 10567, 2, 1, 454, 9, 10204, 52, 126, 973, 11, 11238, 0, 4, 29, 514, 676, 314, 4, 31, 9443, 11473, 116, 11083, 67, 11, 1, 540, 6, 2343, 18308, 2483, 2, 1018, 11108, 6187, 11, 1, 1896, 3, 0, 3, 1, 11113, 6, 539, 7467, 946, 7, 13239, 1, 2483, 8, 15, 12684, 5056, 7, 16195, 1, 4284, 6, 1, 0, 2, 29, 191, 58, 1989, 18, 1845, 3339, 8, 15, 0, 730, 31, 424, 81, 5357, 1, 4868, 1002, 11, 27, 1, 354, 0, 2, 45, 9, 34, 0, 576, 121, 3339, 4343, 0, 40, 0, 1690, 5208, 4, 2006, 7, 82, 10, 703, 21, 456, 7467, 8, 15, 0, 6991, 141, 1306, 1098, 3, 3846, 4, 2746, 2, 11, 203, 6, 31, 112, 7467, 279, 29, 9, 685, 5, 3339, 17659, 4, 95, 6, 10, 31, 1083, 1306, 0, 4, 9012, 2, 29, 2280, 108, 79, 66, 1361, 31, 9610, 7, 3339, 4, 108, 126, 11, 4616, 31, 1426, 18, 1550, 1878, 11, 31, 4789, 3, 269, 17606, 10873, 2, 261, 2208, 411, 29, 130, 10, 18, 5, 644, 4, 18448, 1436, 14, 118, 4103, 996, 2, 34, 65, 110, 29, 16, 0, 11, 194, 5850, 4, 0, 7, 977, 14, 6474, 657, 9, 11679, 5, 172, 132, 18, 6474, 445, 2], 0), ([6843, 0, 305, 5, 91, 19991, 113, 3, 1913, 7, 1048, 3, 573, 11, 5, 182, 0, 18, 696, 125, 2, 29, 0, 7, 31, 14964, 13252, 80, 10443, 3, 0, 3, 4, 13204, 80, 102, 51, 6, 0, 3, 2070, 0, 3, 4, 13846, 1068, 8966, 2, 47, 17, 91, 19991, 12761, 0, 3, 1, 134, 5019, 31, 0, 24, 1214, 23, 0, 1, 415, 466, 969, 67, 1, 2434, 4, 11821, 696, 182, 80, 0, 730, 1, 688, 3, 248, 42, 1, 5165, 6, 696, 134, 2, 203, 109, 1311, 11, 1600, 6, 1137, 11, 40, 772, 7, 208, 1, 15262, 6, 1, 182, 2, 203, 109, 30, 8154, 7090, 6, 1161, 6866, 7, 94, 6, 1, 83, 109, 11, 1, 70, 2, 1018, 0, 8, 15, 781, 3, 11, 13, 20, 75, 3252, 58, 2562, 18, 1, 11428, 6926, 6, 1, 290, 113, 2, 75, 56, 68, 1565, 13, 1178, 4, 0, 3607, 7, 1, 5929, 4, 316, 182, 75, 426, 11, 2, 260, 2134, 6, 3044, 9, 1, 1040, 5262, 69, 1, 3201, 4403, 383, 6850, 2, 260, 1703, 65, 33, 34, 69, 5248, 1, 290, 113, 7, 4383, 3, 7, 0, 3, 7, 657, 31, 182, 24, 19, 1, 132, 23, 152, 88, 5, 182, 6, 958, 14, 64, 1150, 3052, 2, 75, 169, 36, 13, 20, 4, 72, 5, 303, 4403, 754, 5, 182, 6, 0, 2, 91, 19991, 1237, 314, 5, 303, 4403, 754, 1489, 2, 18, 0, 8, 15, 781, 75, 56, 68, 72, 1, 18461, 3, 206, 71, 1725, 1, 5265, 6, 31, 11428, 0, 2, 11, 13781, 8, 15, 4, 0, 8, 15, 781, 75, 72, 1, 176, 182, 42, 1, 511, 6, 91, 19991, 3, 95, 75, 1106, 1, 173, 5892, 4, 6926, 17, 1, 0, 290, 113, 2], 1), ([75, 8, 185, 5, 211, 103, 42, 2797, 2, 288, 179, 6454, 5615, 4902, 3, 6033, 3346, 419, 17, 5, 548, 1365, 750, 968, 3, 4, 2521, 8221, 9, 1, 316, 253, 41, 11251, 96, 3, 21, 168, 324, 49, 121, 1, 8703, 640, 3592, 295, 8, 15, 512, 3702, 600, 805, 2, 310, 6, 7069, 12345, 403, 75, 82, 2325, 3, 6427, 1709, 2, 142, 1, 930, 22, 537, 273, 11, 1, 0, 4593, 0, 6, 176, 866, 844, 3, 133, 75, 8, 185, 11, 1, 10712, 7648, 6, 463, 1964, 3, 14968, 3, 671, 16406, 4, 9932, 16847, 2, 8221, 3, 1492, 17, 129, 3, 156, 500, 17, 5, 0, 14498, 4, 466, 11, 2462, 5362, 24, 1, 3379, 6, 1, 3632, 41, 288, 193, 5, 1460, 10428, 51, 6, 2797, 8, 15, 968, 0, 23, 2, 13, 66, 3346, 9, 968, 7757, 3, 40, 924, 3, 17159, 3, 58, 3306, 319, 6, 1, 598, 983, 11, 5, 13688, 6890, 2, 121, 1, 8703, 640, 3223, 7, 5, 10803, 6, 1675, 3, 106, 49, 548, 5577, 4287, 27, 1459, 41, 56, 8, 26, 1172, 73, 1184, 15560, 2, 44, 3606, 2143, 8, 15, 113, 11, 1365, 70, 3, 7757, 6275, 31, 12769, 6895, 19, 7746, 7, 31, 340, 8, 15, 1817, 509, 2, 121, 2143, 9, 13183, 4, 1908, 7, 31, 204, 4810, 3, 3346, 9, 17444, 39, 6549, 3092, 4, 16433, 2, 29, 2575, 1107, 5, 1651, 4, 3598, 67, 31, 1611, 18, 40, 557, 7, 1293, 6669, 27, 5, 6072, 2174, 24, 1967, 17009, 23, 914, 29, 52, 84, 0, 8348, 19, 161, 2, 310, 3, 5, 7550, 7154, 2173, 9, 6668, 95, 29, 8, 15, 1, 340, 6, 1, 354, 134, 8, 15, 7175, 4, 14512, 330, 2115, 24, 2521, 8221, 23, 2, 7757, 3, 1471, 11, 122, 18, 1, 330, 6, 1, 134, 29, 533, 3, 516, 2750, 7, 575, 48, 340, 206, 742, 314, 248, 2, 754, 1675, 2901, 3, 6033, 3346, 74, 13, 7291, 29, 16, 5794, 6, 2868, 14181, 2, 63, 59, 394, 40, 890, 926, 3, 17, 29, 606, 124, 3, 29, 218, 265, 624, 17, 6963, 2802, 4, 13133, 58, 81, 14, 3, 31, 951, 6, 116, 108, 4456, 19, 31, 204, 5190, 423, 96, 14, 0, 0, 14, 16, 31, 3312, 17, 40, 297, 2, 29, 259, 1831, 460, 3, 1459, 4, 1165, 3, 21, 218, 18, 5, 1598, 16535, 6, 317, 4, 1322, 108, 79, 2, 31, 0, 1740, 30, 5930, 39, 19557, 3, 3092, 3, 1, 5364, 129, 7, 10470, 67, 2, 64, 83, 297, 101, 32, 5411, 43, 78, 1, 0, 2650, 3, 1, 0, 1452, 3, 1, 0, 1656, 6, 968, 7757, 2, 29, 92, 52, 5, 10018, 8378, 3, 5, 18783, 5231, 4, 63, 10831, 465, 14, 104, 96, 5420, 2, 13, 265, 51, 59, 29, 311, 2115, 7, 5, 3665, 121, 29, 8, 15, 5, 2039, 3, 4, 19, 1, 97, 66, 75, 72, 13, 1130, 3, 1774, 134, 12420, 7195, 6190, 18, 1, 6681, 3, 655, 7345, 56, 8, 26, 2533, 48, 4554, 4, 5037, 19, 96, 2, 59, 7757, 1802, 31, 1922, 19, 301, 7, 82, 5, 2853, 19, 2115, 8, 15, 340, 3, 29, 9657, 10, 63, 162, 38, 1001, 11135, 4, 7757, 3775, 5, 3042, 36, 96, 2, 45, 30, 64, 678, 49, 5306, 46, 1322, 29, 8, 15, 5, 57, 221, 849, 192, 3, 21, 75, 72, 10, 37, 11, 1, 134, 8, 15, 13760, 3098, 4, 31, 330, 8, 15, 0, 17, 61, 910, 136, 55, 10456, 7, 13130, 2, 7757, 8, 15, 3424, 265, 624, 149, 83, 85, 8, 15, 3135, 7, 96, 17, 79, 17, 149, 3346, 8, 15, 1674, 703, 242, 2, 162, 6033, 3346, 16, 5, 1375, 355, 3, 29, 210, 33, 1, 8196, 7659, 134, 2, 29, 266, 149, 55, 106, 1053, 129, 661, 139, 31, 0, 18, 14, 0, 3, 0, 18011, 3, 999, 0, 39, 1, 0, 3, 1, 2943, 6, 0, 3, 1, 6493, 29, 158, 8, 26, 198, 51, 6, 31, 1663, 59, 29, 2138, 3, 29, 291, 8981, 11, 1, 10235, 3893, 6, 16521, 4, 0, 2, 142, 115, 11610, 0, 1, 0, 1236, 221, 3, 121, 1, 8703, 640, 1542, 40, 15859, 3361, 6, 1, 623, 510, 1, 0, 3, 5, 2944, 4, 6936, 5081, 6, 1, 4876, 4, 3352, 6, 582, 2, 3346, 16, 1022, 2148, 11, 31, 204, 66, 24, 29, 16, 1, 68, 34, 6, 1, 282, 2901, 11, 1, 128, 161, 6, 260, 466, 28, 2406, 19, 40, 1710, 1419, 3, 162, 31, 5540, 242, 9, 237, 58, 1490, 81, 12217, 3958, 8, 15, 6115, 3, 11618, 2056, 23, 2, 3402, 3, 3346, 1517, 11, 55, 112, 14, 18489, 31, 12632, 3, 4, 156, 36, 239, 13, 15615, 22, 3, 69, 1359, 31, 128, 242, 3, 56, 33, 114, 17, 181, 6, 1, 3131, 1460, 22, 1675, 292, 2, 13, 209, 3, 571, 5, 633, 6, 118, 163, 615, 2723, 24, 147, 17, 2024, 5769, 4, 5944, 8, 6520, 23, 3, 2985, 14, 0, 210, 32, 74, 1, 1830, 1923, 6, 37, 1, 645, 2392, 59, 10, 373, 7, 22, 1675, 2], 1), ([13, 9, 5, 20, 14, 87, 546, 25, 529, 3, 9, 29, 46, 213, 8, 26, 29, 53, 142, 115, 85, 32, 7640, 49, 1, 5068, 285, 3, 10, 423, 654, 19, 1, 304, 7, 110, 4, 9990, 10, 42, 1, 3286, 2, 13, 9, 62, 2580, 4, 2694, 3, 4, 12, 263, 10, 9, 60, 467, 2, 97, 3, 133, 9, 1, 120, 2, 34, 271, 3, 5434, 24, 1575, 3913, 23, 1135, 712, 11, 1, 6626, 6, 5, 3087, 989, 1533, 2, 107, 2724, 7, 347, 5, 253, 42, 0, 3, 29, 9, 3679, 4, 1354, 7, 0, 3, 4, 315, 7947, 7, 717, 2, 968, 3082, 8, 15, 24, 1726, 3885, 23, 1367, 2, 5434, 9562, 2138, 49, 93, 29, 373, 42, 1, 1266, 8986, 4, 9, 133, 7, 90, 5, 3936, 27, 688, 2, 1876, 3, 29, 9, 8429, 17, 5, 8320, 4, 9, 3426, 67, 11, 5, 486, 2722, 648, 3621, 2, 29, 6092, 1, 83, 4154, 4, 921, 5243, 98, 6, 31, 70, 2, 11, 199, 3, 29, 701, 98, 29, 56, 198, 34, 397, 152, 18, 96, 2, 514, 717, 2, 3082, 9, 470, 7, 870, 5434, 8, 15, 4624, 4, 17, 1, 120, 4450, 3, 10, 9, 4402, 4, 4402, 7, 1897, 5434, 358, 2, 11, 1, 137, 3, 717, 2, 3082, 2202, 14, 5434, 9, 593, 6751, 3, 5, 1363, 134, 41, 907, 11, 5, 4926, 329, 11, 176, 2885, 3, 59, 31, 330, 4, 558, 76, 1787, 2, 5434, 2364, 14, 29, 2218, 7, 546, 19, 8986, 36, 5, 7216, 66, 27, 1, 4692, 8912, 6, 1, 1596, 2, 1, 66, 265, 4, 266, 3, 4, 3082, 676, 5434, 46, 593, 11, 5, 15368, 1085, 2, 34, 6, 1, 4154, 9, 1041, 4, 9, 118, 258, 179, 2, 27, 7, 62, 2694, 5434, 9, 28, 939, 2, 5434, 9, 42, 1, 1266, 8986, 2, 593, 6751, 9, 5, 433, 6, 5434, 8, 15, 2, 27, 34, 6, 5434, 8, 15, 892, 4976, 7, 688, 3, 593, 16, 5, 542, 3, 2623, 49, 1, 0, 42, 31, 340, 2, 5434, 4, 593, 847, 128, 351, 2, 107, 1, 325, 6, 31, 245, 3, 4, 593, 0, 1, 2479, 3, 593, 1091, 7, 3742, 1521, 2, 5434, 9, 27, 8986, 36, 1, 66, 3, 21, 29, 8857, 152, 24, 11, 0, 6, 705, 2158, 23, 7, 580, 593, 2, 43, 5434, 311, 136, 1, 529, 6, 593, 3, 661, 136, 31, 666, 43, 7, 1048, 2, 4983, 315, 3, 5434, 24, 140, 16934, 593, 8, 15, 666, 23, 265, 7, 176, 866, 4, 9, 3426, 67, 2, 59, 29, 875, 19, 8986, 27, 6358, 9088, 3, 29, 311, 9903, 18, 96, 3, 21, 29, 212, 546, 593, 8, 15, 666, 510, 2, 2958, 3, 75, 156, 32, 1, 15368, 593, 2, 8621, 46, 3715, 5434, 8, 15, 1938, 6, 1, 8342, 190, 0, 17, 5434, 523, 3, 105, 542, 708, 49, 73, 204, 1530, 2, 68, 5, 180, 85, 27, 688, 74, 40, 16938, 49, 1, 1530, 3, 4, 5434, 1243, 7, 73, 1938, 2, 593, 6751, 3, 142, 1363, 4, 708, 31, 0, 3, 16, 64, 0, 2, 717, 3082, 809, 2363, 39, 5434, 10, 8, 15, 303, 2, 5434, 101, 8, 144, 309, 1, 11260, 36, 105, 66, 3, 21, 2291, 28, 108, 2, 5434, 8, 15, 239, 678, 7, 717, 2, 3082, 30, 3, 156, 14, 25, 8, 144, 258, 593, 2, 198, 455, 6, 96, 2, 5434, 16, 243, 3672, 45, 7, 6992, 5, 273, 19, 593, 59, 29, 309, 2, 0, 3736, 10, 16, 5, 16375, 199, 14, 5434, 74, 5, 8211, 1944, 8366, 7, 9863, 4, 101, 63, 72, 0, 17127, 2, 5434, 1624, 31, 629, 8986, 289, 3, 21, 45, 16, 64, 14352, 289, 361, 2, 10, 16, 92, 1067, 14, 5434, 16, 361, 550, 331, 9541, 6, 6625, 18, 64, 882, 2, 3184, 1, 4154, 481, 1, 20, 3, 25, 72, 5434, 3184, 1, 83, 4154, 24, 46, 1, 4154, 6246, 5434, 8, 15, 16490, 23, 7, 5, 132, 6552, 182, 2, 142, 1, 8193, 0, 36, 5434, 8, 15, 347, 3, 717, 2, 3082, 2138, 36, 1, 137, 6, 1, 20, 49, 1, 176, 466, 1, 4154, 30, 949, 2, 1, 0, 141, 1, 0, 9, 3550, 18, 6751, 8, 15, 352, 11, 176, 2885, 24, 69, 9, 3358, 121, 0, 9, 23, 2, 130, 6751, 6578, 1, 0, 18, 1, 325, 6, 31, 245, 53, 9, 48, 262, 7, 2889, 3082, 8, 15, 558, 42, 14, 488, 2003, 53, 12, 32, 5, 286, 222, 6, 611, 2, 10, 9, 5338, 14, 6751, 74, 2292, 1521, 11, 5, 1912, 2, 840, 3, 5434, 24, 476, 15546, 23, 9, 3037, 1989, 49, 593, 2, 12, 263, 14, 5434, 11768, 1, 2313, 18, 1, 975, 3, 28, 1, 0, 2, 29, 9, 262, 7, 2889, 1, 257, 42, 15887, 325, 3, 44, 29, 124, 593, 2, 15546, 717, 2, 3082, 809, 14, 476, 15546, 29, 56, 9458, 5434, 8, 15, 303, 2200, 3, 21, 142, 5434, 423, 958, 6, 1519, 3, 29, 118, 423, 67, 31, 5434, 3330, 4, 4561, 11564, 6, 8986, 2, 1, 2722, 375, 143, 65, 1, 375, 47, 205, 51, 19, 64, 1747, 289, 53, 1368, 0, 97, 3, 5434, 4020, 19, 5, 180, 490, 7, 31, 1231, 67, 2209, 2, 164, 3, 1, 4154, 30, 28, 36, 37, 0, 2, 840, 3, 38, 349, 7, 0, 1, 828, 2, 531, 12, 110, 38, 382, 132, 81, 1, 3618, 2, 1876, 3, 1, 94, 1003, 7647, 9, 6, 9903, 3, 1, 2290, 6, 1, 11220, 4108, 2, 28, 68, 130, 61, 4323, 36, 1, 0, 173, 66, 3, 21, 1, 68, 3113, 2196, 9, 48, 1978, 11220, 2, 13, 9, 68, 62, 4698, 2694, 2, 25, 56, 6405, 54, 25, 187, 2, 25, 56, 198, 717, 2, 3082, 8, 15, 2694, 3, 14, 5434, 16, 1472, 5, 3330, 578, 67, 39, 593, 6751, 7, 2928, 4395, 314, 42, 623, 3, 21, 14, 65, 33, 742, 67, 108, 115, 120, 1411, 2], 1), ([12, 238, 5, 336, 6, 1, 5492, 4, 12, 122, 1300, 4699, 43, 59, 13, 127, 97, 373, 51, 12, 864, 7, 205, 10, 5, 349, 2, 12, 101, 1167, 851, 149, 34, 409, 2, 1, 127, 9, 43, 534, 4492, 2, 12, 384, 217, 27, 3, 177, 694, 409, 2079, 294, 116, 3317, 46, 2079, 5, 5525, 1176, 262, 7, 508, 1, 245, 2, 166, 642, 3091, 9, 14, 138, 460, 118, 0, 235, 2, 59, 12, 111, 1300, 4699, 38, 174, 1960, 4, 349, 7, 0, 10, 4, 50, 38, 56, 8, 26, 100, 10, 9, 1960, 2, 27, 13, 127, 38, 174, 5, 597, 46, 5, 434, 6, 399, 1960, 4, 38, 30, 60, 1597, 7, 673, 10, 5, 1300, 2, 13, 332, 3770, 73, 2714, 1018, 14690, 4, 1300, 4699, 41, 165, 123, 54, 38, 8, 185, 402, 2, 1131, 50, 25, 8, 185, 943, 11, 1, 5492, 4, 187, 7, 111, 5, 127, 49, 10, 111, 1300, 4699, 2], 0), ([110, 6, 10, 17, 40, 1499, 773, 6, 10908, 206, 3190, 2, 206, 6894, 4, 661, 5, 504, 27, 1, 183, 1843, 7333, 3, 1, 1555, 6, 2476, 3728, 2079, 661, 4954, 6668, 6, 3674, 4276, 7, 5, 1843, 630, 3, 40, 1676, 7, 40, 0, 50, 25, 637, 3, 7, 5, 273, 121, 1653, 9, 28, 5, 837, 21, 5, 778, 7, 14442, 1519, 2, 310, 6, 0, 131, 11368, 18, 547, 6, 4064, 1253, 3961, 3, 25, 90, 43, 27, 1843, 1334, 121, 147, 5563, 30, 3046, 8811, 2986, 2, 1876, 3, 361, 1, 0, 6, 1, 5563, 4, 1028, 36, 2666, 192, 5, 397, 3, 531, 25, 65, 82, 54, 25, 187, 288, 25, 1297, 1, 6210, 3, 46, 82, 168, 3, 46, 252, 6, 37, 3, 82, 5, 8769, 47, 95, 1, 343, 52, 84, 1981, 7, 1, 222, 14, 1, 789, 87, 990, 7, 863, 25, 135, 2, 10, 8, 15, 40, 1462, 1555, 3, 4, 54, 132, 103, 7, 90, 10, 59, 25, 8, 185, 1, 5187, 398, 2732, 3, 742, 1, 5606, 7, 357, 863, 778, 1687, 11, 1, 400, 6, 8065, 58, 466, 3, 11, 40, 646, 121, 1519, 9, 1550, 7, 1, 935, 439, 2071, 3, 4, 402, 43, 11, 5, 630, 121, 243, 1, 2732, 1923, 9, 5057, 2, 3728, 9, 13, 345, 8, 15, 0, 3, 162, 11, 1, 520, 67, 7, 1, 176, 345, 75, 90, 32, 5, 633, 6, 1026, 776, 0, 7, 198, 14, 7643, 3, 18, 3728, 97, 6, 37, 3, 1483, 39, 1, 593, 8068, 20, 10709, 19, 7786, 3, 1210, 858, 3683, 4, 4917, 3968, 24, 179, 3, 162, 156, 27, 1, 83, 504, 6, 1, 7878, 23, 3, 4, 1, 4365, 18, 2927, 5360, 4, 1862, 6254, 3, 162, 13, 34, 65, 243, 487, 51, 7, 33, 58, 231, 2596, 2, 532, 39, 14931, 2959, 3, 41, 124, 0, 4, 87, 33, 0, 1, 176, 19183, 4198, 139, 3, 3728, 9, 5, 551, 776, 18, 5, 408, 3329, 188, 3, 11, 5, 1302, 14, 52, 84, 2099, 186, 1056, 138, 490, 80, 1, 3571, 3, 69, 1624, 19, 55, 7962, 0, 8843, 7, 33, 1259, 149, 40, 3354, 188, 2, 17383, 0, 24, 8665, 0, 23, 3, 5, 8428, 8452, 3, 226, 0, 6991, 5317, 7, 171, 352, 476, 1, 3840, 6, 3979, 408, 9910, 0, 17322, 24, 4917, 3968, 23, 2, 36, 5, 10908, 7655, 987, 1, 183, 3, 3447, 9159, 8, 15, 3979, 19249, 2143, 3078, 24, 436, 43, 11028, 23, 11513, 27, 31, 60, 97, 8811, 5690, 3, 64, 760, 116, 5387, 88, 5, 2571, 14, 29, 159, 8, 26, 1946, 67, 19, 2, 152, 352, 3, 5, 60, 2801, 8355, 0, 9235, 13901, 19, 2831, 7, 48, 643, 8, 15, 7647, 3, 4, 7356, 107, 40, 0, 1988, 1355, 8, 15, 24, 791, 0, 23, 7965, 3, 240, 29, 8, 15, 798, 19, 7348, 12624, 24, 1988, 8107, 23, 2, 1293, 11, 1766, 2, 2635, 2, 0, 3, 5, 3674, 120, 3472, 4, 5, 10373, 5202, 122, 70, 207, 13413, 24, 0, 0, 23, 4, 0, 24, 0, 0, 23, 3, 25, 32, 186, 5, 233, 171, 27, 11, 5, 3087, 438, 2, 361, 5, 633, 6, 6797, 3, 1733, 3, 0, 4, 1, 1145, 3, 3728, 293, 8, 26, 1401, 36, 37, 3, 4, 10, 305, 51, 18, 12953, 5592, 6, 1, 808, 3, 118, 1597, 7, 1541, 3, 5616, 988, 4, 2229, 42, 203, 2629, 6, 1, 12989, 2, 177, 113, 52, 73, 204, 4932, 3, 4, 1, 0, 6, 13, 4932, 11218, 194, 28, 7, 2592, 920, 7, 5965, 25, 2, 4, 1, 128, 181, 6, 10, 37, 9, 93, 3, 60, 374, 3, 38, 5341, 192, 7, 0, 11, 286, 4026, 3, 4, 1126, 3, 11, 908, 0, 1110, 479, 2, 10, 812, 25, 3008, 17, 78, 80, 124, 29, 46, 159, 8, 26, 29, 3, 4, 1288, 259, 18, 131, 343, 17, 7, 724, 17383, 1850, 54, 29, 8, 15, 385, 2, 10, 8895, 34, 550, 1363, 0, 6, 568, 69, 12, 159, 8, 26, 72, 596, 360, 10, 8, 15, 108, 538, 24, 43, 45, 266, 1, 1076, 23, 3, 162, 10, 124, 14678, 7, 1, 629, 9857, 6, 3674, 0, 3, 4, 206, 3234, 79, 66, 11, 1155, 7, 3923, 73, 4407, 2, 383, 10, 159, 8, 26, 174, 5, 348, 7, 3, 361, 43, 115, 106, 51, 45, 473, 1325, 2665, 27, 13, 1792, 24, 5311, 156, 3, 271, 318, 271, 318, 3, 0, 63, 23, 2, 142, 10, 682, 51, 7, 33, 246, 4185, 24, 928, 1522, 7, 0, 6, 6235, 7, 427, 5, 1521, 11158, 23, 3, 12, 452, 3728, 124, 208, 11, 28, 3646, 105, 14619, 1146, 285, 3, 14, 13, 555, 439, 1577, 3, 7866, 8808, 3, 213, 8, 26, 146, 14, 56, 33, 7050, 11, 5, 117, 552, 20, 3, 4, 12, 8, 148, 1238, 10, 0, 747, 147, 3053, 781, 0, 2, 54, 75, 32, 310, 9, 5, 78, 3102, 781, 14, 721, 99, 1084, 7227, 27, 1, 1792, 6, 3728, 3, 4, 243, 2235, 194, 7, 5023, 3442, 288, 1, 2478, 217, 27, 3, 27, 69, 1227, 25, 4393, 7, 80, 90, 25, 1440, 18640, 4790, 1452, 11, 8811, 53, 414, 46, 64, 53, 13, 9, 1, 8196, 870, 6, 260, 66, 2, 414, 46, 64, 53, 24, 588, 3, 12, 8, 148, 473, 10193, 19, 10709, 19, 7786, 23, 35], 1), ([0, 10575, 8, 15, 868, 67, 7, 8889, 1901, 1, 278, 17, 282, 341, 569, 292, 11, 16809, 3, 37, 18, 5, 180, 6, 10575, 8, 15, 3504, 3928, 3, 1245, 1199, 3, 3785, 3, 1, 798, 832, 4, 0, 1927, 1378, 2, 8723, 7, 111, 11, 1347, 3, 10, 9, 64, 346, 81, 60, 78, 449, 3, 280, 6, 1, 569, 272, 5, 9127, 759, 974, 7, 98, 142, 1, 4098, 70, 5, 595, 24, 4, 9434, 813, 23, 120, 7, 10, 2, 87, 28, 1328, 7, 94, 3, 571, 535, 7, 5, 222, 3, 21, 87, 64, 760, 8561, 5, 1304, 971, 2], 0), ([15236, 52, 5, 9955, 2657, 709, 0, 7281, 4, 156, 12, 123, 143, 2, 15236, 9, 459, 27, 5, 10007, 417, 24, 69, 3, 4134, 3, 9, 8239, 132, 81, 1, 22, 23, 4, 1045, 1, 1147, 706, 0, 5, 0, 11, 40, 4056, 906, 525, 2, 12, 8, 148, 28, 49, 7, 377, 25, 235, 14, 545, 11, 13, 22, 95, 10, 9, 40, 1539, 3566, 20, 2, 12, 296, 10, 19, 1, 97, 66, 239, 318, 4, 12, 16, 2763, 248, 2, 10, 326, 88, 1, 62, 408, 106, 6, 37, 66, 4, 0, 7329, 12271, 17, 1, 128, 745, 20, 24, 1214, 4, 0, 23, 14, 52, 84, 615, 11, 1, 239, 2016, 2, 13, 20, 9, 60, 0, 11, 884, 206, 0, 272, 105, 1607, 2048, 7, 1, 0, 19870, 2, 10, 52, 84, 102, 11, 1, 173, 103, 14, 10983, 4606, 31, 569, 10, 14907, 641, 17, 40, 8568, 6, 8, 146, 8, 15, 28, 186, 208, 133, 8, 0, 149, 5, 6399, 7570, 7, 5718, 4, 3, 1126, 3, 201, 149, 1261, 10270, 1318, 11, 1, 704, 4, 1, 652, 2, 13, 9, 3, 840, 3, 5, 915, 781, 2899, 8620, 2, 333, 1373, 2], 1), ([13, 9, 28, 5, 57, 20, 2, 108, 5100, 11, 515, 4, 1, 70, 381, 16, 3848, 2899, 2, 1, 5334, 16, 588, 3, 21, 28, 885, 2, 12, 224, 1491, 2333, 11, 13, 20, 2, 1, 70, 9, 49, 430, 196, 4025, 14, 187, 7, 32, 1137, 4, 868, 67, 27, 10, 2, 1, 109, 30, 1753, 3, 12, 374, 90, 28, 455, 49, 138, 109, 4, 244, 14, 45, 16, 168, 7, 390, 40, 1166, 943, 2, 8845, 13, 9, 28, 2, 12, 65, 32, 425, 7, 72, 58, 312, 5334, 299, 2, 92, 12, 0, 44, 7, 72, 58, 2030, 613, 81, 1, 1478, 1288, 614, 1619, 6, 1, 4025, 189, 7349, 11, 726, 1, 366, 17, 329, 4643, 4, 0, 2], 0), ([252, 20, 129, 35, 35, 99, 28, 1044, 46, 164, 46, 200, 4156, 2, 10838, 232, 6, 86, 160, 402, 73, 128, 18, 40, 376, 234, 2, 119, 16, 43, 86, 14, 25, 56, 72, 1, 354, 85, 7737, 2, 277, 1, 3031, 2133, 2431, 38, 76, 5934, 3673, 46, 146, 24, 25, 123, 104, 5, 20, 49, 168, 140, 598, 23, 21, 1200, 3068, 2, 12, 448, 1, 728, 118, 167, 166, 20, 129, 35, 35, 28, 295, 9, 1535, 5, 728, 3, 531, 75, 348, 7, 1525, 260, 11279, 4, 151, 152, 7, 116, 5, 4042, 8109, 46, 863, 2, 577, 91, 8, 26, 111, 13, 20, 3, 63, 27, 4630, 18, 1, 11072, 171, 99, 140, 5, 1369, 10838, 5865, 2], 0), ([13, 22, 16, 43, 86, 10, 847, 727, 2, 50, 25, 187, 7, 72, 5, 2210, 1561, 188, 1094, 7, 90, 40, 231, 22, 3, 13, 9, 19, 25, 35, 4511, 3, 4739, 6726, 3, 3605, 403, 80, 10, 52, 10, 37, 2, 1, 290, 113, 52, 5, 3571, 1578, 4, 56, 28, 104, 67, 31, 343, 724, 29, 9, 3159, 3, 5, 1895, 340, 46, 5, 662, 41, 87, 3114, 31, 125, 19, 401, 2, 29, 9, 4231, 11, 650, 6, 138, 603, 2, 13, 721, 1, 1267, 19, 115, 6, 1, 83, 109, 2, 1, 1303, 6, 1, 998, 655, 1361, 9, 292, 0, 3982, 1, 173, 19146, 3, 4, 43, 130, 31, 330, 2, 4, 1, 3042, 381, 80, 41, 52, 578, 1, 7853, 80, 12890, 2430, 2, 12, 258, 535, 1011, 9571, 4, 19, 14, 289, 3, 12, 380, 25, 111, 10, 2], 0), ([12, 97, 214, 13, 22, 136, 2846, 161, 601, 27, 710, 251, 4, 32, 68, 47, 969, 67, 18, 10, 179, 239, 1218, 27, 5, 274, 965, 1194, 139, 7995, 2, 12, 74, 1934, 1, 674, 871, 3, 1, 3629, 4, 1, 1492, 1655, 7214, 6752, 4, 1778, 21, 1, 120, 9, 6226, 81, 1, 930, 2094, 0, 19175, 22, 4517, 11, 1170, 2326, 4, 0, 158, 8, 26, 894, 67, 43, 78, 7, 1, 6000, 6, 1, 161, 2, 21, 498, 19175, 9, 5, 1685, 11, 1, 22, 3, 1255, 3, 164, 3, 0, 3, 712, 7, 33, 272, 89, 250, 4, 27, 408, 6, 31, 773, 2, 276, 155, 19, 96, 625, 2, 2094, 0, 712, 5, 126, 0, 5129, 96, 3, 4, 5, 126, 108, 178, 19, 1, 181, 61, 305, 21, 39, 1, 137, 6, 1, 4679, 8, 15, 73, 22, 12719, 16, 78, 2942, 18, 1, 451, 171, 937, 2, 4517, 11, 1170, 2326, 74, 84, 5, 408, 632, 19, 7725, 4, 5, 202, 301, 3608, 2, 11, 31, 9097, 19175, 1066, 36, 1793, 6, 31, 89, 3283, 19, 6923, 15258, 1, 175, 4, 0, 6, 13, 1223, 209, 6, 112, 2], 1), ([12, 108, 214, 13, 20, 59, 10, 97, 373, 51, 2, 12, 16, 5, 2092, 36, 1, 66, 3, 4, 12, 214, 10, 18, 62, 257, 433, 41, 315, 847, 62, 330, 2, 12, 392, 1, 20, 102, 77, 244, 10, 16, 631, 7, 1693, 1, 4301, 2, 1, 652, 16, 60, 78, 229, 50, 1744, 2584, 77, 4938, 2, 1, 431, 16, 5, 126, 79, 3, 21, 1, 257, 113, 16, 60, 230, 2, 12, 200, 10, 16, 60, 755, 4, 14, 227, 32, 84, 1, 7313, 7, 1, 97, 66, 18, 62, 100, 1008, 2, 12, 32, 28, 114, 1, 20, 240, 4, 12, 6081, 143, 10, 52, 763, 7, 1, 0, 2, 12, 65, 122, 7, 111, 10, 179, 7, 72, 50, 10, 16, 17, 57, 17, 12, 392, 2, 1, 8957, 313, 467, 1413, 16, 327, 2], 1), ([6293, 10538, 9, 5, 4198, 139, 6, 2610, 42, 1, 5236, 20, 6293, 2, 12, 238, 43, 1238, 14, 38, 864, 7, 9945, 27, 1, 789, 2, 1, 127, 226, 10, 2707, 42, 1, 60, 97, 409, 3, 5, 4750, 669, 779, 8, 5309, 52, 7, 151, 149, 1, 4052, 288, 58, 7, 916, 18, 31, 178, 4107, 3, 717, 2, 2766, 1495, 2, 149, 1, 97, 117, 698, 3, 75, 916, 5622, 4074, 3, 5, 60, 1190, 2032, 41, 1455, 64, 34, 1268, 136, 48, 3, 4, 45, 9, 0, 8, 1188, 3, 5, 1998, 3, 8593, 3878, 41, 7068, 31, 2634, 539, 4, 4578, 1, 695, 2, 1, 290, 86, 460, 30, 483, 1, 0, 3, 38, 30, 0, 41, 56, 82, 7312, 88, 34, 8, 15, 1073, 3, 1324, 7981, 98, 4, 402, 484, 7986, 2, 105, 0, 41, 52, 5, 2607, 1132, 6, 641, 9, 413, 8438, 17, 5, 1530, 1619, 2, 1, 5568, 510, 1, 0, 30, 483, 0, 3, 41, 329, 1, 19927, 0, 11, 73, 2259, 360, 1, 0, 56, 82, 7312, 11, 5, 397, 8, 15, 1073, 2, 149, 1, 698, 3, 75, 635, 82, 7, 72, 10538, 3, 1, 0, 695, 10149, 6, 0, 8, 0, 1097, 3, 151, 149, 1, 0, 14, 2814, 14702, 98, 7, 83, 8342, 24, 13, 2879, 9, 483, 1, 6293, 23, 4, 38, 2365, 176, 6408, 46, 86, 460, 2, 55, 698, 30, 0, 3, 1156, 14, 38, 90, 28, 151, 149, 1, 6293, 288, 11, 1, 409, 4, 246, 761, 18, 14065, 1185, 27, 688, 2, 149, 1, 161, 3, 25, 378, 7, 72, 5, 6900, 11, 1, 10538, 695, 17, 556, 15593, 3, 4, 58, 0, 70, 404, 2, 13, 3, 11, 487, 778, 63, 58, 0, 698, 3, 69, 9, 888, 4519, 2, 62, 667, 1027, 2, 0, 94, 6, 13, 127, 9, 57, 3, 45, 30, 55, 7890, 6, 70, 404, 28, 218, 385, 4494, 67, 4, 346, 6, 40, 3950, 27, 4052, 1968, 138, 239, 180, 161, 2, 21, 140, 3, 408, 3329, 1116, 1222, 35], 1), ([12, 258, 13, 20, 7, 33, 777, 2, 27, 2152, 3, 13, 20, 52, 267, 5, 397, 210, 187, 35, 883, 3, 220, 3, 471, 2, 5, 1907, 3666, 3, 5, 959, 188, 3, 89, 215, 4, 2892, 35, 11, 623, 3, 13, 20, 1013, 67, 116, 635, 1217, 3, 4, 12, 8, 236, 377, 25, 143, 2, 5, 23, 13, 9, 62, 1096, 454, 1, 765, 2, 13, 20, 52, 39, 237, 1, 252, 765, 12, 8, 144, 129, 114, 341, 6, 0, 3530, 2, 1, 765, 101, 8, 144, 84, 229, 132, 39, 5, 5194, 0, 8, 15, 2485, 13213, 248, 36, 0, 18, 5, 5, 354, 1171, 2, 45, 30, 145, 121, 117, 109, 30, 687, 7, 249, 83, 4, 25, 56, 72, 73, 3898, 703, 4, 1, 0, 213, 8, 26, 11, 9256, 95, 99, 685, 2272, 2, 143, 16, 10, 2272, 53, 12, 91, 8, 26, 123, 35, 99, 610, 3089, 610, 35, 1, 2380, 76, 229, 11, 5, 1120, 3181, 11, 732, 145, 35, 101, 38, 28, 174, 5, 0, 53, 35, 38, 8, 185, 28, 3250, 1928, 3, 63, 12, 204, 34, 35, 4, 12, 91, 8, 26, 104, 112, 35, 872, 23, 4072, 0, 8, 15, 242, 3518, 2, 10, 71, 159, 8, 26, 320, 44, 29, 468, 7, 33, 5, 181, 6, 13, 1104, 3, 4, 31, 119, 16, 1, 4570, 6, 5, 6658, 2317, 39, 241, 2, 5, 2, 1579, 2, 997, 2, 19, 0, 2, 36, 225, 313, 0, 1202, 55, 4999, 2, 414, 3, 313, 0, 9, 1, 68, 289, 12, 1520, 13, 505, 3, 4, 99, 1, 68, 157, 289, 276, 155, 2, 29, 8, 15, 124, 5, 57, 3, 1900, 242, 4, 29, 16, 1, 94, 17258, 113, 2, 2323, 7296, 8, 113, 16, 186, 1729, 3, 17, 16, 0, 2, 464, 680, 53, 50, 25, 8, 185, 5, 336, 6, 313, 0, 3, 13, 9, 276, 131, 66, 2, 50, 28, 3, 91, 8, 26, 63, 1252, 2, 1, 765], 0), ([8300, 7168, 24, 6085, 23, 9, 459, 27, 0, 16244, 8, 15, 5804, 2, 1, 20, 9, 532, 39, 693, 4002, 2, 10, 8, 15, 292, 11, 2620, 302, 1, 5333, 1062, 121, 282, 710, 1165, 32, 7, 580, 40, 484, 9347, 4, 31, 3930, 1304, 2, 8300, 7168, 9, 5, 3131, 1137, 322, 220, 18, 958, 6, 3545, 395, 2, 1, 282, 949, 339, 30, 495, 2, 4683, 2433, 9, 6011, 2, 0, 7067, 3, 2951, 7320, 9, 6011, 2, 8, 8996, 8, 0, 4, 2143, 6816, 1686, 2, 24, 1, 507, 6, 1, 2389, 25, 123, 41, 23, 9, 6011, 2, 1736, 0, 2, 281, 8, 15, 28, 817, 1, 83, 494, 1878, 41, 1416, 1097, 13488, 394, 8300, 7168, 314, 11, 5, 495, 103, 2, 1, 316, 4, 5292, 1929, 6914, 9, 0, 0, 2, 10, 8, 15, 4934, 250, 7, 111, 1, 5527, 6, 2676, 8, 15, 4, 8781, 8, 15, 2238, 2218, 2, 8300, 7168, 9, 4934, 172, 6, 250, 2, 10, 56, 33, 164, 3, 10, 56, 33, 3545, 2, 10, 56, 33, 267, 5, 57, 20, 3568, 2], 1), ([295, 563, 24, 4, 1, 304, 23, 150, 2555, 51, 1, 6583, 7, 72, 93, 57, 13, 20, 101, 32, 84, 2, 54, 604, 1, 1235, 321, 70, 53, 54, 76, 1820, 4354, 4, 2339, 9510, 529, 7, 1677, 73, 603, 7, 33, 3487, 0, 2, 67, 7, 156, 12, 32, 425, 177, 2521, 8016, 242, 2589, 20, 2, 29, 16, 344, 13380, 24, 69, 12, 56, 1053, 263, 23, 46, 7992, 3278, 2, 12, 32, 92, 425, 4, 16774, 794, 4083, 24, 4, 84, 0, 19, 10, 23, 2, 21, 133, 29, 74, 64, 641, 2, 29, 16, 118, 9781, 4, 68, 1864, 14563, 2, 37, 11, 37, 12, 16, 60, 658, 2, 12, 71, 850, 79, 58, 42, 13, 175, 4, 188, 2, 50, 25, 56, 8, 26, 174, 1, 6583, 111, 0, 1, 802, 179, 46, 63, 0, 2], 0), ([116, 24, 660, 23, 40, 1670, 1661, 535, 3, 12, 71, 382, 54, 138, 460, 76, 262, 7, 90, 4, 10, 912, 44, 5, 57, 323, 2, 27, 2152, 2, 27, 10328, 22, 3, 197, 3, 10, 8, 15, 376, 2, 12, 159, 8, 26, 977, 1, 154, 16, 102, 11, 1, 3565, 1287, 8, 15, 95, 1, 22, 16, 43, 5477, 4, 86, 12, 65, 32, 15824, 13, 16, 34, 6, 153, 1074, 345, 178, 1482, 121, 5, 1558, 1384, 738, 7, 151, 2568, 2, 4, 1, 467, 35, 5176, 3, 12, 91, 8, 26, 123, 54, 247, 6, 13535, 38, 76, 769, 7, 1923, 21, 10, 912, 44, 294, 9, 1286, 136, 354, 875, 481, 1, 440, 154, 2, 12, 474, 12, 1514, 8, 26, 1541, 108, 14946, 3, 107, 37, 3, 93, 115, 807, 112, 52, 62, 998, 270, 51, 53, 650, 3, 21, 12, 8, 241, 44, 7, 110, 14, 75, 8, 241, 36, 225, 32, 57, 438, 4, 467, 482, 7, 151, 18, 260, 337, 119, 3, 501, 3, 4, 980, 2, 10839, 19, 323, 3, 0, 19, 2811, 2], 0), ([12, 122, 13, 0, 154, 2, 1412, 8086, 9, 485, 35, 62, 512, 515, 30, 1, 718, 616, 4, 11, 1, 594, 417, 59, 1, 0, 1474, 7369, 0, 35, 12, 4077, 67, 177, 66, 2, 12, 65, 380, 13, 20, 7, 9178, 0, 450, 3, 4, 85, 41, 362, 1412, 8086, 8, 15, 83, 106, 2, 31, 445, 6, 838, 9, 60, 216, 2, 10, 311, 5, 180, 2686, 7, 1408, 1, 3509, 4278, 2, 31, 465, 9, 92, 570, 3, 4, 9, 407, 28, 146, 25, 8, 241, 825, 163, 2, 44, 1779, 1, 9735, 0, 41, 52, 5, 467, 4, 705, 1530, 11, 31, 424, 14, 18276, 3124, 2478, 4, 686, 215, 2022, 29, 2138, 49, 31, 4368, 125, 2, 13, 9, 5, 386, 838, 7, 111, 5337, 105, 121, 2], 1), ([169, 3, 12, 8, 148, 873, 4, 873, 13, 771, 4, 45, 8, 15, 5, 172, 6, 10, 14, 12, 3239, 135, 21, 12, 87, 349, 7, 104, 10, 341, 21, 2112, 2, 2, 2, 97, 6, 37, 3, 1455, 817, 37, 6, 1, 184, 93, 86, 13, 20, 16, 102, 2, 2, 2, 93, 10, 159, 8, 26, 127, 235, 6, 3151, 4, 12, 990, 18, 1, 94, 85, 133, 614, 14, 10, 16, 370, 3, 12, 384, 3, 54, 124, 25, 519, 5, 157, 125, 70, 53, 59, 87, 85, 3706, 67, 4, 72, 14, 1143, 87, 118, 129, 174, 1, 157, 860, 49, 0, 4, 0, 2, 2, 2, 99, 37, 2701, 67, 4, 3976, 849, 192, 2, 350, 3, 12, 8, 148, 28, 439, 1118, 0, 46, 0, 12, 122, 98, 203, 21, 0, 4, 7899, 2497, 124, 82, 3248, 11, 13, 20, 19, 254, 2, 2, 2, 368, 3, 19, 37, 6, 3824, 14, 30, 614, 14, 1, 20, 9, 1140, 4, 2065, 72, 1, 860, 3, 344, 1143, 30, 108, 1908, 108, 72, 10, 95, 1143, 110, 1143, 123, 146, 49, 202, 46, 25, 91, 8, 26, 123, 235, 49, 96, 36, 37, 4, 1143, 122, 13, 370, 1648, 106, 2, 357, 131, 343, 4, 72, 162, 1, 5904, 2, 2, 2, 45, 9, 5, 172, 6, 10, 25, 101, 135, 59, 10, 226, 7, 13, 3119, 3, 12, 124, 28, 135, 0, 6, 54, 12, 32, 7, 135, 95, 99, 5, 60, 2064, 3119, 21, 19, 1, 20, 12, 56, 68, 135, 14, 10, 101, 32, 84, 5, 126, 233, 3, 12, 384, 5, 79, 132, 229, 2, 21, 3804, 12, 8, 148, 47, 55, 397, 742, 48, 653, 2, 2, 2, 2, 64, 283, 1423, 2, 2, 2, 169, 3, 12, 122, 3405, 9576, 4, 12, 426, 19, 10, 21, 107, 317, 13, 20, 177, 397, 18, 5, 126, 1656, 101, 72, 14, 13, 9, 28, 93, 294, 9, 1316, 7, 426, 2, 18, 37, 90, 1152, 19, 0, 4, 202, 3, 44, 37, 1, 83, 2688, 41, 30, 261, 19, 5, 573, 44, 13, 150, 487, 1, 83, 1857, 95, 1143, 30, 8519, 1, 1953, 2, 2, 2, 2, 2074, 1, 358, 740, 7, 1, 393, 4, 14, 9, 28, 171, 7, 369, 21, 573, 42, 1, 1964, 3, 0, 4, 47, 10952, 19, 1, 2152, 2, 2, 2, 2, 1, 303, 3405, 9576, 9, 1316, 7, 33, 49, 122, 4, 1656, 3, 33, 1363, 4, 37, 2, 588, 12, 123, 14, 115, 6, 25, 87, 110, 14, 12, 8, 148, 939, 3, 21, 13, 9, 47, 62, 222, 6, 611, 2, 169, 12, 238, 277, 358, 49, 146, 4, 4621, 28, 614, 13, 9, 5, 332, 86, 20, 95, 63, 50, 12, 8, 148, 11, 3405, 9576, 19, 3776, 3, 3546, 161, 12, 140, 91, 8, 26, 123, 235, 8420, 0, 46, 0, 64, 513, 93, 115, 11765, 12, 335, 46, 93, 79, 12, 1440, 98, 4, 1713, 7, 73, 215, 2, 2, 2, 44, 94, 6, 25, 37, 51, 45, 2, 68, 85, 41, 76, 71, 556, 7, 98, 4, 1, 2236, 123, 1, 860, 510, 37, 13, 2, 4, 19, 1, 137, 12, 47, 3239, 135, 19, 37, 6, 3824, 0, 4, 0, 450, 4, 245, 3, 13, 117, 339, 76, 4, 87, 33, 1, 821, 6, 37, 66, 3, 64, 513, 93, 38, 1446, 73, 466, 21, 577, 11, 1, 699, 349, 7, 33, 132, 3, 834, 4, 122, 249, 83, 3, 110, 57, 63, 19, 1, 656, 14, 91, 8, 26, 44, 25, 3, 95, 36, 1, 137, 2, 2, 2, 99, 28, 49, 93, 115, 301, 46, 1984, 1143, 101, 82, 4, 93, 845, 1143, 101, 82, 7, 1, 408, 3, 99, 49, 0, 131, 1336, 7, 1, 11539, 4, 6110, 131, 1356, 3, 131, 666, 4, 343, 2, 2, 2, 95, 50, 1143, 1840, 7, 90, 14, 3, 25, 87, 33, 573, 5, 125, 63, 107, 325, 35, 35, 35, 35, 2468, 4, 122, 7, 3824, 37, 35, 35, 35, 35, 2693, 0, 3, 0, 3, 16600, 3, 309, 839, 3, 8468, 1191, 3106, 4, 1, 401, 41, 104, 5, 657, 11, 13, 182, 35, 35, 35, 35], 0), ([97, 3, 281, 77, 713, 1, 199, 14, 3, 11, 2647, 6, 99, 417, 24, 0, 3, 11, 0, 23, 3, 45, 9, 68, 34, 3492, 70, 2, 17, 7, 724, 0, 1093, 46, 28, 36, 1, 137, 3, 12, 8, 148, 28, 43, 254, 240, 3, 11, 34, 6, 1, 60, 239, 145, 3, 31, 11318, 9, 114, 3277, 27, 1, 2539, 368, 7, 1, 117, 0, 2, 27, 1, 274, 986, 3, 45, 9, 5, 3044, 7, 0, 2, 10, 2364, 14, 1, 22, 9, 0, 0, 0, 0, 35, 0, 24, 0, 164, 2600, 6, 0, 35, 0, 2, 1, 89, 7782, 0, 8358, 1390, 27, 0, 4, 1281, 7984, 5240, 7, 2806, 31, 2953, 299, 4, 7, 1439, 31, 10159, 16424, 2686, 6, 31, 0, 718, 0, 844, 2, 6, 268, 0, 130, 198, 273, 302, 1, 0, 4, 10, 130, 1439, 55, 24, 246, 7877, 23, 5880, 1866, 7, 1, 15282, 6, 16690, 4, 45, 30, 55, 211, 395, 76, 64, 678, 30, 9877, 0, 21, 38, 30, 28, 71, 164, 2, 30, 37, 138, 420, 1257, 194, 7, 104, 0, 5, 0, 20, 53, 13, 116, 307, 3, 12, 32, 7, 978, 14, 0, 130, 761, 18, 1, 531, 2634, 16322, 6, 3845, 2136, 4550, 1, 0, 6, 398, 8878, 1366, 2, 1299, 1435, 3, 1, 20, 16, 0, 644, 3, 18, 168, 79, 1402, 367, 18, 1167, 105, 0, 0, 1, 1246, 515, 76, 1, 292, 67, 302, 1, 97, 1269, 232, 46, 43, 3, 4, 302, 1, 239, 363, 552, 46, 43, 2, 840, 3, 1, 239, 2371, 16, 367, 428, 35, 35, 35, 367, 230, 4, 703, 2, 10, 227, 320, 14, 10, 16, 5, 341, 789, 3, 6, 346, 81, 40, 552, 3, 0, 5320, 7, 55, 1287, 232, 2, 156, 3, 49, 1, 5753, 24, 5, 0, 7106, 27, 1, 1966, 6, 694, 6534, 11, 73, 3492, 23, 36, 97, 10, 472, 60, 2369, 0, 18, 1, 0, 51, 6, 1, 0, 4, 10672, 6, 0, 11, 73, 3492, 17, 5, 778, 7, 8135, 54, 176, 15575, 65, 33, 94, 4549, 7, 217, 67, 18, 2, 21, 60, 921, 13, 833, 682, 51, 7, 33, 47, 5, 7337, 3, 40, 0, 7, 4145, 1, 157, 789, 69, 16, 68, 1404, 1513, 904, 1, 137, 4, 69, 16, 49, 4627, 4, 1, 14991, 1248, 6, 1752, 2, 2232, 35, 12, 1131, 468, 7, 44, 14, 20, 2, 414, 3, 10, 472, 43, 2369, 59, 12, 559, 49, 55, 6, 99, 1737, 126, 0, 367, 69, 76, 840, 45, 4, 69, 12, 517, 0, 147, 17, 1, 3486, 6, 5, 0, 3168, 1113, 24, 310, 6, 769, 15760, 7, 651, 10, 139, 23, 3, 1, 0, 6, 272, 5, 642, 15120, 6, 0, 328, 8669, 15800, 248, 11, 5, 8752, 3, 1, 223, 0, 24, 1, 15074, 1507, 1, 8182, 23, 3, 5, 0, 1663, 0, 912, 42, 5, 1431, 2038, 2, 4, 45, 9, 92, 5, 1133, 1690, 1507, 1, 11171, 6, 0, 398, 4615, 3, 1, 4124, 3148, 6, 208, 46, 309, 504, 527, 1742, 11, 8882, 4, 12308, 24, 5, 4451, 6, 1, 3148, 19, 249, 6, 138, 60, 556, 15072, 2877, 7, 0, 99, 16219, 53, 23, 2, 238, 12, 1, 3701, 397, 41, 124, 28, 1404, 362, 14, 22, 53, 130, 13, 2435, 384, 14, 12, 8, 148, 358, 53, 383, 19719, 224, 1299, 6065, 0, 0, 76, 3, 11, 199, 3, 0, 0, 19, 77, 53, 383, 2, 2, 2, 101, 62, 2032, 2686, 27, 13, 20, 3358, 4515, 1, 60, 3312, 6, 1, 22, 387, 367, 69, 65, 33, 1, 5506, 8489, 7, 32, 1, 208, 7, 11206, 3, 7, 0, 0, 16219, 4, 28, 7, 868, 11156, 0, 15218, 4, 3931, 53, 249, 34, 6, 183, 52, 1, 208, 7, 32, 286, 928, 2686, 4, 28, 7, 33, 5, 4963, 6, 1, 3558, 6, 0, 0, 0, 3558, 413, 3, 75, 90, 32, 83, 0, 14, 65, 1677, 249, 34, 6, 183, 7, 33, 4549, 7, 260, 844, 142, 0, 0, 2522, 7917, 2, 11, 341, 3, 116, 303, 7, 10493, 0, 1, 103, 14, 11, 14, 22, 0, 24, 0, 0, 0, 23, 640, 67, 39, 742, 67, 31, 298, 142, 16367, 7, 749, 11, 31, 176, 433, 0, 329, 4, 347, 31, 51, 18, 1, 11085, 6, 31, 3007, 2, 2, 2, 4, 43, 3, 0, 1102, 0, 3, 17, 1, 718, 135, 35], 0), ([777, 460, 3, 75, 123, 143, 75, 111, 22, 44, 1, 2910, 4029, 24, 47, 169, 36, 1, 986, 3, 134, 35, 23, 2, 26, 4, 5, 37, 136, 1, 273, 24, 18, 5, 172, 58, 26, 81, 5, 23, 2, 21, 2, 2, 2, 1514, 8, 26, 45, 33, 5, 70, 7, 151, 18, 10, 53, 1188, 8, 6125, 3, 12, 56, 825, 25, 135, 80, 13, 9, 47, 522, 0, 8, 1330, 35, 41, 748, 5, 70, 53, 53, 35, 78, 3, 50, 13, 76, 483, 1, 1330, 16277, 3, 12, 567, 8, 26, 32, 5, 454, 2, 21, 240, 138, 460, 30, 0, 42, 1, 2910, 134, 3, 38, 348, 7, 32, 5, 233, 6, 70, 0, 3, 25, 123, 3, 7, 390, 131, 343, 3087, 2, 197, 3, 37, 38, 56, 10733, 67, 9, 93, 13, 939, 828, 2141, 40, 14993, 9238, 4, 3, 59, 29, 8265, 3, 1099, 10, 7, 2874, 27, 1330, 366, 4, 640, 67, 846, 5, 172, 6, 2042, 2, 4, 59, 25, 72, 1, 0, 2042, 29, 266, 107, 3, 25, 8, 236, 33, 5922, 2, 34, 355, 3, 19, 1, 26, 4, 5, 3, 21, 45, 8, 15, 5, 126, 108, 79, 621, 19, 25, 2329, 450, 3, 43, 8063, 18, 8924, 2, 0, 80, 414, 3, 10, 8, 15, 14, 12368, 2], 0), ([89, 119, 3, 89, 20, 2, 50, 25, 30, 529, 6, 1361, 72, 13, 20, 97, 2, 1, 2993, 3880, 210, 32, 1211, 21, 267, 324, 9, 1, 173, 2, 1, 465, 9, 303, 7, 125, 4, 1366, 30, 153, 14, 256, 41, 52, 2123, 52, 452, 2], 1), ([1, 419, 4, 1, 8342, 212, 8, 144, 37, 84, 11, 47, 1, 2195, 0, 3, 1, 271, 14, 776, 16, 4212, 2, 498, 1495, 8, 15, 3974, 16, 0, 1, 12121, 3, 313, 13509, 140, 74, 5, 172, 6, 57, 87, 2123, 67, 42, 31, 530, 11012, 40, 321, 2585, 11, 1223, 3, 24, 28, 7, 713, 31, 353, 1338, 1612, 329, 4, 1, 4169, 1105, 23, 4, 11173, 498, 5612, 16, 1860, 55, 6, 1, 94, 3834, 4, 7003, 1273, 19, 215, 2856, 6, 14, 815, 2, 28, 163, 46, 240, 52, 34, 694, 434, 6, 22, 11572, 3, 7300, 46, 19140, 11938, 8, 15, 1034, 617, 46, 1, 58, 13564, 1360, 6, 31, 3330, 186, 44, 776, 3, 1, 182, 8, 15, 94, 1134, 24, 50, 28, 8054, 1, 97, 23, 0, 399, 3, 4, 1, 94, 12597, 1934, 2, 92, 1, 94, 3250, 36, 1, 66, 3, 21, 177, 5611, 4, 177, 233, 6, 1, 617, 510, 99, 2781, 4, 2811, 9, 67, 45, 27, 1, 278, 2, 4, 93, 65, 10, 28, 33, 586, 206, 1, 4583, 42, 1, 216, 616, 3, 1903, 39, 1, 538, 3, 89, 3139, 1996, 3, 7, 714, 63, 58, 16007, 7, 1, 5517, 473, 45, 53, 1, 3200, 490, 6, 34, 6, 1, 182, 8, 15, 821, 3429, 32, 211, 240, 2377, 3, 21, 64, 34, 56, 129, 198, 248, 1, 134, 8, 15, 10568, 8104, 3, 6, 69, 13, 9, 243, 1, 94, 876, 2, 50, 25, 91, 8, 26, 110, 43, 3, 156, 3, 392, 2227, 9, 596, 2, 12, 391, 8, 26, 33, 34, 233, 758, 59, 3, 44, 83, 0, 163, 10, 171, 152, 2671, 3, 13, 712, 27, 55, 2360, 318, 1599, 807, 312, 2, 17, 10, 87, 368, 345, 3, 4, 1, 345, 107, 14, 2, 2, 2], 1), ([143, 65, 2971, 13083, 1677, 314, 7, 308, 5, 337, 0, 41, 9, 1126, 13232, 39, 6042, 7408, 2094, 12174, 3, 259, 39, 0, 0, 11, 8, 19439, 1838, 8, 53, 1, 173, 289, 143, 593, 5866, 2204, 314, 7, 33, 188, 17, 166, 3692, 41, 744, 19, 6042, 7408, 1806, 0, 11, 1, 3032, 1675, 3, 121, 2313, 466, 2, 383, 38, 203, 452, 10, 16, 5, 57, 103, 7, 127, 14, 38, 74, 8, 1999, 8, 17, 0, 394, 439, 585, 3, 1, 629, 8, 17264, 8, 223, 38, 76, 587, 19, 3, 65, 7763, 73, 1405, 17, 160, 41, 101, 308, 105, 223, 2, 21, 1, 454, 16, 14, 603, 44, 1357, 4518, 3, 1, 1092, 0, 17802, 11, 8, 19439, 1838, 8, 3, 124, 168, 7, 7763, 13083, 8, 15, 649, 2, 28, 68, 9, 13083, 332, 3278, 11, 1, 11615, 223, 6, 4518, 3, 21, 45, 8, 15, 146, 12257, 4520, 24, 4, 210, 12, 135, 3, 1092, 23, 49, 1, 22, 8, 15, 1879, 11, 1, 97, 273, 2, 8, 19439, 1838, 8, 9, 40, 18650, 10546, 22, 2, 754, 1, 115, 1784, 145, 11, 1, 22, 9, 36, 1, 470, 1, 2769, 69, 6492, 4518, 8, 15, 4851, 18, 1813, 12177, 8, 15, 12174, 36, 1, 5544, 2, 267, 14, 3299, 11, 14, 2621, 2769, 9, 1829, 315, 11, 1, 438, 1, 14442, 1443, 207, 1357, 4, 2094, 3, 1357, 8, 15, 8215, 620, 18, 14500, 1, 983, 4, 31, 86, 547, 18, 12174, 2, 50, 175, 0, 452, 5139, 7, 878, 1, 22, 18, 5, 2769, 3, 143, 28, 390, 10, 476, 282, 232, 53, 12, 110, 10, 65, 32, 84, 58, 1148, 2, 11, 8, 19439, 1838, 8, 3, 10, 311, 186, 4983, 163, 1, 1879, 5905, 314, 4, 2966, 51, 6, 1, 8, 1831, 8, 182, 6, 491, 34, 2, 14, 8, 15, 1, 141, 121, 29, 8, 15, 2799, 39, 8, 4, 8, 1183, 88, 8, 2094, 36, 1, 5544, 2, 4, 1408, 93, 17190, 2280, 43, 79, 66, 2312, 152, 4, 2496, 207, 2094, 1086, 4, 1357, 4546, 36, 48, 53, 11, 1618, 7, 1, 0, 3, 29, 92, 2280, 5, 89, 761, 6, 66, 4287, 27, 0, 17816, 4, 31, 0, 1072, 81, 703, 1, 70, 342, 2, 67, 360, 1, 3580, 6, 491, 117, 3, 1, 70, 10748, 342, 18, 4518, 272, 908, 8723, 3224, 18, 2094, 4, 100, 7993, 31, 18037, 36, 31, 629, 19168, 2567, 2, 36, 1, 0, 6, 491, 117, 3, 29, 2202, 14, 2094, 52, 520, 139, 4, 1910, 1037, 7, 12174, 2, 10, 8, 15, 1507, 58, 747, 36, 13, 222, 14, 34, 6, 1, 22, 8, 15, 1382, 6481, 9, 14, 12174, 9, 118, 27, 278, 481, 94, 6, 1, 350, 491, 2, 45, 30, 64, 13351, 207, 4518, 4, 12174, 302, 13, 66, 4, 75, 8, 185, 309, 18, 1, 246, 12832, 12281, 207, 1, 117, 0, 2, 17, 10, 497, 51, 24, 4, 2094, 8, 2543, 8, 13, 315, 7, 1357, 23, 3, 1, 289, 143, 61, 309, 16, 28, 68, 95, 29, 4020, 19, 2231, 1775, 21, 61, 92, 452, 4632, 42, 1357, 8, 15, 421, 17, 78, 1607, 8536, 42, 14500, 1, 983, 41, 7086, 14, 29, 65, 72, 7, 10, 14, 61, 1013, 67, 11, 1, 366, 8, 15, 329, 6, 10908, 2, 2094, 266, 152, 7, 1357, 95, 61, 2499, 61, 102, 5, 202, 1327, 18, 0, 497, 51, 14, 29, 8, 15, 84, 3374, 48, 4, 61, 8, 15, 156, 1715, 6, 96, 2, 34, 6, 1, 663, 0, 9877, 39, 58, 81, 34, 113, 11, 19439, 1838, 9, 14, 25, 56, 118, 0, 40, 9697, 527, 2, 21, 295, 1506, 43, 758, 59, 1357, 790, 51, 10, 56, 33, 229, 50, 10, 8, 15, 40, 8, 925, 298, 8, 35, 25, 65, 32, 200, 14, 12174, 65, 32, 587, 49, 1357, 8, 15, 8, 5219, 8, 17, 40, 9697, 527, 2173, 4, 0, 96, 9102, 2, 21, 6, 268, 1357, 748, 7, 104, 1, 9213, 43, 14, 12174, 391, 8, 26, 508, 96, 107, 4769, 31, 1443, 18, 2094, 24, 50, 38, 8, 185, 43, 1605, 36, 385, 969, 3, 143, 90, 1357, 4, 2094, 916, 36, 31, 1621, 121, 12174, 56, 43, 723, 174, 98, 53, 23, 2, 12, 71, 193, 5, 2186, 51, 6, 0, 24, 259, 39, 1988, 19874, 23, 3, 1, 8, 3437, 8, 6, 1, 4535, 2, 12174, 9, 43, 961, 14, 29, 52, 7, 3514, 13, 4645, 0, 585, 41, 1869, 51, 1, 3079, 27, 5, 5733, 2, 436, 45, 9, 1, 513, 6, 0, 1, 4087, 7, 10893, 1, 2908, 6235, 334, 302, 1, 3666, 4, 6, 268, 0, 9, 57, 36, 14, 108, 35, 1, 68, 71, 78, 229, 141, 11, 1, 440, 22, 9, 1, 9697, 527, 3666, 2, 1, 765, 16, 186, 57, 17, 10, 2125, 1, 4376, 231, 6, 5, 3079, 763, 86, 2, 17, 1, 2908, 6235, 151, 139, 3, 1, 5577, 6, 1, 1205, 9, 589, 11, 331, 2180, 59, 12174, 1596, 1, 1253, 9697, 527, 2924, 2, 1, 1362, 6, 1, 22, 9, 17, 1572, 51, 17, 1, 364, 6, 1, 22, 2, 143, 130, 10, 198, 43, 211, 19, 34, 6, 12174, 8, 15, 13440, 7, 6620, 4518, 53, 45, 8, 15, 14, 2636, 3, 100, 1, 15505, 9, 1039, 987, 3, 100, 29, 265, 11, 4, 6547, 14, 29, 8, 15, 5, 433, 3, 1357, 744, 2333, 4, 428, 107, 29, 17404, 3, 1, 15505, 7549, 96, 2, 59, 1357, 428, 899, 67, 18, 2094, 36, 1, 329, 3, 75, 591, 93, 2094, 193, 48, 910, 27, 1, 2140, 2, 124, 61, 826, 2041, 10, 42, 12174, 107, 1, 3079, 59, 29, 437, 51, 7, 2604, 53, 10, 8, 15, 118, 1829, 2, 63, 411, 3, 2094, 1135, 461, 1, 484, 6042, 7408, 51, 6, 1, 1289, 2, 163, 3, 48, 15157, 4, 3003, 7, 12174, 56, 33, 1829, 39, 48, 8670, 9218, 36, 1, 910, 6, 1357, 4, 14500, 8, 15, 8536, 2, 21, 107, 171, 152, 7, 1357, 95, 61, 3584, 12174, 3, 61, 5537, 497, 27, 96, 59, 29, 9, 94, 4387, 2, 47, 17, 45, 9, 8, 3639, 4850, 8, 3, 25, 32, 8, 3639, 6042, 7408, 8, 2, 11, 22, 0, 0, 3044, 7, 1, 321, 445, 39, 3206, 4, 3621, 3, 1, 8110, 8973, 8, 19439, 39, 1838, 8, 17, 34, 6, 1, 94, 1598, 4, 1490, 6, 22, 1675, 2, 12, 7734, 7, 11206, 2, 11, 622, 7, 32, 1522, 25, 348, 109, 14, 32, 89, 1155, 4, 11, 622, 7, 33, 1490, 25, 348, 5, 70, 14, 8, 15, 4231, 2, 19439, 1838, 52, 1118, 2, 10, 8, 15, 40, 4088, 872, 20, 14, 826, 52, 258, 387, 11, 1, 12714, 6, 518, 329, 11610, 2, 288, 179, 3, 1, 9771, 4949, 52, 0, 11, 0, 1, 1308, 6, 17332, 2], 0), ([718, 22, 934, 1691, 7, 10340, 18, 73, 2476, 1208, 7, 16449, 1, 7227, 4, 912, 6, 1831, 3, 2576, 5823, 125, 2, 13, 16, 7455, 1747, 18, 1, 766, 405, 11, 3917, 6, 1394, 8, 0, 6248, 0, 24, 66, 51, 23, 3, 5, 495, 113, 2063, 6, 6, 5, 478, 8932, 4677, 8, 15, 4320, 88, 6936, 107, 272, 84, 3716, 42, 31, 298, 2, 17, 9, 1, 9023, 6, 718, 1052, 3, 115, 145, 76, 326, 27, 157, 1964, 4, 11, 937, 1347, 3, 742, 5, 451, 0, 244, 7, 1, 70, 3, 255, 1394, 8, 0, 6248, 0, 92, 3317, 40, 4569, 169, 1162, 7, 327, 375, 170, 4, 55, 1373, 1447, 852, 24, 94, 3611, 5, 7944, 2643, 15744, 23, 2, 628, 952, 27, 1, 6922, 6, 14, 4480, 20, 265, 166, 1229, 718, 365, 3, 7782, 12092, 8, 15, 2325, 837, 6885, 3, 0, 0, 0, 24, 335, 62, 3898, 23, 2, 165, 3, 7, 4159, 13, 22, 5, 837, 6885, 130, 10, 5, 10647, 95, 10, 9, 43, 79, 58, 81, 14, 2, 17, 18, 1, 930, 718, 766, 3, 10, 9, 40, 18632, 113, 2063, 6, 12286, 85, 769, 73, 10830, 7, 82, 1479, 11, 5, 844, 14, 52, 682, 99, 152, 27, 98, 2, 11, 5, 1422, 5348, 4907, 4556, 3, 5, 3912, 3, 0, 196, 253, 4343, 36, 48, 8134, 3, 0, 7, 40, 1493, 6, 1, 1068, 14, 9, 5, 645, 0, 7, 1, 0, 4628, 4, 0, 2, 3152, 19429, 357, 1, 964, 6, 4556, 8, 15, 8134, 7, 7973, 4, 2492, 139, 73, 0, 0, 0, 6, 4850, 2, 5610, 5194, 3, 4556, 497, 48, 2277, 5455, 27, 4, 139, 36, 87, 50, 3540, 461, 10370, 3, 33, 10, 1, 13388, 6, 1, 2152, 0, 46, 1, 11682, 2411, 6, 5, 433, 8, 15, 941, 2, 59, 48, 1303, 1732, 48, 88, 1, 1068, 7, 1505, 14, 61, 3514, 5, 0, 2713, 7, 347, 48, 18, 1, 170, 3812, 3, 4556, 3584, 61, 210, 1658, 48, 298, 2, 36, 1, 12985, 1068, 4556, 7556, 1, 0, 61, 496, 19, 48, 2713, 24, 9028, 923, 23, 17, 50, 61, 76, 36, 5, 0, 5454, 2, 29, 150, 33, 2846, 161, 178, 4, 2112, 0, 3, 18, 6908, 1339, 4, 0, 1940, 2, 59, 1, 5454, 3414, 136, 40, 0, 3, 3694, 284, 196, 134, 3, 4556, 9, 203, 2350, 4, 4112, 2, 38, 546, 1, 1068, 4, 32, 6193, 36, 5, 731, 0, 3, 121, 4556, 2467, 48, 11980, 2713, 2, 59, 61, 676, 51, 14, 29, 52, 47, 1910, 51, 6, 1186, 3, 4556, 2852, 496, 168, 7, 90, 18, 767, 3, 21, 52, 5, 657, 6, 540, 4, 6430, 96, 27, 2, 264, 61, 9, 670, 247, 1849, 48, 0, 3, 4556, 156, 676, 810, 11, 5, 2571, 6, 4245, 4, 11323, 5, 16312, 287, 6, 641, 2, 767, 2202, 921, 4, 461, 40, 499, 4677, 2, 4556, 1544, 767, 174, 5, 10806, 273, 7, 426, 4, 63, 3598, 19, 96, 59, 31, 9398, 1842, 279, 67, 34, 271, 36, 1, 1068, 1516, 143, 767, 1029, 31, 18240, 2, 302, 34, 6, 73, 6193, 2087, 4556, 9167, 767, 6, 48, 2277, 0, 4, 2786, 48, 1208, 7, 335, 3898, 2, 315, 3, 59, 40, 0, 17516, 5644, 311, 136, 5, 1104, 4556, 52, 84, 798, 27, 3, 5, 5414, 4556, 1802, 767, 8, 15, 347, 11, 3045, 1182, 27, 1, 134, 2, 42, 133, 27, 11, 0, 0, 0, 461, 40, 3253, 1501, 837, 471, 15464, 88, 55, 6, 1, 94, 8546, 2175, 145, 14, 32, 84, 589, 27, 1, 278, 11, 1129, 161, 2, 1, 919, 9108, 788, 42, 1585, 3, 94, 3611, 6847, 1873, 3, 121, 4556, 8, 15, 0, 617, 265, 88, 389, 308, 769, 5, 1821, 6, 15332, 2, 45, 9, 5, 19087, 3, 0, 3, 0, 901, 3003, 207, 1, 117, 2901, 14, 13830, 11, 5, 246, 681, 3340, 7, 2209, 39, 8491, 3, 21, 10, 500, 95, 6, 1, 4138, 901, 3637, 14, 3507, 1345, 207, 1, 117, 419, 2, 14, 116, 307, 3, 54, 34, 2810, 248, 42, 13, 20, 213, 8, 26, 43, 79, 1, 4712, 7, 353, 1585, 3323, 3, 264, 153, 788, 30, 407, 45, 3, 21, 1, 15096, 611, 5, 6, 5, 696, 271, 564, 24, 11, 13, 418, 1422, 23, 121, 125, 1183, 1, 10948, 42, 4819, 0, 7, 5, 0, 3, 13430, 0, 121, 396, 3, 1449, 4, 0, 301, 14452, 1, 466, 6, 441, 109, 2, 1018, 370, 2888, 3, 13, 9, 5, 1962, 751, 9274, 121, 1, 85, 169, 44, 1, 2576, 134, 4, 253, 27, 1, 929, 3, 121, 5, 3042, 11, 1, 406, 46, 14940, 912, 44, 5, 6656, 0, 4, 121, 1, 1068, 9, 5, 273, 7, 33, 8287, 2, 10, 8, 15, 1585, 18, 1, 13437, 139, 2], 1), ([1, 13293, 9, 71, 186, 1255, 3, 4, 9, 1425, 237, 108, 486, 27, 804, 2, 1, 716, 697, 8, 26, 17, 876, 17, 1, 656, 11, 1, 2483, 275, 3, 21, 38, 1153, 8, 26, 86, 36, 37, 2, 1, 838, 9, 71, 1313, 3, 1, 128, 711, 116, 1, 3607, 6, 1422, 11, 786, 2, 10, 560, 316, 2, 13, 9, 243, 913, 8, 15, 94, 10042, 838, 12, 110, 3, 4, 17, 166, 2181, 186, 7691, 307, 3, 41, 158, 8, 26, 122, 3782, 53, 166, 89, 434, 6, 838, 16, 779, 8, 13522, 284, 88, 10167, 8, 15, 511, 3, 17, 73, 883, 16, 43, 829, 142, 28, 619, 2, 24, 5, 57, 154, 23, 1, 120, 24, 49, 5, 5534, 4649, 4, 5, 3355, 3, 1741, 77, 6, 9493, 8, 15, 0, 23, 16, 5, 126, 4521, 3, 21, 907, 60, 78, 3, 4, 1, 234, 16, 71, 164, 3, 269, 1, 2044, 207, 1, 10461, 2, 38, 3454, 77, 6, 77, 4, 62, 599, 4, 430, 2019, 3, 218, 1017, 2, 62, 1636, 141, 16, 1, 1346, 6, 4050, 18, 1, 117, 2154, 3, 41, 76, 218, 1017, 49, 41, 16, 1, 1708, 2, 1, 597, 1935, 76, 5, 2792, 3, 94, 3611, 4513, 2135, 3, 914, 12, 11038, 42, 1, 2483, 275, 3, 4, 3491, 18546, 3, 42, 1, 0, 2, 1, 737, 109, 3, 4183, 0, 1171, 3, 76, 92, 78, 229, 2, 11, 1216, 3, 5, 71, 2303, 22, 3, 14, 9, 407, 2148, 2, 1027, 2, 3853, 12895, 4394], 1), ([12, 392, 155, 13, 20, 27, 251, 5, 180, 161, 152, 2, 10, 16, 43, 86, 3, 12, 56, 68, 392, 1, 145, 14, 47, 102, 77, 768, 1011, 2, 1, 68, 120, 2556, 12, 56, 205, 25, 24, 206, 105, 1349, 23, 9, 438, 5, 352, 20, 102, 39, 1108, 359, 41, 76, 331, 2, 24, 1666, 6312, 526, 133, 2, 2, 2, 23, 59, 1, 20, 526, 3, 5, 221, 8, 15, 628, 3, 116, 4497, 39, 1, 2412, 983, 3, 59, 11, 199, 3, 1, 134, 16, 71, 116, 4497, 39, 5, 2227, 2375, 763, 358, 2, 5, 527, 5166, 51, 6, 1265, 3, 3833, 1, 221, 41, 16, 628, 2, 10, 3414, 96, 1711, 136, 1, 408, 6, 10, 3, 4, 54, 130, 1, 2173, 90, 53, 53, 53, 3800, 1, 134, 17, 29, 744, 3, 226, 152, 11, 31, 527, 4, 3035, 248, 2, 54, 247, 6, 0, 0, 65, 90, 14, 53, 12, 65, 8, 144, 36, 225, 1563, 50, 1, 221, 16, 777, 2, 100, 3, 55, 328, 221, 9651, 1, 2412, 983, 795, 11, 1, 406, 3, 100, 3, 315, 701, 9424, 3, 12, 159, 8, 26, 82, 5, 57, 169, 36, 96, 2, 62, 2019, 4, 12, 3, 39, 100, 3, 76, 224, 15379, 2913, 7, 325, 18, 2201, 2, 100, 3, 45, 8, 15, 55, 141, 11, 40, 5769, 3, 121, 13, 257, 18, 40, 15295, 3, 2572, 5, 1433, 1084, 51, 6, 48, 0, 126, 10520, 2, 10, 412, 8, 26, 32, 857, 1088, 35, 35, 12, 56, 1053, 392, 732, 145, 2, 277, 10, 8, 15, 95, 38, 76, 47, 14, 86, 2, 1459, 11, 1, 22, 56, 8, 26, 63, 2011, 5, 7878, 3, 4, 1, 119, 9, 43, 1581, 3, 10, 167, 0, 6, 1604, 169, 44, 132, 160, 2, 37, 11, 37, 3, 13, 20, 963, 816, 7, 370, 3, 103, 58, 81, 105, 83, 4143, 101, 2, 25, 32, 7, 72, 10, 7, 263, 99, 4340, 938, 120, 3, 69, 10, 52, 650, 6, 3, 17, 237, 17, 12, 56, 377, 2], 0), ([1, 7932, 922, 5, 422, 6, 520, 6, 1, 5931, 4, 2473, 0, 21, 9, 4915, 18, 55, 57, 119, 4, 8885, 1620, 2, 138, 569, 32, 473, 19, 1, 94, 181, 763, 149, 17, 115, 0, 17, 75, 56, 2242, 3, 43, 54, 75, 8, 185, 309, 18, 9, 93, 57, 9, 1, 119, 3, 93, 1363, 30, 1, 18981, 4, 86, 460, 3, 93, 78, 3102, 9, 1, 290, 120, 524, 524, 2, 2, 2, 2, 2, 43, 1, 7932, 130, 5, 1192, 298, 361, 10, 8, 15, 1536, 2, 498, 0, 4, 11269, 2916, 203, 4147, 55, 57, 278, 15995, 4, 5240, 2, 3491, 10003, 24, 97, 66, 12, 8, 144, 114, 48, 27, 278, 23, 963, 55, 10290, 1440, 2, 1, 228, 1443, 504, 6, 1, 70, 9, 1232, 3605, 7895, 10, 192, 5, 233, 3, 21, 10, 981, 11364, 2, 276, 5, 835, 50, 25, 44, 1, 530, 2], 1), ([175, 0, 0, 193, 5, 681, 1710, 0, 19, 31, 239, 20, 779, 0, 2, 0, 9, 5, 86, 20, 3, 21, 11, 17416, 5406, 3, 0, 124, 34, 6, 1, 252, 106, 6, 37, 66, 2, 31, 1187, 6, 1, 626, 0, 0, 9, 668, 2, 110, 18, 77, 93, 337, 0, 0, 1048, 5, 410, 610, 53, 11, 1, 22, 38, 90, 2, 45, 213, 8, 26, 5, 919, 3, 10, 8, 15, 68, 5, 60, 211, 0, 18, 5, 316, 1347, 4, 115, 396, 145, 18, 0, 4, 0, 2], 0), ([12, 214, 13, 619, 6853, 4617, 27, 5, 399, 1125, 4516, 2, 4, 163, 12, 193, 62, 97, 7364, 12, 2226, 12, 8, 241, 0, 10, 18, 13, 126, 1421, 4, 10, 8, 15, 86, 1893, 36, 10, 8, 15, 1830, 35, 1, 752, 9, 7671, 570, 2, 4, 10, 1359, 5, 2183, 18, 2563, 11393, 2, 2268, 4123, 9, 11, 10, 5537, 2, 4, 79, 44, 1388, 3458, 472, 7, 187, 7, 355, 11, 177, 86, 20, 11, 31, 315, 161, 2, 13, 20, 9, 442, 2, 4123, 8, 15, 630, 4012, 2, 10, 922, 404, 44, 3, 2963, 67, 4, 281, 77, 555, 35, 35, 35, 4, 25, 8, 185, 614, 5, 172, 6, 0, 35, 4, 1, 4155, 8125, 479, 10, 9, 0, 3, 1236, 1633, 0, 35, 25, 8, 236, 33, 0, 39, 5, 555, 141, 17, 4463, 130, 5, 0, 624, 5, 0, 2539, 35, 4, 130, 5, 338, 3473, 3130, 2186, 59, 61, 265, 67, 42, 1, 1789, 35, 6705, 0, 231, 4, 26, 4, 5, 3368, 35, 35, 35, 54, 6853, 20, 336, 101, 979, 19, 58, 53, 436, 3, 4, 59, 442, 2, 4123, 8, 15, 113, 5905, 1521, 4, 4, 265, 152, 7, 6724, 4463, 17, 5, 1300, 61, 1802, 96, 143, 29, 533, 314, 246, 100, 761, 18, 31, 0, 4859, 53, 29, 523, 3, 157, 339, 91, 8, 26, 1861, 0, 2, 6223, 3, 19219, 3, 1112, 2, 50, 4463, 16, 5, 1363, 6709, 61, 0, 483, 19, 40, 5148, 208, 100, 4, 45, 35], 0), ([107, 873, 1, 97, 553, 800, 27, 804, 12, 16, 60, 6906, 49, 13, 20, 2, 21, 10, 8, 15, 71, 40, 376, 20, 3, 1, 932, 66, 25, 72, 1, 1178, 9, 49, 553, 232, 24, 1, 364, 6, 1, 20, 9, 671, 751, 23, 3, 1, 119, 9, 136, 1, 408, 6991, 1, 70, 3, 436, 431, 3, 69, 70, 53, 1, 70, 158, 8, 26, 320, 7, 151, 11, 5, 453, 3, 97, 38, 1758, 1, 1178, 24, 107, 976, 161, 35, 38, 428, 3084, 23, 3, 100, 38, 91, 8, 26, 123, 54, 7, 90, 18, 10, 24, 107, 976, 161, 53, 23, 4, 63, 187, 7, 766, 10, 24, 143, 1, 618, 124, 38, 1758, 10, 53, 23, 2, 100, 1, 1008, 3, 41, 8, 15, 119, 9, 1, 94, 136, 1, 408, 3, 496, 7, 1268, 248, 42, 13, 2798, 3, 100, 1135, 61, 158, 8, 26, 3, 100, 179, 3, 61, 130, 4, 100, 61, 158, 8, 26, 2, 100, 38, 217, 7, 1, 1216, 14, 846, 1, 1178, 87, 508, 1, 228, 398, 1352, 24, 4, 392, 3, 11, 37, 153, 161, 64, 83, 398, 32, 114, 138, 9403, 7226, 2149, 23, 4, 54, 90, 38, 90, 53, 38, 1653, 10, 4, 2335, 5, 756, 6, 2149, 7, 0, 2, 13, 9, 62, 97, 702, 27, 804, 3, 12, 8, 148, 5, 60, 3149, 397, 41, 158, 8, 26, 877, 60, 514, 3, 43, 1713, 7, 62, 1704, 13, 818, 9, 28, 276, 131, 66, 3, 91, 8, 26, 111, 13, 20, 2], 0), ([13, 22, 52, 5, 172, 6, 590, 790, 2, 10, 52, 34, 6, 1, 128, 201, 6797, 987, 6, 1, 0, 4105, 6834, 8746, 3, 5149, 14205, 3, 4, 9547, 15492, 3, 905, 949, 134, 11935, 2143, 2, 10, 8, 15, 193, 37, 1, 208, 4087, 8246, 3, 5, 2015, 18, 734, 6, 1772, 0, 3, 5, 1122, 1591, 3, 10813, 10095, 17262, 4, 3291, 2084, 3, 40, 0, 113, 3, 5, 316, 257, 3, 63, 5, 0, 0, 2, 1, 0, 375, 170, 9, 4951, 4, 3316, 2, 45, 8, 15, 63, 55, 57, 759, 2180, 1807, 0, 481, 1, 234, 2, 21, 10, 8, 15, 28, 71, 5, 757, 20, 95, 45, 9, 168, 2233, 171, 27, 11, 0, 24, 126, 2015, 23, 2, 1, 120, 2979, 190, 1, 3890, 939, 1591, 24, 1807, 259, 39, 8746, 23, 41, 1161, 31, 170, 58, 544, 81, 398, 466, 2, 10, 8, 15, 28, 0, 808, 3, 95, 6, 5, 11895, 3729, 6, 1, 120, 4, 55, 5969, 86, 752, 19, 9547, 15492, 2, 21, 10, 8, 15, 276, 5, 169, 50, 25, 44, 405, 15317, 201, 1308, 2], 1), ([436, 3, 1097, 12305, 3, 75, 123, 25, 738, 43, 283, 2, 13, 9, 131, 12671, 11007, 3, 5, 4126, 475, 7, 1, 364, 6, 183, 14, 25, 30, 435, 276, 4230, 88, 1, 1710, 6, 1403, 438, 1906, 4, 0, 24, 17, 25, 1085, 27, 131, 0, 3851, 2020, 23, 2, 2935, 3, 10, 8, 15, 132, 7, 2107, 1281, 4, 33, 200, 5, 2419, 81, 7, 1048, 4, 5314, 37, 760, 2, 18, 1101, 195, 1748, 3, 25, 90, 47, 14, 2, 1496, 6577, 18, 5, 566, 6, 0, 46, 4357, 3, 1, 22, 8, 15, 919, 11247, 183, 1849, 1, 374, 1147, 18, 249, 176, 141, 2, 10, 8, 15, 13, 2010, 1284, 6, 5, 70, 14, 210, 92, 33, 1, 22, 8, 15, 128, 7961, 2, 470, 0, 3, 1, 0, 6960, 109, 1101, 4, 1748, 557, 7, 2397, 3, 171, 43, 237, 17, 7, 2030, 624, 630, 7, 90, 43, 3, 11, 1, 12376, 6, 16551, 8, 15, 1830, 7209, 3572, 2, 21, 3, 37, 6, 13, 15104, 9, 1472, 5, 0, 19, 547, 2, 100, 58, 547, 3, 4, 58, 4, 58, 547, 2, 12, 384, 3, 45, 212, 33, 36, 225, 12463, 11, 1138, 547, 2396, 11, 1, 464, 917, 6, 13, 22, 2, 1, 22, 11, 99, 5719, 9, 5, 1832, 0, 2, 42, 1, 467, 7, 1, 765, 7, 1, 215, 3, 69, 2939, 6, 5, 694, 8151, 10599, 911, 116, 1589, 27, 5, 10225, 3, 10, 8, 15, 5, 591, 14, 1, 22, 63, 1669, 300, 27, 863, 1993, 25, 611, 10, 27, 2, 10, 8, 15, 147, 5, 816, 100, 14, 55, 551, 2471, 372, 30, 960, 133, 2, 64, 513, 3, 1097, 2, 12, 8, 148, 254, 25, 8, 144, 102, 746, 2767, 27, 13, 505, 11, 18921, 46, 863, 3035, 337, 3416, 24, 147, 17, 535, 23, 7, 611, 13, 22, 2, 1022, 3, 75, 8, 185, 28, 1011, 18, 25, 2], 0), ([5142, 18953, 8, 15, 182, 6, 219, 4091, 3, 11, 176, 866, 3, 2706, 7, 99, 0, 3, 9, 1, 3288, 19, 13, 674, 2, 2216, 1394, 2, 16278, 3, 5, 134, 41, 690, 49, 106, 3, 532, 13, 4184, 2988, 7, 1, 16757, 6, 1, 182, 14, 127, 183, 14, 0, 6, 176, 866, 6, 1, 509, 2, 1197, 0, 8, 15, 215, 912, 89, 2, 75, 111, 5, 1896, 188, 6, 109, 14, 76, 785, 6, 1, 1493, 2, 85, 36, 1, 8449, 6, 844, 9869, 7, 0, 1849, 14, 1493, 95, 6, 1, 2478, 3, 1, 231, 3, 1, 5056, 11, 14, 181, 6, 525, 2, 13, 15227, 6, 1, 564, 102, 5, 573, 51, 6, 1, 929, 125, 14, 16, 43, 1501, 2, 55, 6, 1, 716, 42, 1, 216, 365, 76, 28, 1875, 11, 1, 22, 2, 75, 91, 8, 26, 123, 724, 13, 167, 287, 3, 21, 13, 9, 28, 1737, 19, 5, 370, 674, 7, 657, 4, 7261, 54, 907, 27, 1, 1006, 2, 14, 216, 188, 1875, 1, 386, 7140, 12899, 4, 0, 15005, 3, 4, 75, 591, 49, 1, 2077, 6, 28, 3024, 593, 18224, 3, 1097, 19775, 3, 11909, 0, 2785, 73, 216, 603, 2, 138, 76, 8776, 160, 14, 101, 32, 102, 40, 485, 5468, 2, 1, 22, 3, 2085, 3, 9, 485, 2, 1, 169, 1045, 3020, 1, 8625, 6, 1, 219, 2, 17, 237, 17, 1, 1051, 6, 6445, 3713, 3, 853, 28, 587, 19, 31, 1177, 3736, 3, 1197, 2609, 4, 1854, 5819, 3, 320, 7, 170, 11, 1, 22, 2, 2167, 9190, 9, 3, 107, 37, 3, 5, 134, 8, 15, 134, 3, 41, 65, 169, 853, 6071, 50, 29, 1259, 5, 286, 8, 169, 8, 2, 1197, 2609, 9, 57, 17, 6060, 7289, 2, 1854, 5819, 3, 17, 2507, 1679, 3, 130, 5, 338, 298, 2237, 1, 253, 42, 1, 7694, 1244, 41, 1135, 676, 10947, 18, 1, 173, 247, 6, 134, 61, 9, 262, 7, 575, 2, 7140, 12899, 9, 5, 2792, 2, 61, 118, 10620, 7, 10340, 17, 677, 12856, 3, 5, 253, 18, 5, 540, 6, 1743, 41, 8, 15, 6060, 7289, 8, 15, 122, 627, 2, 1595, 2, 12899, 167, 5, 745, 1333, 17, 1, 127, 257, 41, 9, 12064, 81, 61, 1455, 51, 7, 33, 2, 0, 15005, 167, 5, 386, 298, 51, 6, 12749, 31, 1807, 1807, 2316, 2, 1, 386, 365, 6275, 5, 172, 7, 1, 1063, 14755, 16691, 3, 41, 102, 1, 1187, 7, 1, 278, 2, 1, 1239, 39, 4817, 0, 292, 1, 208, 1295, 2], 1), ([12, 123, 14, 25, 8, 144, 473, 5408, 13, 11, 22, 7999, 24, 46, 36, 225, 12, 110, 25, 32, 3, 12, 210, 47, 33, 261, 14, 67, 23, 21, 12, 110, 13, 150, 82, 128, 1215, 341, 22, 11, 177, 34, 2, 4988, 2, 12, 56, 8, 26, 827, 19, 1, 389, 22, 2, 12, 977, 14, 25, 210, 28, 825, 13, 413, 194, 95, 6, 1, 1147, 884, 6, 131, 8407, 3, 21, 825, 10, 156, 4, 1574, 10, 17, 1, 860, 2, 3328, 3, 62, 433, 2, 777, 3, 156, 12, 8, 148, 47, 262, 7, 82, 725, 404, 6, 3322, 2, 2, 2, 162, 12, 140, 384, 10, 2, 4, 133, 265, 255, 166, 0, 35, 80, 4, 12, 592, 580, 133, 255, 2, 13, 9, 550, 634, 4, 255, 36, 1, 173, 66, 12, 32, 168, 132, 7, 90, 2, 11, 199, 3, 12, 8, 236, 243, 111, 37, 6, 131, 106, 11, 255, 166, 0, 1412, 8086, 7431, 2, 12, 90, 32, 5, 172, 6, 153, 2, 0], 1), ([12, 65, 122, 7, 867, 27, 13, 22, 2, 2935, 3, 62, 1600, 52, 218, 0, 11, 5566, 2, 50, 105, 57, 3468, 101, 347, 5, 1755, 0, 6, 13, 12473, 1266, 4, 10046, 31, 5467, 11, 1992, 39, 3451, 1, 10098, 6, 344, 5, 2408, 1977, 46, 9377, 96, 5, 274, 965, 6, 1, 1977, 29, 65, 3, 206, 14598, 3, 33, 13868, 5922, 2, 2, 2, 2, 2, 3241, 1066, 1, 1234, 7, 7654, 9, 1, 2683, 7, 4760, 3, 34, 1959, 62, 8899, 1234, 6, 7654, 87, 1439, 1, 2683, 7, 14398, 2, 2, 2, 2, 50, 28, 3, 12, 87, 32, 7, 10045, 1, 327, 442, 14617, 8, 15, 3536, 11, 1, 1938, 14, 153, 41, 32, 114, 2404, 1414, 24, 19, 132, 46, 19, 411, 23, 32, 18488, 73, 835, 1631, 6, 1, 706, 6, 6358, 0, 1816, 12, 3, 5, 1526, 1614, 6, 13, 0, 120, 3, 11995, 31, 2691, 418, 11, 13644, 2, 2, 2], 1), ([0, 4169, 8, 9, 43, 2144, 1020, 11, 99, 1090, 6, 2398, 4891, 302, 1, 4597, 4, 405, 3033, 2, 5, 1199, 6, 1685, 4, 3872, 3029, 7, 798, 832, 4891, 14, 4326, 987, 1, 2568, 1199, 2, 1, 109, 6, 0, 8, 15, 308, 2125, 328, 3226, 41, 1446, 15555, 466, 21, 9597, 590, 1128, 1161, 6, 122, 3, 5306, 4, 2739, 2, 264, 1, 109, 1564, 248, 42, 153, 1161, 36, 219, 3, 38, 124, 28, 6711, 1, 3148, 6, 1, 1161, 2, 310, 38, 3844, 4, 3046, 73, 204, 0, 4, 153, 6, 1, 83, 109, 3, 206, 5538, 3, 14, 2377, 149, 1, 125, 6, 8177, 2, 1, 1382, 109, 76, 590, 4, 829, 3, 1, 2962, 76, 813, 4, 814, 152, 928, 1841, 6, 5, 0, 1030, 2, 0, 2398, 125, 16, 5, 66, 6, 18977, 0, 3, 1696, 3, 467, 3, 4, 6216, 3, 14, 101, 224, 33, 2357, 39, 155, 1, 471, 0, 4169, 4885, 2, 12, 87, 111, 10, 179, 4, 179, 2], 1), ([12, 1131, 74, 64, 323, 14, 1, 3151, 872, 2, 12, 2, 1454, 2, 24, 10363, 12, 2, 2503, 1, 175, 28, 1, 1787, 14587, 23, 16, 140, 5125, 11, 1, 950, 8, 15, 35, 12, 218, 12340, 1, 7069, 3009, 4257, 6, 1, 6393, 3235, 17, 31, 239, 4480, 8398, 11, 1, 201, 530, 3, 21, 14, 16, 163, 62, 1608, 126, 910, 4674, 683, 40, 2189, 4, 9327, 1977, 965, 6, 1, 596, 3, 5, 458, 3695, 4, 17281, 6, 0, 14, 165, 682, 51, 5, 58, 46, 346, 2303, 823, 35, 54, 526, 51, 17, 5, 1496, 3287, 781, 6, 538, 463, 2093, 514, 311, 5, 663, 487, 59, 5, 0, 6, 345, 0, 5537, 461, 7947, 7, 1005, 271, 0, 3, 0, 4, 6644, 2847, 5, 257, 11, 1, 480, 3995, 2, 19, 25, 72, 3, 13, 836, 257, 9, 1, 9634, 6, 1914, 0, 41, 16, 5, 19318, 19575, 484, 257, 11, 0, 4, 11530, 3418, 136, 2060, 85, 6, 9624, 7250, 69, 1512, 7, 73, 14374, 36, 1, 1085, 2, 1, 134, 41, 2969, 0, 415, 31, 330, 4, 558, 13, 4, 496, 31, 15681, 1182, 2, 21, 337, 4, 282, 7386, 924, 0, 9, 47, 40, 1253, 15759, 3, 46, 9, 61, 53, 3781, 36, 1, 7937, 4414, 44, 5, 3960, 207, 1, 5148, 4, 0, 786, 18, 5, 4199, 233, 6, 1, 66, 1433, 1294, 11, 19, 57, 4226, 2, 103, 7, 151, 3, 10363, 35, 1, 120, 461, 15778, 4, 58, 4962, 18, 177, 176, 974, 21, 36, 225, 10, 118, 10083, 88, 586, 3063, 3, 44, 108, 413, 1, 418, 11, 83, 2354, 7250, 106, 44, 1, 0, 201, 4, 1, 0, 2071, 2, 1, 22, 3055, 152, 4, 2496, 207, 1, 706, 11, 1005, 271, 4, 2126, 6, 0, 69, 944, 10, 246, 1142, 4, 6109, 2, 1, 1914, 0, 257, 9, 186, 5, 1481, 113, 3, 2600, 6, 1, 19220, 1730, 113, 11, 1, 58, 10886, 587, 1006, 308, 1, 0, 24, 92, 2125, 39, 0, 17968, 11, 1, 4348, 1403, 438, 23, 2, 45, 30, 5, 371, 6, 598, 325, 871, 3, 44, 1, 1475, 11, 1, 8800, 46, 1, 3992, 11, 1, 3080, 3, 14, 30, 2292, 39, 1, 1300, 6, 0, 11660, 41, 102, 5, 0, 18, 1914, 0, 4, 383, 63, 1, 1851, 314, 2, 1, 22, 226, 189, 0, 4, 332, 1847, 784, 1, 137, 3, 21, 456, 45, 8, 15, 55, 57, 938, 250, 7, 33, 74, 2, 905, 3, 1, 225, 25, 56, 135, 49, 10363, 12, 2, 2503, 9, 14, 29, 407, 1812, 67, 55, 4080, 0, 136, 1, 161, 2], 0), ([12, 437, 284, 19, 13, 20, 11, 785, 336, 3040, 2, 12, 47, 468, 7, 859, 10, 51, 2, 12, 16, 28, 1010, 79, 6, 235, 2, 107, 37, 3, 5, 5376, 3, 40, 297, 4, 5, 919, 728, 53, 28, 631, 19, 43, 79, 617, 7, 17143, 11, 34, 397, 2, 208, 53, 53, 358, 35, 35, 3040, 1193, 3, 10, 921, 847, 34, 6, 62, 2347, 35, 1, 70, 381, 4, 109, 30, 28, 415, 11, 1, 785, 8463, 67, 370, 312, 299, 2, 1, 70, 0, 36, 131, 1366, 4, 2572, 25, 342, 2, 17, 1, 886, 1789, 39, 3, 25, 1135, 977, 25, 76, 5293, 360, 1, 137, 2, 36, 219, 3, 1, 119, 191, 5, 126, 136, 1, 408, 2, 12, 90, 3, 197, 3, 263, 10, 8, 15, 229, 18, 1803, 3515, 4, 60, 3602, 6, 1, 113, 2, 853, 3, 12, 567, 8, 26, 32, 850, 1, 648, 6, 119, 4202, 2, 10, 8, 15, 276, 317, 58, 81, 288, 2, 12, 174, 535, 1011, 7000, 46, 0, 5116, 136, 146, 12, 344, 1029, 46, 2403, 49, 1, 97, 66, 46, 117, 190, 2, 12, 332, 380, 13, 20, 2, 244, 893, 7, 151, 11, 18, 131, 5407, 3, 21, 12, 8, 148, 254, 10, 87, 174, 5, 273, 27, 131, 4516, 2], 1), ([13, 801, 5, 15249, 207, 4050, 1796, 7572, 4, 5, 3992, 2, 2, 2, 7572, 12100, 14, 1, 134, 56, 28, 1077, 40, 440, 318, 11, 5, 942, 2015, 2, 78, 3, 6, 268, 29, 56, 3, 21, 87, 29, 217, 51, 14186, 53, 283, 7, 135, 18, 37, 138, 681, 85, 14, 697, 8, 26, 444, 7, 33, 45, 4163, 190, 3, 571, 1, 9978, 2283, 8086, 2, 13, 9, 5, 952, 1015, 22, 11, 14, 1, 3134, 9, 203, 11, 718, 4, 610, 3, 4, 7132, 152, 4, 2496, 5, 180, 219, 2, 383, 13, 9, 229, 95, 1518, 6, 752, 76, 415, 53, 10, 8, 15, 92, 246, 463, 4, 6097, 3, 116, 14, 34, 158, 8, 26, 72, 79, 664, 5, 420, 4105, 6, 705, 14, 10132, 4, 147, 6918, 3, 905, 45, 8, 15, 5, 244, 6, 5718, 4, 7670, 4081, 189, 79, 36, 37, 219, 2, 13, 319, 24, 27, 0, 23, 9, 92, 19136, 4, 12, 3675, 54, 227, 33, 10621, 11, 5, 22, 42, 11750, 360, 12, 214, 1, 4796, 141, 3, 12, 474, 14, 227, 33, 10, 2, 456, 13, 9, 189, 57, 4, 11, 6516, 328, 4, 478, 2, 2283, 8086, 407, 167, 1, 20, 108, 2, 1027, 51, 6, 306, 2], 1), ([1, 20, 311, 273, 11, 5, 126, 3481, 525, 121, 1263, 708, 249, 83, 2, 133, 10238, 4976, 48, 3932, 19, 1, 3122, 6, 48, 340, 3, 5, 69, 1864, 218, 32, 55, 247, 6, 1522, 3, 1, 870, 9, 47, 54, 87, 10, 33, 13, 345, 3, 4, 25, 87, 33, 758, 2, 2, 2, 10, 9, 40, 550, 78, 4606, 20, 3, 18, 5, 70, 69, 52, 5, 410, 2762, 6, 465, 4, 7463, 3, 69, 9, 1682, 114, 2, 25, 82, 686, 3, 25, 82, 1350, 3, 4, 670, 267, 11, 207, 2, 428, 25, 56, 8, 26, 347, 1471, 11, 122, 18, 10238, 24, 50, 25, 30, 5, 431, 12, 474, 24, 1, 290, 543, 23, 23, 61, 9, 40, 550, 78, 2363, 543, 3, 17, 5, 172, 6, 1, 83, 8909, 2, 362], 1), ([260, 245, 4, 351, 517, 13, 20, 60, 79, 2, 1, 775, 16, 78, 2348, 39, 1, 175, 18, 89, 372, 42, 14636, 14252, 3, 0, 7699, 4, 78, 4967, 39, 57, 372, 42, 1, 83, 188, 2, 1, 1362, 16, 2123, 78, 21, 19, 1, 285, 69, 16, 5, 237, 42, 116, 483, 57, 2, 75, 30, 140, 262, 7, 382, 54, 16, 1, 175, 262, 7, 3022, 53, 76, 38, 341, 6, 988, 46, 16, 1, 285, 664, 1, 1725, 6, 1127, 20, 1887, 53, 5, 132, 285, 65, 32, 1023, 5, 5990, 1333, 27, 1, 304, 4, 9985, 1, 0, 2, 13, 197, 150, 28, 198, 248, 1076, 14, 9, 675, 7, 0, 4, 14636, 14252, 19, 6646, 43, 78, 18, 1, 109, 35], 1), ([13, 227, 32, 84, 40, 327, 505, 2, 197, 3, 17, 115, 83, 85, 110, 43, 90, 12, 2, 10, 9, 843, 229, 675, 7, 1, 8169, 4006, 2, 50, 1, 440, 20, 212, 33, 335, 100, 10, 247, 6, 311, 248, 42, 1, 20, 4, 461, 146, 324, 2, 10, 130, 32, 40, 327, 667, 17, 237, 17, 12, 238, 1989, 4, 12, 412, 8, 26, 827, 7, 820, 10, 2, 21, 3, 288, 12, 124, 10, 16, 5, 157, 281, 192, 2, 51, 133, 11, 0, 3, 13124, 12, 101, 28, 174, 40, 610, 319, 7, 235, 780, 2, 13, 20, 16, 92, 1082, 7, 463, 612, 4, 13, 75, 87, 28, 82, 7, 111, 11, 0, 3, 13124, 2, 10, 9, 28, 1203, 2, 43, 12, 474, 75, 87, 118, 123, 93, 57, 1, 20, 165, 16, 2], 0), ([264, 13, 16, 534, 5, 1911, 365, 3, 1, 372, 4, 1, 716, 11, 13, 20, 30, 276, 317, 2, 34, 6, 3458, 8, 15, 180, 674, 603, 7, 1374, 2, 24, 29, 9, 5, 3131, 3310, 4, 1891, 4, 29, 4899, 31, 17358, 1940, 17, 78, 80, 111, 19, 1, 0, 35, 23, 92, 1210, 1412, 2954, 2, 5, 89, 393, 8, 15, 70, 4, 60, 1503, 109, 2], 1), ([13, 20, 9, 43, 3929, 35, 12, 738, 28, 7, 519, 235, 2653, 42, 13, 22, 3, 21, 140, 10, 16, 5, 202, 1417, 2, 1, 1117, 323, 6, 1, 70, 9, 230, 4, 1046, 2, 13, 101, 32, 84, 43, 79, 132, 2, 1, 109, 30, 71, 584, 3, 64, 1155, 36, 37, 2, 10, 8, 15, 5, 816, 14, 2256, 1063, 3429, 0, 0, 4, 0, 0, 159, 8, 26, 104, 1, 473, 337, 109, 105, 132, 2, 1, 175, 47, 91, 8, 26, 82, 1, 8099, 2144, 563, 36, 37, 18, 13, 434, 6, 0, 2, 4, 1, 1, 1346, 711, 36, 1, 137, 6, 1, 20, 2, 14, 8, 15, 4291, 35, 35, 35, 143, 45, 74, 7, 33, 43, 379, 4, 178, 4755, 19, 14, 831, 53, 10, 8, 15, 108, 79, 334, 1498, 18, 63, 58, 388, 103, 6, 1270, 10, 2, 436, 64, 35], 0), ([12, 32, 7, 978, 14, 12, 437, 88, 4771, 3153, 18, 486, 1397, 2, 10, 8, 15, 64, 642, 3569, 19, 77, 7, 135, 14, 1824, 7768, 8, 15, 239, 20, 24, 5228, 23, 16, 0, 86, 3, 4, 1, 4640, 19, 4771, 3153, 76, 37, 208, 21, 159, 8, 26, 0, 77, 2, 12, 16, 473, 5932, 55, 938, 2632, 7919, 19, 62, 702, 2, 2, 2, 12, 44, 1824, 7768, 3, 21, 5228, 16, 3388, 34, 11, 31, 20, 649, 2, 78, 3, 156, 75, 8, 144, 193, 0, 0, 35, 34, 58, 3388, 3, 4, 10, 8, 15, 152, 7, 5502, 35, 46, 770, 639, 55, 15693, 4, 12147, 0, 3, 21, 91, 8, 26, 770, 6864, 7, 4771, 3153, 2, 25, 8, 236, 1268, 51, 6, 1, 824, 4, 118, 151, 152, 35, 100, 1, 20, 74, 7, 151, 4, 33, 103, 58, 432, 81, 12, 16, 1010, 2, 21, 1290, 3, 12, 412, 8, 26, 281, 62, 7919, 151, 7, 462, 3, 208, 53, 166, 289, 12, 200, 12, 567, 8, 26, 455, 19, 1, 20, 9, 14, 12, 733, 1, 5714, 862, 7032, 2, 62, 228, 245, 4084, 8, 3377, 2, 1, 2535, 713, 6, 12333, 14500, 8, 400, 3414, 77, 628, 7, 1, 4042, 2, 436, 134, 3, 1033, 27, 2, 2, 2, 2, 2, 2, 37, 208, 3, 12, 8, 148, 152, 2, 536, 3, 62, 1478, 3, 41, 9, 5, 2965, 2, 2146, 0, 336, 3, 140, 2258, 1, 182, 209, 16, 17150, 239, 345, 2, 61, 3231, 7, 263, 1, 7032, 391, 10, 16256, 2, 21, 12, 8, 148, 134, 194, 7, 978, 14, 4771, 3153, 2223, 77, 7, 5761, 3, 3018, 68, 1035, 3, 18, 1, 5165, 6, 862, 7032, 450, 2, 1635, 41, 52, 5, 1586, 19, 2351, 87, 33, 499, 7, 1924, 7, 13, 20, 27, 55, 648, 2, 889, 25, 32, 5, 512, 2351, 695, 25, 56, 8, 26, 1404, 382, 1, 1499, 14957, 4, 13094, 14, 5, 336, 147, 17, 7768, 8, 15, 1101, 56, 151, 149, 2, 45, 8, 15, 168, 186, 43, 1456, 17, 1, 6216, 6, 5, 176, 819, 4, 168, 186, 43, 4491, 17, 5, 2112, 15171, 2, 78, 3, 14919, 1435, 2, 10, 8, 15, 1, 1685, 6, 116, 5, 2351, 336, 2, 827, 8, 9258, 368, 345, 3, 461, 131, 17776, 3, 131, 17023, 3, 131, 10756, 80, 4, 4771, 3153, 2597, 2362, 14, 3312, 2, 12, 122, 1, 199, 14, 1, 20, 311, 5, 2703, 70, 4, 2917, 10, 439, 1, 3521, 3975, 6, 1, 862, 7032, 8, 7001, 182, 209, 520, 239, 345, 2, 12, 91, 8, 26, 122, 10, 43, 79, 14, 12, 187, 7, 2397, 10, 3, 21, 25, 123, 54, 12, 384, 2, 12, 850, 13, 7, 33, 2348, 11, 5, 952, 938, 1380, 3, 4, 142, 55, 6, 1, 465, 9, 5, 126, 663, 3, 10, 8, 15, 165, 189, 813, 2, 25, 72, 3, 1101, 8, 15, 1724, 537, 96, 7, 31, 97, 862, 7032, 447, 59, 29, 16, 976, 161, 178, 3, 4, 59, 29, 1093, 29, 309, 1101, 31, 117, 819, 6864, 2, 1101, 1582, 8, 26, 1029, 5, 447, 11, 5277, 161, 2, 36, 1, 470, 6, 249, 819, 29, 52, 5, 10651, 271, 121, 29, 4, 31, 351, 82, 300, 7, 861, 51, 41, 226, 7, 151, 7, 69, 1588, 18, 96, 2, 29, 167, 1263, 881, 19, 1, 15902, 1588, 4, 2022, 1810, 10148, 29, 5325, 98, 18, 6864, 19, 1, 1588, 18, 1, 0, 24, 735, 442, 2, 12376, 23, 4, 1, 1851, 17127, 2, 10, 8, 15, 5, 60, 57, 141, 3, 4, 10, 500, 43, 78, 95, 12, 165, 123, 6, 85, 41, 90, 1, 4162, 10651, 271, 2, 12, 92, 212, 978, 14, 12, 56, 1924, 7, 59, 1101, 266, 7, 2604, 18, 11924, 4, 48, 797, 2, 1, 862, 7032, 30, 394, 5, 1234, 447, 3, 21, 310, 6, 155, 10, 426, 27, 251, 1101, 1091, 7, 1925, 10, 2, 34, 6, 1, 94, 1692, 184, 11, 125, 9, 18085, 5, 447, 4, 100, 116, 11, 937, 4, 262, 7, 793, 2277, 1, 898, 2, 84, 45, 2, 10, 8, 15, 5, 60, 2932, 4, 684, 831, 2, 0, 3, 1101, 3660, 1, 2313, 3484, 59, 5, 221, 279, 67, 36, 1, 3665, 4, 5307, 155, 1, 447, 2, 1101, 1174, 3598, 31, 4256, 4, 526, 13192, 44, 5, 0, 43, 17, 28, 7, 825, 1, 3761, 2, 11924, 9, 3248, 3, 4, 48, 797, 91, 8, 26, 123, 54, 7, 110, 2, 1112, 3, 2351, 450, 56, 33, 915, 3, 12, 91, 8, 26, 6711, 10, 2, 21, 10, 8, 15, 157, 2, 156, 50, 25, 8, 185, 1010, 1, 2765, 3, 4855, 493, 14, 1, 14914, 1105, 30, 587, 19, 100, 25, 101, 33, 658, 2, 38, 90, 32, 73, 395, 162, 3, 44, 59, 1101, 523, 29, 1145, 93, 11924, 531, 2138, 51, 6, 1, 504, 6, 48, 1663, 44, 40, 3973, 5758, 1312, 3, 21, 456, 13, 9, 407, 5, 19015, 3, 58, 755, 504, 14, 1, 5840, 30, 1527, 27, 2453, 2, 14, 8, 15, 28, 7, 135, 14, 1, 20, 129, 226, 103, 108, 4340, 2, 2440, 3, 59, 1, 9231, 526, 7, 0, 5, 233, 3, 1, 0, 123, 59, 7, 1571, 248, 2, 5, 755, 576, 18, 11924, 3517, 27, 1, 1767, 4, 628, 136, 7, 1101, 7, 12555, 48, 19141, 122, 19, 96, 497, 88, 1101, 5820, 0, 3, 25, 8, 144, 3215, 377, 77, 49, 1, 19912, 2, 9, 10, 0, 53, 1824, 7768, 1590, 14, 18, 1, 208, 808, 29, 56, 2883, 314, 78, 27, 1, 202, 278, 3, 4, 2652, 5713, 1306, 5, 1837, 2372, 6, 755, 220, 1432, 2, 4771, 3153, 9, 47, 57, 3, 1192, 729, 14, 311, 5, 660, 1456, 169, 36, 1, 755, 220, 530, 2, 10, 8, 15, 5, 20, 14, 460, 4, 11872, 56, 203, 1924, 7, 2, 602, 1, 460, 41, 4336, 2351, 0, 36, 55, 222, 302, 1, 345, 4, 1, 2128, 41, 212, 761, 18, 8, 3377, 2, 156, 50, 1, 862, 7032, 450, 101, 577, 2963, 67, 49, 1, 2561, 6, 1, 0, 12, 65, 1061, 10, 2, 62, 15052, 14697, 32, 118, 391, 1, 0, 5959, 4849, 3, 43, 12, 8054, 12555, 62, 5165, 2653, 81, 6782, 2, 1, 13435, 450, 6, 1824, 7768, 3, 2652, 5713, 3, 755, 220, 3, 1, 862, 7032, 3, 2632, 3, 46, 2351, 0, 11, 786, 150, 1163, 742, 4771, 3153, 5, 169, 2, 12, 567, 8, 26, 151, 51, 6, 62, 103, 7, 3015, 4, 72, 10, 36, 1, 97, 1203, 66, 3, 21, 10, 8, 236, 104, 5, 89, 12289, 2, 667, 430, 2, 2846, 24, 51, 6, 553, 23], 1), ([4683, 2433, 3, 2143, 6816, 1686, 2, 4, 2951, 7320, 30, 282, 1165, 11, 5333, 1062, 2620, 41, 3, 18, 1, 347, 6, 5, 975, 431, 24, 1097, 13488, 23, 3797, 1, 1493, 6, 1, 3930, 0, 1304, 2, 1, 1179, 207, 1, 160, 1544, 104, 13, 34, 6, 1, 94, 432, 106, 6, 37, 66, 2, 1097, 13488, 9, 2716, 17, 1, 8185, 975, 431, 41, 9, 14512, 39, 37, 4, 140, 496, 7, 33, 3046, 17, 5, 1474, 11, 1, 998, 2, 3257, 459, 27, 0, 16244, 8, 15, 5804, 2, 5, 212, 72, 39, 256, 41, 4221, 13, 585, 6, 20, 2], 1), ([107, 155, 1, 1523, 12, 16, 758, 13, 20, 118, 102, 10, 88, 1987, 3, 43, 12, 5214, 1, 0, 2, 12, 74, 5, 89, 66, 155, 10, 4, 32, 7, 135, 14, 13, 20, 9, 132, 81, 55, 645, 838, 106, 51, 45, 2, 6, 268, 3, 10, 52, 99, 1463, 21, 12, 56, 140, 71, 380, 10, 2, 1, 838, 9, 78, 229, 3, 60, 432, 4, 959, 4, 1, 70, 812, 77, 155, 10, 37, 1, 103, 7, 1, 137, 2, 55, 6, 1, 8749, 30, 47, 0, 1492, 4, 25, 56, 72, 1, 718, 617, 510, 10, 2, 12, 200, 14, 2881, 0, 8, 15, 242, 809, 5, 233, 5424, 21, 14, 9, 93, 1, 113, 18705, 9, 2125, 11, 13, 20, 2, 43, 456, 3, 4004, 67, 3, 12, 425, 10, 5, 172, 4, 12, 448, 10, 9, 1134, 194, 19, 37, 1, 2392, 563, 7, 1691, 261, 89, 106, 44, 13, 2, 12, 65, 380, 7, 205, 10, 5, 561, 4, 33, 758, 93, 89, 5, 20, 56, 33, 18, 147, 5, 420, 416, 2, 0, 625, 9, 276, 155, 1, 20, 240, 55, 6, 31, 395, 30, 0, 570, 2], 1), ([659, 3, 5, 2607, 424, 4552, 9, 1, 3599, 19, 7538, 10562, 3, 1609, 5, 3930, 10788, 88, 5, 3228, 4, 0, 802, 0, 2, 92, 24, 13, 656, 19, 1, 2128, 23, 3, 10, 191, 14, 1, 964, 4052, 6, 5, 8192, 1367, 9, 40, 3591, 895, 1504, 19, 2244, 1046, 5674, 2, 153, 30, 47, 117, 6, 1, 8914, 5277, 15282, 75, 8, 185, 444, 7, 1574, 19, 13, 20, 7, 32, 105, 1156, 2, 12, 122, 106, 4, 12, 2431, 3, 17, 12, 8, 148, 5643, 115, 1524, 90, 24, 3325, 77, 50, 12, 8, 148, 358, 23, 3, 14, 370, 682, 51, 1, 128, 2157, 2, 12, 8, 144, 217, 7, 834, 93, 1022, 2420, 4, 11785, 12, 16, 4, 280, 23, 93, 79, 58, 3702, 0, 451, 9, 11, 1835, 7, 99, 321, 8601, 2, 12, 296, 13, 8239, 1220, 1962, 776, 1, 318, 971, 5, 835, 6, 5, 906, 20, 483, 1521, 1378, 2, 17, 1, 375, 8146, 27, 2470, 0, 8, 15, 686, 126, 245, 3051, 55, 482, 66, 190, 5, 1186, 5026, 654, 2539, 24, 28, 7, 713, 1, 15691, 4837, 0, 1, 8232, 6, 402, 1, 208, 154, 23, 3, 12, 1135, 74, 40, 14362, 2, 12, 74, 47, 1751, 155, 5, 20, 14, 309, 77, 554, 17, 162, 12, 8, 241, 47, 74, 5, 2943, 6, 975, 59, 12, 71, 468, 5, 3462, 2, 62, 6476, 16, 0, 3, 21, 10, 16, 3969, 0, 2, 1, 833, 16, 2505, 230, 3, 21, 1, 70, 387, 3, 18, 99, 16223, 9118, 24, 93, 90, 75, 1221, 48, 1428, 1, 275, 53, 75, 8, 236, 47, 135, 146, 44, 3, 2, 2, 2, 46, 124, 1, 275, 174, 48, 53, 2, 38, 8, 236, 770, 14, 23, 3, 11239, 120, 1411, 24, 143, 124, 0, 198, 1, 5022, 53, 23, 3, 10516, 3, 4, 5801, 686, 285, 3, 682, 51, 7, 33, 47, 166, 370, 4857, 298, 2, 7146, 3, 1, 1051, 6, 1240, 3978, 16, 47, 358, 2, 36, 105, 576, 3, 12, 452, 29, 16, 2235, 6, 2666, 88, 55, 11053, 42, 34, 6, 31, 379, 1338, 46, 11, 573, 1464, 2, 1240, 3978, 17, 5, 16504, 13929, 548, 1365, 41, 4221, 7271, 4, 2628, 396, 53, 159, 8, 26, 770, 10, 19, 5, 350, 2, 25, 187, 1220, 53, 1674, 1220, 53, 111, 1521, 1378, 2, 1, 70, 9660, 1, 1368, 3427, 1521, 6, 15272, 369, 522, 2, 1, 22, 2012, 18, 5, 528, 6, 10194, 331, 0, 0, 49, 27, 5, 6381, 989, 9816, 2, 75, 100, 111, 11, 201, 17, 38, 381, 67, 3, 1033, 910, 3, 4, 3512, 1293, 521, 11, 964, 6, 5, 845, 703, 0, 989, 2, 3110, 7, 135, 3, 79, 3421, 4500, 2, 14, 8, 15, 17, 237, 17, 12, 8, 148, 171, 7, 151, 18, 1, 70, 381, 95, 12, 5199, 1, 4785, 7, 72, 1, 22, 2, 11, 199, 3, 12, 8, 148, 28, 254, 50, 12, 101, 6200, 1, 120, 63, 50, 12, 468, 7, 2, 54, 801, 17, 5, 4673, 805, 921, 9937, 88, 5, 0, 6, 5086, 2705, 2, 124, 12, 382, 1, 20, 53, 64, 28, 2852, 44, 115, 6, 1, 1843, 112, 62, 1008, 52, 1684, 77, 7, 2, 43, 1876, 3, 12, 200, 10, 16, 86, 2, 21, 13, 34, 16979, 11, 62, 343, 2, 12, 437, 7, 1283, 529, 27, 1, 22, 4, 0, 1, 368, 1863, 4, 560, 10, 67, 27, 804, 2, 12, 335, 55, 6, 1, 503, 771, 4, 16, 9899, 36, 457, 23, 1, 6263, 401, 74, 9737, 42, 1, 22, 4, 280, 23, 1, 199, 14, 12, 74, 43, 1560, 1029, 1, 228, 222, 6, 1, 20, 2, 12, 1671, 14, 12, 16, 43, 334, 7, 116, 11067, 4690, 1, 740, 42, 370, 3, 14, 59, 6801, 18, 5, 22, 14, 165, 2720, 1, 503, 7, 8501, 7, 165, 110, 19, 521, 3, 12, 16, 458, 0, 2, 10, 8, 15, 17, 50, 12, 74, 84, 18382, 7, 859, 62, 1073, 36, 1, 1310, 6, 1, 824, 2, 238, 12, 614, 14, 1521, 1378, 9, 1, 821, 20, 129, 102, 53, 6, 268, 28, 2, 10, 52, 99, 1463, 3, 115, 6, 69, 76, 9223, 0, 39, 1, 804, 2033, 2, 238, 12, 614, 14, 37, 321, 106, 30, 86, 4, 37, 1843, 106, 30, 57, 53, 179, 6, 268, 28, 2, 62, 222, 9, 14, 45, 8, 15, 5, 228, 182, 6, 1893, 987, 6, 370, 5, 666, 6, 170, 14, 11218, 1, 503, 1990, 98, 7, 110, 4, 870, 106, 14, 91, 8, 26, 12407, 120, 1175, 3, 868, 5, 6957, 8820, 711, 3, 4, 730, 37, 3, 91, 8, 26, 2097, 1, 1656, 6, 1, 397, 155, 2, 12, 169, 954, 7, 16834, 62, 343, 142, 5357, 13, 176, 182, 6, 22, 14, 158, 8, 26, 90, 1, 529, 19, 77, 2], 0), ([13, 9, 189, 164, 2, 2360, 1, 0, 3, 5, 53, 2, 2, 2, 89, 170, 2, 2, 2, 12, 1451, 177, 900, 6, 1, 20, 2, 2, 2, 13, 9, 44, 684, 20, 19, 1, 2586, 8, 15, 2, 89, 1260, 0, 1884, 2, 2, 2, 108, 86, 13, 213, 8, 26, 27, 399, 2, 2, 2, 21, 25, 56, 140, 111, 10, 27, 0, 2, 2, 2], 0), ([13, 9, 1, 2264, 2751, 11, 1, 211, 209, 6, 112, 18, 1, 718, 1549, 3, 779, 2, 15, 2, 15, 2, 18200, 24, 1, 718, 1441, 7, 574, 1248, 23, 2, 1, 209, 16, 8648, 11, 1, 405, 3032, 8, 15, 3, 4, 8526, 36, 225, 2231, 112, 24, 650, 6, 69, 16, 129, 615, 11, 1, 1143, 2, 15, 2, 23, 2, 8, 779, 2, 15, 2, 15, 2, 18200, 0, 3, 7908, 6, 8213, 8, 9, 5, 14278, 126, 220, 14, 150, 28, 2, 2, 2, 2785, 28, 3, 33, 578, 108, 579, 2, 260, 1879, 676, 314, 11, 1, 792, 6, 5, 2874, 1346, 11, 6417, 24, 18, 0, 402, 894, 11, 19, 6417, 23, 7, 174, 51, 49, 5, 211, 415, 433, 2, 54, 1045, 9, 1, 1267, 574, 0, 0, 247, 6, 3419, 2, 264, 260, 134, 9, 146, 6, 40, 10742, 0, 3, 7349, 3, 0, 3, 10, 8, 15, 1697, 17, 1021, 3888, 24, 17, 12, 307, 3, 91, 8, 26, 198, 10, 108, 579, 23, 2, 264, 45, 9, 5, 233, 6, 2628, 1109, 195, 1070, 582, 3, 10, 8, 15, 670, 777, 19, 924, 359, 24, 2093, 2035, 195, 67, 23, 2, 17, 2256, 3648, 11, 1, 789, 381, 3, 47, 851, 152, 3, 1297, 1, 3725, 195, 47, 362, 2], 1), ([13, 212, 33, 34, 6, 1, 252, 3481, 106, 129, 102, 2, 10, 9, 2314, 14, 147, 5, 86, 234, 16, 1509, 7, 427, 5, 20, 4, 589, 11, 5843, 17, 1001, 17, 345, 3593, 2, 12, 8, 144, 118, 114, 43, 115, 4886, 17218, 6458, 11, 34, 4, 1, 173, 20, 2, 10, 1514, 8, 26, 33, 14, 619, 2, 12, 56, 8, 26, 382, 143, 43, 115, 587, 160, 63, 200, 1, 323, 7, 63, 33, 4886, 11, 5, 20, 44, 13, 2, 50, 12, 74, 105, 1152, 19, 55, 6, 1, 587, 160, 11, 13, 20, 163, 12, 214, 1, 20, 3, 10, 9, 763, 19, 254, 156, 2, 12, 8, 144, 559, 14, 45, 87, 33, 5, 868, 67, 20, 7, 13, 34, 4, 12, 56, 8, 26, 382, 93, 14, 9, 63, 631, 2], 0), ([11, 5, 13112, 332, 13483, 39, 7405, 4, 1524, 3, 11, 1, 470, 6, 1, 9074, 1062, 3, 1, 0, 1708, 0, 0, 0, 0, 1, 1896, 24, 1858, 2954, 23, 7549, 1, 321, 10417, 0, 24, 11453, 10362, 23, 3, 48, 507, 4, 48, 558, 2, 31, 3689, 9, 7, 82, 55, 301, 4, 11997, 17, 10522, 19, 98, 3, 7, 555, 439, 1, 3076, 0, 6, 0, 24, 7432, 0, 23, 2, 11, 219, 6, 6177, 3, 1, 321, 1870, 7604, 8202, 24, 1731, 3896, 23, 4071, 18, 1, 9213, 2, 197, 3, 17923, 9, 6580, 4, 10417, 1544, 96, 7, 33, 615, 42, 1, 1186, 18, 1, 321, 1165, 2, 12, 90, 28, 44, 112, 49, 4142, 19391, 4, 566, 6, 1152, 7, 1, 0, 6, 83, 2877, 3, 21, 5954, 3025, 4, 1, 1881, 8, 9, 840, 5, 89, 1137, 2, 1, 231, 145, 30, 60, 813, 2, 11453, 10362, 3, 1, 94, 316, 321, 543, 11, 1, 0, 3, 9, 386, 3, 3300, 40, 10331, 253, 44, 11, 1, 1776, 20, 0, 1289, 8, 2, 1858, 2954, 9, 410, 3, 17, 629, 3, 17, 40, 1173, 4, 0, 1642, 1708, 2, 1731, 3896, 9, 89, 17, 1, 321, 1870, 2, 12, 90, 28, 123, 79, 49, 1, 13112, 480, 7, 9283, 724, 45, 9, 105, 860, 11, 13, 70, 3, 21, 13, 20, 9, 5, 2383, 729, 2, 11, 3438, 10, 9, 68, 1203, 27, 1977, 2, 62, 2110, 9, 2231, 2, 417, 24, 3438, 23, 0, 0, 997, 779, 0, 8, 24, 5954, 3025, 4, 1, 1881, 8, 23], 1), ([17, 5, 202, 336, 6, 1731, 12460, 4, 1, 2193, 6, 1, 106, 29, 8, 15, 84, 563, 11, 3, 12, 4474, 12, 8, 241, 362, 19976, 2, 12, 159, 8, 26, 3, 264, 11, 783, 10, 52, 10, 8, 15, 395, 2, 197, 3, 50, 25, 8, 185, 1010, 146, 6, 1, 10617, 6, 844, 46, 664, 0, 3, 25, 101, 33, 11, 19, 5, 1543, 2, 11, 5, 103, 13, 9, 780, 7, 844, 3, 116, 5, 781, 6, 5, 1496, 1831, 182, 18, 5, 2945, 2233, 15227, 2, 2, 2, 21, 14, 8, 15, 121, 10, 640, 2, 12, 8, 148, 28, 6804, 19, 12460, 59, 12, 135, 14, 1, 2155, 158, 8, 26, 71, 2839, 18, 96, 3, 17, 86, 453, 9, 86, 453, 3, 21, 1, 453, 9, 467, 2, 54, 8224, 1, 20, 67, 9, 203, 234, 4, 119, 2, 4831, 2503, 24, 0, 3, 0, 23, 52, 449, 40, 1190, 234, 3, 21, 34, 14, 158, 8, 26, 71, 170, 18, 12460, 8, 15, 445, 6, 453, 3, 1198, 96, 17876, 27, 160, 3631, 5304, 403, 59, 71, 29, 496, 7, 1293, 14, 375, 190, 4, 82, 192, 18, 31, 86, 1336, 2, 13, 513, 167, 1, 20, 2132, 194, 17, 10, 9, 3, 21, 45, 8, 15, 411, 2, 50, 1, 20, 74, 84, 102, 18, 89, 160, 3, 1, 20, 65, 32, 243, 1589, 10, 8, 15, 204, 2, 479, 13, 9, 60, 237, 42, 1, 418, 2, 1, 119, 9, 1581, 3, 9434, 43, 63, 19, 5, 1911, 872, 807, 2, 1, 5537, 1134, 4, 9423, 3047, 16557, 14739, 177, 1667, 381, 18, 784, 19954, 11020, 3, 12620, 11, 34, 6, 1, 252, 372, 12, 8, 144, 114, 11, 5, 211, 142, 2, 1, 134, 1036, 7, 487, 177, 381, 6, 78, 1237, 403, 88, 1, 247, 6, 0, 25, 8, 236, 33, 2949, 0, 36, 5674, 368, 66, 25, 8, 185, 11, 1, 8194, 2, 8, 1290, 1673, 35, 57, 539, 3, 238, 12, 171, 1122, 35, 54, 8, 15, 2, 2, 2, 217, 136, 77, 35, 0, 35, 8, 11, 199, 12, 210, 349, 14, 34, 535, 368, 2441, 2, 1, 239, 900, 1618, 6, 530, 2296, 24, 4, 928, 1636, 23, 3086, 10650, 3, 310, 6, 0, 1, 22, 44, 10, 150, 3, 224, 191, 7, 568, 10650, 1, 20, 11, 5, 239, 16098, 772, 7, 580, 16557, 42, 12234, 3, 21, 186, 2037, 10650, 291, 1674, 3307, 24, 857, 1039, 19, 1, 368, 4392, 6, 86, 119, 23, 368, 7, 16557, 3, 4, 63, 40, 3601, 487, 42, 96, 946, 7, 0, 1, 22, 2, 50, 1, 119, 16, 132, 3, 13, 20, 65, 32, 84, 777, 2, 618, 3, 10, 227, 32, 84, 189, 727, 3, 21, 1, 566, 6, 113, 167, 1, 20, 5, 13647, 1443, 3, 4, 167, 1, 201, 1498, 320, 9868, 27, 4, 5061, 310, 6, 40, 8834, 181, 6, 1, 22, 2, 12, 258, 1, 1178, 0, 145, 5, 126, 855, 7, 3264, 473, 3, 21, 1, 199, 14, 1, 109, 76, 43, 1753, 102, 98, 320, 2295, 17, 78, 17, 3822, 3, 1198, 5, 1664, 1254, 11, 1, 1663, 2, 43, 3, 50, 25, 71, 44, 1025, 4, 91, 8, 26, 32, 5, 454, 18, 86, 119, 3, 7211, 1620, 4, 5, 71, 13430, 3, 1664, 1865, 141, 3, 19976, 87, 243, 33, 131, 3828, 6, 4161, 2, 21, 240, 12, 90, 3, 12, 8, 148, 243, 118, 171, 7, 111, 10, 179, 2, 288, 16, 194, 2, 27, 1, 905, 504, 3, 13, 9, 1, 68, 1025, 20, 12460, 129, 2697, 7, 104, 3, 43, 29, 534, 293, 8, 26, 71, 14, 3478, 18, 10, 314, 2], 0), ([186, 333, 5, 5569, 3, 5633, 4, 1718, 972, 20, 2, 2394, 9, 353, 17, 13446, 962, 2102, 1549, 1197, 16205, 4, 8515, 6008, 1669, 48, 204, 17, 1922, 24, 4, 122, 627, 23, 16262, 7019, 2, 21, 1, 20, 8, 15, 4734, 11995, 27, 1, 6468, 6, 313, 6535, 17, 6161, 2, 29, 2362, 13, 113, 8, 15, 3768, 4, 3513, 3, 17, 78, 17, 31, 1992, 3041, 194, 2, 1251, 12, 110, 13, 16, 31, 128, 242, 4, 150, 32, 1963, 40, 891, 19, 10, 24, 21, 12, 446, 2676, 841, 1389, 11, 1, 7883, 17, 78, 14, 345, 23, 2, 456, 5, 89, 20, 7, 72, 25, 187, 7, 13570, 88, 40, 3738, 8, 15, 343, 4, 33, 27, 1, 1224, 6, 131, 2070, 1, 228, 103, 149, 2, 362, 35, 35], 1), ([8934, 3093, 9, 60, 189, 4, 9, 0, 4796, 36, 219, 2, 14, 8, 15, 10, 3, 1450, 2, 1, 3701, 289, 19, 63, 1079, 724, 7, 111, 13, 22, 46, 28, 2, 138, 1795, 15160, 815, 1273, 30, 531, 432, 39, 8232, 6, 73, 60, 0, 24, 0, 13224, 3, 202, 1113, 3, 0, 0, 524, 2, 23, 2, 13, 34, 213, 8, 26, 2, 1, 234, 9, 86, 3, 1, 119, 9, 86, 3, 1, 453, 9, 86, 3, 4, 1, 323, 6, 272, 5, 6213, 3468, 755, 949, 134, 9, 5247, 86, 2, 1, 417, 3, 15533, 36, 5, 396, 220, 3, 9, 11882, 5427, 2, 12, 9571, 380, 5837, 13, 34, 44, 1, 3281, 2], 0), ([5, 212, 72, 35, 12, 214, 11740, 36, 5, 3262, 2638, 4, 10, 16, 570, 2, 75, 8, 185, 687, 13120, 966, 2, 10, 167, 146, 49, 1276, 320, 44, 5, 7097, 471, 2, 3624, 16342, 3700, 355, 482, 18, 48, 1978, 2133, 6, 880, 3, 3437, 3, 4, 595, 119, 1208, 2, 791, 5282, 3, 1, 175, 3, 52, 102, 5, 2312, 1224, 22, 14, 279, 1, 2821, 925, 6, 339, 8, 15, 13393, 11, 1, 2398, 4140, 182, 2, 19, 37, 6, 10, 8, 15, 220, 3, 11740, 2788, 18, 10, 8, 15, 1656, 2, 69, 9, 43, 1353, 19, 5, 97, 66, 175, 3, 269, 18, 5, 755, 220, 2, 29, 9, 5, 645, 617, 2, 0, 0, 3, 1731, 1057, 13940, 3, 3293, 17353, 3, 4, 0, 8569, 2203, 51, 1, 188, 18, 1155, 4, 60, 590, 372, 17, 1, 65, 33, 4197, 753, 8, 15, 339, 2, 25, 8, 144, 193, 7, 72, 138, 460, 151, 7, 170, 4, 82, 969, 11, 16342, 8, 15, 3851, 2, 859, 51, 1, 1523, 27, 11740, 2, 3021, 3, 10, 8, 15, 276, 1, 430, 900, 9941, 2], 1), ([28, 7, 211, 107, 1726, 0, 309, 1, 9884, 19, 57, 29, 4965, 6, 14, 318, 2, 3762, 3953, 4, 96, 121, 57, 351, 4, 203, 4098, 1852, 15898, 2, 1726, 97, 5620, 12, 16, 1214, 3842, 5504, 1, 10397, 17, 62, 5424, 351, 666, 16, 0, 509, 77, 2, 6592, 0, 24, 1357, 4598, 8, 15, 3560, 330, 17, 78, 17, 1357, 18772, 0, 3560, 330, 2, 23, 17, 3762, 3953, 1491, 3, 5, 399, 11330, 1, 1626, 16, 13833, 3, 17, 5, 1289, 0, 24, 3762, 3953, 11330, 16, 259, 2, 1, 762, 4, 399, 6, 3762, 11, 1, 1626, 16, 118, 1202, 27, 251, 2, 45, 30, 5, 180, 1484, 5055, 14, 193, 5260, 2, 59, 38, 373, 152, 42, 1, 399, 11330, 1240, 4338, 16, 687, 136, 5, 37, 75, 74, 16, 5, 2113, 326, 0, 2, 3, 29, 3648, 14, 3762, 3953, 17, 1, 1289, 0, 52, 3401, 4, 158, 8, 26, 169, 57, 2, 19766, 100, 373, 152, 42, 1, 1626, 31, 406, 16, 0, 29, 572, 1240, 14, 1, 831, 16, 60, 2593, 0, 121, 798, 283, 7, 7811, 96, 2, 774, 4, 0, 121, 171, 45, 994, 11, 5, 1902, 654, 59, 166, 17132, 373, 11, 4, 572, 98, 3762, 1491, 36, 97, 3, 1322, 3762, 0, 1288, 116, 5, 0, 38, 200, 10, 293, 8, 26, 157, 2, 21, 203, 315, 3648, 14, 1, 169, 6, 1, 17132, 406, 307, 10, 37, 2, 11, 199, 17, 29, 1491, 3, 17, 1067, 11, 83, 2025, 3, 29, 19192, 19, 1, 17132, 4, 1626, 12869, 7, 818, 2, 599, 15348, 3953, 16, 5, 1400, 4736, 7, 1102, 7, 90, 5, 2463, 27, 1, 4382, 127, 3, 29, 412, 8, 26, 82, 105, 6, 1, 1400, 7683, 7, 170, 3, 34, 6, 1, 17455, 193, 5, 740, 7, 673, 352, 146, 74, 604, 2, 59, 29, 6122, 11, 1102, 2083, 0, 16, 45, 572, 96, 54, 74, 604, 3, 4, 270, 96, 27, 5, 0, 2495, 7, 5859, 564, 7, 1, 11601, 3, 15348, 63, 315, 18, 16336, 4390, 4148, 437, 67, 7, 1, 408, 6, 1, 10113, 121, 3762, 16, 2219, 2, 548, 258, 64, 4573, 308, 10669, 4652, 17, 5, 1534, 2, 94, 6, 1, 1519, 11, 15348, 0, 275, 17, 78, 17, 1, 275, 39, 4148, 3953, 3], 0), ([17, 5, 2607, 336, 6, 0, 3, 10, 266, 206, 614, 14, 12, 32, 114, 13, 22, 1815, 219, 2, 197, 3, 12, 111, 10, 3043, 19, 1, 2992, 852, 2, 2, 2, 1, 364, 6, 1, 22, 9, 3, 6148, 3, 189, 1972, 3, 608, 7, 135, 2, 8454, 774, 215, 22, 175, 4319, 0, 1483, 4227, 190, 27, 73, 538, 1705, 215, 19, 1, 4778, 2933, 3, 69, 6943, 1, 885, 3974, 6, 1, 173, 400, 2, 1, 417, 5704, 16782, 635, 42, 1, 199, 14, 1, 2992, 808, 1875, 9, 42, 1, 0, 4, 464, 2992, 6, 1, 2933, 36, 1, 0, 7735, 3, 21, 9, 92, 5, 3044, 7, 1, 20, 116, 5, 8, 0, 268, 8, 27, 1, 1072, 4, 93, 10, 18103, 6431, 0, 4227, 5704, 2, 6574, 852, 6, 1, 12739, 394, 426, 4, 5357, 842, 9, 5, 350, 70, 4969, 6804, 5, 528, 6, 0, 450, 41, 8, 144, 391, 5, 3398, 7, 916, 1, 1072, 3, 151, 27, 1, 2933, 11, 73, 204, 2780, 2560, 4, 5458, 1, 1957, 7661, 2, 156, 3, 17, 12, 307, 730, 3, 1, 2992, 852, 9, 89, 2, 4227, 30, 133, 27, 408, 6, 73, 773, 17, 7231, 774, 4946, 3, 69, 16, 5, 660, 1737, 3777, 19, 40, 0, 1072, 152, 11, 1, 538, 1705, 2, 162, 1, 22, 4103, 1, 1072, 163, 38, 3908, 73, 4205, 887, 0, 3, 45, 30, 140, 3309, 327, 4412, 114, 4, 559, 133, 8618, 510, 1, 5830, 3, 1, 10234, 118, 281, 77, 192, 179, 3, 267, 4896, 3, 47, 56, 8, 26, 82, 194, 42, 1, 5631, 7159, 161, 3, 4792, 1, 3422, 4, 115, 58, 2, 59, 4227, 30, 14542, 3, 38, 30, 495, 2, 59, 38, 30, 28, 3, 38, 8, 185, 3, 78, 3, 60, 356, 2, 168, 63, 5230, 6, 627, 545, 7, 1, 11273, 17, 38, 859, 51, 1, 183, 11, 1, 1644, 490, 6, 1, 7456, 10334, 2, 17, 40, 475, 3, 1, 11639, 2544, 6, 1, 808, 9, 5, 1872, 7, 5, 630, 215, 1125, 7, 770, 0, 2, 28, 609, 3545, 493, 2, 12, 123, 37, 5184, 91, 8, 26, 32, 7, 33, 1370, 4, 7921, 3604, 3, 21, 138, 460, 104, 1, 5098, 0, 9726, 169, 44, 0, 2, 1, 68, 157, 2530, 265, 42, 908, 3088, 0, 27, 1, 1072, 8, 15, 477, 1891, 3212, 0, 2, 0, 265, 624, 11, 5704, 17, 116, 2505, 4373, 3, 687, 49, 5, 1184, 641, 925, 314, 29, 56, 8, 26, 1172, 3, 18912, 5, 1147, 3768, 1387, 1246, 5, 5228, 2173, 4, 43, 27, 2, 45, 8, 15, 34, 222, 11, 1, 22, 121, 29, 2917, 5, 0, 5406, 0, 36, 55, 337, 221, 12883, 80, 374, 2314, 2, 1, 134, 685, 74, 1185, 152, 100, 3, 69, 2440, 32, 84, 5222, 2, 17213, 1576, 621, 4, 0, 2122, 18523, 30, 1259, 17, 60, 10590, 3, 685, 11593, 1063, 3, 21, 92, 1232, 0, 339, 142, 1, 660, 6813, 2812, 1614, 1988, 5831, 9, 1, 68, 34, 6, 1, 12739, 41, 2572, 139, 1, 774, 355, 3330, 18, 105, 422, 6, 12481, 2, 4, 17, 19, 1, 8, 336, 2933, 8, 4969, 3, 78, 10, 8, 15, 3528, 9136, 2, 281, 8, 15, 28, 541, 2913, 2, 277, 10, 8, 15, 47, 95, 10, 8, 15, 37, 43, 0, 538, 1705, 3, 21, 1, 17631, 6, 196, 18436, 90, 126, 19, 77, 21, 3083, 5, 554, 6, 11908, 2, 38, 30, 3, 7, 5, 397, 3, 0, 2090, 4, 8094, 85, 3, 655, 3419, 30, 5339, 59, 38, 697, 8, 26, 0, 19438, 2, 281, 77, 0, 2, 2, 2, 2, 0, 545, 11, 1, 852, 14, 213, 8, 26, 14542, 14, 9, 6, 105, 627, 2, 168, 2, 2254, 145, 6, 359, 19031, 73, 1113, 3, 7730, 13578, 3, 2850, 73, 1778, 3, 385, 415, 11, 5188, 27, 1, 103, 7, 13908, 4, 1428, 73, 6276, 11, 1283, 18, 166, 3398, 2290, 167, 77, 591, 47, 34, 154, 80, 50, 3599, 450, 76, 13, 343, 0, 739, 152, 11, 8, 0, 2, 1, 122, 1, 8554, 32, 19, 1, 1072, 9, 146, 12, 56, 407, 1924, 7, 3, 4, 9, 36, 219, 0, 13494, 3, 21, 50, 54, 75, 72, 16, 1, 94, 230, 493, 51, 6, 54, 16, 719, 6, 98, 3, 100, 12, 8, 241, 733, 7, 72, 1, 12325, 2, 21, 1, 215, 9, 37, 14, 2208, 3, 4, 11, 13, 3283, 5704, 8785, 2, 1, 0, 2992, 3, 34, 6, 73, 37, 66, 128, 13908, 3, 167, 1, 22, 276, 317, 2, 1, 1129, 274, 4082, 6, 1, 20, 265, 18, 5, 4101, 3981, 5349, 54, 1306, 6, 1, 16536, 2992, 852, 24, 5, 57, 12072, 6, 1, 242, 23, 3, 4, 1324, 167, 1, 274, 40, 1539, 212, 19, 450, 2, 1, 3594, 1628, 39, 1, 1072, 24, 5374, 5831, 3, 41, 309, 4227, 11, 1, 0, 23, 27, 1, 97, 3981, 9, 92, 3, 3041, 3, 237, 58, 230, 81, 1, 22, 387, 2, 17, 5, 6598, 6, 1, 869, 42, 0, 302, 73, 0, 6119, 815, 3, 0, 4227, 5704, 9, 14991, 2, 21, 50, 25, 8, 185, 284, 19, 2530, 3, 25, 8, 185, 132, 139, 385, 1, 7375, 1799, 426, 3974, 24, 156, 1203, 11, 1529, 3594, 4075, 2794, 23, 2], 0), ([34, 6, 1, 128, 112, 12, 32, 114, 11, 1, 509, 746, 161, 35, 1, 188, 9, 10090, 2109, 11, 5, 781, 6, 196, 122, 4, 15995, 27, 1, 2446, 2542, 504, 6, 176, 866, 564, 18, 1, 117, 822, 116, 14681, 11, 1, 261, 2, 164, 3, 1255, 3, 608, 4, 3755, 3, 13, 9, 5, 458, 2573, 198, 27, 2398, 1953, 14, 1292, 2045, 2727, 8, 15, 0, 11053, 11, 1, 14942, 121, 10, 3223, 2, 2, 2, 264, 12, 32, 7, 978, 14, 5962, 16, 5, 651, 730, 31, 1164, 2579, 2, 5554, 2951, 14720, 9, 34, 22, 25, 87, 2186, 639, 19, 1041, 2, 2, 2, 43, 91, 8, 26, 677, 10, 35], 1), ([6761, 18699, 1679, 24, 1637, 23, 9, 845, 2250, 31, 8647, 6, 3413, 1, 9031, 2031, 5141, 7, 0, 2, 361, 5, 561, 7, 4545, 11, 2641, 39, 5, 0, 0, 3, 1679, 4, 31, 330, 3519, 24, 196, 23, 426, 1, 331, 125, 139, 7473, 7464, 0, 5, 3355, 38, 1658, 59, 1, 8788, 1228, 1318, 1, 7473, 5367, 2, 1559, 2946, 3209, 2263, 11, 1, 862, 3, 4, 11, 348, 6, 5, 8, 8117, 8, 3, 1, 0, 206, 0, 878, 7, 9575, 3371, 17917, 6, 10885, 13101, 14061, 67, 73, 0, 3, 360, 38, 174, 521, 18, 246, 5666, 4151, 27, 73, 152, 2, 107, 3242, 7062, 67, 3, 3519, 8, 15, 0, 18766, 1038, 18699, 288, 58, 0, 44, 5, 0, 207, 0, 4, 0, 2, 573, 14073, 1045, 2, 5, 2354, 198, 27, 0, 2798, 3, 18, 8340, 8956, 6, 2549, 2284, 8, 415, 11, 842, 3, 1, 8117, 16, 9020, 27, 766, 39, 12040, 8072, 3597, 40, 7960, 1443, 207, 1637, 4, 196, 3, 4, 73, 0, 1471, 51, 2, 1637, 3, 100, 3830, 7, 1690, 13685, 2507, 3762, 24, 156, 31, 7299, 23, 3, 0, 6857, 5, 10327, 1531, 18695, 27, 31, 0, 6242, 19, 909, 18589, 302, 1270, 3, 0, 3634, 0, 10705, 1623, 1732, 7, 31, 6043, 4, 3, 11, 34, 7104, 3341, 3, 0, 1198, 5, 10734, 941, 3632, 27, 31, 4, 3762, 8, 15, 12971, 2, 3358, 3, 1, 566, 6, 1179, 207, 1, 1409, 1895, 822, 9, 34, 6, 1, 58, 2271, 1360, 6, 13, 15600, 2494, 505, 80, 1, 68, 157, 1586, 1637, 4899, 904, 196, 9, 59, 29, 8, 15, 5208, 48, 190, 1, 654, 2, 1, 234, 108, 9, 4619, 1972, 3, 383, 0, 196, 8, 15, 0, 242, 59, 361, 0, 44, 749, 18, 77, 80, 8, 9258, 12, 762, 139, 1, 688, 7, 16817, 2, 999, 3, 361, 1637, 8, 4855, 970, 0, 3, 31, 0, 4320, 2156, 37, 2714, 59, 165, 29, 560, 14, 103, 7, 878, 18, 2, 1126, 3, 1, 8117, 212, 33, 114, 11, 2007, 11, 1, 6024, 1062, 7160, 357, 9, 10818, 2, 197, 3, 11, 5181, 3, 18, 842, 140, 15458, 11, 40, 0, 322, 27, 1449, 3, 1, 60, 0, 6, 1, 2817, 560, 7, 33, 11, 8672, 80, 2958, 34, 6, 1, 94, 15525, 80, 4, 19, 14, 335, 3471, 80, 7397, 6, 0, 2], 0), ([12, 200, 13, 20, 16, 71, 57, 2, 10, 640, 67, 726, 1, 764, 11, 1, 137, 14, 15021, 150, 6, 812, 54, 61, 74, 2, 15021, 16, 1133, 6, 48, 643, 1240, 3, 41, 16, 58, 3676, 49, 170, 100, 48, 2, 29, 16, 43, 88, 31, 170, 14, 29, 2403, 73, 8912, 2, 29, 16, 92, 60, 3846, 2, 61, 412, 8, 26, 198, 10, 1487, 43, 61, 309, 7, 72, 50, 29, 65, 677, 48, 2, 1, 20, 279, 14, 29, 4031, 48, 3, 29, 63, 516, 7, 104, 67, 19, 1, 318, 29, 5162, 67, 2, 29, 266, 7, 48, 4, 516, 7, 720, 48, 352, 2, 61, 640, 67, 1428, 166, 134, 750, 0, 2, 29, 472, 44, 1, 134, 61, 218, 468, 3428, 4, 7440, 48, 2, 11, 1, 137, 61, 10551, 17622, 39, 59, 61, 169, 36, 0, 3344, 4, 1, 103, 29, 281, 31, 12127, 9285, 762, 27, 1, 2051, 1, 103, 1240, 124, 1, 173, 1948, 154, 2, 1240, 640, 139, 261, 734, 6, 301, 4, 7062, 314, 67, 2, 15021, 1225, 11, 1, 137, 14, 61, 150, 6, 812, 48, 643, 95, 1548, 37, 61, 71, 468, 4, 29, 124, 2850, 2], 1), ([2209, 4, 1235, 9, 5, 4117, 42, 1, 1765, 646, 6, 647, 4117, 11, 1, 3944, 3, 69, 16, 5, 66, 19, 211, 3, 6474, 7402, 18, 331, 365, 1161, 4, 734, 6, 355, 3464, 2, 10, 9, 3, 19, 1, 94, 181, 3, 327, 19, 54, 10, 9, 3, 264, 12, 1251, 2537, 1, 346, 14654, 44, 788, 6, 1, 70, 4, 1, 456, 287, 6, 480, 2, 574, 335, 4, 2422, 6670, 1606, 327, 0, 335, 3, 655, 693, 15519, 2584, 17, 247, 6, 40, 909, 8106, 11, 1, 6626, 6, 1, 413, 3229, 70, 2, 1, 209, 92, 1359, 5175, 170, 42, 0, 5769, 3, 7482, 0, 3, 2909, 14960, 3, 1839, 1355, 3, 7533, 4945, 3, 0, 17220, 1679, 4, 401, 2, 1, 1239, 3, 1270, 3, 721, 4, 215, 30, 37, 6911, 17, 78, 2, 91, 8, 26, 198, 10, 17, 5, 480, 2053, 3, 21, 198, 10, 19, 54, 10, 0, 5569, 3, 6474, 1584, 42, 5, 15363, 1030, 2, 275, 280, 3, 69, 1483, 5, 345, 315, 3, 9, 92, 327, 3, 21, 12, 65, 4207, 764, 7, 1892, 275, 430, 3, 69, 373, 51, 1027, 161, 107, 275, 280, 4, 16, 28, 806, 17, 57, 17, 1, 97, 117, 515, 2, 1219, 457, 4, 280, 30, 2047, 3, 162, 3, 63, 18, 73, 0, 788, 3, 4, 38, 30, 78, 276, 155, 2], 1), ([12, 8, 144, 84, 5, 642, 336, 6, 1, 15381, 2856, 3, 5093, 3, 4, 10321, 1102, 5397, 19, 5, 211, 66, 2, 38, 8, 144, 74, 5, 89, 520, 4, 12, 850, 62, 2201, 7, 137, 3, 803, 2, 21, 3, 10, 1582, 8, 26, 255, 2, 13, 20, 812, 62, 1663, 903, 1, 440, 66, 2, 12, 8, 148, 140, 1011, 3, 5220, 2, 12, 437, 7, 1, 824, 18, 486, 1397, 3, 529, 10, 293, 8, 26, 171, 7, 33, 132, 81, 1, 97, 2, 436, 3, 93, 897, 358, 12, 16, 2, 45, 76, 115, 89, 395, 11, 1, 20, 2, 50, 25, 8, 185, 12026, 3, 91, 8, 26, 44, 5220, 2819, 2821, 465, 3, 46, 50, 25, 4431, 1, 97, 20, 3, 25, 243, 391, 8, 26, 44, 13, 2, 21, 3, 18, 14, 307, 3, 12, 224, 4164, 62, 4032, 42, 1011, 43, 283, 2, 10, 74, 37, 2784, 6, 286, 9210, 3, 17781, 465, 3, 3220, 465, 3, 0, 3, 1011, 3, 55, 89, 744, 4, 2607, 4727, 229, 7, 37, 6, 1, 188, 2, 1632, 10415, 63, 18314, 5397, 8, 15, 6847, 137, 18, 40, 1405, 14, 87, 33, 1647, 45, 19, 5, 211, 66, 2, 12, 8, 148, 254, 25, 56, 68, 811, 93, 2821, 13, 20, 9, 2, 64, 1452, 3, 64, 3313, 53, 208, 53, 13, 20, 52, 473, 229, 78, 3, 3488, 1987, 37, 136, 842, 7, 443, 43, 283, 3, 38, 8, 236, 33, 5028, 10, 101, 239, 1150, 2, 12, 123, 12, 124, 2, 13, 20, 124, 28, 244, 341, 3, 36, 37, 3, 269, 18, 1, 886, 6896, 1, 852, 2, 21, 3, 12, 140, 637, 10, 101, 8, 144, 763, 27, 1335, 2, 156, 3, 281, 8, 15, 47, 827, 4, 72, 59, 38, 766, 5093, 633, 430, 35, 456, 3, 40, 327, 22, 3, 50, 25, 56, 82, 509, 1, 923, 1014, 4, 5, 180, 6656, 1064, 2, 390, 131, 359, 51, 6, 13, 22, 2, 38, 91, 8, 26, 348, 7, 72, 13, 3, 36, 225, 360, 38, 30, 924, 2, 1440, 1, 830, 4, 770, 13, 59, 10, 265, 51, 27, 274, 35, 12, 123, 12, 87, 2], 1), ([12, 90, 990, 18, 267, 0, 52, 307, 35, 4, 12, 91, 8, 26, 218, 990, 18, 85, 3, 21, 54, 0, 52, 307, 9, 60, 303, 3, 10, 9, 66, 19, 1, 522, 7, 818, 27, 7, 132, 603, 2, 12, 65, 44, 7, 72, 98, 3084, 60, 79, 17, 38, 76, 5, 60, 7673, 1821, 1781, 67, 4, 12, 65, 44, 7, 72, 98, 2192, 17, 85, 3, 1639, 4, 11, 73, 649, 17, 78, 17, 73, 928, 125, 2, 43, 1095, 3, 577, 205, 1, 522, 5, 561, 7, 2224, 146, 14, 266, 139, 1, 0, 5, 233, 3, 818, 98, 88, 5, 176, 453, 14, 0, 98, 13952, 4, 73, 1935, 11, 115, 12589, 2, 13, 20, 14, 9, 116, 3980, 9, 28, 108, 86, 3, 21, 17, 12, 32, 114, 999, 27, 11, 73, 106, 3, 73, 106, 749, 1, 173, 6, 785, 120, 4, 0, 2, 59, 11, 5104, 9, 57, 19, 1169, 6, 1136, 1852, 21, 1, 1476, 41, 76, 359, 59, 1, 4385, 76, 5459, 187, 7, 868, 1, 4385, 11, 73, 10065, 4, 43, 2958, 12, 110, 75, 1476, 65, 44, 7, 72, 98, 104, 106, 6, 286, 2784, 3, 277, 55, 14, 30, 44, 1, 6214, 287, 3, 1, 552, 3, 18354, 3, 14, 422, 6, 20, 80, 28, 614, 7, 32, 47, 595, 106, 19, 98, 3, 1213, 656, 108, 414, 3, 21, 246, 72, 98, 11, 286, 603, 7, 54, 38, 32, 84, 394, 11, 73, 58, 1129, 106, 44, 13, 34, 4, 176, 866, 900, 2, 24, 911, 12, 238, 42, 2990, 43, 1284, 62, 915, 6561, 44, 0, 18, 1, 15, 310, 6, 5233, 23], 0), ([40, 327, 475, 6, 1, 2109, 8121, 6972, 3039, 1103, 11, 1, 405, 4239, 8, 15, 2, 1169, 212, 8, 144, 84, 60, 758, 7, 72, 574, 4210, 11, 13, 585, 6, 2428, 2, 186, 5, 2386, 42, 31, 937, 2082, 280, 161, 930, 2, 4210, 130, 714, 5023, 195, 627, 7, 5, 246, 2459, 1448, 51, 0, 741, 195, 120, 2, 21, 1, 2544, 6, 1, 20, 9, 1, 430, 3748, 365, 1734, 152, 7, 152, 2, 97, 18, 1, 4499, 9353, 1553, 633, 3, 100, 1483, 39, 1, 60, 10298, 839, 6899, 39, 5, 13715, 711, 3, 1483, 39, 1, 2764, 6655, 7899, 711, 3, 4210, 68, 0, 11, 1, 239, 633, 0, 10, 67, 27, 408, 6, 5, 1569, 6803, 18, 5558, 13502, 2, 1, 6655, 7899, 633, 18, 4210, 9, 327, 21, 5, 233, 6, 5, 0, 195, 7843, 4937, 107, 1, 58, 1180, 195, 897, 343, 16665, 39, 5, 13715, 4076, 2, 50, 12, 16, 1, 175, 12, 65, 8, 144, 7312, 1, 6655, 7899, 633, 11, 1, 792, 195, 556, 18, 39, 5, 13715, 3, 69, 3395, 1, 83, 280, 1734, 51, 6, 1, 975, 43, 7, 1048, 195, 11, 62, 611, 1, 128, 6, 1, 430, 1734, 2, 1, 430, 365, 1734, 30, 1, 0, 27, 1, 4424, 195, 574, 4210, 8, 15, 242, 9, 1243, 10164, 7, 1, 4424, 2, 40, 1348, 674, 3777, 3, 5, 607, 355, 20, 3, 1, 1965, 674, 3, 78, 276, 155, 3, 25, 391, 8, 26, 33, 658, 35, 35, 35, 35, 35, 35, 35, 35, 35], 1), ([272, 2680, 67, 11, 176, 5988, 4, 272, 947, 115, 5, 271, 4, 318, 27, 1, 2325, 1964, 6, 176, 866, 11, 1, 2748, 8, 15, 3, 155, 5, 22, 44, 1, 15769, 3, 46, 99, 15590, 1139, 3, 1, 718, 2048, 3, 218, 7406, 4529, 1841, 6, 5, 66, 4, 273, 69, 3, 19, 55, 3, 227, 32, 84, 4333, 8, 15, 11194, 552, 3, 21, 69, 19, 77, 3, 11, 62, 405, 11719, 3, 16, 218, 34, 0, 1137, 107, 166, 2, 12, 374, 677, 153, 219, 2, 17, 34, 2181, 16403, 3, 13, 22, 60, 8745, 2362, 1, 4234, 3, 1130, 3, 19820, 244, 6, 1, 4333, 3483, 819, 3, 142, 0, 9554, 1, 15227, 6, 1, 4875, 8, 15, 3254, 4095, 6, 837, 4, 0, 2, 5, 89, 14653, 6, 5, 273, 4, 5, 66, 4, 5, 1199, 2, 2, 5, 9852, 3376, 6, 203, 1, 22, 4, 1, 564, 2, 1, 4308, 9699, 6, 13, 22, 367, 1, 120, 3, 1, 188, 3, 1, 109, 3, 4, 6, 268, 3, 1, 527, 1346, 367, 30, 0, 2153, 11, 115, 6, 1, 800, 133, 3, 43, 12, 391, 8, 26, 151, 88, 14, 565, 7, 135, 14, 34, 6, 62, 512, 395, 3299, 302, 1, 527, 1346, 3, 59, 1, 375, 2753, 27, 794, 1986, 2891, 8209, 7, 1, 11281, 984, 19676, 2, 1, 169, 6, 201, 27, 794, 1986, 8, 15, 406, 3, 342, 18, 1, 0, 6612, 3, 30, 43, 0, 19, 40, 297, 79, 132, 587, 17, 5, 2372, 6, 2071, 246, 81, 40, 3096, 6, 10, 3, 14, 10, 9, 165, 2953, 7, 111, 2, 12, 82, 5, 5281, 51, 6, 10, 177, 66, 2], 1), ([0, 4, 0, 8, 178, 5931, 9819, 8, 9, 5, 303, 887, 6, 1, 518, 6, 838, 2, 1, 11181, 2824, 4, 7494, 14, 0, 13, 0, 170, 9, 1265, 58, 11, 1960, 81, 11, 13, 1070, 2, 10, 9, 5, 816, 14, 43, 115, 85, 56, 72, 68, 19903, 11, 54, 9, 3, 4, 16, 218, 1315, 7, 33, 3, 5, 705, 5980, 434, 6, 729, 14, 11, 64, 103, 7356, 7, 0, 328, 85, 2, 50, 235, 10, 9, 5, 2988, 7, 1, 9578, 1213, 4, 0, 6, 1, 328, 1352, 2, 12, 32, 28, 84, 499, 7, 611, 13, 0, 19, 115, 161, 17, 1, 8, 1352, 0, 8, 11, 1804, 32, 8438, 10, 108, 2515, 7, 33, 589, 11, 12693, 3816, 3397, 2, 50, 256, 708, 121, 12, 56, 7108, 5, 965, 12, 65, 11818, 122, 7, 611, 13, 887, 179, 2, 12, 110, 153, 41, 12762, 169, 19, 3900, 4, 3515, 14, 76, 118, 1315, 11, 138, 2336, 3, 69, 30, 3, 107, 37, 3, 12780, 161, 178, 3, 150, 349, 7, 10470, 67, 4, 392, 14, 1, 182, 9, 5, 60, 286, 273, 502, 3, 21, 14, 130, 28, 384, 14, 256, 52, 1, 208, 7, 14824, 54, 9, 0, 42, 1, 509, 2], 1), ([13, 9, 34, 6, 1, 106, 272, 102, 2760, 2249, 27, 77, 17, 5, 397, 2, 1, 467, 4412, 30, 128, 4, 1, 242, 9, 327, 2, 47, 5, 89, 20, 19, 129, 3, 7, 66, 5861, 3, 47, 19, 1, 440, 426, 3, 25, 212, 32, 11, 131, 1480, 35, 13, 9, 34, 6, 1, 106, 272, 102, 2760, 2249, 27, 77, 17, 5, 397, 2, 1, 467, 4412, 30, 128, 4, 1, 242, 9, 327, 2, 47, 5, 89, 20, 19, 129, 3, 7, 66, 5861, 3, 47, 19, 1, 440, 426, 3, 25, 212, 32, 11, 131, 1480, 35, 13, 9, 34, 6, 1, 106, 272, 102, 2760, 2249, 27, 77, 17, 5, 397, 2, 1, 467, 4412, 30, 128, 4, 1, 242, 9, 327, 2, 47, 5, 89, 20, 19, 129, 3, 7, 66, 5861, 3, 47, 19, 1, 440, 426, 3, 25, 212, 32, 11, 131, 1480, 35], 1), ([3110, 995, 3, 4, 10, 56, 8, 26, 217, 556, 7, 4650, 1, 1432, 6, 1, 216, 2, 1, 1499, 1793, 2936, 58, 81, 5, 180, 5951, 9360, 515, 2, 13, 319, 9, 3570, 3905, 2206, 2, 1, 22, 1511, 445, 3, 4, 635, 10, 1511, 617, 3, 28, 47, 18, 1, 119, 3, 21, 1, 453, 3, 721, 3, 1239, 524, 2, 30, 37, 1797, 2899, 2, 10, 52, 5, 3854, 6713, 19, 815, 1537, 2, 6151, 1730, 9, 1, 68, 188, 1614, 14, 279, 105, 5083, 3, 19130, 17530, 213, 8, 26, 108, 86, 2, 38, 150, 32, 309, 78, 194, 625, 2, 1, 1177, 11338, 57, 24, 6151, 1730, 23, 7, 337, 24, 295, 324, 23, 2, 111, 1, 216, 10836, 319, 4, 1892, 13, 34, 2, 45, 9, 28, 79, 133, 7, 380, 2], 0), ([1, 833, 6, 13, 20, 16, 551, 194, 3, 21, 18, 3848, 2899, 119, 3, 10, 16, 47, 2023, 4, 739, 2, 1349, 1, 22, 130, 28, 170, 95, 6, 1, 884, 6, 1, 325, 3, 10, 16, 8908, 3, 43, 264, 10, 16, 5, 600, 10, 293, 8, 26, 44, 1, 221, 292, 51, 7, 90, 10, 2, 92, 149, 55, 2126, 45, 9, 5, 962, 14, 9, 1976, 14, 422, 6, 167, 1, 706, 44, 1502, 7, 5, 2595, 2, 45, 9, 64, 1383, 11, 13, 22, 2, 1, 97, 948, 232, 46, 43, 9, 47, 13, 253, 2502, 48, 782, 3, 4, 2277, 48, 740, 2, 10, 16, 739, 4, 356, 2, 18, 55, 0, 3, 4, 132, 119, 10, 101, 32, 84, 189, 57, 2], 0), ([13, 9, 5, 2944, 70, 14, 9108, 788, 42, 1, 3067, 5511, 3, 4, 1099, 98, 3073, 7, 1004, 40, 327, 896, 781, 2, 1, 20, 52, 5, 57, 215, 581, 3, 162, 10, 3796, 27, 4924, 1, 417, 775, 5, 126, 108, 79, 2, 0, 0, 4, 1, 364, 6, 1, 188, 30, 885, 2, 13, 9, 5, 58, 6704, 81, 629, 6014, 896, 14, 3796, 58, 27, 70, 81, 231, 3, 4, 10, 2788, 95, 1, 70, 9, 327, 2, 13, 9, 28, 7, 135, 14, 45, 9, 64, 231, 11, 1, 20, 2, 45, 9, 958, 3, 4, 10, 9, 60, 78, 3102, 2, 13, 20, 2572, 25, 11, 208, 248, 3, 4, 944, 25, 8235, 9258, 1, 137, 2, 25, 8, 236, 218, 33, 1516, 54, 8, 15, 11, 153, 7869, 295, 8, 15, 107, 2, 10, 92, 52, 55, 7151, 1628, 27, 321, 2655, 2, 13, 20, 279, 143, 0, 3, 11, 62, 653, 3, 9, 11, 5, 282, 103, 4547, 18, 0, 4, 0, 19, 350, 273, 11, 1, 0, 6, 6014, 896, 934, 2], 1), ([7202, 0, 207, 1, 2667, 3, 5, 420, 22, 1675, 438, 14, 2099, 2687, 56, 90, 5, 9955, 530, 170, 27, 416, 4, 27, 66, 4, 3358, 2099, 31, 1096, 945, 1068, 973, 11, 1, 7659, 3, 4, 4115, 3, 5, 13119, 1757, 1187, 326, 11, 178, 896, 0, 11, 5277, 490, 3, 265, 1, 753, 42, 0, 3, 5, 463, 22, 1675, 7952, 42, 1, 60, 173, 9947, 6, 0, 19870, 14, 3598, 1, 1896, 0, 3, 442, 2, 0, 4, 105, 83, 22, 1, 175, 159, 8, 26, 1840, 7, 575, 42, 1, 13343, 6, 1120, 8576, 2, 1573, 161, 107, 1, 16997, 7767, 3, 18, 1, 10514, 9732, 6, 1, 22, 1675, 11, 389, 5628, 3, 2687, 3, 218, 1479, 6, 31, 66, 3, 5, 303, 12439, 175, 6, 3370, 1634, 4625, 3, 15463, 5, 0, 182, 6, 3303, 14, 9, 473, 4215, 3, 58, 2803, 3, 6455, 4, 0, 81, 235, 31, 12932, 76, 402, 36, 1, 66, 2, 10, 8, 15, 64, 591, 1, 20, 16, 43, 6124, 36, 99, 66, 3, 7, 1, 222, 14, 34, 389, 552, 6, 852, 16, 1335, 309, 11, 1, 2312, 654, 2051, 3, 4, 10, 16, 288, 179, 2162, 14, 0, 10, 17, 166, 2687, 353, 2, 732, 10537, 894, 51, 2, 1, 18241, 141, 18, 99, 12595, 705, 4, 6452, 3303, 3, 4, 6, 268, 1, 0, 6, 7100, 1957, 14, 9, 17, 353, 5, 434, 6, 0, 12103, 17, 105, 11, 3468, 2338, 46, 1, 3190, 2, 1, 68, 4810, 12, 174, 18, 1, 20, 9, 2687, 8, 19688, 2388, 1121, 4, 383, 55, 6, 1, 10930, 765, 11, 1, 97, 491, 2, 1, 70, 197, 0, 11, 5, 11027, 6058, 1380, 3, 69, 1, 2088, 68, 2674, 7, 0, 2, 12, 263, 1, 2813, 6030, 2310, 6, 0, 4, 0, 11139, 5, 2308, 482, 19, 14, 513, 2, 2687, 65, 13874, 314, 11, 2162, 19, 725, 161, 4, 993, 11, 8103, 7, 1606, 255, 166, 0, 353, 3, 1, 10015, 1278, 6, 484, 3, 383, 1, 13360, 5252, 6, 1, 22, 1675, 14, 16, 473, 11, 99, 19167, 490, 39, 14, 66, 2, 0, 16, 28, 1, 945, 1068, 973, 5, 355, 2428, 19, 370, 8, 15, 4514, 355, 6, 1, 66, 3, 4585, 6185, 3, 4303, 7, 32, 84, 3, 4, 2687, 1629, 18, 6185, 1013, 163, 1, 20, 16, 63, 615, 2, 12780, 161, 315, 4, 34, 552, 6, 852, 346, 3, 0, 9, 140, 34, 6, 1, 128, 22, 1675, 1308, 34, 9, 1291, 7, 1828, 2, 1385, 14, 212, 1525, 19, 146, 2], 1), ([339, 6, 2739, 922, 4653, 7415, 1686, 2, 3, 11, 54, 9, 243, 31, 128, 242, 7, 1374, 2, 29, 305, 3179, 10371, 3, 5, 134, 6, 10568, 2851, 4, 11888, 2, 29, 8, 15, 5, 337, 5528, 5721, 42, 1, 1235, 3, 41, 496, 7, 427, 5, 3901, 0, 21, 52, 679, 95, 6, 31, 1352, 2, 1, 424, 6, 1, 9940, 369, 3, 259, 39, 593, 5196, 3, 9, 5, 2626, 6849, 14, 2644, 3225, 7, 1152, 10371, 2, 1, 22, 9, 49, 93, 10371, 52, 7, 18381, 1, 806, 0, 4301, 3, 28, 288, 21, 1567, 2, 1, 372, 30, 54, 104, 13, 22, 312, 2, 7415, 9, 89, 3, 4, 5196, 3, 1, 128, 297, 11, 20, 480, 3, 423, 5, 10568, 0, 31, 128, 970, 170, 11, 161, 2, 10875, 9257, 423, 166, 1192, 242, 17, 5196, 8, 15, 79, 1136, 330, 2, 1, 22, 8035, 27, 1, 9400, 5, 126, 108, 590, 24, 162, 64, 121, 784, 1, 648, 10, 16, 11, 1, 8842, 23, 3, 4, 5, 180, 6, 1, 109, 30, 47, 34, 0, 86, 24, 2909, 14960, 8, 15, 442, 2, 18849, 9, 47, 43, 484, 23, 3, 21, 1, 22, 9, 5, 11339, 754, 112, 502, 2, 10, 8, 15, 4797, 4, 0, 2, 5, 386, 22, 2], 1), ([13, 9, 28, 1, 252, 22, 12, 32, 114, 6, 791, 10202, 21, 10, 9, 556, 2, 14, 0, 266, 7, 1, 63, 411, 10508, 275, 2, 13, 175, 8, 15, 112, 6, 430, 12, 32, 114, 12, 174, 98, 37, 7, 33, 4368, 2, 44, 1, 3858, 2, 2, 2, 3, 863, 1128, 1271, 13888, 29, 3982, 3, 30, 458, 0, 39, 1, 0, 6, 31, 808, 4, 456, 3134, 2], 0), ([13, 9, 1, 350, 20, 459, 27, 1, 125, 4, 219, 6, 7136, 4911, 1558, 355, 3, 313, 4176, 18494, 3, 132, 587, 17, 313, 2151, 2, 6487, 2898, 9, 92, 6852, 459, 27, 31, 125, 2, 277, 5884, 294, 9, 171, 7, 90, 5, 20, 27, 1, 125, 6, 2676, 13797, 310, 2, 1, 454, 9, 3, 14, 1, 70, 9, 28, 60, 78, 572, 2, 45, 30, 115, 1264, 195, 622, 698, 14, 32, 58, 1175, 4, 497, 81, 7611, 3, 4, 1, 175, 118, 226, 1, 1817, 418, 171, 18, 105, 247, 6, 9767, 2, 6964, 7316, 52, 117, 679, 80, 29, 9, 28, 806, 17, 4911, 17, 2151, 9, 24, 4, 64, 0, 13, 66, 190, 3, 1018, 11, 6487, 2898, 23, 3, 4, 29, 9, 79, 132, 284, 81, 0, 2151, 2, 1, 175, 130, 28, 4145, 34, 694, 1503, 2032, 754, 1, 188, 2, 1, 2626, 3, 5983, 0, 29, 6345, 51, 18, 3, 46, 31, 330, 3, 4, 1, 548, 91, 8, 26, 82, 79, 11, 1, 103, 6, 3376, 2, 1, 128, 181, 6, 1, 20, 9, 2083, 10368, 1003, 1422, 5594, 7, 82, 415, 2, 272, 307, 37, 14, 3, 256, 943, 11, 1, 0, 504, 6, 1, 1558, 918, 11, 1, 3944, 46, 303, 837, 1514, 8, 26, 677, 10, 2], 1), ([43, 115, 4776, 4421, 30, 11831, 2, 45, 30, 115, 1000, 19, 14, 3, 21, 606, 10, 9, 1, 348, 7, 651, 192, 5, 1280, 626, 7, 1, 3730, 6, 5, 919, 2, 1, 354, 9, 1737, 80, 10, 74, 7, 33, 8, 9810, 8, 3, 17, 1, 341, 70, 387, 9, 5, 2072, 3, 2448, 341, 1421, 2, 10, 210, 11, 199, 33, 1, 1830, 341, 70, 11, 1, 610, 1109, 2, 11, 1262, 3387, 1109, 10, 701, 6, 1, 7116, 6, 4813, 8431, 14, 31, 125, 3, 4, 1, 466, 6, 43, 115, 190, 96, 30, 5650, 39, 1841, 6, 1, 354, 2, 63, 31, 204, 330, 6, 115, 161, 446, 5, 134, 156, 354, 58, 81, 96, 2, 7, 720, 147, 5, 341, 70, 7, 1, 451, 16, 218, 171, 7, 33, 10315, 2, 313, 4086, 124, 5, 1896, 298, 2, 29, 118, 506, 11, 7, 8377, 7, 308, 10, 67, 46, 357, 3789, 2761, 7, 9945, 27, 1, 70, 2, 10, 9, 584, 4, 303, 3, 18, 1348, 119, 2, 1, 68, 3072, 0, 9, 1, 357, 6, 215, 7, 8559, 1, 5849, 464, 18033, 2, 99, 1353, 840, 19, 5, 20, 319, 6, 5, 4776, 887, 7, 33, 387, 5, 887, 3, 21, 12, 110, 99, 1159, 7, 357, 13, 2827, 19, 13, 20, 2, 99, 28, 5, 12103, 434, 6, 22, 261, 3, 21, 10, 9, 584, 4, 1021, 80, 12, 218, 110, 6, 11957, 8, 15, 106, 59, 12, 110, 6, 1, 354, 3, 99, 36, 14, 648, 6, 12737, 4, 4671, 4, 849, 4760, 2], 1), ([12, 32, 118, 114, 105, 6, 3117, 841, 8, 15, 2706, 112, 3, 17, 73, 4640, 118, 969, 62, 627, 2, 12, 32, 114, 3, 4, 3075, 5351, 2462, 3, 4, 6831, 3036, 8, 15, 170, 3, 4, 32, 441, 6, 73, 5355, 2, 12, 16, 3, 197, 3, 1081, 658, 18, 13, 20, 2, 50, 13, 22, 9, 105, 6618, 6, 3117, 841, 8, 15, 1208, 17, 5, 175, 3, 62, 1943, 65, 33, 7, 82, 5, 298, 3, 4, 580, 2905, 1, 66, 4, 617, 6, 401, 2, 12, 591, 50, 55, 6, 1, 83, 804, 9519, 296, 1, 173, 20, 14, 12, 8, 241, 114, 2, 12, 56, 68, 2055, 3, 42, 73, 4340, 0, 800, 3, 14, 73, 0, 6, 3117, 841, 52, 10366, 98, 7, 1, 14785, 6, 13, 434, 6, 170, 2, 12, 68, 1473, 10327, 2, 1351, 3, 11, 5, 350, 520, 824, 3, 4, 140, 452, 12, 8, 241, 960, 62, 301, 2, 1, 804, 6147, 1857, 523, 10, 37, 2, 2, 2, 2, 2, 2, 2, 1719, 326, 11, 8737, 490, 367, 93, 56, 25, 519, 7, 1307, 5, 202, 416, 2696, 3, 24, 17, 1, 1993, 3720, 5552, 23, 3, 11, 147, 5, 341, 66, 53, 64, 591, 45, 16, 147, 5, 865, 242, 39, 37, 2, 1719, 3070, 1791, 16, 97, 171, 7, 1607, 1, 22, 2, 2, 2, 367, 29, 210, 32, 229, 13, 1104, 55, 1502, 3, 361, 58, 66, 7, 90, 43, 3, 6, 268, 2, 162, 1, 501, 16, 2559, 3, 1, 833, 74, 55, 5049, 2, 588, 35, 277, 28, 2, 12, 8, 148, 735, 35, 13, 22, 16, 43, 13168, 18, 4372, 1470, 8, 15, 3, 3605, 145, 3, 4, 2390, 6238, 3, 14, 277, 63, 29, 412, 8, 26, 32, 102, 79, 6, 10, 2, 24, 1290, 3070, 35, 33, 254, 7, 1298, 2251, 2, 2, 2, 57, 673, 35, 23, 1719, 6831, 3036, 719, 48, 181, 11, 282, 2081, 2, 367, 4, 10, 1202, 35, 48, 1090, 6, 5, 0, 3, 41, 167, 85, 8, 15, 679, 151, 248, 3, 16, 17, 1337, 17, 1, 234, 61, 16, 361, 2, 124, 61, 63, 187, 7, 33, 45, 53, 83, 0, 1719, 93, 115, 1907, 6947, 65, 1252, 7, 217, 7, 1, 1310, 3, 4, 8029, 5, 0, 548, 1842, 14, 38, 76, 925, 9052, 1, 1907, 3, 4, 29, 8, 241, 132, 390, 248, 2, 2, 2, 46, 324, 53, 1719, 59, 1365, 0, 3, 24, 5351, 2462, 23, 3, 265, 88, 1, 1907, 7, 19154, 45, 30, 64, 4725, 255, 3, 93, 115, 1907, 6947, 3, 206, 5, 1084, 3, 65, 32, 1512, 5, 983, 3, 24, 79, 346, 281, 5, 983, 23, 152, 51, 7, 1, 964, 1310, 3, 3336, 1, 548, 1842, 7, 1268, 510, 96, 53, 1719, 12162, 2, 0, 315, 4561, 3, 7, 32, 361, 1, 9227, 177, 289, 7, 1307, 77, 2, 143, 3, 100, 3, 11, 73, 1343, 1754, 3, 159, 8, 26, 29, 63, 349, 7, 6179, 1, 9227, 8, 15, 406, 53, 14, 210, 32, 1910, 1, 3154, 29, 16, 284, 19, 2, 2, 2, 5, 9227, 65, 32, 326, 96, 47, 7, 3479, 315, 13467, 2, 4, 143, 124, 10, 198, 1357, 3, 18056, 3, 0, 3, 24, 1, 9227, 8, 15, 12079, 23, 3, 43, 211, 7, 217, 4, 347, 51, 53, 1719, 12, 382, 14, 138, 1153, 8, 26, 131, 785, 1907, 6947, 2, 38, 74, 5, 286, 4932, 3, 4, 159, 8, 26, 187, 256, 14418, 2, 21, 1, 1459, 74, 64, 289, 7, 110, 14, 38, 567, 8, 26, 2, 7, 98, 10, 16, 5, 1755, 831, 2, 143, 100, 3, 59, 117, 6, 1, 86, 460, 8713, 987, 7, 1272, 67, 1, 0, 53, 3, 76, 38, 28, 578, 192, 2, 24, 97, 6, 37, 3, 93, 115, 6947, 65, 32, 373, 987, 206, 769, 5, 5089, 17, 5, 10055, 53, 9, 13, 3117, 841, 8, 15, 319, 6, 6126, 564, 3, 46, 5502, 8, 15, 53, 23, 2, 661, 98, 192, 65, 32, 4375, 1, 86, 221, 8, 15, 1734, 3, 5750, 67, 73, 2218, 3, 4, 1, 3113, 6947, 65, 58, 243, 32, 361, 67, 2, 50, 28, 3, 45, 36, 225, 65, 33, 10662, 86, 460, 925, 2, 24, 205, 12038, 146, 7, 90, 3, 46, 2391, 98, 352, 35, 23, 1719, 54, 548, 2491, 11, 13, 630, 3, 65, 32, 1509, 13520, 478, 3, 24, 6831, 3036, 23, 3, 7, 47, 10825, 208, 88, 1, 1907, 3, 4, 4656, 5, 513, 18, 1, 6947, 3, 14, 61, 65, 28, 0, 7, 98, 97, 53, 61, 74, 64, 4245, 3, 64, 19628, 12151, 4, 1317, 3, 13, 16, 107, 37, 3, 473, 5, 5089, 831, 2, 2, 2, 714, 34, 58, 53, 1719, 143, 567, 8, 26, 1, 1907, 14825, 3, 24, 1388, 9622, 23, 3, 47, 32, 2466, 1, 16218, 7869, 5, 211, 66, 601, 53, 6068, 7225, 35, 1, 8137, 3, 29, 101, 32, 2873, 2, 1719, 41, 16, 14, 0, 3, 24, 1, 113, 3, 28, 1, 297, 23, 3, 18, 1, 5988, 1121, 3, 14, 3, 5651, 3, 0, 3, 4, 307, 29, 690, 1, 3909, 16, 4238, 0, 3, 21, 255, 29, 314, 412, 8, 26, 1048, 10, 2, 2, 2, 2, 2, 2646, 35, 270, 131, 568, 192, 35, 4, 31, 7299, 35, 54, 5, 0, 61, 16, 35, 35, 35, 203, 76, 458, 1337, 2, 1719, 59, 0, 3118, 3, 143, 124, 12162, 2, 0, 3, 5775, 0, 1, 3226, 41, 76, 534, 28, 5, 181, 6, 1, 3079, 53, 3, 24, 12, 2, 997, 2, 80, 1003, 1, 3532, 253, 61, 101, 151, 3, 4, 100, 61, 412, 8, 26, 3, 100, 101, 100, 412, 8, 26, 53, 23, 205, 77, 5, 1016, 35, 1719, 41, 3, 107, 317, 1, 1907, 6947, 4396, 14, 1, 10964, 270, 27, 2011, 0, 3, 412, 8, 26, 0, 73, 992, 1314, 1875, 596, 51, 6, 1, 1907, 4409, 7, 33, 55, 6, 1, 10964, 53, 1719, 784, 1, 137, 6, 1, 20, 3, 5, 2634, 1627, 16, 589, 7, 32, 84, 2123, 11, 1, 5561, 654, 3, 510, 69, 6169, 16336, 11561, 51, 19, 5, 1218, 2, 2, 2, 2, 121, 124, 1, 9001, 217, 42, 53, 24, 1, 0, 195, 0, 23, 2, 10, 16, 92, 7, 33, 5338, 14, 38, 651, 88, 1, 17179, 3, 43, 29, 101, 15735, 314, 2, 1, 1907, 7652, 1885, 8, 26, 7640, 49, 1, 6216, 3, 37, 1218, 211, 53, 5002, 35, 1719, 107, 147, 5, 9128, 240, 1, 7869, 74, 3401, 88, 1, 9227, 8, 15, 910, 3, 54, 247, 6, 1866, 16, 1595, 2, 478, 1010, 7, 82, 42, 1, 1907, 14825, 3, 317, 14, 29, 16, 156, 7, 33, 5, 2320, 19, 9905, 3, 675, 7, 48, 2036, 53, 1719, 4, 239, 3, 21, 435, 28, 225, 3, 54, 8, 15, 18, 1, 4658, 17643, 14, 5351, 124, 53, 93, 379, 35, 16, 14, 444, 7, 7543, 31, 7119, 7, 720, 138, 460, 7, 1502, 53, 29, 560, 3, 246, 3, 44, 5, 134, 41, 0, 5, 1311, 27, 5, 6140, 12527, 3, 142, 262, 7, 3479, 5, 0, 2302, 35, 0, 35, 35, 35, 35, 83, 81, 1, 1613, 120, 2390, 234, 86, 119, 4, 456, 4372, 980, 2, 2, 2, 2, 2, 2, 12456, 3, 12456, 3, 12456, 2, 2243, 13, 87, 205, 194, 2862, 88, 1, 20, 7, 347, 401, 1094, 724, 7, 462, 73, 301, 46, 28, 35, 2], 0), ([42, 1, 54, 16, 61, 529, 53, 7077, 8100, 5662, 305, 5, 983, 11, 1, 699, 41, 9, 9664, 18, 5, 687, 4322, 24, 35, 23, 19, 5, 837, 418, 1246, 5, 7678, 41, 496, 7, 378, 166, 0, 2, 0, 11005, 9, 2314, 4, 668, 3, 5, 0, 11, 1600, 6, 387, 2, 659, 13, 16, 5, 5366, 6, 122, 19, 99, 8734, 3, 3293, 0, 24, 41, 92, 2981, 17, 34, 6, 1, 1095, 23, 1022, 3, 1, 137, 1939, 30, 18232, 3, 7, 33, 14828, 2, 5662, 8, 15, 2535, 1285, 4302, 56, 413, 5023, 57, 87, 4, 2201, 64, 513, 93, 337, 1, 234, 3, 21, 133, 61, 8, 15, 7993, 4, 25, 56, 72, 1, 2161, 1939, 2, 64, 419, 42, 1936], 0), ([12, 1241, 7, 72, 13, 36, 1, 176, 866, 1961, 22, 1420, 11, 8829, 3002, 18, 62, 1364, 2, 75, 76, 203, 186, 1500, 18, 1, 5346, 6, 1, 120, 4, 258, 10, 7, 33, 2144, 703, 2, 10, 16, 60, 78, 532, 18, 590, 2705, 2, 1, 1019, 299, 76, 485, 80, 269, 19, 5, 341, 2, 10, 74, 40, 216, 1040, 1436, 7, 5, 60, 157, 4, 595, 3119, 13, 22, 9, 49, 5, 196, 257, 41, 9, 6777, 39, 5, 2412, 3451, 7, 347, 48, 831, 18, 48, 5237, 340, 2, 45, 9, 92, 5, 823, 974, 36, 1, 137, 69, 969, 77, 139, 2924, 2, 13, 15603, 904, 1, 3536, 244, 2, 12, 65, 122, 7, 72, 13, 17, 5, 389, 807, 22, 2, 367, 4723], 1), ([12, 8, 144, 335, 115, 16537, 771, 2645, 13, 22, 3, 4, 1, 68, 184, 12, 32, 114, 14, 38, 37, 32, 11, 1127, 30, 356, 4, 2121, 2, 97, 6, 37, 3, 38, 334, 157, 18537, 8, 0, 35, 93, 79, 58, 813, 56, 25, 82, 53, 64, 1654, 3, 64, 0, 3, 64, 0, 2, 47, 5, 8267, 4, 5, 434, 6, 3297, 2, 32, 250, 3, 0, 35, 45, 9, 64, 870, 14, 13, 22, 226, 139, 7, 5, 644, 378, 2, 113, 967, 3, 54, 126, 38, 74, 3, 536, 3, 130, 198, 5, 233, 6, 66, 3, 4, 12, 110, 13, 9, 3963, 121, 13, 22, 1511, 2, 197, 3, 59, 1, 22, 226, 171, 3, 12, 258, 1, 231, 1630, 67, 6903, 2, 12, 91, 8, 26, 384, 7, 135, 14, 45, 9, 5, 172, 6, 231, 2, 50, 235, 3, 45, 30, 58, 395, 121, 1, 8267, 56, 8, 26, 33, 114, 36, 37, 3, 4, 1, 85, 30, 47, 1039, 2, 197, 3, 75, 123, 14, 45, 213, 8, 26, 171, 7, 33, 105, 2180, 3, 4, 14, 1, 8267, 9, 47, 0, 99, 66, 2, 13, 74, 5, 780, 3559, 244, 7, 83, 112, 14, 2806, 73, 201, 149, 0, 3, 147, 17, 903, 975, 24, 166, 22, 14, 52, 84, 8129, 39, 55, 764, 17, 116, 356, 23, 2, 1251, 3, 12, 110, 14, 764, 41, 174, 521, 5794, 6, 554, 1, 751, 32, 74, 73, 689, 14136, 0, 4193, 36, 2952, 3, 21, 14, 8, 15, 47, 77, 2, 428, 3, 1, 109, 244, 157, 3, 4, 1, 831, 9, 147, 14, 10, 71, 101, 562, 7, 256, 11, 1, 208, 2260, 2, 3719, 3, 1, 2475, 30, 332, 157, 3, 4, 36, 219, 3, 10, 8, 15, 5, 126, 1236, 7, 111, 2, 37, 11, 37, 3, 13, 34, 8, 15, 5, 2290, 2], 1), ([1, 413, 6124, 14209, 222, 9, 5836, 8, 15, 1026, 22, 3, 5836, 8, 15, 321, 22, 2, 14676, 3, 10, 1045, 2059, 107, 0, 3, 1156, 14, 1, 1012, 9, 4732, 81, 1, 892, 7402, 3, 162, 435, 64, 346, 15550, 2, 670, 1, 1127, 1327, 9, 14, 1, 22, 0, 1, 5295, 1852, 2, 28, 43, 2, 1, 117, 2901, 217, 42, 5449, 286, 10929, 2, 968, 42, 1, 3999, 12068, 3, 10644, 42, 40, 4731, 5454, 6331, 2, 21, 11, 303, 5836, 1655, 3, 38, 30, 203, 11426, 3, 203, 262, 7, 992, 73, 5626, 2, 968, 875, 5, 2244, 6, 3999, 1381, 4, 328, 0, 658, 18, 1, 0, 1974, 15138, 3, 142, 10644, 944, 0, 116, 27, 1, 818, 18, 48, 527, 2, 0, 3, 1, 1191, 175, 3, 107, 2237, 1, 0, 1953, 17, 1410, 4, 2090, 3, 100, 1089, 7, 1, 564, 2, 40, 2402, 13626, 39, 0, 3, 17422, 14760, 3, 0, 3, 14, 52, 7, 390, 16834, 7, 0, 1, 780, 0, 6, 1, 3814, 3, 15498, 5, 9211, 36, 1, 173, 66, 2, 10, 9, 13, 2402, 14, 1, 117, 2901, 992, 42, 3, 162, 10, 191, 635, 51, 6, 5137, 2, 840, 3, 59, 10644, 2967, 39, 5, 420, 2054, 11, 1, 0, 6, 1, 1920, 3, 1, 2402, 9, 47, 17, 18069, 3, 4, 1, 85, 47, 17, 415, 2991, 3, 128, 17589, 39, 40, 178, 4464, 5187, 3, 156, 4375, 7, 5, 3116, 6, 314, 3, 1209, 190, 2941, 4, 3431, 4, 687, 1808, 2, 5, 1373, 6936, 711, 3, 102, 63, 58, 1020, 18, 1, 7418, 6, 55, 363, 1370, 393, 573, 190, 3, 814, 11, 39, 55, 0, 21, 5245, 5, 1958, 434, 6, 321, 480, 2, 11, 5, 0, 3619, 3, 45, 9, 5836, 8, 15, 653, 27, 1, 6118, 2, 47, 5, 0, 3164, 11, 1, 9112, 6, 398, 10109, 2, 4, 100, 45, 9, 1, 1920, 3, 1, 3607, 334, 7, 5849, 882, 3, 39, 497, 1021, 4, 3733, 3, 0, 3, 1370, 4, 354, 2, 1, 711, 121, 1, 117, 2901, 104, 122, 3, 4364, 11, 1040, 39, 1, 6913, 1852, 6134, 1, 780, 711, 11, 862, 1920, 3, 121, 0, 701, 48, 507, 5, 70, 2, 10, 9, 5, 10146, 0, 11, 5, 0, 3607, 2, 5, 4641, 0, 11, 5, 18069, 623, 2, 1, 285, 243, 3223, 7, 1, 12714, 6, 89, 4258, 11, 451, 3, 1, 896, 4427, 2763, 7, 1273, 2, 5, 14292, 3, 40, 7407, 2, 0, 8, 15, 117, 1961, 112, 24, 1, 710, 0, 4, 1, 321, 14209, 222, 23, 30, 3359, 1689, 81, 1, 892, 5048, 3, 21, 14, 9, 2359, 95, 6, 1, 4732, 1012, 4, 1, 5479, 2066, 2962, 24, 7361, 1223, 3, 0, 842, 23, 2, 21, 59, 10, 265, 192, 7, 10, 3, 10, 8, 15, 747, 29, 1582, 8, 26, 415, 1, 1224, 2], 1), ([5, 8140, 284, 19, 5, 298, 9, 4150, 19, 5, 632, 134, 11, 5, 420, 10101, 525, 3, 949, 7, 37, 2784, 6, 5906, 2, 2182, 9, 888, 188, 17, 1, 9460, 0, 1332, 7, 104, 5, 1597, 3101, 4, 82, 51, 6, 525, 21, 1428, 29, 56, 8, 26, 992, 1, 417, 525, 2, 3753, 130, 54, 29, 130, 128, 3, 394, 5, 2481, 587, 17, 13096, 42, 5583, 3, 1, 157, 632, 134, 2, 5390, 17, 5, 6979, 2026, 4, 5576, 17, 5, 6042, 7408, 2203, 51, 1, 494, 188, 2, 1, 234, 39, 1105, 313, 4, 3543, 12945, 1359, 6244, 1175, 4, 497, 3, 4, 313, 8, 15, 453, 2141, 5, 1377, 17034, 1675, 848, 2, 1900, 4, 60, 432, 3, 10, 1716, 1, 503, 11, 42, 1, 378, 4, 118, 1455, 67, 2], 1), ([13, 209, 52, 99, 3850, 4, 2480, 7072, 3, 4, 1, 1657, 9, 1, 418, 3, 133, 2, 45, 8, 15, 40, 19236, 1132, 6, 0, 3, 18, 40, 4113, 0, 6, 1, 941, 12527, 8, 15, 2648, 3, 21, 1, 765, 22, 9, 5, 579, 3887, 3, 1, 1893, 387, 0, 81, 629, 2, 36, 219, 3, 1, 231, 8868, 7, 5, 6897, 17, 1, 375, 1045, 1, 0, 0, 6, 1, 16759, 3, 41, 806, 226, 415, 405, 27, 2, 37, 11, 37, 3, 1417, 2, 14, 307, 3, 45, 8, 15, 5, 6014, 4528, 482, 7, 1, 215, 4, 231, 14, 210, 1204, 1, 11132, 6, 3784, 764, 2, 13, 4055, 2280, 79, 6, 99, 66, 971, 1, 1375, 10994, 6, 1, 126, 431, 3, 41, 801, 7, 5503, 88, 1, 10584, 6, 325, 31, 340, 3069, 19, 96, 2], 0), ([546, 10, 7, 0, 7, 270, 27, 5, 57, 127, 2, 428, 29, 4, 0, 30, 573, 73, 204, 466, 987, 6, 0, 1300, 4524, 7, 4524, 2, 12, 32, 7, 135, 14, 12, 122, 203, 6, 138, 279, 5, 228, 172, 2, 38, 30, 332, 54, 672, 1166, 5760, 2, 0, 102, 10, 202, 18, 40, 3974, 14, 373, 51, 11, 1, 345, 3100, 2, 10, 210, 28, 32, 84, 15702, 3, 21, 31, 127, 16, 71, 1056, 7, 3305, 6, 85, 51, 45, 14, 122, 1166, 0, 279, 2, 12, 32, 7, 135, 14, 51, 6, 37, 1, 1166, 5760, 279, 18, 64, 120, 3, 13, 52, 7, 33, 1, 34, 18, 1, 94, 650, 120, 129, 102, 2, 14, 9, 143, 12, 44, 10, 43, 79, 3, 10, 9, 47, 147, 5, 353, 11, 1, 1166, 5760, 480, 2, 12, 263, 13, 9, 47, 147, 5, 89, 127, 3, 50, 25, 91, 8, 26, 44, 10, 2, 1290, 45, 76, 3305, 41, 1782, 10, 4, 3305, 41, 446, 10, 2], 1), ([5, 0, 3888, 292, 11, 1, 182, 6, 7662, 7753, 2210, 10494, 35, 13, 22, 9, 570, 35, 3372, 3, 25, 32, 7, 32, 5, 1254, 19, 112, 18, 2006, 3, 3471, 403, 3, 2516, 119, 3, 4, 3229, 120, 1175, 2, 21, 50, 25, 90, 3, 25, 8, 185, 11, 19, 34, 618, 6, 5, 1777, 2, 2733, 1767, 305, 8925, 0, 3, 7753, 251, 8, 15, 1617, 6, 4661, 2, 8925, 8, 15, 0, 125, 9, 1294, 88, 0, 18, 1, 2131, 4843, 6, 10473, 4687, 24, 13394, 12015, 23, 3, 48, 14486, 5377, 3, 4, 3, 5171, 3, 4447, 2246, 24, 1575, 6439, 80, 3818, 17, 218, 23, 3, 8925, 8, 15, 0, 1442, 2, 21, 8925, 52, 84, 3105, 5, 849, 3, 463, 962, 3, 4, 1, 4843, 6, 10473, 4, 4447, 227, 47, 720, 10, 7, 1, 2137, 2, 714, 11, 1, 9322, 5868, 0, 24, 5, 386, 9914, 8045, 3, 11, 389, 1492, 253, 18, 15831, 7, 3387, 4227, 23, 3, 41, 9, 262, 4705, 283, 7, 2142, 8925, 8, 15, 649, 605, 24, 593, 6335, 3, 1686, 2, 23, 3, 1, 0, 1384, 6, 1, 2210, 41, 8, 15, 4751, 7450, 18, 5868, 7, 2608, 8925, 4, 3, 2100, 0, 24, 8100, 5662, 23, 3, 7818, 4, 8925, 8, 15, 34, 303, 0, 3, 4, 25, 30, 11, 19, 5, 0, 3184, 6, 4380, 4, 786, 3421, 2, 7279, 1338, 44, 13, 30, 10315, 7, 11522, 24, 130, 256, 392, 8, 1932, 5012, 8, 53, 23, 3, 21, 59, 229, 78, 3, 56, 33, 189, 1667, 164, 35, 5, 645, 12256, 14, 9, 1687, 7, 105, 57, 220, 9, 1, 1051, 6, 6554, 7918, 41, 123, 14, 734, 6, 219, 1, 1429, 184, 30, 28, 307, 21, 114, 11, 40, 2673, 46, 5, 169, 2, 1767, 3, 6439, 3, 5662, 3, 4, 1, 364, 37, 170, 300, 43, 78, 4, 30, 685, 272, 5, 89, 66, 14, 10, 9, 283, 28, 7, 427, 1572, 11, 39, 73, 1566, 4, 4999, 2, 12015, 9, 685, 1, 4642, 5008, 133, 3, 21, 61, 68, 4049, 689, 7, 810, 95, 61, 9, 3939, 39, 1767, 3, 6439, 3, 4325, 1823, 2, 8045, 9, 5, 12027, 11, 1, 18008, 19158, 223, 3, 261, 25, 110, 6, 1, 10686, 1667, 0, 25, 129, 124, 72, 35, 35, 45, 30, 92, 734, 6, 1124, 1407, 14, 25, 8, 236, 2517, 11, 420, 24, 21, 3, 2245, 3, 37, 60, 164, 23, 603, 3, 571, 4723, 5974, 3, 16866, 4660, 3, 4861, 0, 3, 4, 11087, 19660, 2, 175, 498, 3093, 944, 1, 1012, 8375, 4, 1, 16199, 120, 703, 1849, 1, 202, 1258, 2, 713, 212, 92, 33, 102, 6, 593, 0, 8, 15, 919, 3, 3596, 3856, 7, 1006, 5, 2210, 1561, 709, 5, 2210, 1561, 2, 1, 403, 9, 12508, 136, 18, 89, 404, 3, 2078, 2342, 39, 1, 160, 24, 12, 8, 241, 33, 1615, 7, 2334, 14, 5, 172, 6, 13, 493, 16, 7779, 23, 2, 169, 3, 50, 25, 187, 7, 72, 5, 756, 6, 7918, 402, 54, 38, 90, 128, 4, 272, 5, 89, 66, 402, 10, 3, 82, 131, 910, 27, 13, 34, 2, 50, 28, 19, 235, 324, 3, 10, 87, 270, 25, 11, 5, 57, 1181, 4, 104, 25, 443, 35], 1)]\n"
          ]
        }
      ]
    },
    {
      "cell_type": "code",
      "source": [
        "def text_pipeline(x): return vocab(list(tokenizer(x)))\n",
        "def label_pipeline(x): return int(x)\n",
        "    \n",
        "def collate_batch(batch):\n",
        "    label_list, text_list, offsets = [], [], [0]\n",
        "    for (_text, _label) in batch:\n",
        "        label_list.append(label_pipeline(_label))\n",
        "        processed_text = torch.tensor(text_pipeline(_text), dtype=torch.int64)\n",
        "        text_list.append(processed_text)\n",
        "        offsets.append(processed_text.size(0))\n",
        "    label_list = torch.tensor(label_list, dtype=torch.int64)\n",
        "    offsets = torch.tensor(offsets[:-1]).cumsum(dim=0)\n",
        "    text_list = torch.cat(text_list)\n",
        "    return text_list.to(DEVICE), label_list.to(DEVICE), offsets.to(DEVICE)"
      ],
      "metadata": {
        "id": "Is9qjucjgst-"
      },
      "execution_count": null,
      "outputs": []
    },
    {
      "cell_type": "code",
      "source": [
        "from torch.utils.data import DataLoader\n",
        "import torchdata.datapipes as dp\n",
        "from torchtext.data.functional import to_map_style_dataset\n",
        "\n",
        "train_dataset = to_map_style_dataset(train_dp)\n",
        "val_dataset = to_map_style_dataset(val_dp)\n",
        "test_dataset = to_map_style_dataset(test_dp)\n",
        "\n",
        "train_loader = DataLoader(train_dataset, batch_size=BATCH_SIZE, shuffle=True, collate_fn=collate_batch)\n",
        "val_loader = DataLoader(val_dataset, batch_size=BATCH_SIZE, shuffle=True, collate_fn=collate_batch)\n",
        "test_loader = DataLoader(test_dataset, batch_size=BATCH_SIZE, shuffle=True, collate_fn=collate_batch)"
      ],
      "metadata": {
        "id": "9BAqcnmBlvUh"
      },
      "execution_count": null,
      "outputs": []
    },
    {
      "cell_type": "code",
      "source": [
        "for batch_idx, batch_data in enumerate(train_loader):\n",
        "  print(batch_idx, batch_data)\n",
        "  break"
      ],
      "metadata": {
        "colab": {
          "base_uri": "https://localhost:8080/"
        },
        "id": "laJOyWOaxY7U",
        "outputId": "763d5e9f-efc7-43c8-ea1c-fd6b1e722b4c"
      },
      "execution_count": null,
      "outputs": [
        {
          "output_type": "stream",
          "name": "stdout",
          "text": [
            "0 (tensor([  13,    9,  189,  ...,    2, 1351,    2], device='cuda:0'), tensor([0, 0, 0, 1, 0, 1, 0, 1, 1, 1, 1, 1, 0, 0, 1, 0, 1, 0, 1, 0, 0, 1, 0, 0,\n",
            "        0, 0, 0, 0, 0, 1, 0, 1, 0, 1, 0, 0, 0, 1, 0, 1, 1, 0, 1, 1, 0, 0, 0, 1,\n",
            "        1, 0, 1, 0, 0, 0, 0, 1, 1, 1, 0, 1, 1, 0, 1, 0, 1, 0, 1, 1, 1, 1, 0, 1,\n",
            "        0, 1, 1, 0, 1, 1, 0, 1, 1, 1, 1, 0, 0, 1, 0, 0, 1, 1, 1, 0, 0, 0, 0, 0,\n",
            "        1, 1, 0, 1, 1, 1, 1, 1, 0, 0, 0, 1, 1, 1, 1, 1, 1, 1, 0, 0, 0, 1, 0, 0,\n",
            "        1, 0, 0, 1, 0, 0, 1, 0], device='cuda:0'), tensor([    0,   416,   912,  1038,  1197,  1464,  1883,  2226,  2474,  2635,\n",
            "         2762,  2965,  3188,  3903,  4231,  4370,  4528,  4675,  4828,  5072,\n",
            "         5401,  5573,  6141,  6346,  6724,  7273,  7429,  7575,  7695,  7965,\n",
            "         8129,  8415,  8678,  8963,  9090,  9234,  9553,  9847,  9986, 10167,\n",
            "        10462, 10812, 10917, 11065, 11338, 11531, 11664, 11787, 12047, 12474,\n",
            "        12737, 12996, 13383, 13733, 13890, 14204, 14830, 14959, 15080, 15132,\n",
            "        16016, 16275, 16667, 16835, 16977, 17474, 17629, 18014, 18376, 18567,\n",
            "        18659, 18844, 18909, 19028, 19428, 19568, 19693, 19788, 20105, 20380,\n",
            "        20556, 20725, 20864, 21144, 21394, 21883, 22076, 22237, 22382, 22451,\n",
            "        22763, 22992, 23062, 23139, 23315, 23648, 23799, 23947, 24106, 24265,\n",
            "        24419, 24568, 24720, 24922, 25214, 25428, 25617, 25762, 25892, 25984,\n",
            "        26135, 26258, 26421, 26560, 26739, 26983, 27500, 27712, 27871, 28063,\n",
            "        28344, 28728, 29011, 29245, 29365, 29922, 30080, 30583],\n",
            "       device='cuda:0'))\n"
          ]
        }
      ]
    },
    {
      "cell_type": "code",
      "source": [
        "print('Train')\n",
        "for idx, batch, offset in train_loader:\n",
        "    print(f'Idx {idx.size()} Text matrix size: {batch.size()}, offset {offset.size()}')\n",
        "    #print(f'Target vector size: {batch.LABEL_COLUMN_NAME.size()}')\n",
        "    break"
      ],
      "metadata": {
        "colab": {
          "base_uri": "https://localhost:8080/"
        },
        "id": "DH29xHHRo9C6",
        "outputId": "35c8f0ad-f94d-460d-ca0f-750d5227e95e"
      },
      "execution_count": null,
      "outputs": [
        {
          "output_type": "stream",
          "name": "stdout",
          "text": [
            "Train\n",
            "Idx torch.Size([34599]) Text matrix size: torch.Size([128]), offset torch.Size([128])\n"
          ]
        }
      ]
    },
    {
      "cell_type": "code",
      "source": [
        "print('Train')\n",
        "for batch in train_loader:\n",
        "    print(f'Text matrix size: {batch.TEXT_COLUMN_NAME.size()}')\n",
        "    print(f'Target vector size: {batch.LABEL_COLUMN_NAME.size()}')\n",
        "    break\n",
        "    \n",
        "print('\\nValid:')\n",
        "for batch in valid_loader:\n",
        "    print(f'Text matrix size: {batch.TEXT_COLUMN_NAME.size()}')\n",
        "    print(f'Target vector size: {batch.LABEL_COLUMN_NAME.size()}')\n",
        "    break\n",
        "    \n",
        "print('\\nTest:')\n",
        "for batch in test_loader:\n",
        "    print(f'Text matrix size: {batch.TEXT_COLUMN_NAME.size()}')\n",
        "    print(f'Target vector size: {batch.LABEL_COLUMN_NAME.size()}')\n",
        "    break"
      ],
      "metadata": {
        "id": "OS47Y8nKotdQ"
      },
      "execution_count": null,
      "outputs": []
    },
    {
      "cell_type": "code",
      "source": [
        "### Defining the feature processing\n",
        "\n",
        "TEXT = torchtext.data.Field(\n",
        "    tokenize='spacy', # default splits on whitespace\n",
        "    tokenizer_language='en_core_web_sm'\n",
        ")\n",
        "\n",
        "### Defining the label processing\n",
        "\n",
        "LABEL = torchtext.data.LabelField(dtype=torch.long)"
      ],
      "metadata": {
        "id": "DwYfZSzx1FV3"
      },
      "execution_count": null,
      "outputs": []
    },
    {
      "cell_type": "code",
      "execution_count": null,
      "metadata": {
        "id": "oXDUxCl4m7G_"
      },
      "outputs": [],
      "source": [
        "### Defining the feature processing\n",
        "\n",
        "TEXT = torchtext.legacy.data.Field(\n",
        "    tokenize='spacy', # default splits on whitespace\n",
        "    tokenizer_language='en_core_web_sm'\n",
        ")\n",
        "\n",
        "### Defining the label processing\n",
        "\n",
        "LABEL = torchtext.legacy.data.LabelField(dtype=torch.long)"
      ]
    },
    {
      "cell_type": "markdown",
      "source": [
        "\n",
        "\n",
        "Process the dataset:\n"
      ],
      "metadata": {
        "id": "7s7CZdXwqzU_"
      }
    },
    {
      "cell_type": "code",
      "execution_count": null,
      "metadata": {
        "id": "_qXGdHGum7HB"
      },
      "outputs": [],
      "source": [
        "fields = [('TEXT_COLUMN_NAME', TEXT), ('LABEL_COLUMN_NAME', LABEL)]\n",
        "\n",
        "dataset = torchtext.legacy.data.TabularDataset(\n",
        "    path='movie_data.csv', format='csv',\n",
        "    skip_header=True, fields=fields)"
      ]
    },
    {
      "cell_type": "code",
      "source": [],
      "metadata": {
        "id": "AXx8PQgZ4RqI"
      },
      "execution_count": null,
      "outputs": []
    },
    {
      "cell_type": "markdown",
      "metadata": {
        "id": "TBEa_U_Im7HC"
      },
      "source": [
        "## Split Dataset into Train/Validation/Test\n",
        "\n",
        "\n",
        "\n",
        "\n"
      ]
    },
    {
      "cell_type": "markdown",
      "metadata": {
        "id": "qCaABVO3m7HC"
      },
      "source": [
        "Split the dataset into training, validation, and test partitions:\n",
        "\n"
      ]
    },
    {
      "cell_type": "code",
      "execution_count": null,
      "metadata": {
        "colab": {
          "base_uri": "https://localhost:8080/"
        },
        "id": "WZ_4jiHVnMxN",
        "outputId": "6104d203-f0b8-4258-dd2d-722bc030db6c"
      },
      "outputs": [
        {
          "output_type": "stream",
          "name": "stdout",
          "text": [
            "Num Train: 40000\n",
            "Num Test: 10000\n"
          ]
        }
      ],
      "source": [
        "train_data, test_data = dataset.split(\n",
        "    split_ratio=[0.8, 0.2],\n",
        "    random_state=random.seed(RANDOM_SEED))\n",
        "\n",
        "print(f'Num Train: {len(train_data)}')\n",
        "print(f'Num Test: {len(test_data)}')"
      ]
    },
    {
      "cell_type": "code",
      "execution_count": null,
      "metadata": {
        "colab": {
          "base_uri": "https://localhost:8080/"
        },
        "id": "Wt_83oFFm7HD",
        "outputId": "199018c9-6012-44eb-80cf-091799f0a434"
      },
      "outputs": [
        {
          "output_type": "stream",
          "name": "stdout",
          "text": [
            "Num Train: 34000\n",
            "Num Validation: 6000\n"
          ]
        }
      ],
      "source": [
        "train_data, valid_data = train_data.split(\n",
        "    split_ratio=[0.85, 0.15],\n",
        "    random_state=random.seed(RANDOM_SEED))\n",
        "\n",
        "print(f'Num Train: {len(train_data)}')\n",
        "print(f'Num Validation: {len(valid_data)}')"
      ]
    },
    {
      "cell_type": "code",
      "execution_count": null,
      "metadata": {
        "colab": {
          "base_uri": "https://localhost:8080/"
        },
        "id": "k2HWpgIem7HD",
        "outputId": "36d14717-e6ec-42b7-a5dd-d97aadc464a5"
      },
      "outputs": [
        {
          "output_type": "stream",
          "name": "stdout",
          "text": [
            "{'TEXT_COLUMN_NAME': ['For', 'some', 'unknown', 'reason', ',', '7', 'years', 'ago', ',', 'I', 'watched', 'this', 'movie', 'with', 'my', 'mother', 'and', 'sister', '.', 'I', 'do', \"n't\", 'think', 'I', \"'ve\", 'ever', 'laughed', 'as', 'hard', 'with', 'them', 'before', '.', 'This', 'movie', 'was', 'sooooo', 'bad', '.', 'How', 'sequels', 'were', 'produced', 'is', 'beyond', 'me', '.', 'Its', 'been', 'awhile', 'since', 'I', 'last', 'saw', 'this', '\"', 'movie', '\"', ',', 'but', 'the', 'one', 'impression', 'that', 'it', 'has', 'stuck', 'with', 'me', 'over', 'the', 'years', 'has', 'been', ',', '\"', 'They', 'must', 'have', 'found', 'the', 'script', 'in', 'a', 'dumpster', 'in', 'the', 'backlot', 'of', 'a', 'cheap', 'movie', 'studio', ',', 'made', 'into', 'a', '\"', 'movie', '\"', ',', 'and', 'decided', 'that', 'it', 'did', \"n't\", 'suck', 'enough', ',', 'and', 'made', 'it', 'worse', '.', 'I', \"'m\", 'pretty', 'sure', 'that', 'they', 'spent', 'all', 'the', 'budget', 'on', 'camera', 'work', 'and', 'the', 'so', 'called', '\"', 'special', 'effects', '\"', ',', 'and', 'then', 'had', '13', 'cents', 'left', 'toward', 'the', 'script', 'AND', 'to', 'pay', 'the', '\"', 'actors', '\"', '.'], 'LABEL_COLUMN_NAME': '0'}\n"
          ]
        }
      ],
      "source": [
        "print(vars(train_data.examples[0]))"
      ]
    },
    {
      "cell_type": "markdown",
      "metadata": {
        "id": "IWVlqc50m7HE"
      },
      "source": [
        "## Build Vocabulary"
      ]
    },
    {
      "cell_type": "markdown",
      "metadata": {
        "id": "L-TBwKWPslPa"
      },
      "source": [
        "Build the vocabulary based on the top \"VOCABULARY_SIZE\" words:\n",
        "\n",
        "\n"
      ]
    },
    {
      "cell_type": "code",
      "execution_count": null,
      "metadata": {
        "colab": {
          "base_uri": "https://localhost:8080/"
        },
        "id": "e8uNrjdtn4A8",
        "outputId": "dd5f64b3-271b-4928-c8a1-d9d5e24bdda6"
      },
      "outputs": [
        {
          "output_type": "stream",
          "name": "stdout",
          "text": [
            "Vocabulary size: 20002\n",
            "Number of classes: 2\n"
          ]
        }
      ],
      "source": [
        "TEXT.build_vocab(train_data, max_size=VOCABULARY_SIZE)\n",
        "LABEL.build_vocab(train_data)\n",
        "\n",
        "print(f'Vocabulary size: {len(TEXT.vocab)}')\n",
        "print(f'Number of classes: {len(LABEL.vocab)}')"
      ]
    },
    {
      "cell_type": "markdown",
      "metadata": {
        "id": "13YxZ8Odm7HF"
      },
      "source": [
        "- 20,002 not 20,000 because of the `<unk>` and `<pad>` tokens\n",
        "- PyTorch RNNs can deal with arbitrary lengths due to dynamic graphs, but padding is necessary for padding sequences to the same length in a given minibatch so we can store those in an array"
      ]
    },
    {
      "cell_type": "markdown",
      "metadata": {
        "id": "RJwTDiyMm7HF"
      },
      "source": [
        "\n",
        "\n",
        "**Look at most common words:**"
      ]
    },
    {
      "cell_type": "code",
      "execution_count": null,
      "metadata": {
        "colab": {
          "base_uri": "https://localhost:8080/"
        },
        "id": "MuW_lFrZm7HF",
        "outputId": "9541ea8d-948d-47f8-dbb3-6d852183a640"
      },
      "outputs": [
        {
          "output_type": "stream",
          "name": "stdout",
          "text": [
            "[('the', 391539), (',', 370979), ('.', 319271), ('and', 210725), ('a', 210397), ('of', 194700), ('to', 180225), ('is', 145689), ('in', 118828), ('I', 105650), ('it', 103414), ('that', 93700), ('\"', 86164), (\"'s\", 83068), ('this', 81424), ('-', 71703), ('/><br', 68865), ('was', 67523), ('as', 57974), ('with', 57558)]\n"
          ]
        }
      ],
      "source": [
        "print(TEXT.vocab.freqs.most_common(20))"
      ]
    },
    {
      "cell_type": "markdown",
      "metadata": {
        "id": "5nMrhLLxm7HG"
      },
      "source": [
        "**Tokens corresponding to the first 10 indices (0, 1, ..., 9):**"
      ]
    },
    {
      "cell_type": "code",
      "execution_count": null,
      "metadata": {
        "colab": {
          "base_uri": "https://localhost:8080/"
        },
        "id": "Bq844KBam7HG",
        "outputId": "b364b1ea-a303-48dd-ce40-4a1adb83703d"
      },
      "outputs": [
        {
          "output_type": "stream",
          "name": "stdout",
          "text": [
            "['<unk>', '<pad>', 'the', ',', '.', 'and', 'a', 'of', 'to', 'is']\n"
          ]
        }
      ],
      "source": [
        "print(TEXT.vocab.itos[:10]) # itos = integer-to-string"
      ]
    },
    {
      "cell_type": "markdown",
      "metadata": {
        "id": "2SIjdcL3m7HG"
      },
      "source": [
        "**Converting a string to an integer:**"
      ]
    },
    {
      "cell_type": "code",
      "execution_count": null,
      "metadata": {
        "colab": {
          "base_uri": "https://localhost:8080/"
        },
        "id": "u0GcTSBIm7HH",
        "outputId": "c54cc0cc-95d1-4883-df6c-8b58e72e6ccf"
      },
      "outputs": [
        {
          "output_type": "stream",
          "name": "stdout",
          "text": [
            "2\n"
          ]
        }
      ],
      "source": [
        "print(TEXT.vocab.stoi['the']) # stoi = string-to-integer"
      ]
    },
    {
      "cell_type": "markdown",
      "metadata": {
        "id": "t8CeiUmam7HH"
      },
      "source": [
        "**Class labels:**"
      ]
    },
    {
      "cell_type": "code",
      "execution_count": null,
      "metadata": {
        "colab": {
          "base_uri": "https://localhost:8080/"
        },
        "id": "vb5lm3DFm7HI",
        "outputId": "7403a69b-bd6a-4a36-fa43-0ad60cde9526"
      },
      "outputs": [
        {
          "output_type": "stream",
          "name": "stdout",
          "text": [
            "defaultdict(None, {'1': 0, '0': 1})\n"
          ]
        }
      ],
      "source": [
        "print(LABEL.vocab.stoi)"
      ]
    },
    {
      "cell_type": "markdown",
      "metadata": {
        "id": "mZx-meThm7HJ"
      },
      "source": [
        "**Class label count:**"
      ]
    },
    {
      "cell_type": "code",
      "execution_count": null,
      "metadata": {
        "colab": {
          "base_uri": "https://localhost:8080/"
        },
        "id": "NJwG-RiBm7HJ",
        "outputId": "17001823-c7f8-4340-ca38-9ec1af5d479e"
      },
      "outputs": [
        {
          "output_type": "execute_result",
          "data": {
            "text/plain": [
              "Counter({'0': 16981, '1': 17019})"
            ]
          },
          "metadata": {},
          "execution_count": 21
        }
      ],
      "source": [
        "LABEL.vocab.freqs"
      ]
    },
    {
      "cell_type": "markdown",
      "metadata": {
        "id": "eIQ_zfKLwjKm"
      },
      "source": [
        "## Define Data Loaders"
      ]
    },
    {
      "cell_type": "code",
      "execution_count": null,
      "metadata": {
        "id": "i7JiHR1stHNF"
      },
      "outputs": [],
      "source": [
        "train_loader, valid_loader, test_loader = \\\n",
        "    torchtext.legacy.data.BucketIterator.splits(\n",
        "        (train_data, valid_data, test_data),\n",
        "         batch_size=BATCH_SIZE,\n",
        "         sort_within_batch=False,\n",
        "         sort_key=lambda x: len(x.TEXT_COLUMN_NAME),\n",
        "         device=DEVICE\n",
        "    )"
      ]
    },
    {
      "cell_type": "markdown",
      "metadata": {
        "id": "R0pT_dMRvicQ"
      },
      "source": [
        "Testing the iterators (note that the number of rows depends on the longest document in the respective batch):"
      ]
    },
    {
      "cell_type": "code",
      "execution_count": null,
      "metadata": {
        "colab": {
          "base_uri": "https://localhost:8080/",
          "height": 1000
        },
        "id": "y8SP_FccutT0",
        "outputId": "824d5f51-f618-4228-8a7a-5bc8f37f3090"
      },
      "outputs": [
        {
          "output_type": "stream",
          "name": "stdout",
          "text": [
            "Train\n"
          ]
        },
        {
          "output_type": "stream",
          "name": "stderr",
          "text": [
            "/usr/local/lib/python3.8/dist-packages/torch/utils/data/backward_compatibility.py:4: UserWarning: Usage of backward_compatibility.worker_init_fn is deprecated as DataLoader automatically applies sharding in every worker\n",
            "  warnings.warn(\"Usage of backward_compatibility.worker_init_fn is deprecated\"\n",
            "/usr/local/lib/python3.8/dist-packages/torch/utils/data/backward_compatibility.py:4: UserWarning: Usage of backward_compatibility.worker_init_fn is deprecated as DataLoader automatically applies sharding in every worker\n",
            "  warnings.warn(\"Usage of backward_compatibility.worker_init_fn is deprecated\"\n"
          ]
        },
        {
          "output_type": "error",
          "ename": "RuntimeError",
          "evalue": "ignored",
          "traceback": [
            "\u001b[0;31m---------------------------------------------------------------------------\u001b[0m",
            "\u001b[0;31mRuntimeError\u001b[0m                              Traceback (most recent call last)",
            "\u001b[0;32m<ipython-input-66-73e6407e5ff9>\u001b[0m in \u001b[0;36m<module>\u001b[0;34m\u001b[0m\n\u001b[1;32m      1\u001b[0m \u001b[0mprint\u001b[0m\u001b[0;34m(\u001b[0m\u001b[0;34m'Train'\u001b[0m\u001b[0;34m)\u001b[0m\u001b[0;34m\u001b[0m\u001b[0;34m\u001b[0m\u001b[0m\n\u001b[0;32m----> 2\u001b[0;31m \u001b[0;32mfor\u001b[0m \u001b[0mbatch\u001b[0m \u001b[0;32min\u001b[0m \u001b[0mtrain_loader\u001b[0m\u001b[0;34m:\u001b[0m\u001b[0;34m\u001b[0m\u001b[0;34m\u001b[0m\u001b[0m\n\u001b[0m\u001b[1;32m      3\u001b[0m     \u001b[0mprint\u001b[0m\u001b[0;34m(\u001b[0m\u001b[0;34mf'Text matrix size: {batch.TEXT_COLUMN_NAME.size()}'\u001b[0m\u001b[0;34m)\u001b[0m\u001b[0;34m\u001b[0m\u001b[0;34m\u001b[0m\u001b[0m\n\u001b[1;32m      4\u001b[0m     \u001b[0mprint\u001b[0m\u001b[0;34m(\u001b[0m\u001b[0;34mf'Target vector size: {batch.LABEL_COLUMN_NAME.size()}'\u001b[0m\u001b[0;34m)\u001b[0m\u001b[0;34m\u001b[0m\u001b[0;34m\u001b[0m\u001b[0m\n\u001b[1;32m      5\u001b[0m     \u001b[0;32mbreak\u001b[0m\u001b[0;34m\u001b[0m\u001b[0;34m\u001b[0m\u001b[0m\n",
            "\u001b[0;32m/usr/local/lib/python3.8/dist-packages/torch/utils/data/dataloader.py\u001b[0m in \u001b[0;36m__next__\u001b[0;34m(self)\u001b[0m\n\u001b[1;32m    626\u001b[0m                 \u001b[0;31m# TODO(https://github.com/pytorch/pytorch/issues/76750)\u001b[0m\u001b[0;34m\u001b[0m\u001b[0;34m\u001b[0m\u001b[0;34m\u001b[0m\u001b[0m\n\u001b[1;32m    627\u001b[0m                 \u001b[0mself\u001b[0m\u001b[0;34m.\u001b[0m\u001b[0m_reset\u001b[0m\u001b[0;34m(\u001b[0m\u001b[0;34m)\u001b[0m  \u001b[0;31m# type: ignore[call-arg]\u001b[0m\u001b[0;34m\u001b[0m\u001b[0;34m\u001b[0m\u001b[0m\n\u001b[0;32m--> 628\u001b[0;31m             \u001b[0mdata\u001b[0m \u001b[0;34m=\u001b[0m \u001b[0mself\u001b[0m\u001b[0;34m.\u001b[0m\u001b[0m_next_data\u001b[0m\u001b[0;34m(\u001b[0m\u001b[0;34m)\u001b[0m\u001b[0;34m\u001b[0m\u001b[0;34m\u001b[0m\u001b[0m\n\u001b[0m\u001b[1;32m    629\u001b[0m             \u001b[0mself\u001b[0m\u001b[0;34m.\u001b[0m\u001b[0m_num_yielded\u001b[0m \u001b[0;34m+=\u001b[0m \u001b[0;36m1\u001b[0m\u001b[0;34m\u001b[0m\u001b[0;34m\u001b[0m\u001b[0m\n\u001b[1;32m    630\u001b[0m             \u001b[0;32mif\u001b[0m \u001b[0mself\u001b[0m\u001b[0;34m.\u001b[0m\u001b[0m_dataset_kind\u001b[0m \u001b[0;34m==\u001b[0m \u001b[0m_DatasetKind\u001b[0m\u001b[0;34m.\u001b[0m\u001b[0mIterable\u001b[0m \u001b[0;32mand\u001b[0m\u001b[0;31m \u001b[0m\u001b[0;31m\\\u001b[0m\u001b[0;34m\u001b[0m\u001b[0;34m\u001b[0m\u001b[0m\n",
            "\u001b[0;32m/usr/local/lib/python3.8/dist-packages/torch/utils/data/dataloader.py\u001b[0m in \u001b[0;36m_next_data\u001b[0;34m(self)\u001b[0m\n\u001b[1;32m   1331\u001b[0m             \u001b[0;32melse\u001b[0m\u001b[0;34m:\u001b[0m\u001b[0;34m\u001b[0m\u001b[0;34m\u001b[0m\u001b[0m\n\u001b[1;32m   1332\u001b[0m                 \u001b[0;32mdel\u001b[0m \u001b[0mself\u001b[0m\u001b[0;34m.\u001b[0m\u001b[0m_task_info\u001b[0m\u001b[0;34m[\u001b[0m\u001b[0midx\u001b[0m\u001b[0;34m]\u001b[0m\u001b[0;34m\u001b[0m\u001b[0;34m\u001b[0m\u001b[0m\n\u001b[0;32m-> 1333\u001b[0;31m                 \u001b[0;32mreturn\u001b[0m \u001b[0mself\u001b[0m\u001b[0;34m.\u001b[0m\u001b[0m_process_data\u001b[0m\u001b[0;34m(\u001b[0m\u001b[0mdata\u001b[0m\u001b[0;34m)\u001b[0m\u001b[0;34m\u001b[0m\u001b[0;34m\u001b[0m\u001b[0m\n\u001b[0m\u001b[1;32m   1334\u001b[0m \u001b[0;34m\u001b[0m\u001b[0m\n\u001b[1;32m   1335\u001b[0m     \u001b[0;32mdef\u001b[0m \u001b[0m_try_put_index\u001b[0m\u001b[0;34m(\u001b[0m\u001b[0mself\u001b[0m\u001b[0;34m)\u001b[0m\u001b[0;34m:\u001b[0m\u001b[0;34m\u001b[0m\u001b[0;34m\u001b[0m\u001b[0m\n",
            "\u001b[0;32m/usr/local/lib/python3.8/dist-packages/torch/utils/data/dataloader.py\u001b[0m in \u001b[0;36m_process_data\u001b[0;34m(self, data)\u001b[0m\n\u001b[1;32m   1357\u001b[0m         \u001b[0mself\u001b[0m\u001b[0;34m.\u001b[0m\u001b[0m_try_put_index\u001b[0m\u001b[0;34m(\u001b[0m\u001b[0;34m)\u001b[0m\u001b[0;34m\u001b[0m\u001b[0;34m\u001b[0m\u001b[0m\n\u001b[1;32m   1358\u001b[0m         \u001b[0;32mif\u001b[0m \u001b[0misinstance\u001b[0m\u001b[0;34m(\u001b[0m\u001b[0mdata\u001b[0m\u001b[0;34m,\u001b[0m \u001b[0mExceptionWrapper\u001b[0m\u001b[0;34m)\u001b[0m\u001b[0;34m:\u001b[0m\u001b[0;34m\u001b[0m\u001b[0;34m\u001b[0m\u001b[0m\n\u001b[0;32m-> 1359\u001b[0;31m             \u001b[0mdata\u001b[0m\u001b[0;34m.\u001b[0m\u001b[0mreraise\u001b[0m\u001b[0;34m(\u001b[0m\u001b[0;34m)\u001b[0m\u001b[0;34m\u001b[0m\u001b[0;34m\u001b[0m\u001b[0m\n\u001b[0m\u001b[1;32m   1360\u001b[0m         \u001b[0;32mreturn\u001b[0m \u001b[0mdata\u001b[0m\u001b[0;34m\u001b[0m\u001b[0;34m\u001b[0m\u001b[0m\n\u001b[1;32m   1361\u001b[0m \u001b[0;34m\u001b[0m\u001b[0m\n",
            "\u001b[0;32m/usr/local/lib/python3.8/dist-packages/torch/_utils.py\u001b[0m in \u001b[0;36mreraise\u001b[0;34m(self)\u001b[0m\n\u001b[1;32m    541\u001b[0m             \u001b[0;31m# instantiate since we don't know how to\u001b[0m\u001b[0;34m\u001b[0m\u001b[0;34m\u001b[0m\u001b[0;34m\u001b[0m\u001b[0m\n\u001b[1;32m    542\u001b[0m             \u001b[0;32mraise\u001b[0m \u001b[0mRuntimeError\u001b[0m\u001b[0;34m(\u001b[0m\u001b[0mmsg\u001b[0m\u001b[0;34m)\u001b[0m \u001b[0;32mfrom\u001b[0m \u001b[0;32mNone\u001b[0m\u001b[0;34m\u001b[0m\u001b[0;34m\u001b[0m\u001b[0m\n\u001b[0;32m--> 543\u001b[0;31m         \u001b[0;32mraise\u001b[0m \u001b[0mexception\u001b[0m\u001b[0;34m\u001b[0m\u001b[0;34m\u001b[0m\u001b[0m\n\u001b[0m\u001b[1;32m    544\u001b[0m \u001b[0;34m\u001b[0m\u001b[0m\n\u001b[1;32m    545\u001b[0m \u001b[0;34m\u001b[0m\u001b[0m\n",
            "\u001b[0;31mRuntimeError\u001b[0m: Caught RuntimeError in DataLoader worker process 0.\nOriginal Traceback (most recent call last):\n  File \"/usr/local/lib/python3.8/dist-packages/torch/utils/data/_utils/worker.py\", line 302, in _worker_loop\n    data = fetcher.fetch(index)\n  File \"/usr/local/lib/python3.8/dist-packages/torch/utils/data/_utils/fetch.py\", line 44, in fetch\n    return self.collate_fn(data)\n  File \"/usr/local/lib/python3.8/dist-packages/torch/utils/data/_utils/collate.py\", line 265, in default_collate\n    return collate(batch, collate_fn_map=default_collate_fn_map)\n  File \"/usr/local/lib/python3.8/dist-packages/torch/utils/data/_utils/collate.py\", line 146, in collate\n    return elem_type([collate(samples, collate_fn_map=collate_fn_map) for samples in transposed])\n  File \"/usr/local/lib/python3.8/dist-packages/torch/utils/data/_utils/collate.py\", line 146, in <listcomp>\n    return elem_type([collate(samples, collate_fn_map=collate_fn_map) for samples in transposed])\n  File \"/usr/local/lib/python3.8/dist-packages/torch/utils/data/_utils/collate.py\", line 143, in collate\n    return [collate(samples, collate_fn_map=collate_fn_map) for samples in transposed]  # Backwards compatibility.\n  File \"/usr/local/lib/python3.8/dist-packages/torch/utils/data/_utils/collate.py\", line 143, in <listcomp>\n    return [collate(samples, collate_fn_map=collate_fn_map) for samples in transposed]  # Backwards compatibility.\n  File \"/usr/local/lib/python3.8/dist-packages/torch/utils/data/_utils/collate.py\", line 139, in collate\n    raise RuntimeError('each element in list of batch should be of equal size')\nRuntimeError: each element in list of batch should be of equal size\n"
          ]
        }
      ],
      "source": [
        "print('Train')\n",
        "for batch in train_loader:\n",
        "    print(f'Text matrix size: {batch.TEXT_COLUMN_NAME.size()}')\n",
        "    print(f'Target vector size: {batch.LABEL_COLUMN_NAME.size()}')\n",
        "    break\n",
        "    \n",
        "print('\\nValid:')\n",
        "for batch in valid_loader:\n",
        "    print(f'Text matrix size: {batch.TEXT_COLUMN_NAME.size()}')\n",
        "    print(f'Target vector size: {batch.LABEL_COLUMN_NAME.size()}')\n",
        "    break\n",
        "    \n",
        "print('\\nTest:')\n",
        "for batch in test_loader:\n",
        "    print(f'Text matrix size: {batch.TEXT_COLUMN_NAME.size()}')\n",
        "    print(f'Target vector size: {batch.LABEL_COLUMN_NAME.size()}')\n",
        "    break"
      ]
    },
    {
      "cell_type": "markdown",
      "metadata": {
        "id": "G_grdW3pxCzz"
      },
      "source": [
        "## Model"
      ]
    },
    {
      "cell_type": "code",
      "execution_count": 145,
      "metadata": {
        "id": "nQIUm5EjxFNa"
      },
      "outputs": [],
      "source": [
        "class RNN(torch.nn.Module):\n",
        "    \n",
        "    def __init__(self, input_dim, embedding_dim, hidden_dim, output_dim):\n",
        "        super().__init__()\n",
        "\n",
        "        self.embedding = torch.nn.Embedding(input_dim, embedding_dim)\n",
        "        #self.rnn = torch.nn.RNN(embedding_dim,\n",
        "        #                        hidden_dim,\n",
        "        #                        nonlinearity='relu')\n",
        "        self.rnn = torch.nn.LSTM(embedding_dim,\n",
        "                                 hidden_dim)        \n",
        "        \n",
        "        self.fc = torch.nn.Linear(hidden_dim, output_dim)\n",
        "        \n",
        "\n",
        "    def forward(self, text):\n",
        "        # text dim: [sentence length, batch size]\n",
        "        print(f\"In forward(): {text.size()}\")\n",
        "        \n",
        "        embedded = self.embedding(text)\n",
        "        # embedded dim: [sentence length, batch size, embedding dim]\n",
        "        \n",
        "        output, (hidden, cell) = self.rnn(embedded)\n",
        "        # output dim: [sentence length, batch size, hidden dim]\n",
        "        # hidden dim: [1, batch size, hidden dim]\n",
        "\n",
        "        hidden.squeeze_(0)\n",
        "        # hidden dim: [batch size, hidden dim]\n",
        "        \n",
        "        output = self.fc(hidden)\n",
        "        return output"
      ]
    },
    {
      "cell_type": "code",
      "execution_count": 139,
      "metadata": {
        "id": "Ik3NF3faxFmZ"
      },
      "outputs": [],
      "source": [
        "torch.manual_seed(RANDOM_SEED)\n",
        "model = RNN(input_dim=len(vocab),\n",
        "            embedding_dim=EMBEDDING_DIM,\n",
        "            hidden_dim=HIDDEN_DIM,\n",
        "            output_dim=NUM_CLASSES # could use 1 for binary classification\n",
        ")\n",
        "\n",
        "model = model.to(DEVICE)\n",
        "optimizer = torch.optim.Adam(model.parameters(), lr=0.005)"
      ]
    },
    {
      "cell_type": "markdown",
      "metadata": {
        "id": "Lv9Ny9di6VcI"
      },
      "source": [
        "## Training"
      ]
    },
    {
      "cell_type": "code",
      "execution_count": 140,
      "metadata": {
        "id": "T5t1Afn4xO11"
      },
      "outputs": [],
      "source": [
        "def compute_accuracy(model, data_loader, device):\n",
        "\n",
        "    with torch.no_grad():\n",
        "\n",
        "        correct_pred, num_examples = 0, 0\n",
        "\n",
        "        for i, (features, targets) in enumerate(data_loader):\n",
        "\n",
        "            features = features.to(device)\n",
        "            targets = targets.float().to(device)\n",
        "\n",
        "            logits = model(features)\n",
        "            _, predicted_labels = torch.max(logits, 1)\n",
        "\n",
        "            num_examples += targets.size(0)\n",
        "            correct_pred += (predicted_labels == targets).sum()\n",
        "    return correct_pred.float()/num_examples * 100"
      ]
    },
    {
      "cell_type": "code",
      "execution_count": null,
      "metadata": {
        "colab": {
          "base_uri": "https://localhost:8080/"
        },
        "id": "EABZM8Vo0ilB",
        "outputId": "1f72f1aa-cafc-4bae-94fb-428641264d79"
      },
      "outputs": [
        {
          "output_type": "stream",
          "name": "stdout",
          "text": [
            "Epoch: 001/015 | Batch 001/313 | Loss: 0.6959\n",
            "Epoch: 001/015 | Batch 051/313 | Loss: 0.6945\n",
            "Epoch: 001/015 | Batch 101/313 | Loss: 0.6918\n",
            "Epoch: 001/015 | Batch 151/313 | Loss: 0.6925\n",
            "Epoch: 001/015 | Batch 201/313 | Loss: 0.6918\n"
          ]
        }
      ],
      "source": [
        "start_time = time.time()\n",
        "\n",
        "for epoch in range(NUM_EPOCHS):\n",
        "    model.train()\n",
        "    for batch_idx, batch in enumerate(train_loader):\n",
        "        # batch is tuple of text, labels\n",
        "        text, labels = batch\n",
        "\n",
        "        ### FORWARD AND BACK PROP\n",
        "        logits = model(text)\n",
        "        loss = F.cross_entropy(logits, labels)\n",
        "        optimizer.zero_grad()\n",
        "        \n",
        "        loss.backward()\n",
        "        \n",
        "        ### UPDATE MODEL PARAMETERS\n",
        "        optimizer.step()\n",
        "        \n",
        "        ### LOGGING\n",
        "        if not batch_idx % 50:\n",
        "            print (f'Epoch: {epoch+1:03d}/{NUM_EPOCHS:03d} | '\n",
        "                   f'Batch {batch_idx+1:03d}/{len(train_loader):03d} | '\n",
        "                   f'Loss: {loss:.4f}')\n",
        "\n",
        "    with torch.set_grad_enabled(False):\n",
        "        print(f'training accuracy: '\n",
        "              f'{compute_accuracy(model, train_loader, DEVICE):.2f}%'\n",
        "              f'\\nvalid accuracy: '\n",
        "              f'{compute_accuracy(model, valid_loader, DEVICE):.2f}%')\n",
        "        \n",
        "    print(f'Time elapsed: {(time.time() - start_time)/60:.2f} min')\n",
        "    \n",
        "print(f'Total Training Time: {(time.time() - start_time)/60:.2f} min')\n",
        "print(f'Test accuracy: {compute_accuracy(model, test_loader, DEVICE):.2f}%')"
      ]
    },
    {
      "cell_type": "code",
      "execution_count": null,
      "metadata": {
        "id": "jt55pscgFdKZ",
        "outputId": "d1ed772c-9f33-4486-e8d7-6b7d7506ddb1"
      },
      "outputs": [
        {
          "name": "stdout",
          "output_type": "stream",
          "text": [
            "Probability positive:\n"
          ]
        },
        {
          "data": {
            "text/plain": [
              "0.9804818034172058"
            ]
          },
          "execution_count": 26,
          "metadata": {},
          "output_type": "execute_result"
        }
      ],
      "source": [
        "import spacy\n",
        "\n",
        "\n",
        "nlp = spacy.blank(\"en\")\n",
        "\n",
        "def predict_sentiment(model, sentence):\n",
        "\n",
        "    model.eval()\n",
        "    tokenized = [tok.text for tok in nlp.tokenizer(sentence)]\n",
        "    indexed = [TEXT.vocab.stoi[t] for t in tokenized]\n",
        "    length = [len(indexed)]\n",
        "    tensor = torch.LongTensor(indexed).to(DEVICE)\n",
        "    tensor = tensor.unsqueeze(1)\n",
        "    length_tensor = torch.LongTensor(length)\n",
        "    prediction = torch.nn.functional.softmax(model(tensor), dim=1)\n",
        "    return prediction[0][0].item()\n",
        "\n",
        "print('Probability positive:')\n",
        "predict_sentiment(model, \"This is such an awesome movie, I really love it!\")"
      ]
    },
    {
      "cell_type": "code",
      "execution_count": null,
      "metadata": {
        "id": "2ZaAyKpbm7HP",
        "outputId": "8f5e9b1a-2c46-4182-f4a9-f0be619d0f9a"
      },
      "outputs": [
        {
          "name": "stdout",
          "output_type": "stream",
          "text": [
            "Probability negative:\n"
          ]
        },
        {
          "data": {
            "text/plain": [
              "0.9933403395116329"
            ]
          },
          "execution_count": 27,
          "metadata": {},
          "output_type": "execute_result"
        }
      ],
      "source": [
        "print('Probability negative:')\n",
        "1-predict_sentiment(model, \"I really hate this movie. It is really bad and sucks!\")"
      ]
    },
    {
      "cell_type": "code",
      "execution_count": null,
      "metadata": {
        "id": "7lRusB3dF80X",
        "outputId": "c4713d05-432a-4875-ce83-96511282ef1f"
      },
      "outputs": [
        {
          "name": "stdout",
          "output_type": "stream",
          "text": [
            "pandas   : 1.2.3\n",
            "spacy    : 3.0.5\n",
            "torchtext: 0.9.1\n",
            "torch    : 1.8.1\n",
            "\n"
          ]
        }
      ],
      "source": [
        "%watermark -iv"
      ]
    }
  ],
  "metadata": {
    "colab": {
      "name": "rnn_lstm_packed_imdb.ipynb",
      "provenance": [],
      "include_colab_link": true
    },
    "kernelspec": {
      "display_name": "Python 3 (ipykernel)",
      "language": "python",
      "name": "python3"
    },
    "language_info": {
      "codemirror_mode": {
        "name": "ipython",
        "version": 3
      },
      "file_extension": ".py",
      "mimetype": "text/x-python",
      "name": "python",
      "nbconvert_exporter": "python",
      "pygments_lexer": "ipython3",
      "version": "3.9.6"
    },
    "gpuClass": "standard",
    "accelerator": "GPU"
  },
  "nbformat": 4,
  "nbformat_minor": 0
}