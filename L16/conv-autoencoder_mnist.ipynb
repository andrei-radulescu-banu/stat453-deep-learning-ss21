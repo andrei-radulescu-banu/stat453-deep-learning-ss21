{
  "cells": [
    {
      "cell_type": "code",
      "source": [
        "!pip install watermark\n",
        "!git clone https://github.com/andrei-radulescu-banu/stat453-deep-learning-ss21.git\n",
        "import sys, os\n",
        "sys.path.append(\"/content/stat453-deep-learning-ss21/L16\")\n"
      ],
      "metadata": {
        "colab": {
          "base_uri": "https://localhost:8080/"
        },
        "id": "wArJ68OCuLnx",
        "outputId": "b4fc8472-dff1-4fc6-ac17-a1e28d128899"
      },
      "execution_count": 1,
      "outputs": [
        {
          "output_type": "stream",
          "name": "stdout",
          "text": [
            "Looking in indexes: https://pypi.org/simple, https://us-python.pkg.dev/colab-wheels/public/simple/\n",
            "Collecting watermark\n",
            "  Downloading watermark-2.3.1-py2.py3-none-any.whl (7.2 kB)\n",
            "Requirement already satisfied: ipython in /usr/local/lib/python3.8/dist-packages (from watermark) (7.9.0)\n",
            "Collecting jedi>=0.10\n",
            "  Downloading jedi-0.18.2-py2.py3-none-any.whl (1.6 MB)\n",
            "\u001b[K     |████████████████████████████████| 1.6 MB 22.4 MB/s \n",
            "\u001b[?25hRequirement already satisfied: pickleshare in /usr/local/lib/python3.8/dist-packages (from ipython->watermark) (0.7.5)\n",
            "Requirement already satisfied: traitlets>=4.2 in /usr/local/lib/python3.8/dist-packages (from ipython->watermark) (5.6.0)\n",
            "Requirement already satisfied: pexpect in /usr/local/lib/python3.8/dist-packages (from ipython->watermark) (4.8.0)\n",
            "Requirement already satisfied: setuptools>=18.5 in /usr/local/lib/python3.8/dist-packages (from ipython->watermark) (57.4.0)\n",
            "Requirement already satisfied: prompt-toolkit<2.1.0,>=2.0.0 in /usr/local/lib/python3.8/dist-packages (from ipython->watermark) (2.0.10)\n",
            "Requirement already satisfied: decorator in /usr/local/lib/python3.8/dist-packages (from ipython->watermark) (4.4.2)\n",
            "Requirement already satisfied: pygments in /usr/local/lib/python3.8/dist-packages (from ipython->watermark) (2.6.1)\n",
            "Requirement already satisfied: backcall in /usr/local/lib/python3.8/dist-packages (from ipython->watermark) (0.2.0)\n",
            "Requirement already satisfied: parso<0.9.0,>=0.8.0 in /usr/local/lib/python3.8/dist-packages (from jedi>=0.10->ipython->watermark) (0.8.3)\n",
            "Requirement already satisfied: six>=1.9.0 in /usr/local/lib/python3.8/dist-packages (from prompt-toolkit<2.1.0,>=2.0.0->ipython->watermark) (1.15.0)\n",
            "Requirement already satisfied: wcwidth in /usr/local/lib/python3.8/dist-packages (from prompt-toolkit<2.1.0,>=2.0.0->ipython->watermark) (0.2.5)\n",
            "Requirement already satisfied: ptyprocess>=0.5 in /usr/local/lib/python3.8/dist-packages (from pexpect->ipython->watermark) (0.7.0)\n",
            "Installing collected packages: jedi, watermark\n",
            "Successfully installed jedi-0.18.2 watermark-2.3.1\n",
            "Cloning into 'stat453-deep-learning-ss21'...\n",
            "remote: Enumerating objects: 1495, done.\u001b[K\n",
            "remote: Counting objects: 100% (445/445), done.\u001b[K\n",
            "remote: Compressing objects: 100% (118/118), done.\u001b[K\n",
            "remote: Total 1495 (delta 354), reused 359 (delta 304), pack-reused 1050\u001b[K\n",
            "Receiving objects: 100% (1495/1495), 117.34 MiB | 13.93 MiB/s, done.\n",
            "Resolving deltas: 100% (458/458), done.\n"
          ]
        }
      ]
    },
    {
      "cell_type": "markdown",
      "metadata": {
        "id": "UEBilEjLj5wY"
      },
      "source": [
        "STAT 453: Deep Learning (Spring 2021)  \n",
        "Instructor: Sebastian Raschka (sraschka@wisc.edu)  \n",
        "\n",
        "Course website: http://pages.stat.wisc.edu/~sraschka/teaching/stat453-ss2021/  \n",
        "GitHub repository: https://github.com/rasbt/stat453-deep-learning-ss21\n",
        "\n",
        "---"
      ]
    },
    {
      "cell_type": "markdown",
      "metadata": {
        "id": "hJ1Za6shuKYl"
      },
      "source": [
        "# Convolutional Autoencoder"
      ]
    },
    {
      "cell_type": "code",
      "execution_count": 2,
      "metadata": {
        "colab": {
          "base_uri": "https://localhost:8080/"
        },
        "id": "GOzuY8Yvj5wb",
        "outputId": "f6847964-f8ab-413e-e112-7865f560b120"
      },
      "outputs": [
        {
          "output_type": "stream",
          "name": "stdout",
          "text": [
            "Author: Sebastian Raschka\n",
            "\n",
            "Python implementation: CPython\n",
            "Python version       : 3.8.16\n",
            "IPython version      : 7.9.0\n",
            "\n",
            "torch: 1.13.0+cu116\n",
            "\n"
          ]
        }
      ],
      "source": [
        "%load_ext watermark\n",
        "%watermark -a 'Sebastian Raschka' -v -p torch"
      ]
    },
    {
      "cell_type": "markdown",
      "metadata": {
        "id": "MkoGLH_Tj5wn"
      },
      "source": [
        "## Imports"
      ]
    },
    {
      "cell_type": "code",
      "execution_count": 3,
      "metadata": {
        "id": "ORj09gnrj5wp"
      },
      "outputs": [],
      "source": [
        "import torch\n",
        "import torch.nn as nn\n",
        "import matplotlib.pyplot as plt"
      ]
    },
    {
      "cell_type": "markdown",
      "metadata": {
        "id": "eZuspC5cuKYq"
      },
      "source": [
        "#### Import utility functions"
      ]
    },
    {
      "cell_type": "code",
      "execution_count": 4,
      "metadata": {
        "id": "YZ85bkUCuKYs"
      },
      "outputs": [],
      "source": [
        "from helper_data import get_dataloaders_mnist\n",
        "from helper_train import train_autoencoder_v1\n",
        "from helper_utils import set_deterministic, set_all_seeds\n",
        "from helper_plotting import plot_training_loss\n",
        "from helper_plotting import plot_generated_images\n",
        "from helper_plotting import plot_latent_space_with_labels"
      ]
    },
    {
      "cell_type": "code",
      "execution_count": 16,
      "metadata": {
        "colab": {
          "base_uri": "https://localhost:8080/"
        },
        "id": "NnT0sZIwj5wu",
        "outputId": "d92022fb-4dde-41d8-de49-f9e4d237481d"
      },
      "outputs": [
        {
          "output_type": "stream",
          "name": "stdout",
          "text": [
            "Device: cuda:0\n"
          ]
        }
      ],
      "source": [
        "##########################\n",
        "### SETTINGS\n",
        "##########################\n",
        "\n",
        "# Device\n",
        "CUDA_DEVICE_NUM = 0\n",
        "DEVICE = torch.device(f'cuda:{CUDA_DEVICE_NUM}' if torch.cuda.is_available() else 'cpu')\n",
        "print('Device:', DEVICE)\n",
        "\n",
        "# Hyperparameters\n",
        "RANDOM_SEED = 123\n",
        "LEARNING_RATE = 0.0005\n",
        "BATCH_SIZE = 32\n",
        "NUM_EPOCHS = 20\n",
        "NUM_CLASSES = 10"
      ]
    },
    {
      "cell_type": "code",
      "execution_count": 7,
      "metadata": {
        "id": "BBFfM012uKYt"
      },
      "outputs": [],
      "source": [
        "set_deterministic\n",
        "set_all_seeds(RANDOM_SEED)"
      ]
    },
    {
      "cell_type": "markdown",
      "metadata": {
        "id": "ziIw1y56uKYu"
      },
      "source": [
        "## Dataset"
      ]
    },
    {
      "cell_type": "code",
      "execution_count": 8,
      "metadata": {
        "colab": {
          "base_uri": "https://localhost:8080/",
          "height": 439,
          "referenced_widgets": [
            "60faa2a0dcc84b98beb2c13bd13182f5",
            "3fa267053568458f995a0bdf29b334b4",
            "d18a663217894fcb81f58431a48ede4f",
            "5cc2d70275884e07a8c5331468ab4a51",
            "b1c40bbffcfe46f6a5d53b45b65aff39",
            "7d77182f2cb74cadb2093f75a73864bd",
            "3a52dc83bfd74bd2ad68acec1ed8cefa",
            "245528918af64b1e95ab5cc71274c948",
            "980ee197c4964c3994dc852592cd68e1",
            "1ca0f58ba2fd4c63910f0b8e7b9b3096",
            "5b35dec3f14c4b6aa7d8adf75344f173",
            "a9bdde8f41914d77a7889f93c9e2c4fb",
            "513d665afe194c4fb16bf31af440382a",
            "904089b9ec7e4f5d9998adf6afcd1e2b",
            "3db8eb5325db43da93013049f433f6b5",
            "d4d97d1dec87486b91f22be844f229e6",
            "5a616cea80ef487da343d4fba96da121",
            "33c27b2eda2448b69328f30a269d697d",
            "567912b289f940d6abe2a4b003749e03",
            "6cd4f9caf3924306883339d28bba7b47",
            "253ecaa071b3488e8f6b1267308e6181",
            "c71ea82f198245c7ac016b6c39d953a8",
            "2b7c2ea89aa14c56b4a1f3a963021bf6",
            "5f27622068ee425b92eff01cfce2ab4f",
            "b17802022fd347069e7a13adfaf5bddd",
            "af71b8e289844c398f87be5e099598c3",
            "7e41aa44278a48f389156f1b196419bb",
            "a675fbc878e74c39bd55ad3ce3657847",
            "5d27d25c953c461299dc4dee9717fdc0",
            "57c95c9a29a543e198aa30ce00fdffc4",
            "a07cfb8fb17c476d8988b448a6ce0a5b",
            "beac7f9ef82b4b4fb40400b28bea34d3",
            "addfdbf04a92497fadc72e71a3f3ce54",
            "0a1d327abe4345f6b572c89565f93019",
            "03fa5a6f167b4e2eae15119b9e2831d4",
            "0038b9a7d7fc450a8c33a9bdf19830ef",
            "217173ded8cc4349b0105d5fc463f8d7",
            "14f955a3abf24b7b87467d9e5ca7dcd8",
            "045937907a394fc3bb49354dc4051fba",
            "e040123e216a4284980e68f5743bbdf6",
            "ea0550a73d7644d48465314c0f668963",
            "9321c3b7ab1541b7b5cb53e2922c8699",
            "e89d4ac2a1de498197cb1db0716caa81",
            "2e5c22f3b3794a5484930e9ad84f65e4"
          ]
        },
        "id": "xnlTGMCIuKYv",
        "outputId": "a47d9f94-1101-4868-8845-a779fa500399"
      },
      "outputs": [
        {
          "output_type": "stream",
          "name": "stdout",
          "text": [
            "Downloading http://yann.lecun.com/exdb/mnist/train-images-idx3-ubyte.gz\n",
            "Downloading http://yann.lecun.com/exdb/mnist/train-images-idx3-ubyte.gz to data/MNIST/raw/train-images-idx3-ubyte.gz\n"
          ]
        },
        {
          "output_type": "display_data",
          "data": {
            "text/plain": [
              "  0%|          | 0/9912422 [00:00<?, ?it/s]"
            ],
            "application/vnd.jupyter.widget-view+json": {
              "version_major": 2,
              "version_minor": 0,
              "model_id": "60faa2a0dcc84b98beb2c13bd13182f5"
            }
          },
          "metadata": {}
        },
        {
          "output_type": "stream",
          "name": "stdout",
          "text": [
            "Extracting data/MNIST/raw/train-images-idx3-ubyte.gz to data/MNIST/raw\n",
            "\n",
            "Downloading http://yann.lecun.com/exdb/mnist/train-labels-idx1-ubyte.gz\n",
            "Downloading http://yann.lecun.com/exdb/mnist/train-labels-idx1-ubyte.gz to data/MNIST/raw/train-labels-idx1-ubyte.gz\n"
          ]
        },
        {
          "output_type": "display_data",
          "data": {
            "text/plain": [
              "  0%|          | 0/28881 [00:00<?, ?it/s]"
            ],
            "application/vnd.jupyter.widget-view+json": {
              "version_major": 2,
              "version_minor": 0,
              "model_id": "a9bdde8f41914d77a7889f93c9e2c4fb"
            }
          },
          "metadata": {}
        },
        {
          "output_type": "stream",
          "name": "stdout",
          "text": [
            "Extracting data/MNIST/raw/train-labels-idx1-ubyte.gz to data/MNIST/raw\n",
            "\n",
            "Downloading http://yann.lecun.com/exdb/mnist/t10k-images-idx3-ubyte.gz\n",
            "Downloading http://yann.lecun.com/exdb/mnist/t10k-images-idx3-ubyte.gz to data/MNIST/raw/t10k-images-idx3-ubyte.gz\n"
          ]
        },
        {
          "output_type": "display_data",
          "data": {
            "text/plain": [
              "  0%|          | 0/1648877 [00:00<?, ?it/s]"
            ],
            "application/vnd.jupyter.widget-view+json": {
              "version_major": 2,
              "version_minor": 0,
              "model_id": "2b7c2ea89aa14c56b4a1f3a963021bf6"
            }
          },
          "metadata": {}
        },
        {
          "output_type": "stream",
          "name": "stdout",
          "text": [
            "Extracting data/MNIST/raw/t10k-images-idx3-ubyte.gz to data/MNIST/raw\n",
            "\n",
            "Downloading http://yann.lecun.com/exdb/mnist/t10k-labels-idx1-ubyte.gz\n",
            "Downloading http://yann.lecun.com/exdb/mnist/t10k-labels-idx1-ubyte.gz to data/MNIST/raw/t10k-labels-idx1-ubyte.gz\n"
          ]
        },
        {
          "output_type": "display_data",
          "data": {
            "text/plain": [
              "  0%|          | 0/4542 [00:00<?, ?it/s]"
            ],
            "application/vnd.jupyter.widget-view+json": {
              "version_major": 2,
              "version_minor": 0,
              "model_id": "0a1d327abe4345f6b572c89565f93019"
            }
          },
          "metadata": {}
        },
        {
          "output_type": "stream",
          "name": "stdout",
          "text": [
            "Extracting data/MNIST/raw/t10k-labels-idx1-ubyte.gz to data/MNIST/raw\n",
            "\n"
          ]
        }
      ],
      "source": [
        "##########################\n",
        "### Dataset\n",
        "##########################\n",
        "\n",
        "train_loader, valid_loader, test_loader = get_dataloaders_mnist(\n",
        "    batch_size=BATCH_SIZE, \n",
        "    num_workers=2, \n",
        "    validation_fraction=0.)"
      ]
    },
    {
      "cell_type": "code",
      "execution_count": 9,
      "metadata": {
        "colab": {
          "base_uri": "https://localhost:8080/"
        },
        "id": "uQMXmTmWuKYw",
        "outputId": "d7251fb2-28fb-4c75-cf3f-c58f7d709d5c"
      },
      "outputs": [
        {
          "output_type": "stream",
          "name": "stdout",
          "text": [
            "Training Set:\n",
            "\n",
            "Image batch dimensions: torch.Size([32, 1, 28, 28])\n",
            "Image label dimensions: torch.Size([32])\n",
            "tensor([1, 2, 1, 9, 0, 6, 9, 8, 0, 1])\n",
            "\n",
            "Validation Set:\n",
            "\n",
            "Testing Set:\n",
            "Image batch dimensions: torch.Size([32, 1, 28, 28])\n",
            "Image label dimensions: torch.Size([32])\n",
            "tensor([7, 2, 1, 0, 4, 1, 4, 9, 5, 9])\n"
          ]
        }
      ],
      "source": [
        "# Checking the dataset\n",
        "print('Training Set:\\n')\n",
        "for images, labels in train_loader:  \n",
        "    print('Image batch dimensions:', images.size())\n",
        "    print('Image label dimensions:', labels.size())\n",
        "    print(labels[:10])\n",
        "    break\n",
        "    \n",
        "# Checking the dataset\n",
        "print('\\nValidation Set:')\n",
        "for images, labels in valid_loader:  \n",
        "    print('Image batch dimensions:', images.size())\n",
        "    print('Image label dimensions:', labels.size())\n",
        "    print(labels[:10])\n",
        "    break\n",
        "\n",
        "# Checking the dataset\n",
        "print('\\nTesting Set:')\n",
        "for images, labels in test_loader:  \n",
        "    print('Image batch dimensions:', images.size())\n",
        "    print('Image label dimensions:', labels.size())\n",
        "    print(labels[:10])\n",
        "    break"
      ]
    },
    {
      "cell_type": "markdown",
      "metadata": {
        "id": "S955jum9uKYx"
      },
      "source": [
        "## Model"
      ]
    },
    {
      "cell_type": "code",
      "execution_count": 10,
      "metadata": {
        "id": "qhPOYWf2uKYx"
      },
      "outputs": [],
      "source": [
        "##########################\n",
        "### MODEL\n",
        "##########################\n",
        "\n",
        "\n",
        "class Reshape(nn.Module):\n",
        "    def __init__(self, *args):\n",
        "        super().__init__()\n",
        "        self.shape = args\n",
        "\n",
        "    def forward(self, x):\n",
        "        return x.view(self.shape)\n",
        "\n",
        "\n",
        "class Trim(nn.Module):\n",
        "    def __init__(self, *args):\n",
        "        super().__init__()\n",
        "\n",
        "    def forward(self, x):\n",
        "        return x[:, :, :28, :28]\n",
        "\n",
        "\n",
        "class AutoEncoder(nn.Module):\n",
        "    def __init__(self):\n",
        "        super().__init__()\n",
        "        \n",
        "        self.encoder = nn.Sequential( #784\n",
        "                nn.Conv2d(1, 32, stride=(1, 1), kernel_size=(3, 3), padding=1),\n",
        "                nn.LeakyReLU(0.01), # Use leaky ReLU instead of ReLU to not zero out many weights\n",
        "                nn.Conv2d(32, 64, stride=(2, 2), kernel_size=(3, 3), padding=1),\n",
        "                nn.LeakyReLU(0.01),\n",
        "                nn.Conv2d(64, 64, stride=(2, 2), kernel_size=(3, 3), padding=1),\n",
        "                nn.LeakyReLU(0.01),\n",
        "                nn.Conv2d(64, 64, stride=(1, 1), kernel_size=(3, 3), padding=1),\n",
        "                nn.Flatten(),\n",
        "                nn.Linear(3136, 2)\n",
        "        )\n",
        "        self.decoder = nn.Sequential(\n",
        "                torch.nn.Linear(2, 3136),\n",
        "                Reshape(-1, 64, 7, 7),\n",
        "                nn.ConvTranspose2d(64, 64, stride=(1, 1), kernel_size=(3, 3), padding=1),\n",
        "                nn.LeakyReLU(0.01),\n",
        "                nn.ConvTranspose2d(64, 64, stride=(2, 2), kernel_size=(3, 3), padding=1),                \n",
        "                nn.LeakyReLU(0.01),\n",
        "                nn.ConvTranspose2d(64, 32, stride=(2, 2), kernel_size=(3, 3), padding=0),                \n",
        "                nn.LeakyReLU(0.01),\n",
        "                nn.ConvTranspose2d(32, 1, stride=(1, 1), kernel_size=(3, 3), padding=0), \n",
        "                Trim(),  # 1x29x29 -> 1x28x28\n",
        "                nn.Sigmoid()\n",
        "                )\n",
        "\n",
        "    def forward(self, x):\n",
        "        x = self.encoder(x)\n",
        "        x = self.decoder(x)\n",
        "        return x"
      ]
    },
    {
      "cell_type": "code",
      "execution_count": 11,
      "metadata": {
        "id": "_lza9t_uj5w1"
      },
      "outputs": [],
      "source": [
        "set_all_seeds(RANDOM_SEED)\n",
        "\n",
        "model = AutoEncoder()\n",
        "model.to(DEVICE)\n",
        "\n",
        "optimizer = torch.optim.Adam(model.parameters(), lr=LEARNING_RATE)  "
      ]
    },
    {
      "cell_type": "markdown",
      "metadata": {
        "id": "RAodboScj5w6"
      },
      "source": [
        "## Training"
      ]
    },
    {
      "cell_type": "code",
      "execution_count": 12,
      "metadata": {
        "colab": {
          "base_uri": "https://localhost:8080/"
        },
        "id": "Dzh3ROmRj5w7",
        "outputId": "9cef58f5-1a73-4348-d7c8-b3fcc4e9913d"
      },
      "outputs": [
        {
          "output_type": "stream",
          "name": "stdout",
          "text": [
            "Epoch: 001/020 | Batch 0000/1875 | Loss: 0.2998\n",
            "Epoch: 001/020 | Batch 0250/1875 | Loss: 0.0518\n",
            "Epoch: 001/020 | Batch 0500/1875 | Loss: 0.0561\n",
            "Epoch: 001/020 | Batch 0750/1875 | Loss: 0.0526\n",
            "Epoch: 001/020 | Batch 1000/1875 | Loss: 0.0462\n",
            "Epoch: 001/020 | Batch 1250/1875 | Loss: 0.0533\n",
            "Epoch: 001/020 | Batch 1500/1875 | Loss: 0.0470\n",
            "Epoch: 001/020 | Batch 1750/1875 | Loss: 0.0522\n",
            "Time elapsed: 0.82 min\n",
            "Epoch: 002/020 | Batch 0000/1875 | Loss: 0.0467\n",
            "Epoch: 002/020 | Batch 0250/1875 | Loss: 0.0499\n",
            "Epoch: 002/020 | Batch 0500/1875 | Loss: 0.0495\n",
            "Epoch: 002/020 | Batch 0750/1875 | Loss: 0.0452\n",
            "Epoch: 002/020 | Batch 1000/1875 | Loss: 0.0449\n",
            "Epoch: 002/020 | Batch 1250/1875 | Loss: 0.0448\n",
            "Epoch: 002/020 | Batch 1500/1875 | Loss: 0.0433\n",
            "Epoch: 002/020 | Batch 1750/1875 | Loss: 0.0428\n",
            "Time elapsed: 1.52 min\n",
            "Epoch: 003/020 | Batch 0000/1875 | Loss: 0.0450\n",
            "Epoch: 003/020 | Batch 0250/1875 | Loss: 0.0448\n",
            "Epoch: 003/020 | Batch 0500/1875 | Loss: 0.0450\n",
            "Epoch: 003/020 | Batch 0750/1875 | Loss: 0.0402\n",
            "Epoch: 003/020 | Batch 1000/1875 | Loss: 0.0440\n",
            "Epoch: 003/020 | Batch 1250/1875 | Loss: 0.0432\n",
            "Epoch: 003/020 | Batch 1500/1875 | Loss: 0.0422\n",
            "Epoch: 003/020 | Batch 1750/1875 | Loss: 0.0466\n",
            "Time elapsed: 2.22 min\n",
            "Epoch: 004/020 | Batch 0000/1875 | Loss: 0.0388\n",
            "Epoch: 004/020 | Batch 0250/1875 | Loss: 0.0451\n",
            "Epoch: 004/020 | Batch 0500/1875 | Loss: 0.0430\n",
            "Epoch: 004/020 | Batch 0750/1875 | Loss: 0.0410\n",
            "Epoch: 004/020 | Batch 1000/1875 | Loss: 0.0451\n",
            "Epoch: 004/020 | Batch 1250/1875 | Loss: 0.0490\n",
            "Epoch: 004/020 | Batch 1500/1875 | Loss: 0.0437\n",
            "Epoch: 004/020 | Batch 1750/1875 | Loss: 0.0418\n",
            "Time elapsed: 2.93 min\n",
            "Epoch: 005/020 | Batch 0000/1875 | Loss: 0.0383\n",
            "Epoch: 005/020 | Batch 0250/1875 | Loss: 0.0442\n",
            "Epoch: 005/020 | Batch 0500/1875 | Loss: 0.0406\n",
            "Epoch: 005/020 | Batch 0750/1875 | Loss: 0.0424\n",
            "Epoch: 005/020 | Batch 1000/1875 | Loss: 0.0429\n",
            "Epoch: 005/020 | Batch 1250/1875 | Loss: 0.0435\n",
            "Epoch: 005/020 | Batch 1500/1875 | Loss: 0.0427\n",
            "Epoch: 005/020 | Batch 1750/1875 | Loss: 0.0377\n",
            "Time elapsed: 3.64 min\n",
            "Epoch: 006/020 | Batch 0000/1875 | Loss: 0.0396\n",
            "Epoch: 006/020 | Batch 0250/1875 | Loss: 0.0396\n",
            "Epoch: 006/020 | Batch 0500/1875 | Loss: 0.0435\n",
            "Epoch: 006/020 | Batch 0750/1875 | Loss: 0.0361\n",
            "Epoch: 006/020 | Batch 1000/1875 | Loss: 0.0460\n",
            "Epoch: 006/020 | Batch 1250/1875 | Loss: 0.0352\n",
            "Epoch: 006/020 | Batch 1500/1875 | Loss: 0.0358\n",
            "Epoch: 006/020 | Batch 1750/1875 | Loss: 0.0381\n",
            "Time elapsed: 4.37 min\n",
            "Epoch: 007/020 | Batch 0000/1875 | Loss: 0.0401\n",
            "Epoch: 007/020 | Batch 0250/1875 | Loss: 0.0361\n",
            "Epoch: 007/020 | Batch 0500/1875 | Loss: 0.0369\n",
            "Epoch: 007/020 | Batch 0750/1875 | Loss: 0.0394\n",
            "Epoch: 007/020 | Batch 1000/1875 | Loss: 0.0357\n",
            "Epoch: 007/020 | Batch 1250/1875 | Loss: 0.0423\n",
            "Epoch: 007/020 | Batch 1500/1875 | Loss: 0.0453\n",
            "Epoch: 007/020 | Batch 1750/1875 | Loss: 0.0382\n",
            "Time elapsed: 5.07 min\n",
            "Epoch: 008/020 | Batch 0000/1875 | Loss: 0.0483\n",
            "Epoch: 008/020 | Batch 0250/1875 | Loss: 0.0431\n",
            "Epoch: 008/020 | Batch 0500/1875 | Loss: 0.0460\n",
            "Epoch: 008/020 | Batch 0750/1875 | Loss: 0.0397\n",
            "Epoch: 008/020 | Batch 1000/1875 | Loss: 0.0458\n",
            "Epoch: 008/020 | Batch 1250/1875 | Loss: 0.0402\n",
            "Epoch: 008/020 | Batch 1500/1875 | Loss: 0.0438\n",
            "Epoch: 008/020 | Batch 1750/1875 | Loss: 0.0403\n",
            "Time elapsed: 5.76 min\n",
            "Epoch: 009/020 | Batch 0000/1875 | Loss: 0.0370\n",
            "Epoch: 009/020 | Batch 0250/1875 | Loss: 0.0373\n",
            "Epoch: 009/020 | Batch 0500/1875 | Loss: 0.0439\n",
            "Epoch: 009/020 | Batch 0750/1875 | Loss: 0.0342\n",
            "Epoch: 009/020 | Batch 1000/1875 | Loss: 0.0370\n",
            "Epoch: 009/020 | Batch 1250/1875 | Loss: 0.0376\n",
            "Epoch: 009/020 | Batch 1500/1875 | Loss: 0.0372\n",
            "Epoch: 009/020 | Batch 1750/1875 | Loss: 0.0403\n",
            "Time elapsed: 6.47 min\n",
            "Epoch: 010/020 | Batch 0000/1875 | Loss: 0.0403\n",
            "Epoch: 010/020 | Batch 0250/1875 | Loss: 0.0400\n",
            "Epoch: 010/020 | Batch 0500/1875 | Loss: 0.0417\n",
            "Epoch: 010/020 | Batch 0750/1875 | Loss: 0.0423\n",
            "Epoch: 010/020 | Batch 1000/1875 | Loss: 0.0391\n",
            "Epoch: 010/020 | Batch 1250/1875 | Loss: 0.0438\n",
            "Epoch: 010/020 | Batch 1500/1875 | Loss: 0.0401\n",
            "Epoch: 010/020 | Batch 1750/1875 | Loss: 0.0447\n",
            "Time elapsed: 7.18 min\n",
            "Epoch: 011/020 | Batch 0000/1875 | Loss: 0.0358\n",
            "Epoch: 011/020 | Batch 0250/1875 | Loss: 0.0428\n",
            "Epoch: 011/020 | Batch 0500/1875 | Loss: 0.0389\n",
            "Epoch: 011/020 | Batch 0750/1875 | Loss: 0.0366\n",
            "Epoch: 011/020 | Batch 1000/1875 | Loss: 0.0461\n",
            "Epoch: 011/020 | Batch 1250/1875 | Loss: 0.0406\n",
            "Epoch: 011/020 | Batch 1500/1875 | Loss: 0.0374\n",
            "Epoch: 011/020 | Batch 1750/1875 | Loss: 0.0449\n",
            "Time elapsed: 7.89 min\n",
            "Epoch: 012/020 | Batch 0000/1875 | Loss: 0.0389\n",
            "Epoch: 012/020 | Batch 0250/1875 | Loss: 0.0352\n",
            "Epoch: 012/020 | Batch 0500/1875 | Loss: 0.0395\n",
            "Epoch: 012/020 | Batch 0750/1875 | Loss: 0.0373\n",
            "Epoch: 012/020 | Batch 1000/1875 | Loss: 0.0379\n",
            "Epoch: 012/020 | Batch 1250/1875 | Loss: 0.0346\n",
            "Epoch: 012/020 | Batch 1500/1875 | Loss: 0.0378\n",
            "Epoch: 012/020 | Batch 1750/1875 | Loss: 0.0393\n",
            "Time elapsed: 8.60 min\n",
            "Epoch: 013/020 | Batch 0000/1875 | Loss: 0.0385\n",
            "Epoch: 013/020 | Batch 0250/1875 | Loss: 0.0388\n",
            "Epoch: 013/020 | Batch 0500/1875 | Loss: 0.0343\n",
            "Epoch: 013/020 | Batch 0750/1875 | Loss: 0.0347\n",
            "Epoch: 013/020 | Batch 1000/1875 | Loss: 0.0421\n",
            "Epoch: 013/020 | Batch 1250/1875 | Loss: 0.0391\n",
            "Epoch: 013/020 | Batch 1500/1875 | Loss: 0.0393\n",
            "Epoch: 013/020 | Batch 1750/1875 | Loss: 0.0369\n",
            "Time elapsed: 9.33 min\n",
            "Epoch: 014/020 | Batch 0000/1875 | Loss: 0.0433\n",
            "Epoch: 014/020 | Batch 0250/1875 | Loss: 0.0389\n",
            "Epoch: 014/020 | Batch 0500/1875 | Loss: 0.0414\n",
            "Epoch: 014/020 | Batch 0750/1875 | Loss: 0.0335\n",
            "Epoch: 014/020 | Batch 1000/1875 | Loss: 0.0379\n",
            "Epoch: 014/020 | Batch 1250/1875 | Loss: 0.0394\n",
            "Epoch: 014/020 | Batch 1500/1875 | Loss: 0.0371\n",
            "Epoch: 014/020 | Batch 1750/1875 | Loss: 0.0379\n",
            "Time elapsed: 10.04 min\n",
            "Epoch: 015/020 | Batch 0000/1875 | Loss: 0.0387\n",
            "Epoch: 015/020 | Batch 0250/1875 | Loss: 0.0344\n",
            "Epoch: 015/020 | Batch 0500/1875 | Loss: 0.0452\n",
            "Epoch: 015/020 | Batch 0750/1875 | Loss: 0.0369\n",
            "Epoch: 015/020 | Batch 1000/1875 | Loss: 0.0455\n",
            "Epoch: 015/020 | Batch 1250/1875 | Loss: 0.0374\n",
            "Epoch: 015/020 | Batch 1500/1875 | Loss: 0.0406\n",
            "Epoch: 015/020 | Batch 1750/1875 | Loss: 0.0387\n",
            "Time elapsed: 10.75 min\n",
            "Epoch: 016/020 | Batch 0000/1875 | Loss: 0.0423\n",
            "Epoch: 016/020 | Batch 0250/1875 | Loss: 0.0390\n",
            "Epoch: 016/020 | Batch 0500/1875 | Loss: 0.0351\n",
            "Epoch: 016/020 | Batch 0750/1875 | Loss: 0.0403\n",
            "Epoch: 016/020 | Batch 1000/1875 | Loss: 0.0419\n",
            "Epoch: 016/020 | Batch 1250/1875 | Loss: 0.0317\n",
            "Epoch: 016/020 | Batch 1500/1875 | Loss: 0.0415\n",
            "Epoch: 016/020 | Batch 1750/1875 | Loss: 0.0410\n",
            "Time elapsed: 11.46 min\n",
            "Epoch: 017/020 | Batch 0000/1875 | Loss: 0.0382\n",
            "Epoch: 017/020 | Batch 0250/1875 | Loss: 0.0407\n",
            "Epoch: 017/020 | Batch 0500/1875 | Loss: 0.0366\n",
            "Epoch: 017/020 | Batch 0750/1875 | Loss: 0.0348\n",
            "Epoch: 017/020 | Batch 1000/1875 | Loss: 0.0399\n",
            "Epoch: 017/020 | Batch 1250/1875 | Loss: 0.0379\n",
            "Epoch: 017/020 | Batch 1500/1875 | Loss: 0.0363\n",
            "Epoch: 017/020 | Batch 1750/1875 | Loss: 0.0352\n",
            "Time elapsed: 12.17 min\n",
            "Epoch: 018/020 | Batch 0000/1875 | Loss: 0.0365\n",
            "Epoch: 018/020 | Batch 0250/1875 | Loss: 0.0374\n",
            "Epoch: 018/020 | Batch 0500/1875 | Loss: 0.0394\n",
            "Epoch: 018/020 | Batch 0750/1875 | Loss: 0.0408\n",
            "Epoch: 018/020 | Batch 1000/1875 | Loss: 0.0414\n",
            "Epoch: 018/020 | Batch 1250/1875 | Loss: 0.0405\n",
            "Epoch: 018/020 | Batch 1500/1875 | Loss: 0.0389\n",
            "Epoch: 018/020 | Batch 1750/1875 | Loss: 0.0442\n",
            "Time elapsed: 12.88 min\n",
            "Epoch: 019/020 | Batch 0000/1875 | Loss: 0.0347\n",
            "Epoch: 019/020 | Batch 0250/1875 | Loss: 0.0386\n",
            "Epoch: 019/020 | Batch 0500/1875 | Loss: 0.0303\n",
            "Epoch: 019/020 | Batch 0750/1875 | Loss: 0.0347\n",
            "Epoch: 019/020 | Batch 1000/1875 | Loss: 0.0397\n",
            "Epoch: 019/020 | Batch 1250/1875 | Loss: 0.0380\n",
            "Epoch: 019/020 | Batch 1500/1875 | Loss: 0.0422\n",
            "Epoch: 019/020 | Batch 1750/1875 | Loss: 0.0413\n",
            "Time elapsed: 13.58 min\n",
            "Epoch: 020/020 | Batch 0000/1875 | Loss: 0.0370\n",
            "Epoch: 020/020 | Batch 0250/1875 | Loss: 0.0387\n",
            "Epoch: 020/020 | Batch 0500/1875 | Loss: 0.0354\n",
            "Epoch: 020/020 | Batch 0750/1875 | Loss: 0.0402\n",
            "Epoch: 020/020 | Batch 1000/1875 | Loss: 0.0413\n",
            "Epoch: 020/020 | Batch 1250/1875 | Loss: 0.0432\n",
            "Epoch: 020/020 | Batch 1500/1875 | Loss: 0.0373\n",
            "Epoch: 020/020 | Batch 1750/1875 | Loss: 0.0380\n",
            "Time elapsed: 14.31 min\n",
            "Total Training Time: 14.31 min\n"
          ]
        }
      ],
      "source": [
        "log_dict = train_autoencoder_v1(num_epochs=NUM_EPOCHS, model=model, \n",
        "                                optimizer=optimizer, device=DEVICE, \n",
        "                                train_loader=train_loader,\n",
        "                                skip_epoch_stats=True,\n",
        "                                logging_interval=250)"
      ]
    },
    {
      "cell_type": "markdown",
      "metadata": {
        "id": "dxdL4Yv1uKY0"
      },
      "source": [
        "## Evaluation"
      ]
    },
    {
      "cell_type": "code",
      "execution_count": 13,
      "metadata": {
        "colab": {
          "base_uri": "https://localhost:8080/",
          "height": 297
        },
        "id": "qF2jWgoeuKY0",
        "outputId": "1532f970-6060-4c3d-a254-c683e5753299"
      },
      "outputs": [
        {
          "output_type": "display_data",
          "data": {
            "text/plain": [
              "<Figure size 432x288 with 2 Axes>"
            ],
            "image/png": "[encoded data removed]"
          },
          "metadata": {
            "needs_background": "light"
          }
        }
      ],
      "source": [
        "\n",
        "plot_training_loss(log_dict['train_loss_per_batch'], NUM_EPOCHS)\n",
        "plt.show()"
      ]
    },
    {
      "cell_type": "code",
      "execution_count": 14,
      "metadata": {
        "colab": {
          "base_uri": "https://localhost:8080/",
          "height": 187
        },
        "id": "nBsBLbFIuKY1",
        "outputId": "65af87b5-31ca-4f8b-81dd-9da70ba57f8b"
      },
      "outputs": [
        {
          "output_type": "display_data",
          "data": {
            "text/plain": [
              "<Figure size 1440x180 with 30 Axes>"
            ],
            "image/png": "[encoded data removed]"
          },
          "metadata": {
            "needs_background": "light"
          }
        }
      ],
      "source": [
        "plot_generated_images(data_loader=train_loader, model=model, device=DEVICE)           "
      ]
    },
    {
      "cell_type": "code",
      "execution_count": 17,
      "metadata": {
        "colab": {
          "base_uri": "https://localhost:8080/",
          "height": 266
        },
        "id": "elRb9Cf0uKY1",
        "outputId": "a48bf412-ac6b-4686-a004-87e686dddc1d"
      },
      "outputs": [
        {
          "output_type": "display_data",
          "data": {
            "text/plain": [
              "<Figure size 432x288 with 1 Axes>"
            ],
            "image/png": "[encoded data removed]"
          },
          "metadata": {
            "needs_background": "light"
          }
        }
      ],
      "source": [
        "plot_latent_space_with_labels(\n",
        "    num_classes=NUM_CLASSES,\n",
        "    data_loader=train_loader,\n",
        "    model=model, \n",
        "    device=DEVICE)\n",
        "\n",
        "plt.legend()\n",
        "plt.show()"
      ]
    },
    {
      "cell_type": "code",
      "execution_count": 48,
      "metadata": {
        "colab": {
          "base_uri": "https://localhost:8080/",
          "height": 265
        },
        "id": "mortUzPwuKY1",
        "outputId": "aecd88f3-2452-4668-db9f-ae31ad256d70"
      },
      "outputs": [
        {
          "output_type": "display_data",
          "data": {
            "text/plain": [
              "<Figure size 432x288 with 1 Axes>"
            ],
            "image/png": "[encoded data removed]"
          },
          "metadata": {
            "needs_background": "light"
          }
        }
      ],
      "source": [
        "with torch.no_grad():\n",
        "    new_image = model.decoder(torch.tensor([2.5, -2.5]).to(DEVICE))\n",
        "    new_image.squeeze_(0)\n",
        "    new_image.squeeze_(0)\n",
        "plt.imshow(new_image.to('cpu').numpy(), cmap='binary')\n",
        "plt.show()"
      ]
    }
  ],
  "metadata": {
    "accelerator": "GPU",
    "colab": {
      "name": "convnet-vgg16.ipynb",
      "provenance": []
    },
    "kernelspec": {
      "display_name": "Python 3",
      "language": "python",
      "name": "python3"
    },
    "language_info": {
      "codemirror_mode": {
        "name": "ipython",
        "version": 3
      },
      "file_extension": ".py",
      "mimetype": "text/x-python",
      "name": "python",
      "nbconvert_exporter": "python",
      "pygments_lexer": "ipython3",
      "version": "3.9.2"
    },
    "toc": {
      "nav_menu": {},
      "number_sections": true,
      "sideBar": true,
      "skip_h1_title": false,
      "title_cell": "Table of Contents",
      "title_sidebar": "Contents",
      "toc_cell": true,
      "toc_position": {
        "height": "calc(100% - 180px)",
        "left": "10px",
        "top": "150px",
        "width": "371px"
      },
      "toc_section_display": true,
      "toc_window_display": true
    },
    "gpuClass": "standard",
    "widgets": {
      "application/vnd.jupyter.widget-state+json": {
        "60faa2a0dcc84b98beb2c13bd13182f5": {
          "model_module": "@jupyter-widgets/controls",
          "model_name": "HBoxModel",
          "model_module_version": "1.5.0",
          "state": {
            "_dom_classes": [],
            "_model_module": "@jupyter-widgets/controls",
            "_model_module_version": "1.5.0",
            "_model_name": "HBoxModel",
            "_view_count": null,
            "_view_module": "@jupyter-widgets/controls",
            "_view_module_version": "1.5.0",
            "_view_name": "HBoxView",
            "box_style": "",
            "children": [
              "IPY_MODEL_3fa267053568458f995a0bdf29b334b4",
              "IPY_MODEL_d18a663217894fcb81f58431a48ede4f",
              "IPY_MODEL_5cc2d70275884e07a8c5331468ab4a51"
            ],
            "layout": "IPY_MODEL_b1c40bbffcfe46f6a5d53b45b65aff39"
          }
        },
        "3fa267053568458f995a0bdf29b334b4": {
          "model_module": "@jupyter-widgets/controls",
          "model_name": "HTMLModel",
          "model_module_version": "1.5.0",
          "state": {
            "_dom_classes": [],
            "_model_module": "@jupyter-widgets/controls",
            "_model_module_version": "1.5.0",
            "_model_name": "HTMLModel",
            "_view_count": null,
            "_view_module": "@jupyter-widgets/controls",
            "_view_module_version": "1.5.0",
            "_view_name": "HTMLView",
            "description": "",
            "description_tooltip": null,
            "layout": "IPY_MODEL_7d77182f2cb74cadb2093f75a73864bd",
            "placeholder": "​",
            "style": "IPY_MODEL_3a52dc83bfd74bd2ad68acec1ed8cefa",
            "value": "100%"
          }
        },
        "d18a663217894fcb81f58431a48ede4f": {
          "model_module": "@jupyter-widgets/controls",
          "model_name": "FloatProgressModel",
          "model_module_version": "1.5.0",
          "state": {
            "_dom_classes": [],
            "_model_module": "@jupyter-widgets/controls",
            "_model_module_version": "1.5.0",
            "_model_name": "FloatProgressModel",
            "_view_count": null,
            "_view_module": "@jupyter-widgets/controls",
            "_view_module_version": "1.5.0",
            "_view_name": "ProgressView",
            "bar_style": "success",
            "description": "",
            "description_tooltip": null,
            "layout": "IPY_MODEL_245528918af64b1e95ab5cc71274c948",
            "max": 9912422,
            "min": 0,
            "orientation": "horizontal",
            "style": "IPY_MODEL_980ee197c4964c3994dc852592cd68e1",
            "value": 9912422
          }
        },
        "5cc2d70275884e07a8c5331468ab4a51": {
          "model_module": "@jupyter-widgets/controls",
          "model_name": "HTMLModel",
          "model_module_version": "1.5.0",
          "state": {
            "_dom_classes": [],
            "_model_module": "@jupyter-widgets/controls",
            "_model_module_version": "1.5.0",
            "_model_name": "HTMLModel",
            "_view_count": null,
            "_view_module": "@jupyter-widgets/controls",
            "_view_module_version": "1.5.0",
            "_view_name": "HTMLView",
            "description": "",
            "description_tooltip": null,
            "layout": "IPY_MODEL_1ca0f58ba2fd4c63910f0b8e7b9b3096",
            "placeholder": "​",
            "style": "IPY_MODEL_5b35dec3f14c4b6aa7d8adf75344f173",
            "value": " 9912422/9912422 [00:00&lt;00:00, 160136932.53it/s]"
          }
        },
        "b1c40bbffcfe46f6a5d53b45b65aff39": {
          "model_module": "@jupyter-widgets/base",
          "model_name": "LayoutModel",
          "model_module_version": "1.2.0",
          "state": {
            "_model_module": "@jupyter-widgets/base",
            "_model_module_version": "1.2.0",
            "_model_name": "LayoutModel",
            "_view_count": null,
            "_view_module": "@jupyter-widgets/base",
            "_view_module_version": "1.2.0",
            "_view_name": "LayoutView",
            "align_content": null,
            "align_items": null,
            "align_self": null,
            "border": null,
            "bottom": null,
            "display": null,
            "flex": null,
            "flex_flow": null,
            "grid_area": null,
            "grid_auto_columns": null,
            "grid_auto_flow": null,
            "grid_auto_rows": null,
            "grid_column": null,
            "grid_gap": null,
            "grid_row": null,
            "grid_template_areas": null,
            "grid_template_columns": null,
            "grid_template_rows": null,
            "height": null,
            "justify_content": null,
            "justify_items": null,
            "left": null,
            "margin": null,
            "max_height": null,
            "max_width": null,
            "min_height": null,
            "min_width": null,
            "object_fit": null,
            "object_position": null,
            "order": null,
            "overflow": null,
            "overflow_x": null,
            "overflow_y": null,
            "padding": null,
            "right": null,
            "top": null,
            "visibility": null,
            "width": null
          }
        },
        "7d77182f2cb74cadb2093f75a73864bd": {
          "model_module": "@jupyter-widgets/base",
          "model_name": "LayoutModel",
          "model_module_version": "1.2.0",
          "state": {
            "_model_module": "@jupyter-widgets/base",
            "_model_module_version": "1.2.0",
            "_model_name": "LayoutModel",
            "_view_count": null,
            "_view_module": "@jupyter-widgets/base",
            "_view_module_version": "1.2.0",
            "_view_name": "LayoutView",
            "align_content": null,
            "align_items": null,
            "align_self": null,
            "border": null,
            "bottom": null,
            "display": null,
            "flex": null,
            "flex_flow": null,
            "grid_area": null,
            "grid_auto_columns": null,
            "grid_auto_flow": null,
            "grid_auto_rows": null,
            "grid_column": null,
            "grid_gap": null,
            "grid_row": null,
            "grid_template_areas": null,
            "grid_template_columns": null,
            "grid_template_rows": null,
            "height": null,
            "justify_content": null,
            "justify_items": null,
            "left": null,
            "margin": null,
            "max_height": null,
            "max_width": null,
            "min_height": null,
            "min_width": null,
            "object_fit": null,
            "object_position": null,
            "order": null,
            "overflow": null,
            "overflow_x": null,
            "overflow_y": null,
            "padding": null,
            "right": null,
            "top": null,
            "visibility": null,
            "width": null
          }
        },
        "3a52dc83bfd74bd2ad68acec1ed8cefa": {
          "model_module": "@jupyter-widgets/controls",
          "model_name": "DescriptionStyleModel",
          "model_module_version": "1.5.0",
          "state": {
            "_model_module": "@jupyter-widgets/controls",
            "_model_module_version": "1.5.0",
            "_model_name": "DescriptionStyleModel",
            "_view_count": null,
            "_view_module": "@jupyter-widgets/base",
            "_view_module_version": "1.2.0",
            "_view_name": "StyleView",
            "description_width": ""
          }
        },
        "245528918af64b1e95ab5cc71274c948": {
          "model_module": "@jupyter-widgets/base",
          "model_name": "LayoutModel",
          "model_module_version": "1.2.0",
          "state": {
            "_model_module": "@jupyter-widgets/base",
            "_model_module_version": "1.2.0",
            "_model_name": "LayoutModel",
            "_view_count": null,
            "_view_module": "@jupyter-widgets/base",
            "_view_module_version": "1.2.0",
            "_view_name": "LayoutView",
            "align_content": null,
            "align_items": null,
            "align_self": null,
            "border": null,
            "bottom": null,
            "display": null,
            "flex": null,
            "flex_flow": null,
            "grid_area": null,
            "grid_auto_columns": null,
            "grid_auto_flow": null,
            "grid_auto_rows": null,
            "grid_column": null,
            "grid_gap": null,
            "grid_row": null,
            "grid_template_areas": null,
            "grid_template_columns": null,
            "grid_template_rows": null,
            "height": null,
            "justify_content": null,
            "justify_items": null,
            "left": null,
            "margin": null,
            "max_height": null,
            "max_width": null,
            "min_height": null,
            "min_width": null,
            "object_fit": null,
            "object_position": null,
            "order": null,
            "overflow": null,
            "overflow_x": null,
            "overflow_y": null,
            "padding": null,
            "right": null,
            "top": null,
            "visibility": null,
            "width": null
          }
        },
        "980ee197c4964c3994dc852592cd68e1": {
          "model_module": "@jupyter-widgets/controls",
          "model_name": "ProgressStyleModel",
          "model_module_version": "1.5.0",
          "state": {
            "_model_module": "@jupyter-widgets/controls",
            "_model_module_version": "1.5.0",
            "_model_name": "ProgressStyleModel",
            "_view_count": null,
            "_view_module": "@jupyter-widgets/base",
            "_view_module_version": "1.2.0",
            "_view_name": "StyleView",
            "bar_color": null,
            "description_width": ""
          }
        },
        "1ca0f58ba2fd4c63910f0b8e7b9b3096": {
          "model_module": "@jupyter-widgets/base",
          "model_name": "LayoutModel",
          "model_module_version": "1.2.0",
          "state": {
            "_model_module": "@jupyter-widgets/base",
            "_model_module_version": "1.2.0",
            "_model_name": "LayoutModel",
            "_view_count": null,
            "_view_module": "@jupyter-widgets/base",
            "_view_module_version": "1.2.0",
            "_view_name": "LayoutView",
            "align_content": null,
            "align_items": null,
            "align_self": null,
            "border": null,
            "bottom": null,
            "display": null,
            "flex": null,
            "flex_flow": null,
            "grid_area": null,
            "grid_auto_columns": null,
            "grid_auto_flow": null,
            "grid_auto_rows": null,
            "grid_column": null,
            "grid_gap": null,
            "grid_row": null,
            "grid_template_areas": null,
            "grid_template_columns": null,
            "grid_template_rows": null,
            "height": null,
            "justify_content": null,
            "justify_items": null,
            "left": null,
            "margin": null,
            "max_height": null,
            "max_width": null,
            "min_height": null,
            "min_width": null,
            "object_fit": null,
            "object_position": null,
            "order": null,
            "overflow": null,
            "overflow_x": null,
            "overflow_y": null,
            "padding": null,
            "right": null,
            "top": null,
            "visibility": null,
            "width": null
          }
        },
        "5b35dec3f14c4b6aa7d8adf75344f173": {
          "model_module": "@jupyter-widgets/controls",
          "model_name": "DescriptionStyleModel",
          "model_module_version": "1.5.0",
          "state": {
            "_model_module": "@jupyter-widgets/controls",
            "_model_module_version": "1.5.0",
            "_model_name": "DescriptionStyleModel",
            "_view_count": null,
            "_view_module": "@jupyter-widgets/base",
            "_view_module_version": "1.2.0",
            "_view_name": "StyleView",
            "description_width": ""
          }
        },
        "a9bdde8f41914d77a7889f93c9e2c4fb": {
          "model_module": "@jupyter-widgets/controls",
          "model_name": "HBoxModel",
          "model_module_version": "1.5.0",
          "state": {
            "_dom_classes": [],
            "_model_module": "@jupyter-widgets/controls",
            "_model_module_version": "1.5.0",
            "_model_name": "HBoxModel",
            "_view_count": null,
            "_view_module": "@jupyter-widgets/controls",
            "_view_module_version": "1.5.0",
            "_view_name": "HBoxView",
            "box_style": "",
            "children": [
              "IPY_MODEL_513d665afe194c4fb16bf31af440382a",
              "IPY_MODEL_904089b9ec7e4f5d9998adf6afcd1e2b",
              "IPY_MODEL_3db8eb5325db43da93013049f433f6b5"
            ],
            "layout": "IPY_MODEL_d4d97d1dec87486b91f22be844f229e6"
          }
        },
        "513d665afe194c4fb16bf31af440382a": {
          "model_module": "@jupyter-widgets/controls",
          "model_name": "HTMLModel",
          "model_module_version": "1.5.0",
          "state": {
            "_dom_classes": [],
            "_model_module": "@jupyter-widgets/controls",
            "_model_module_version": "1.5.0",
            "_model_name": "HTMLModel",
            "_view_count": null,
            "_view_module": "@jupyter-widgets/controls",
            "_view_module_version": "1.5.0",
            "_view_name": "HTMLView",
            "description": "",
            "description_tooltip": null,
            "layout": "IPY_MODEL_5a616cea80ef487da343d4fba96da121",
            "placeholder": "​",
            "style": "IPY_MODEL_33c27b2eda2448b69328f30a269d697d",
            "value": "100%"
          }
        },
        "904089b9ec7e4f5d9998adf6afcd1e2b": {
          "model_module": "@jupyter-widgets/controls",
          "model_name": "FloatProgressModel",
          "model_module_version": "1.5.0",
          "state": {
            "_dom_classes": [],
            "_model_module": "@jupyter-widgets/controls",
            "_model_module_version": "1.5.0",
            "_model_name": "FloatProgressModel",
            "_view_count": null,
            "_view_module": "@jupyter-widgets/controls",
            "_view_module_version": "1.5.0",
            "_view_name": "ProgressView",
            "bar_style": "success",
            "description": "",
            "description_tooltip": null,
            "layout": "IPY_MODEL_567912b289f940d6abe2a4b003749e03",
            "max": 28881,
            "min": 0,
            "orientation": "horizontal",
            "style": "IPY_MODEL_6cd4f9caf3924306883339d28bba7b47",
            "value": 28881
          }
        },
        "3db8eb5325db43da93013049f433f6b5": {
          "model_module": "@jupyter-widgets/controls",
          "model_name": "HTMLModel",
          "model_module_version": "1.5.0",
          "state": {
            "_dom_classes": [],
            "_model_module": "@jupyter-widgets/controls",
            "_model_module_version": "1.5.0",
            "_model_name": "HTMLModel",
            "_view_count": null,
            "_view_module": "@jupyter-widgets/controls",
            "_view_module_version": "1.5.0",
            "_view_name": "HTMLView",
            "description": "",
            "description_tooltip": null,
            "layout": "IPY_MODEL_253ecaa071b3488e8f6b1267308e6181",
            "placeholder": "​",
            "style": "IPY_MODEL_c71ea82f198245c7ac016b6c39d953a8",
            "value": " 28881/28881 [00:00&lt;00:00, 991266.12it/s]"
          }
        },
        "d4d97d1dec87486b91f22be844f229e6": {
          "model_module": "@jupyter-widgets/base",
          "model_name": "LayoutModel",
          "model_module_version": "1.2.0",
          "state": {
            "_model_module": "@jupyter-widgets/base",
            "_model_module_version": "1.2.0",
            "_model_name": "LayoutModel",
            "_view_count": null,
            "_view_module": "@jupyter-widgets/base",
            "_view_module_version": "1.2.0",
            "_view_name": "LayoutView",
            "align_content": null,
            "align_items": null,
            "align_self": null,
            "border": null,
            "bottom": null,
            "display": null,
            "flex": null,
            "flex_flow": null,
            "grid_area": null,
            "grid_auto_columns": null,
            "grid_auto_flow": null,
            "grid_auto_rows": null,
            "grid_column": null,
            "grid_gap": null,
            "grid_row": null,
            "grid_template_areas": null,
            "grid_template_columns": null,
            "grid_template_rows": null,
            "height": null,
            "justify_content": null,
            "justify_items": null,
            "left": null,
            "margin": null,
            "max_height": null,
            "max_width": null,
            "min_height": null,
            "min_width": null,
            "object_fit": null,
            "object_position": null,
            "order": null,
            "overflow": null,
            "overflow_x": null,
            "overflow_y": null,
            "padding": null,
            "right": null,
            "top": null,
            "visibility": null,
            "width": null
          }
        },
        "5a616cea80ef487da343d4fba96da121": {
          "model_module": "@jupyter-widgets/base",
          "model_name": "LayoutModel",
          "model_module_version": "1.2.0",
          "state": {
            "_model_module": "@jupyter-widgets/base",
            "_model_module_version": "1.2.0",
            "_model_name": "LayoutModel",
            "_view_count": null,
            "_view_module": "@jupyter-widgets/base",
            "_view_module_version": "1.2.0",
            "_view_name": "LayoutView",
            "align_content": null,
            "align_items": null,
            "align_self": null,
            "border": null,
            "bottom": null,
            "display": null,
            "flex": null,
            "flex_flow": null,
            "grid_area": null,
            "grid_auto_columns": null,
            "grid_auto_flow": null,
            "grid_auto_rows": null,
            "grid_column": null,
            "grid_gap": null,
            "grid_row": null,
            "grid_template_areas": null,
            "grid_template_columns": null,
            "grid_template_rows": null,
            "height": null,
            "justify_content": null,
            "justify_items": null,
            "left": null,
            "margin": null,
            "max_height": null,
            "max_width": null,
            "min_height": null,
            "min_width": null,
            "object_fit": null,
            "object_position": null,
            "order": null,
            "overflow": null,
            "overflow_x": null,
            "overflow_y": null,
            "padding": null,
            "right": null,
            "top": null,
            "visibility": null,
            "width": null
          }
        },
        "33c27b2eda2448b69328f30a269d697d": {
          "model_module": "@jupyter-widgets/controls",
          "model_name": "DescriptionStyleModel",
          "model_module_version": "1.5.0",
          "state": {
            "_model_module": "@jupyter-widgets/controls",
            "_model_module_version": "1.5.0",
            "_model_name": "DescriptionStyleModel",
            "_view_count": null,
            "_view_module": "@jupyter-widgets/base",
            "_view_module_version": "1.2.0",
            "_view_name": "StyleView",
            "description_width": ""
          }
        },
        "567912b289f940d6abe2a4b003749e03": {
          "model_module": "@jupyter-widgets/base",
          "model_name": "LayoutModel",
          "model_module_version": "1.2.0",
          "state": {
            "_model_module": "@jupyter-widgets/base",
            "_model_module_version": "1.2.0",
            "_model_name": "LayoutModel",
            "_view_count": null,
            "_view_module": "@jupyter-widgets/base",
            "_view_module_version": "1.2.0",
            "_view_name": "LayoutView",
            "align_content": null,
            "align_items": null,
            "align_self": null,
            "border": null,
            "bottom": null,
            "display": null,
            "flex": null,
            "flex_flow": null,
            "grid_area": null,
            "grid_auto_columns": null,
            "grid_auto_flow": null,
            "grid_auto_rows": null,
            "grid_column": null,
            "grid_gap": null,
            "grid_row": null,
            "grid_template_areas": null,
            "grid_template_columns": null,
            "grid_template_rows": null,
            "height": null,
            "justify_content": null,
            "justify_items": null,
            "left": null,
            "margin": null,
            "max_height": null,
            "max_width": null,
            "min_height": null,
            "min_width": null,
            "object_fit": null,
            "object_position": null,
            "order": null,
            "overflow": null,
            "overflow_x": null,
            "overflow_y": null,
            "padding": null,
            "right": null,
            "top": null,
            "visibility": null,
            "width": null
          }
        },
        "6cd4f9caf3924306883339d28bba7b47": {
          "model_module": "@jupyter-widgets/controls",
          "model_name": "ProgressStyleModel",
          "model_module_version": "1.5.0",
          "state": {
            "_model_module": "@jupyter-widgets/controls",
            "_model_module_version": "1.5.0",
            "_model_name": "ProgressStyleModel",
            "_view_count": null,
            "_view_module": "@jupyter-widgets/base",
            "_view_module_version": "1.2.0",
            "_view_name": "StyleView",
            "bar_color": null,
            "description_width": ""
          }
        },
        "253ecaa071b3488e8f6b1267308e6181": {
          "model_module": "@jupyter-widgets/base",
          "model_name": "LayoutModel",
          "model_module_version": "1.2.0",
          "state": {
            "_model_module": "@jupyter-widgets/base",
            "_model_module_version": "1.2.0",
            "_model_name": "LayoutModel",
            "_view_count": null,
            "_view_module": "@jupyter-widgets/base",
            "_view_module_version": "1.2.0",
            "_view_name": "LayoutView",
            "align_content": null,
            "align_items": null,
            "align_self": null,
            "border": null,
            "bottom": null,
            "display": null,
            "flex": null,
            "flex_flow": null,
            "grid_area": null,
            "grid_auto_columns": null,
            "grid_auto_flow": null,
            "grid_auto_rows": null,
            "grid_column": null,
            "grid_gap": null,
            "grid_row": null,
            "grid_template_areas": null,
            "grid_template_columns": null,
            "grid_template_rows": null,
            "height": null,
            "justify_content": null,
            "justify_items": null,
            "left": null,
            "margin": null,
            "max_height": null,
            "max_width": null,
            "min_height": null,
            "min_width": null,
            "object_fit": null,
            "object_position": null,
            "order": null,
            "overflow": null,
            "overflow_x": null,
            "overflow_y": null,
            "padding": null,
            "right": null,
            "top": null,
            "visibility": null,
            "width": null
          }
        },
        "c71ea82f198245c7ac016b6c39d953a8": {
          "model_module": "@jupyter-widgets/controls",
          "model_name": "DescriptionStyleModel",
          "model_module_version": "1.5.0",
          "state": {
            "_model_module": "@jupyter-widgets/controls",
            "_model_module_version": "1.5.0",
            "_model_name": "DescriptionStyleModel",
            "_view_count": null,
            "_view_module": "@jupyter-widgets/base",
            "_view_module_version": "1.2.0",
            "_view_name": "StyleView",
            "description_width": ""
          }
        },
        "2b7c2ea89aa14c56b4a1f3a963021bf6": {
          "model_module": "@jupyter-widgets/controls",
          "model_name": "HBoxModel",
          "model_module_version": "1.5.0",
          "state": {
            "_dom_classes": [],
            "_model_module": "@jupyter-widgets/controls",
            "_model_module_version": "1.5.0",
            "_model_name": "HBoxModel",
            "_view_count": null,
            "_view_module": "@jupyter-widgets/controls",
            "_view_module_version": "1.5.0",
            "_view_name": "HBoxView",
            "box_style": "",
            "children": [
              "IPY_MODEL_5f27622068ee425b92eff01cfce2ab4f",
              "IPY_MODEL_b17802022fd347069e7a13adfaf5bddd",
              "IPY_MODEL_af71b8e289844c398f87be5e099598c3"
            ],
            "layout": "IPY_MODEL_7e41aa44278a48f389156f1b196419bb"
          }
        },
        "5f27622068ee425b92eff01cfce2ab4f": {
          "model_module": "@jupyter-widgets/controls",
          "model_name": "HTMLModel",
          "model_module_version": "1.5.0",
          "state": {
            "_dom_classes": [],
            "_model_module": "@jupyter-widgets/controls",
            "_model_module_version": "1.5.0",
            "_model_name": "HTMLModel",
            "_view_count": null,
            "_view_module": "@jupyter-widgets/controls",
            "_view_module_version": "1.5.0",
            "_view_name": "HTMLView",
            "description": "",
            "description_tooltip": null,
            "layout": "IPY_MODEL_a675fbc878e74c39bd55ad3ce3657847",
            "placeholder": "​",
            "style": "IPY_MODEL_5d27d25c953c461299dc4dee9717fdc0",
            "value": "100%"
          }
        },
        "b17802022fd347069e7a13adfaf5bddd": {
          "model_module": "@jupyter-widgets/controls",
          "model_name": "FloatProgressModel",
          "model_module_version": "1.5.0",
          "state": {
            "_dom_classes": [],
            "_model_module": "@jupyter-widgets/controls",
            "_model_module_version": "1.5.0",
            "_model_name": "FloatProgressModel",
            "_view_count": null,
            "_view_module": "@jupyter-widgets/controls",
            "_view_module_version": "1.5.0",
            "_view_name": "ProgressView",
            "bar_style": "success",
            "description": "",
            "description_tooltip": null,
            "layout": "IPY_MODEL_57c95c9a29a543e198aa30ce00fdffc4",
            "max": 1648877,
            "min": 0,
            "orientation": "horizontal",
            "style": "IPY_MODEL_a07cfb8fb17c476d8988b448a6ce0a5b",
            "value": 1648877
          }
        },
        "af71b8e289844c398f87be5e099598c3": {
          "model_module": "@jupyter-widgets/controls",
          "model_name": "HTMLModel",
          "model_module_version": "1.5.0",
          "state": {
            "_dom_classes": [],
            "_model_module": "@jupyter-widgets/controls",
            "_model_module_version": "1.5.0",
            "_model_name": "HTMLModel",
            "_view_count": null,
            "_view_module": "@jupyter-widgets/controls",
            "_view_module_version": "1.5.0",
            "_view_name": "HTMLView",
            "description": "",
            "description_tooltip": null,
            "layout": "IPY_MODEL_beac7f9ef82b4b4fb40400b28bea34d3",
            "placeholder": "​",
            "style": "IPY_MODEL_addfdbf04a92497fadc72e71a3f3ce54",
            "value": " 1648877/1648877 [00:00&lt;00:00, 38158326.42it/s]"
          }
        },
        "7e41aa44278a48f389156f1b196419bb": {
          "model_module": "@jupyter-widgets/base",
          "model_name": "LayoutModel",
          "model_module_version": "1.2.0",
          "state": {
            "_model_module": "@jupyter-widgets/base",
            "_model_module_version": "1.2.0",
            "_model_name": "LayoutModel",
            "_view_count": null,
            "_view_module": "@jupyter-widgets/base",
            "_view_module_version": "1.2.0",
            "_view_name": "LayoutView",
            "align_content": null,
            "align_items": null,
            "align_self": null,
            "border": null,
            "bottom": null,
            "display": null,
            "flex": null,
            "flex_flow": null,
            "grid_area": null,
            "grid_auto_columns": null,
            "grid_auto_flow": null,
            "grid_auto_rows": null,
            "grid_column": null,
            "grid_gap": null,
            "grid_row": null,
            "grid_template_areas": null,
            "grid_template_columns": null,
            "grid_template_rows": null,
            "height": null,
            "justify_content": null,
            "justify_items": null,
            "left": null,
            "margin": null,
            "max_height": null,
            "max_width": null,
            "min_height": null,
            "min_width": null,
            "object_fit": null,
            "object_position": null,
            "order": null,
            "overflow": null,
            "overflow_x": null,
            "overflow_y": null,
            "padding": null,
            "right": null,
            "top": null,
            "visibility": null,
            "width": null
          }
        },
        "a675fbc878e74c39bd55ad3ce3657847": {
          "model_module": "@jupyter-widgets/base",
          "model_name": "LayoutModel",
          "model_module_version": "1.2.0",
          "state": {
            "_model_module": "@jupyter-widgets/base",
            "_model_module_version": "1.2.0",
            "_model_name": "LayoutModel",
            "_view_count": null,
            "_view_module": "@jupyter-widgets/base",
            "_view_module_version": "1.2.0",
            "_view_name": "LayoutView",
            "align_content": null,
            "align_items": null,
            "align_self": null,
            "border": null,
            "bottom": null,
            "display": null,
            "flex": null,
            "flex_flow": null,
            "grid_area": null,
            "grid_auto_columns": null,
            "grid_auto_flow": null,
            "grid_auto_rows": null,
            "grid_column": null,
            "grid_gap": null,
            "grid_row": null,
            "grid_template_areas": null,
            "grid_template_columns": null,
            "grid_template_rows": null,
            "height": null,
            "justify_content": null,
            "justify_items": null,
            "left": null,
            "margin": null,
            "max_height": null,
            "max_width": null,
            "min_height": null,
            "min_width": null,
            "object_fit": null,
            "object_position": null,
            "order": null,
            "overflow": null,
            "overflow_x": null,
            "overflow_y": null,
            "padding": null,
            "right": null,
            "top": null,
            "visibility": null,
            "width": null
          }
        },
        "5d27d25c953c461299dc4dee9717fdc0": {
          "model_module": "@jupyter-widgets/controls",
          "model_name": "DescriptionStyleModel",
          "model_module_version": "1.5.0",
          "state": {
            "_model_module": "@jupyter-widgets/controls",
            "_model_module_version": "1.5.0",
            "_model_name": "DescriptionStyleModel",
            "_view_count": null,
            "_view_module": "@jupyter-widgets/base",
            "_view_module_version": "1.2.0",
            "_view_name": "StyleView",
            "description_width": ""
          }
        },
        "57c95c9a29a543e198aa30ce00fdffc4": {
          "model_module": "@jupyter-widgets/base",
          "model_name": "LayoutModel",
          "model_module_version": "1.2.0",
          "state": {
            "_model_module": "@jupyter-widgets/base",
            "_model_module_version": "1.2.0",
            "_model_name": "LayoutModel",
            "_view_count": null,
            "_view_module": "@jupyter-widgets/base",
            "_view_module_version": "1.2.0",
            "_view_name": "LayoutView",
            "align_content": null,
            "align_items": null,
            "align_self": null,
            "border": null,
            "bottom": null,
            "display": null,
            "flex": null,
            "flex_flow": null,
            "grid_area": null,
            "grid_auto_columns": null,
            "grid_auto_flow": null,
            "grid_auto_rows": null,
            "grid_column": null,
            "grid_gap": null,
            "grid_row": null,
            "grid_template_areas": null,
            "grid_template_columns": null,
            "grid_template_rows": null,
            "height": null,
            "justify_content": null,
            "justify_items": null,
            "left": null,
            "margin": null,
            "max_height": null,
            "max_width": null,
            "min_height": null,
            "min_width": null,
            "object_fit": null,
            "object_position": null,
            "order": null,
            "overflow": null,
            "overflow_x": null,
            "overflow_y": null,
            "padding": null,
            "right": null,
            "top": null,
            "visibility": null,
            "width": null
          }
        },
        "a07cfb8fb17c476d8988b448a6ce0a5b": {
          "model_module": "@jupyter-widgets/controls",
          "model_name": "ProgressStyleModel",
          "model_module_version": "1.5.0",
          "state": {
            "_model_module": "@jupyter-widgets/controls",
            "_model_module_version": "1.5.0",
            "_model_name": "ProgressStyleModel",
            "_view_count": null,
            "_view_module": "@jupyter-widgets/base",
            "_view_module_version": "1.2.0",
            "_view_name": "StyleView",
            "bar_color": null,
            "description_width": ""
          }
        },
        "beac7f9ef82b4b4fb40400b28bea34d3": {
          "model_module": "@jupyter-widgets/base",
          "model_name": "LayoutModel",
          "model_module_version": "1.2.0",
          "state": {
            "_model_module": "@jupyter-widgets/base",
            "_model_module_version": "1.2.0",
            "_model_name": "LayoutModel",
            "_view_count": null,
            "_view_module": "@jupyter-widgets/base",
            "_view_module_version": "1.2.0",
            "_view_name": "LayoutView",
            "align_content": null,
            "align_items": null,
            "align_self": null,
            "border": null,
            "bottom": null,
            "display": null,
            "flex": null,
            "flex_flow": null,
            "grid_area": null,
            "grid_auto_columns": null,
            "grid_auto_flow": null,
            "grid_auto_rows": null,
            "grid_column": null,
            "grid_gap": null,
            "grid_row": null,
            "grid_template_areas": null,
            "grid_template_columns": null,
            "grid_template_rows": null,
            "height": null,
            "justify_content": null,
            "justify_items": null,
            "left": null,
            "margin": null,
            "max_height": null,
            "max_width": null,
            "min_height": null,
            "min_width": null,
            "object_fit": null,
            "object_position": null,
            "order": null,
            "overflow": null,
            "overflow_x": null,
            "overflow_y": null,
            "padding": null,
            "right": null,
            "top": null,
            "visibility": null,
            "width": null
          }
        },
        "addfdbf04a92497fadc72e71a3f3ce54": {
          "model_module": "@jupyter-widgets/controls",
          "model_name": "DescriptionStyleModel",
          "model_module_version": "1.5.0",
          "state": {
            "_model_module": "@jupyter-widgets/controls",
            "_model_module_version": "1.5.0",
            "_model_name": "DescriptionStyleModel",
            "_view_count": null,
            "_view_module": "@jupyter-widgets/base",
            "_view_module_version": "1.2.0",
            "_view_name": "StyleView",
            "description_width": ""
          }
        },
        "0a1d327abe4345f6b572c89565f93019": {
          "model_module": "@jupyter-widgets/controls",
          "model_name": "HBoxModel",
          "model_module_version": "1.5.0",
          "state": {
            "_dom_classes": [],
            "_model_module": "@jupyter-widgets/controls",
            "_model_module_version": "1.5.0",
            "_model_name": "HBoxModel",
            "_view_count": null,
            "_view_module": "@jupyter-widgets/controls",
            "_view_module_version": "1.5.0",
            "_view_name": "HBoxView",
            "box_style": "",
            "children": [
              "IPY_MODEL_03fa5a6f167b4e2eae15119b9e2831d4",
              "IPY_MODEL_0038b9a7d7fc450a8c33a9bdf19830ef",
              "IPY_MODEL_217173ded8cc4349b0105d5fc463f8d7"
            ],
            "layout": "IPY_MODEL_14f955a3abf24b7b87467d9e5ca7dcd8"
          }
        },
        "03fa5a6f167b4e2eae15119b9e2831d4": {
          "model_module": "@jupyter-widgets/controls",
          "model_name": "HTMLModel",
          "model_module_version": "1.5.0",
          "state": {
            "_dom_classes": [],
            "_model_module": "@jupyter-widgets/controls",
            "_model_module_version": "1.5.0",
            "_model_name": "HTMLModel",
            "_view_count": null,
            "_view_module": "@jupyter-widgets/controls",
            "_view_module_version": "1.5.0",
            "_view_name": "HTMLView",
            "description": "",
            "description_tooltip": null,
            "layout": "IPY_MODEL_045937907a394fc3bb49354dc4051fba",
            "placeholder": "​",
            "style": "IPY_MODEL_e040123e216a4284980e68f5743bbdf6",
            "value": "100%"
          }
        },
        "0038b9a7d7fc450a8c33a9bdf19830ef": {
          "model_module": "@jupyter-widgets/controls",
          "model_name": "FloatProgressModel",
          "model_module_version": "1.5.0",
          "state": {
            "_dom_classes": [],
            "_model_module": "@jupyter-widgets/controls",
            "_model_module_version": "1.5.0",
            "_model_name": "FloatProgressModel",
            "_view_count": null,
            "_view_module": "@jupyter-widgets/controls",
            "_view_module_version": "1.5.0",
            "_view_name": "ProgressView",
            "bar_style": "success",
            "description": "",
            "description_tooltip": null,
            "layout": "IPY_MODEL_ea0550a73d7644d48465314c0f668963",
            "max": 4542,
            "min": 0,
            "orientation": "horizontal",
            "style": "IPY_MODEL_9321c3b7ab1541b7b5cb53e2922c8699",
            "value": 4542
          }
        },
        "217173ded8cc4349b0105d5fc463f8d7": {
          "model_module": "@jupyter-widgets/controls",
          "model_name": "HTMLModel",
          "model_module_version": "1.5.0",
          "state": {
            "_dom_classes": [],
            "_model_module": "@jupyter-widgets/controls",
            "_model_module_version": "1.5.0",
            "_model_name": "HTMLModel",
            "_view_count": null,
            "_view_module": "@jupyter-widgets/controls",
            "_view_module_version": "1.5.0",
            "_view_name": "HTMLView",
            "description": "",
            "description_tooltip": null,
            "layout": "IPY_MODEL_e89d4ac2a1de498197cb1db0716caa81",
            "placeholder": "​",
            "style": "IPY_MODEL_2e5c22f3b3794a5484930e9ad84f65e4",
            "value": " 4542/4542 [00:00&lt;00:00, 195478.25it/s]"
          }
        },
        "14f955a3abf24b7b87467d9e5ca7dcd8": {
          "model_module": "@jupyter-widgets/base",
          "model_name": "LayoutModel",
          "model_module_version": "1.2.0",
          "state": {
            "_model_module": "@jupyter-widgets/base",
            "_model_module_version": "1.2.0",
            "_model_name": "LayoutModel",
            "_view_count": null,
            "_view_module": "@jupyter-widgets/base",
            "_view_module_version": "1.2.0",
            "_view_name": "LayoutView",
            "align_content": null,
            "align_items": null,
            "align_self": null,
            "border": null,
            "bottom": null,
            "display": null,
            "flex": null,
            "flex_flow": null,
            "grid_area": null,
            "grid_auto_columns": null,
            "grid_auto_flow": null,
            "grid_auto_rows": null,
            "grid_column": null,
            "grid_gap": null,
            "grid_row": null,
            "grid_template_areas": null,
            "grid_template_columns": null,
            "grid_template_rows": null,
            "height": null,
            "justify_content": null,
            "justify_items": null,
            "left": null,
            "margin": null,
            "max_height": null,
            "max_width": null,
            "min_height": null,
            "min_width": null,
            "object_fit": null,
            "object_position": null,
            "order": null,
            "overflow": null,
            "overflow_x": null,
            "overflow_y": null,
            "padding": null,
            "right": null,
            "top": null,
            "visibility": null,
            "width": null
          }
        },
        "045937907a394fc3bb49354dc4051fba": {
          "model_module": "@jupyter-widgets/base",
          "model_name": "LayoutModel",
          "model_module_version": "1.2.0",
          "state": {
            "_model_module": "@jupyter-widgets/base",
            "_model_module_version": "1.2.0",
            "_model_name": "LayoutModel",
            "_view_count": null,
            "_view_module": "@jupyter-widgets/base",
            "_view_module_version": "1.2.0",
            "_view_name": "LayoutView",
            "align_content": null,
            "align_items": null,
            "align_self": null,
            "border": null,
            "bottom": null,
            "display": null,
            "flex": null,
            "flex_flow": null,
            "grid_area": null,
            "grid_auto_columns": null,
            "grid_auto_flow": null,
            "grid_auto_rows": null,
            "grid_column": null,
            "grid_gap": null,
            "grid_row": null,
            "grid_template_areas": null,
            "grid_template_columns": null,
            "grid_template_rows": null,
            "height": null,
            "justify_content": null,
            "justify_items": null,
            "left": null,
            "margin": null,
            "max_height": null,
            "max_width": null,
            "min_height": null,
            "min_width": null,
            "object_fit": null,
            "object_position": null,
            "order": null,
            "overflow": null,
            "overflow_x": null,
            "overflow_y": null,
            "padding": null,
            "right": null,
            "top": null,
            "visibility": null,
            "width": null
          }
        },
        "e040123e216a4284980e68f5743bbdf6": {
          "model_module": "@jupyter-widgets/controls",
          "model_name": "DescriptionStyleModel",
          "model_module_version": "1.5.0",
          "state": {
            "_model_module": "@jupyter-widgets/controls",
            "_model_module_version": "1.5.0",
            "_model_name": "DescriptionStyleModel",
            "_view_count": null,
            "_view_module": "@jupyter-widgets/base",
            "_view_module_version": "1.2.0",
            "_view_name": "StyleView",
            "description_width": ""
          }
        },
        "ea0550a73d7644d48465314c0f668963": {
          "model_module": "@jupyter-widgets/base",
          "model_name": "LayoutModel",
          "model_module_version": "1.2.0",
          "state": {
            "_model_module": "@jupyter-widgets/base",
            "_model_module_version": "1.2.0",
            "_model_name": "LayoutModel",
            "_view_count": null,
            "_view_module": "@jupyter-widgets/base",
            "_view_module_version": "1.2.0",
            "_view_name": "LayoutView",
            "align_content": null,
            "align_items": null,
            "align_self": null,
            "border": null,
            "bottom": null,
            "display": null,
            "flex": null,
            "flex_flow": null,
            "grid_area": null,
            "grid_auto_columns": null,
            "grid_auto_flow": null,
            "grid_auto_rows": null,
            "grid_column": null,
            "grid_gap": null,
            "grid_row": null,
            "grid_template_areas": null,
            "grid_template_columns": null,
            "grid_template_rows": null,
            "height": null,
            "justify_content": null,
            "justify_items": null,
            "left": null,
            "margin": null,
            "max_height": null,
            "max_width": null,
            "min_height": null,
            "min_width": null,
            "object_fit": null,
            "object_position": null,
            "order": null,
            "overflow": null,
            "overflow_x": null,
            "overflow_y": null,
            "padding": null,
            "right": null,
            "top": null,
            "visibility": null,
            "width": null
          }
        },
        "9321c3b7ab1541b7b5cb53e2922c8699": {
          "model_module": "@jupyter-widgets/controls",
          "model_name": "ProgressStyleModel",
          "model_module_version": "1.5.0",
          "state": {
            "_model_module": "@jupyter-widgets/controls",
            "_model_module_version": "1.5.0",
            "_model_name": "ProgressStyleModel",
            "_view_count": null,
            "_view_module": "@jupyter-widgets/base",
            "_view_module_version": "1.2.0",
            "_view_name": "StyleView",
            "bar_color": null,
            "description_width": ""
          }
        },
        "e89d4ac2a1de498197cb1db0716caa81": {
          "model_module": "@jupyter-widgets/base",
          "model_name": "LayoutModel",
          "model_module_version": "1.2.0",
          "state": {
            "_model_module": "@jupyter-widgets/base",
            "_model_module_version": "1.2.0",
            "_model_name": "LayoutModel",
            "_view_count": null,
            "_view_module": "@jupyter-widgets/base",
            "_view_module_version": "1.2.0",
            "_view_name": "LayoutView",
            "align_content": null,
            "align_items": null,
            "align_self": null,
            "border": null,
            "bottom": null,
            "display": null,
            "flex": null,
            "flex_flow": null,
            "grid_area": null,
            "grid_auto_columns": null,
            "grid_auto_flow": null,
            "grid_auto_rows": null,
            "grid_column": null,
            "grid_gap": null,
            "grid_row": null,
            "grid_template_areas": null,
            "grid_template_columns": null,
            "grid_template_rows": null,
            "height": null,
            "justify_content": null,
            "justify_items": null,
            "left": null,
            "margin": null,
            "max_height": null,
            "max_width": null,
            "min_height": null,
            "min_width": null,
            "object_fit": null,
            "object_position": null,
            "order": null,
            "overflow": null,
            "overflow_x": null,
            "overflow_y": null,
            "padding": null,
            "right": null,
            "top": null,
            "visibility": null,
            "width": null
          }
        },
        "2e5c22f3b3794a5484930e9ad84f65e4": {
          "model_module": "@jupyter-widgets/controls",
          "model_name": "DescriptionStyleModel",
          "model_module_version": "1.5.0",
          "state": {
            "_model_module": "@jupyter-widgets/controls",
            "_model_module_version": "1.5.0",
            "_model_name": "DescriptionStyleModel",
            "_view_count": null,
            "_view_module": "@jupyter-widgets/base",
            "_view_module_version": "1.2.0",
            "_view_name": "StyleView",
            "description_width": ""
          }
        }
      }
    }
  },
  "nbformat": 4,
  "nbformat_minor": 0
}